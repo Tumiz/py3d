{
 "nbformat": 4,
 "nbformat_minor": 2,
 "metadata": {
  "language_info": {
   "name": "python",
   "codemirror_mode": {
    "name": "ipython",
    "version": 3
   }
  },
  "orig_nbformat": 2,
  "file_extension": ".py",
  "mimetype": "text/x-python",
  "name": "python",
  "npconvert_exporter": "python",
  "pygments_lexer": "ipython3",
  "version": 3
 },
 "cells": [
  {
   "cell_type": "markdown",
   "metadata": {},
   "source": [
    "# Features\n",
    "* Simple 3d physics engine\n",
    "* tiny 2D rendering\n",
    "* smooth 3D rendering\n",
    "* no ipc in simulation loop, python environment, python agent or C++ agent. Providing APIs to include C++ agent as a python libary\n",
    "* simulation without rendering"
   ]
  },
  {
   "cell_type": "markdown",
   "metadata": {},
   "source": [
    "# Target Users\n",
    "* Students or engineers who want to test their algrithms in cases\n",
    "* For small companies\n",
    "* For unit test\n",
    "* For proto design"
   ]
  },
  {
   "cell_type": "code",
   "execution_count": null,
   "metadata": {},
   "outputs": [],
   "source": []
  }
 ]
}