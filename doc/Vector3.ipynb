{
 "cells": [
  {
   "cell_type": "markdown",
   "metadata": {},
   "source": [
    "*Copyright (c) Tumiz. Distributed under the terms of the GPL-3.0 License.*"
   ]
  },
  {
   "cell_type": "markdown",
   "metadata": {},
   "source": [
    "# Vector3 --Type for position, velocity & scale"
   ]
  },
  {
   "cell_type": "markdown",
   "metadata": {},
   "source": [
    "**Vector3** represents point or position, velocity and scale. Note! Angular velocity cant be represented by this type, it should be represented by Rotation3 which will indroduced in next section. It is a class inheriting numpy.ndarray, so it is also ndarray."
   ]
  },
  {
   "cell_type": "markdown",
   "metadata": {},
   "source": [
    "## Defination"
   ]
  },
  {
   "cell_type": "code",
   "execution_count": 1,
   "metadata": {},
   "outputs": [
    {
     "data": {
      "text/plain": [
       "Vector3([1., 2., 3.])"
      ]
     },
     "execution_count": 1,
     "metadata": {},
     "output_type": "execute_result"
    }
   ],
   "source": [
    "from scenario import Vector3\n",
    "Vector3(1,2,3)"
   ]
  },
  {
   "cell_type": "code",
   "execution_count": 2,
   "metadata": {},
   "outputs": [
    {
     "data": {
      "text/plain": [
       "Vector3([1., 2., 3.])"
      ]
     },
     "execution_count": 2,
     "metadata": {},
     "output_type": "execute_result"
    }
   ],
   "source": [
    "Vector3([1,2,3])"
   ]
  },
  {
   "cell_type": "code",
   "execution_count": 3,
   "metadata": {},
   "outputs": [
    {
     "data": {
      "text/plain": [
       "Vector3([1., 2., 3.])"
      ]
     },
     "execution_count": 3,
     "metadata": {},
     "output_type": "execute_result"
    }
   ],
   "source": [
    "Vector3((1,2,3))"
   ]
  },
  {
   "cell_type": "code",
   "execution_count": 3,
   "metadata": {},
   "outputs": [
    {
     "data": {
      "text/plain": [
       "(True, 139848129879504, 139848699092880)"
      ]
     },
     "execution_count": 3,
     "metadata": {},
     "output_type": "execute_result"
    }
   ],
   "source": [
    "from scenario import Vector3\n",
    "from numpy import array\n",
    "a=Vector3(array([1,2,3]))\n",
    "b=Vector3(a)\n",
    "a==b,id(a),id(b)"
   ]
  },
  {
   "cell_type": "markdown",
   "metadata": {},
   "source": [
    "## Add"
   ]
  },
  {
   "cell_type": "code",
   "execution_count": 5,
   "metadata": {},
   "outputs": [
    {
     "data": {
      "text/plain": [
       "Vector3([0., 0., 0.])"
      ]
     },
     "execution_count": 5,
     "metadata": {},
     "output_type": "execute_result"
    }
   ],
   "source": [
    "Vector3(1,2,3)+Vector3(-1,-2,-3)"
   ]
  },
  {
   "cell_type": "markdown",
   "metadata": {},
   "source": [
    "## Subtract"
   ]
  },
  {
   "cell_type": "code",
   "execution_count": 6,
   "metadata": {},
   "outputs": [
    {
     "data": {
      "text/plain": [
       "Vector3([2., 4., 6.])"
      ]
     },
     "execution_count": 6,
     "metadata": {},
     "output_type": "execute_result"
    }
   ],
   "source": [
    "Vector3(1,2,3)-Vector3(-1,-2,-3)"
   ]
  },
  {
   "cell_type": "markdown",
   "metadata": {},
   "source": [
    "## Multiply"
   ]
  },
  {
   "cell_type": "markdown",
   "metadata": {},
   "source": [
    "### Multiply a number"
   ]
  },
  {
   "cell_type": "code",
   "execution_count": 7,
   "metadata": {},
   "outputs": [
    {
     "data": {
      "text/plain": [
       "Vector3([ 3., -6.,  9.])"
      ]
     },
     "execution_count": 7,
     "metadata": {},
     "output_type": "execute_result"
    }
   ],
   "source": [
    "Vector3(1,-2,3)*3"
   ]
  },
  {
   "cell_type": "markdown",
   "metadata": {},
   "source": [
    "### Multiply element by element\n",
    "support multiplication between Vector3,Numpy.ndarray,list and tuple."
   ]
  },
  {
   "cell_type": "code",
   "execution_count": 8,
   "metadata": {},
   "outputs": [
    {
     "data": {
      "text/plain": [
       "(Vector3([1., 2., 9.]),\n",
       " Vector3([1., 2., 9.]),\n",
       " Vector3([1., 2., 9.]),\n",
       " Vector3([1., 2., 9.]),\n",
       " Vector3([1., 2., 9.]))"
      ]
     },
     "execution_count": 8,
     "metadata": {},
     "output_type": "execute_result"
    }
   ],
   "source": [
    "from scenario import Vector3\n",
    "Vector3(1,-2,3)*Vector3(1,-1,3),\\\n",
    "Vector3(1,-2,3)*array([1,-1,3]),\\\n",
    "array([1,-1,3])*Vector3(1,-2,3),\\\n",
    "Vector3(1,-1,3)*[1,-2,3],\\\n",
    "(1,-1,3)*Vector3(1,-2,3)"
   ]
  },
  {
   "cell_type": "markdown",
   "metadata": {},
   "source": [
    "### Dot product\n",
    "Two vectors' dot product can be used to calculate angle between them. If angle \n",
    " \n",
    "$\\bf{a}\\cdot\\bf{b}=|\\bf{a}|\\cdot|\\bf{b}|\\cdot cos\\theta$\n",
    "\n",
    "$\\bf{a}\\cdot\\bf{b}=\\bf{b}\\cdot\\bf{a}$\n",
    "\n",
    "*.dot(Vector3):Vector3*\n",
    "\n",
    "dot() will return a new Vector3, the original one wont be changed"
   ]
  },
  {
   "cell_type": "code",
   "execution_count": 12,
   "metadata": {},
   "outputs": [
    {
     "name": "stdout",
     "output_type": "stream",
     "text": [
      "3.7416573867739413 4.123105625617661 -0.7130240959073809\n",
      "-11.000000000000002 -11.0\n"
     ]
    }
   ],
   "source": [
    "from scenario import Vector3,cos\n",
    "a=Vector3(1,-2,3)\n",
    "b=Vector3(0,4,-1)\n",
    "product=a.dot(b) # dot product\n",
    "theta=a.angle_to(b)\n",
    "print(a.length(),b.length(),cos(theta))\n",
    "print(a.length()*b.length()*cos(theta),product)"
   ]
  },
  {
   "cell_type": "code",
   "execution_count": 14,
   "metadata": {},
   "outputs": [
    {
     "data": {
      "text/plain": [
       "True"
      ]
     },
     "execution_count": 14,
     "metadata": {},
     "output_type": "execute_result"
    }
   ],
   "source": [
    "a.dot(b)==b.dot(a)"
   ]
  },
  {
   "cell_type": "markdown",
   "metadata": {},
   "source": [
    "### Cross product\n",
    "\n",
    "$ \\bf{a}\\times\\bf{b}=|\\bf{a}|\\cdot|\\bf{b}|\\cdot sin\\theta$\n",
    "\n",
    "$\\bf{a}\\times\\bf{b}=-\\bf{b}\\times\\bf{a}$\n",
    "```python\n",
    ".cross(Vector3):Vector3\n",
    "```\n",
    "cross() will return a new Vector3, the original one wont be changed."
   ]
  },
  {
   "cell_type": "code",
   "execution_count": 18,
   "metadata": {},
   "outputs": [
    {
     "data": {
      "text/plain": [
       "(Vector3([ 6., -3., -1.]), Vector3([-6.,  3.,  1.]))"
      ]
     },
     "execution_count": 18,
     "metadata": {},
     "output_type": "execute_result"
    }
   ],
   "source": [
    "from scenario import Vector3\n",
    "a=Vector3(1,2,0)\n",
    "b=Vector3(0,-1,3)\n",
    "a.cross(b),b.cross(a) # cross product"
   ]
  },
  {
   "cell_type": "markdown",
   "metadata": {},
   "source": [
    "array([1,2,0]).cross(Vector3(0,-1,3)) is not allowed since numpy.ndarray has no such a function to do cross product. But you can do it by a global function numpy.cross(array1, array2) like this"
   ]
  },
  {
   "cell_type": "code",
   "execution_count": 12,
   "metadata": {},
   "outputs": [
    {
     "data": {
      "text/plain": [
       "array([ 6., -3., -1.])"
      ]
     },
     "execution_count": 12,
     "metadata": {},
     "output_type": "execute_result"
    }
   ],
   "source": [
    "from numpy import cross,array\n",
    "from scenario import Vector3\n",
    "cross(array([1,2,0]), Vector3(0,-1,3))"
   ]
  },
  {
   "cell_type": "markdown",
   "metadata": {},
   "source": [
    "Have a look to see the origin vectors and the product vector"
   ]
  },
  {
   "cell_type": "code",
   "execution_count": 7,
   "metadata": {},
   "outputs": [],
   "source": [
    "from scenario import Vector3,Vector,Scenario\n",
    "scene=Scenario(\"Vector3\")\n",
    "v1=Vector(Vector3(1,2,0))\n",
    "v2=Vector(Vector3(0,-1,3))\n",
    "vp=Vector(Vector3(1,2,0).cross(Vector3(0,-1,3)))\n",
    "scene.add(v1,v2,vp)\n",
    "scene.render()"
   ]
  },
  {
   "cell_type": "markdown",
   "metadata": {},
   "source": [
    "## Divide"
   ]
  },
  {
   "cell_type": "markdown",
   "metadata": {},
   "source": [
    "### Divide by scalar"
   ]
  },
  {
   "cell_type": "code",
   "execution_count": 14,
   "metadata": {},
   "outputs": [
    {
     "data": {
      "text/plain": [
       "Vector3([0.33333333, 0.66666667, 1.        ])"
      ]
     },
     "execution_count": 14,
     "metadata": {},
     "output_type": "execute_result"
    }
   ],
   "source": [
    "from scenario import Vector3\n",
    "Vector3(1,2,3)/3"
   ]
  },
  {
   "cell_type": "markdown",
   "metadata": {},
   "source": [
    "### Divide by vector"
   ]
  },
  {
   "cell_type": "code",
   "execution_count": 15,
   "metadata": {},
   "outputs": [
    {
     "data": {
      "text/plain": [
       "Vector3([1., 1., 1.])"
      ]
     },
     "execution_count": 15,
     "metadata": {},
     "output_type": "execute_result"
    }
   ],
   "source": [
    "from scenario import Vector3\n",
    "Vector3(1,2,3)/Vector3(1,2,3)"
   ]
  },
  {
   "cell_type": "markdown",
   "metadata": {},
   "source": [
    "### Divide by Numpy.ndarray, list and tuple\n",
    "Vector3 is divided element by element"
   ]
  },
  {
   "cell_type": "code",
   "execution_count": 16,
   "metadata": {},
   "outputs": [
    {
     "data": {
      "text/plain": [
       "(Vector3([1., 1., 1.]), Vector3([1., 1., 1.]), Vector3([1., 1., 1.]))"
      ]
     },
     "execution_count": 16,
     "metadata": {},
     "output_type": "execute_result"
    }
   ],
   "source": [
    "from scenario import Vector3\n",
    "from numpy import array\n",
    "Vector3(1,2,3)/array([1,2,3]), Vector3(1,2,3)/[1,2,3], Vector3(1,2,3)/(1,2,3)"
   ]
  },
  {
   "cell_type": "markdown",
   "metadata": {},
   "source": [
    "## Compare"
   ]
  },
  {
   "cell_type": "code",
   "execution_count": 17,
   "metadata": {},
   "outputs": [
    {
     "name": "stdout",
     "output_type": "stream",
     "text": [
      "True False True\n"
     ]
    }
   ],
   "source": [
    "from scenario import *\n",
    "a=Vector3(1,0,0.7)\n",
    "b=Vector3(1.0,0.,0.7)\n",
    "c=Vector3(1.1,0,0.7)\n",
    "print(a==b,b==c,a!=c)"
   ]
  },
  {
   "cell_type": "markdown",
   "metadata": {},
   "source": [
    "## Angle\n",
    "```python\n",
    ".angle_to(Vector3):Vector3\n",
    "```   \n",
    "It will return the angle (in radian) between two vector. The angle is always positive and smaller than $\\pi$."
   ]
  },
  {
   "cell_type": "code",
   "execution_count": 29,
   "metadata": {},
   "outputs": [
    {
     "data": {
      "text/plain": [
       "(1.6704649792860586, 1.6704649792860586)"
      ]
     },
     "execution_count": 29,
     "metadata": {},
     "output_type": "execute_result"
    }
   ],
   "source": [
    "from scenario import Vector3, pi\n",
    "v1=Vector3(1,-0.1,0)\n",
    "v2=Vector3(0,1,0)\n",
    "v1.angle_to(v2),v2.angle_to(v1)"
   ]
  },
  {
   "cell_type": "markdown",
   "metadata": {},
   "source": [
    "## Rotation\n",
    "\n",
    "**.rotation_to(v)** will return axis-angle tuple representing the rotation from this vector to another"
   ]
  },
  {
   "cell_type": "code",
   "execution_count": 17,
   "metadata": {},
   "outputs": [
    {
     "data": {
      "text/plain": [
       "((Vector3([-0.,  0.,  1.]), 1.6704649792860586),\n",
       " (Vector3([ 0.,  0., -1.]), 1.6704649792860586))"
      ]
     },
     "execution_count": 17,
     "metadata": {},
     "output_type": "execute_result"
    }
   ],
   "source": [
    "from scenario import Vector3\n",
    "v1=Vector3(1,-0.1,0)\n",
    "v2=Vector3(0,1,0)\n",
    "v1.rotation_to(v2),v2.rotation_to(v1)"
   ]
  },
  {
   "cell_type": "markdown",
   "metadata": {},
   "source": [
    "## Perpendicular\n",
    "\n",
    "$\\bf{a}\\perp\\bf{b}\\Rightarrow\\bf{a}\\cdot\\bf{b}=0$\n",
    "\n",
    "$\\bf{a}\\perp\\bf{b}\\Rightarrow<\\bf{a},\\bf{b}>=\\pi/2$"
   ]
  },
  {
   "cell_type": "code",
   "execution_count": 16,
   "metadata": {},
   "outputs": [
    {
     "data": {
      "text/plain": [
       "(True, 1.5707963267948966)"
      ]
     },
     "execution_count": 16,
     "metadata": {},
     "output_type": "execute_result"
    }
   ],
   "source": [
    "from scenario import Vector3\n",
    "a=Vector3(0,1,1)\n",
    "b=Vector3(1,0,0)\n",
    "a.perpendicular_to(b), a.angle_to(b)"
   ]
  },
  {
   "cell_type": "markdown",
   "metadata": {},
   "source": [
    "## Area\n",
    "```python\n",
    ".area(Vector3):float\n",
    "```\n",
    "It will return area of triangle constucted by two vectors.\n",
    "```python\n",
    ".area(Vector3,Vector3):float\n",
    "```\n",
    "It will return area of triangle constructed by three points."
   ]
  },
  {
   "cell_type": "code",
   "execution_count": 5,
   "metadata": {},
   "outputs": [
    {
     "data": {
      "text/plain": [
       "(3.605551275463989, 4.69041575982343)"
      ]
     },
     "execution_count": 5,
     "metadata": {},
     "output_type": "execute_result"
    }
   ],
   "source": [
    "from scenario import Vector3\n",
    "a=Vector3(1,2,3)\n",
    "b=Vector3(1,0,0)\n",
    "c=Vector3(0,1,0)\n",
    "a.area(b),a.area(b,c)"
   ]
  },
  {
   "cell_type": "markdown",
   "metadata": {},
   "source": [
    "## Length, Norm"
   ]
  },
  {
   "cell_type": "code",
   "execution_count": 18,
   "metadata": {},
   "outputs": [
    {
     "data": {
      "text/plain": [
       "3.7416573867739413"
      ]
     },
     "execution_count": 18,
     "metadata": {},
     "output_type": "execute_result"
    }
   ],
   "source": [
    "from scenario import Vector3\n",
    "Vector3(1,2,3).length()"
   ]
  },
  {
   "cell_type": "markdown",
   "metadata": {},
   "source": [
    "You can use this function to calculate distance between two points."
   ]
  },
  {
   "cell_type": "code",
   "execution_count": 19,
   "metadata": {},
   "outputs": [
    {
     "name": "stdout",
     "output_type": "stream",
     "text": [
      "86.08135686662938\n"
     ]
    }
   ],
   "source": [
    "point1=Vector3(1,2,3)\n",
    "point2=Vector3(-10,87,11)\n",
    "distance=(point1-point2).length()\n",
    "print(distance)"
   ]
  },
  {
   "cell_type": "markdown",
   "metadata": {},
   "source": [
    "## Normalize\n",
    "**normalize()**, normalize a vector, the original vector will be changed to a unit vector (direction vector)\n",
    "\n",
    "<font color=\"red\">*! Zero vector can not be normalized*</font>"
   ]
  },
  {
   "cell_type": "code",
   "execution_count": 20,
   "metadata": {},
   "outputs": [
    {
     "data": {
      "text/plain": [
       "Vector3([0.26726124, 0.53452248, 0.80178373])"
      ]
     },
     "execution_count": 20,
     "metadata": {},
     "output_type": "execute_result"
    }
   ],
   "source": [
    "from scenario import Vector3\n",
    "v=Vector3(1,2,3)\n",
    "v.normalize()\n",
    "v"
   ]
  },
  {
   "cell_type": "markdown",
   "metadata": {},
   "source": [
    "**normalized()**, get a new vector, which is the unit vector of the origin"
   ]
  },
  {
   "cell_type": "code",
   "execution_count": null,
   "metadata": {},
   "outputs": [],
   "source": [
    "from scenario import Vector3\n",
    "v=Vector3(1,2,3)\n",
    "v.normalized(),v"
   ]
  },
  {
   "cell_type": "code",
   "execution_count": null,
   "metadata": {},
   "outputs": [],
   "source": [
    "from scenario import Vector3\n",
    "v=Vector3()\n",
    "v.normalized(),v"
   ]
  },
  {
   "cell_type": "markdown",
   "metadata": {},
   "source": [
    "## Deep copy\n",
    ".clone() will return deep copy of origin vector, and their value are equal."
   ]
  },
  {
   "cell_type": "code",
   "execution_count": null,
   "metadata": {},
   "outputs": [],
   "source": [
    "from scenario import Vector3\n",
    "a=Vector3(1,2,3)\n",
    "b=a\n",
    "c=a.clone() # deep copy\n",
    "id(a),id(b),id(c), a==c"
   ]
  },
  {
   "cell_type": "code",
   "execution_count": null,
   "metadata": {},
   "outputs": [],
   "source": []
  }
 ],
 "metadata": {
  "kernelspec": {
   "display_name": "Python 3.8.3 64-bit ('base': conda)",
   "language": "python",
   "name": "python38364bitbaseconda12a7320e90d14a8ab1ae06e7922a6e0c"
  },
  "language_info": {
   "codemirror_mode": {
    "name": "ipython",
    "version": 3
   },
   "file_extension": ".py",
   "mimetype": "text/x-python",
   "name": "python",
   "nbconvert_exporter": "python",
   "pygments_lexer": "ipython3",
   "version": "3.8.3"
  }
 },
 "nbformat": 4,
 "nbformat_minor": 4
}
