{
 "cells": [
  {
   "cell_type": "markdown",
   "metadata": {},
   "source": [
    "*Copyright (c) Tumiz. Distributed under the terms of the GPL-3.0 License.*"
   ]
  },
  {
   "cell_type": "markdown",
   "metadata": {},
   "source": [
    "# Vector3 --Type for position, velocity & scale"
   ]
  },
  {
   "cell_type": "markdown",
   "metadata": {},
   "source": [
    "**Vector3** represents point or position, velocity and scale. Note! Angular velocity cant be represented by this type, it should be represented by Rotation3 which will indroduced in next section. It is a class inheriting numpy.ndarray, so it is also ndarray."
   ]
  },
  {
   "cell_type": "markdown",
   "metadata": {},
   "source": [
    "## Defination\n",
    "\n",
    "```python\n",
    "Vector3(x:int|float|list|tuple|ndarray,y:int|float,z:int|float,n:int):Vector3\n",
    "```   \n",
    "Vector3 can be a vector or a collection of vectors. "
   ]
  },
  {
   "cell_type": "code",
   "execution_count": 17,
   "metadata": {},
   "outputs": [
    {
     "data": {
      "text/plain": [
       "(Vector3([1., 2., 3.]),\n",
       " Vector3([1., 2., 3.]),\n",
       " Vector3([1., 2., 3.]),\n",
       " Vector3([1., 2., 3.]),\n",
       " Vector3([[1., 2., 3.],\n",
       "          [1., 2., 3.],\n",
       "          [1., 2., 3.],\n",
       "          [1., 2., 3.]]))"
      ]
     },
     "execution_count": 17,
     "metadata": {},
     "output_type": "execute_result"
    }
   ],
   "source": [
    "from scenario import Vector3, array\n",
    "a=Vector3(1,2,3)\n",
    "b=Vector3([1,2,3])\n",
    "c=Vector3((1,2,3))\n",
    "d=Vector3(array([1,2,3]))\n",
    "e=Vector3(1,2,3,4)\n",
    "a,b,c,d,e"
   ]
  },
  {
   "cell_type": "markdown",
   "metadata": {},
   "source": [
    "```python\n",
    "Vector3.Rand(n:int):Vector3\n",
    "```\n",
    "Return a random vector or a collection of random vectors.\n",
    "```python\n",
    "Vector3.Zeros(n:int):Vector3\n",
    "```\n",
    "Return a zero vector or a collection of zero vectors.\n",
    "```python\n",
    "Vector3.Ones(n:int):Vector3\n",
    "```\n",
    "Return a vector or a collection of vectors filled with 1"
   ]
  },
  {
   "cell_type": "code",
   "execution_count": 2,
   "metadata": {},
   "outputs": [
    {
     "data": {
      "text/plain": [
       "(Vector3([[0.03078946, 0.04976594, 0.16611414],\n",
       "          [0.41031807, 0.76774877, 0.52194546],\n",
       "          [0.03725306, 0.59984324, 0.76587958],\n",
       "          [0.03849033, 0.73863401, 0.33027205]]),\n",
       " Vector3([[0., 0., 0.],\n",
       "          [0., 0., 0.],\n",
       "          [0., 0., 0.],\n",
       "          [0., 0., 0.]]),\n",
       " Vector3([[1., 1., 1.],\n",
       "          [1., 1., 1.],\n",
       "          [1., 1., 1.],\n",
       "          [1., 1., 1.]]))"
      ]
     },
     "execution_count": 2,
     "metadata": {},
     "output_type": "execute_result"
    }
   ],
   "source": [
    "from scenario import Vector3\n",
    "Vector3.Rand(4),Vector3.Zeros(4),Vector3.Ones(4)"
   ]
  },
  {
   "cell_type": "code",
   "execution_count": 3,
   "metadata": {},
   "outputs": [
    {
     "data": {
      "text/plain": [
       "(Vector3([[1., 2., 3.],\n",
       "          [4., 5., 6.],\n",
       "          [7., 8., 9.]]),\n",
       " Vector3([[1., 2., 3.],\n",
       "          [4., 5., 6.],\n",
       "          [7., 8., 9.]]))"
      ]
     },
     "execution_count": 3,
     "metadata": {},
     "output_type": "execute_result"
    }
   ],
   "source": [
    "from scenario import Vector3\n",
    "Vector3([1,2,3,4,5,6,7,8,9]),Vector3([[1,2,3],[4,5,6],[7,8,9]])"
   ]
  },
  {
   "cell_type": "code",
   "execution_count": 4,
   "metadata": {},
   "outputs": [
    {
     "data": {
      "text/plain": [
       "(Vector3([[1., 2., 3.],\n",
       "          [1., 2., 3.],\n",
       "          [1., 2., 3.],\n",
       "          [1., 2., 3.],\n",
       "          [1., 2., 3.]]),\n",
       " Vector3([[0., 1., 0.],\n",
       "          [0., 1., 0.],\n",
       "          [0., 1., 0.],\n",
       "          [0., 1., 0.]]),\n",
       " Vector3([[1., 0., 0.],\n",
       "          [1., 0., 0.],\n",
       "          [1., 0., 0.],\n",
       "          [1., 0., 0.],\n",
       "          [1., 0., 0.],\n",
       "          [1., 0., 0.]]))"
      ]
     },
     "execution_count": 4,
     "metadata": {},
     "output_type": "execute_result"
    }
   ],
   "source": [
    "from scenario import Vector3\n",
    "Vector3(1,2,3,5),Vector3(y=1,n=4),Vector3(x=1,n=6)"
   ]
  },
  {
   "cell_type": "code",
   "execution_count": 5,
   "metadata": {},
   "outputs": [
    {
     "data": {
      "text/plain": [
       "(array(True), 140253768122256, 140253768278416)"
      ]
     },
     "execution_count": 5,
     "metadata": {},
     "output_type": "execute_result"
    }
   ],
   "source": [
    "from scenario import Vector3\n",
    "from numpy import array\n",
    "a=Vector3(array([1,2,3]))\n",
    "b=Vector3(a)\n",
    "a==b,id(a),id(b)"
   ]
  },
  {
   "cell_type": "markdown",
   "metadata": {},
   "source": [
    "## Deep copy\n",
    "```python\n",
    ".copy()\n",
    "```\n",
    "It will return deep copy of origin vector, and their value are equal."
   ]
  },
  {
   "cell_type": "code",
   "execution_count": 15,
   "metadata": {},
   "outputs": [
    {
     "data": {
      "text/plain": [
       "(139662784244416, 139662784244416, 139662784244528, True)"
      ]
     },
     "execution_count": 15,
     "metadata": {},
     "output_type": "execute_result"
    }
   ],
   "source": [
    "from scenario import Vector3\n",
    "a=Vector3(1,2,3)\n",
    "b=a\n",
    "c=a.copy() # deep copy\n",
    "id(a),id(b),id(c), a==c"
   ]
  },
  {
   "cell_type": "code",
   "execution_count": 6,
   "metadata": {},
   "outputs": [
    {
     "name": "stdout",
     "output_type": "stream",
     "text": [
      "[[1.30765602]\n",
      " [1.28858083]\n",
      " [0.84143722]\n",
      " [0.58947925]\n",
      " [1.12514787]]\n"
     ]
    },
    {
     "data": {
      "text/plain": [
       "array([[ True],\n",
       "       [ True],\n",
       "       [ True],\n",
       "       [ True],\n",
       "       [ True]])"
      ]
     },
     "execution_count": 6,
     "metadata": {},
     "output_type": "execute_result"
    }
   ],
   "source": [
    "from scenario import Vector3\n",
    "points=Vector3.Rand(5)\n",
    "print(points.norm())\n",
    "points_copy=points.copy()\n",
    "points==points_copy"
   ]
  },
  {
   "cell_type": "markdown",
   "metadata": {},
   "source": [
    "## Modify"
   ]
  },
  {
   "cell_type": "code",
   "execution_count": 14,
   "metadata": {},
   "outputs": [
    {
     "data": {
      "text/plain": [
       "Vector3([[1., 2., 3.],\n",
       "         [1., 2., 3.],\n",
       "         [1., 2., 3.],\n",
       "         [1., 2., 3.]])"
      ]
     },
     "execution_count": 14,
     "metadata": {},
     "output_type": "execute_result"
    }
   ],
   "source": [
    "from scenario import Vector3\n",
    "points=Vector3(1,2,3,4)\n",
    "points"
   ]
  },
  {
   "cell_type": "code",
   "execution_count": 15,
   "metadata": {},
   "outputs": [
    {
     "data": {
      "text/plain": [
       "Vector3([[ 1.,  2.,  3.],\n",
       "         [ 1.,  2.,  3.],\n",
       "         [-1., -2., -3.],\n",
       "         [ 1.,  2.,  3.]])"
      ]
     },
     "execution_count": 15,
     "metadata": {},
     "output_type": "execute_result"
    }
   ],
   "source": [
    "points[2]=Vector3(-1,-2,-3)\n",
    "points"
   ]
  },
  {
   "cell_type": "code",
   "execution_count": 16,
   "metadata": {},
   "outputs": [
    {
     "data": {
      "text/plain": [
       "Vector3([[ 1.,  1.,  1.],\n",
       "         [ 1.,  1.,  1.],\n",
       "         [-1., -2., -3.],\n",
       "         [ 1.,  2.,  3.]])"
      ]
     },
     "execution_count": 16,
     "metadata": {},
     "output_type": "execute_result"
    }
   ],
   "source": [
    "points[0:2]=Vector3.Ones(2)\n",
    "points"
   ]
  },
  {
   "cell_type": "markdown",
   "metadata": {},
   "source": [
    "## Reverse\n",
    "```python\n",
    ".reverse():None\n",
    "```"
   ]
  },
  {
   "cell_type": "code",
   "execution_count": 1,
   "metadata": {},
   "outputs": [
    {
     "name": "stdout",
     "output_type": "stream",
     "text": [
      "[[0.97036197 0.88886582 0.37414525]\n",
      " [0.65368055 0.70218197 0.60400686]\n",
      " [0.93525918 0.0920084  0.69324471]]\n",
      "[[0.93525918 0.0920084  0.69324471]\n",
      " [0.65368055 0.70218197 0.60400686]\n",
      " [0.97036197 0.88886582 0.37414525]]\n"
     ]
    },
    {
     "data": {
      "text/plain": [
       "Vector3([[0.97036197, 0.88886582, 0.37414525],\n",
       "         [0.65368055, 0.70218197, 0.60400686],\n",
       "         [0.93525918, 0.0920084 , 0.69324471]])"
      ]
     },
     "execution_count": 1,
     "metadata": {},
     "output_type": "execute_result"
    }
   ],
   "source": [
    "from scenario import *\n",
    "a=Vector3.Rand(3)\n",
    "print(a)\n",
    "a.reverse()\n",
    "print(a)\n",
    "a.reversed()"
   ]
  },
  {
   "cell_type": "markdown",
   "metadata": {},
   "source": [
    "## Render\n",
    "```python\n",
    ".render():None\n",
    "```\n",
    "Draw the vector or vectors to show it in a 3d space"
   ]
  },
  {
   "cell_type": "code",
   "execution_count": 7,
   "metadata": {},
   "outputs": [
    {
     "name": "stdout",
     "output_type": "stream",
     "text": [
      "open http://localhost:8000/view/default\n"
     ]
    }
   ],
   "source": [
    "from scenario import Vector3, Scenario\n",
    "for i in range(100):\n",
    "    Vector3.Rand(10).render(False)"
   ]
  },
  {
   "cell_type": "markdown",
   "metadata": {},
   "source": [
    "## Add"
   ]
  },
  {
   "cell_type": "code",
   "execution_count": 8,
   "metadata": {},
   "outputs": [
    {
     "data": {
      "text/plain": [
       "Vector3([3., 5., 7.])"
      ]
     },
     "execution_count": 8,
     "metadata": {},
     "output_type": "execute_result"
    }
   ],
   "source": [
    "from scenario import Vector3\n",
    "Vector3(1,2,3)+Vector3(2,3,4)"
   ]
  },
  {
   "cell_type": "code",
   "execution_count": 9,
   "metadata": {},
   "outputs": [
    {
     "data": {
      "text/plain": [
       "Vector3([[1., 1., 1.],\n",
       "         [1., 1., 1.],\n",
       "         [1., 1., 1.]])"
      ]
     },
     "execution_count": 9,
     "metadata": {},
     "output_type": "execute_result"
    }
   ],
   "source": [
    "from scenario import Vector3\n",
    "Vector3.Zeros(3)+Vector3.Ones(3)"
   ]
  },
  {
   "cell_type": "code",
   "execution_count": 10,
   "metadata": {},
   "outputs": [
    {
     "data": {
      "text/plain": [
       "Vector3([[ 2.,  0., -1.],\n",
       "         [-1.,  4.,  2.],\n",
       "         [10., 13., 15.],\n",
       "         [ 8.,  8.,  5.]])"
      ]
     },
     "execution_count": 10,
     "metadata": {},
     "output_type": "execute_result"
    }
   ],
   "source": [
    "from scenario import Vector3\n",
    "a=Vector3([1,2,3,4,5,6,7,8,9,-1,-2,-3])\n",
    "b=Vector3([1,-2,-4,-5,-1,-4,3,5,6,9,10,8])\n",
    "a+b"
   ]
  },
  {
   "cell_type": "markdown",
   "metadata": {},
   "source": [
    "## Subtract"
   ]
  },
  {
   "cell_type": "code",
   "execution_count": 11,
   "metadata": {},
   "outputs": [
    {
     "data": {
      "text/plain": [
       "Vector3([2., 4., 6.])"
      ]
     },
     "execution_count": 11,
     "metadata": {},
     "output_type": "execute_result"
    }
   ],
   "source": [
    "Vector3(1,2,3)-Vector3(-1,-2,-3)"
   ]
  },
  {
   "cell_type": "code",
   "execution_count": 12,
   "metadata": {},
   "outputs": [
    {
     "data": {
      "text/plain": [
       "Vector3([[ 0.,  3.,  0.],\n",
       "         [ 3.,  6.,  3.],\n",
       "         [ 6.,  9.,  6.],\n",
       "         [ 9., 12.,  9.],\n",
       "         [12., 15., 12.]])"
      ]
     },
     "execution_count": 12,
     "metadata": {},
     "output_type": "execute_result"
    }
   ],
   "source": [
    "from scenario import Vector3\n",
    "Vector3([1,2,3,4,5,6,7,8,9,10,11,12,13,14,15])-Vector3(1,-1,3,5)"
   ]
  },
  {
   "cell_type": "markdown",
   "metadata": {},
   "source": [
    "## Multiply"
   ]
  },
  {
   "cell_type": "markdown",
   "metadata": {},
   "source": [
    "### Multiply a number"
   ]
  },
  {
   "cell_type": "code",
   "execution_count": 13,
   "metadata": {},
   "outputs": [
    {
     "data": {
      "text/plain": [
       "(Vector3([ 3., -6.,  9.]), Vector3([ 3., -6.,  9.]), array(True))"
      ]
     },
     "execution_count": 13,
     "metadata": {},
     "output_type": "execute_result"
    }
   ],
   "source": [
    "from scenario import Vector3\n",
    "a=Vector3(1,-2,3)*3\n",
    "b=3*Vector3(1,-2,3)\n",
    "a,b,a==b"
   ]
  },
  {
   "cell_type": "markdown",
   "metadata": {},
   "source": [
    "### Multiply element by element\n",
    "support multiplication between Vector3,Numpy.ndarray,list and tuple."
   ]
  },
  {
   "cell_type": "code",
   "execution_count": 14,
   "metadata": {},
   "outputs": [
    {
     "data": {
      "text/plain": [
       "(Vector3([1., 2., 9.]),\n",
       " Vector3([1., 2., 9.]),\n",
       " Vector3([1., 2., 9.]),\n",
       " Vector3([1., 2., 9.]),\n",
       " Vector3([1., 2., 9.]))"
      ]
     },
     "execution_count": 14,
     "metadata": {},
     "output_type": "execute_result"
    }
   ],
   "source": [
    "from scenario import Vector3,array\n",
    "Vector3(1,-2,3)*Vector3(1,-1,3),\\\n",
    "Vector3(1,-2,3)*array([1,-1,3]),\\\n",
    "array([1,-1,3])*Vector3(1,-2,3),\\\n",
    "Vector3(1,-1,3)*[1,-2,3],\\\n",
    "(1,-1,3)*Vector3(1,-2,3)"
   ]
  },
  {
   "cell_type": "markdown",
   "metadata": {},
   "source": [
    "### Dot product\n",
    "Two vectors' dot product can be used to calculate angle between them. If angle \n",
    " \n",
    "$\\bf{a}\\cdot\\bf{b}=|\\bf{a}|\\cdot|\\bf{b}|\\cdot cos\\theta$\n",
    "\n",
    "$\\bf{a}\\cdot\\bf{b}=\\bf{b}\\cdot\\bf{a}$\n",
    "\n",
    "*.dot(Vector3):Vector3*\n",
    "\n",
    "dot() will return a new Vector3, the original one wont be changed"
   ]
  },
  {
   "cell_type": "code",
   "execution_count": 1,
   "metadata": {},
   "outputs": [
    {
     "name": "stdout",
     "output_type": "stream",
     "text": [
      "3.7416573867739413 4.123105625617661 -0.7130240959073809\n",
      "-11.000000000000002 -11.0\n"
     ]
    }
   ],
   "source": [
    "from scenario import Vector3,cos\n",
    "a=Vector3(1,-2,3)\n",
    "b=Vector3(0,4,-1)\n",
    "product=a.dot(b) # dot product\n",
    "theta=a.angle_to_vector(b)\n",
    "print(a.norm(),b.norm(),cos(theta))\n",
    "print(a.norm()*b.norm()*cos(theta),product)"
   ]
  },
  {
   "cell_type": "code",
   "execution_count": 2,
   "metadata": {},
   "outputs": [
    {
     "data": {
      "text/plain": [
       "(-11.0, -11.0, True)"
      ]
     },
     "execution_count": 2,
     "metadata": {},
     "output_type": "execute_result"
    }
   ],
   "source": [
    "a.dot(b),b.dot(a),a.dot(b)==b.dot(a)"
   ]
  },
  {
   "cell_type": "code",
   "execution_count": 3,
   "metadata": {},
   "outputs": [
    {
     "data": {
      "text/plain": [
       "array([[0.21660092],\n",
       "       [0.64293124],\n",
       "       [0.52933054],\n",
       "       [0.70762694]])"
      ]
     },
     "execution_count": 3,
     "metadata": {},
     "output_type": "execute_result"
    }
   ],
   "source": [
    "from scenario import Vector3,dot,cross,matmul,tensordot\n",
    "a=Vector3.Rand(4)\n",
    "b=Vector3.Rand(4)\n",
    "a.dot(b)"
   ]
  },
  {
   "cell_type": "code",
   "execution_count": 4,
   "metadata": {},
   "outputs": [
    {
     "data": {
      "text/plain": [
       "array([[27, 41],\n",
       "       [57, 95]])"
      ]
     },
     "execution_count": 4,
     "metadata": {},
     "output_type": "execute_result"
    }
   ],
   "source": [
    "from numpy import array,sin,cross,dot\n",
    "a=array([[1,2,3],[4,5,6]])\n",
    "b=array([[1,2],[1,9],[8,7]])\n",
    "dot(a,b)"
   ]
  },
  {
   "cell_type": "markdown",
   "metadata": {},
   "source": [
    "### Cross product\n",
    "\n",
    "$ \\bf{a}\\times\\bf{b}=|\\bf{a}|\\cdot|\\bf{b}|\\cdot sin\\theta$\n",
    "\n",
    "$\\bf{a}\\times\\bf{b}=-\\bf{b}\\times\\bf{a}$\n",
    "```python\n",
    ".cross(Vector3):Vector3\n",
    "```\n",
    "cross() will return a new Vector3, the original one wont be changed."
   ]
  },
  {
   "cell_type": "code",
   "execution_count": 8,
   "metadata": {},
   "outputs": [
    {
     "data": {
      "text/plain": [
       "(array([ 6., -3., -1.]), array([-6.,  3.,  1.]))"
      ]
     },
     "execution_count": 8,
     "metadata": {},
     "output_type": "execute_result"
    }
   ],
   "source": [
    "from scenario import Vector3\n",
    "a=Vector3(1,2,0)\n",
    "b=Vector3(0,-1,3)\n",
    "c=a.cross(b)\n",
    "a.cross(b),b.cross(a) # cross product"
   ]
  },
  {
   "cell_type": "markdown",
   "metadata": {},
   "source": [
    "array([1,2,0]).cross(Vector3(0,-1,3)) is not allowed since numpy.ndarray has no such a function to do cross product. But you can do it by a global function numpy.cross(array1, array2) like this"
   ]
  },
  {
   "cell_type": "code",
   "execution_count": 13,
   "metadata": {},
   "outputs": [
    {
     "data": {
      "text/plain": [
       "array([ 6., -3., -1.])"
      ]
     },
     "execution_count": 13,
     "metadata": {},
     "output_type": "execute_result"
    }
   ],
   "source": [
    "from numpy import cross,array\n",
    "from scenario import Vector3\n",
    "cross(array([1,2,0]), Vector3(0,-1,3))"
   ]
  },
  {
   "cell_type": "markdown",
   "metadata": {},
   "source": [
    "Have a look to see the origin vectors and the product vector"
   ]
  },
  {
   "cell_type": "code",
   "execution_count": 20,
   "metadata": {},
   "outputs": [],
   "source": [
    "from scenario import Vector3,Scenario\n",
    "v1=Vector3(1,2,0)\n",
    "v2=Vector3(0,-1,3)\n",
    "vp=Vector3(1,2,0).cross(Vector3(0,-1,3))\n",
    "v1.render()\n",
    "v2.render()\n",
    "vp.render()"
   ]
  },
  {
   "cell_type": "code",
   "execution_count": 21,
   "metadata": {},
   "outputs": [],
   "source": [
    "from scenario import Vector3\n",
    "a=Vector3.Rand(4)\n",
    "b=Vector3.Rand(4)\n",
    "c=a.cross(b)\n",
    "a.render()\n",
    "b.render()\n",
    "c.render()"
   ]
  },
  {
   "cell_type": "markdown",
   "metadata": {},
   "source": [
    "## Divide"
   ]
  },
  {
   "cell_type": "markdown",
   "metadata": {},
   "source": [
    "### Divide by scalar"
   ]
  },
  {
   "cell_type": "code",
   "execution_count": 22,
   "metadata": {},
   "outputs": [
    {
     "data": {
      "text/plain": [
       "Vector3([0.33333333, 0.66666667, 1.        ])"
      ]
     },
     "execution_count": 22,
     "metadata": {},
     "output_type": "execute_result"
    }
   ],
   "source": [
    "from scenario import Vector3\n",
    "Vector3(1,2,3)/3"
   ]
  },
  {
   "cell_type": "code",
   "execution_count": 23,
   "metadata": {},
   "outputs": [
    {
     "data": {
      "text/plain": [
       "(Vector3([1., 0., 1.]), Vector3([1., 0., 1.]))"
      ]
     },
     "execution_count": 23,
     "metadata": {},
     "output_type": "execute_result"
    }
   ],
   "source": [
    "from scenario import Vector3,array\n",
    "a=Vector3(3,0,3)\n",
    "b=a/3\n",
    "a/=3\n",
    "a,b"
   ]
  },
  {
   "cell_type": "markdown",
   "metadata": {},
   "source": [
    "### Divide by vector"
   ]
  },
  {
   "cell_type": "code",
   "execution_count": 24,
   "metadata": {},
   "outputs": [
    {
     "data": {
      "text/plain": [
       "Vector3([1., 1., 1.])"
      ]
     },
     "execution_count": 24,
     "metadata": {},
     "output_type": "execute_result"
    }
   ],
   "source": [
    "from scenario import Vector3\n",
    "Vector3(1,2,3)/Vector3(1,2,3)"
   ]
  },
  {
   "cell_type": "markdown",
   "metadata": {},
   "source": [
    "### Divide by Numpy.ndarray, list and tuple\n",
    "Vector3 is divided element by element"
   ]
  },
  {
   "cell_type": "code",
   "execution_count": 25,
   "metadata": {},
   "outputs": [
    {
     "data": {
      "text/plain": [
       "(Vector3([1., 1., 1.]), Vector3([1., 1., 1.]), Vector3([1., 1., 1.]))"
      ]
     },
     "execution_count": 25,
     "metadata": {},
     "output_type": "execute_result"
    }
   ],
   "source": [
    "from scenario import Vector3,array\n",
    "Vector3(1,2,3)/array([1,2,3]), Vector3(1,2,3)/[1,2,3], Vector3(1,2,3)/(1,2,3)"
   ]
  },
  {
   "cell_type": "markdown",
   "metadata": {},
   "source": [
    "## Compare"
   ]
  },
  {
   "cell_type": "code",
   "execution_count": 1,
   "metadata": {},
   "outputs": [
    {
     "data": {
      "text/plain": [
       "(True, False, True)"
      ]
     },
     "execution_count": 1,
     "metadata": {},
     "output_type": "execute_result"
    }
   ],
   "source": [
    "from scenario import *\n",
    "a=Vector3(1,0,0.7)\n",
    "b=Vector3(1.0,0.,0.7)\n",
    "c=Vector3(1.1,0,0.7)\n",
    "a==b,b==c,a!=c"
   ]
  },
  {
   "cell_type": "code",
   "execution_count": 2,
   "metadata": {},
   "outputs": [
    {
     "data": {
      "text/plain": [
       "array([[False],\n",
       "       [ True],\n",
       "       [False]])"
      ]
     },
     "execution_count": 2,
     "metadata": {},
     "output_type": "execute_result"
    }
   ],
   "source": [
    "from scenario import Vector3\n",
    "a=Vector3([[1,2,3],\n",
    "           [4,5,6],\n",
    "           [7,8,9]])\n",
    "b=Vector3([[1,1,3],\n",
    "           [4,5,6],\n",
    "           [7,1,9]])\n",
    "a==b"
   ]
  },
  {
   "cell_type": "markdown",
   "metadata": {},
   "source": [
    "## Angle\n",
    "```python\n",
    ".angle_to_vector(v:Vector3):float|ndarray\n",
    "```   \n",
    "It will return the angle (in radian) between two vector. The angle is always positive and smaller than $\\pi$."
   ]
  },
  {
   "cell_type": "code",
   "execution_count": 3,
   "metadata": {},
   "outputs": [
    {
     "data": {
      "text/plain": [
       "(1.6704649792860586, 1.6704649792860586)"
      ]
     },
     "execution_count": 3,
     "metadata": {},
     "output_type": "execute_result"
    }
   ],
   "source": [
    "from scenario import Vector3, pi\n",
    "v1=Vector3(1,-0.1,0)\n",
    "v2=Vector3(0,1,0)\n",
    "v1.angle_to_vector(v2),v2.angle_to_vector(v1)"
   ]
  },
  {
   "cell_type": "code",
   "execution_count": 6,
   "metadata": {},
   "outputs": [
    {
     "data": {
      "text/plain": [
       "array([[2.57665272e-01],\n",
       "       [2.10734243e-08],\n",
       "       [5.24348139e-01]])"
      ]
     },
     "execution_count": 6,
     "metadata": {},
     "output_type": "execute_result"
    }
   ],
   "source": [
    "from scenario import Vector3\n",
    "a=Vector3([[1,2,3],\n",
    "           [4,5,6],\n",
    "           [7,8,9]])\n",
    "b=Vector3([[1,1,3],\n",
    "           [4,5,6],\n",
    "           [7,1,9]])\n",
    "a.angle_to_vector(b)"
   ]
  },
  {
   "cell_type": "markdown",
   "metadata": {},
   "source": [
    "```python\n",
    ".angle_to_plane(normal:Vector3):float|ndarray\n",
    "```\n",
    "It will return the angle (in radian) between a vector and a plane. Result will be positive when normal and the vector have same direction, 0 when the plane and the vector is parallel, and negtive when normal and the vector have different direction."
   ]
  },
  {
   "cell_type": "code",
   "execution_count": 2,
   "metadata": {},
   "outputs": [
    {
     "data": {
      "text/plain": [
       "-0.09966865249116208"
      ]
     },
     "execution_count": 2,
     "metadata": {},
     "output_type": "execute_result"
    }
   ],
   "source": [
    "from scenario import Vector3, pi\n",
    "v=Vector3(1,-0.1,0)\n",
    "normal=Vector3(0,1,0)\n",
    "v.angle_to_plane(normal)"
   ]
  },
  {
   "cell_type": "markdown",
   "metadata": {},
   "source": [
    "## Rotation\n",
    "\n",
    "```python\n",
    ".rotation_to(Vector3):Vector3,float\n",
    "```\n",
    "It will return axis-angle tuple representing the rotation from this vector to another"
   ]
  },
  {
   "cell_type": "code",
   "execution_count": 3,
   "metadata": {},
   "outputs": [
    {
     "data": {
      "text/plain": [
       "((Vector3([-0.,  0.,  1.]), 1.6704649792860586),\n",
       " (Vector3([ 0.,  0., -1.]), 1.6704649792860586))"
      ]
     },
     "execution_count": 3,
     "metadata": {},
     "output_type": "execute_result"
    }
   ],
   "source": [
    "from scenario import Vector3\n",
    "v1=Vector3(1,-0.1,0)\n",
    "v2=Vector3(0,1,0)\n",
    "v1.rotation_to(v2),v2.rotation_to(v1)"
   ]
  },
  {
   "cell_type": "code",
   "execution_count": 4,
   "metadata": {},
   "outputs": [
    {
     "data": {
      "text/plain": [
       "(Vector3([[-0.,  0.,  1.],\n",
       "          [ 0.,  0., -1.]]),\n",
       " array([[1.67046498],\n",
       "        [1.67046498]]))"
      ]
     },
     "execution_count": 4,
     "metadata": {},
     "output_type": "execute_result"
    }
   ],
   "source": [
    "from scenario import Vector3\n",
    "a=Vector3([[1,-0.1,0],\n",
    "        [0,1,0]])\n",
    "b=Vector3([[0,1,0],\n",
    "          [1,-0.1,0]])\n",
    "a.rotation_to(b)"
   ]
  },
  {
   "cell_type": "markdown",
   "metadata": {},
   "source": [
    "## Perpendicular\n",
    "\n",
    "$\\bf{a}\\perp\\bf{b}\\Leftrightarrow\\bf{a}\\cdot\\bf{b}=0$\n",
    "\n",
    "$\\bf{a}\\perp\\bf{b}\\Leftrightarrow<\\bf{a},\\bf{b}>=\\pi/2$\n",
    "\n",
    "```python\n",
    "    .is_perpendicular_to_vector(v:Vector3): bool\n",
    "    .is_perpendicular_to_plane(normal:Vector3): bool\n",
    "```"
   ]
  },
  {
   "cell_type": "code",
   "execution_count": 6,
   "metadata": {},
   "outputs": [
    {
     "data": {
      "text/plain": [
       "(True, 1.5707963267948966)"
      ]
     },
     "execution_count": 6,
     "metadata": {},
     "output_type": "execute_result"
    }
   ],
   "source": [
    "from scenario import Vector3\n",
    "a=Vector3(0,1,1)\n",
    "b=Vector3(1,0,0)\n",
    "a.is_perpendicular_to_vector(b), a.angle_to_vector(b)"
   ]
  },
  {
   "cell_type": "markdown",
   "metadata": {},
   "source": [
    "## Parallel\n",
    "$\\bf{a}//\\bf{b}(\\bf{b}\\ne\\bf{0})\\Leftrightarrow\\bf{a}=\\lambda\\bf{b}$"
   ]
  },
  {
   "cell_type": "code",
   "execution_count": 7,
   "metadata": {},
   "outputs": [
    {
     "data": {
      "text/plain": [
       "False"
      ]
     },
     "execution_count": 7,
     "metadata": {},
     "output_type": "execute_result"
    }
   ],
   "source": [
    "from scenario import Vector3\n",
    "a=Vector3(1,2,3)\n",
    "b=Vector3(2,4,6)\n",
    "plane = Vector3(1,2,)\n",
    "a.is_parallel_to_vector(b)\n",
    "a==b"
   ]
  },
  {
   "cell_type": "markdown",
   "metadata": {},
   "source": [
    "$\\bf{v}\\perp\\bf{0}, \\bf{v}\\cdot\\bf{0}=0$ is always true no matter what $\\bf{v}$ is"
   ]
  },
  {
   "cell_type": "code",
   "execution_count": 8,
   "metadata": {},
   "outputs": [
    {
     "name": "stderr",
     "output_type": "stream",
     "text": [
      "/mnt/d/Codes/scenario/scenario/transform.py:60: RuntimeWarning: invalid value encountered in true_divide\n",
      "  return self/l\n"
     ]
    },
    {
     "data": {
      "text/plain": [
       "(0.0, False, True)"
      ]
     },
     "execution_count": 8,
     "metadata": {},
     "output_type": "execute_result"
    }
   ],
   "source": [
    "from scenario import Vector3\n",
    "a=Vector3(1,2,3)\n",
    "b=Vector3(-2,3,9)\n",
    "a.dot(Vector3()),a.is_parallel_to_vector(Vector3()),b.is_parallel_to_vector(b)"
   ]
  },
  {
   "cell_type": "markdown",
   "metadata": {},
   "source": [
    "## Projection\n",
    "\n",
    "```python\n",
    ".scalar_projection(v:Vector3):float\n",
    "```\n",
    "```python\n",
    ".vector_projection(v:Vector3):Vector3\n",
    "```"
   ]
  },
  {
   "cell_type": "code",
   "execution_count": 5,
   "metadata": {},
   "outputs": [
    {
     "data": {
      "text/plain": [
       "(2.0, Vector3([2., 0., 0.]))"
      ]
     },
     "execution_count": 5,
     "metadata": {},
     "output_type": "execute_result"
    }
   ],
   "source": [
    "from scenario import Vector3\n",
    "a=Vector3(2,1,1)\n",
    "b=Vector3(1,0,0)\n",
    "a.scalar_projection(b),a.vector_projection(b)"
   ]
  },
  {
   "cell_type": "code",
   "execution_count": 6,
   "metadata": {},
   "outputs": [
    {
     "data": {
      "text/plain": [
       "Vector3([1., 0., 0.])"
      ]
     },
     "execution_count": 6,
     "metadata": {},
     "output_type": "execute_result"
    }
   ],
   "source": [
    "from scenario import Vector3\n",
    "a=Vector3(1,2,3)\n",
    "p0=Vector3()\n",
    "p1=Vector3(1,0,0)\n",
    "a.projection_point_on_line(p0,p1)"
   ]
  },
  {
   "cell_type": "code",
   "execution_count": null,
   "metadata": {},
   "outputs": [],
   "source": []
  },
  {
   "cell_type": "markdown",
   "metadata": {},
   "source": [
    "## Area\n",
    "```python\n",
    ".area(Vector3):float\n",
    "```\n",
    "It will return area of triangle constucted by two vectors.\n",
    "```python\n",
    ".area(Vector3,Vector3):float\n",
    "```\n",
    "It will return area of triangle constructed by three points."
   ]
  },
  {
   "cell_type": "code",
   "execution_count": 2,
   "metadata": {},
   "outputs": [
    {
     "data": {
      "text/plain": [
       "2.345207879911715"
      ]
     },
     "execution_count": 2,
     "metadata": {},
     "output_type": "execute_result"
    }
   ],
   "source": [
    "from scenario import Vector3,array\n",
    "triangle=Vector3([[1,2,3],\n",
    "                [1,0,0],\n",
    "                [0,1,0]])\n",
    "triangle.area()"
   ]
  },
  {
   "cell_type": "markdown",
   "metadata": {},
   "source": [
    "## Distance, Length, Norm\n",
    "```python\n",
    ".norm():float\n",
    "```"
   ]
  },
  {
   "cell_type": "code",
   "execution_count": 7,
   "metadata": {},
   "outputs": [
    {
     "data": {
      "text/plain": [
       "3.7416573867739413"
      ]
     },
     "execution_count": 7,
     "metadata": {},
     "output_type": "execute_result"
    }
   ],
   "source": [
    "from scenario import Vector3\n",
    "Vector3(1,2,3).norm()"
   ]
  },
  {
   "cell_type": "markdown",
   "metadata": {},
   "source": [
    "You can use this function to calculate distance between two points."
   ]
  },
  {
   "cell_type": "code",
   "execution_count": 9,
   "metadata": {},
   "outputs": [
    {
     "name": "stdout",
     "output_type": "stream",
     "text": [
      "86.08135686662938\n"
     ]
    }
   ],
   "source": [
    "point1=Vector3(1,2,3)\n",
    "point2=Vector3(-10,87,11)\n",
    "distance=(point1-point2).norm()\n",
    "print(distance)"
   ]
  },
  {
   "cell_type": "code",
   "execution_count": 10,
   "metadata": {
    "scrolled": true
   },
   "outputs": [
    {
     "data": {
      "text/plain": [
       "array([[0.80268044],\n",
       "       [0.83117958],\n",
       "       [0.93592529],\n",
       "       [0.95158128],\n",
       "       [1.08886415]])"
      ]
     },
     "execution_count": 10,
     "metadata": {},
     "output_type": "execute_result"
    }
   ],
   "source": [
    "from scenario import Vector3\n",
    "points=Vector3.Rand(5)\n",
    "points.norm()"
   ]
  },
  {
   "cell_type": "markdown",
   "metadata": {},
   "source": [
    "Calculate distances between a point and a collection of points"
   ]
  },
  {
   "cell_type": "code",
   "execution_count": 4,
   "metadata": {},
   "outputs": [
    {
     "data": {
      "text/plain": [
       "(Vector3([[0.27685053, 0.06497363, 0.69324179],\n",
       "          [0.14068237, 0.6988603 , 0.17093279],\n",
       "          [0.69974956, 0.75389476, 0.24827108],\n",
       "          [0.68531831, 0.62295644, 0.55548796],\n",
       "          [0.20209241, 0.18456963, 0.15802297],\n",
       "          [0.45473131, 0.82593169, 0.45052026],\n",
       "          [0.54532591, 0.16694359, 0.31107393]]),\n",
       " array([[1.46208692],\n",
       "        [1.91148402],\n",
       "        [1.79664568],\n",
       "        [1.74401234],\n",
       "        [1.43695268],\n",
       "        [1.95814018],\n",
       "        [1.29044677]]))"
      ]
     },
     "execution_count": 4,
     "metadata": {},
     "output_type": "execute_result"
    }
   ],
   "source": [
    "from scenario import Vector3\n",
    "p=Vector3(1,-1,0)\n",
    "points=Vector3.Rand(7)\n",
    "points,(p-points).norm()"
   ]
  },
  {
   "cell_type": "markdown",
   "metadata": {},
   "source": [
    "## Normalize\n",
    "**normalize()**, normalize a vector, the original vector will be changed to a unit vector (direction vector)\n",
    "\n",
    "<font color=\"red\">*! Zero vector can not be normalized*</font>"
   ]
  },
  {
   "cell_type": "code",
   "execution_count": 11,
   "metadata": {},
   "outputs": [
    {
     "data": {
      "text/plain": [
       "Vector3([0.26726124, 0.53452248, 0.80178373])"
      ]
     },
     "execution_count": 11,
     "metadata": {},
     "output_type": "execute_result"
    }
   ],
   "source": [
    "from scenario import Vector3\n",
    "v=Vector3(1,2,3)\n",
    "v.normalize()\n",
    "v"
   ]
  },
  {
   "cell_type": "markdown",
   "metadata": {},
   "source": [
    "**normalized()**, get a new vector, which is the unit vector of the origin"
   ]
  },
  {
   "cell_type": "code",
   "execution_count": 13,
   "metadata": {},
   "outputs": [],
   "source": [
    "from scenario import Vector3\n",
    "v=Vector3(1,2,3)\n",
    "v.render()\n",
    "v_=v.normalized()\n",
    "v_.render()"
   ]
  },
  {
   "cell_type": "code",
   "execution_count": 14,
   "metadata": {},
   "outputs": [
    {
     "name": "stderr",
     "output_type": "stream",
     "text": [
      "/mnt/d/Codes/scenario/scenario/transform.py:60: RuntimeWarning: invalid value encountered in true_divide\n",
      "  return self/l\n"
     ]
    },
    {
     "data": {
      "text/plain": [
       "(Vector3([nan, nan, nan]), Vector3([0., 0., 0.]))"
      ]
     },
     "execution_count": 14,
     "metadata": {},
     "output_type": "execute_result"
    }
   ],
   "source": [
    "from scenario import Vector3\n",
    "v=Vector3()\n",
    "v.normalized(),v"
   ]
  },
  {
   "cell_type": "code",
   "execution_count": null,
   "metadata": {},
   "outputs": [],
   "source": []
  }
 ],
 "metadata": {
  "kernelspec": {
   "display_name": "Python 3.8.3 64-bit ('base': conda)",
   "language": "python",
   "name": "python38364bitbaseconda12a7320e90d14a8ab1ae06e7922a6e0c"
  },
  "language_info": {
   "codemirror_mode": {
    "name": "ipython",
    "version": 3
   },
   "file_extension": ".py",
   "mimetype": "text/x-python",
   "name": "python",
   "nbconvert_exporter": "python",
   "pygments_lexer": "ipython3",
   "version": "3.8.3"
  }
 },
 "nbformat": 4,
 "nbformat_minor": 4
}
