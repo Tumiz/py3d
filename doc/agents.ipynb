{
 "cells": [
  {
   "cell_type": "markdown",
   "metadata": {},
   "source": [
    "*Copyright (c) Tumiz. Distributed under the terms of the GPL-3.0 License.*"
   ]
  },
  {
   "cell_type": "markdown",
   "metadata": {},
   "source": [
    "# Simulation of agents"
   ]
  },
  {
   "cell_type": "markdown",
   "metadata": {},
   "source": [
    "## random agent\n",
    "**Eg.1** Create a **random agent** and draw its trajectory"
   ]
  },
  {
   "cell_type": "code",
   "execution_count": 2,
   "metadata": {},
   "outputs": [],
   "source": [
    "from scenario import *\n",
    "from time import sleep\n",
    "from random import random\n",
    "scen = Scenario()\n",
    "cube=Cube()\n",
    "cube.position=Vector3(1,1,0.5)\n",
    "cube.rotation=Rotation.Eular(z=0.3)\n",
    "traj=Line()\n",
    "traj.type=Line.Type_Vector\n",
    "traj.width=2\n",
    "scen.add(cube,traj)\n",
    "traj.points.append(cube.position.tolist())\n",
    "while scen.t<6:\n",
    "    cube.local_velocity=Vector3.Rand(x=[0,4])\n",
    "    cube.local_angular_velocity=Rotation.Eular(z=random()-0.4)\n",
    "    scen.step(0.1)\n",
    "    traj.points.append(cube.position.tolist())\n",
    "    scen.render()\n",
    "    sleep(0.1)"
   ]
  },
  {
   "cell_type": "markdown",
   "metadata": {},
   "source": [
    "**Eg.2** Create ten random agents"
   ]
  },
  {
   "cell_type": "code",
   "execution_count": 3,
   "metadata": {},
   "outputs": [
    {
     "name": "stdout",
     "output_type": "stream",
     "text": [
      "12.345839500427246\n"
     ]
    }
   ],
   "source": [
    "from scenario import *\n",
    "from time import sleep,time\n",
    "from random import random\n",
    "import types\n",
    "scen = Scenario()\n",
    "n=10\n",
    "def on_step(obj):\n",
    "    obj.local_velocity=Vector3.Rand(x=[0,4])\n",
    "    obj.local_angular_velocity=Rotation.Eular(z=random()-0.5)\n",
    "for i in range(n):\n",
    "    cube=Cube()\n",
    "    cube.position=Vector3(0,0,0.5)\n",
    "    cube.color=Color.Rand()\n",
    "    cube.on_step=types.MethodType(on_step,cube)\n",
    "    scen.add(cube)\n",
    "t=time()\n",
    "while scen.t<10:\n",
    "    scen.step(0.1)\n",
    "    scen.render()\n",
    "    sleep(0.1)\n",
    "print(time()-t)"
   ]
  },
  {
   "cell_type": "markdown",
   "metadata": {},
   "source": [
    "**Eg.3** An agent follow a random agent"
   ]
  },
  {
   "cell_type": "code",
   "execution_count": 5,
   "metadata": {},
   "outputs": [],
   "source": [
    "from scenario import *\n",
    "from time import sleep\n",
    "from random import random\n",
    "scen = Scenario()\n",
    "cube=Cube()\n",
    "cube.scale=Vector3(2,1,1)\n",
    "cube.position=Vector3(3,3,0.5)\n",
    "cube.color=Color(r=1)\n",
    "cube.rotation=Rotation.Eular(z=0.3)\n",
    "cube1=Cube()\n",
    "cube1.scale=Vector3(2,1,1)\n",
    "cube1.position=Vector3(0,0,0.5)\n",
    "cube1.color=Color(b=1)\n",
    "scen.add(cube,cube1)\n",
    "scen.render()\n",
    "\n",
    "while scen.t<10:\n",
    "    cube.local_velocity=Vector3.Rand(x=[0,2])\n",
    "    cube.local_angular_velocity=Rotation.Eular(z=random()-0.3)\n",
    "    cube1.local_velocity=Vector3(x=1)\n",
    "    cube1.lookat(cube.position)\n",
    "    scen.step(0.1)\n",
    "    scen.render()\n",
    "    sleep(0.1)"
   ]
  },
  {
   "cell_type": "markdown",
   "metadata": {},
   "source": [
    "**Eg.4** An random agent and following agents, one by one."
   ]
  },
  {
   "cell_type": "code",
   "execution_count": 1,
   "metadata": {},
   "outputs": [],
   "source": [
    "from scenario import *\n",
    "from time import sleep\n",
    "from random import random\n",
    "\n",
    "class Follower(Cube):\n",
    "    def __init__(self):\n",
    "        Cube.__init__(self)\n",
    "        self.scale=Vector3(2,1,1)\n",
    "        self.front=None\n",
    "    def on_step(self):\n",
    "        if self.front:\n",
    "            d=(self.front.position-self.position).norm()\n",
    "            self.local_velocity=Vector3(x=d*0.1)\n",
    "            self.lookat(self.front.position)\n",
    "        else:\n",
    "            self.local_velocity=Vector3.Rand(x=[0,2])\n",
    "            self.local_angular_velocity=Rotation.Eular(z=0.1)\n",
    "scen = Scenario()\n",
    "n=10\n",
    "front=None\n",
    "for i in range(n):\n",
    "    f=Follower()\n",
    "    f.position=Vector3(10,0,0.5)-i*Vector3(3,0,0)\n",
    "    if front:\n",
    "        f.front=front\n",
    "    scen.add(f)\n",
    "    front=f\n",
    "scen.render()"
   ]
  },
  {
   "cell_type": "code",
   "execution_count": 2,
   "metadata": {},
   "outputs": [],
   "source": [
    "while scen.t<10:\n",
    "    scen.step(0.1)\n",
    "    scen.render()\n",
    "    sleep(0.1)"
   ]
  },
  {
   "cell_type": "markdown",
   "metadata": {},
   "source": [
    "**Eg.5** Do more. Two queues of agents"
   ]
  },
  {
   "cell_type": "code",
   "execution_count": 2,
   "metadata": {},
   "outputs": [],
   "source": [
    "from scenario import *\n",
    "from time import sleep\n",
    "\n",
    "class Follower(Cube):\n",
    "    def __init__(self):\n",
    "        Cube.__init__(self)\n",
    "        self.scale=Vector3(2,1,1)\n",
    "        self.color=Color.Rand()\n",
    "        self.front=None\n",
    "        self.angular_offset=0.15\n",
    "    def on_step(self):\n",
    "        if self.front:\n",
    "            d=(self.front.position-self.position).norm()\n",
    "            self.local_velocity=Vector3(x=d*0.1)\n",
    "            self.lookat(self.front.position)\n",
    "        else:\n",
    "            self.local_velocity=Vector3.Rand(x=[0,2])\n",
    "            self.local_angular_velocity=Rotation.Eular(z=self.angular_offset)\n",
    "scen = Scenario()\n",
    "n=10\n",
    "front=None\n",
    "for i in range(n):\n",
    "    f=Follower()\n",
    "    f.position=Vector3(30,0,0.5)-i*Vector3(3,0,0)\n",
    "    if front:\n",
    "        f.front=front\n",
    "    scen.add(f)\n",
    "    front=f\n",
    "front=None\n",
    "for i in range(n):\n",
    "    f=Follower()\n",
    "    f.position=Vector3(0,30,0.5)-i*Vector3(0,3,0)\n",
    "    f.lookat(Vector3(0,50,0))\n",
    "    f.angular_offset=-0.15\n",
    "    if front:\n",
    "        f.front=front\n",
    "    scen.add(f)\n",
    "    front=f\n",
    "scen.render()\n",
    "\n",
    "while scen.t<20:\n",
    "    scen.step(0.1)\n",
    "    scen.render()\n",
    "    sleep(0.1)"
   ]
  },
  {
   "cell_type": "markdown",
   "metadata": {},
   "source": [
    "**Eg.6** A long straight road which has two lanes. There are two cars on this road. One is black, and another is white."
   ]
  },
  {
   "cell_type": "code",
   "execution_count": 1,
   "metadata": {},
   "outputs": [],
   "source": [
    "from scenario import *\n",
    "import matplotlib.pyplot as plt\n",
    "scen=Scenario()\n",
    "left_edge=Line()\n",
    "left_edge.points=[[-50,-3,0],[50,-3,0]]\n",
    "left_edge.color=Color(b=1)\n",
    "left_edge.width=2\n",
    "right_edge=Line()\n",
    "right_edge.points=[[-50,3,0],[50,3,0]]\n",
    "right_edge.color=Color(b=1)\n",
    "right_edge.width=2\n",
    "scen.add(left_edge,right_edge)\n",
    "\n",
    "class Agent(Cube):\n",
    "    def __init__(self,color):\n",
    "        Cube.__init__(self,4,1.8,1.48)\n",
    "        self.color=color\n",
    "        self.front=None\n",
    "        self.local_velocity=Vector3()\n",
    "        self.sds=[]\n",
    "        self.ds=[]\n",
    "        \n",
    "    def on_step(self):\n",
    "        if self.front:\n",
    "            safe_distance=self.local_velocity.norm()**2/9+2\n",
    "            d=(self.front.position-self.position).norm()\n",
    "            self.sds.append(safe_distance)\n",
    "            self.ds.append(d)\n",
    "            if d<safe_distance:\n",
    "                self.turn_left()\n",
    "            else:\n",
    "                self.local_velocity=Vector3(x=0.1*d)\n",
    "        else:\n",
    "            self.local_velocity=Vector3.Rand(x=[0,2])\n",
    "        \n",
    "    def turn_left(self):\n",
    "        self.local_angular_velocity=Rotation.Eular(z=0.1)\n",
    "        \n",
    "white=Agent(Color.White(0.7))\n",
    "white.position=Vector3(-30,-1.5,0.74)\n",
    "\n",
    "black=Agent(Color.Black(0.7))\n",
    "black.front=white\n",
    "black.position=Vector3(-40,-1.5,0.74)\n",
    "\n",
    "scen.add(white,black)\n",
    "scen.render()"
   ]
  },
  {
   "cell_type": "markdown",
   "metadata": {},
   "source": [
    "Set cars' policy"
   ]
  },
  {
   "cell_type": "code",
   "execution_count": 8,
   "metadata": {},
   "outputs": [
    {
     "data": {
      "image/png": "[encoded data removed]",
      "text/plain": [
       "<Figure size 432x288 with 1 Axes>"
      ]
     },
     "metadata": {
      "needs_background": "light"
     },
     "output_type": "display_data"
    }
   ],
   "source": [
    "from time import sleep\n",
    "scen.t=0\n",
    "while scen.t<10:\n",
    "    scen.step(0.1)\n",
    "    sleep(0.1)\n",
    "    scen.render()\n",
    "plt.plot(black.sds)\n",
    "plt.plot(black.ds)\n",
    "plt.show()"
   ]
  },
  {
   "cell_type": "code",
   "execution_count": 1,
   "metadata": {},
   "outputs": [],
   "source": [
    "import torch\n",
    "a=torch.rand(4,4)"
   ]
  },
  {
   "cell_type": "code",
   "execution_count": 3,
   "metadata": {},
   "outputs": [
    {
     "data": {
      "text/plain": [
       "tensor([[True, True, True, True],\n",
       "        [True, True, True, True],\n",
       "        [True, True, True, True],\n",
       "        [True, True, True, True]])"
      ]
     },
     "execution_count": 3,
     "metadata": {},
     "output_type": "execute_result"
    }
   ],
   "source": [
    "a==a.data"
   ]
  },
  {
   "cell_type": "code",
   "execution_count": null,
   "metadata": {},
   "outputs": [],
   "source": []
  }
 ],
 "metadata": {
  "kernelspec": {
   "display_name": "Python 3",
   "language": "python",
   "name": "python3"
  },
  "language_info": {
   "codemirror_mode": {
    "name": "ipython",
    "version": 3
   },
   "file_extension": ".py",
   "mimetype": "text/x-python",
   "name": "python",
   "nbconvert_exporter": "python",
   "pygments_lexer": "ipython3",
   "version": "3.7.4"
  }
 },
 "nbformat": 4,
 "nbformat_minor": 4
}
