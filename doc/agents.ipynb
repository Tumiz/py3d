{
 "cells": [
  {
   "cell_type": "markdown",
   "metadata": {},
   "source": [
    "# Simulation of agents"
   ]
  },
  {
   "cell_type": "markdown",
   "metadata": {},
   "source": [
    "## random agent\n",
    "**Eg.1** Create a **random agent** and draw its trajectory"
   ]
  },
  {
   "cell_type": "code",
   "execution_count": 5,
   "metadata": {},
   "outputs": [],
   "source": [
    "from scenario import *\n",
    "from time import sleep\n",
    "from random import random\n",
    "scen = Scenario()\n",
    "cube=Cube()\n",
    "cube.position=Vector3(1,1,0.5)\n",
    "cube.color=Color(r=1)\n",
    "cube.rotation=Rotation.eular(z=0.3)\n",
    "traj=Line()\n",
    "traj.color=Color(b=1)\n",
    "traj.is_arrow=True\n",
    "traj.width=2\n",
    "scen.add(cube,traj)\n",
    "while scen.t<6:\n",
    "    cube.local_velocity=Vector3.rand(x=[0,4])\n",
    "    cube.local_angular_velocity=Rotation.eular(z=random()-0.4)\n",
    "    traj.points.append(cube.position.tolist())\n",
    "    scen.step(0.1)\n",
    "    scen.render()\n",
    "    sleep(0.1)"
   ]
  },
  {
   "cell_type": "markdown",
   "metadata": {},
   "source": [
    "**Eg.2** Create ten random agents"
   ]
  },
  {
   "cell_type": "code",
   "execution_count": 13,
   "metadata": {},
   "outputs": [
    {
     "name": "stdout",
     "output_type": "stream",
     "text": [
      "22.59214758872986\n"
     ]
    }
   ],
   "source": [
    "from scenario import *\n",
    "from time import sleep,time\n",
    "from random import random\n",
    "import types\n",
    "scen = Scenario()\n",
    "n=10\n",
    "def on_step(obj):\n",
    "    obj.local_velocity=Vector3.rand(x=[0,4])\n",
    "    obj.local_angular_velocity=Rotation.eular(z=random()-0.5)\n",
    "for i in range(n):\n",
    "    cube=Cube()\n",
    "    cube.position=Vector3(0,0,0.5)\n",
    "    cube.color=Color.rand()\n",
    "    cube.on_step=types.MethodType(on_step,cube)\n",
    "    scen.add(cube)\n",
    "t=time()\n",
    "while scen.t<10:\n",
    "    scen.step(0.1)\n",
    "    scen.render()\n",
    "    sleep(0.1)\n",
    "print(time()-t)"
   ]
  },
  {
   "cell_type": "markdown",
   "metadata": {},
   "source": [
    "**Eg.3** An agent follow a random agent"
   ]
  },
  {
   "cell_type": "code",
   "execution_count": 1,
   "metadata": {},
   "outputs": [],
   "source": [
    "from scenario import *\n",
    "from time import sleep\n",
    "from random import random\n",
    "scen = Scenario()\n",
    "cube=Cube()\n",
    "cube.scale=Vector3(2,1,1)\n",
    "cube.position=Vector3(3,3,0.5)\n",
    "cube.color=Color(r=1)\n",
    "cube.rotation=Rotation.eular(z=0.3)\n",
    "cube1=Cube()\n",
    "cube1.scale=Vector3(2,1,1)\n",
    "cube1.position=Vector3(0,0,0.5)\n",
    "cube1.color=Color(b=1)\n",
    "scen.add(cube,cube1)\n",
    "scen.render()"
   ]
  },
  {
   "cell_type": "markdown",
   "metadata": {},
   "source": [
    "Start to run"
   ]
  },
  {
   "cell_type": "code",
   "execution_count": null,
   "metadata": {},
   "outputs": [],
   "source": [
    "while scen.t<10:\n",
    "    cube.local_velocity=Vector3.rand(x=[0,2])\n",
    "    cube.local_angular_velocity=Rotation.eular(z=random()-0.3)\n",
    "    cube1.local_velocity=Vector3(x=1)\n",
    "    cube1.direction_to(cube.position)\n",
    "    scen.step(0.1)\n",
    "    scen.render()\n",
    "    sleep(0.1)"
   ]
  },
  {
   "cell_type": "markdown",
   "metadata": {},
   "source": [
    "**Eg.4** An random agent and following agents, one by one."
   ]
  },
  {
   "cell_type": "code",
   "execution_count": 15,
   "metadata": {},
   "outputs": [],
   "source": [
    "from scenario import *\n",
    "from time import sleep\n",
    "from random import random\n",
    "\n",
    "class Follower(Cube):\n",
    "    def __init__(self):\n",
    "        Cube.__init__(self)\n",
    "        self.scale=Vector3(2,1,1)\n",
    "        self.color=Color.rand()\n",
    "        self.front=None\n",
    "    def on_step(self):\n",
    "        if self.front:\n",
    "            d=(self.front.position-self.position).norm()\n",
    "            self.local_velocity=Vector3(x=d*0.1)\n",
    "            self.lookat(self.front.position)\n",
    "        else:\n",
    "            self.local_velocity=Vector3.rand(x=[0,2])\n",
    "            self.local_angular_velocity=Rotation.eular(z=random()-0.3)\n",
    "scen = Scenario()\n",
    "n=10\n",
    "front=None\n",
    "for i in range(n):\n",
    "    f=Follower()\n",
    "    f.position=Vector3(10,0,0.5)-i*Vector3(3,0,0)\n",
    "    if front:\n",
    "        f.front=front\n",
    "    scen.add(f)\n",
    "    front=f\n",
    "scen.render()"
   ]
  },
  {
   "cell_type": "markdown",
   "metadata": {},
   "source": [
    "Start to run"
   ]
  },
  {
   "cell_type": "code",
   "execution_count": 16,
   "metadata": {},
   "outputs": [],
   "source": [
    "while scen.t<20:\n",
    "    scen.step(0.1)\n",
    "    scen.render()\n",
    "    sleep(0.1)"
   ]
  },
  {
   "cell_type": "code",
   "execution_count": null,
   "metadata": {},
   "outputs": [],
   "source": []
  }
 ],
 "metadata": {
  "kernelspec": {
   "display_name": "Python 3",
   "language": "python",
   "name": "python3"
  },
  "language_info": {
   "codemirror_mode": {
    "name": "ipython",
    "version": 3
   },
   "file_extension": ".py",
   "mimetype": "text/x-python",
   "name": "python",
   "nbconvert_exporter": "python",
   "pygments_lexer": "ipython3",
   "version": "3.7.4"
  }
 },
 "nbformat": 4,
 "nbformat_minor": 4
}
