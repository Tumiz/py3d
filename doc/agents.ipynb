{
 "cells": [
  {
   "cell_type": "markdown",
   "metadata": {},
   "source": [
    "*Copyright (c) Tumiz. Distributed under the terms of the GPL-3.0 License.*"
   ]
  },
  {
   "cell_type": "markdown",
   "metadata": {},
   "source": [
    "# Simulation of agents"
   ]
  },
  {
   "cell_type": "markdown",
   "metadata": {},
   "source": [
    "## random agent\n",
    "**Eg.1** Create a **random agent** and draw its trajectory"
   ]
  },
  {
   "cell_type": "code",
   "execution_count": 1,
   "metadata": {},
   "outputs": [
    {
     "data": {
      "text/html": [
       "\n",
       "        <iframe\n",
       "            width=\"100%\"\n",
       "            height=\"600px\"\n",
       "            src=\"http://localhost:8000/view/140343978030864\"\n",
       "            frameborder=\"0\"\n",
       "            allowfullscreen\n",
       "        ></iframe>\n",
       "        "
      ],
      "text/plain": [
       "<IPython.lib.display.IFrame at 0x7fa3f31d6f50>"
      ]
     },
     "metadata": {},
     "output_type": "display_data"
    }
   ],
   "source": [
    "from scenario import *\n",
    "from time import sleep\n",
    "from random import random\n",
    "scen = Scenario()\n",
    "cube=Cube()\n",
    "cube.position=Vector3(1,1,0.5)\n",
    "cube.rotation=Rotation.Eular(z=0.3)\n",
    "traj=Line()\n",
    "traj.type=Line.Type_Vector\n",
    "traj.width=2\n",
    "scen.add(cube,traj)\n",
    "traj.add_point(cube.position.tolist())\n",
    "while scen.t<6:\n",
    "    cube.local_velocity=Vector3.Rand(x=[0,4])\n",
    "    cube.local_angular_velocity=Rotation.Eular(z=random()-0.4)\n",
    "    scen.step(0.1)\n",
    "    traj.add_point(cube.position.tolist())\n",
    "    scen.render()\n",
    "    sleep(0.1)"
   ]
  },
  {
   "cell_type": "markdown",
   "metadata": {},
   "source": [
    "**Eg.2** Create ten random agents"
   ]
  },
  {
   "cell_type": "code",
   "execution_count": 10,
   "metadata": {},
   "outputs": [
    {
     "data": {
      "text/html": [
       "\n",
       "        <iframe\n",
       "            width=\"100%\"\n",
       "            height=\"600px\"\n",
       "            src=\"http://localhost:8000/view/140342007573584\"\n",
       "            frameborder=\"0\"\n",
       "            allowfullscreen\n",
       "        ></iframe>\n",
       "        "
      ],
      "text/plain": [
       "<IPython.lib.display.IFrame at 0x7fa469dcb1d0>"
      ]
     },
     "metadata": {},
     "output_type": "display_data"
    },
    {
     "name": "stdout",
     "output_type": "stream",
     "text": [
      "12.306086778640747\n"
     ]
    }
   ],
   "source": [
    "from scenario import *\n",
    "from time import sleep,time\n",
    "from random import random\n",
    "import types\n",
    "scen = Scenario()\n",
    "n=10\n",
    "class Agent(Cube):\n",
    "    def on_step(self,dt):\n",
    "        self.local_velocity=Vector3.Rand(x=[0,4])\n",
    "        self.local_angular_velocity=Rotation.Eular(z=random()-0.5)\n",
    "for i in range(n):\n",
    "    cube=Agent()\n",
    "    cube.position=Vector3(0,0,0.5)\n",
    "    scen.add(cube)\n",
    "t=time()\n",
    "while scen.t<10:\n",
    "    scen.step(0.1)\n",
    "    scen.render()\n",
    "    sleep(0.1)\n",
    "print(time()-t)"
   ]
  },
  {
   "cell_type": "markdown",
   "metadata": {},
   "source": [
    "**Eg.3** An agent follow a random agent"
   ]
  },
  {
   "cell_type": "code",
   "execution_count": 11,
   "metadata": {},
   "outputs": [
    {
     "data": {
      "text/html": [
       "\n",
       "        <iframe\n",
       "            width=\"100%\"\n",
       "            height=\"600px\"\n",
       "            src=\"http://localhost:8000/view/140342089327952\"\n",
       "            frameborder=\"0\"\n",
       "            allowfullscreen\n",
       "        ></iframe>\n",
       "        "
      ],
      "text/plain": [
       "<IPython.lib.display.IFrame at 0x7fa3f088bfd0>"
      ]
     },
     "metadata": {},
     "output_type": "display_data"
    }
   ],
   "source": [
    "from scenario import *\n",
    "from time import sleep\n",
    "from random import random\n",
    "scen = Scenario()\n",
    "cube=Cube()\n",
    "cube.scale=Vector3(2,1,1)\n",
    "cube.position=Vector3(3,3,0.5)\n",
    "cube.color=Color(r=1)\n",
    "cube.rotation=Rotation.Eular(z=0.3)\n",
    "cube1=Cube()\n",
    "cube1.scale=Vector3(2,1,1)\n",
    "cube1.position=Vector3(0,0,0.5)\n",
    "cube1.color=Color(b=1)\n",
    "scen.add(cube,cube1)\n",
    "scen.render()\n",
    "\n",
    "while scen.t<10:\n",
    "    cube.local_velocity=Vector3.Rand(x=[0,2])\n",
    "    cube.local_angular_velocity=Rotation.Eular(z=random()-0.3)\n",
    "    cube1.local_velocity=Vector3(x=1)\n",
    "    cube1.lookat(cube.position)\n",
    "    scen.step(0.1)\n",
    "    scen.render()\n",
    "    sleep(0.1)"
   ]
  },
  {
   "cell_type": "markdown",
   "metadata": {},
   "source": [
    "**Eg.4** An random agent and following agents, one by one."
   ]
  },
  {
   "cell_type": "code",
   "execution_count": 25,
   "metadata": {},
   "outputs": [
    {
     "data": {
      "text/html": [
       "\n",
       "        <iframe\n",
       "            width=\"100%\"\n",
       "            height=\"600px\"\n",
       "            src=\"http://localhost:8000/view/140341976728400\"\n",
       "            frameborder=\"0\"\n",
       "            allowfullscreen\n",
       "        ></iframe>\n",
       "        "
      ],
      "text/plain": [
       "<IPython.lib.display.IFrame at 0x7fa3eb89d190>"
      ]
     },
     "metadata": {},
     "output_type": "display_data"
    }
   ],
   "source": [
    "from scenario import *\n",
    "from time import sleep\n",
    "class Follower(Cube):\n",
    "    def __init__(self):\n",
    "        Cube.__init__(self)\n",
    "        self.scale=Vector3(2,1,1)\n",
    "        self.front=None\n",
    "    def on_step(self,dt):\n",
    "        if self.front:\n",
    "            d=(self.front.position-self.position).norm()\n",
    "            self.local_velocity=Vector3(x=d*0.1)\n",
    "            self.lookat(self.front.position)\n",
    "        else:\n",
    "            self.local_velocity=Vector3.Rand(x=[0,2])\n",
    "            self.local_angular_velocity=Rotation.Eular(z=0.1)\n",
    "scen = Scenario()\n",
    "n=10\n",
    "front=None\n",
    "for i in range(n):\n",
    "    f=Follower()\n",
    "    f.position=Vector3(10,0,0.5)-i*Vector3(3,0,0)\n",
    "    if front:\n",
    "        f.front=front\n",
    "    scen.add(f)\n",
    "    front=f\n",
    "while scen.t<15:\n",
    "    scen.step(0.1)\n",
    "    scen.render()\n",
    "    sleep(0.1)"
   ]
  },
  {
   "cell_type": "markdown",
   "metadata": {},
   "source": [
    "## Traffic"
   ]
  },
  {
   "cell_type": "markdown",
   "metadata": {},
   "source": [
    "### Eg.1\n",
    "A long straight road which has two lanes. There are two cars on this road. One is red, and another is blue and follows the red one. The red car's speed decreases from 7m/s, while the blue car run fast as possible until reach safe distance between those two cars. "
   ]
  },
  {
   "cell_type": "code",
   "execution_count": 1,
   "metadata": {},
   "outputs": [
    {
     "data": {
      "text/html": [
       "\n",
       "        <iframe\n",
       "            width=\"100%\"\n",
       "            height=\"600px\"\n",
       "            src=\"http://localhost:8000/view/139978147480208\"\n",
       "            frameborder=\"0\"\n",
       "            allowfullscreen\n",
       "        ></iframe>\n",
       "        "
      ],
      "text/plain": [
       "<IPython.lib.display.IFrame at 0x7f4ee6b86490>"
      ]
     },
     "metadata": {},
     "output_type": "display_data"
    }
   ],
   "source": [
    "from scenario import *\n",
    "\n",
    "scen=Scenario()\n",
    "left_edge=Line()\n",
    "left_edge.add_point([-50,-3,0],[50,-3,0])\n",
    "left_edge.color=Color(b=1)\n",
    "left_edge.width=2\n",
    "right_edge=Line()\n",
    "right_edge.add_point([-50,3,0],[50,3,0])\n",
    "right_edge.color=Color(b=1)\n",
    "right_edge.width=2\n",
    "scen.add(left_edge,right_edge)\n",
    "\n",
    "class Agent(Cube):\n",
    "    def __init__(self,color):\n",
    "        Cube.__init__(self,4,1.8,1.48)\n",
    "        self.color=color\n",
    "        self.front=None\n",
    "        self.local_velocity=Vector3()\n",
    "        self.log=[]\n",
    "        \n",
    "    def on_step(self,dt):\n",
    "        if self.front:\n",
    "            safe_distance=self.local_velocity.norm().item()**2/9+6\n",
    "            d=(self.front.position-self.position).norm().item()\n",
    "            self.local_velocity=Vector3(x=0.5*(d-safe_distance))\n",
    "            self.log.append(dict(sd=safe_distance,d=d,lv=self.local_velocity[0].item()))\n",
    "        else:\n",
    "#             self.local_velocity=Vector3(x=max(7-scen.t,0))\n",
    "            self.local_velocity=Vector3(x=7)\n",
    "        \n",
    "red=Agent(Color(r=1))\n",
    "red.position=Vector3(-30,-1.5,0.74)\n",
    "\n",
    "blue=Agent(Color(b=1))\n",
    "blue.front=red\n",
    "blue.position=Vector3(-40,-1.5,0.74)\n",
    "\n",
    "scen.add(red,blue)\n",
    "scen.render()\n",
    "\n",
    "from time import sleep\n",
    "scen.t=0\n",
    "while scen.t<20:\n",
    "    scen.step(0.1)\n",
    "    sleep(0.1)\n",
    "    scen.render()"
   ]
  },
  {
   "cell_type": "code",
   "execution_count": 16,
   "metadata": {},
   "outputs": [
    {
     "data": {
      "text/plain": [
       "<matplotlib.axes._subplots.AxesSubplot at 0x7fa3ea333ad0>"
      ]
     },
     "execution_count": 16,
     "metadata": {},
     "output_type": "execute_result"
    },
    {
     "data": {
      "image/png": "[encoded data removed]",
      "text/plain": [
       "<Figure size 432x288 with 1 Axes>"
      ]
     },
     "metadata": {
      "needs_background": "light"
     },
     "output_type": "display_data"
    }
   ],
   "source": [
    "%matplotlib inline\n",
    "from pandas import DataFrame\n",
    "log=DataFrame(blue.log)\n",
    "log[[\"sd\",\"d\",\"lv\"]].plot(grid=True)"
   ]
  },
  {
   "cell_type": "code",
   "execution_count": 6,
   "metadata": {},
   "outputs": [
    {
     "name": "stdout",
     "output_type": "stream",
     "text": [
      "<scenario.server.WSHandler object at 0x7f4ee6fb44d0>\n",
      "<scenario.server.WSHandler object at 0x7f4ee631f890>\n"
     ]
    }
   ],
   "source": [
    "for c in Client.clients:\n",
    "    print(Client.clients[c].handler)"
   ]
  },
  {
   "cell_type": "markdown",
   "metadata": {},
   "source": [
    "### Eg.2\n",
    "Still those two cars. Change the rule that the red car's speed follows. Set its speed to a constant value.\n",
    "\n",
    "$d_{target}=5m$\n",
    "\n",
    "$d_{real}\\uparrow v_{blue}\\uparrow$"
   ]
  },
  {
   "cell_type": "markdown",
   "metadata": {},
   "source": [
    "$v_{blue}$ should decrease before $d_{real}=d_{target}$"
   ]
  },
  {
   "cell_type": "markdown",
   "metadata": {},
   "source": [
    "When $v_{blue}=v_{red}$ and $d_{real}=d_{target}$, the system enter stable state."
   ]
  },
  {
   "cell_type": "code",
   "execution_count": 5,
   "metadata": {},
   "outputs": [
    {
     "data": {
      "text/html": [
       "\n",
       "        <iframe\n",
       "            width=\"100%\"\n",
       "            height=\"600px\"\n",
       "            src=\"http://localhost:8000/view/139978825068176\"\n",
       "            frameborder=\"0\"\n",
       "            allowfullscreen\n",
       "        ></iframe>\n",
       "        "
      ],
      "text/plain": [
       "<IPython.lib.display.IFrame at 0x7f4f33c86990>"
      ]
     },
     "metadata": {},
     "output_type": "display_data"
    }
   ],
   "source": [
    "from scenario import *\n",
    "\n",
    "scen=Scenario()\n",
    "left_edge=Line()\n",
    "left_edge.add_point([-50,-3,0],[50,-3,0])\n",
    "left_edge.color=Color(b=1)\n",
    "left_edge.width=2\n",
    "right_edge=Line()\n",
    "right_edge.add_point([-50,3,0],[50,3,0])\n",
    "right_edge.color=Color(b=1)\n",
    "right_edge.width=2\n",
    "scen.add(left_edge,right_edge)\n",
    "\n",
    "class Agent(Cube):\n",
    "    def __init__(self,color):\n",
    "        Cube.__init__(self,4,1.8,1.48)\n",
    "        self.color=color\n",
    "        self.front=None\n",
    "        self.local_velocity=Vector3()\n",
    "        self.log=[]\n",
    "        self.pid=PID(1.2,0.4,0)\n",
    "        \n",
    "    def on_step(self,dt):\n",
    "        if self.front:\n",
    "            safe_distance=self.velocity.norm().item()**2/9+6\n",
    "            d=(self.front.position-self.position)[0].item()\n",
    "            err=d-safe_distance\n",
    "            self.local_velocity[0]=max(self.local_velocity[0]+self.pid.step(err,dt),0)\n",
    "            self.log.append(dict(sd=safe_distance,d=d,err=err,lv=self.local_velocity[0].item(),v=self.velocity[0].item()))\n",
    "        else:\n",
    "#             self.local_velocity=Vector3(x=max(7.5-scen.t,0))\n",
    "            self.local_velocity=Vector3(x=3*sin(scen.t)+3)\n",
    "        \n",
    "red=Agent(Color(r=1))\n",
    "red.position=Vector3(-30,-1.5,0.74)\n",
    "\n",
    "blue=Agent(Color(b=1))\n",
    "blue.front=red\n",
    "blue.position=Vector3(-40,-1.5,0.74)\n",
    "\n",
    "scen.add(red,blue)\n",
    "scen.render()\n",
    "\n",
    "from time import sleep\n",
    "scen.t=0\n",
    "while scen.t<10:\n",
    "    scen.step(0.1)\n",
    "    sleep(0.1)\n",
    "    scen.render()"
   ]
  },
  {
   "cell_type": "code",
   "execution_count": 5,
   "metadata": {},
   "outputs": [
    {
     "data": {
      "text/plain": [
       "<matplotlib.axes._subplots.AxesSubplot at 0x7fd1ede2b410>"
      ]
     },
     "execution_count": 5,
     "metadata": {},
     "output_type": "execute_result"
    },
    {
     "data": {
      "image/png": "[encoded data removed]",
      "text/plain": [
       "<Figure size 432x288 with 1 Axes>"
      ]
     },
     "metadata": {
      "needs_background": "light"
     },
     "output_type": "display_data"
    }
   ],
   "source": [
    "%matplotlib inline\n",
    "from pandas import *\n",
    "log=DataFrame(blue.log)\n",
    "log[[\"sd\",\"d\",\"err\",\"v\"]].plot(grid=True)"
   ]
  },
  {
   "cell_type": "code",
   "execution_count": 6,
   "metadata": {},
   "outputs": [
    {
     "data": {
      "text/html": [
       "\n",
       "        <iframe\n",
       "            width=\"100%\"\n",
       "            height=\"600px\"\n",
       "            src=\"http://localhost:8000/view/140539616539344\"\n",
       "            frameborder=\"0\"\n",
       "            allowfullscreen\n",
       "        ></iframe>\n",
       "        "
      ],
      "text/plain": [
       "<IPython.lib.display.IFrame at 0x7fd1f4db6250>"
      ]
     },
     "metadata": {},
     "output_type": "display_data"
    },
    {
     "name": "stdin",
     "output_type": "stream",
     "text": [
      "start \n"
     ]
    }
   ],
   "source": [
    "from scenario import *\n",
    "from pandas import *\n",
    "scen=Scenario()\n",
    "left_edge=Line()\n",
    "left_edge.add_point([-50,-3,0],[50,-3,0])\n",
    "left_edge.color=Color(b=1)\n",
    "left_edge.width=2\n",
    "right_edge=Line()\n",
    "right_edge.add_point([-50,3,0],[50,3,0])\n",
    "right_edge.color=Color(b=1)\n",
    "right_edge.width=2\n",
    "scen.add(left_edge,right_edge)\n",
    "\n",
    "class Agent(Cube):\n",
    "    def __init__(self):\n",
    "        Cube.__init__(self,4,1.8,1.48)\n",
    "        self.front=None\n",
    "        self.local_velocity=Vector3()\n",
    "        self.pid=PID(1.2,0.4,0)\n",
    "        self.log=[]\n",
    "        \n",
    "    def on_step(self,dt):\n",
    "        if self.front:\n",
    "            safe_distance=self.velocity.norm().item()**2/9+6\n",
    "            d=(self.front.position-self.position)[0].item()\n",
    "            err=d-safe_distance\n",
    "            self.local_velocity[0]=max(self.local_velocity[0]+self.pid.step(err,dt),0)\n",
    "            self.log.append({\"safe distance\":safe_distance,\"distance\":d,\"error\":err,\"local velocity\":self.local_velocity[0].item(),\"velocity\":self.velocity[0].item()})\n",
    "        else:\n",
    "#             self.local_velocity=Vector3(x=max(10-scen.t,0))\n",
    "            self.local_velocity=Vector3(x=3*sin(scen.t)+3)\n",
    "        \n",
    "front=None       \n",
    "for i in range(10):\n",
    "    a=Agent()\n",
    "    a.position=Vector3(-50-10*i,-1.5,0.74)\n",
    "    a.front=front\n",
    "    scen.add(a)\n",
    "    front=a\n",
    "scen.render()\n",
    "input(\"start\")\n",
    "from time import sleep\n",
    "scen.t=0\n",
    "while scen.t<20:\n",
    "    scen.step(0.1)\n",
    "    sleep(0.1)\n",
    "    scen.render()"
   ]
  },
  {
   "cell_type": "code",
   "execution_count": 14,
   "metadata": {},
   "outputs": [
    {
     "data": {
      "text/plain": [
       "<matplotlib.axes._subplots.AxesSubplot at 0x7f98378c9f10>"
      ]
     },
     "execution_count": 14,
     "metadata": {},
     "output_type": "execute_result"
    },
    {
     "data": {
      "image/png": "[encoded data removed]",
      "text/plain": [
       "<Figure size 432x288 with 1 Axes>"
      ]
     },
     "metadata": {
      "needs_background": "light"
     },
     "output_type": "display_data"
    }
   ],
   "source": [
    "%matplotlib inline\n",
    "from pandas import *\n",
    "log=DataFrame(scen.objects[4].log)\n",
    "log[[\"distance\",\"safe distance\"]].plot(grid=True)"
   ]
  },
  {
   "cell_type": "markdown",
   "metadata": {},
   "source": [
    "### Eg.4\n",
    "**Path Tracking**. A blue car tracks a given path. "
   ]
  },
  {
   "cell_type": "code",
   "execution_count": 3,
   "metadata": {},
   "outputs": [
    {
     "data": {
      "text/html": [
       "\n",
       "        <iframe\n",
       "            width=\"100%\"\n",
       "            height=\"600px\"\n",
       "            src=\"http://localhost:8000/view/140291859304848\"\n",
       "            frameborder=\"0\"\n",
       "            allowfullscreen\n",
       "        ></iframe>\n",
       "        "
      ],
      "text/plain": [
       "<IPython.lib.display.IFrame at 0x7f983e73cf50>"
      ]
     },
     "metadata": {},
     "output_type": "display_data"
    }
   ],
   "source": [
    "from scenario import *\n",
    "from time import sleep\n",
    "path=Line()\n",
    "path.color=Color(g=0.3)\n",
    "x=torch.linspace(-1.5,1.5)\n",
    "y=torch.tan(x)\n",
    "path.points=torch.empty(len(x),3)\n",
    "path.points[:,0]=x\n",
    "path.points[:,1]=y\n",
    "path.points[:,2]=0.5\n",
    "scen=Scenario()\n",
    "scen.add(path)\n",
    "car=Cube()\n",
    "car.color=Color(b=0.8)\n",
    "car.direction=Vector3(0,1,0)\n",
    "car.position=path.points[0]+Vector3(0,0,0.5)\n",
    "scen.add(car)\n",
    "car.add(Line.Vector(car.direction))\n",
    "for p in path.points:\n",
    "    car.lookat(p)\n",
    "    car.position=p\n",
    "    scen.render()\n",
    "    sleep(0.1)"
   ]
  },
  {
   "cell_type": "markdown",
   "metadata": {},
   "source": [
    "### Eg.4\n",
    "\n",
    "The red car do not move. The blue car change lane. After action, the blue car's rotation do not change, but position is forward and offset to left lane. Local velocity of the blue car do not change during the process."
   ]
  },
  {
   "cell_type": "code",
   "execution_count": 3,
   "metadata": {},
   "outputs": [
    {
     "data": {
      "text/html": [
       "\n",
       "        <iframe\n",
       "            width=\"100%\"\n",
       "            height=\"600px\"\n",
       "            src=\"http://localhost:8000/view/140339897057744\"\n",
       "            frameborder=\"0\"\n",
       "            allowfullscreen\n",
       "        ></iframe>\n",
       "        "
      ],
      "text/plain": [
       "<IPython.lib.display.IFrame at 0x7fa36eeb2d90>"
      ]
     },
     "metadata": {},
     "output_type": "display_data"
    }
   ],
   "source": [
    "from scenario import *\n",
    "\n",
    "scen=Scenario()\n",
    "left_edge=Line()\n",
    "left_edge.add_point([-50,-3,0],[50,-3,0])\n",
    "left_edge.color=Color(b=1)\n",
    "left_edge.width=2\n",
    "right_edge=Line()\n",
    "right_edge.add_point([-50,3,0],[50,3,0])\n",
    "right_edge.color=Color(b=1)\n",
    "right_edge.width=2\n",
    "scen.add(left_edge,right_edge)\n",
    "\n",
    "class Agent(Cube):\n",
    "    def __init__(self,color):\n",
    "        Cube.__init__(self,4,1.8,1.48)\n",
    "        self.color=color\n",
    "        self.front=None\n",
    "        self.pid=PID(0.02,0.0,0.0)\n",
    "        self.turning=True\n",
    "        self.log=[]\n",
    "        \n",
    "    def on_step(self,dt):\n",
    "        if self.front and self.turning:\n",
    "            self.turn_left(dt)\n",
    "        \n",
    "    def turn_left(self,dt):\n",
    "        r=self.rotation.to_eular()[2]\n",
    "        d=0.75-self.position[1]\n",
    "        err=d\n",
    "        av=self.pid.step(err,dt)\n",
    "        self.local_angular_velocity=Rotation.Eular(0,0,av)\n",
    "        self.log.append({\"t\":scen.t,\"yaw\":r,\"y distance\":d,\"error\":err,\"angular velocity\":av})\n",
    "        if abs(d)<0.1 and abs(r)<0.1:\n",
    "            self.turning=False\n",
    "            self.local_angular_velocity=Rotation()\n",
    "        \n",
    "red=Agent(Color(r=1))\n",
    "red.position=Vector3(-30,-1.5,0.74)\n",
    "blue=Agent(Color(b=1))\n",
    "blue.front=red\n",
    "blue.position=Vector3(-40,-1.5,0.74)\n",
    "blue.local_velocity=Vector3(2,0,0)\n",
    "blue.add(Line.Vector(4*blue.direction))\n",
    "path=Line()\n",
    "scen.add(red,blue,path)\n",
    "\n",
    "from time import sleep\n",
    "scen.t=0\n",
    "while scen.t<40:\n",
    "    scen.step(0.1)\n",
    "    path.add_point(blue.position)\n",
    "    sleep(0.1)\n",
    "    scen.render()"
   ]
  },
  {
   "cell_type": "code",
   "execution_count": 16,
   "metadata": {},
   "outputs": [
    {
     "data": {
      "text/plain": [
       "<matplotlib.axes._subplots.AxesSubplot at 0x7fa362edfad0>"
      ]
     },
     "execution_count": 16,
     "metadata": {},
     "output_type": "execute_result"
    },
    {
     "data": {
      "image/png": "[encoded data removed]",
      "text/plain": [
       "<Figure size 432x288 with 1 Axes>"
      ]
     },
     "metadata": {
      "needs_background": "light"
     },
     "output_type": "display_data"
    }
   ],
   "source": [
    "%matplotlib inline\n",
    "from pandas import *\n",
    "log=DataFrame(blue.log)\n",
    "log[[\"t\",\"yaw\"]].plot(x=\"t\",y=\"yaw\",grid=True)"
   ]
  },
  {
   "cell_type": "markdown",
   "metadata": {},
   "source": [
    "### Eg.5"
   ]
  },
  {
   "cell_type": "code",
   "execution_count": 41,
   "metadata": {},
   "outputs": [
    {
     "data": {
      "text/html": [
       "\n",
       "        <iframe\n",
       "            width=\"100%\"\n",
       "            height=\"600px\"\n",
       "            src=\"http://localhost:8000/view/140271947717648\"\n",
       "            frameborder=\"0\"\n",
       "            allowfullscreen\n",
       "        ></iframe>\n",
       "        "
      ],
      "text/plain": [
       "<IPython.lib.display.IFrame at 0x7f939b9d94d0>"
      ]
     },
     "metadata": {},
     "output_type": "display_data"
    }
   ],
   "source": [
    "from scenario import *\n",
    "l=Line()\n",
    "l.color=Color(r=1)\n",
    "x=torch.linspace(0,100,10)\n",
    "l.points=torch.zeros(len(x),3)\n",
    "l.points[:,0]=x\n",
    "l.points[:,1]=4\n",
    "l.points[1]=0.7*l.points[2]+0.3*Vector3()\n",
    "l.points[2]=0.7*l.points[3]+0.3*l.points[1]\n",
    "s1=Sphere(0.2)\n",
    "s1.position=l.points[1]\n",
    "s2=Sphere(0.2)\n",
    "s2.position=l.points[2]\n",
    "scen=Scenario()\n",
    "scen.add(l,s1,s2)\n",
    "scen.render()"
   ]
  },
  {
   "cell_type": "code",
   "execution_count": 19,
   "metadata": {},
   "outputs": [
    {
     "name": "stdout",
     "output_type": "stream",
     "text": [
      "{'d': 1}\n"
     ]
    }
   ],
   "source": [
    "def set_d(**param):\n",
    "    print(param)\n",
    "set_d(d=1)"
   ]
  },
  {
   "cell_type": "code",
   "execution_count": null,
   "metadata": {},
   "outputs": [],
   "source": []
  }
 ],
 "metadata": {
  "kernelspec": {
   "display_name": "Python 3",
   "language": "python",
   "name": "python3"
  },
  "language_info": {
   "codemirror_mode": {
    "name": "ipython",
    "version": 3
   },
   "file_extension": ".py",
   "mimetype": "text/x-python",
   "name": "python",
   "nbconvert_exporter": "python",
   "pygments_lexer": "ipython3",
   "version": "3.7.4"
  }
 },
 "nbformat": 4,
 "nbformat_minor": 4
}
