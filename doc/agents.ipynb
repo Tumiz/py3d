{
 "cells": [
  {
   "cell_type": "markdown",
   "metadata": {},
   "source": [
    "*Copyright (c) Tumiz. Distributed under the terms of the GPL-3.0 License.*"
   ]
  },
  {
   "cell_type": "markdown",
   "metadata": {},
   "source": [
    "# Simulation of agents"
   ]
  },
  {
   "cell_type": "markdown",
   "metadata": {},
   "source": [
    "* Fixed local velocity and angular velocity"
   ]
  },
  {
   "cell_type": "code",
   "execution_count": 1,
   "metadata": {},
   "outputs": [
    {
     "data": {
      "text/html": [
       "\n",
       "        <iframe\n",
       "            width=\"100%\"\n",
       "            height=\"600px\"\n",
       "            src=\"http://localhost:8000/view/140131273739600\"\n",
       "            frameborder=\"0\"\n",
       "            allowfullscreen\n",
       "        ></iframe>\n",
       "        "
      ],
      "text/plain": [
       "<IPython.lib.display.IFrame at 0x7f72dab134d0>"
      ]
     },
     "metadata": {},
     "output_type": "display_data"
    }
   ],
   "source": [
    "from scenario import *\n",
    "\n",
    "scen = Scenario()\n",
    "cube=Cube()\n",
    "cube.position=Vector3(1,1,0.5)\n",
    "cube.rotation=Rotation.Eular(z=0.3)\n",
    "traj=Line()\n",
    "traj.type=Line.Type_Vector\n",
    "traj.width=2\n",
    "scen.add(cube,traj)\n",
    "traj.add_point(cube.position)\n",
    "scen.render()\n",
    "cube.local_velocity=Vector3(x=0.9)\n",
    "cube.local_angular_velocity=Rotation.Eular(z=-0.04)\n",
    "def run(scen,cube,traj):\n",
    "    while scen.t<10:\n",
    "        scen.step(0.1)\n",
    "        traj.add_point(cube.position)\n",
    "        scen.render()\n",
    "        sleep(0.1)\n",
    "sim=threading.Thread(target=run,args=(scen,cube,traj))\n",
    "sim.start()"
   ]
  },
  {
   "cell_type": "markdown",
   "metadata": {},
   "source": [
    "## random agent\n",
    "**Eg.1** Create a **random agent** and draw its trajectory"
   ]
  },
  {
   "cell_type": "code",
   "execution_count": 2,
   "metadata": {},
   "outputs": [
    {
     "data": {
      "text/html": [
       "\n",
       "        <iframe\n",
       "            width=\"100%\"\n",
       "            height=\"600px\"\n",
       "            src=\"http://localhost:8000/view/140131288672272\"\n",
       "            frameborder=\"0\"\n",
       "            allowfullscreen\n",
       "        ></iframe>\n",
       "        "
      ],
      "text/plain": [
       "<IPython.lib.display.IFrame at 0x7f728ddd9750>"
      ]
     },
     "metadata": {},
     "output_type": "display_data"
    }
   ],
   "source": [
    "from scenario import *\n",
    "from random import random\n",
    "scen = Scenario()\n",
    "cube=Cube()\n",
    "cube.position=Vector3(1,1,0.5)\n",
    "cube.rotation=Rotation.Eular(z=0.3)\n",
    "traj=Line()\n",
    "traj.type=Line.Type_Vector\n",
    "traj.width=2\n",
    "scen.add(cube,traj)\n",
    "traj.add_point(cube.position.tolist())\n",
    "scen.render()\n",
    "\n",
    "def run(scen,cube,traj):\n",
    "    while scen.t<10:\n",
    "        cube.local_velocity=Vector3(x=random())\n",
    "        cube.local_angular_velocity=Rotation.Eular(z=random()-0.4)\n",
    "        scen.step(0.1)\n",
    "        traj.add_point(cube.position.tolist())\n",
    "        scen.render()\n",
    "        sleep(0.1)\n",
    "sim=threading.Thread(target=run,args=(scen,cube,traj))\n",
    "sim.start()"
   ]
  },
  {
   "cell_type": "markdown",
   "metadata": {},
   "source": [
    "**Eg.2** Keyboard controlled agent"
   ]
  },
  {
   "cell_type": "code",
   "execution_count": 3,
   "metadata": {},
   "outputs": [
    {
     "data": {
      "text/html": [
       "\n",
       "        <iframe\n",
       "            width=\"100%\"\n",
       "            height=\"600px\"\n",
       "            src=\"http://localhost:8000/view/139823518656464\"\n",
       "            frameborder=\"0\"\n",
       "            allowfullscreen\n",
       "        ></iframe>\n",
       "        "
      ],
      "text/plain": [
       "<IPython.lib.display.IFrame at 0x7f2b5e486290>"
      ]
     },
     "metadata": {},
     "output_type": "display_data"
    }
   ],
   "source": [
    "from scenario import *\n",
    "from random import random\n",
    "scen = Scenario()\n",
    "cube=Cube()\n",
    "cube.position=Vector3(1,1,0.5)\n",
    "cube.rotation=Rotation.Eular(z=0.3)\n",
    "traj=Line()\n",
    "traj.type=Line.Type_Vector\n",
    "traj.width=2\n",
    "scen.add(cube,traj)\n",
    "traj.add_point(cube.position.tolist())\n",
    "scen.render()\n",
    "log=[]\n",
    "def onkey(key):\n",
    "    if key==\"w\":\n",
    "        cube.local_velocity+=Vector3(0.1,0,0)\n",
    "        print(cube.local_velocity)\n",
    "    elif key==\"s\":\n",
    "        cube.local_velocity+=Vector3(-0.1,0,0)\n",
    "    elif key==\"a\":\n",
    "        cube.local_angular_velocity*=Rotation.Eular(z=0.1)\n",
    "    elif key==\"d\":\n",
    "        cube.local_angular_velocity*=Rotation.Eular(z=-0.1)\n",
    "scen.on_key=onkey\n",
    "def run(scen,cube,traj):\n",
    "    while scen.t<20:\n",
    "        scen.step(0.1)\n",
    "        log.append({\"v\":cube.local_velocity[0].item(),\"vx\":cube.velocity[0].item(),\"vy\":cube.velocity[1].item(),\"x\":cube.position[0].item(),\"y\":cube.position[1].item(),\"av axis\":cube.angular_velocity.to_axis_angle()[0],\"av\":cube.angular_velocity.to_axis_angle()[1]})\n",
    "        traj.add_point(cube.position.tolist())\n",
    "        scen.render()\n",
    "        sleep(0.1)\n",
    "sim=threading.Thread(target=run,args=(scen,cube,traj))\n",
    "sim.start()"
   ]
  },
  {
   "cell_type": "code",
   "execution_count": 5,
   "metadata": {},
   "outputs": [
    {
     "data": {
      "text/plain": [
       "<matplotlib.axes._subplots.AxesSubplot at 0x7f2ad79d99d0>"
      ]
     },
     "execution_count": 5,
     "metadata": {},
     "output_type": "execute_result"
    },
    {
     "data": {
      "image/png": "[encoded data removed]",
      "text/plain": [
       "<Figure size 432x288 with 1 Axes>"
      ]
     },
     "metadata": {
      "needs_background": "light"
     },
     "output_type": "display_data"
    }
   ],
   "source": [
    "from pandas import DataFrame\n",
    "DataFrame(log)[[\"av\"]].plot(grid=True)"
   ]
  },
  {
   "cell_type": "markdown",
   "metadata": {},
   "source": [
    "**Eg.2** Create ten random agents"
   ]
  },
  {
   "cell_type": "code",
   "execution_count": 2,
   "metadata": {},
   "outputs": [
    {
     "data": {
      "text/html": [
       "\n",
       "        <iframe\n",
       "            width=\"100%\"\n",
       "            height=\"600px\"\n",
       "            src=\"http://localhost:8000/view/140584006695248\"\n",
       "            frameborder=\"0\"\n",
       "            allowfullscreen\n",
       "        ></iframe>\n",
       "        "
      ],
      "text/plain": [
       "<IPython.lib.display.IFrame at 0x7fdbc9dcd8d0>"
      ]
     },
     "metadata": {},
     "output_type": "display_data"
    }
   ],
   "source": [
    "from scenario import *\n",
    "from random import random\n",
    "\n",
    "scen = Scenario()\n",
    "n=10\n",
    "class Agent(Cube):\n",
    "    def on_step(self,dt):\n",
    "        self.local_velocity=Vector3.Rand(x=[0,4])\n",
    "        self.local_angular_velocity=Rotation.Eular(z=random()-0.5)\n",
    "for i in range(n):\n",
    "    cube=Agent()\n",
    "    cube.position=Vector3(0,0,0.5)\n",
    "    scen.add(cube)\n",
    "scen.paused=True\n",
    "scen.render()\n",
    "def run(scen):\n",
    "    while scen.t<10:\n",
    "        scen.step(0.1)\n",
    "        scen.render()\n",
    "        sleep(0.1)\n",
    "sim=threading.Thread(target=run,args=(scen,))\n",
    "sim.start()"
   ]
  },
  {
   "cell_type": "code",
   "execution_count": null,
   "metadata": {},
   "outputs": [
    {
     "data": {
      "text/html": [
       "\n",
       "        <iframe\n",
       "            width=\"100%\"\n",
       "            height=\"600px\"\n",
       "            src=\"http://localhost:8000/view/139669489058000\"\n",
       "            frameborder=\"0\"\n",
       "            allowfullscreen\n",
       "        ></iframe>\n",
       "        "
      ],
      "text/plain": [
       "<IPython.lib.display.IFrame at 0x7f07d03aa910>"
      ]
     },
     "metadata": {},
     "output_type": "display_data"
    }
   ],
   "source": [
    "from scenario import *\n",
    "scen=Scenario()\n",
    "while scen.t<10:\n",
    "    scen.step(0.1)\n",
    "    scen.render()\n",
    "    sleep(0.1)"
   ]
  },
  {
   "cell_type": "markdown",
   "metadata": {},
   "source": [
    "**Eg.3** An agent follow a random agent"
   ]
  },
  {
   "cell_type": "code",
   "execution_count": 4,
   "metadata": {},
   "outputs": [
    {
     "data": {
      "text/html": [
       "\n",
       "        <iframe\n",
       "            width=\"100%\"\n",
       "            height=\"600px\"\n",
       "            src=\"http://localhost:8000/view/140583948550800\"\n",
       "            frameborder=\"0\"\n",
       "            allowfullscreen\n",
       "        ></iframe>\n",
       "        "
      ],
      "text/plain": [
       "<IPython.lib.display.IFrame at 0x7fdc43c7b6d0>"
      ]
     },
     "metadata": {},
     "output_type": "display_data"
    }
   ],
   "source": [
    "from scenario import *\n",
    "from time import sleep\n",
    "from random import random\n",
    "scen = Scenario()\n",
    "cube=Cube()\n",
    "cube.scale=Vector3(2,1,1)\n",
    "cube.position=Vector3(3,3,0.5)\n",
    "cube.color=Color(r=1)\n",
    "cube.rotation=Rotation.Eular(z=0.3)\n",
    "cube1=Cube()\n",
    "cube1.scale=Vector3(2,1,1)\n",
    "cube1.position=Vector3(0,0,0.5)\n",
    "cube1.color=Color(b=1)\n",
    "scen.add(cube,cube1)\n",
    "scen.render()\n",
    "\n",
    "while scen.t<10:\n",
    "    cube.local_velocity=Vector3.Rand(x=[0,2])\n",
    "    cube.local_angular_velocity=Rotation.Eular(z=random()-0.3)\n",
    "    cube1.local_velocity=Vector3(x=1)\n",
    "    cube1.lookat(cube.position)\n",
    "    scen.step(0.1)\n",
    "    scen.render()\n",
    "    sleep(0.1)"
   ]
  },
  {
   "cell_type": "markdown",
   "metadata": {},
   "source": [
    "**Eg.4** An random agent and following agents, one by one."
   ]
  },
  {
   "cell_type": "code",
   "execution_count": 5,
   "metadata": {},
   "outputs": [
    {
     "data": {
      "text/html": [
       "\n",
       "        <iframe\n",
       "            width=\"100%\"\n",
       "            height=\"600px\"\n",
       "            src=\"http://localhost:8000/view/140581860376720\"\n",
       "            frameborder=\"0\"\n",
       "            allowfullscreen\n",
       "        ></iframe>\n",
       "        "
      ],
      "text/plain": [
       "<IPython.lib.display.IFrame at 0x7fdbc3ccf410>"
      ]
     },
     "metadata": {},
     "output_type": "display_data"
    }
   ],
   "source": [
    "from scenario import *\n",
    "\n",
    "class Follower(Cube):\n",
    "    def __init__(self):\n",
    "        Cube.__init__(self)\n",
    "        self.scale=Vector3(2,1,1)\n",
    "        self.front=None\n",
    "    def on_step(self,dt):\n",
    "        if self.front:\n",
    "            d=(self.front.position-self.position).norm()\n",
    "            self.local_velocity=Vector3(x=d*0.1)\n",
    "            self.lookat(self.front.position)\n",
    "        else:\n",
    "            self.local_velocity=Vector3.Rand(x=[0,2])\n",
    "            self.local_angular_velocity=Rotation.Eular(z=0.1)\n",
    "scen = Scenario()\n",
    "n=10\n",
    "front=None\n",
    "for i in range(n):\n",
    "    f=Follower()\n",
    "    f.position=Vector3(10,0,0.5)-i*Vector3(3,0,0)\n",
    "    if front:\n",
    "        f.front=front\n",
    "    scen.add(f)\n",
    "    front=f\n",
    "def run(scen):\n",
    "    while scen.t<15:\n",
    "        scen.step(0.1)\n",
    "        scen.render()\n",
    "        sleep(0.1)\n",
    "sim=threading.Thread(target=run,args=(scen,))\n",
    "sim.start()"
   ]
  },
  {
   "cell_type": "markdown",
   "metadata": {},
   "source": [
    "## Traffic"
   ]
  },
  {
   "cell_type": "markdown",
   "metadata": {},
   "source": [
    "### Eg.1\n",
    "A long straight road which has two lanes. There are two cars on this road. One is red, and another is blue and follows the red one. The red car's speed decreases from 7m/s, while the blue car run fast as possible until reach safe distance between those two cars. "
   ]
  },
  {
   "cell_type": "code",
   "execution_count": 6,
   "metadata": {},
   "outputs": [
    {
     "data": {
      "text/html": [
       "\n",
       "        <iframe\n",
       "            width=\"100%\"\n",
       "            height=\"600px\"\n",
       "            src=\"http://localhost:8000/view/140581851958800\"\n",
       "            frameborder=\"0\"\n",
       "            allowfullscreen\n",
       "        ></iframe>\n",
       "        "
      ],
      "text/plain": [
       "<IPython.lib.display.IFrame at 0x7fdbc36f8150>"
      ]
     },
     "metadata": {},
     "output_type": "display_data"
    }
   ],
   "source": [
    "from scenario import *\n",
    "\n",
    "scen=Scenario()\n",
    "left_edge=Line()\n",
    "left_edge.add_point([-50,-3,0],[50,-3,0])\n",
    "left_edge.color=Color(b=1)\n",
    "left_edge.width=2\n",
    "right_edge=Line()\n",
    "right_edge.add_point([-50,3,0],[50,3,0])\n",
    "right_edge.color=Color(b=1)\n",
    "right_edge.width=2\n",
    "scen.add(left_edge,right_edge)\n",
    "\n",
    "class Agent(Cube):\n",
    "    def __init__(self,color):\n",
    "        Cube.__init__(self,4,1.8,1.48)\n",
    "        self.color=color\n",
    "        self.front=None\n",
    "        self.local_velocity=Vector3()\n",
    "        self.log=[]\n",
    "        \n",
    "    def on_step(self,dt):\n",
    "        if self.front:\n",
    "            safe_distance=self.local_velocity.norm().item()**2/9+6\n",
    "            d=(self.front.position-self.position).norm().item()\n",
    "            self.local_velocity=Vector3(x=0.5*(d-safe_distance))\n",
    "            self.log.append(dict(sd=safe_distance,d=d,lv=self.local_velocity[0].item()))\n",
    "        else:\n",
    "#             self.local_velocity=Vector3(x=max(7-scen.t,0))\n",
    "            self.local_velocity=Vector3(x=7)\n",
    "        \n",
    "red=Agent(Color(r=1))\n",
    "red.position=Vector3(-30,-1.5,0.74)\n",
    "\n",
    "blue=Agent(Color(b=1))\n",
    "blue.front=red\n",
    "blue.position=Vector3(-40,-1.5,0.74)\n",
    "\n",
    "scen.add(red,blue)\n",
    "# scen.render()\n",
    "def run(scen):\n",
    "    while scen.t<20:\n",
    "        scen.step(0.1)\n",
    "        scen.render()\n",
    "        sleep(0.1)\n",
    "        \n",
    "sim=threading.Thread(target=run,args=(scen,))\n",
    "sim.start()"
   ]
  },
  {
   "cell_type": "code",
   "execution_count": 8,
   "metadata": {},
   "outputs": [
    {
     "data": {
      "text/plain": [
       "<matplotlib.axes._subplots.AxesSubplot at 0x7fdbc2251210>"
      ]
     },
     "execution_count": 8,
     "metadata": {},
     "output_type": "execute_result"
    },
    {
     "data": {
      "image/png": "[encoded data removed]",
      "text/plain": [
       "<Figure size 432x288 with 1 Axes>"
      ]
     },
     "metadata": {
      "needs_background": "light"
     },
     "output_type": "display_data"
    }
   ],
   "source": [
    "%matplotlib inline\n",
    "from pandas import DataFrame\n",
    "log=DataFrame(blue.log)\n",
    "log[[\"sd\",\"d\",\"lv\"]].plot(grid=True)"
   ]
  },
  {
   "cell_type": "markdown",
   "metadata": {},
   "source": [
    "### Eg.2\n",
    "Still those two cars. Change the rule that the red car's speed follows. Set its speed to a constant value.\n",
    "\n",
    "$d_{target}=5m$\n",
    "\n",
    "$d_{real}\\uparrow v_{blue}\\uparrow$"
   ]
  },
  {
   "cell_type": "markdown",
   "metadata": {},
   "source": [
    "$v_{blue}$ should decrease before $d_{real}=d_{target}$"
   ]
  },
  {
   "cell_type": "markdown",
   "metadata": {},
   "source": [
    "When $v_{blue}=v_{red}$ and $d_{real}=d_{target}$, the system enter stable state."
   ]
  },
  {
   "cell_type": "code",
   "execution_count": 16,
   "metadata": {},
   "outputs": [
    {
     "data": {
      "text/html": [
       "\n",
       "        <iframe\n",
       "            width=\"100%\"\n",
       "            height=\"600px\"\n",
       "            src=\"http://localhost:8000/view/140583261142352\"\n",
       "            frameborder=\"0\"\n",
       "            allowfullscreen\n",
       "        ></iframe>\n",
       "        "
      ],
      "text/plain": [
       "<IPython.lib.display.IFrame at 0x7fdbb5f9e790>"
      ]
     },
     "metadata": {},
     "output_type": "display_data"
    }
   ],
   "source": [
    "from scenario import *\n",
    "\n",
    "scen=Scenario()\n",
    "left_edge=Line()\n",
    "left_edge.add_point([-50,-3,0],[50,-3,0])\n",
    "left_edge.color=Color(b=1)\n",
    "left_edge.width=2\n",
    "right_edge=Line()\n",
    "right_edge.add_point([-50,3,0],[50,3,0])\n",
    "right_edge.color=Color(b=1)\n",
    "right_edge.width=2\n",
    "scen.add(left_edge,right_edge)\n",
    "\n",
    "class Agent(Cube):\n",
    "    def __init__(self,color):\n",
    "        Cube.__init__(self,4,1.8,1.48)\n",
    "        self.color=color\n",
    "        self.front=None\n",
    "        self.local_velocity=Vector3()\n",
    "        self.log=[]\n",
    "        self.pid=PID(1.2,0.4,0)\n",
    "        \n",
    "    def on_step(self,dt):\n",
    "        if self.front:\n",
    "            safe_distance=self.velocity.norm().item()**2/9+6\n",
    "            d=(self.front.position-self.position)[0].item()\n",
    "            err=d-safe_distance\n",
    "            self.local_velocity=Vector3(max(self.local_velocity[0]+self.pid.step(err,dt),0),0,0)\n",
    "            self.log.append(dict(sd=safe_distance,d=d,err=err,lv=self.local_velocity[0].item(),v=self.velocity[0].item()))\n",
    "        else:\n",
    "#             self.local_velocity=Vector3(x=max(7.5-scen.t,0))\n",
    "            self.local_velocity=Vector3(x=3*sin(scen.t)+3)\n",
    "        \n",
    "red=Agent(Color(r=1))\n",
    "red.position=Vector3(-30,-1.5,0.74)\n",
    "\n",
    "blue=Agent(Color(b=1))\n",
    "blue.front=red\n",
    "blue.position=Vector3(-40,-1.5,0.74)\n",
    "\n",
    "scen.add(red,blue)\n",
    "scen.render()\n",
    "def run(scen):\n",
    "    while scen.t<10:\n",
    "        scen.step(0.1)\n",
    "        sleep(0.1)\n",
    "        scen.render()\n",
    "sim=threading.Thread(target=run,args=(scen,))\n",
    "sim.start()"
   ]
  },
  {
   "cell_type": "code",
   "execution_count": 24,
   "metadata": {},
   "outputs": [
    {
     "data": {
      "text/plain": [
       "<matplotlib.axes._subplots.AxesSubplot at 0x7fdbb57c4cd0>"
      ]
     },
     "execution_count": 24,
     "metadata": {},
     "output_type": "execute_result"
    },
    {
     "data": {
      "image/png": "[encoded data removed]",
      "text/plain": [
       "<Figure size 432x288 with 1 Axes>"
      ]
     },
     "metadata": {
      "needs_background": "light"
     },
     "output_type": "display_data"
    }
   ],
   "source": [
    "%matplotlib inline\n",
    "from pandas import *\n",
    "log=DataFrame(blue.log)\n",
    "log[[\"sd\",\"d\",\"err\",\"v\"]].plot(grid=True)"
   ]
  },
  {
   "cell_type": "code",
   "execution_count": 27,
   "metadata": {},
   "outputs": [
    {
     "data": {
      "text/html": [
       "\n",
       "        <iframe\n",
       "            width=\"100%\"\n",
       "            height=\"600px\"\n",
       "            src=\"http://localhost:8000/view/139735110296144\"\n",
       "            frameborder=\"0\"\n",
       "            allowfullscreen\n",
       "        ></iframe>\n",
       "        "
      ],
      "text/plain": [
       "<IPython.lib.display.IFrame at 0x7f169d93d550>"
      ]
     },
     "metadata": {},
     "output_type": "display_data"
    }
   ],
   "source": [
    "from scenario import *\n",
    "from pandas import *\n",
    "scen=Scenario()\n",
    "left_edge=Line()\n",
    "left_edge.add_point([-50,-3,0],[50,-3,0])\n",
    "left_edge.color=Color(b=1)\n",
    "left_edge.width=2\n",
    "right_edge=Line()\n",
    "right_edge.add_point([-50,3,0],[50,3,0])\n",
    "right_edge.color=Color(b=1)\n",
    "right_edge.width=2\n",
    "scen.add(left_edge,right_edge)\n",
    "\n",
    "class Agent(Cube):\n",
    "    def __init__(self):\n",
    "        Cube.__init__(self,4,1.8,1.48)\n",
    "        self.front=None\n",
    "        self.local_velocity=Vector3()\n",
    "        self.pid=PID(1.,0.07,0)\n",
    "        self.log=[]\n",
    "        \n",
    "    def on_step(self,dt):\n",
    "        if self.front:\n",
    "            safe_distance=self.velocity.norm().item()**2/9+6\n",
    "            d=(self.front.position-self.position)[0].item()\n",
    "            err=d-safe_distance\n",
    "            dv=self.pid.step(err,dt)\n",
    "            self.local_velocity=Vector3(max(self.local_velocity[0]+dv,0),0,0)\n",
    "            self.log.append({\"safe distance\":safe_distance,\n",
    "                        \"distance\":d,\n",
    "                        \"error\":err,\n",
    "                        \"dv\":dv,\n",
    "                        \"local velocity\":self.local_velocity[0].item(),\n",
    "                        \"velocity\":self.velocity[0].item()})\n",
    "        else:\n",
    "            self.local_velocity=Vector3(x=max(10-scen.t,0))\n",
    "#             self.local_velocity=Vector3(x=3*sin(scen.t)+3)\n",
    "            self.log.append({\"t\":scen.t,\n",
    "                \"local velocity\":self.local_velocity[0].item(),\n",
    "                        \"velocity\":self.velocity[0].item()})\n",
    "        \n",
    "front=None       \n",
    "for i in range(10):\n",
    "    a=Agent()\n",
    "    a.id=i\n",
    "    a.position=Vector3(-50-10*i,-1.5,0.74)\n",
    "    a.front=front\n",
    "    scen.add(a)\n",
    "    front=a\n",
    "\n",
    "def run(scen):\n",
    "    scen.render()\n",
    "    while scen.t<20:\n",
    "        scen.step(0.1)\n",
    "        scen.render()\n",
    "        sleep(0.1)\n",
    "        \n",
    "sim=threading.Thread(target=run,args=(scen,))\n",
    "sim.start()"
   ]
  },
  {
   "cell_type": "code",
   "execution_count": 11,
   "metadata": {},
   "outputs": [
    {
     "data": {
      "text/plain": [
       "<matplotlib.axes._subplots.AxesSubplot at 0x7f169e556d10>"
      ]
     },
     "execution_count": 11,
     "metadata": {},
     "output_type": "execute_result"
    },
    {
     "data": {
      "image/png": "[encoded data removed]",
      "text/plain": [
       "<Figure size 432x288 with 1 Axes>"
      ]
     },
     "metadata": {
      "needs_background": "light"
     },
     "output_type": "display_data"
    }
   ],
   "source": [
    "%matplotlib inline\n",
    "from pandas import *\n",
    "from IPython import display\n",
    "\n",
    "dfs=[DataFrame(scen.objects[0].log)[[\"t\"]]]\n",
    "for i in range(10):\n",
    "    v=DataFrame(scen.objects[i].log)[[\"velocity\"]]\n",
    "    v=v.rename(columns={\"velocity\":\"velocity\"+str(i)})\n",
    "    dfs.append(v)\n",
    "concat(dfs,axis=1).plot(x=\"t\",grid=True)"
   ]
  },
  {
   "cell_type": "code",
   "execution_count": 26,
   "metadata": {},
   "outputs": [
    {
     "data": {
      "text/plain": [
       "<Figure size 432x288 with 0 Axes>"
      ]
     },
     "metadata": {},
     "output_type": "display_data"
    }
   ],
   "source": [
    "from IPython import display\n",
    "import matplotlib.pyplot as plt\n",
    "fig=plt.figure()\n",
    "while scen.t<20:\n",
    "    sleep(1)\n",
    "    display.clear_output(wait=True)\n",
    "    plt.clf()\n",
    "    plt.grid()\n",
    "    plt.plot(DataFrame(scen.objects[1].log)[[\"velocity\"]])\n",
    "    display.display(fig)"
   ]
  },
  {
   "cell_type": "markdown",
   "metadata": {},
   "source": [
    "### Eg.4\n",
    "**Path Tracking**. A blue car tracks a given path. "
   ]
  },
  {
   "cell_type": "code",
   "execution_count": 1,
   "metadata": {},
   "outputs": [
    {
     "data": {
      "text/html": [
       "\n",
       "        <iframe\n",
       "            width=\"100%\"\n",
       "            height=\"600px\"\n",
       "            src=\"http://localhost:8000/view/139791851138576\"\n",
       "            frameborder=\"0\"\n",
       "            allowfullscreen\n",
       "        ></iframe>\n",
       "        "
      ],
      "text/plain": [
       "<IPython.lib.display.IFrame at 0x7f244024f890>"
      ]
     },
     "metadata": {},
     "output_type": "display_data"
    }
   ],
   "source": [
    "from scenario import *\n",
    "from time import sleep\n",
    "path=Line()\n",
    "path.color=Color(g=0.3)\n",
    "x=torch.linspace(-1.5,1.5)\n",
    "y=torch.tan(x)\n",
    "path.points=torch.empty(len(x),3)\n",
    "path.points[:,0]=x\n",
    "path.points[:,1]=y\n",
    "path.points[:,2]=0.5\n",
    "scen=Scenario()\n",
    "scen.add(path)\n",
    "car=Cube()\n",
    "car.color=Color(b=0.8)\n",
    "car.direction=Vector3(0,1,0)\n",
    "car.position=path.points[0]+Vector3(0,0,0.5)\n",
    "scen.add(car)\n",
    "car.add(Line.Vector(car.direction))\n",
    "for p in path.points:\n",
    "    car.lookat(p)\n",
    "    car.position=p\n",
    "    scen.render()\n",
    "    sleep(0.1)"
   ]
  },
  {
   "cell_type": "markdown",
   "metadata": {},
   "source": [
    "### Eg.4\n",
    "\n",
    "The red car do not move. The blue car change lane. After action, the blue car's rotation do not change, but position is forward and offset to left lane. Local velocity of the blue car do not change during the process."
   ]
  },
  {
   "cell_type": "code",
   "execution_count": 1,
   "metadata": {},
   "outputs": [
    {
     "data": {
      "text/html": [
       "\n",
       "        <iframe\n",
       "            width=\"100%\"\n",
       "            height=\"600px\"\n",
       "            src=\"http://localhost:8000/view/139900241429136\"\n",
       "            frameborder=\"0\"\n",
       "            allowfullscreen\n",
       "        ></iframe>\n",
       "        "
      ],
      "text/plain": [
       "<IPython.lib.display.IFrame at 0x7f3c9d28b090>"
      ]
     },
     "metadata": {},
     "output_type": "display_data"
    }
   ],
   "source": [
    "from scenario import *\n",
    "import matplotlib.pyplot as plt\n",
    "\n",
    "scen=Scenario()\n",
    "left_edge=Line()\n",
    "left_edge.add_point([-50,-3,0],[50,-3,0])\n",
    "left_edge.color=Color(b=1)\n",
    "left_edge.width=2\n",
    "right_edge=Line()\n",
    "right_edge.add_point([-50,3,0],[50,3,0])\n",
    "right_edge.color=Color(b=1)\n",
    "right_edge.width=2\n",
    "scen.add(left_edge,right_edge)\n",
    "\n",
    "class Agent(Cube):\n",
    "    def __init__(self,color):\n",
    "        Cube.__init__(self,4,1.8,1.48)\n",
    "        self.color=color\n",
    "        self.front=None\n",
    "        self.pid=PID(0.02,0.0,0.0)\n",
    "        self.log=[]\n",
    "        \n",
    "    def on_step(self,dt):\n",
    "        if self.front:\n",
    "            self.turn_left(dt)\n",
    "            self.local_velocity=Vector3(2,0,0)\n",
    "        \n",
    "    def turn_left(self,dt):\n",
    "        r=self.rotation.to_eular()[2]\n",
    "        d=0.75-self.position[1]\n",
    "        err=d\n",
    "        av=self.pid.step(err,dt)\n",
    "        self.local_angular_velocity=Rotation.Eular(0,0,av)\n",
    "        self.log.append({\"t\":scen.t,\"yaw\":r,\"y distance\":d,\"error\":err,\"angular velocity\":av})\n",
    "        if abs(d)<0.1 and abs(r)<0.1:\n",
    "            self.turning=False\n",
    "            self.local_angular_velocity=Rotation()\n",
    "        \n",
    "red=Agent(Color(r=1))\n",
    "red.position=Vector3(-30,-1.5,0.74)\n",
    "blue=Agent(Color(b=1))\n",
    "blue.front=red\n",
    "blue.position=Vector3(-40,-1.5,0.74)\n",
    "\n",
    "blue.add(Line.Vector(4*blue.direction))\n",
    "path=Line()\n",
    "scen.add(red,blue,path)\n",
    "def onkey(key):\n",
    "    print(key)\n",
    "scen.on_key=onkey\n",
    "scen.render()\n",
    "def run(scen):\n",
    "    while scen.t<40:\n",
    "        scen.step(0.1)\n",
    "        path.add_point(blue.position)\n",
    "        sleep(0.1)\n",
    "        scen.render()\n",
    "sim=threading.Thread(target=run,args=(scen,))\n",
    "sim.start()"
   ]
  },
  {
   "cell_type": "code",
   "execution_count": 29,
   "metadata": {},
   "outputs": [
    {
     "data": {
      "text/plain": [
       "<matplotlib.axes._subplots.AxesSubplot at 0x7f169ec7a390>"
      ]
     },
     "execution_count": 29,
     "metadata": {},
     "output_type": "execute_result"
    },
    {
     "data": {
      "image/png": "[encoded data removed]",
      "text/plain": [
       "<Figure size 432x288 with 1 Axes>"
      ]
     },
     "metadata": {
      "needs_background": "light"
     },
     "output_type": "display_data"
    }
   ],
   "source": [
    "%matplotlib inline\n",
    "from pandas import *\n",
    "log=DataFrame(blue.log)\n",
    "log[[\"t\",\"yaw\"]].plot(x=\"t\",y=\"yaw\",grid=True)"
   ]
  },
  {
   "cell_type": "markdown",
   "metadata": {},
   "source": [
    "### Eg.5"
   ]
  },
  {
   "cell_type": "code",
   "execution_count": 5,
   "metadata": {},
   "outputs": [
    {
     "data": {
      "text/html": [
       "\n",
       "        <iframe\n",
       "            width=\"100%\"\n",
       "            height=\"600px\"\n",
       "            src=\"http://localhost:8000/view/139791803033552\"\n",
       "            frameborder=\"0\"\n",
       "            allowfullscreen\n",
       "        ></iframe>\n",
       "        "
      ],
      "text/plain": [
       "<IPython.lib.display.IFrame at 0x7f23cb582c10>"
      ]
     },
     "metadata": {},
     "output_type": "display_data"
    }
   ],
   "source": [
    "from scenario import *\n",
    "l=Line()\n",
    "l.color=Color(r=1)\n",
    "x=torch.linspace(0,100,10)\n",
    "l.points=torch.zeros(len(x),3)\n",
    "l.points[:,0]=x\n",
    "l.points[:,1]=4\n",
    "l.points[1]=0.7*l.points[2]+0.3*Vector3()\n",
    "l.points[2]=0.7*l.points[3]+0.3*l.points[1]\n",
    "s1=Sphere(0.2)\n",
    "s1.position=l.points[1]\n",
    "s2=Sphere(0.2)\n",
    "s2.position=l.points[2]\n",
    "scen=Scenario()\n",
    "scen.add(l,s1,s2)\n",
    "scen.render()"
   ]
  },
  {
   "cell_type": "code",
   "execution_count": 8,
   "metadata": {},
   "outputs": [],
   "source": [
    "class A:\n",
    "    def __init__(self):\n",
    "        self.on_key=None\n",
    "        \n",
    "a=A()\n",
    "def move(key):\n",
    "    if key==\"D\":\n",
    "        cube.position+=Vector3(0,0,1)\n",
    "a.on_key=move"
   ]
  },
  {
   "cell_type": "code",
   "execution_count": 11,
   "metadata": {},
   "outputs": [],
   "source": [
    "a.on_key(\"D\")"
   ]
  },
  {
   "cell_type": "code",
   "execution_count": 12,
   "metadata": {},
   "outputs": [
    {
     "data": {
      "text/plain": [
       "tensor([17.8972,  9.7392,  2.5000])"
      ]
     },
     "execution_count": 12,
     "metadata": {},
     "output_type": "execute_result"
    }
   ],
   "source": [
    "cube.position"
   ]
  },
  {
   "cell_type": "code",
   "execution_count": null,
   "metadata": {},
   "outputs": [],
   "source": []
  }
 ],
 "metadata": {
  "kernelspec": {
   "display_name": "Python 3",
   "language": "python",
   "name": "python3"
  },
  "language_info": {
   "codemirror_mode": {
    "name": "ipython",
    "version": 3
   },
   "file_extension": ".py",
   "mimetype": "text/x-python",
   "name": "python",
   "nbconvert_exporter": "python",
   "pygments_lexer": "ipython3",
   "version": "3.7.4"
  }
 },
 "nbformat": 4,
 "nbformat_minor": 4
}
