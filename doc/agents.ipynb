{
 "cells": [
  {
   "cell_type": "markdown",
   "metadata": {},
   "source": [
    "*Copyright (c) Tumiz. Distributed under the terms of the GPL-3.0 License.*"
   ]
  },
  {
   "cell_type": "markdown",
   "metadata": {},
   "source": [
    "# Simulation of agents"
   ]
  },
  {
   "cell_type": "markdown",
   "metadata": {},
   "source": [
    "## random agent\n",
    "**Eg.1** Create a **random agent** and draw its trajectory"
   ]
  },
  {
   "cell_type": "code",
   "execution_count": 2,
   "metadata": {},
   "outputs": [],
   "source": [
    "from scenario import *\n",
    "from time import sleep\n",
    "from random import random\n",
    "scen = Scenario()\n",
    "cube=Cube()\n",
    "cube.position=Vector3(1,1,0.5)\n",
    "cube.rotation=Rotation.Eular(z=0.3)\n",
    "traj=Line()\n",
    "traj.type=Line.Type_Vector\n",
    "traj.width=2\n",
    "scen.add(cube,traj)\n",
    "traj.points.append(cube.position.tolist())\n",
    "while scen.t<6:\n",
    "    cube.local_velocity=Vector3.Rand(x=[0,4])\n",
    "    cube.local_angular_velocity=Rotation.Eular(z=random()-0.4)\n",
    "    scen.step(0.1)\n",
    "    traj.points.append(cube.position.tolist())\n",
    "    scen.render()\n",
    "    sleep(0.1)"
   ]
  },
  {
   "cell_type": "markdown",
   "metadata": {},
   "source": [
    "**Eg.2** Create ten random agents"
   ]
  },
  {
   "cell_type": "code",
   "execution_count": 3,
   "metadata": {},
   "outputs": [
    {
     "name": "stdout",
     "output_type": "stream",
     "text": [
      "12.345839500427246\n"
     ]
    }
   ],
   "source": [
    "from scenario import *\n",
    "from time import sleep,time\n",
    "from random import random\n",
    "import types\n",
    "scen = Scenario()\n",
    "n=10\n",
    "def on_step(obj):\n",
    "    obj.local_velocity=Vector3.Rand(x=[0,4])\n",
    "    obj.local_angular_velocity=Rotation.Eular(z=random()-0.5)\n",
    "for i in range(n):\n",
    "    cube=Cube()\n",
    "    cube.position=Vector3(0,0,0.5)\n",
    "    cube.color=Color.Rand()\n",
    "    cube.on_step=types.MethodType(on_step,cube)\n",
    "    scen.add(cube)\n",
    "t=time()\n",
    "while scen.t<10:\n",
    "    scen.step(0.1)\n",
    "    scen.render()\n",
    "    sleep(0.1)\n",
    "print(time()-t)"
   ]
  },
  {
   "cell_type": "markdown",
   "metadata": {},
   "source": [
    "**Eg.3** An agent follow a random agent"
   ]
  },
  {
   "cell_type": "code",
   "execution_count": 5,
   "metadata": {},
   "outputs": [],
   "source": [
    "from scenario import *\n",
    "from time import sleep\n",
    "from random import random\n",
    "scen = Scenario()\n",
    "cube=Cube()\n",
    "cube.scale=Vector3(2,1,1)\n",
    "cube.position=Vector3(3,3,0.5)\n",
    "cube.color=Color(r=1)\n",
    "cube.rotation=Rotation.Eular(z=0.3)\n",
    "cube1=Cube()\n",
    "cube1.scale=Vector3(2,1,1)\n",
    "cube1.position=Vector3(0,0,0.5)\n",
    "cube1.color=Color(b=1)\n",
    "scen.add(cube,cube1)\n",
    "scen.render()\n",
    "\n",
    "while scen.t<10:\n",
    "    cube.local_velocity=Vector3.Rand(x=[0,2])\n",
    "    cube.local_angular_velocity=Rotation.Eular(z=random()-0.3)\n",
    "    cube1.local_velocity=Vector3(x=1)\n",
    "    cube1.lookat(cube.position)\n",
    "    scen.step(0.1)\n",
    "    scen.render()\n",
    "    sleep(0.1)"
   ]
  },
  {
   "cell_type": "markdown",
   "metadata": {},
   "source": [
    "**Eg.4** An random agent and following agents, one by one."
   ]
  },
  {
   "cell_type": "code",
   "execution_count": 3,
   "metadata": {},
   "outputs": [
    {
     "data": {
      "text/html": [
       "\n",
       "        <iframe\n",
       "            width=\"100%\"\n",
       "            height=\"600px\"\n",
       "            src=\"http://localhost:8002/view/140337927038160\"\n",
       "            frameborder=\"0\"\n",
       "            allowfullscreen\n",
       "        ></iframe>\n",
       "        "
      ],
      "text/plain": [
       "<IPython.lib.display.IFrame at 0x7fa2f850d4d0>"
      ]
     },
     "metadata": {},
     "output_type": "display_data"
    }
   ],
   "source": [
    "from scenario import *\n",
    "from time import sleep\n",
    "class Follower(Cube):\n",
    "    def __init__(self):\n",
    "        Cube.__init__(self)\n",
    "        self.scale=Vector3(2,1,1)\n",
    "        self.front=None\n",
    "    def on_step(self):\n",
    "        if self.front:\n",
    "            d=(self.front.position-self.position).norm()\n",
    "            self.local_velocity=Vector3(x=d*0.1)\n",
    "            self.lookat(self.front.position)\n",
    "        else:\n",
    "            self.local_velocity=Vector3.Rand(x=[0,2])\n",
    "            self.local_angular_velocity=Rotation.Eular(z=0.1)\n",
    "scen = Scenario()\n",
    "n=10\n",
    "front=None\n",
    "for i in range(n):\n",
    "    f=Follower()\n",
    "    f.position=Vector3(10,0,0.5)-i*Vector3(3,0,0)\n",
    "    if front:\n",
    "        f.front=front\n",
    "    scen.add(f)\n",
    "    front=f\n",
    "while scen.t<15:\n",
    "    scen.step(0.1)\n",
    "    scen.render()\n",
    "    sleep(0.1)"
   ]
  },
  {
   "cell_type": "markdown",
   "metadata": {},
   "source": [
    "**Eg.5** Do more. Two queues of agents"
   ]
  },
  {
   "cell_type": "code",
   "execution_count": 2,
   "metadata": {},
   "outputs": [],
   "source": [
    "from scenario import *\n",
    "from time import sleep\n",
    "\n",
    "class Follower(Cube):\n",
    "    def __init__(self):\n",
    "        Cube.__init__(self)\n",
    "        self.scale=Vector3(2,1,1)\n",
    "        self.color=Color.Rand()\n",
    "        self.front=None\n",
    "        self.angular_offset=0.15\n",
    "    def on_step(self):\n",
    "        if self.front:\n",
    "            d=(self.front.position-self.position).norm()\n",
    "            self.local_velocity=Vector3(x=d*0.1)\n",
    "            self.lookat(self.front.position)\n",
    "        else:\n",
    "            self.local_velocity=Vector3.Rand(x=[0,2])\n",
    "            self.local_angular_velocity=Rotation.Eular(z=self.angular_offset)\n",
    "scen = Scenario()\n",
    "n=10\n",
    "front=None\n",
    "for i in range(n):\n",
    "    f=Follower()\n",
    "    f.position=Vector3(30,0,0.5)-i*Vector3(3,0,0)\n",
    "    if front:\n",
    "        f.front=front\n",
    "    scen.add(f)\n",
    "    front=f\n",
    "front=None\n",
    "for i in range(n):\n",
    "    f=Follower()\n",
    "    f.position=Vector3(0,30,0.5)-i*Vector3(0,3,0)\n",
    "    f.lookat(Vector3(0,50,0))\n",
    "    f.angular_offset=-0.15\n",
    "    if front:\n",
    "        f.front=front\n",
    "    scen.add(f)\n",
    "    front=f\n",
    "scen.render()\n",
    "\n",
    "while scen.t<20:\n",
    "    scen.step(0.1)\n",
    "    scen.render()\n",
    "    sleep(0.1)"
   ]
  },
  {
   "cell_type": "markdown",
   "metadata": {},
   "source": [
    "## Traffic"
   ]
  },
  {
   "cell_type": "markdown",
   "metadata": {},
   "source": [
    "### Eg.1\n",
    "A long straight road which has two lanes. There are two cars on this road. One is red, and another is blue and follows the red one. The red car's speed decreases from 7m/s, while the blue car run fast as possible until reach safe distance between those two cars. "
   ]
  },
  {
   "cell_type": "code",
   "execution_count": 3,
   "metadata": {},
   "outputs": [
    {
     "data": {
      "text/html": [
       "\n",
       "        <iframe\n",
       "            width=\"100%\"\n",
       "            height=\"600px\"\n",
       "            src=\"http://localhost:8000/view/140640886046352\"\n",
       "            frameborder=\"0\"\n",
       "            allowfullscreen\n",
       "        ></iframe>\n",
       "        "
      ],
      "text/plain": [
       "<IPython.lib.display.IFrame at 0x7fe9f46f4b10>"
      ]
     },
     "metadata": {},
     "output_type": "display_data"
    }
   ],
   "source": [
    "from scenario import *\n",
    "\n",
    "scen=Scenario()\n",
    "left_edge=Line()\n",
    "left_edge.points=[[-50,-3,0],[50,-3,0]]\n",
    "left_edge.color=Color(b=1)\n",
    "left_edge.width=2\n",
    "right_edge=Line()\n",
    "right_edge.points=[[-50,3,0],[50,3,0]]\n",
    "right_edge.color=Color(b=1)\n",
    "right_edge.width=2\n",
    "scen.add(left_edge,right_edge)\n",
    "\n",
    "class Agent(Cube):\n",
    "    def __init__(self,color):\n",
    "        Cube.__init__(self,4,1.8,1.48)\n",
    "        self.color=color\n",
    "        self.front=None\n",
    "        self.local_velocity=Vector3()\n",
    "        self.sds=[]\n",
    "        self.ds=[]\n",
    "        self.vs=[]\n",
    "        \n",
    "    def on_step(self):\n",
    "        if self.front:\n",
    "            safe_distance=self.local_velocity.norm()**2/9+6\n",
    "            d=(self.front.position-self.position).norm()\n",
    "            self.sds.append(safe_distance)\n",
    "            self.ds.append(d)\n",
    "            self.local_velocity=Vector3(x=0.5*(d-safe_distance))\n",
    "        else:\n",
    "            self.local_velocity=Vector3(x=max(7-scen.t,0))\n",
    "        self.vs.append(self.local_velocity[0])\n",
    "        \n",
    "red=Agent(Color(r=1))\n",
    "red.position=Vector3(-30,-1.5,0.74)\n",
    "\n",
    "blue=Agent(Color(b=1))\n",
    "blue.front=red\n",
    "blue.position=Vector3(-40,-1.5,0.74)\n",
    "\n",
    "scen.add(red,blue)\n",
    "scen.render()\n",
    "\n",
    "from time import sleep\n",
    "scen.t=0\n",
    "while scen.t<20:\n",
    "    scen.step(0.1)\n",
    "    sleep(0.1)\n",
    "    scen.render()"
   ]
  },
  {
   "cell_type": "code",
   "execution_count": 5,
   "metadata": {},
   "outputs": [
    {
     "data": {
      "image/png": "[encoded data removed]",
      "text/plain": [
       "<Figure size 432x288 with 1 Axes>"
      ]
     },
     "metadata": {
      "needs_background": "light"
     },
     "output_type": "display_data"
    }
   ],
   "source": [
    "import matplotlib.pyplot as plt\n",
    "s,=plt.plot(blue.sds)\n",
    "d,=plt.plot(blue.ds)\n",
    "rv,=plt.plot(red.vs)\n",
    "bv,=plt.plot(blue.vs)\n",
    "plt.legend([s,d,rv,bv],[\"safe distance\",\"distance\",\"rv\",\"bv\"])\n",
    "plt.grid()\n",
    "plt.show()"
   ]
  },
  {
   "cell_type": "markdown",
   "metadata": {},
   "source": [
    "### Eg.2\n",
    "Still those two cars. Change the rule that the red car's speed follows. Set its speed to a constant value.\n",
    "\n",
    "$d_{target}=5m$\n",
    "\n",
    "$d_{real}\\uparrow v_{blue}\\uparrow$"
   ]
  },
  {
   "cell_type": "markdown",
   "metadata": {},
   "source": [
    "$v_{blue}$ should decrease before $d_{real}=d_{target}$"
   ]
  },
  {
   "cell_type": "markdown",
   "metadata": {},
   "source": [
    "When $v_{blue}=v_{red}$ and $d_{real}=d_{target}$, the system enter stable state."
   ]
  },
  {
   "cell_type": "code",
   "execution_count": 2,
   "metadata": {},
   "outputs": [
    {
     "data": {
      "text/html": [
       "\n",
       "        <iframe\n",
       "            width=\"100%\"\n",
       "            height=\"600px\"\n",
       "            src=\"http://localhost:8000/view/140620723141776\"\n",
       "            frameborder=\"0\"\n",
       "            allowfullscreen\n",
       "        ></iframe>\n",
       "        "
      ],
      "text/plain": [
       "<IPython.lib.display.IFrame at 0x7fe4aa29be50>"
      ]
     },
     "metadata": {},
     "output_type": "display_data"
    }
   ],
   "source": [
    "from scenario import *\n",
    "\n",
    "scen=Scenario()\n",
    "left_edge=Line()\n",
    "left_edge.points=[[-50,-3,0],[50,-3,0]]\n",
    "left_edge.color=Color(b=1)\n",
    "left_edge.width=2\n",
    "right_edge=Line()\n",
    "right_edge.points=[[-50,3,0],[50,3,0]]\n",
    "right_edge.color=Color(b=1)\n",
    "right_edge.width=2\n",
    "scen.add(left_edge,right_edge)\n",
    "\n",
    "class Agent(Cube):\n",
    "    def __init__(self,color):\n",
    "        Cube.__init__(self,4,1.8,1.48)\n",
    "        self.color=color\n",
    "        self.front=None\n",
    "        self.local_velocity=Vector3()\n",
    "        self.sds=[]\n",
    "        self.ds=[]\n",
    "        self.vs=[]\n",
    "        self.errs=[]\n",
    "        self.pid=PID(1.2,0.4,0)\n",
    "        \n",
    "    def on_step(self,dt):\n",
    "        if self.front:\n",
    "            safe_distance=(self.velocity-self.front.velocity).norm()**2/9+6\n",
    "            d=(self.front.position-self.position)[0]\n",
    "            err=d-safe_distance\n",
    "            self.sds.append(safe_distance)\n",
    "            self.ds.append(d)\n",
    "            self.errs.append(err)\n",
    "            self.local_velocity=Vector3(x=self.pid.step(err,dt))\n",
    "        else:\n",
    "            self.local_velocity=Vector3(x=5)\n",
    "        self.vs.append(self.local_velocity.tolist()[0])\n",
    "        \n",
    "red=Agent(Color(r=1))\n",
    "red.position=Vector3(-30,-1.5,0.74)\n",
    "\n",
    "blue=Agent(Color(b=1))\n",
    "blue.front=red\n",
    "blue.position=Vector3(-40,-1.5,0.74)\n",
    "\n",
    "scen.add(red,blue)\n",
    "scen.render()\n",
    "\n",
    "from time import sleep\n",
    "scen.t=0\n",
    "while scen.t<10:\n",
    "    scen.step(0.1)\n",
    "    sleep(0.1)\n",
    "    scen.render()"
   ]
  },
  {
   "cell_type": "code",
   "execution_count": 3,
   "metadata": {},
   "outputs": [
    {
     "data": {
      "image/png": "[encoded data removed]",
      "text/plain": [
       "<Figure size 432x288 with 1 Axes>"
      ]
     },
     "metadata": {
      "needs_background": "light"
     },
     "output_type": "display_data"
    }
   ],
   "source": [
    "import matplotlib.pyplot as plt\n",
    "s,=plt.plot(blue.sds)\n",
    "d,=plt.plot(blue.ds)\n",
    "e,=plt.plot(blue.errs)\n",
    "rv,=plt.plot(red.vs)\n",
    "bv,=plt.plot(blue.vs)\n",
    "plt.legend([s,d,e,rv,bv],[\"safe distance\",\"distance\",\"error\",\"red v\",\"blue v\"])\n",
    "plt.grid()\n",
    "plt.show()"
   ]
  },
  {
   "cell_type": "markdown",
   "metadata": {},
   "source": [
    "### Eg.4\n",
    "**Path Tracking**. A blue car tracks a given path. "
   ]
  },
  {
   "cell_type": "code",
   "execution_count": 8,
   "metadata": {},
   "outputs": [
    {
     "data": {
      "text/html": [
       "\n",
       "        <iframe\n",
       "            width=\"100%\"\n",
       "            height=\"600px\"\n",
       "            src=\"http://localhost:8000/view/140165348251920\"\n",
       "            frameborder=\"0\"\n",
       "            allowfullscreen\n",
       "        ></iframe>\n",
       "        "
      ],
      "text/plain": [
       "<IPython.lib.display.IFrame at 0x7f7acbe1d790>"
      ]
     },
     "metadata": {},
     "output_type": "display_data"
    }
   ],
   "source": [
    "from scenario import *\n",
    "from time import sleep\n",
    "path=Line()\n",
    "path.color=Color(g=0.3)\n",
    "x=torch.linspace(-1.5,1.5)\n",
    "y=torch.tan(x)\n",
    "path.points=torch.empty(len(x),3)\n",
    "path.points[:,0]=x\n",
    "path.points[:,1]=y\n",
    "path.points[:,2]=0.5\n",
    "scen=Scenario()\n",
    "scen.add(path)\n",
    "car=Cube()\n",
    "car.color=Color(b=0.8)\n",
    "car.direction=Vector3(0,1,0)\n",
    "car.position=path.points[0]+Vector3(0,0,0.5)\n",
    "scen.add(car)\n",
    "car.add(Line.Vector(car.direction))\n",
    "for p in path.points:\n",
    "    car.lookat(p)\n",
    "    car.position=p\n",
    "    scen.render()\n",
    "    sleep(0.1)"
   ]
  },
  {
   "cell_type": "markdown",
   "metadata": {},
   "source": [
    "### Eg.4\n",
    "\n",
    "The red car do not move. The blue car change lane. After action, the blue car's rotation do not change, but position is forward and offset to left lane. Local velocity of the blue car do not change during the process."
   ]
  },
  {
   "cell_type": "code",
   "execution_count": 1,
   "metadata": {},
   "outputs": [],
   "source": [
    "from scenario import *\n",
    "\n",
    "scen=Scenario()\n",
    "left_edge=Line()\n",
    "left_edge.add_point([-50,-3,0],[50,-3,0])\n",
    "left_edge.color=Color(b=1)\n",
    "left_edge.width=2\n",
    "right_edge=Line()\n",
    "right_edge.add_point([-50,3,0],[50,3,0])\n",
    "right_edge.color=Color(b=1)\n",
    "right_edge.width=2\n",
    "scen.add(left_edge,right_edge)\n",
    "\n",
    "class Agent(Cube):\n",
    "    def __init__(self,color):\n",
    "        Cube.__init__(self,4,1.8,1.48)\n",
    "        self.color=color\n",
    "        self.front=None\n",
    "        self.ds=[]\n",
    "        self.rs=[]\n",
    "        self.errs=[]\n",
    "        self.pid=PID(0.02,0.0,0.0)\n",
    "        self.turning=True\n",
    "        self.ts=[]\n",
    "        self.avs=[]\n",
    "        \n",
    "    def on_step(self,dt):\n",
    "        if self.front and self.turning:\n",
    "            self.turn_left(dt)\n",
    "        \n",
    "    def turn_left(self,dt):\n",
    "        self.ts.append(scen.t)\n",
    "        r=self.rotation.to_eular()[2]\n",
    "        d=0.75-self.position[1]\n",
    "        err=d\n",
    "        av=self.pid.step(err,dt)\n",
    "        self.local_angular_velocity=Rotation.Eular(0,0,av)\n",
    "        self.errs.append(err)\n",
    "        self.rs.append(r)\n",
    "        self.ds.append(d)\n",
    "        self.avs.append(av)\n",
    "        if abs(d)<0.1 and abs(r)<0.1:\n",
    "            self.turning=False\n",
    "            self.local_angular_velocity=Rotation()\n",
    "        \n",
    "red=Agent(Color(r=1))\n",
    "red.position=Vector3(-30,-1.5,0.74)\n",
    "blue=Agent(Color(b=1))\n",
    "blue.front=red\n",
    "blue.position=Vector3(-40,-1.5,0.74)\n",
    "blue.local_velocity=Vector3(2,0,0)\n",
    "blue.add(Line.Vector(4*blue.direction))\n",
    "path=Line()\n",
    "scen.add(red,blue,path)\n",
    "\n",
    "from time import sleep\n",
    "scen.t=0\n",
    "scen.render_in_jupyter=False\n",
    "while scen.t<40:\n",
    "    scen.step(0.1)\n",
    "    path.add_point(blue.position)\n",
    "    sleep(0.1)\n",
    "    scen.render()"
   ]
  },
  {
   "cell_type": "code",
   "execution_count": 3,
   "metadata": {},
   "outputs": [
    {
     "data": {
      "image/png": "[encoded data removed]",
      "text/plain": [
       "<Figure size 432x288 with 1 Axes>"
      ]
     },
     "metadata": {
      "needs_background": "light"
     },
     "output_type": "display_data"
    }
   ],
   "source": [
    "import matplotlib.pyplot as plt\n",
    "r,=plt.plot(blue.ts,blue.rs)\n",
    "d,=plt.plot(blue.ts,blue.ds)\n",
    "e,=plt.plot(blue.ts,blue.errs)\n",
    "a,=plt.plot(blue.ts,blue.avs)\n",
    "plt.legend([r,d,e,a],[\"r err\",\"d err\",\"error\",\"av\"])\n",
    "plt.grid()\n",
    "plt.show()"
   ]
  },
  {
   "cell_type": "code",
   "execution_count": 7,
   "metadata": {},
   "outputs": [
    {
     "name": "stdout",
     "output_type": "stream",
     "text": [
      "('a', 1)\n",
      "('b', 3)\n"
     ]
    }
   ],
   "source": [
    "d={\"a\":1,\"b\":3}\n",
    "for i in d.items():\n",
    "    print(i)"
   ]
  },
  {
   "cell_type": "code",
   "execution_count": 3,
   "metadata": {},
   "outputs": [],
   "source": [
    "del d[\"a\"]"
   ]
  },
  {
   "cell_type": "code",
   "execution_count": 4,
   "metadata": {},
   "outputs": [
    {
     "data": {
      "text/plain": [
       "{'b': 3}"
      ]
     },
     "execution_count": 4,
     "metadata": {},
     "output_type": "execute_result"
    }
   ],
   "source": [
    "d"
   ]
  },
  {
   "cell_type": "code",
   "execution_count": 5,
   "metadata": {},
   "outputs": [
    {
     "name": "stdout",
     "output_type": "stream",
     "text": [
      "D\n"
     ]
    }
   ],
   "source": [
    "if \"a\":\n",
    "    print(\"D\")"
   ]
  },
  {
   "cell_type": "code",
   "execution_count": null,
   "metadata": {},
   "outputs": [],
   "source": []
  }
 ],
 "metadata": {
  "kernelspec": {
   "display_name": "Python 3",
   "language": "python",
   "name": "python3"
  },
  "language_info": {
   "codemirror_mode": {
    "name": "ipython",
    "version": 3
   },
   "file_extension": ".py",
   "mimetype": "text/x-python",
   "name": "python",
   "nbconvert_exporter": "python",
   "pygments_lexer": "ipython3",
   "version": "3.7.4"
  }
 },
 "nbformat": 4,
 "nbformat_minor": 4
}
