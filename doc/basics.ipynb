{
 "cells": [
  {
   "cell_type": "markdown",
   "metadata": {},
   "source": [
    "*Copyright (c) Tumiz. Distributed under the terms of the GPL-3.0 License.*"
   ]
  },
  {
   "cell_type": "markdown",
   "metadata": {},
   "source": [
    "# Introduction\n",
    "\n",
    "Here is brief indroduction of Scenario. You will learn how to create a scenario and control objects in it."
   ]
  },
  {
   "cell_type": "markdown",
   "metadata": {},
   "source": [
    "Create a empty scenario and render it"
   ]
  },
  {
   "cell_type": "code",
   "execution_count": 2,
   "metadata": {},
   "outputs": [
    {
     "data": {
      "text/html": [
       "\n",
       "        <iframe\n",
       "            width=\"100%\"\n",
       "            height=\"600px\"\n",
       "            src=\"http://localhost:8000/view/140213037266832\"\n",
       "            frameborder=\"0\"\n",
       "            allowfullscreen\n",
       "        ></iframe>\n",
       "        "
      ],
      "text/plain": [
       "<IPython.lib.display.IFrame at 0x7f85e44776d0>"
      ]
     },
     "metadata": {},
     "output_type": "display_data"
    }
   ],
   "source": [
    "from scenario import *\n",
    "scen=Scenario()\n",
    "scen.render()"
   ]
  },
  {
   "cell_type": "markdown",
   "metadata": {},
   "source": [
    "**Add a object** to scenario"
   ]
  },
  {
   "cell_type": "code",
   "execution_count": 3,
   "metadata": {},
   "outputs": [],
   "source": [
    "cube=Cube()\n",
    "scen.add(cube)\n",
    "scen.render()"
   ]
  },
  {
   "cell_type": "markdown",
   "metadata": {},
   "source": [
    "Change its **color** to red"
   ]
  },
  {
   "cell_type": "code",
   "execution_count": 3,
   "metadata": {},
   "outputs": [],
   "source": [
    "cube.color=Color(r=1)\n",
    "scen.render()"
   ]
  },
  {
   "cell_type": "markdown",
   "metadata": {},
   "source": [
    "Set its **position**"
   ]
  },
  {
   "cell_type": "code",
   "execution_count": 4,
   "metadata": {},
   "outputs": [],
   "source": [
    "cube.position=Vector3(1,0,2)\n",
    "scen.render()"
   ]
  },
  {
   "cell_type": "markdown",
   "metadata": {},
   "source": [
    "**Rotate** it around z axis"
   ]
  },
  {
   "cell_type": "code",
   "execution_count": 5,
   "metadata": {},
   "outputs": [],
   "source": [
    "cube.rotation.rotate_z(0.3)\n",
    "scen.render()"
   ]
  },
  {
   "cell_type": "markdown",
   "metadata": {},
   "source": [
    "Rotate it around its own y axis"
   ]
  },
  {
   "cell_type": "code",
   "execution_count": 6,
   "metadata": {},
   "outputs": [],
   "source": [
    "cube.rotation=cube.rotation*Rotation.Eular(0,0.3,0)\n",
    "scen.render()"
   ]
  },
  {
   "cell_type": "markdown",
   "metadata": {},
   "source": [
    "**Add** a axis to cube"
   ]
  },
  {
   "cell_type": "code",
   "execution_count": 7,
   "metadata": {},
   "outputs": [],
   "source": [
    "cube.add(XYZ())\n",
    "scen.render()"
   ]
  },
  {
   "cell_type": "markdown",
   "metadata": {},
   "source": [
    "Continue to **rotate it around its own y axis** with a speed 0.3rad/s"
   ]
  },
  {
   "cell_type": "code",
   "execution_count": 8,
   "metadata": {},
   "outputs": [],
   "source": [
    "import time\n",
    "cube.local_angular_velocity=Rotation.Eular(0,0.3,0)\n",
    "scen.t=0\n",
    "while scen.t<10:\n",
    "    scen.step(0.1)\n",
    "    scen.render()\n",
    "    time.sleep(0.1)"
   ]
  },
  {
   "cell_type": "markdown",
   "metadata": {},
   "source": [
    "**Remove** it"
   ]
  },
  {
   "cell_type": "code",
   "execution_count": 9,
   "metadata": {},
   "outputs": [],
   "source": [
    "scen.remove(cube)\n",
    "scen.render()"
   ]
  },
  {
   "cell_type": "markdown",
   "metadata": {},
   "source": [
    "# Basic Shapes\n",
    "\n",
    "Here you will learn how to create basic shapes like sphere, line, cylinder. "
   ]
  },
  {
   "cell_type": "markdown",
   "metadata": {},
   "source": [
    "## Sphere\n",
    "Create a blue sphere and add it to the scenario"
   ]
  },
  {
   "cell_type": "code",
   "execution_count": 4,
   "metadata": {},
   "outputs": [
    {
     "data": {
      "text/html": [
       "\n",
       "        <iframe\n",
       "            width=\"100%\"\n",
       "            height=\"600px\"\n",
       "            src=\"http://localhost:8000/view/140211088690000\"\n",
       "            frameborder=\"0\"\n",
       "            allowfullscreen\n",
       "        ></iframe>\n",
       "        "
      ],
      "text/plain": [
       "<IPython.lib.display.IFrame at 0x7f857023c050>"
      ]
     },
     "metadata": {},
     "output_type": "display_data"
    }
   ],
   "source": [
    "from scenario import *\n",
    "scen=Scenario()\n",
    "sphere=Sphere()\n",
    "sphere.color=Color(b=1)\n",
    "scen.add(sphere)\n",
    "scen.render()"
   ]
  },
  {
   "cell_type": "markdown",
   "metadata": {},
   "source": [
    "Change its **radius**"
   ]
  },
  {
   "cell_type": "code",
   "execution_count": 11,
   "metadata": {},
   "outputs": [],
   "source": [
    "sphere.radius=2\n",
    "scen.render()"
   ]
  },
  {
   "cell_type": "markdown",
   "metadata": {},
   "source": [
    "## Line\n",
    "Create a pink line with two points (0,1,3)(3,0,3) and add it to the scenario"
   ]
  },
  {
   "cell_type": "code",
   "execution_count": 5,
   "metadata": {},
   "outputs": [
    {
     "data": {
      "text/html": [
       "\n",
       "        <iframe\n",
       "            width=\"100%\"\n",
       "            height=\"600px\"\n",
       "            src=\"http://localhost:8000/view/140211089119952\"\n",
       "            frameborder=\"0\"\n",
       "            allowfullscreen\n",
       "        ></iframe>\n",
       "        "
      ],
      "text/plain": [
       "<IPython.lib.display.IFrame at 0x7f8570228610>"
      ]
     },
     "metadata": {},
     "output_type": "display_data"
    }
   ],
   "source": [
    "from scenario import *\n",
    "scen=Scenario()\n",
    "line=Line()\n",
    "line.color=Color(r=1,b=1)\n",
    "line.add_point(Vector3(0,1,3),Vector3(3,0,3))\n",
    "scen.add(line)\n",
    "scen.render()"
   ]
  },
  {
   "cell_type": "markdown",
   "metadata": {},
   "source": [
    "Set **width** to 3"
   ]
  },
  {
   "cell_type": "code",
   "execution_count": 14,
   "metadata": {},
   "outputs": [],
   "source": [
    "line.width=3\n",
    "scen.render()"
   ]
  },
  {
   "cell_type": "markdown",
   "metadata": {},
   "source": [
    "If you want it to be an **arrow**"
   ]
  },
  {
   "cell_type": "code",
   "execution_count": 15,
   "metadata": {},
   "outputs": [],
   "source": [
    "line.type=Line.Type_Vector\n",
    "scen.render()"
   ]
  },
  {
   "cell_type": "markdown",
   "metadata": {},
   "source": [
    "A more complex example: use Line to draw a love heart"
   ]
  },
  {
   "cell_type": "code",
   "execution_count": 6,
   "metadata": {},
   "outputs": [
    {
     "data": {
      "text/html": [
       "\n",
       "        <iframe\n",
       "            width=\"100%\"\n",
       "            height=\"600px\"\n",
       "            src=\"http://localhost:8000/view/140211089741776\"\n",
       "            frameborder=\"0\"\n",
       "            allowfullscreen\n",
       "        ></iframe>\n",
       "        "
      ],
      "text/plain": [
       "<IPython.lib.display.IFrame at 0x7f8570213ed0>"
      ]
     },
     "metadata": {},
     "output_type": "display_data"
    }
   ],
   "source": [
    "from scenario import *\n",
    "scen=Scenario()\n",
    "\n",
    "line=Line()\n",
    "line.color=Color(r=1)\n",
    "line.width=2\n",
    "line.add_point(Vector3(0,0,0))\n",
    "line.add_point(Vector3(0,-1,1))\n",
    "\n",
    "r=sqrt(2)/2\n",
    "for i in range(20):\n",
    "    a=pi*5/4-i*pi/20\n",
    "    line.add_point(Vector3(0,-0.5+r*cos(a),1.5+r*sin(a)))\n",
    "line.add_point(Vector3(0,0,2))\n",
    "for i in range(20):\n",
    "    a=pi*3/4-i*pi/20\n",
    "    line.add_point(Vector3(0,0.5+r*cos(a),1.5+r*sin(a)))\n",
    "line.add_point(Vector3(0,1,1))\n",
    "line.add_point(Vector3(0,0,0))\n",
    "scen.add(line)\n",
    "scen.render()"
   ]
  },
  {
   "cell_type": "markdown",
   "metadata": {},
   "source": [
    "Another example: update points **dynamically**"
   ]
  },
  {
   "cell_type": "code",
   "execution_count": 7,
   "metadata": {},
   "outputs": [
    {
     "data": {
      "text/html": [
       "\n",
       "        <iframe\n",
       "            width=\"100%\"\n",
       "            height=\"600px\"\n",
       "            src=\"http://localhost:8000/view/140213037268880\"\n",
       "            frameborder=\"0\"\n",
       "            allowfullscreen\n",
       "        ></iframe>\n",
       "        "
      ],
      "text/plain": [
       "<IPython.lib.display.IFrame at 0x7f857023ccd0>"
      ]
     },
     "metadata": {},
     "output_type": "display_data"
    }
   ],
   "source": [
    "from scenario import *\n",
    "from time import sleep\n",
    "from math import sin,cos\n",
    "scen=Scenario()\n",
    "l=Line()\n",
    "l.line_width=2\n",
    "l.color=Color(r=1,b=1)\n",
    "l.width=2\n",
    "scen.add(l)\n",
    "while scen.t<10:\n",
    "    x=sin(5*scen.t)*scen.t\n",
    "    y=cos(5*scen.t)*scen.t\n",
    "    z=scen.t\n",
    "    l.add_point(Vector3(x,y,z))\n",
    "    scen.step(0.01)\n",
    "    scen.render()\n",
    "    sleep(0.01)"
   ]
  },
  {
   "cell_type": "markdown",
   "metadata": {},
   "source": [
    "## Cylinder"
   ]
  },
  {
   "cell_type": "markdown",
   "metadata": {},
   "source": [
    "Set **top_radius, bottom_radius** and **height** to define a cylinder"
   ]
  },
  {
   "cell_type": "code",
   "execution_count": 8,
   "metadata": {},
   "outputs": [
    {
     "data": {
      "text/html": [
       "\n",
       "        <iframe\n",
       "            width=\"100%\"\n",
       "            height=\"600px\"\n",
       "            src=\"http://localhost:8000/view/140211073886032\"\n",
       "            frameborder=\"0\"\n",
       "            allowfullscreen\n",
       "        ></iframe>\n",
       "        "
      ],
      "text/plain": [
       "<IPython.lib.display.IFrame at 0x7f856f423290>"
      ]
     },
     "metadata": {},
     "output_type": "display_data"
    }
   ],
   "source": [
    "from scenario import *\n",
    "scen=Scenario()\n",
    "c=Cylinder()\n",
    "c.top_radius=1\n",
    "c.bottom_radius=2\n",
    "c.height=1\n",
    "c.color=Color(r=1)\n",
    "scen.add(c)\n",
    "scen.render()"
   ]
  },
  {
   "cell_type": "markdown",
   "metadata": {},
   "source": [
    "Set its center **axis**"
   ]
  },
  {
   "cell_type": "code",
   "execution_count": 11,
   "metadata": {},
   "outputs": [],
   "source": [
    "c.set_axis(Vector3(1,1,1))\n",
    "scen.render()"
   ]
  },
  {
   "cell_type": "markdown",
   "metadata": {},
   "source": [
    "## Cube"
   ]
  },
  {
   "cell_type": "markdown",
   "metadata": {},
   "source": [
    "Cube use 3d scale to represent its with, height and length"
   ]
  },
  {
   "cell_type": "code",
   "execution_count": 9,
   "metadata": {},
   "outputs": [
    {
     "data": {
      "text/html": [
       "\n",
       "        <iframe\n",
       "            width=\"100%\"\n",
       "            height=\"600px\"\n",
       "            src=\"http://localhost:8000/view/140211074183760\"\n",
       "            frameborder=\"0\"\n",
       "            allowfullscreen\n",
       "        ></iframe>\n",
       "        "
      ],
      "text/plain": [
       "<IPython.lib.display.IFrame at 0x7f856f416990>"
      ]
     },
     "metadata": {},
     "output_type": "display_data"
    }
   ],
   "source": [
    "from scenario import *\n",
    "scen=Scenario()\n",
    "c=Cube()\n",
    "c.scale=Vector3(1,2,3)\n",
    "scen.add(c)\n",
    "scen.render()"
   ]
  },
  {
   "cell_type": "markdown",
   "metadata": {},
   "source": [
    "## Pipe\n",
    "\n",
    "Creates extruded geometry from a path shape"
   ]
  },
  {
   "cell_type": "code",
   "execution_count": 10,
   "metadata": {},
   "outputs": [
    {
     "data": {
      "text/html": [
       "\n",
       "        <iframe\n",
       "            width=\"100%\"\n",
       "            height=\"600px\"\n",
       "            src=\"http://localhost:8000/view/140211073885968\"\n",
       "            frameborder=\"0\"\n",
       "            allowfullscreen\n",
       "        ></iframe>\n",
       "        "
      ],
      "text/plain": [
       "<IPython.lib.display.IFrame at 0x7f856f416310>"
      ]
     },
     "metadata": {},
     "output_type": "display_data"
    }
   ],
   "source": [
    "from scenario import *\n",
    "scen=Scenario()\n",
    "p=Pipe()\n",
    "p.cross=[[0.1,4],[-0.1,4],[-0.1,-4],[0.1,-4],[0.1,4]]\n",
    "p.path=[[-15, 2, 0],[-5, 2, 0.3],[0, 0, 1],[5, -2,1],[15, -5, 1]]\n",
    "scen.add(p)\n",
    "scen.render()"
   ]
  },
  {
   "cell_type": "code",
   "execution_count": 14,
   "metadata": {},
   "outputs": [
    {
     "data": {
      "text/html": [
       "\n",
       "        <iframe\n",
       "            width=\"100%\"\n",
       "            height=\"600px\"\n",
       "            src=\"http://localhost:8001/view/139814987723472\"\n",
       "            frameborder=\"0\"\n",
       "            allowfullscreen\n",
       "        ></iframe>\n",
       "        "
      ],
      "text/plain": [
       "<IPython.lib.display.IFrame at 0x7f29372a09d0>"
      ]
     },
     "metadata": {},
     "output_type": "display_data"
    }
   ],
   "source": [
    "from scenario import *\n",
    "scen=Scenario()\n",
    "cross=[]\n",
    "cross.append([0,0])\n",
    "cross.append([-1,1])\n",
    "\n",
    "r=sqrt(2)/2\n",
    "for i in range(21):\n",
    "    a=pi*5/4-i*pi/20\n",
    "    cross.append([-0.5+r*cos(a),1.5+r*sin(a)])\n",
    "cross.append([0,0,2])\n",
    "for i in range(20):\n",
    "    a=pi*3/4-i*pi/20\n",
    "    cross.append([0.5+r*cos(a),1.5+r*sin(a)])\n",
    "cross.append([1,1])\n",
    "cross.append([0,0])\n",
    "p=Pipe()\n",
    "p.cross=cross\n",
    "p.path=[[0, 0, 0],[5, 5, 5]]\n",
    "p.color=Color(r=1)\n",
    "scen.add(p)\n",
    "scen.render()"
   ]
  },
  {
   "cell_type": "markdown",
   "metadata": {},
   "source": [
    "# Motion"
   ]
  },
  {
   "cell_type": "markdown",
   "metadata": {},
   "source": [
    "Here you will learn how to move a object."
   ]
  },
  {
   "cell_type": "markdown",
   "metadata": {},
   "source": [
    "## Translation"
   ]
  },
  {
   "cell_type": "markdown",
   "metadata": {},
   "source": [
    "If you want to move a object, it's very easy, just modify its position. Here is an example showing how to move a cube along x axis."
   ]
  },
  {
   "cell_type": "code",
   "execution_count": 15,
   "metadata": {},
   "outputs": [
    {
     "data": {
      "text/html": [
       "\n",
       "        <iframe\n",
       "            width=\"100%\"\n",
       "            height=\"600px\"\n",
       "            src=\"http://localhost:8001/view/139816560537936\"\n",
       "            frameborder=\"0\"\n",
       "            allowfullscreen\n",
       "        ></iframe>\n",
       "        "
      ],
      "text/plain": [
       "<IPython.lib.display.IFrame at 0x7f2936e817d0>"
      ]
     },
     "metadata": {},
     "output_type": "display_data"
    }
   ],
   "source": [
    "from scenario import *\n",
    "from time import sleep\n",
    "scen=Scenario()\n",
    "c=Cube()\n",
    "c.color=Color(b=1)\n",
    "c.scale=Vector3(1,2,3)\n",
    "scen.add(c)\n",
    "for i in range(100):\n",
    "    c.position[0]+=0.1\n",
    "    sleep(0.1)\n",
    "    scen.render()"
   ]
  },
  {
   "cell_type": "markdown",
   "metadata": {},
   "source": [
    "Then, move it along y axis"
   ]
  },
  {
   "cell_type": "code",
   "execution_count": 16,
   "metadata": {},
   "outputs": [],
   "source": [
    "for i in range(100):\n",
    "    c.position[1]+=0.1\n",
    "    sleep(0.1)\n",
    "    scen.render()"
   ]
  },
  {
   "cell_type": "markdown",
   "metadata": {},
   "source": [
    "Move it back to origin point"
   ]
  },
  {
   "cell_type": "code",
   "execution_count": 17,
   "metadata": {},
   "outputs": [],
   "source": [
    "for i in range(100):\n",
    "    c.position[1]-=0.1\n",
    "    c.position[0]-=0.1\n",
    "    sleep(0.1)\n",
    "    scen.render()"
   ]
  },
  {
   "cell_type": "markdown",
   "metadata": {},
   "source": [
    "Use **velocity** to move the cube, velocity's unit is m/s"
   ]
  },
  {
   "cell_type": "code",
   "execution_count": 19,
   "metadata": {},
   "outputs": [],
   "source": [
    "c.velocity=Vector3(0.4,0.2,0.4)\n",
    "scen.t=0\n",
    "while scen.t<10:\n",
    "    scen.step(0.1)\n",
    "    sleep(0.1)\n",
    "    scen.render()"
   ]
  },
  {
   "cell_type": "markdown",
   "metadata": {},
   "source": [
    "Use **local velocity** to move it, local velocity's unit is also m/s"
   ]
  },
  {
   "cell_type": "code",
   "execution_count": 23,
   "metadata": {},
   "outputs": [],
   "source": [
    "c.position=Vector3()\n",
    "c.rotation=Rotation.Eular(0.3,-0.5,0.2)\n",
    "c.velocity=Vector3()\n",
    "c.local_velocity=Vector3(0.2,0,0)\n",
    "scen.t=0\n",
    "while scen.t<10:\n",
    "    scen.step(0.1)\n",
    "    sleep(0.1)\n",
    "    scen.render()"
   ]
  },
  {
   "cell_type": "markdown",
   "metadata": {},
   "source": [
    "## Rotation"
   ]
  },
  {
   "cell_type": "markdown",
   "metadata": {},
   "source": [
    "If you want to ratate a object, there are many ways to achieve it. Here is an example showing how to rotate a cube in different ways.\\\n",
    "Codes below shows how to rotate a cube **around z axis**."
   ]
  },
  {
   "cell_type": "code",
   "execution_count": 24,
   "metadata": {},
   "outputs": [],
   "source": [
    "from scenario import *\n",
    "from time import sleep\n",
    "scen=Scenario()\n",
    "c=Cube()\n",
    "c.color=Color(b=1)\n",
    "c.scale=Vector3(1,2,3)\n",
    "scen.add(c)\n",
    "for i in range(100):\n",
    "    c.rotation.rotate_z(0.1)\n",
    "    sleep(0.1)\n",
    "    scen.render()"
   ]
  },
  {
   "cell_type": "markdown",
   "metadata": {},
   "source": [
    "**Reset** its rotation."
   ]
  },
  {
   "cell_type": "code",
   "execution_count": 10,
   "metadata": {},
   "outputs": [],
   "source": [
    "c.rotation=Rotation()\n",
    "scen.render()"
   ]
  },
  {
   "cell_type": "markdown",
   "metadata": {},
   "source": [
    "Rotate it **around axis** (1,0,0)"
   ]
  },
  {
   "cell_type": "code",
   "execution_count": 11,
   "metadata": {},
   "outputs": [],
   "source": [
    "axis=Vector3(1,0,0)\n",
    "for i in range(100):\n",
    "    c.rotation.rotate_axis(axis,0.1)\n",
    "    sleep(0.1)\n",
    "    scen.render()"
   ]
  },
  {
   "cell_type": "markdown",
   "metadata": {},
   "source": [
    "Rotate a cylinder like a wheel"
   ]
  },
  {
   "cell_type": "code",
   "execution_count": 11,
   "metadata": {},
   "outputs": [
    {
     "data": {
      "text/html": [
       "\n",
       "        <iframe\n",
       "            width=\"100%\"\n",
       "            height=\"600px\"\n",
       "            src=\"http://localhost:8000/view/140211073838288\"\n",
       "            frameborder=\"0\"\n",
       "            allowfullscreen\n",
       "        ></iframe>\n",
       "        "
      ],
      "text/plain": [
       "<IPython.lib.display.IFrame at 0x7f856f40a610>"
      ]
     },
     "metadata": {},
     "output_type": "display_data"
    }
   ],
   "source": [
    "from scenario import *\n",
    "from time import sleep\n",
    "scen=Scenario()\n",
    "c=Cylinder()\n",
    "c.color=Color(r=1)\n",
    "c.top_radius=2\n",
    "c.bottom_radius=2\n",
    "c.height=0.5\n",
    "axis=Vector3(1,1,1)\n",
    "c.set_axis(axis)\n",
    "c.add(XYZ())\n",
    "scen.add(c)\n",
    "for i in range(100):\n",
    "    c.rotation.rotate_axis(axis,0.02)\n",
    "    sleep(0.1)\n",
    "    scen.render()"
   ]
  },
  {
   "cell_type": "markdown",
   "metadata": {},
   "source": [
    "Use **angular velocity** to rotate the cylinder, it will rotate around y axis of world frame."
   ]
  },
  {
   "cell_type": "code",
   "execution_count": 31,
   "metadata": {},
   "outputs": [],
   "source": [
    "from scenario import *\n",
    "from time import sleep\n",
    "scen=Scenario()\n",
    "c=Cylinder()\n",
    "c.color=Color(r=1)\n",
    "c.top_radius=2\n",
    "c.bottom_radius=2\n",
    "c.height=0.5\n",
    "axis=Vector3(1,1,1)\n",
    "c.set_axis(axis)\n",
    "c.angular_velocity=Rotation.Eular(0,1,0)\n",
    "c.add(XYZ())\n",
    "scen.add(c)\n",
    "scen.render()\n",
    "while scen.t<10:\n",
    "    scen.step(0.2)\n",
    "    sleep(0.1)\n",
    "    scen.render()"
   ]
  },
  {
   "cell_type": "markdown",
   "metadata": {},
   "source": [
    "Use **local angular velocity** to rotate the cylinder, it will rotate on its own y axis"
   ]
  },
  {
   "cell_type": "code",
   "execution_count": 33,
   "metadata": {},
   "outputs": [],
   "source": [
    "from scenario import *\n",
    "from time import sleep\n",
    "scen=Scenario()\n",
    "c=Cylinder()\n",
    "c.color=Color(r=1)\n",
    "c.top_radius=2\n",
    "c.bottom_radius=2\n",
    "c.height=0.5\n",
    "axis=Vector3(1,1,1)\n",
    "c.set_axis(axis)\n",
    "c.local_angular_velocity=Rotation.Eular(0,1,0)\n",
    "c.add(XYZ())\n",
    "scen.add(c)\n",
    "scen.render()\n",
    "\n",
    "while scen.t<10:\n",
    "    scen.step(0.1)\n",
    "    sleep(0.1)\n",
    "    scen.render()"
   ]
  },
  {
   "cell_type": "markdown",
   "metadata": {},
   "source": [
    "A more complex example: move a cube with both **local velocity** and **local angular velocity**"
   ]
  },
  {
   "cell_type": "code",
   "execution_count": 4,
   "metadata": {},
   "outputs": [
    {
     "data": {
      "text/html": [
       "\n",
       "        <iframe\n",
       "            width=\"100%\"\n",
       "            height=\"600px\"\n",
       "            src=\"http://localhost:8001/view/140225262004560\"\n",
       "            frameborder=\"0\"\n",
       "            allowfullscreen\n",
       "        ></iframe>\n",
       "        "
      ],
      "text/plain": [
       "<IPython.lib.display.IFrame at 0x7f88bead4310>"
      ]
     },
     "metadata": {},
     "output_type": "display_data"
    }
   ],
   "source": [
    "from scenario import *\n",
    "from time import sleep\n",
    "scen=Scenario()\n",
    "c=Cube()\n",
    "c.color=Color(b=1)\n",
    "c.local_velocity=Vector3(1,0,0)\n",
    "c.local_angular_velocity=Rotation.Eular(0,0,0.6)\n",
    "scen.add(c)\n",
    "while scen.t<10:\n",
    "    scen.step(0.1)\n",
    "    sleep(0.1)\n",
    "    scen.render()"
   ]
  },
  {
   "cell_type": "markdown",
   "metadata": {},
   "source": [
    "# Add child object to a object"
   ]
  },
  {
   "cell_type": "markdown",
   "metadata": {},
   "source": [
    "Add a cube as a child to an existing cube."
   ]
  },
  {
   "cell_type": "code",
   "execution_count": 21,
   "metadata": {},
   "outputs": [],
   "source": [
    "from scenario import *\n",
    "from time import sleep\n",
    "scen=Scenario()\n",
    "parent=XYZ()\n",
    "parent.scale=Vector3(2,3,5)\n",
    "parent.position=Vector3(1,1,1)\n",
    "parent.rotation=Rotation.Eular(0.2,0.1,0.5)\n",
    "scen.add(parent)\n",
    "child=Cube()\n",
    "child.scale=Vector3(1,1,0.3)\n",
    "child.position=Vector3(0.5,0.5,0.5)\n",
    "child.rotation=Rotation.Eular(0,0.5,0)\n",
    "child.add(Line.Vector(Vector3(0,0,1)))\n",
    "parent.add(child)\n",
    "scen.render_in_jupyter=False\n",
    "scen.render()"
   ]
  },
  {
   "cell_type": "markdown",
   "metadata": {},
   "source": [
    "Rotate child cube in its local space (the child's body frame)"
   ]
  },
  {
   "cell_type": "code",
   "execution_count": 22,
   "metadata": {},
   "outputs": [],
   "source": [
    "parent.local_angular_velocity=Rotation.Eular(0,0,0.3)\n",
    "child.local_angular_velocity=Rotation.Eular(0,0,0.6)\n",
    "scen.t=0\n",
    "while scen.t<15:\n",
    "    scen.step(0.1)\n",
    "    sleep(0.1)\n",
    "    scen.render()"
   ]
  },
  {
   "cell_type": "markdown",
   "metadata": {},
   "source": [
    "Rotate child cube in parent's space"
   ]
  },
  {
   "cell_type": "code",
   "execution_count": 16,
   "metadata": {},
   "outputs": [
    {
     "name": "stdout",
     "output_type": "stream",
     "text": [
      "[-0.0, 0.0, 0.6000000089337368]\n"
     ]
    }
   ],
   "source": [
    "child.local_angular_velocity=None\n",
    "child.angular_velocity=Rotation.Eular(0,0,0.6)\n",
    "print(child.angular_velocity.to_eular())\n",
    "scen.t=0\n",
    "while scen.t<10:\n",
    "    scen.step(0.1)\n",
    "    sleep(0.1)\n",
    "    scen.render()"
   ]
  },
  {
   "cell_type": "markdown",
   "metadata": {},
   "source": [
    "Translate the cube with world velocity (1,0,0)"
   ]
  },
  {
   "cell_type": "code",
   "execution_count": 13,
   "metadata": {},
   "outputs": [],
   "source": [
    "child.position=Vector3(0.5,0.5,0.5)\n",
    "child.velocity=Vector3(0.1,0,0)\n",
    "child.angular_velocity=Rotation()\n",
    "scen.t=0\n",
    "while scen.t<10:\n",
    "    scen.step(0.1)\n",
    "    sleep(0.1)\n",
    "    scen.render()"
   ]
  },
  {
   "cell_type": "markdown",
   "metadata": {},
   "source": [
    "Translate the cube with local velocity (1,0,0)"
   ]
  },
  {
   "cell_type": "code",
   "execution_count": 12,
   "metadata": {},
   "outputs": [],
   "source": [
    "child.position=Vector3(0.5,0.5,0.5)\n",
    "child.local_velocity=Vector3(1,0,0)\n",
    "child.angular_velocity=Rotation()\n",
    "scen.t=0\n",
    "while scen.t<10:\n",
    "    scen.step(0.1)\n",
    "    sleep(0.1)\n",
    "    scen.render()"
   ]
  },
  {
   "cell_type": "code",
   "execution_count": 17,
   "metadata": {},
   "outputs": [],
   "source": [
    "from IPython.display import HTML\n",
    "def View(df):\n",
    "    css = \"\"\"<style>\n",
    "    table { border-collapse: collapse; border: 3px solid #eee; }\n",
    "    table tr th:first-child { background-color: #eeeeee; color: #333; font-weight: bold }\n",
    "    table thead th { background-color: #eee; color: #000; }\n",
    "    tr, th, td { border: 1px solid #ccc; border-width: 1px 0 0 1px; border-collapse: collapse;\n",
    "    padding: 3px; font-family: monospace; font-size: 10px }</style>\n",
    "    \"\"\"\n",
    "    s  = '<script type=\"text/Javascript\">'\n",
    "    s += 'var win = window.open(\"\", \"Title\", \"toolbar=no, location=no, directories=no, status=no, menubar=no, scrollbars=yes, resizable=yes, width=780, height=200, top=\"+(screen.height-400)+\", left=\"+(screen.width-840));'\n",
    "    s += 'win.document.body.innerHTML = \\'' + (df.to_html() + css).replace(\"\\n\",'\\\\') + '\\';'\n",
    "    s += '</script>'\n",
    "    return(HTML(s+css))"
   ]
  },
  {
   "cell_type": "code",
   "execution_count": 18,
   "metadata": {},
   "outputs": [
    {
     "data": {
      "text/html": [
       "<script type=\"text/Javascript\">var win = window.open(\"\", \"Title\", \"toolbar=no, location=no, directories=no, status=no, menubar=no, scrollbars=yes, resizable=yes, width=780, height=200, top=\"+(screen.height-400)+\", left=\"+(screen.width-840));win.document.body.innerHTML = '<table border=\"1\" class=\"dataframe\">\\  <thead>\\    <tr style=\"text-align: right;\">\\      <th></th>\\    </tr>\\  </thead>\\  <tbody>\\  </tbody>\\</table><style>\\    table { border-collapse: collapse; border: 3px solid #eee; }\\    table tr th:first-child { background-color: #eeeeee; color: #333; font-weight: bold }\\    table thead th { background-color: #eee; color: #000; }\\    tr, th, td { border: 1px solid #ccc; border-width: 1px 0 0 1px; border-collapse: collapse;\\    padding: 3px; font-family: monospace; font-size: 10px }</style>\\    ';</script><style>\n",
       "    table { border-collapse: collapse; border: 3px solid #eee; }\n",
       "    table tr th:first-child { background-color: #eeeeee; color: #333; font-weight: bold }\n",
       "    table thead th { background-color: #eee; color: #000; }\n",
       "    tr, th, td { border: 1px solid #ccc; border-width: 1px 0 0 1px; border-collapse: collapse;\n",
       "    padding: 3px; font-family: monospace; font-size: 10px }</style>\n",
       "    "
      ],
      "text/plain": [
       "<IPython.core.display.HTML object>"
      ]
     },
     "execution_count": 18,
     "metadata": {},
     "output_type": "execute_result"
    }
   ],
   "source": [
    "from pandas import DataFrame\n",
    "View(DataFrame())"
   ]
  },
  {
   "cell_type": "code",
   "execution_count": null,
   "metadata": {},
   "outputs": [],
   "source": []
  }
 ],
 "metadata": {
  "file_extension": ".py",
  "kernelspec": {
   "display_name": "Python 3",
   "language": "python",
   "name": "python3"
  },
  "language_info": {
   "codemirror_mode": {
    "name": "ipython",
    "version": 3
   },
   "file_extension": ".py",
   "mimetype": "text/x-python",
   "name": "python",
   "nbconvert_exporter": "python",
   "pygments_lexer": "ipython3",
   "version": "3.7.4"
  },
  "mimetype": "text/x-python",
  "name": "python",
  "npconvert_exporter": "python",
  "pygments_lexer": "ipython3",
  "version": 3
 },
 "nbformat": 4,
 "nbformat_minor": 4
}
