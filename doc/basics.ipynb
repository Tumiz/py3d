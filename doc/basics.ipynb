{
 "cells": [
  {
   "cell_type": "markdown",
   "metadata": {},
   "source": [
    "*Copyright (c) Tumiz. Distributed under the terms of the GPL-3.0 License.*"
   ]
  },
  {
   "cell_type": "markdown",
   "metadata": {},
   "source": [
    "# Introduction\n",
    "\n",
    "Here is brief indroduction of Scenario. You will learn how to create a scenario and control objects in it."
   ]
  },
  {
   "cell_type": "markdown",
   "metadata": {},
   "source": [
    "Create a empty scenario and render it"
   ]
  },
  {
   "cell_type": "code",
   "execution_count": 1,
   "metadata": {},
   "outputs": [
    {
     "name": "stdout",
     "output_type": "stream",
     "text": [
      "open http://localhost:8000/view/first\n"
     ]
    }
   ],
   "source": [
    "from scenario import *\n",
    "scen=Scenario(\"first\")\n",
    "scen.render()"
   ]
  },
  {
   "cell_type": "markdown",
   "metadata": {},
   "source": [
    "**Add a object** to scenario"
   ]
  },
  {
   "cell_type": "code",
   "execution_count": 2,
   "metadata": {},
   "outputs": [],
   "source": [
    "cube=Cube()\n",
    "scen.add(cube)\n",
    "scen.render()"
   ]
  },
  {
   "cell_type": "markdown",
   "metadata": {},
   "source": [
    "Change its **color** to red"
   ]
  },
  {
   "cell_type": "code",
   "execution_count": 3,
   "metadata": {},
   "outputs": [],
   "source": [
    "cube.color=Color(r=1)\n",
    "scen.render()"
   ]
  },
  {
   "cell_type": "markdown",
   "metadata": {},
   "source": [
    "Set its **position**"
   ]
  },
  {
   "cell_type": "code",
   "execution_count": 4,
   "metadata": {},
   "outputs": [],
   "source": [
    "cube.position=Vector3(1,0,2)\n",
    "scen.render()"
   ]
  },
  {
   "cell_type": "markdown",
   "metadata": {},
   "source": [
    "**Rotate** it around z axis"
   ]
  },
  {
   "cell_type": "code",
   "execution_count": 5,
   "metadata": {},
   "outputs": [],
   "source": [
    "cube.rotation.rotate_z(0.6)\n",
    "scen.render()"
   ]
  },
  {
   "cell_type": "markdown",
   "metadata": {},
   "source": [
    "Rotate it around its own y axis"
   ]
  },
  {
   "cell_type": "code",
   "execution_count": 6,
   "metadata": {},
   "outputs": [],
   "source": [
    "cube.rotation=cube.rotation*Rotation.ExtrinsicEular(0,0.3,0)\n",
    "scen.render()"
   ]
  },
  {
   "cell_type": "markdown",
   "metadata": {},
   "source": [
    "**Add** a axis to cube"
   ]
  },
  {
   "cell_type": "code",
   "execution_count": 7,
   "metadata": {},
   "outputs": [],
   "source": [
    "cube.add(XYZ())\n",
    "scen.render()"
   ]
  },
  {
   "cell_type": "markdown",
   "metadata": {},
   "source": [
    "Continue to **rotate it around its own y axis** with a speed 0.3rad/s"
   ]
  },
  {
   "cell_type": "code",
   "execution_count": 10,
   "metadata": {},
   "outputs": [],
   "source": [
    "import time\n",
    "cube.local_angular_velocity=Rotation.ExtrinsicEular(0,0.3,0)\n",
    "scen.t=0\n",
    "while scen.t<10:\n",
    "    scen.step(0.1)\n",
    "    scen.render()\n",
    "    time.sleep(0.1)"
   ]
  },
  {
   "cell_type": "markdown",
   "metadata": {},
   "source": [
    "**Remove** it"
   ]
  },
  {
   "cell_type": "code",
   "execution_count": 9,
   "metadata": {},
   "outputs": [],
   "source": [
    "scen.remove(cube)\n",
    "scen.render()"
   ]
  },
  {
   "cell_type": "markdown",
   "metadata": {},
   "source": [
    "# Basic Shapes\n",
    "\n",
    "Here you will learn how to create basic shapes like sphere, line, cylinder. "
   ]
  },
  {
   "cell_type": "markdown",
   "metadata": {},
   "source": [
    "## Sphere\n",
    "Create a blue sphere and add it to the scenario"
   ]
  },
  {
   "cell_type": "code",
   "execution_count": 5,
   "metadata": {},
   "outputs": [],
   "source": [
    "from scenario import *\n",
    "scen=Scenario(\"first\")\n",
    "sphere=Sphere()\n",
    "sphere.color=Color(b=1)\n",
    "scen.add(sphere)\n",
    "scen.render()"
   ]
  },
  {
   "cell_type": "markdown",
   "metadata": {},
   "source": [
    "Change its **radius**"
   ]
  },
  {
   "cell_type": "code",
   "execution_count": 2,
   "metadata": {},
   "outputs": [],
   "source": [
    "sphere.radius=2\n",
    "scen.render()"
   ]
  },
  {
   "cell_type": "markdown",
   "metadata": {},
   "source": [
    "## Line\n",
    "Create a pink line with two points (0,1,3)(3,0,3) and add it to the scenario"
   ]
  },
  {
   "cell_type": "code",
   "execution_count": 2,
   "metadata": {},
   "outputs": [],
   "source": [
    "from scenario import *\n",
    "scen=Scenario(\"first\")\n",
    "line=Line()\n",
    "line.color=Color(r=1,b=1)\n",
    "line.add_point(Vector3(0,1,3),Vector3(3,0,3))\n",
    "scen.add(line)\n",
    "scen.render()"
   ]
  },
  {
   "cell_type": "markdown",
   "metadata": {},
   "source": [
    "Set **width** to 3"
   ]
  },
  {
   "cell_type": "code",
   "execution_count": 3,
   "metadata": {},
   "outputs": [],
   "source": [
    "line.width=3\n",
    "scen.render()"
   ]
  },
  {
   "cell_type": "markdown",
   "metadata": {},
   "source": [
    "If you want it to be an **arrow**"
   ]
  },
  {
   "cell_type": "code",
   "execution_count": 4,
   "metadata": {},
   "outputs": [],
   "source": [
    "line.type=Line.Type_Vector\n",
    "scen.render()"
   ]
  },
  {
   "cell_type": "markdown",
   "metadata": {},
   "source": [
    "A more complex example: use Line to draw a love heart"
   ]
  },
  {
   "cell_type": "code",
   "execution_count": 3,
   "metadata": {},
   "outputs": [],
   "source": [
    "from scenario import *\n",
    "scen=Scenario(\"first\")\n",
    "\n",
    "line=Line()\n",
    "line.color=Color(r=1)\n",
    "line.width=2\n",
    "line.add_point(Vector3(0,0,0))\n",
    "line.add_point(Vector3(0,-1,1))\n",
    "\n",
    "r=sqrt(2)/2\n",
    "for i in range(20):\n",
    "    a=pi*5/4-i*pi/20\n",
    "    line.add_point(Vector3(0,-0.5+r*cos(a),1.5+r*sin(a)))\n",
    "line.add_point(Vector3(0,0,2))\n",
    "for i in range(20):\n",
    "    a=pi*3/4-i*pi/20\n",
    "    line.add_point(Vector3(0,0.5+r*cos(a),1.5+r*sin(a)))\n",
    "line.add_point(Vector3(0,1,1))\n",
    "line.add_point(Vector3(0,0,0))\n",
    "scen.add(line)\n",
    "scen.render()"
   ]
  },
  {
   "cell_type": "markdown",
   "metadata": {},
   "source": [
    "Another example: update points **dynamically**"
   ]
  },
  {
   "cell_type": "code",
   "execution_count": 7,
   "metadata": {},
   "outputs": [],
   "source": [
    "from scenario import *\n",
    "from time import sleep\n",
    "from math import sin,cos\n",
    "scen=Scenario(\"first\")\n",
    "l=Line()\n",
    "l.line_width=2\n",
    "l.color=Color(r=1,b=1)\n",
    "l.width=2\n",
    "scen.add(l)\n",
    "while scen.t<10:\n",
    "    x=sin(5*scen.t)*scen.t\n",
    "    y=cos(5*scen.t)*scen.t\n",
    "    z=scen.t\n",
    "    l.add_point(Vector3(x,y,z))\n",
    "    scen.step(0.01)\n",
    "    scen.render()\n",
    "    sleep(0.01)"
   ]
  },
  {
   "cell_type": "markdown",
   "metadata": {},
   "source": [
    "## Cylinder"
   ]
  },
  {
   "cell_type": "markdown",
   "metadata": {},
   "source": [
    "Set **top_radius, bottom_radius** and **height** to define a cylinder"
   ]
  },
  {
   "cell_type": "code",
   "execution_count": 1,
   "metadata": {},
   "outputs": [
    {
     "name": "stdout",
     "output_type": "stream",
     "text": [
      "open http://localhost:8000/view/first\n"
     ]
    }
   ],
   "source": [
    "from scenario import *\n",
    "scen=Scenario(\"first\")\n",
    "c=Cylinder()\n",
    "c.top_radius=1\n",
    "c.bottom_radius=2\n",
    "c.height=1\n",
    "c.color=Color(r=1)\n",
    "scen.add(c)\n",
    "scen.render()"
   ]
  },
  {
   "cell_type": "markdown",
   "metadata": {},
   "source": [
    "Set its center **axis**"
   ]
  },
  {
   "cell_type": "code",
   "execution_count": 2,
   "metadata": {},
   "outputs": [],
   "source": [
    "c.set_axis(Vector3(1,1,1))\n",
    "scen.render()"
   ]
  },
  {
   "cell_type": "markdown",
   "metadata": {},
   "source": [
    "## Cube"
   ]
  },
  {
   "cell_type": "markdown",
   "metadata": {},
   "source": [
    "Cube use 3d scale to represent its with, height and length"
   ]
  },
  {
   "cell_type": "code",
   "execution_count": 3,
   "metadata": {},
   "outputs": [],
   "source": [
    "from scenario import *\n",
    "scen=Scenario(\"first\")\n",
    "c=Cube()\n",
    "c.scale=Vector3(1,2,3)\n",
    "scen.add(c)\n",
    "scen.render()"
   ]
  },
  {
   "cell_type": "markdown",
   "metadata": {},
   "source": [
    "## Pipe\n",
    "\n",
    "Creates extruded geometry from a path shape"
   ]
  },
  {
   "cell_type": "code",
   "execution_count": 13,
   "metadata": {},
   "outputs": [],
   "source": [
    "from scenario import *\n",
    "scen=Scenario(\"first\")\n",
    "p=Pipe()\n",
    "p.cross=[[0.1,4],[-0.1,4],[-0.1,-4],[0.1,-4],[0.1,4]]\n",
    "p.path=[[-15, 2, 0],[-5, 2, 0.3],[0, 0, 1],[5, -2,1],[15, -5, 1]]\n",
    "scen.add(p)\n",
    "scen.render()"
   ]
  },
  {
   "cell_type": "code",
   "execution_count": 17,
   "metadata": {},
   "outputs": [],
   "source": [
    "from scenario import *\n",
    "scen=Scenario(\"first\")\n",
    "cross=[]\n",
    "cross.append([0,0])\n",
    "cross.append([-1,1])\n",
    "\n",
    "r=sqrt(2)/2\n",
    "for i in range(21):\n",
    "    a=pi*5/4-i*pi/20\n",
    "    cross.append([-0.5+r*cos(a),1.5+r*sin(a)])\n",
    "cross.append([0,0,2])\n",
    "for i in range(20):\n",
    "    a=pi*3/4-i*pi/20\n",
    "    cross.append([0.5+r*cos(a),1.5+r*sin(a)])\n",
    "cross.append([1,1])\n",
    "cross.append([0,0])\n",
    "p=Pipe()\n",
    "p.cross=cross\n",
    "p.path=[[0, 0, 0],[5, 5, 5]]\n",
    "p.color=Color(r=1)\n",
    "scen.add(p)\n",
    "scen.render()"
   ]
  },
  {
   "cell_type": "code",
   "execution_count": null,
   "metadata": {},
   "outputs": [],
   "source": []
  }
 ],
 "metadata": {
  "file_extension": ".py",
  "kernelspec": {
   "display_name": "Python 3.8.3 64-bit ('base': conda)",
   "language": "python",
   "name": "python38364bitbaseconda12a7320e90d14a8ab1ae06e7922a6e0c"
  },
  "language_info": {
   "codemirror_mode": {
    "name": "ipython",
    "version": 3
   },
   "file_extension": ".py",
   "mimetype": "text/x-python",
   "name": "python",
   "nbconvert_exporter": "python",
   "pygments_lexer": "ipython3",
   "version": "3.8.3"
  },
  "mimetype": "text/x-python",
  "name": "python",
  "npconvert_exporter": "python",
  "pygments_lexer": "ipython3",
  "version": 3
 },
 "nbformat": 4,
 "nbformat_minor": 4
}
