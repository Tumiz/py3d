{
 "cells": [
  {
   "cell_type": "markdown",
   "metadata": {},
   "source": [
    "# Gravity"
   ]
  },
  {
   "cell_type": "code",
   "execution_count": 2,
   "metadata": {},
   "outputs": [
    {
     "output_type": "stream",
     "name": "stdout",
     "text": [
      "0\n"
     ]
    },
    {
     "output_type": "display_data",
     "data": {
      "text/plain": "<IPython.lib.display.IFrame at 0x7fc5903e9220>",
      "text/html": "\n        <iframe\n            width=\"100%\"\n            height=\"600px\"\n            src=\"http://localhost:8000/view/140486504912064\"\n            frameborder=\"0\"\n            allowfullscreen\n        ></iframe>\n        "
     },
     "metadata": {}
    }
   ],
   "source": [
    "from scenario import *\n",
    "import pybullet as p\n",
    "from time import sleep\n",
    "p.connect(p.DIRECT)\n",
    "boxid=p.createCollisionShape(p.GEOM_BOX,halfExtents=[0.5,0.5,0.5])\n",
    "p.createMultiBody(baseMass=0,\n",
    "                    baseCollisionShapeIndex=boxId,\n",
    "                    basePosition=[0, 0, -0.1])\n",
    "print(boxid)\n",
    "scen=Scenario()\n",
    "cube=Cube()\n",
    "cube.position=Vector3(0,0,2)\n",
    "cube.mass=1\n",
    "\n",
    "scen.add(cube)\n",
    "while scen.t<3:\n",
    "    scen.step(0.1)\n",
    "    scen.render()\n",
    "    sleep(0.1)"
   ]
  },
  {
   "cell_type": "markdown",
   "metadata": {},
   "source": [
    "# Collision Detection"
   ]
  },
  {
   "cell_type": "markdown",
   "metadata": {},
   "source": [
    "## Get normal vector of a plane defined by two vectors"
   ]
  },
  {
   "cell_type": "code",
   "execution_count": 1,
   "metadata": {},
   "outputs": [
    {
     "data": {
      "text/plain": [
       "tensor([-3.,  6., -3.])"
      ]
     },
     "execution_count": 1,
     "metadata": {},
     "output_type": "execute_result"
    }
   ],
   "source": [
    "from scenario import *\n",
    "v1=Vector3(0,1,2)\n",
    "v2=Vector3(3,4,5)\n",
    "n=v1.cross(v2)\n",
    "n"
   ]
  },
  {
   "cell_type": "code",
   "execution_count": 3,
   "metadata": {},
   "outputs": [
    {
     "data": {
      "text/html": [
       "\n",
       "        <iframe\n",
       "            width=\"100%\"\n",
       "            height=\"600px\"\n",
       "            src=\"http://localhost:8001/view/139824736438928\"\n",
       "            frameborder=\"0\"\n",
       "            allowfullscreen\n",
       "        ></iframe>\n",
       "        "
      ],
      "text/plain": [
       "<IPython.lib.display.IFrame at 0x7f2b7bba7a90>"
      ]
     },
     "metadata": {},
     "output_type": "display_data"
    }
   ],
   "source": [
    "l1=Vector(v1)\n",
    "l1.id=\"v1\"\n",
    "l1.color=Color(r=1)\n",
    "l2=Vector(v2)\n",
    "l2.color=Color(g=1)\n",
    "l3=Vector(n)\n",
    "l3.color=Color(b=1)\n",
    "Scenario(l1,l2,l3).render()"
   ]
  },
  {
   "cell_type": "markdown",
   "metadata": {},
   "source": [
    "## Line intersect normal-point plane\n",
    "Assume normal vector $\\textbf{n}$ and point $\\textbf{p}_0$ defines a plane, $\\textbf{p}$ represents any point on this plane. Then\n",
    "\n",
    "$\\textbf{n}\\cdot(\\textbf{p}-\\textbf{p}_0)=0$\n",
    "\n",
    "Assume two points $\\textbf{a}$ and $\\textbf{b}$ defines a line, $\\textbf{p}$ is any point on this line, and t is a scalar. Then\n",
    "\n",
    "$\\textbf{p}=\\textbf{a}+t(\\textbf{b}-\\textbf{a})$\n",
    "\n",
    "If the line and plane have an intersection point $\\textbf{p}_i$. Then\n",
    "\n",
    "$\\textbf{n}\\cdot(\\textbf{p}_i-\\textbf{p}_0)=0$\n",
    "\n",
    "$\\textbf{p}_i=\\textbf{a}+t(\\textbf{b}-\\textbf{a})$"
   ]
  },
  {
   "cell_type": "markdown",
   "metadata": {},
   "source": [
    "$\\Rightarrow \\textbf{n}\\cdot[\\textbf{a}+t(\\textbf{b}-\\textbf{a})-\\textbf{p}_0]=0$"
   ]
  },
  {
   "cell_type": "markdown",
   "metadata": {},
   "source": [
    "$\\Rightarrow \\textbf{n}\\cdot\\textbf{a}+t\\textbf{n}\\cdot(\\textbf{b}-\\textbf{a})-\\textbf{n}\\cdot\\textbf{p}_0=0$"
   ]
  },
  {
   "cell_type": "markdown",
   "metadata": {},
   "source": [
    "$\\Rightarrow t=\\frac{\\textbf{n}\\cdot(\\textbf{p}_0-\\textbf{a})}{\\textbf{n}\\cdot(\\textbf{b}-\\textbf{a})}$"
   ]
  },
  {
   "cell_type": "markdown",
   "metadata": {},
   "source": [
    "$\\Rightarrow \\textbf{p}_i=\\textbf{a}+\\frac{\\textbf{n}\\cdot(\\textbf{p}_0-\\textbf{a})}{\\textbf{n}\\cdot(\\textbf{b}-\\textbf{a})}(\\textbf{b}-\\textbf{a})$"
   ]
  },
  {
   "cell_type": "code",
   "execution_count": 4,
   "metadata": {},
   "outputs": [
    {
     "name": "stdout",
     "output_type": "stream",
     "text": [
      "tensor(-0.4000)\n"
     ]
    },
    {
     "data": {
      "text/html": [
       "\n",
       "        <iframe\n",
       "            width=\"100%\"\n",
       "            height=\"600px\"\n",
       "            src=\"http://localhost:8001/view/139826693458448\"\n",
       "            frameborder=\"0\"\n",
       "            allowfullscreen\n",
       "        ></iframe>\n",
       "        "
      ],
      "text/plain": [
       "<IPython.lib.display.IFrame at 0x7f2bf064c7d0>"
      ]
     },
     "metadata": {},
     "output_type": "display_data"
    }
   ],
   "source": [
    "from scenario import  *\n",
    "n=Vector3(1,1,1)\n",
    "p0=Vector3(5,6,2)\n",
    "a=Vector3(1,3,5)\n",
    "b=Vector3(2,-2,-1)\n",
    "t=n.dot(p0-a)/n.dot(b-a)\n",
    "pi=a+t*(b-a)\n",
    "print(t)\n",
    "Scenario(Plane(p0,n),Point(pi),Vector(a,b)).render()"
   ]
  },
  {
   "cell_type": "markdown",
   "metadata": {},
   "source": [
    "## Line intersect triangle"
   ]
  },
  {
   "cell_type": "markdown",
   "metadata": {},
   "source": [
    "Three points $A,B,C$ define a triangle $\\triangle ABC$.\n",
    "\n",
    "Another two points $P_0,P_1$ define a line segment.\n",
    "\n",
    "If there is an intersection $P_x$ between the triangle and the line segment, then\n",
    "\n",
    "$u\\overrightarrow{CA}+v\\overrightarrow{CB}+C=P_x$ and $u+v<=1$\n",
    "\n",
    "$P_x=P_0+t\\overrightarrow{P_0P_1}$"
   ]
  },
  {
   "cell_type": "markdown",
   "metadata": {},
   "source": [
    "$\\Rightarrow u\\overrightarrow{CA}+v\\overrightarrow{CB}+C = P_0+t\\overrightarrow{P_0P_1}$"
   ]
  },
  {
   "cell_type": "markdown",
   "metadata": {},
   "source": [
    "$\\Rightarrow t\\overrightarrow{P_0P_1}+ u\\overrightarrow{AC}+v\\overrightarrow{BC}= C-P_0$"
   ]
  },
  {
   "cell_type": "markdown",
   "metadata": {},
   "source": [
    "$\\Rightarrow [\\overrightarrow{P_0P_1},\\overrightarrow{AC},\\overrightarrow{BC}]\\left[ \\begin{array} \\\\ t \\\\ u \\\\ v\\end{array}\\right]= C-P_0$\n",
    "\n",
    "$\\Rightarrow \\left[ \\begin{array} \\\\ t \\\\ u \\\\ v\\end{array}\\right]= [P_1-P_0,C-A,C-B]^{-1}(C-P_0)$"
   ]
  },
  {
   "cell_type": "code",
   "execution_count": 74,
   "metadata": {},
   "outputs": [
    {
     "name": "stdout",
     "output_type": "stream",
     "text": [
      "tensor(0.4167) tensor(0.3542) tensor(0.5000)\n"
     ]
    },
    {
     "data": {
      "text/html": [
       "\n",
       "        <iframe\n",
       "            width=\"100%\"\n",
       "            height=\"600px\"\n",
       "            src=\"http://localhost:8000/view/140167880134736\"\n",
       "            frameborder=\"0\"\n",
       "            allowfullscreen\n",
       "        ></iframe>\n",
       "        "
      ],
      "text/plain": [
       "<IPython.lib.display.IFrame at 0x7f7b6262f990>"
      ]
     },
     "metadata": {},
     "output_type": "display_data"
    }
   ],
   "source": [
    "from scenario import *\n",
    "A=Vector3(1,2,0)\n",
    "B=Vector3(3,6,1)\n",
    "C=Vector3(5,-2,0)\n",
    "P0=Vector3(3,3,3)\n",
    "P1=Vector3(2,4,-3)\n",
    "t,u,v=torch.cat(((P1-P0).unsqueeze(1),(C-A).unsqueeze(1),(C-B).unsqueeze(1)),dim=1).inverse().mv(C-P0)\n",
    "print(t,u,v)\n",
    "Px=P0+t*(P1-P0)\n",
    "Scenario(Vector(C,A),Vector(C,B),Vector(P0,P1),Point(Px)).render()"
   ]
  },
  {
   "cell_type": "markdown",
   "metadata": {},
   "source": [
    "## Collision between a line segment and a cube"
   ]
  },
  {
   "cell_type": "markdown",
   "metadata": {},
   "source": [
    "Assume $P$ is a point within a cube and it is represented in the cube's local frame. The cube's has three direction vectors $\\textbf{d}_x,\\textbf{d}_y,\\textbf{d}_z$, which size are $s_x,s_y,s_z$. Then\n",
    "\n",
    "$P=(us_x,vs_y,ws_z),u \\leqslant1,v \\leqslant1,w \\leqslant1$"
   ]
  },
  {
   "cell_type": "code",
   "execution_count": 99,
   "metadata": {},
   "outputs": [
    {
     "data": {
      "text/html": [
       "\n",
       "        <iframe\n",
       "            width=\"100%\"\n",
       "            height=\"600px\"\n",
       "            src=\"http://localhost:8000/view/140167880433360\"\n",
       "            frameborder=\"0\"\n",
       "            allowfullscreen\n",
       "        ></iframe>\n",
       "        "
      ],
      "text/plain": [
       "<IPython.lib.display.IFrame at 0x7f7b607e0510>"
      ]
     },
     "metadata": {},
     "output_type": "display_data"
    }
   ],
   "source": [
    "cube=Cube(4,2,1)\n",
    "cube.rotation=Rotation.Eular(0.1,-0.4,1)\n",
    "p=Vector3(0.2,0.9,-0.4)/2\n",
    "P=cube.position+cube.rotation*(cube.scale*p)\n",
    "Scenario(cube,Point(P)).render()"
   ]
  },
  {
   "cell_type": "markdown",
   "metadata": {},
   "source": [
    "## Collision between two cubes"
   ]
  },
  {
   "cell_type": "code",
   "execution_count": 100,
   "metadata": {},
   "outputs": [
    {
     "data": {
      "text/html": [
       "\n",
       "        <iframe\n",
       "            width=\"100%\"\n",
       "            height=\"600px\"\n",
       "            src=\"http://localhost:8000/view/140167880186512\"\n",
       "            frameborder=\"0\"\n",
       "            allowfullscreen\n",
       "        ></iframe>\n",
       "        "
      ],
      "text/plain": [
       "<IPython.lib.display.IFrame at 0x7f7b616aa810>"
      ]
     },
     "metadata": {},
     "output_type": "display_data"
    }
   ],
   "source": [
    "from scenario import *\n",
    "red=Cube(4,1.8,1.48)\n",
    "red.color=Color(r=1)\n",
    "blue=Cube()\n",
    "blue.color=Color(b=1)\n",
    "red.position=Vector3(1,2,3)\n",
    "scen=Scenario()\n",
    "scen.add(red,blue)\n",
    "scen.render()\n",
    "def onkey(key):\n",
    "    if key=='q':\n",
    "        red.position+=Vector3(0.1,0,0)\n",
    "    elif key=='a':\n",
    "        red.position+=Vector3(-0.1,0,0)\n",
    "    elif key=='w':\n",
    "        red.position+=Vector3(0,0.1,0)\n",
    "    elif key=='s':\n",
    "        red.position+=Vector3(0,-0.1,0)\n",
    "    elif key=='e':\n",
    "        red.position+=Vector3(0,0,0.1)\n",
    "    elif key=='d':\n",
    "        red.position+=Vector3(0,0,-0.1)\n",
    "    elif key=='r':\n",
    "        red.rotation*=Rotation.Eular(z=0.1)\n",
    "    elif key=='f':\n",
    "        red.rotation*=Rotation.Eular(z=-0.1)\n",
    "    scen.render()\n",
    "scen.on_key=onkey"
   ]
  },
  {
   "cell_type": "code",
   "execution_count": 102,
   "metadata": {},
   "outputs": [
    {
     "data": {
      "text/plain": [
       "tensor([[0.2358, -0.0000, -0.0000],\n",
       "        [-0.0000, 0.4149, -0.0000],\n",
       "        [-0.0000, -0.0000, 0.3636]])"
      ]
     },
     "execution_count": 102,
     "metadata": {},
     "output_type": "execute_result"
    }
   ],
   "source": [
    "rx=red.rotation*(red.scale*Vector3(1,0,0))+red.position\n",
    "ry=red.rotation*(red.scale*Vector3(0,1,0))+red.position\n",
    "rz=red.rotation*(red.scale*Vector3(0,0,1))+red.position\n",
    "bx=blue.rotation*(blue.scale*Vector3(1,0,0))+blue.position\n",
    "by=blue.rotation*(blue.scale*Vector3(0,1,0))+blue.position\n",
    "bz=blue.rotation*(blue.scale*Vector3(0,0,1))+blue.position\n",
    "Tr=torch.cat((rx.unsqueeze(1),ry.unsqueeze(1),rz.unsqueeze(1)),dim=1)\n",
    "Tb=torch.cat((bx.unsqueeze(1),by.unsqueeze(1),bz.unsqueeze(1)),dim=1)\n",
    "Tr.inverse()*Tb"
   ]
  },
  {
   "cell_type": "code",
   "execution_count": null,
   "metadata": {},
   "outputs": [],
   "source": []
  }
 ],
 "metadata": {
  "kernelspec": {
   "display_name": "Python 3",
   "language": "python",
   "name": "python3"
  },
  "language_info": {
   "codemirror_mode": {
    "name": "ipython",
    "version": 3
   },
   "file_extension": ".py",
   "mimetype": "text/x-python",
   "name": "python",
   "nbconvert_exporter": "python",
   "pygments_lexer": "ipython3",
   "version": "3.8.3-final"
  }
 },
 "nbformat": 4,
 "nbformat_minor": 4
}