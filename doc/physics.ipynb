{
 "cells": [
  {
   "cell_type": "markdown",
   "metadata": {},
   "source": [
    "# Gravity"
   ]
  },
  {
   "cell_type": "code",
   "execution_count": 1,
   "metadata": {},
   "outputs": [
    {
     "data": {
      "text/html": [
       "\n",
       "        <iframe\n",
       "            width=\"100%\"\n",
       "            height=\"600px\"\n",
       "            src=\"http://localhost:8000/view/140514731134736\"\n",
       "            frameborder=\"0\"\n",
       "            allowfullscreen\n",
       "        ></iframe>\n",
       "        "
      ],
      "text/plain": [
       "<IPython.lib.display.IFrame at 0x7fcc23055fd0>"
      ]
     },
     "metadata": {},
     "output_type": "display_data"
    }
   ],
   "source": [
    "from scenario import *\n",
    "from time import sleep\n",
    "scen=Scenario()\n",
    "cube=Cube()\n",
    "cube.position=Vector3(0,0,2)\n",
    "cube.mass=1\n",
    "\n",
    "scen.add(cube)\n",
    "while scen.t<3:\n",
    "    scen.step(0.1)\n",
    "    scen.render()\n",
    "    sleep(0.1)"
   ]
  },
  {
   "cell_type": "markdown",
   "metadata": {},
   "source": [
    "# Collision"
   ]
  },
  {
   "cell_type": "markdown",
   "metadata": {},
   "source": [
    "## Collision between two cubes"
   ]
  },
  {
   "cell_type": "code",
   "execution_count": 1,
   "metadata": {},
   "outputs": [
    {
     "data": {
      "text/html": [
       "\n",
       "        <iframe\n",
       "            width=\"100%\"\n",
       "            height=\"600px\"\n",
       "            src=\"http://localhost:8000/view/140701922769936\"\n",
       "            frameborder=\"0\"\n",
       "            allowfullscreen\n",
       "        ></iframe>\n",
       "        "
      ],
      "text/plain": [
       "<IPython.lib.display.IFrame at 0x7ff744385f90>"
      ]
     },
     "metadata": {},
     "output_type": "display_data"
    }
   ],
   "source": [
    "from scenario import *\n",
    "red=Cube(4,1.8,1.48)\n",
    "red.color=Color(r=1)\n",
    "blue=Cube()\n",
    "blue.color=Color(b=1)\n",
    "red.position=Vector3(1,2,3)\n",
    "scen=Scenario()\n",
    "scen.add(red,blue)\n",
    "scen.render()\n",
    "def onkey(key):\n",
    "    if key=='q':\n",
    "        red.position+=Vector3(0.1,0,0)\n",
    "    elif key=='a':\n",
    "        red.position+=Vector3(-0.1,0,0)\n",
    "    elif key=='w':\n",
    "        red.position+=Vector3(0,0.1,0)\n",
    "    elif key=='s':\n",
    "        red.position+=Vector3(0,-0.1,0)\n",
    "    elif key=='e':\n",
    "        red.position+=Vector3(0,0,0.1)\n",
    "    elif key=='d':\n",
    "        red.position+=Vector3(0,0,-0.1)\n",
    "    elif key=='r':\n",
    "        red.rotation*=Rotation.Eular(z=0.1)\n",
    "    elif key=='f':\n",
    "        red.rotation*=Rotation.Eular(z=-0.1)\n",
    "    scen.render()\n",
    "scen.on_key=onkey"
   ]
  },
  {
   "cell_type": "code",
   "execution_count": null,
   "metadata": {},
   "outputs": [],
   "source": []
  }
 ],
 "metadata": {
  "kernelspec": {
   "display_name": "Python 3",
   "language": "python",
   "name": "python3"
  },
  "language_info": {
   "codemirror_mode": {
    "name": "ipython",
    "version": 3
   },
   "file_extension": ".py",
   "mimetype": "text/x-python",
   "name": "python",
   "nbconvert_exporter": "python",
   "pygments_lexer": "ipython3",
   "version": "3.7.4"
  }
 },
 "nbformat": 4,
 "nbformat_minor": 4
}
