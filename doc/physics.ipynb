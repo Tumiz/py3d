{
 "cells": [
  {
   "cell_type": "markdown",
   "metadata": {},
   "source": [
    "# Gravity"
   ]
  },
  {
   "cell_type": "code",
   "execution_count": 1,
   "metadata": {},
   "outputs": [
    {
     "data": {
      "text/html": [
       "\n",
       "        <iframe\n",
       "            width=\"100%\"\n",
       "            height=\"600px\"\n",
       "            src=\"http://localhost:8000/view/140514731134736\"\n",
       "            frameborder=\"0\"\n",
       "            allowfullscreen\n",
       "        ></iframe>\n",
       "        "
      ],
      "text/plain": [
       "<IPython.lib.display.IFrame at 0x7fcc23055fd0>"
      ]
     },
     "metadata": {},
     "output_type": "display_data"
    }
   ],
   "source": [
    "from scenario import *\n",
    "from time import sleep\n",
    "scen=Scenario()\n",
    "cube=Cube()\n",
    "cube.position=Vector3(0,0,2)\n",
    "cube.mass=1\n",
    "\n",
    "scen.add(cube)\n",
    "while scen.t<3:\n",
    "    scen.step(0.1)\n",
    "    scen.render()\n",
    "    sleep(0.1)"
   ]
  },
  {
   "cell_type": "markdown",
   "metadata": {},
   "source": [
    "# Collision"
   ]
  },
  {
   "cell_type": "markdown",
   "metadata": {},
   "source": [
    "## Get normal vector of a plane defined by two vectors"
   ]
  },
  {
   "cell_type": "code",
   "execution_count": 1,
   "metadata": {},
   "outputs": [
    {
     "data": {
      "text/plain": [
       "tensor([-3.,  6., -3.])"
      ]
     },
     "execution_count": 1,
     "metadata": {},
     "output_type": "execute_result"
    }
   ],
   "source": [
    "from scenario import *\n",
    "v1=Vector3(0,1,2)\n",
    "v2=Vector3(3,4,5)\n",
    "n=v1.cross(v2)\n",
    "n"
   ]
  },
  {
   "cell_type": "code",
   "execution_count": 9,
   "metadata": {},
   "outputs": [
    {
     "data": {
      "text/html": [
       "\n",
       "        <iframe\n",
       "            width=\"100%\"\n",
       "            height=\"600px\"\n",
       "            src=\"http://localhost:8000/view/140537999950224\"\n",
       "            frameborder=\"0\"\n",
       "            allowfullscreen\n",
       "        ></iframe>\n",
       "        "
      ],
      "text/plain": [
       "<IPython.lib.display.IFrame at 0x7fd18db73e10>"
      ]
     },
     "metadata": {},
     "output_type": "display_data"
    }
   ],
   "source": [
    "l1=Line.Vector(v1)\n",
    "l1.id=\"v1\"\n",
    "l1.color=Color(r=1)\n",
    "l2=Line.Vector(v2)\n",
    "l2.color=Color(g=1)\n",
    "l3=Line.Vector(n)\n",
    "l3.color=Color(b=1)\n",
    "Scenario(l1,l2,l3).render()"
   ]
  },
  {
   "cell_type": "markdown",
   "metadata": {},
   "source": [
    "## Line intersect normal-point plane\n",
    "Assume normal vector $\\textbf{n}$ and point $\\textbf{p}_0$ defines a plane, $\\textbf{p}$ represents any point on this plane. Then\n",
    "\n",
    "$\\textbf{n}\\cdot(\\textbf{p}-\\textbf{p}_0)=0$\n",
    "\n",
    "Assume two points $\\textbf{a}$ and $\\textbf{b}$ defines a line, $\\textbf{p}$ is any point on this line, and t is a scalar. Then\n",
    "\n",
    "$\\textbf{p}=\\textbf{a}+t(\\textbf{b}-\\textbf{a})$\n",
    "\n",
    "If the line and plane have an intersection point $\\textbf{p}_i$. Then\n",
    "\n",
    "$\\textbf{n}\\cdot(\\textbf{p}_i-\\textbf{p}_0)=0$\n",
    "\n",
    "$\\textbf{p}_i=\\textbf{a}+t(\\textbf{b}-\\textbf{a})$"
   ]
  },
  {
   "cell_type": "markdown",
   "metadata": {},
   "source": [
    "$\\Rightarrow \\textbf{n}\\cdot[\\textbf{a}+t(\\textbf{b}-\\textbf{a})-\\textbf{p}_0]=0$"
   ]
  },
  {
   "cell_type": "markdown",
   "metadata": {},
   "source": [
    "$\\Rightarrow \\textbf{n}\\cdot\\textbf{a}+t\\textbf{n}\\cdot(\\textbf{b}-\\textbf{a})-\\textbf{n}\\cdot\\textbf{p}_0=0$"
   ]
  },
  {
   "cell_type": "markdown",
   "metadata": {},
   "source": [
    "$\\Rightarrow t=\\frac{\\textbf{n}\\cdot(\\textbf{p}_0-\\textbf{a})}{\\textbf{n}\\cdot(\\textbf{b}-\\textbf{a})}$"
   ]
  },
  {
   "cell_type": "markdown",
   "metadata": {},
   "source": [
    "$\\Rightarrow \\textbf{p}_i=\\textbf{a}+\\frac{\\textbf{n}\\cdot(\\textbf{p}_0-\\textbf{a})}{\\textbf{n}\\cdot(\\textbf{b}-\\textbf{a})}(\\textbf{b}-\\textbf{a})$"
   ]
  },
  {
   "cell_type": "code",
   "execution_count": 9,
   "metadata": {},
   "outputs": [
    {
     "name": "stdout",
     "output_type": "stream",
     "text": [
      "tensor(-0.4000)\n"
     ]
    },
    {
     "data": {
      "text/html": [
       "\n",
       "        <iframe\n",
       "            width=\"100%\"\n",
       "            height=\"600px\"\n",
       "            src=\"http://localhost:8000/view/140131706892624\"\n",
       "            frameborder=\"0\"\n",
       "            allowfullscreen\n",
       "        ></iframe>\n",
       "        "
      ],
      "text/plain": [
       "<IPython.lib.display.IFrame at 0x7f72f49a42d0>"
      ]
     },
     "metadata": {},
     "output_type": "display_data"
    }
   ],
   "source": [
    "from scenario import  *\n",
    "n=Vector3(1,1,1)\n",
    "p0=Vector3(5,6,2)\n",
    "a=Vector3(1,3,5)\n",
    "b=Vector3(2,-2,-1)\n",
    "t=n.dot(p0-a)/n.dot(b-a)\n",
    "pi=a+t*(b-a)\n",
    "print(t)\n",
    "Scenario(Plane(p0,n),Point(pi),Vector(a,b)).render()"
   ]
  },
  {
   "cell_type": "markdown",
   "metadata": {},
   "source": [
    "## Line intersect triangle"
   ]
  },
  {
   "cell_type": "code",
   "execution_count": null,
   "metadata": {},
   "outputs": [],
   "source": []
  },
  {
   "cell_type": "markdown",
   "metadata": {},
   "source": [
    "## Distance from a point to a plane"
   ]
  },
  {
   "cell_type": "code",
   "execution_count": 12,
   "metadata": {},
   "outputs": [
    {
     "data": {
      "text/html": [
       "\n",
       "        <iframe\n",
       "            width=\"100%\"\n",
       "            height=\"600px\"\n",
       "            src=\"http://localhost:8000/view/140113394646992\"\n",
       "            frameborder=\"0\"\n",
       "            allowfullscreen\n",
       "        ></iframe>\n",
       "        "
      ],
      "text/plain": [
       "<IPython.lib.display.IFrame at 0x7f6eb0dc1650>"
      ]
     },
     "metadata": {},
     "output_type": "display_data"
    }
   ],
   "source": [
    "from scenario import *\n",
    "plane=Cube(10,10,0.1)\n",
    "plane.rotation=Rotation.Eular(0.1,0.2,0.3)\n",
    "normal=plane.rotation*Vector3(0,0,1)\n",
    "ln=Line.Vector(normal)\n",
    "point=Sphere(0.1)\n",
    "point.position=Vector3(3,1,6)\n",
    "scen=Scenario(plane,ln,point)\n",
    "scen.render()"
   ]
  },
  {
   "cell_type": "code",
   "execution_count": 7,
   "metadata": {},
   "outputs": [
    {
     "name": "stdout",
     "output_type": "stream",
     "text": [
      "1\n"
     ]
    }
   ],
   "source": [
    "def f(*a):\n",
    "    for i in a:\n",
    "        print(i)\n",
    "f(1)"
   ]
  },
  {
   "cell_type": "markdown",
   "metadata": {},
   "source": [
    "## Collision between a plane and a cube"
   ]
  },
  {
   "cell_type": "code",
   "execution_count": null,
   "metadata": {},
   "outputs": [],
   "source": [
    "from scenario import *\n"
   ]
  },
  {
   "cell_type": "markdown",
   "metadata": {},
   "source": [
    "## Collision between two cubes"
   ]
  },
  {
   "cell_type": "code",
   "execution_count": 1,
   "metadata": {},
   "outputs": [
    {
     "data": {
      "text/html": [
       "\n",
       "        <iframe\n",
       "            width=\"100%\"\n",
       "            height=\"600px\"\n",
       "            src=\"http://localhost:8000/view/140701922769936\"\n",
       "            frameborder=\"0\"\n",
       "            allowfullscreen\n",
       "        ></iframe>\n",
       "        "
      ],
      "text/plain": [
       "<IPython.lib.display.IFrame at 0x7ff744385f90>"
      ]
     },
     "metadata": {},
     "output_type": "display_data"
    }
   ],
   "source": [
    "from scenario import *\n",
    "red=Cube(4,1.8,1.48)\n",
    "red.color=Color(r=1)\n",
    "blue=Cube()\n",
    "blue.color=Color(b=1)\n",
    "red.position=Vector3(1,2,3)\n",
    "scen=Scenario()\n",
    "scen.add(red,blue)\n",
    "scen.render()\n",
    "def onkey(key):\n",
    "    if key=='q':\n",
    "        red.position+=Vector3(0.1,0,0)\n",
    "    elif key=='a':\n",
    "        red.position+=Vector3(-0.1,0,0)\n",
    "    elif key=='w':\n",
    "        red.position+=Vector3(0,0.1,0)\n",
    "    elif key=='s':\n",
    "        red.position+=Vector3(0,-0.1,0)\n",
    "    elif key=='e':\n",
    "        red.position+=Vector3(0,0,0.1)\n",
    "    elif key=='d':\n",
    "        red.position+=Vector3(0,0,-0.1)\n",
    "    elif key=='r':\n",
    "        red.rotation*=Rotation.Eular(z=0.1)\n",
    "    elif key=='f':\n",
    "        red.rotation*=Rotation.Eular(z=-0.1)\n",
    "    scen.render()\n",
    "scen.on_key=onkey"
   ]
  },
  {
   "cell_type": "code",
   "execution_count": null,
   "metadata": {},
   "outputs": [],
   "source": []
  }
 ],
 "metadata": {
  "kernelspec": {
   "display_name": "Python 3",
   "language": "python",
   "name": "python3"
  },
  "language_info": {
   "codemirror_mode": {
    "name": "ipython",
    "version": 3
   },
   "file_extension": ".py",
   "mimetype": "text/x-python",
   "name": "python",
   "nbconvert_exporter": "python",
   "pygments_lexer": "ipython3",
   "version": "3.7.4"
  }
 },
 "nbformat": 4,
 "nbformat_minor": 4
}
