{
 "cells": [
  {
   "cell_type": "markdown",
   "metadata": {},
   "source": [
    "*Copyright (c) Tumiz. Distributed under the terms of the GPL-3.0 License.*"
   ]
  },
  {
   "cell_type": "markdown",
   "metadata": {},
   "source": [
    "# Position and Velocity"
   ]
  },
  {
   "cell_type": "markdown",
   "metadata": {},
   "source": [
    "**Vector3**, represent point or position, velocity and other vectors. It is a class inheriting torch.Tensor, so it is also a tensor."
   ]
  },
  {
   "cell_type": "code",
   "execution_count": 5,
   "metadata": {},
   "outputs": [
    {
     "data": {
      "text/plain": [
       "tensor(4.8826)"
      ]
     },
     "execution_count": 5,
     "metadata": {},
     "output_type": "execute_result"
    }
   ],
   "source": [
    "a=Vector3(1,2,2)\n",
    "b=Vector3(1,-2,-0.8)\n",
    "(a-b).norm()"
   ]
  },
  {
   "cell_type": "code",
   "execution_count": 1,
   "metadata": {},
   "outputs": [
    {
     "data": {
      "text/plain": [
       "tensor([ 1.0000,  2.0000, -0.3000], dtype=torch.float64)"
      ]
     },
     "execution_count": 1,
     "metadata": {},
     "output_type": "execute_result"
    }
   ],
   "source": [
    "from scenario import *\n",
    "Vector3(1,2,-0.3)"
   ]
  },
  {
   "cell_type": "code",
   "execution_count": 2,
   "metadata": {},
   "outputs": [
    {
     "data": {
      "text/plain": [
       "tensor([ 3., -6.,  9.], dtype=torch.float64)"
      ]
     },
     "execution_count": 2,
     "metadata": {},
     "output_type": "execute_result"
    }
   ],
   "source": [
    "Vector3(1,-2,3)*3"
   ]
  },
  {
   "cell_type": "code",
   "execution_count": 3,
   "metadata": {},
   "outputs": [
    {
     "data": {
      "text/plain": [
       "tensor([0., 0., 0.], dtype=torch.float64)"
      ]
     },
     "execution_count": 3,
     "metadata": {},
     "output_type": "execute_result"
    }
   ],
   "source": [
    "Vector3(1,2,3)+Vector3(-1,-2,-3)"
   ]
  },
  {
   "cell_type": "markdown",
   "metadata": {},
   "source": [
    "Calculate distance between two points."
   ]
  },
  {
   "cell_type": "code",
   "execution_count": 4,
   "metadata": {},
   "outputs": [
    {
     "name": "stdout",
     "output_type": "stream",
     "text": [
      "tensor(86.0814, dtype=torch.float64)\n"
     ]
    }
   ],
   "source": [
    "point1=Vector3(1,2,3)\n",
    "point2=Vector3(-10,87,11)\n",
    "distance=(point1-point2).norm()\n",
    "print(distance)"
   ]
  },
  {
   "cell_type": "markdown",
   "metadata": {},
   "source": [
    "# Rotation"
   ]
  },
  {
   "cell_type": "markdown",
   "metadata": {},
   "source": [
    "## Theory\n",
    "\n",
    "Rotation is a physical quantity describing a process that object rotate some angle around an axis. It can be described in different form. Usual forms are\n",
    "* eular angles, $(\\alpha,\\beta,\\gamma),\\rightarrow T(\\alpha,\\beta,\\gamma)$ \n",
    "* axis-angle, $(\\textbf{r},\\theta),\\rightarrow T(\\textbf{r},\\theta)$\n",
    "* quaternion, $(x,y,z,w),\\rightarrow T(x,y,z,w)$ \n",
    "* direction change, $(\\textbf{d},\\textbf{d}_c),\\rightarrow T(\\textbf{d},\\textbf{d}_c)$\n",
    "\n",
    "From those parameters, we can get rotation matrices, the matrices have different parameters but same value.\n",
    "\n",
    "$T(\\alpha,\\beta,\\gamma)=T(\\textbf{r},\\theta)=T(x,y,z,w)=T(\\textbf{d},\\textbf{d}_c)$"
   ]
  },
  {
   "cell_type": "code",
   "execution_count": 3,
   "metadata": {},
   "outputs": [
    {
     "data": {
      "text/latex": [
       "$\\displaystyle \\left[\\begin{matrix}\\cos{\\left(y \\right)} \\cos{\\left(z \\right)} & - \\sin{\\left(z \\right)} \\cos{\\left(y \\right)} & \\sin{\\left(y \\right)}\\\\\\sin{\\left(x \\right)} \\sin{\\left(y \\right)} \\cos{\\left(z \\right)} + \\sin{\\left(z \\right)} \\cos{\\left(x \\right)} & - \\sin{\\left(x \\right)} \\sin{\\left(y \\right)} \\sin{\\left(z \\right)} + \\cos{\\left(x \\right)} \\cos{\\left(z \\right)} & - \\sin{\\left(x \\right)} \\cos{\\left(y \\right)}\\\\\\sin{\\left(x \\right)} \\sin{\\left(z \\right)} - \\sin{\\left(y \\right)} \\cos{\\left(x \\right)} \\cos{\\left(z \\right)} & \\sin{\\left(x \\right)} \\cos{\\left(z \\right)} + \\sin{\\left(y \\right)} \\sin{\\left(z \\right)} \\cos{\\left(x \\right)} & \\cos{\\left(x \\right)} \\cos{\\left(y \\right)}\\end{matrix}\\right]$"
      ],
      "text/plain": [
       "Matrix([\n",
       "[                       cos(y)*cos(z),                        -sin(z)*cos(y),         sin(y)],\n",
       "[sin(x)*sin(y)*cos(z) + sin(z)*cos(x), -sin(x)*sin(y)*sin(z) + cos(x)*cos(z), -sin(x)*cos(y)],\n",
       "[sin(x)*sin(z) - sin(y)*cos(x)*cos(z),  sin(x)*cos(z) + sin(y)*sin(z)*cos(x),  cos(x)*cos(y)]])"
      ]
     },
     "execution_count": 3,
     "metadata": {},
     "output_type": "execute_result"
    }
   ],
   "source": [
    "from sympy import *\n",
    "def rx(s):\n",
    "    x = symbols(s)\n",
    "    m = Matrix([[1,0,0],[0,cos(x),-sin(x)],[0,sin(x),cos(x)]])\n",
    "    return m\n",
    "def ry(s):\n",
    "    y=symbols(s)\n",
    "    m = Matrix([[cos(y),0,sin(y)],[0,1,0],[-sin(y),0,cos(y)]])\n",
    "    return m\n",
    "def rz(z):\n",
    "    z=symbols(z)\n",
    "    m = Matrix([[cos(z),-sin(z),0],[sin(z),cos(z),0],[0,0,1]])\n",
    "    return m\n",
    "m=rx('x')*ry('y')*rz('z')\n",
    "m"
   ]
  },
  {
   "cell_type": "code",
   "execution_count": 2,
   "metadata": {},
   "outputs": [
    {
     "data": {
      "text/latex": [
       "$\\displaystyle \\left[\\begin{matrix}s_{x} & 0 & 0 & 0\\\\0 & s_{y} & 0 & 0\\\\0 & 0 & s_{z} & 0\\\\0 & 0 & 0 & 1\\end{matrix}\\right]$"
      ],
      "text/plain": [
       "⎡sₓ   0    0   0⎤\n",
       "⎢               ⎥\n",
       "⎢0   s_y   0   0⎥\n",
       "⎢               ⎥\n",
       "⎢0    0   s_z  0⎥\n",
       "⎢               ⎥\n",
       "⎣0    0    0   1⎦"
      ]
     },
     "execution_count": 2,
     "metadata": {},
     "output_type": "execute_result"
    }
   ],
   "source": [
    "from sympy import *\n",
    "init_printing(use_unicode=True)\n",
    "sx = symbols('s_x')\n",
    "sy = symbols('s_y')\n",
    "sz = symbols('s_z')\n",
    "s=Matrix([\n",
    "    [sx,0,0,0],\n",
    "    [0,sy,0,0],\n",
    "    [0,0,sz,0],\n",
    "    [0,0,0,1]\n",
    "         ])\n",
    "s"
   ]
  },
  {
   "cell_type": "markdown",
   "metadata": {},
   "source": [
    "## Definition\n",
    "\n",
    "Rotation is a 4X4 **matrix**, which default value is a 4x4 identity matrix"
   ]
  },
  {
   "cell_type": "code",
   "execution_count": 3,
   "metadata": {},
   "outputs": [
    {
     "name": "stdout",
     "output_type": "stream",
     "text": [
      "Matrix tensor([[1., 0., 0., 0.],\n",
      "        [0., 1., 0., 0.],\n",
      "        [0., 0., 1., 0.],\n",
      "        [0., 0., 0., 1.]])\n",
      "Eular angles [-0.0, 0.0, -0.0]\n",
      "Quaternion [0.0, 0.0, 0.0, 1.0]\n",
      "Axis-angle (tensor([0., 0., 0.]), 0.0)\n"
     ]
    }
   ],
   "source": [
    "from scenario import *\n",
    "r=Rotation()\n",
    "print(\"Matrix\",r)\n",
    "print(\"Eular angles\",r.to_eular())\n",
    "print(\"Quaternion\",r.to_quaternion())\n",
    "print(\"Axis-angle\",r.to_axis_angle())"
   ]
  },
  {
   "cell_type": "markdown",
   "metadata": {},
   "source": [
    "A rotation can be used to represent angular velocity. A angular velocity 0.3rad/s around axis (0.1,0.2,0.3) can be represented like this:"
   ]
  },
  {
   "cell_type": "markdown",
   "metadata": {},
   "source": [
    "### Eular angles\n",
    "\n",
    "Scenario uses Tait-Bryan angles. Tait-Bryan rotations rotate about three distinct axes (x y z). Threre are two types, one is intrinsic rotation, and another is extrinsic. By default, Rotation.Eular(x,y,z) returns a intrinscis one in the order of 'XYZ'.\n",
    "\n",
    "Intrinsic rotations apply to axis of body coordinate system. Coordinate system of next rotation is relative to previous rotation. That is, for order 'XYZ', the rotation is first around the local-X axis (which is the same as the world-X axis), then around local-Y (which may now be different from the world Y-axis), then local-Z (which may be different from the world Z-axis).\n",
    "\n",
    "Extrinsic rotations apply to axis of world coordinate system. Coordinate system of next rotation is relative to (fixed) world coordinate system"
   ]
  },
  {
   "cell_type": "markdown",
   "metadata": {},
   "source": [
    "#### Eg.1\n",
    "Different ways to define a rotation by eular angles"
   ]
  },
  {
   "cell_type": "code",
   "execution_count": 8,
   "metadata": {},
   "outputs": [
    {
     "name": "stdout",
     "output_type": "stream",
     "text": [
      "True\n",
      "[0.2999999838863107, 0.09999999234768961, -0.19999998672073357]\n",
      "True\n",
      "[0.2999999838863107, 0.09999999234768961, -0.19999998672073357]\n"
     ]
    }
   ],
   "source": [
    "from scenario import *\n",
    "a=Rotation.Rx(0.3)*Rotation.Ry(0.1)*Rotation.Rz(-0.2) #order XYZ, intrinsic rotation\n",
    "print(a==Rotation.Eular(0.3,0.1,-0.2,EularType.Intrinsic))\n",
    "print(a.to_eular(EularType.Intrinsic))\n",
    "b=Rotation.Rz(-0.2)*Rotation.Ry(0.1)*Rotation.Rx(0.3) #order XYZ, extrinsic rotation\n",
    "print(b==Rotation.Eular(0.3,0.1,-0.2,EularType.Extrinsic))\n",
    "print(b.to_eular(EularType.Extrinsic))"
   ]
  },
  {
   "cell_type": "markdown",
   "metadata": {},
   "source": [
    "#### Eg.2\n",
    "Default values"
   ]
  },
  {
   "cell_type": "code",
   "execution_count": 13,
   "metadata": {},
   "outputs": [],
   "source": [
    "from scenario import *\n",
    "r=Rotation.Eular()\n",
    "print(r.to_eular())\n",
    "r=Rotation.Eular(y=1)\n",
    "print(r.to_eular())"
   ]
  },
  {
   "cell_type": "markdown",
   "metadata": {},
   "source": [
    "#### Eg.3\n",
    "If you define a extrinsic rotation. Don't forget to set type when you get them."
   ]
  },
  {
   "cell_type": "code",
   "execution_count": 13,
   "metadata": {},
   "outputs": [
    {
     "name": "stdout",
     "output_type": "stream",
     "text": [
      "[-0.0, 0.0, -0.0]\n",
      "[-0.0, 0.9999999996174541, -0.0]\n",
      "[0.09999999389744785, 0.1999999902005501, 0.29999999329756577]\n",
      "[0.09999999389744785, 0.1999999902005501, 0.29999999329756577]\n",
      "[0.03787987191831012, 0.22012402162886374, 0.28577168627635946]\n",
      "[0.09999999389744785, 0.1999999902005501, 0.29999999329756577]\n"
     ]
    }
   ],
   "source": [
    "i=Rotation.Eular(0.1,0.2,0.3)\n",
    "i_=Rotation.Eular(0.1,0.2,0.3,EularType.Intrinsic)\n",
    "e=Rotation.Eular(0.1,0.2,0.3,EularType.Extrinsic)\n",
    "print(i.to_eular())\n",
    "print(i_.to_eular())\n",
    "print(e.to_eular())\n",
    "print(e.to_eular(EularType.Extrinsic))"
   ]
  },
  {
   "cell_type": "markdown",
   "metadata": {},
   "source": [
    "#### Eg.4"
   ]
  },
  {
   "cell_type": "code",
   "execution_count": 5,
   "metadata": {},
   "outputs": [
    {
     "data": {
      "text/plain": [
       "False"
      ]
     },
     "execution_count": 5,
     "metadata": {},
     "output_type": "execute_result"
    }
   ],
   "source": [
    "a=Rotation().rotate_x(0.1).rotate_z(0.2).rotate_y(-0.4)\n",
    "b=Rotation().rotate_x(0.1).rotate_y(-0.4).rotate_y(0.2)\n",
    "a==b"
   ]
  },
  {
   "cell_type": "markdown",
   "metadata": {},
   "source": [
    "Two ways below to difine a rotation return the same value."
   ]
  },
  {
   "cell_type": "code",
   "execution_count": 6,
   "metadata": {},
   "outputs": [
    {
     "data": {
      "text/plain": [
       "True"
      ]
     },
     "execution_count": 6,
     "metadata": {},
     "output_type": "execute_result"
    }
   ],
   "source": [
    "a=Rotation().rotate_x(0.1).rotate_y(0.2).rotate_z(-0.4)\n",
    "b=Rotation.Eular(0.1,0.2,-0.4)\n",
    "a==b"
   ]
  },
  {
   "cell_type": "markdown",
   "metadata": {},
   "source": [
    "### Quaternion\n",
    "Rotation.Quaternion() defines a rotation from quaternion. The form of quaternion must be (x,y,z,w)"
   ]
  },
  {
   "cell_type": "markdown",
   "metadata": {},
   "source": [
    "#### Eg.1\n",
    "First define a intrinsic rotation from eular angles"
   ]
  },
  {
   "cell_type": "code",
   "execution_count": 21,
   "metadata": {},
   "outputs": [
    {
     "data": {
      "text/plain": [
       "[0.2999999838863107, 0.09999999234768961, -0.19999998672073357]"
      ]
     },
     "execution_count": 21,
     "metadata": {},
     "output_type": "execute_result"
    }
   ],
   "source": [
    "from scenario import *\n",
    "r=Rotation.Eular(0.3,0.1,-0.2)\n",
    "r.to_eular()"
   ]
  },
  {
   "cell_type": "markdown",
   "metadata": {},
   "source": [
    "Assign it to a cube"
   ]
  },
  {
   "cell_type": "code",
   "execution_count": 22,
   "metadata": {},
   "outputs": [],
   "source": [
    "scen=Scenario()\n",
    "cube=Cube()\n",
    "cube.rotation=r\n",
    "scen.add(cube)\n",
    "scen.render()"
   ]
  },
  {
   "cell_type": "markdown",
   "metadata": {},
   "source": [
    "Get its **quaternion** representation"
   ]
  },
  {
   "cell_type": "code",
   "execution_count": 23,
   "metadata": {},
   "outputs": [
    {
     "data": {
      "text/plain": [
       "[0.14357212505700329,\n",
       " 0.06407121738575826,\n",
       " -0.09115751282474704,\n",
       " 0.9833474624286825]"
      ]
     },
     "execution_count": 23,
     "metadata": {},
     "output_type": "execute_result"
    }
   ],
   "source": [
    "r.to_quaternion()"
   ]
  },
  {
   "cell_type": "markdown",
   "metadata": {},
   "source": [
    "Assgin this quaternion to a new object"
   ]
  },
  {
   "cell_type": "code",
   "execution_count": 24,
   "metadata": {},
   "outputs": [],
   "source": [
    "q=Cube()\n",
    "q.position+=Vector3(2,0,0)\n",
    "scen.add(q)\n",
    "q.rotation=Rotation.Quaternion(0.14357212505700329,\n",
    " 0.06407121738575826,\n",
    " -0.09115751282474704,\n",
    " 0.9833474624286825)\n",
    "scen.render()"
   ]
  },
  {
   "cell_type": "markdown",
   "metadata": {},
   "source": [
    "### Axis-angle"
   ]
  },
  {
   "cell_type": "markdown",
   "metadata": {},
   "source": [
    "Get **axis-angle** representation"
   ]
  },
  {
   "cell_type": "code",
   "execution_count": 7,
   "metadata": {},
   "outputs": [
    {
     "data": {
      "text/plain": [
       "(tensor([ 0.7900,  0.3526, -0.5016]), 0.36550197536514045)"
      ]
     },
     "execution_count": 7,
     "metadata": {},
     "output_type": "execute_result"
    }
   ],
   "source": [
    "r.to_axis_angle()"
   ]
  },
  {
   "cell_type": "markdown",
   "metadata": {},
   "source": [
    "Assign this axis-angle to a new object"
   ]
  },
  {
   "cell_type": "code",
   "execution_count": 8,
   "metadata": {},
   "outputs": [],
   "source": [
    "a=Cube()\n",
    "a.position+=Vector3(4,0,0)\n",
    "axis=torch.tensor([ 0.8092,  0.1807, -0.5591])\n",
    "a.rotation=Rotation.Axis_angle(axis,0.38156478417971545)\n",
    "scen.add(a)\n",
    "scen.render()"
   ]
  },
  {
   "cell_type": "markdown",
   "metadata": {},
   "source": [
    "### Direction change"
   ]
  },
  {
   "cell_type": "code",
   "execution_count": 6,
   "metadata": {},
   "outputs": [
    {
     "name": "stdout",
     "output_type": "stream",
     "text": [
      "tensor([1., 0., 0.])\n",
      "(tensor([ 0.0000, -0.7071,  0.7071]), 0.9553166308158254)\n",
      "[0.2617994131992246, -0.6154797142584597, 0.7853981633974483]\n"
     ]
    }
   ],
   "source": [
    "from scenario import *\n",
    "scen=Scenario()\n",
    "c=Cube()\n",
    "print(c.direction)\n",
    "c.rotation=Rotation.Direction_change(c.direction,Vector3(1,1,1))\n",
    "print(c.rotation.to_axis_angle())\n",
    "print(c.rotation.to_eular())\n",
    "d=Line.Vector(c.direction)\n",
    "c.add(d)\n",
    "scen.add(c)\n",
    "scen.render()"
   ]
  },
  {
   "cell_type": "markdown",
   "metadata": {},
   "source": [
    "An object's rotation can be changed by set its **lookat** point."
   ]
  },
  {
   "cell_type": "code",
   "execution_count": 5,
   "metadata": {},
   "outputs": [],
   "source": [
    "from scenario import *\n",
    "scen=Scenario()\n",
    "cube=Cube()\n",
    "cube.scale=Vector3(2,1,1)\n",
    "cube.lookat(Vector3(1,1,1))\n",
    "cube.color=Color(r=1)\n",
    "cube.add(Line.Vector(cube.direction))\n",
    "scen.add(cube)\n",
    "scen.render()"
   ]
  },
  {
   "cell_type": "markdown",
   "metadata": {},
   "source": [
    "Each object has a local vector to represent its face **direction**. You can get and set it directly."
   ]
  },
  {
   "cell_type": "code",
   "execution_count": 2,
   "metadata": {},
   "outputs": [
    {
     "name": "stdout",
     "output_type": "stream",
     "text": [
      "tensor([1., 0., 0.])\n",
      "tensor([0., 1., 0.])\n"
     ]
    }
   ],
   "source": [
    "print(cube.direction)\n",
    "cube.direction=Vector3(0,1,0)\n",
    "print(cube.direction)"
   ]
  },
  {
   "cell_type": "markdown",
   "metadata": {},
   "source": [
    "Show the direction by a **Vector**"
   ]
  },
  {
   "cell_type": "code",
   "execution_count": 3,
   "metadata": {},
   "outputs": [],
   "source": [
    "d=Line.Vector(cube.direction*3)\n",
    "cube.add(d)\n",
    "scen.render()"
   ]
  },
  {
   "cell_type": "markdown",
   "metadata": {},
   "source": [
    "## Copy\n",
    "\n",
    "Rotation.clone() will return a deep **copy** of original rotation"
   ]
  },
  {
   "cell_type": "code",
   "execution_count": 2,
   "metadata": {},
   "outputs": [
    {
     "name": "stdout",
     "output_type": "stream",
     "text": [
      "140176395793584 140178341024544\n",
      "True\n"
     ]
    }
   ],
   "source": [
    "from scenario import *\n",
    "r=Rotation()\n",
    "c=r.clone()\n",
    "print(id(r),id(c))\n",
    "print(r==c)"
   ]
  },
  {
   "cell_type": "markdown",
   "metadata": {},
   "source": [
    "## Compare\n",
    "Use == to **compare** two rotations, it will tell if those two ratation are the same."
   ]
  },
  {
   "cell_type": "code",
   "execution_count": 13,
   "metadata": {},
   "outputs": [
    {
     "name": "stdout",
     "output_type": "stream",
     "text": [
      "False\n",
      "tensor([[-0.2466,  0.0283,  0.9687,  0.0000],\n",
      "        [ 0.9674,  0.0673,  0.2443,  0.0000],\n",
      "        [-0.0583,  0.9973, -0.0439,  0.0000],\n",
      "        [ 0.0000,  0.0000,  0.0000,  1.0000]])\n",
      "tensor([[-0.0620, -0.0671,  0.9958,  0.0000],\n",
      "        [ 0.9695, -0.2412,  0.0441,  0.0000],\n",
      "        [ 0.2373,  0.9681,  0.0800,  0.0000],\n",
      "        [ 0.0000,  0.0000,  0.0000,  1.0000]])\n"
     ]
    }
   ],
   "source": [
    "from scenario import *\n",
    "a=Rotation.Eular(0,0.1,0.3)\n",
    "b=Rotation.Axis_angle(Vector3(1,1,1),2)\n",
    "print(a*b==b*a)\n",
    "print(a*b)\n",
    "print(b*a)"
   ]
  },
  {
   "cell_type": "code",
   "execution_count": 5,
   "metadata": {},
   "outputs": [
    {
     "data": {
      "text/plain": [
       "scenario.main.Rotation"
      ]
     },
     "execution_count": 5,
     "metadata": {},
     "output_type": "execute_result"
    }
   ],
   "source": [
    "type(b)"
   ]
  },
  {
   "cell_type": "markdown",
   "metadata": {},
   "source": [
    "## Multiply"
   ]
  },
  {
   "cell_type": "markdown",
   "metadata": {},
   "source": [
    "### Rotation*Rotation\n",
    "\n",
    "Assume a object rotated twice, first time rotated A, and the second time B, both A and B are represented in parent space, A\\*B returns the total rotation in parent space. If A is represented in parent space, but B is in local space, then B\\*A returns the toal rotation in parent space.\n",
    "\n",
    "$r_{current}=r_{origin}r_{parent}$, rotate $r_{parent}$ \n",
    "\n",
    "$r_{current}=r_{local}r_{origin}$, rotate $r_{local}$\n",
    "\n",
    "$r_{origin}^{-1}r_{current}=r_{origin}^{-1}r_{origin}r_{parent}$\n",
    "\n",
    "$r_{origin}^{-1}r_{current}=r_{parent}$\n",
    "\n",
    "$r_{origin}^{-1}r_{local}r_{origin}=r_{parent}$\n",
    "\n",
    "Rotate $r_{parent}$"
   ]
  },
  {
   "cell_type": "code",
   "execution_count": 14,
   "metadata": {},
   "outputs": [],
   "source": [
    "from scenario import *\n",
    "scen=Scenario()\n",
    "xyz=XYZ()\n",
    "xyz.position=Vector3(1,1,1)\n",
    "xyz.rotation=Rotation.Eular(0,0.5,0)\n",
    "scen.add(xyz)\n",
    "scen.render()"
   ]
  },
  {
   "cell_type": "code",
   "execution_count": 9,
   "metadata": {},
   "outputs": [
    {
     "name": "stdout",
     "output_type": "stream",
     "text": [
      "0 1\n"
     ]
    }
   ],
   "source": [
    "xyz1=XYZ()\n",
    "xyz1.position=xyz.position\n",
    "xyz1.rotation=xyz.rotation*Rotation.Eular(0,0,0.3)\n",
    "print(xyz.id,xyz1.id)\n",
    "scen.add(xyz1)\n",
    "scen.render()"
   ]
  },
  {
   "cell_type": "markdown",
   "metadata": {},
   "source": [
    "Rotate $r_{local}$"
   ]
  },
  {
   "cell_type": "code",
   "execution_count": 1,
   "metadata": {},
   "outputs": [],
   "source": [
    "from scenario import *\n",
    "scen=Scenario()\n",
    "xyz=XYZ()\n",
    "xyz.position=Vector3(1,1,1)\n",
    "xyz.rotation=Rotation.Eular(0,0.5,0)\n",
    "plane=Cube(5,5,0.001)\n",
    "plane.position=xyz.position.clone()\n",
    "plane.rotation=xyz.rotation.clone()\n",
    "scen.add(xyz,plane)\n",
    "\n",
    "xyz.rotation=Rotation.Eular(0,0,0.3)*xyz.rotation\n",
    "scen.render()"
   ]
  },
  {
   "cell_type": "markdown",
   "metadata": {},
   "source": [
    "### Rotation*float/int\n",
    "\n",
    "Since a rotation can be used to represent angular velocity, so a rotation multiply a float or integer means a angular velocity multiply a time duration. If we define a rotation and let it multiply a float, we will see the result has a same axis as the rotation."
   ]
  },
  {
   "cell_type": "code",
   "execution_count": 28,
   "metadata": {},
   "outputs": [
    {
     "name": "stdout",
     "output_type": "stream",
     "text": [
      "(tensor([0.1886, 0.5834, 0.7900], dtype=torch.float64), 0.36550218635669895)\n",
      "(tensor([0.1886, 0.5834, 0.7900], dtype=torch.float64), 0.03655021863566978)\n"
     ]
    }
   ],
   "source": [
    "from scenario import *\n",
    "a=Rotation.Eular(0.1,0.2,0.3)\n",
    "print(a.to_axis_angle())\n",
    "b=a*0.1\n",
    "print(b.to_axis_angle())"
   ]
  },
  {
   "cell_type": "markdown",
   "metadata": {},
   "source": [
    "### Rotation*Vector3\n",
    "\n",
    "means convert a local vector to parent space."
   ]
  },
  {
   "cell_type": "code",
   "execution_count": 1,
   "metadata": {},
   "outputs": [],
   "source": [
    "from scenario import *\n",
    "scen=Scenario()\n",
    "local=Vector3(1,1,1)\n",
    "local_v=Line.Vector(local)\n",
    "xyz=XYZ()\n",
    "xyz.position=Vector3(1,2,3)\n",
    "xyz.rotation=Rotation.Eular(0,1,-1)\n",
    "xyz.add(local_v)\n",
    "scen.add(xyz)\n",
    "scen.render()"
   ]
  },
  {
   "cell_type": "code",
   "execution_count": 2,
   "metadata": {},
   "outputs": [],
   "source": [
    "world=xyz.rotation*local\n",
    "world_v=Line.Vector(world)\n",
    "scen.add(world_v)\n",
    "scen.render()"
   ]
  },
  {
   "cell_type": "code",
   "execution_count": 2,
   "metadata": {},
   "outputs": [
    {
     "name": "stdout",
     "output_type": "stream",
     "text": [
      "(tensor([0.3032, 0.5002, 0.8111]), 0.6808914515633198)\n",
      "(tensor([0.3032, 0.5002, 0.8111]), 0.6808914515633198)\n",
      "tensor([[ 0.7975, -0.4768,  0.3697,  0.0000],\n",
      "        [ 0.5444,  0.8328, -0.1004,  0.0000],\n",
      "        [-0.2600,  0.2813,  0.9237,  0.0000],\n",
      "        [ 0.0000,  0.0000,  0.0000,  1.0000]])\n",
      "tensor([[ 0.7975, -0.4768,  0.3697,  0.0000],\n",
      "        [ 0.5444,  0.8328, -0.1004,  0.0000],\n",
      "        [-0.2600,  0.2813,  0.9237,  0.0000],\n",
      "        [ 0.0000,  0.0000,  0.0000,  1.0000]])\n"
     ]
    }
   ],
   "source": [
    "from scenario import *\n",
    "r=Rotation.Eular(0.1,0.2,0.3)\n",
    "axis=Vector3(1,2,3)\n",
    "angle=0.3\n",
    "axis_world=r*axis\n",
    "r_=r*Rotation.Axis_angle(axis,angle)\n",
    "r_1=Rotation.Axis_angle(axis_world,angle)*r\n",
    "print(r_.to_axis_angle())\n",
    "print(r_1.to_axis_angle())\n",
    "print(r_)\n",
    "print(r_1)"
   ]
  },
  {
   "cell_type": "code",
   "execution_count": 7,
   "metadata": {},
   "outputs": [
    {
     "name": "stdout",
     "output_type": "stream",
     "text": [
      "(tensor([0.2095, 0.8206, 0.5316]), 1.2033908931164188)\n",
      "(tensor([0.2095, 0.8206, 0.5316]), 0.12033855958633025)\n"
     ]
    }
   ],
   "source": [
    "from scenario import *\n",
    "r=Rotation.Eular(0,0,0.6)\n",
    "loc_av=Rotation.Eular(0,1,0.1)\n",
    "av=loc_av*r\n",
    "print(av.to_axis_angle())\n",
    "da=av*0.1\n",
    "print(da.to_axis_angle())"
   ]
  },
  {
   "cell_type": "code",
   "execution_count": 8,
   "metadata": {},
   "outputs": [
    {
     "name": "stdout",
     "output_type": "stream",
     "text": [
      "(tensor([-0.0498,  0.9946,  0.0911]), 0.1004561780627073)\n",
      "(tensor([0.0407, 0.1595, 0.9864]), 0.6170671260140874)\n"
     ]
    }
   ],
   "source": [
    "r=Rotation.Eular(0,0,0.6)\n",
    "loc_av=Rotation.Eular(0,1,0.1)\n",
    "loc_da=loc_av*0.1\n",
    "print(loc_da.to_axis_angle())\n",
    "da=loc_da*r\n",
    "print(da.to_axis_angle())"
   ]
  },
  {
   "cell_type": "code",
   "execution_count": 4,
   "metadata": {},
   "outputs": [
    {
     "name": "stdout",
     "output_type": "stream",
     "text": [
      "tensor([[ 0.9588, -0.2239,  0.1749,  0.0000],\n",
      "        [ 0.2378,  0.9693, -0.0627,  0.0000],\n",
      "        [-0.1555,  0.1017,  0.9826,  0.0000],\n",
      "        [ 0.0000,  0.0000,  0.0000,  1.0000]], dtype=torch.float64)\n",
      "tensor([[ 0.9588, -0.2239,  0.1749,  0.0000],\n",
      "        [ 0.2378,  0.9693, -0.0627,  0.0000],\n",
      "        [-0.1555,  0.1017,  0.9826,  0.0000],\n",
      "        [ 0.0000,  0.0000,  0.0000,  1.0000]], dtype=torch.float64)\n"
     ]
    }
   ],
   "source": [
    "v0=r*Rotation.Axis_angle(axis,angle)*r.T()\n",
    "v1=Rotation.Axis_angle(axis_world,angle)\n",
    "print(v0.matrix)\n",
    "print(v1.matrix)"
   ]
  },
  {
   "cell_type": "code",
   "execution_count": 17,
   "metadata": {},
   "outputs": [
    {
     "name": "stdout",
     "output_type": "stream",
     "text": [
      "tensor([[ 1.0000e+00,  5.9605e-08, -1.1921e-07, -1.1921e-07],\n",
      "        [ 0.0000e+00,  1.0000e+00, -2.3842e-07, -2.3842e-07],\n",
      "        [-2.3842e-07,  0.0000e+00,  1.0000e+00,  0.0000e+00],\n",
      "        [ 5.5879e-09,  0.0000e+00,  0.0000e+00,  1.0000e+00]]) tensor([[ 1.0000e+00, -2.9802e-08, -2.3842e-07,  2.3842e-07],\n",
      "        [-5.9605e-08,  1.0000e+00, -4.7684e-07,  4.7684e-07],\n",
      "        [ 2.9802e-08,  5.9605e-08,  1.0000e+00,  1.7881e-07],\n",
      "        [ 0.0000e+00,  8.9407e-08, -5.9605e-08,  1.0000e+00]])\n",
      "tensor([[1.6088, 0.5215, 1.4131, 1.4138],\n",
      "        [0.5215, 0.7669, 1.1717, 0.5581],\n",
      "        [1.4131, 1.1717, 2.1671, 1.3238],\n",
      "        [1.4138, 0.5581, 1.3238, 1.8585]])\n",
      "tensor([[1.6088, 0.5215, 1.4131, 1.4138],\n",
      "        [0.5215, 0.7669, 1.1717, 0.5581],\n",
      "        [1.4131, 1.1717, 2.1671, 1.3238],\n",
      "        [1.4138, 0.5581, 1.3238, 1.8585]])\n"
     ]
    }
   ],
   "source": [
    "import torch\n",
    "v=torch.rand(4,4)\n",
    "print(torch.inverse(v).mm(v),v.mm(v.inverse()))\n",
    "print(v.T.mm(v))\n",
    "print(v.t().mm(v))"
   ]
  },
  {
   "cell_type": "markdown",
   "metadata": {},
   "source": [
    "## Transform"
   ]
  },
  {
   "cell_type": "code",
   "execution_count": 2,
   "metadata": {},
   "outputs": [
    {
     "name": "stdout",
     "output_type": "stream",
     "text": [
      "tensor([0., 0., 0.])\n",
      "tensor([[1., 0., 0., 0.],\n",
      "        [0., 1., 0., 0.],\n",
      "        [0., 0., 1., 0.],\n",
      "        [0., 0., 0., 1.]])\n"
     ]
    }
   ],
   "source": [
    "from scenario import *\n",
    "t=Transform()\n",
    "print(t.position)\n",
    "print(t.rotation)"
   ]
  },
  {
   "cell_type": "code",
   "execution_count": 6,
   "metadata": {},
   "outputs": [
    {
     "name": "stdout",
     "output_type": "stream",
     "text": [
      "tensor([0., 0., 0.])\n",
      "tensor([[1., 0., 0., 0.],\n",
      "        [0., 1., 0., 0.],\n",
      "        [0., 0., 1., 0.],\n",
      "        [0., 0., 0., 1.]]) <class 'scenario.main.Rotation'>\n",
      "tensor([[1., 0., 0., 0.],\n",
      "        [0., 1., 0., 0.],\n",
      "        [0., 0., 1., 0.],\n",
      "        [0., 0., 0., 1.]]) <class 'scenario.main.Rotation'>\n",
      "<class 'scenario.main.Rotation'>\n"
     ]
    }
   ],
   "source": [
    "from scenario import *\n",
    "a=Transform()\n",
    "p=a.world_position()\n",
    "r=a.world_rotation()\n",
    "print(a.world_position())\n",
    "print(r*r,type(r*r))\n",
    "print(a.rotation,type(a.rotation))\n",
    "print(type(a.rotation*a.rotation))"
   ]
  },
  {
   "cell_type": "markdown",
   "metadata": {},
   "source": [
    "**Local position to world**"
   ]
  },
  {
   "cell_type": "code",
   "execution_count": 1,
   "metadata": {},
   "outputs": [
    {
     "data": {
      "text/html": [
       "\n",
       "        <iframe\n",
       "            width=\"100%\"\n",
       "            height=\"600px\"\n",
       "            src=\"http://localhost:8001/view/139898994937296\"\n",
       "            frameborder=\"0\"\n",
       "            allowfullscreen\n",
       "        ></iframe>\n",
       "        "
      ],
      "text/plain": [
       "<IPython.lib.display.IFrame at 0x7f3cc5c99e90>"
      ]
     },
     "metadata": {},
     "output_type": "display_data"
    }
   ],
   "source": [
    "from scenario import *\n",
    "scen=Scenario()\n",
    "cube=Cube()\n",
    "cube.color=Color(r=1)\n",
    "cube.lookat(Vector3(1,2,3))\n",
    "cube.scale=Vector3(2,1,1)\n",
    "cube.position=Vector3(0,-1,3)\n",
    "\n",
    "point=Sphere()\n",
    "point.position=cube.rotation*(cube.scale*Vector3(-0.5,0.5,0.5))+cube.position\n",
    "point.radius=0.1\n",
    "point.color=Color(b=1)\n",
    "scen.add(cube,point)\n",
    "scen.render()"
   ]
  },
  {
   "cell_type": "code",
   "execution_count": 7,
   "metadata": {},
   "outputs": [],
   "source": [
    "scen.add(Line.Vector(Vector3(-0.5,0.5,0.5)))\n",
    "scen.render()"
   ]
  },
  {
   "cell_type": "code",
   "execution_count": 8,
   "metadata": {},
   "outputs": [],
   "source": [
    "scen.add(Line.Vector(cube.scale*Vector3(-0.5,0.5,0.5)))\n",
    "scen.render()"
   ]
  },
  {
   "cell_type": "code",
   "execution_count": null,
   "metadata": {},
   "outputs": [],
   "source": []
  }
 ],
 "metadata": {
  "file_extension": ".py",
  "kernelspec": {
   "display_name": "Python 3",
   "language": "python",
   "name": "python3"
  },
  "language_info": {
   "codemirror_mode": {
    "name": "ipython",
    "version": 3
   },
   "file_extension": ".py",
   "mimetype": "text/x-python",
   "name": "python",
   "nbconvert_exporter": "python",
   "pygments_lexer": "ipython3",
   "version": "3.7.4"
  },
  "mimetype": "text/x-python",
  "name": "python",
  "npconvert_exporter": "python",
  "pygments_lexer": "ipython3",
  "version": 3
 },
 "nbformat": 4,
 "nbformat_minor": 4
}
