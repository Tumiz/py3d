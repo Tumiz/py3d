{
 "cells": [
  {
   "cell_type": "markdown",
   "metadata": {},
   "source": [
    "Transform matrixes:\n",
    "* eular matrix, $T(\\alpha,\\beta,\\gamma)$\n",
    "* axis-angle matrix, $T(\\textbf{r},\\theta)$\n",
    "* quaternion matrix, $T(x,y,z,w)$ "
   ]
  },
  {
   "cell_type": "markdown",
   "metadata": {},
   "source": [
    "Those matrixes have different parameters but same values."
   ]
  },
  {
   "cell_type": "code",
   "execution_count": 1,
   "metadata": {},
   "outputs": [
    {
     "data": {
      "text/latex": [
       "$\\displaystyle \\left[\\begin{matrix}\\cos{\\left(\\alpha \\right)} \\cos{\\left(\\beta \\right)} & - \\sin{\\left(\\alpha \\right)} \\cos{\\left(\\gamma \\right)} + \\sin{\\left(\\beta \\right)} \\sin{\\left(\\gamma \\right)} \\cos{\\left(\\alpha \\right)} & \\sin{\\left(\\alpha \\right)} \\sin{\\left(\\gamma \\right)} + \\sin{\\left(\\beta \\right)} \\cos{\\left(\\alpha \\right)} \\cos{\\left(\\gamma \\right)}\\\\\\sin{\\left(\\alpha \\right)} \\cos{\\left(\\beta \\right)} & \\sin{\\left(\\alpha \\right)} \\sin{\\left(\\beta \\right)} \\sin{\\left(\\gamma \\right)} + \\cos{\\left(\\alpha \\right)} \\cos{\\left(\\gamma \\right)} & \\sin{\\left(\\alpha \\right)} \\sin{\\left(\\beta \\right)} \\cos{\\left(\\gamma \\right)} - \\sin{\\left(\\gamma \\right)} \\cos{\\left(\\alpha \\right)}\\\\- \\sin{\\left(\\beta \\right)} & \\sin{\\left(\\gamma \\right)} \\cos{\\left(\\beta \\right)} & \\cos{\\left(\\beta \\right)} \\cos{\\left(\\gamma \\right)}\\end{matrix}\\right]$"
      ],
      "text/plain": [
       "Matrix([\n",
       "[cos(alpha)*cos(beta), -sin(alpha)*cos(gamma) + sin(beta)*sin(gamma)*cos(alpha), sin(alpha)*sin(gamma) + sin(beta)*cos(alpha)*cos(gamma)],\n",
       "[sin(alpha)*cos(beta),  sin(alpha)*sin(beta)*sin(gamma) + cos(alpha)*cos(gamma), sin(alpha)*sin(beta)*cos(gamma) - sin(gamma)*cos(alpha)],\n",
       "[          -sin(beta),                                     sin(gamma)*cos(beta),                                    cos(beta)*cos(gamma)]])"
      ]
     },
     "execution_count": 1,
     "metadata": {},
     "output_type": "execute_result"
    }
   ],
   "source": [
    "from sympy import *\n",
    "def rx(s):\n",
    "    x = symbols(s)\n",
    "    m = Matrix([[1,0,0],[0,cos(x),-sin(x)],[0,sin(x),cos(x)]])\n",
    "    return m\n",
    "def ry(s):\n",
    "    y=symbols(s)\n",
    "    m = Matrix([[cos(y),0,sin(y)],[0,1,0],[-sin(y),0,cos(y)]])\n",
    "    return m\n",
    "def rz(z):\n",
    "    z=symbols(z)\n",
    "    m = Matrix([[cos(z),-sin(z),0],[sin(z),cos(z),0],[0,0,1]])\n",
    "    return m\n",
    "rz('alpha')*ry('beta')*rx('gamma')"
   ]
  },
  {
   "cell_type": "code",
   "execution_count": 2,
   "metadata": {},
   "outputs": [
    {
     "data": {
      "text/latex": [
       "$\\displaystyle \\left[\\begin{matrix}s_{x} & 0 & 0 & 0\\\\0 & s_{y} & 0 & 0\\\\0 & 0 & s_{z} & 0\\\\0 & 0 & 0 & 1\\end{matrix}\\right]$"
      ],
      "text/plain": [
       "⎡sₓ   0    0   0⎤\n",
       "⎢               ⎥\n",
       "⎢0   s_y   0   0⎥\n",
       "⎢               ⎥\n",
       "⎢0    0   s_z  0⎥\n",
       "⎢               ⎥\n",
       "⎣0    0    0   1⎦"
      ]
     },
     "execution_count": 2,
     "metadata": {},
     "output_type": "execute_result"
    }
   ],
   "source": [
    "from sympy import *\n",
    "init_printing(use_unicode=True)\n",
    "sx = symbols('s_x')\n",
    "sy = symbols('s_y')\n",
    "sz = symbols('s_z')\n",
    "s=Matrix([\n",
    "    [sx,0,0,0],\n",
    "    [0,sy,0,0],\n",
    "    [0,0,sz,0],\n",
    "    [0,0,0,1]\n",
    "         ])\n",
    "s"
   ]
  },
  {
   "cell_type": "markdown",
   "metadata": {},
   "source": [
    "# Rotation"
   ]
  },
  {
   "cell_type": "markdown",
   "metadata": {},
   "source": [
    "## Definition\n",
    "**Rotation.matrix** stores 4X4 rotation matrix."
   ]
  },
  {
   "cell_type": "code",
   "execution_count": 6,
   "metadata": {},
   "outputs": [
    {
     "data": {
      "text/plain": [
       "tensor([[1., 0., 0., 0.],\n",
       "        [0., 1., 0., 0.],\n",
       "        [0., 0., 1., 0.],\n",
       "        [0., 0., 0., 1.]], dtype=torch.float64)"
      ]
     },
     "execution_count": 6,
     "metadata": {},
     "output_type": "execute_result"
    }
   ],
   "source": [
    "Rotation().matrix"
   ]
  },
  {
   "cell_type": "markdown",
   "metadata": {},
   "source": [
    "## Copy\n",
    "**Rotation.clone()** will return a deep copy of original rotation"
   ]
  },
  {
   "cell_type": "code",
   "execution_count": 1,
   "metadata": {},
   "outputs": [
    {
     "name": "stdout",
     "output_type": "stream",
     "text": [
      "140357054280336 140357054256464\n",
      "True\n"
     ]
    },
    {
     "data": {
      "text/plain": [
       "tensor([[True, True, True, True],\n",
       "        [True, True, True, True],\n",
       "        [True, True, True, True],\n",
       "        [True, True, True, True]])"
      ]
     },
     "execution_count": 1,
     "metadata": {},
     "output_type": "execute_result"
    }
   ],
   "source": [
    "from scenario import *\n",
    "r=Rotation()\n",
    "c=r.clone()\n",
    "print(id(r),id(c))\n",
    "print(r==c)\n",
    "r.matrix==c.matrix"
   ]
  },
  {
   "cell_type": "markdown",
   "metadata": {},
   "source": [
    "## Compare"
   ]
  },
  {
   "cell_type": "code",
   "execution_count": 8,
   "metadata": {},
   "outputs": [
    {
     "name": "stdout",
     "output_type": "stream",
     "text": [
      "tensor([[ 0.9691, -0.2336, -0.0790,  0.0000],\n",
      "        [ 0.2244,  0.9682, -0.1103,  0.0000],\n",
      "        [ 0.1023,  0.0891,  0.9908,  0.0000],\n",
      "        [ 0.0000,  0.0000,  0.0000,  1.0000]], dtype=torch.float64)\n",
      "tensor([[-0.1522,  0.9570, -0.2469,  0.0000],\n",
      "        [-0.3177,  0.1891,  0.9291,  0.0000],\n",
      "        [ 0.9359,  0.2198,  0.2753,  0.0000],\n",
      "        [ 0.0000,  0.0000,  0.0000,  1.0000]], dtype=torch.float64)\n"
     ]
    }
   ],
   "source": [
    "a=Rotation.Eular(0,0.1,0.3)\n",
    "b=Rotation.Axis_angle(Vector3(1,1,1),2)\n",
    "a*b==b*a\n",
    "print((a*b).matrix)\n",
    "print((b*a).matrix)"
   ]
  },
  {
   "cell_type": "code",
   "execution_count": 10,
   "metadata": {},
   "outputs": [
    {
     "name": "stdout",
     "output_type": "stream",
     "text": [
      "True\n",
      "False\n"
     ]
    }
   ],
   "source": [
    "c=a.clone()\n",
    "c*=b\n",
    "print(c==a*b)\n",
    "print(c==b*a)"
   ]
  },
  {
   "cell_type": "markdown",
   "metadata": {},
   "source": [
    "An object's rotation can be changed by set the its **lookat** point."
   ]
  },
  {
   "cell_type": "code",
   "execution_count": 3,
   "metadata": {},
   "outputs": [],
   "source": [
    "from scenario import *\n",
    "scen=Scenario()\n",
    "cube=Cube()\n",
    "cube.scale=Vector3(2,1,1)\n",
    "cube.lookat(Vector3(1,2,3))\n",
    "cube.color=Color(r=1)\n",
    "scen.add(cube)\n",
    "scen.render()"
   ]
  },
  {
   "cell_type": "markdown",
   "metadata": {},
   "source": [
    "Each object has a local vector to represent its face **direction**. You can get and set it directly."
   ]
  },
  {
   "cell_type": "code",
   "execution_count": 4,
   "metadata": {},
   "outputs": [
    {
     "name": "stdout",
     "output_type": "stream",
     "text": [
      "tensor([1., 0., 0.], dtype=torch.float64)\n",
      "tensor([0., 1., 0.], dtype=torch.float64)\n"
     ]
    }
   ],
   "source": [
    "print(cube.direction)\n",
    "cube.direction=Vector3(0,1,0)\n",
    "print(cube.direction)"
   ]
  },
  {
   "cell_type": "markdown",
   "metadata": {},
   "source": [
    "Show the direction by a line of type \"Vector\""
   ]
  },
  {
   "cell_type": "code",
   "execution_count": 5,
   "metadata": {},
   "outputs": [],
   "source": [
    "d=Line.Vector(cube.direction*3)\n",
    "cube.add(d)\n",
    "scen.render()"
   ]
  },
  {
   "cell_type": "markdown",
   "metadata": {},
   "source": [
    "# Position"
   ]
  },
  {
   "cell_type": "code",
   "execution_count": 1,
   "metadata": {},
   "outputs": [],
   "source": [
    "from scenario import *\n",
    "scen=Scenario()\n",
    "cube=Cube()\n",
    "cube.color=Color(r=1)\n",
    "point=Sphere()\n",
    "point.radius=0.1\n",
    "point.position=Vector3(0.5,0.5,0.5)\n",
    "point.color=Color(b=1)\n",
    "scen.add(cube,point)\n",
    "scen.render()"
   ]
  },
  {
   "cell_type": "code",
   "execution_count": 2,
   "metadata": {},
   "outputs": [],
   "source": [
    "cube.lookat(Vector3(1,2,3))\n",
    "cube.scale=Vector3(2,1,1)\n",
    "cube.position=Vector3(0,-1,3)\n",
    "point.position=cube.transform_local_position(Vector3(0.5,0.5,0.5))\n",
    "scen.render()"
   ]
  },
  {
   "cell_type": "markdown",
   "metadata": {},
   "source": [
    "How to convert velocity in local space to world space?\\\n",
    "Velocity in local space is a vector in local space.\\\n",
    "Velocity in world space is a vector in world space.\\\n",
    "**Transform a local vector to world**."
   ]
  },
  {
   "cell_type": "code",
   "execution_count": 2,
   "metadata": {},
   "outputs": [],
   "source": [
    "from scenario import *\n",
    "scen=Scenario()\n",
    "local=Vector3(1,1,1)\n",
    "local_v=Line.Vector(local)\n",
    "xyz=XYZ()\n",
    "xyz.position=Vector3(1,2,3)\n",
    "xyz.rotation=Rotation.Eular(0,1,-1)\n",
    "xyz.add(local_v)\n",
    "scen.add(xyz)\n",
    "scen.render()"
   ]
  },
  {
   "cell_type": "code",
   "execution_count": 4,
   "metadata": {},
   "outputs": [],
   "source": [
    "world=xyz.rotation*local\n",
    "world_v=Line.Vector(world)\n",
    "scen.add(world_v)\n",
    "scen.render()"
   ]
  },
  {
   "cell_type": "code",
   "execution_count": null,
   "metadata": {},
   "outputs": [],
   "source": []
  }
 ],
 "metadata": {
  "file_extension": ".py",
  "kernelspec": {
   "display_name": "Python 3",
   "language": "python",
   "name": "python3"
  },
  "language_info": {
   "codemirror_mode": {
    "name": "ipython",
    "version": 3
   },
   "file_extension": ".py",
   "mimetype": "text/x-python",
   "name": "python",
   "nbconvert_exporter": "python",
   "pygments_lexer": "ipython3",
   "version": "3.7.4"
  },
  "mimetype": "text/x-python",
  "name": "python",
  "npconvert_exporter": "python",
  "pygments_lexer": "ipython3",
  "version": 3
 },
 "nbformat": 4,
 "nbformat_minor": 4
}
