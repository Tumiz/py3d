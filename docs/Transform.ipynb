{
 "cells": [
  {
   "attachments": {},
   "cell_type": "markdown",
   "metadata": {},
   "source": [
    "# Transform"
   ]
  },
  {
   "attachments": {},
   "cell_type": "markdown",
   "metadata": {},
   "source": [
    "**Transfom** represents one or more transform matrices, like translation matrices, scaling matrices, rotation matrices and projection matrices."
   ]
  },
  {
   "attachments": {},
   "cell_type": "markdown",
   "metadata": {},
   "source": [
    "## Identity"
   ]
  },
  {
   "cell_type": "code",
   "execution_count": null,
   "metadata": {},
   "outputs": [],
   "source": [
    "from py3d import Transform\n",
    "Transform()\n"
   ]
  },
  {
   "cell_type": "code",
   "execution_count": null,
   "metadata": {},
   "outputs": [],
   "source": [
    "assert _.sum() == 4\n"
   ]
  },
  {
   "cell_type": "code",
   "execution_count": null,
   "metadata": {},
   "outputs": [],
   "source": [
    "Transform().tile(2)\n"
   ]
  },
  {
   "cell_type": "code",
   "execution_count": null,
   "metadata": {},
   "outputs": [],
   "source": [
    "assert _.sum() == 8\n"
   ]
  },
  {
   "attachments": {},
   "cell_type": "markdown",
   "metadata": {},
   "source": [
    "## Translation"
   ]
  },
  {
   "attachments": {},
   "cell_type": "markdown",
   "metadata": {},
   "source": [
    "### Translation Matrix\n",
    "\n",
    "In **py3d**, transformations are represented as left-multiplication matrixes, point are represented as row vectors."
   ]
  },
  {
   "attachments": {},
   "cell_type": "markdown",
   "metadata": {},
   "source": [
    "#### Left-multiplication translation matrix"
   ]
  },
  {
   "cell_type": "code",
   "execution_count": null,
   "metadata": {},
   "outputs": [],
   "source": [
    "from sympy import symbols, Matrix\n",
    "x, y, z, dx, dy, dz = symbols(\"x y z dx dy dz\")\n",
    "point = Matrix([x, y, z, 1]).T\n",
    "translation = Matrix([\n",
    "    [1, 0, 0, 0],\n",
    "    [0, 1, 0, 0],\n",
    "    [0, 0, 1, 0],\n",
    "    [dx, dy, dz, 1]\n",
    "])\n",
    "translation\n"
   ]
  },
  {
   "cell_type": "code",
   "execution_count": null,
   "metadata": {},
   "outputs": [],
   "source": [
    "point * translation\n"
   ]
  },
  {
   "cell_type": "code",
   "execution_count": null,
   "metadata": {},
   "outputs": [],
   "source": [
    "dx_,dy_,dz_ = symbols(\"dx' dy' dz'\")\n",
    "translation_ = Matrix([\n",
    "    [1, 0, 0, 0],\n",
    "    [0, 1, 0, 0],\n",
    "    [0, 0, 1, 0],\n",
    "    [dx_, dy_, dz_, 1]\n",
    "])\n",
    "translation_ * translation"
   ]
  },
  {
   "cell_type": "code",
   "execution_count": null,
   "metadata": {},
   "outputs": [],
   "source": [
    "translation * translation_"
   ]
  },
  {
   "attachments": {},
   "cell_type": "markdown",
   "metadata": {},
   "source": [
    "#### Right-multiplication translation matrix"
   ]
  },
  {
   "cell_type": "code",
   "execution_count": null,
   "metadata": {},
   "outputs": [],
   "source": [
    "translation.T\n"
   ]
  },
  {
   "cell_type": "code",
   "execution_count": null,
   "metadata": {},
   "outputs": [],
   "source": [
    "translation.T * point.T\n"
   ]
  },
  {
   "cell_type": "code",
   "execution_count": null,
   "metadata": {},
   "outputs": [],
   "source": [
    "import py3d\n",
    "py3d.Transform.from_translation([2, 3, 4])\n"
   ]
  },
  {
   "cell_type": "code",
   "execution_count": null,
   "metadata": {},
   "outputs": [],
   "source": [
    "import numpy\n",
    "assert numpy.array_equal(_[3, 0:3], [2, 3, 4])\n"
   ]
  },
  {
   "cell_type": "code",
   "execution_count": null,
   "metadata": {},
   "outputs": [],
   "source": [
    "import py3d\n",
    "py3d.Transform.from_translation(x=1).tile(2)\n"
   ]
  },
  {
   "attachments": {},
   "cell_type": "markdown",
   "metadata": {},
   "source": [
    "Translate a series of points"
   ]
  },
  {
   "cell_type": "code",
   "execution_count": null,
   "metadata": {},
   "outputs": [],
   "source": [
    "import py3d\n",
    "points = py3d.Vector3.grid(range(5), range(5)).as_point()\n",
    "points.color = py3d.Color(g=1)\n",
    "py3d.render(points)\n",
    "points @= py3d.Transform.from_translation(x=2, y=1, z=3)\n",
    "points.color = py3d.Color(r=1)\n",
    "py3d.render(points)\n"
   ]
  },
  {
   "cell_type": "code",
   "execution_count": null,
   "metadata": {},
   "outputs": [],
   "source": [
    "import py3d\n",
    "c=py3d.cube(0.5,0.2,0.3)\n",
    "c @= py3d.Transform.from_translation(x=range(-10,10))\n",
    "c.paint()"
   ]
  },
  {
   "attachments": {},
   "cell_type": "markdown",
   "metadata": {},
   "source": [
    "Move a car"
   ]
  },
  {
   "cell_type": "code",
   "execution_count": null,
   "metadata": {},
   "outputs": [],
   "source": [
    "import py3d\n",
    "\n",
    "car = py3d.car()\n",
    "car.color = py3d.Color(r=1)\n",
    "t = 0\n",
    "while t < 4:\n",
    "    py3d.render(car, t=t)\n",
    "    car.xyz @= py3d.Transform.from_translation(x=0.2)\n",
    "    t += 0.1\n",
    "py3d.render(car, t=t)\n"
   ]
  },
  {
   "attachments": {},
   "cell_type": "markdown",
   "metadata": {},
   "source": [
    "## Scaling"
   ]
  },
  {
   "cell_type": "code",
   "execution_count": null,
   "metadata": {},
   "outputs": [],
   "source": [
    "import py3d\n",
    "py3d.Transform.from_scaling(x=1, y=2, z=(1, 2, 3))"
   ]
  },
  {
   "cell_type": "code",
   "execution_count": null,
   "metadata": {},
   "outputs": [],
   "source": [
    "from py3d import Vector3, Transform\n",
    "points = (Vector3.rand(1000)-0.5).U @ Transform.from_scaling(x=2)\n",
    "points.as_point()\n"
   ]
  },
  {
   "attachments": {},
   "cell_type": "markdown",
   "metadata": {},
   "source": [
    "## [Rotation](Rotation.html)"
   ]
  },
  {
   "cell_type": "markdown",
   "metadata": {},
   "source": [
    "## Transposition\n",
    "\n",
    "With property **T**, we can get transposed matrices of a given **Transform**. \n",
    "The matrices represented by the **Transform** will be transposed respectively and return a new **Tranform** with the same shape."
   ]
  },
  {
   "cell_type": "code",
   "execution_count": null,
   "metadata": {},
   "outputs": [],
   "source": [
    "import py3d\n",
    "transform=py3d.Transform([\n",
    "           [[ 0.54030231,  0.84147098,  0.        ,  0.        ],\n",
    "            [-2.01953036,  1.29672553,  0.        ,  0.        ],\n",
    "            [ 0.        ,  0.        ,  1.        ,  0.        ],\n",
    "            [ 1.4       ,  0.        ,  0.        ,  1.        ]],\n",
    "\n",
    "           [[-0.41614684,  0.90929743,  0.        ,  0.        ],\n",
    "            [-2.81882202, -1.29005519,  0.        ,  0.        ],\n",
    "            [ 0.        ,  0.        ,  1.        ,  0.        ],\n",
    "            [ 2.1       ,  0.        ,  0.        ,  1.        ]],\n",
    "\n",
    "           [[ 0.96017029, -0.2794155 ,  0.        ,  0.        ],\n",
    "            [ 2.17944089,  7.48932824,  0.        ,  0.        ],\n",
    "            [ 0.        ,  0.        ,  1.        ,  0.        ],\n",
    "            [ 6.8       ,  0.        ,  0.        ,  1.        ]]])\n",
    "transform.T"
   ]
  },
  {
   "attachments": {},
   "cell_type": "markdown",
   "metadata": {},
   "source": [
    "## Interpolation"
   ]
  },
  {
   "cell_type": "code",
   "execution_count": null,
   "metadata": {},
   "outputs": [],
   "source": [
    "import py3d, numpy\n",
    "c = py3d.axis(1)\n",
    "poses = py3d.Vector([\n",
    "    [0, 5, 1, 0, 2, 3],\n",
    "    [2, 7, 9, 1, 4, 8],\n",
    "    [10, 3, 8, 6, 9, 5]\n",
    "], columns=[\"x\", \"y\", \"z\", \"rvx\", \"rvy\", \"rvz\"])\n",
    "t = py3d.Transform.from_rotation_vector(poses[[\"rvx\",\"rvy\",\"rvz\"]])@py3d.Transform.from_translation(poses[[\"x\",\"y\",\"z\"]])\n",
    "c @ t.lerp(numpy.linspace(0, 4, 20), [0, 1, 4])"
   ]
  },
  {
   "cell_type": "markdown",
   "metadata": {},
   "source": [
    "## Decomposition\n",
    "\n",
    "Decompose a transformation matrix to scaling, rotation and translation."
   ]
  },
  {
   "cell_type": "code",
   "execution_count": null,
   "metadata": {},
   "outputs": [],
   "source": [
    "t.scaling_vector"
   ]
  },
  {
   "cell_type": "code",
   "execution_count": null,
   "metadata": {},
   "outputs": [],
   "source": [
    "t.translation_vector"
   ]
  },
  {
   "cell_type": "code",
   "execution_count": null,
   "metadata": {},
   "outputs": [],
   "source": [
    "t.rotation_vector"
   ]
  },
  {
   "attachments": {},
   "cell_type": "markdown",
   "metadata": {},
   "source": [
    "## Projection"
   ]
  },
  {
   "attachments": {},
   "cell_type": "markdown",
   "metadata": {},
   "source": [
    "### Camera and scene"
   ]
  },
  {
   "cell_type": "code",
   "execution_count": null,
   "metadata": {},
   "outputs": [],
   "source": [
    "import py3d\n",
    "camera_axis=py3d.axis(2)\n",
    "camera = py3d.camera(2000, 1000, 3000)\n",
    "transform = py3d.Transform.from_translation([0,0,5]) @ py3d.Transform.from_rpy([py3d.pi/3,py3d.pi/6,0])\n",
    "camera_axis @= transform\n",
    "camera @= transform\n",
    "py3d.render(camera, camera_axis)\n"
   ]
  },
  {
   "attachments": {},
   "cell_type": "markdown",
   "metadata": {},
   "source": [
    "### Project 3d points on xy plane"
   ]
  },
  {
   "cell_type": "code",
   "execution_count": null,
   "metadata": {},
   "outputs": [],
   "source": [
    "import py3d\n",
    "p=(py3d.Vector3.rand(1000)-0.5).U+py3d.Vector3(x=1,y=1,z=2)\n",
    "py3d.render(p.as_point())\n",
    "p.z=0\n",
    "py3d.render(p.as_point())\n"
   ]
  },
  {
   "attachments": {},
   "cell_type": "markdown",
   "metadata": {},
   "source": [
    "### Orthographic projection"
   ]
  },
  {
   "cell_type": "code",
   "execution_count": null,
   "metadata": {},
   "outputs": [],
   "source": [
    "import sympy\n",
    "l, r, t, b, n, f = sympy.symbols(\"l r t b n f\")\n",
    "m_scale = sympy.Matrix([\n",
    "    [2/(r-l), 0, 0, 0],\n",
    "    [0, 2/(t-b), 0, 0],\n",
    "    [0, 0, 2/(n-f), 0],\n",
    "    [0, 0, 0, 1]\n",
    "])\n",
    "m_translate = sympy.Matrix([\n",
    "    [1, 0, 0, -(l+r)/2],\n",
    "    [0, 1, 0, -(b+t)/2],\n",
    "    [0, 0, 1, -(f+n)/2],\n",
    "    [0, 0, 0, 1]\n",
    "])\n",
    "o=sympy.simplify(m_scale*m_translate).transpose()\n",
    "o\n"
   ]
  },
  {
   "cell_type": "code",
   "execution_count": null,
   "metadata": {},
   "outputs": [],
   "source": [
    "w, h = sympy.symbols(\"w h\")\n",
    "o=o.subs(l, -w/2).subs(r, w/2).subs(t, h/2).subs(b, -h/2)\n",
    "o"
   ]
  },
  {
   "attachments": {},
   "cell_type": "markdown",
   "metadata": {},
   "source": [
    "Use perspective fov and aspect to define a orthographic projection"
   ]
  },
  {
   "cell_type": "code",
   "execution_count": null,
   "metadata": {},
   "outputs": [],
   "source": [
    "fov, aspect, distance = sympy.symbols(\"fov a d\")\n",
    "o=o.subs(w, aspect * h).subs(h, distance*sympy.tan(fov/2)*2)\n",
    "o"
   ]
  },
  {
   "cell_type": "code",
   "execution_count": null,
   "metadata": {},
   "outputs": [],
   "source": [
    "x, y, z = sympy.symbols(\"x y z\")\n",
    "sympy.Matrix([x, y, z, 1]).T @ o"
   ]
  },
  {
   "attachments": {},
   "cell_type": "markdown",
   "metadata": {},
   "source": [
    "### Perspective projection"
   ]
  },
  {
   "cell_type": "code",
   "execution_count": null,
   "metadata": {},
   "outputs": [],
   "source": [
    "from py3d import Transform, pi, Vector3\n",
    "projection = Transform.from_perspective(pi/2, 1.2, 0, 1000)\n",
    "projection\n"
   ]
  },
  {
   "cell_type": "code",
   "execution_count": null,
   "metadata": {},
   "outputs": [],
   "source": [
    "from numpy import allclose\n",
    "from py3d import Transform, Vector3\n",
    "assert (Transform([\n",
    "    [1., 0., 0.3, 0.],\n",
    "    [0., 1., 0., 0.],\n",
    "    [0., 0., 0.1, 0.],\n",
    "    [-1., 0., 0., 1.]\n",
    "]) == [\n",
    "    [1., 0., 0.3, 0.],\n",
    "    [0., 1., 0., 0.],\n",
    "    [0., 0., 0.1, 0.],\n",
    "    [-1., 0., 0., 1.]\n",
    "]).all()\n",
    "assert Transform().tile(2, 3).shape == (2, 3, 4, 4)\n",
    "assert Transform().tile(4, 5).n == (4, 5)\n",
    "assert ((Vector3(x=1).H @ Transform())[..., 0:3] == Vector3(x=1)).all()\n",
    "assert (Vector3(x=1) @ Transform() == Vector3(x=1)).all()\n",
    "p = Vector3([1, 2, 3])\n",
    "T = Transform.from_translation([1, 2, 3])\n",
    "R = Transform.from_euler(\"xyz\", [0, 0, 1])\n",
    "assert allclose(p @ T @ R, p @ (T@R))\n"
   ]
  },
  {
   "attachments": {},
   "cell_type": "markdown",
   "metadata": {},
   "source": [
    "[↑Top](#Transform)\n",
    "\n",
    "[←Home](index.html) "
   ]
  },
  {
   "attachments": {},
   "cell_type": "markdown",
   "metadata": {},
   "source": []
  }
 ],
 "metadata": {
  "kernelspec": {
   "display_name": "Python 3 (ipykernel)",
   "language": "python",
   "name": "python3"
  },
  "language_info": {
   "codemirror_mode": {
    "name": "ipython",
    "version": 3
   },
   "file_extension": ".py",
   "mimetype": "text/x-python",
   "name": "python",
   "nbconvert_exporter": "python",
   "pygments_lexer": "ipython3",
   "version": "3.10.12"
  },
  "vscode": {
   "interpreter": {
    "hash": "31f2aee4e71d21fbe5cf8b01ff0e069b9275f58929596ceb00d14d90e3e16cd6"
   }
  }
 },
 "nbformat": 4,
 "nbformat_minor": 4
}
