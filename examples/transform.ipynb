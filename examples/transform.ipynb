{
 "cells": [
  {
   "cell_type": "markdown",
   "metadata": {},
   "source": [
    "# Transform\n",
    "Transform represents different kinds of transform as matrix, including translation, scaling and rotation. All matrixes should be applied at right side of points or 3d vectors. In py3d, points or 3d vectors are represented by Vector3."
   ]
  },
  {
   "cell_type": "markdown",
   "metadata": {},
   "source": [
    "## Identity matrix\n",
    "\n",
    "Identity matrix means no changes will be applied to vertices"
   ]
  },
  {
   "cell_type": "code",
   "execution_count": 1,
   "metadata": {},
   "outputs": [
    {
     "name": "stdout",
     "output_type": "stream",
     "text": [
      "Welcome to py3d world, please visit https://tumiz.github.io/scenario/ for more information\n"
     ]
    },
    {
     "data": {
      "text/plain": [
       "Transform([[1., 0., 0., 0.],\n",
       "           [0., 1., 0., 0.],\n",
       "           [0., 0., 1., 0.],\n",
       "           [0., 0., 0., 1.]])"
      ]
     },
     "execution_count": 1,
     "metadata": {},
     "output_type": "execute_result"
    }
   ],
   "source": [
    "from py3d import Transform\n",
    "Transform()"
   ]
  },
  {
   "cell_type": "markdown",
   "metadata": {},
   "source": [
    "Apply a identity matrix to a series of vertices"
   ]
  },
  {
   "cell_type": "code",
   "execution_count": 1,
   "metadata": {},
   "outputs": [
    {
     "name": "stdout",
     "output_type": "stream",
     "text": [
      "Welcome to py3d world, please visit https://tumiz.github.io/scenario/ for more information\n"
     ]
    },
    {
     "data": {
      "text/plain": [
       "Vector3([[1., 2., 3.],\n",
       "         [4., 5., 6.]])"
      ]
     },
     "execution_count": 1,
     "metadata": {},
     "output_type": "execute_result"
    }
   ],
   "source": [
    "from py3d import Transform, Vector3\n",
    "Vector3([[1,2,3],[4,5,6]]) * Transform()"
   ]
  },
  {
   "cell_type": "markdown",
   "metadata": {},
   "source": [
    "## Translation matrix"
   ]
  },
  {
   "cell_type": "code",
   "execution_count": 2,
   "metadata": {},
   "outputs": [
    {
     "data": {
      "text/plain": [
       "Transform([[1., 0., 0., 0.],\n",
       "           [0., 1., 0., 0.],\n",
       "           [0., 0., 1., 0.],\n",
       "           [2., 1., 0., 1.]])"
      ]
     },
     "execution_count": 2,
     "metadata": {},
     "output_type": "execute_result"
    }
   ],
   "source": [
    "from py3d import Transform\n",
    "Transform.from_translation(2,1)"
   ]
  },
  {
   "cell_type": "markdown",
   "metadata": {},
   "source": [
    "Scaling matrix"
   ]
  },
  {
   "cell_type": "code",
   "execution_count": 3,
   "metadata": {},
   "outputs": [
    {
     "data": {
      "text/plain": [
       "Transform([[1., 0., 0., 0.],\n",
       "           [0., 2., 0., 0.],\n",
       "           [0., 0., 3., 0.],\n",
       "           [0., 0., 0., 1.]])"
      ]
     },
     "execution_count": 3,
     "metadata": {},
     "output_type": "execute_result"
    }
   ],
   "source": [
    "from py3d import Transform\n",
    "Transform.from_scaling(1,2,3)"
   ]
  },
  {
   "cell_type": "markdown",
   "metadata": {},
   "source": [
    "Rotation matrix from euler angles"
   ]
  },
  {
   "cell_type": "markdown",
   "metadata": {},
   "source": [
    "Extrinsic euler in order of x,y,z"
   ]
  },
  {
   "cell_type": "code",
   "execution_count": 4,
   "metadata": {},
   "outputs": [
    {
     "data": {
      "text/plain": [
       "Transform([[ 0.41198225, -0.05872664, -0.90929743,  0.        ],\n",
       "           [-0.83373765, -0.42691762, -0.35017549,  0.        ],\n",
       "           [-0.36763046,  0.90238159, -0.2248451 ,  0.        ],\n",
       "           [ 0.        ,  0.        ,  0.        ,  1.        ]])"
      ]
     },
     "execution_count": 4,
     "metadata": {},
     "output_type": "execute_result"
    }
   ],
   "source": [
    "from py3d import Transform\n",
    "Transform.from_eular_extrinsic(1,2,3)"
   ]
  },
  {
   "cell_type": "code",
   "execution_count": 5,
   "metadata": {},
   "outputs": [
    {
     "data": {
      "text/plain": [
       "Transform([[ 0.41198225, -0.68124272,  0.60512725,  0.        ],\n",
       "           [ 0.05872664, -0.64287284, -0.76371834,  0.        ],\n",
       "           [ 0.90929743,  0.35017549, -0.2248451 ,  0.        ],\n",
       "           [ 0.        ,  0.        ,  0.        ,  1.        ]])"
      ]
     },
     "execution_count": 5,
     "metadata": {},
     "output_type": "execute_result"
    }
   ],
   "source": [
    "from py3d import Transform\n",
    "Transform.from_eular_intrinsic(1,2,3)"
   ]
  },
  {
   "cell_type": "markdown",
   "metadata": {},
   "source": [
    "Inverse matrix"
   ]
  },
  {
   "cell_type": "code",
   "execution_count": 6,
   "metadata": {},
   "outputs": [
    {
     "name": "stdout",
     "output_type": "stream",
     "text": [
      "origin\n",
      " [[1. 0. 0. 0.]\n",
      " [0. 1. 0. 0.]\n",
      " [0. 0. 1. 0.]\n",
      " [2. 1. 3. 1.]]\n",
      "inverse\n",
      " [[ 1.  0.  0.  0.]\n",
      " [ 0.  1.  0.  0.]\n",
      " [-0. -0.  1. -0.]\n",
      " [-2. -1. -3.  1.]]\n"
     ]
    }
   ],
   "source": [
    "from py3d import Transform\n",
    "t=Transform.from_translation(2,1,3)\n",
    "print('origin\\n',t)\n",
    "print('inverse\\n',t.I)"
   ]
  },
  {
   "cell_type": "code",
   "execution_count": 7,
   "metadata": {},
   "outputs": [],
   "source": [
    "from py3d import Transform\n",
    "r=Transform.from_eular_extrinsic(1,2,3)"
   ]
  },
  {
   "cell_type": "markdown",
   "metadata": {},
   "source": [
    "inverse matrix of the transform"
   ]
  },
  {
   "cell_type": "code",
   "execution_count": 8,
   "metadata": {},
   "outputs": [
    {
     "data": {
      "text/plain": [
       "Transform([[ 0.41198225, -0.83373765, -0.36763046, -0.        ],\n",
       "           [-0.05872664, -0.42691762,  0.90238159,  0.        ],\n",
       "           [-0.90929743, -0.35017549, -0.2248451 , -0.        ],\n",
       "           [ 0.        ,  0.        ,  0.        ,  1.        ]])"
      ]
     },
     "execution_count": 8,
     "metadata": {},
     "output_type": "execute_result"
    }
   ],
   "source": [
    "r.I"
   ]
  },
  {
   "cell_type": "code",
   "execution_count": 9,
   "metadata": {},
   "outputs": [
    {
     "data": {
      "text/plain": [
       "Transform([[1., 0., 0., 0.],\n",
       "           [0., 1., 0., 0.],\n",
       "           [0., 0., 1., 0.],\n",
       "           [0., 0., 0., 1.]])"
      ]
     },
     "execution_count": 9,
     "metadata": {},
     "output_type": "execute_result"
    }
   ],
   "source": [
    "r.scaling"
   ]
  },
  {
   "cell_type": "code",
   "execution_count": 10,
   "metadata": {},
   "outputs": [
    {
     "data": {
      "text/plain": [
       "Transform([[1., 0., 0., 0.],\n",
       "           [0., 1., 0., 0.],\n",
       "           [0., 0., 1., 0.],\n",
       "           [0., 0., 0., 1.]])"
      ]
     },
     "execution_count": 10,
     "metadata": {},
     "output_type": "execute_result"
    }
   ],
   "source": [
    "r.translation"
   ]
  },
  {
   "cell_type": "code",
   "execution_count": 11,
   "metadata": {},
   "outputs": [
    {
     "data": {
      "text/plain": [
       "Transform([[ 0.41198225, -0.05872664, -0.90929743,  0.        ],\n",
       "           [-0.83373765, -0.42691762, -0.35017549,  0.        ],\n",
       "           [-0.36763046,  0.90238159, -0.2248451 ,  0.        ],\n",
       "           [ 0.        ,  0.        ,  0.        ,  1.        ]])"
      ]
     },
     "execution_count": 11,
     "metadata": {},
     "output_type": "execute_result"
    }
   ],
   "source": [
    "r.rotation"
   ]
  },
  {
   "cell_type": "code",
   "execution_count": 12,
   "metadata": {},
   "outputs": [
    {
     "data": {
      "text/plain": [
       "Transform([[ 0.41198225, -0.05872664, -0.90929743,  0.        ],\n",
       "           [-0.83373765, -0.42691762, -0.35017549,  0.        ],\n",
       "           [-0.36763046,  0.90238159, -0.2248451 ,  0.        ],\n",
       "           [ 0.        ,  0.        ,  0.        ,  1.        ]])"
      ]
     },
     "execution_count": 12,
     "metadata": {},
     "output_type": "execute_result"
    }
   ],
   "source": [
    "r"
   ]
  },
  {
   "cell_type": "code",
   "execution_count": 13,
   "metadata": {},
   "outputs": [
    {
     "data": {
      "text/plain": [
       "array([-2.14159265,  1.14159265, -0.14159265])"
      ]
     },
     "execution_count": 13,
     "metadata": {},
     "output_type": "execute_result"
    }
   ],
   "source": [
    "r.to_eular_extrinsic()"
   ]
  },
  {
   "cell_type": "code",
   "execution_count": 14,
   "metadata": {},
   "outputs": [
    {
     "data": {
      "text/plain": [
       "array([1.81499228, 0.37645977, 1.11184854])"
      ]
     },
     "execution_count": 14,
     "metadata": {},
     "output_type": "execute_result"
    }
   ],
   "source": [
    "r.to_eular_intrinsic()"
   ]
  },
  {
   "cell_type": "code",
   "execution_count": 15,
   "metadata": {},
   "outputs": [
    {
     "data": {
      "text/plain": [
       "Transform([[ 0.41198225, -0.05872664, -0.90929743,  0.        ],\n",
       "           [-0.83373765, -0.42691762, -0.35017549,  0.        ],\n",
       "           [-0.36763046,  0.90238159, -0.2248451 ,  0.        ],\n",
       "           [ 0.        ,  0.        ,  0.        ,  1.        ]])"
      ]
     },
     "execution_count": 15,
     "metadata": {},
     "output_type": "execute_result"
    }
   ],
   "source": [
    "Transform.from_eular_extrinsic(-2.14159265,  1.14159265, -0.14159265)"
   ]
  },
  {
   "cell_type": "code",
   "execution_count": 16,
   "metadata": {},
   "outputs": [
    {
     "data": {
      "text/plain": [
       "Transform([[ 0.41198225, -0.05872664, -0.90929743,  0.        ],\n",
       "           [-0.83373765, -0.42691762, -0.35017549,  0.        ],\n",
       "           [-0.36763046,  0.90238159, -0.2248451 ,  0.        ],\n",
       "           [ 0.        ,  0.        ,  0.        ,  1.        ]])"
      ]
     },
     "execution_count": 16,
     "metadata": {},
     "output_type": "execute_result"
    }
   ],
   "source": [
    "Transform.from_eular_extrinsic(1, 2, 3)"
   ]
  },
  {
   "cell_type": "code",
   "execution_count": 17,
   "metadata": {},
   "outputs": [
    {
     "data": {
      "text/plain": [
       "Transform([[-0.27201173, -0.31494097, -0.90929743,  0.        ],\n",
       "           [ 0.09123159,  0.93223062, -0.35017549,  0.        ],\n",
       "           [ 0.95795951, -0.17820849, -0.2248451 ,  0.        ],\n",
       "           [ 0.        ,  0.        ,  0.        ,  1.        ]])"
      ]
     },
     "execution_count": 17,
     "metadata": {},
     "output_type": "execute_result"
    }
   ],
   "source": [
    "Transform.from_eular_extrinsic(-2.14159265,  1.14159265, 4)"
   ]
  },
  {
   "cell_type": "code",
   "execution_count": 18,
   "metadata": {},
   "outputs": [
    {
     "data": {
      "text/plain": [
       "Transform([[[ 1.,  0.,  0.,  0.],\n",
       "            [ 0.,  1.,  0.,  0.],\n",
       "            [ 0.,  0.,  1.,  0.],\n",
       "            [ 0.,  0.,  0.,  1.]],\n",
       "\n",
       "           [[-1.,  0.,  0.,  0.],\n",
       "            [ 0., -1.,  0.,  0.],\n",
       "            [ 0.,  0.,  1.,  0.],\n",
       "            [ 0.,  0.,  0.,  1.]]])"
      ]
     },
     "execution_count": 18,
     "metadata": {},
     "output_type": "execute_result"
    }
   ],
   "source": [
    "from py3d import Transform\n",
    "Transform.from_quaternion([[1,0,0,0],[0,0,0,1]])"
   ]
  },
  {
   "cell_type": "code",
   "execution_count": 19,
   "metadata": {},
   "outputs": [
    {
     "data": {
      "text/plain": [
       "((0.9999999999999998, Vector3([-1.,  0.,  0.])),\n",
       " array([ 0.87758256, -0.47942554,  0.        ,  0.        ]),\n",
       " array([ 1., -0.,  0.]))"
      ]
     },
     "execution_count": 19,
     "metadata": {},
     "output_type": "execute_result"
    }
   ],
   "source": [
    "from py3d import Transform,Vector3\n",
    "r=Transform.from_angle_axis(1,Vector3(x=1))\n",
    "r.to_angle_axis(),r.to_quaternion(),r.to_eular_intrinsic()"
   ]
  },
  {
   "cell_type": "code",
   "execution_count": 20,
   "metadata": {},
   "outputs": [
    {
     "data": {
      "text/latex": [
       "$\\displaystyle 4 w y$"
      ],
      "text/plain": [
       "4*w*y"
      ]
     },
     "execution_count": 20,
     "metadata": {},
     "output_type": "execute_result"
    }
   ],
   "source": [
    "from sympy import symbols\n",
    "w,x,y,z=symbols('w x y z')\n",
    "m00 = 1 - 2 * y ** 2 - 2 * z ** 2\n",
    "m01 = -2 * w * z + 2 * x * y + x * y\n",
    "m02 = 2 * w * y + 2 * x * z\n",
    "m10 = 2 * w * z + 2 * x * y\n",
    "m11 = 1 - 2 * x ** 2 - 2 * z ** 2\n",
    "m12 = -2 * w * x + 2 * y * z\n",
    "m20 = -2 * w * y + 2 * x * z\n",
    "m21 = 2 * w * x + 2 * y * z\n",
    "m22 = 1 - 2 * x ** 2 - 2 * y ** 2\n",
    "m02-m20"
   ]
  },
  {
   "cell_type": "code",
   "execution_count": 21,
   "metadata": {},
   "outputs": [
    {
     "data": {
      "text/plain": [
       "Transform([[[ 1.        ,  0.        ,  0.        ,  0.        ],\n",
       "            [-0.        ,  1.        ,  0.        ,  0.        ],\n",
       "            [ 0.        ,  0.        ,  1.        ,  0.        ],\n",
       "            [ 0.        ,  0.        ,  0.        ,  1.        ]],\n",
       "\n",
       "           [[ 1.        ,  0.        ,  0.        ,  0.        ],\n",
       "            [-0.        ,  0.54030231, -0.84147098,  0.        ],\n",
       "            [ 0.        ,  0.84147098,  0.54030231,  0.        ],\n",
       "            [ 0.        ,  0.        ,  0.        ,  1.        ]],\n",
       "\n",
       "           [[ 1.        ,  0.        ,  0.        ,  0.        ],\n",
       "            [-0.        , -0.41614684, -0.90929743,  0.        ],\n",
       "            [ 0.        ,  0.90929743, -0.41614684,  0.        ],\n",
       "            [ 0.        ,  0.        ,  0.        ,  1.        ]],\n",
       "\n",
       "           [[ 1.        ,  0.        ,  0.        ,  0.        ],\n",
       "            [-0.        , -0.9899925 , -0.14112001,  0.        ],\n",
       "            [ 0.        ,  0.14112001, -0.9899925 ,  0.        ],\n",
       "            [ 0.        ,  0.        ,  0.        ,  1.        ]],\n",
       "\n",
       "           [[ 1.        , -0.        ,  0.        ,  0.        ],\n",
       "            [ 0.        , -0.65364362,  0.7568025 ,  0.        ],\n",
       "            [ 0.        , -0.7568025 , -0.65364362,  0.        ],\n",
       "            [ 0.        ,  0.        ,  0.        ,  1.        ]],\n",
       "\n",
       "           [[ 1.        , -0.        ,  0.        ,  0.        ],\n",
       "            [ 0.        ,  0.28366219,  0.95892427,  0.        ],\n",
       "            [ 0.        , -0.95892427,  0.28366219,  0.        ],\n",
       "            [ 0.        ,  0.        ,  0.        ,  1.        ]],\n",
       "\n",
       "           [[ 1.        , -0.        ,  0.        ,  0.        ],\n",
       "            [ 0.        ,  0.96017029,  0.2794155 ,  0.        ],\n",
       "            [ 0.        , -0.2794155 ,  0.96017029,  0.        ],\n",
       "            [ 0.        ,  0.        ,  0.        ,  1.        ]],\n",
       "\n",
       "           [[ 1.        ,  0.        ,  0.        ,  0.        ],\n",
       "            [-0.        ,  0.75390225, -0.6569866 ,  0.        ],\n",
       "            [ 0.        ,  0.6569866 ,  0.75390225,  0.        ],\n",
       "            [ 0.        ,  0.        ,  0.        ,  1.        ]],\n",
       "\n",
       "           [[ 1.        ,  0.        ,  0.        ,  0.        ],\n",
       "            [-0.        , -0.14550003, -0.98935825,  0.        ],\n",
       "            [ 0.        ,  0.98935825, -0.14550003,  0.        ],\n",
       "            [ 0.        ,  0.        ,  0.        ,  1.        ]],\n",
       "\n",
       "           [[ 1.        ,  0.        ,  0.        ,  0.        ],\n",
       "            [-0.        , -0.91113026, -0.41211849,  0.        ],\n",
       "            [ 0.        ,  0.41211849, -0.91113026,  0.        ],\n",
       "            [ 0.        ,  0.        ,  0.        ,  1.        ]]])"
      ]
     },
     "execution_count": 21,
     "metadata": {},
     "output_type": "execute_result"
    }
   ],
   "source": [
    "from py3d import Transform,Vector3\n",
    "Transform.from_angle_axis(range(10),Vector3(x=1))"
   ]
  },
  {
   "cell_type": "code",
   "execution_count": 22,
   "metadata": {},
   "outputs": [
    {
     "data": {
      "text/plain": [
       "Transform([[[[ 1.        ,  0.        ,  0.        ,  0.        ],\n",
       "             [ 0.        ,  0.77928056,  0.62667521,  0.        ],\n",
       "             [ 0.        , -0.62667521,  0.77928056,  0.        ],\n",
       "             [ 0.        ,  0.        ,  0.        ,  1.        ]],\n",
       "\n",
       "            [[ 1.        ,  0.        ,  0.        ,  0.        ],\n",
       "             [ 0.        ,  0.8923019 ,  0.45143916,  0.        ],\n",
       "             [ 0.        , -0.45143916,  0.8923019 ,  0.        ],\n",
       "             [ 0.        ,  0.        ,  0.        ,  1.        ]]],\n",
       "\n",
       "\n",
       "           [[[ 1.        ,  0.        ,  0.        ,  0.        ],\n",
       "             [ 0.        ,  0.57518893,  0.81802059,  0.        ],\n",
       "             [ 0.        , -0.81802059,  0.57518893,  0.        ],\n",
       "             [ 0.        ,  0.        ,  0.        ,  1.        ]],\n",
       "\n",
       "            [[ 1.        ,  0.        ,  0.        ,  0.        ],\n",
       "             [ 0.        ,  0.68458663,  0.72893151,  0.        ],\n",
       "             [ 0.        , -0.72893151,  0.68458663,  0.        ],\n",
       "             [ 0.        ,  0.        ,  0.        ,  1.        ]]],\n",
       "\n",
       "\n",
       "           [[[ 1.        ,  0.        ,  0.        ,  0.        ],\n",
       "             [ 0.        ,  0.8902771 ,  0.45541923,  0.        ],\n",
       "             [ 0.        , -0.45541923,  0.8902771 ,  0.        ],\n",
       "             [ 0.        ,  0.        ,  0.        ,  1.        ]],\n",
       "\n",
       "            [[ 1.        ,  0.        ,  0.        ,  0.        ],\n",
       "             [ 0.        ,  0.64570459,  0.76358731,  0.        ],\n",
       "             [ 0.        , -0.76358731,  0.64570459,  0.        ],\n",
       "             [ 0.        ,  0.        ,  0.        ,  1.        ]]]])"
      ]
     },
     "execution_count": 22,
     "metadata": {},
     "output_type": "execute_result"
    }
   ],
   "source": [
    "from py3d import Transform\n",
    "import numpy\n",
    "Transform.Rx(numpy.random.rand(3,2))"
   ]
  },
  {
   "cell_type": "code",
   "execution_count": 23,
   "metadata": {},
   "outputs": [
    {
     "data": {
      "text/plain": [
       "Transform([[[[1., 0., 0., 0.],\n",
       "             [0., 1., 0., 0.],\n",
       "             [0., 0., 1., 0.],\n",
       "             [0., 0., 0., 1.]],\n",
       "\n",
       "            [[1., 0., 0., 0.],\n",
       "             [0., 1., 0., 0.],\n",
       "             [0., 0., 1., 0.],\n",
       "             [0., 0., 0., 1.]],\n",
       "\n",
       "            [[1., 0., 0., 0.],\n",
       "             [0., 1., 0., 0.],\n",
       "             [0., 0., 1., 0.],\n",
       "             [0., 0., 0., 1.]]],\n",
       "\n",
       "\n",
       "           [[[1., 0., 0., 0.],\n",
       "             [0., 1., 0., 0.],\n",
       "             [0., 0., 1., 0.],\n",
       "             [0., 0., 0., 1.]],\n",
       "\n",
       "            [[1., 0., 0., 0.],\n",
       "             [0., 1., 0., 0.],\n",
       "             [0., 0., 1., 0.],\n",
       "             [0., 0., 0., 1.]],\n",
       "\n",
       "            [[1., 0., 0., 0.],\n",
       "             [0., 1., 0., 0.],\n",
       "             [0., 0., 1., 0.],\n",
       "             [0., 0., 0., 1.]]]])"
      ]
     },
     "execution_count": 23,
     "metadata": {},
     "output_type": "execute_result"
    }
   ],
   "source": [
    "from py3d import Transform\n",
    "import numpy\n",
    "t=Transform(2,3)\n",
    "t"
   ]
  },
  {
   "cell_type": "code",
   "execution_count": 24,
   "metadata": {},
   "outputs": [
    {
     "ename": "IndexError",
     "evalue": "too many indices for array: array is 1-dimensional, but 2 were indexed",
     "output_type": "error",
     "traceback": [
      "\u001b[0;31m---------------------------------------------------------------------------\u001b[0m",
      "\u001b[0;31mIndexError\u001b[0m                                Traceback (most recent call last)",
      "\u001b[0;32m<ipython-input-24-0b02dfd1dd18>\u001b[0m in \u001b[0;36m<module>\u001b[0;34m\u001b[0m\n\u001b[1;32m      2\u001b[0m \u001b[0;32mimport\u001b[0m \u001b[0mnumpy\u001b[0m\u001b[0;34m\u001b[0m\u001b[0;34m\u001b[0m\u001b[0m\n\u001b[1;32m      3\u001b[0m \u001b[0mt\u001b[0m\u001b[0;34m=\u001b[0m\u001b[0mTransform\u001b[0m\u001b[0;34m(\u001b[0m\u001b[0;36m1\u001b[0m\u001b[0;34m)\u001b[0m\u001b[0;34m\u001b[0m\u001b[0;34m\u001b[0m\u001b[0m\n\u001b[0;32m----> 4\u001b[0;31m \u001b[0mt\u001b[0m\u001b[0;34m.\u001b[0m\u001b[0mtranslation\u001b[0m\u001b[0;34m=\u001b[0m\u001b[0mVector3\u001b[0m\u001b[0;34m(\u001b[0m\u001b[0mx\u001b[0m\u001b[0;34m=\u001b[0m\u001b[0;36m2\u001b[0m\u001b[0;34m,\u001b[0m\u001b[0my\u001b[0m\u001b[0;34m=\u001b[0m\u001b[0;36m1\u001b[0m\u001b[0;34m)\u001b[0m\u001b[0;34m\u001b[0m\u001b[0;34m\u001b[0m\u001b[0m\n\u001b[0m\u001b[1;32m      5\u001b[0m \u001b[0mt\u001b[0m\u001b[0;34m.\u001b[0m\u001b[0mrotation\u001b[0m\u001b[0;34m=\u001b[0m\u001b[0mTransform\u001b[0m\u001b[0;34m.\u001b[0m\u001b[0mfrom_angle_axis\u001b[0m\u001b[0;34m(\u001b[0m\u001b[0;36m1\u001b[0m\u001b[0;34m,\u001b[0m\u001b[0mVector3\u001b[0m\u001b[0;34m(\u001b[0m\u001b[0mx\u001b[0m\u001b[0;34m=\u001b[0m\u001b[0;36m1\u001b[0m\u001b[0;34m)\u001b[0m\u001b[0;34m)\u001b[0m\u001b[0;34m\u001b[0m\u001b[0;34m\u001b[0m\u001b[0m\n\u001b[1;32m      6\u001b[0m \u001b[0mt\u001b[0m\u001b[0;34m\u001b[0m\u001b[0;34m\u001b[0m\u001b[0m\n",
      "\u001b[0;32m/mnt/d/codes/scenario/py3d/py3d/core.py\u001b[0m in \u001b[0;36mtranslation\u001b[0;34m(self, v)\u001b[0m\n\u001b[1;32m    471\u001b[0m     \u001b[0;34m@\u001b[0m\u001b[0mtranslation\u001b[0m\u001b[0;34m.\u001b[0m\u001b[0msetter\u001b[0m\u001b[0;34m\u001b[0m\u001b[0;34m\u001b[0m\u001b[0m\n\u001b[1;32m    472\u001b[0m     \u001b[0;32mdef\u001b[0m \u001b[0mtranslation\u001b[0m\u001b[0;34m(\u001b[0m\u001b[0mself\u001b[0m\u001b[0;34m,\u001b[0m \u001b[0mv\u001b[0m\u001b[0;34m:\u001b[0m \u001b[0mnumpy\u001b[0m\u001b[0;34m.\u001b[0m\u001b[0mndarray\u001b[0m\u001b[0;34m)\u001b[0m\u001b[0;34m:\u001b[0m\u001b[0;34m\u001b[0m\u001b[0;34m\u001b[0m\u001b[0m\n\u001b[0;32m--> 473\u001b[0;31m         \u001b[0mself\u001b[0m\u001b[0;34m[\u001b[0m\u001b[0;34m...\u001b[0m\u001b[0;34m,\u001b[0m \u001b[0;36m3\u001b[0m\u001b[0;34m,\u001b[0m \u001b[0;34m:\u001b[0m\u001b[0;36m3\u001b[0m\u001b[0;34m]\u001b[0m \u001b[0;34m=\u001b[0m \u001b[0mv\u001b[0m\u001b[0;34m[\u001b[0m\u001b[0;34m...\u001b[0m\u001b[0;34m,\u001b[0m \u001b[0;36m3\u001b[0m\u001b[0;34m,\u001b[0m \u001b[0;34m:\u001b[0m\u001b[0;36m3\u001b[0m\u001b[0;34m]\u001b[0m\u001b[0;34m\u001b[0m\u001b[0;34m\u001b[0m\u001b[0m\n\u001b[0m\u001b[1;32m    474\u001b[0m \u001b[0;34m\u001b[0m\u001b[0m\n\u001b[1;32m    475\u001b[0m     \u001b[0;34m@\u001b[0m\u001b[0mproperty\u001b[0m\u001b[0;34m\u001b[0m\u001b[0;34m\u001b[0m\u001b[0m\n",
      "\u001b[0;31mIndexError\u001b[0m: too many indices for array: array is 1-dimensional, but 2 were indexed"
     ]
    }
   ],
   "source": [
    "from py3d import Transform,Vector3\n",
    "import numpy\n",
    "t=Transform(1)\n",
    "t.translation=Vector3(x=2,y=1)\n",
    "t.rotation=Transform.from_angle_axis(1,Vector3(x=1))\n",
    "t"
   ]
  },
  {
   "cell_type": "code",
   "execution_count": null,
   "metadata": {},
   "outputs": [],
   "source": [
    "from py3d import Transform\n",
    "t=Transform(1)\n",
    "print('matrix\\n',t)\n",
    "print('quaternion',t.to_quaternion())\n",
    "print('angle-axis',t.to_angle_axis())"
   ]
  },
  {
   "cell_type": "code",
   "execution_count": null,
   "metadata": {},
   "outputs": [],
   "source": [
    "from py3d import Transform,Vector3\n",
    "t=Transform(1)\n",
    "t.rotation=Transform.from_angle_axis(1,Vector3(z=1))\n",
    "Vector3().mt(t)"
   ]
  },
  {
   "cell_type": "code",
   "execution_count": null,
   "metadata": {
    "scrolled": true
   },
   "outputs": [],
   "source": [
    "from py3d import Transform,Vector3,Space\n",
    "s=Space()\n",
    "Vector3.Rand(1000).mt(Transform.from_angle_arbitrary_axis(-3.14,Vector3(z=1),Vector3(x=1))).as_point().render(s)\n",
    "Vector3.Rand(1000).mt(Transform.from_angle_axis(-1,Vector3(z=1))).as_point().render(s)"
   ]
  },
  {
   "cell_type": "code",
   "execution_count": null,
   "metadata": {},
   "outputs": [],
   "source": [
    "0.47942554**2+0.87758256**2\n",
    "q[0]"
   ]
  },
  {
   "cell_type": "code",
   "execution_count": null,
   "metadata": {},
   "outputs": [],
   "source": [
    "from py3d import Transform\n",
    "q=Transform.Rz(1).to_quaternion()\n",
    "t=Transform.from_quaternion(q)\n",
    "from scipy.spatial.transform import Rotation\n",
    "Rotation.from_euler('z',1).as_quat(),t.to_quaternion(),q"
   ]
  },
  {
   "cell_type": "code",
   "execution_count": null,
   "metadata": {},
   "outputs": [],
   "source": [
    "from py3d import Transform,Vector3\n",
    "Transform.Rz(1).forward,Transform.from_angle_axis(1,Vector3(z=1)).forward,Transform.from_eular_extrinsic(z=1).forward,Transform.from_angle_arbitrary_axis(1,Vector3(z=1),Vector3()).forward"
   ]
  },
  {
   "cell_type": "code",
   "execution_count": null,
   "metadata": {},
   "outputs": [],
   "source": [
    "from py3d import Vector3,Space,Transform,pi\n",
    "s=Space()\n",
    "t=Transform.from_angle_arbitrary_axis(pi/6,Vector3(z=1),Vector3(x=1))\n",
    "Vector3.Rand(1000).mt(t).as_point().render(s)"
   ]
  },
  {
   "cell_type": "code",
   "execution_count": null,
   "metadata": {},
   "outputs": [],
   "source": [
    "from py3d import Vector3,Transform\n",
    "angle=1\n",
    "axis_direction=Vector3(z=1)\n",
    "axis_point=Vector3(x=1)\n",
    "ti=Transform.from_translation(-axis_point)\n",
    "r=Transform.from_angle_axis(angle, axis_direction)\n",
    "t=Transform.from_translation(axis_point)\n",
    "r,(ti@r@t)"
   ]
  }
 ],
 "metadata": {
  "interpreter": {
   "hash": "6aa3b417f6031089fe78d3bd6c6859fc6570bbd00574f35191098c43dfcf5211"
  },
  "kernelspec": {
   "display_name": "Python 3",
   "language": "python",
   "name": "python3"
  },
  "language_info": {
   "codemirror_mode": {
    "name": "ipython",
    "version": 3
   },
   "file_extension": ".py",
   "mimetype": "text/x-python",
   "name": "python",
   "nbconvert_exporter": "python",
   "pygments_lexer": "ipython3",
   "version": "3.8.3"
  }
 },
 "nbformat": 4,
 "nbformat_minor": 4
}
