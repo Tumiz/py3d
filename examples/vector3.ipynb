{
 "cells": [
  {
   "cell_type": "markdown",
   "metadata": {},
   "source": [
    "# Vector3 #\n",
    " represents point or position, velocity and scale. Note! Angular velocity can not be represented by this\n",
    "      type, it should be represented by **Transform**. It is a class inheriting\n",
    "      numpy.ndarray, so it is also ndarray."
   ]
  },
  {
   "cell_type": "code",
   "execution_count": 1,
   "metadata": {},
   "outputs": [
    {
     "name": "stdout",
     "output_type": "stream",
     "text": [
      "Welcome to py3d world, please visit https://tumiz.github.io/scenario/ for more information\n"
     ]
    },
    {
     "data": {
      "text/plain": [
       "Vector3([0., 0., 0.])"
      ]
     },
     "execution_count": 1,
     "metadata": {},
     "output_type": "execute_result"
    }
   ],
   "source": [
    "import py3d\n",
    "py3d.Vector3()"
   ]
  },
  {
   "cell_type": "code",
   "execution_count": 2,
   "metadata": {},
   "outputs": [
    {
     "data": {
      "text/plain": [
       "Vector3([1., 2., 3.])"
      ]
     },
     "execution_count": 2,
     "metadata": {},
     "output_type": "execute_result"
    }
   ],
   "source": [
    "import py3d\n",
    "py3d.Vector3(x=1,y=2,z=3)"
   ]
  },
  {
   "cell_type": "code",
   "execution_count": 3,
   "metadata": {},
   "outputs": [
    {
     "data": {
      "text/plain": [
       "Vector3([[0., 0., 0.],\n",
       "         [1., 0., 0.],\n",
       "         [2., 0., 0.],\n",
       "         [3., 0., 0.],\n",
       "         [4., 0., 0.],\n",
       "         [5., 0., 0.],\n",
       "         [6., 0., 0.],\n",
       "         [7., 0., 0.],\n",
       "         [8., 0., 0.],\n",
       "         [9., 0., 0.]])"
      ]
     },
     "execution_count": 3,
     "metadata": {},
     "output_type": "execute_result"
    }
   ],
   "source": [
    "import py3d\n",
    "py3d.Vector3(x=range(10))"
   ]
  },
  {
   "cell_type": "code",
   "execution_count": 4,
   "metadata": {},
   "outputs": [
    {
     "data": {
      "text/plain": [
       "Vector3([[0., 2., 3.],\n",
       "         [1., 2., 3.],\n",
       "         [2., 2., 3.],\n",
       "         [3., 2., 3.],\n",
       "         [4., 2., 3.],\n",
       "         [5., 2., 3.],\n",
       "         [6., 2., 3.],\n",
       "         [7., 2., 3.],\n",
       "         [8., 2., 3.],\n",
       "         [9., 2., 3.]])"
      ]
     },
     "execution_count": 4,
     "metadata": {},
     "output_type": "execute_result"
    }
   ],
   "source": [
    "import py3d\n",
    "py3d.Vector3(x=range(10),y=2,z=3)"
   ]
  },
  {
   "cell_type": "code",
   "execution_count": 5,
   "metadata": {},
   "outputs": [
    {
     "data": {
      "text/plain": [
       "Vector3([[[0.30199201, 0.18094888, 0.42196011],\n",
       "          [0.82768388, 0.09151188, 0.36639985],\n",
       "          [0.15351894, 0.02752327, 0.35943476],\n",
       "          [0.1411621 , 0.13466147, 0.32109445]],\n",
       "\n",
       "         [[0.08326403, 0.21689563, 0.17113567],\n",
       "          [0.09290831, 0.28398149, 0.06025669],\n",
       "          [0.94388423, 0.09248564, 0.21074438],\n",
       "          [0.80471432, 0.38576637, 0.09128796]],\n",
       "\n",
       "         [[0.32100152, 0.26957819, 0.38116551],\n",
       "          [0.05779617, 0.2321139 , 0.02406065],\n",
       "          [0.07216503, 0.09890692, 0.23911223],\n",
       "          [0.20939097, 0.36244179, 0.18488468]]])"
      ]
     },
     "execution_count": 5,
     "metadata": {},
     "output_type": "execute_result"
    }
   ],
   "source": [
    "from py3d import Vector3\n",
    "Vector3(x=1).vector_projection(Vector3.Rand(3,4))"
   ]
  },
  {
   "cell_type": "code",
   "execution_count": 1,
   "metadata": {},
   "outputs": [
    {
     "name": "stdout",
     "output_type": "stream",
     "text": [
      "Welcome to py3d world, please visit https://tumiz.github.io/scenario/ for more information\n",
      "click http://127.0.0.1:8000/view/140013707388512 or http://172.17.219.241:8000/view/140013707388512 to view in browser\n"
     ]
    },
    {
     "data": {
      "text/html": [
       "\n",
       "        <iframe\n",
       "            width=\"100%\"\n",
       "            height=\"600px\"\n",
       "            src=\"http://127.0.0.1:8000/view/140013707388512\"\n",
       "            frameborder=\"0\"\n",
       "            allowfullscreen\n",
       "        ></iframe>\n",
       "        "
      ],
      "text/plain": [
       "<IPython.lib.display.IFrame at 0x7f577b3bbb20>"
      ]
     },
     "metadata": {},
     "output_type": "display_data"
    }
   ],
   "source": [
    "from py3d import Vector3\n",
    "Vector3.Rand(1000).U.as_point().render()"
   ]
  },
  {
   "cell_type": "code",
   "execution_count": 4,
   "metadata": {},
   "outputs": [
    {
     "data": {
      "text/html": [
       "\n",
       "        <iframe\n",
       "            width=\"800\"\n",
       "            height=\"600\"\n",
       "            src=\"eg1.html\"\n",
       "            frameborder=\"0\"\n",
       "            allowfullscreen\n",
       "            \n",
       "        ></iframe>\n",
       "        "
      ],
      "text/plain": [
       "<IPython.lib.display.IFrame at 0x7fb904441640>"
      ]
     },
     "metadata": {},
     "output_type": "display_data"
    }
   ],
   "source": [
    "from IPython.display import display,IFrame\n",
    "display(IFrame(\"eg1.html\",width=800,height=600))"
   ]
  },
  {
   "cell_type": "code",
   "execution_count": null,
   "metadata": {},
   "outputs": [],
   "source": []
  }
 ],
 "metadata": {
  "interpreter": {
   "hash": "6aa3b417f6031089fe78d3bd6c6859fc6570bbd00574f35191098c43dfcf5211"
  },
  "kernelspec": {
   "display_name": "Python 3",
   "language": "python",
   "name": "python3"
  },
  "language_info": {
   "codemirror_mode": {
    "name": "ipython",
    "version": 3
   },
   "file_extension": ".py",
   "mimetype": "text/x-python",
   "name": "python",
   "nbconvert_exporter": "python",
   "pygments_lexer": "ipython3",
   "version": "3.8.3"
  }
 },
 "nbformat": 4,
 "nbformat_minor": 4
}
