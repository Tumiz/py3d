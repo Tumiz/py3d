{
 "cells": [
  {
   "attachments": {},
   "cell_type": "markdown",
   "metadata": {},
   "source": [
    "# Rotation"
   ]
  },
  {
   "attachments": {},
   "cell_type": "markdown",
   "metadata": {},
   "source": [
    "### Euler angles"
   ]
  },
  {
   "attachments": {},
   "cell_type": "markdown",
   "metadata": {},
   "source": [
    "#### Extrinsic Rotation"
   ]
  },
  {
   "attachments": {},
   "cell_type": "markdown",
   "metadata": {},
   "source": [
    "Right multiply matrix"
   ]
  },
  {
   "cell_type": "code",
   "execution_count": null,
   "metadata": {},
   "outputs": [],
   "source": [
    "import sympy\n",
    "from sympy.vector import AxisOrienter, CoordSys3D\n",
    "x, y, theta = sympy.symbols(\"x y theta\")\n",
    "N = CoordSys3D(\"N\")\n",
    "M = AxisOrienter(theta, N.k).rotation_matrix(N)\n",
    "M\n"
   ]
  },
  {
   "cell_type": "code",
   "execution_count": null,
   "metadata": {},
   "outputs": [],
   "source": [
    "M.inv()\n"
   ]
  },
  {
   "cell_type": "code",
   "execution_count": null,
   "metadata": {},
   "outputs": [],
   "source": [
    "v = sympy.Matrix([x, y, 0]).T * M.subs(theta, sympy.pi/2)\n",
    "v\n"
   ]
  },
  {
   "cell_type": "code",
   "execution_count": null,
   "metadata": {},
   "outputs": [],
   "source": [
    "import py3d\n",
    "py3d.Transform.from_euler(\"xyz\", [0.4, -0.2, 0])\n"
   ]
  },
  {
   "cell_type": "code",
   "execution_count": null,
   "metadata": {},
   "outputs": [],
   "source": [
    "import py3d\n",
    "axis=py3d.axis(dashed=True)\n",
    "rotated_axis=py3d.axis()@py3d.Transform.from_euler(\"xyz\", [1,2,3])\n",
    "py3d.render(axis,rotated_axis)\n"
   ]
  },
  {
   "attachments": {},
   "cell_type": "markdown",
   "metadata": {},
   "source": [
    "#### Intrinsic Rotation"
   ]
  },
  {
   "cell_type": "code",
   "execution_count": null,
   "metadata": {},
   "outputs": [],
   "source": [
    "import py3d\n",
    "py3d.Transform.from_euler(\"XYZ\", [0.4, -0.2, 0])\n"
   ]
  },
  {
   "cell_type": "code",
   "execution_count": null,
   "metadata": {},
   "outputs": [],
   "source": [
    "import py3d\n",
    "py3d.Transform.from_euler(\"XYZ\", [1.3, 1.0, 0]) @ py3d.Transform.from_euler(\"XYZ\", [0.9, .0, 0])\n"
   ]
  },
  {
   "cell_type": "code",
   "execution_count": null,
   "metadata": {},
   "outputs": [],
   "source": [
    "import numpy\n",
    "assert numpy.allclose(_, py3d.Transform.from_euler(\"XYZ\", [2.2, 1.0, 0]))\n"
   ]
  },
  {
   "attachments": {},
   "cell_type": "markdown",
   "metadata": {},
   "source": [
    "Apply a intrinsic rotation to a point"
   ]
  },
  {
   "cell_type": "code",
   "execution_count": null,
   "metadata": {},
   "outputs": [],
   "source": [
    "import py3d\n",
    "p = py3d.Vector3([1, 3, 4])\n",
    "py3d.label(\"P\", p.tolist())\n",
    "py3d.render(p.as_point().paint(py3d.Color(g=1)))\n",
    "t = py3d.Transform.from_euler(\"XYZ\", [0, 0, 1])\n",
    "p1 = (p @ t)\n",
    "a = py3d.axis()\n",
    "a.xyz @= t\n",
    "py3d.label(\"P1\", p1.tolist())\n",
    "py3d.render(p1.as_point().paint(py3d.Color(r=1)), a)\n"
   ]
  },
  {
   "cell_type": "code",
   "execution_count": null,
   "metadata": {},
   "outputs": [],
   "source": [
    "p"
   ]
  },
  {
   "attachments": {},
   "cell_type": "markdown",
   "metadata": {},
   "source": [
    "#### Difference between extrinsic rotation and intrinsic rotation"
   ]
  },
  {
   "cell_type": "code",
   "execution_count": null,
   "metadata": {},
   "outputs": [],
   "source": [
    "import py3d\n",
    "e_car = py3d.car()\n",
    "e_car.color = py3d.Color(g=1)\n",
    "e_car.xyz @= py3d.Transform.from_euler(\"xyz\", [0.4, -0.2, 0])\n",
    "py3d.label(\"Extrincs\", [4, 1, 3], color=\"green\")\n",
    "i_car = py3d.car()\n",
    "i_car.color = py3d.Color(r=1)\n",
    "i_car.xyz @= py3d.Transform.from_euler(\"XYZ\", [0.4, -0.2, 0])\n",
    "py3d.label(\"Intrincs\", [4, -1, 2], color=\"red\")\n",
    "py3d.render(e_car, i_car)\n"
   ]
  },
  {
   "attachments": {},
   "cell_type": "markdown",
   "metadata": {},
   "source": [
    "#### RPY\n",
    "\n",
    "In **py3d**, rpy represents roll, pitch and yaw, it is kind of intrinsic rotation"
   ]
  },
  {
   "cell_type": "code",
   "execution_count": null,
   "metadata": {},
   "outputs": [],
   "source": [
    "import py3d, numpy\n",
    "data = py3d.read_img(\"20220917214012.jpg\")\n",
    "data.as_image() @ py3d.Transform.from_rpy(p=numpy.linspace(0, py3d.pi/3, 3)) @ py3d.Transform.from_translation(z=numpy.linspace(0, 300, 3))"
   ]
  },
  {
   "attachments": {},
   "cell_type": "markdown",
   "metadata": {},
   "source": [
    "### Axis angle"
   ]
  },
  {
   "attachments": {},
   "cell_type": "markdown",
   "metadata": {},
   "source": [
    "#### Axis angle rotation matrix"
   ]
  },
  {
   "cell_type": "code",
   "execution_count": null,
   "metadata": {},
   "outputs": [],
   "source": [
    "from sympy.vector import AxisOrienter, CoordSys3D\n",
    "import sympy\n",
    "x, y, z, theta = sympy.symbols(\"x y z theta\")\n",
    "N = CoordSys3D('N')\n",
    "expr = AxisOrienter(theta, x*N.i+y*N.j+z*N.k).rotation_matrix(N)\n",
    "expr.subs(x**2+y**2+z**2, 1)\n"
   ]
  },
  {
   "cell_type": "code",
   "execution_count": null,
   "metadata": {},
   "outputs": [],
   "source": [
    "import py3d\n",
    "py3d.Transform.from_axis_angle(axis=[[0, 0, 1], [0, 0, 1]], angle=[0.6, 1])\n"
   ]
  },
  {
   "attachments": {},
   "cell_type": "markdown",
   "metadata": {},
   "source": [
    "Order of rotation and translation"
   ]
  },
  {
   "cell_type": "code",
   "execution_count": null,
   "metadata": {},
   "outputs": [],
   "source": [
    "import sympy\n",
    "r = sympy.symbols(\"r:9\")\n",
    "dr = sympy.symbols(\"dr:9\")\n",
    "t = sympy.symbols(\"t:3\")\n",
    "R = sympy.Matrix([\n",
    "    [r[0], r[1], r[2], 0],\n",
    "    [r[3], r[4], r[5], 0],\n",
    "    [r[6], r[7], r[8], 0],\n",
    "    [0, 0, 0, 1]\n",
    "])\n",
    "T = sympy.Matrix([\n",
    "    [1, 0, 0, 0],\n",
    "    [0, 1, 0, 0],\n",
    "    [0, 0, 1, 0],\n",
    "    [t[0], t[1], t[2], 1]\n",
    "])\n",
    "R*T\n"
   ]
  },
  {
   "attachments": {},
   "cell_type": "markdown",
   "metadata": {},
   "source": [
    "Get rotation matrix from two vectors"
   ]
  },
  {
   "cell_type": "code",
   "execution_count": null,
   "metadata": {},
   "outputs": [],
   "source": [
    "import py3d\n",
    "py3d.Transform.from_two_vectors([1, 0, 0], [0, 0, 1]).as_rpy()\n"
   ]
  },
  {
   "attachments": {},
   "cell_type": "markdown",
   "metadata": {},
   "source": [
    "### Rotation Vector"
   ]
  },
  {
   "cell_type": "code",
   "execution_count": null,
   "metadata": {},
   "outputs": [],
   "source": [
    "import py3d\n",
    "r = py3d.Transform.from_rotation_vector([[1, 2, 3],[-1,0,7]])\n",
    "r\n"
   ]
  },
  {
   "cell_type": "code",
   "execution_count": null,
   "metadata": {},
   "outputs": [],
   "source": [
    "r.as_rotation_vector()"
   ]
  },
  {
   "cell_type": "code",
   "execution_count": null,
   "metadata": {},
   "outputs": [],
   "source": [
    "from scipy.spatial.transform import Rotation\n",
    "import numpy\n",
    "assert numpy.allclose(\n",
    "    r[..., :3, :3].T, Rotation.from_rotvec([[1, 2, 3],[-1,0,7]]).as_matrix())\n"
   ]
  },
  {
   "attachments": {},
   "cell_type": "markdown",
   "metadata": {},
   "source": [
    "### Quaternion\n",
    "\n",
    "In **py3d**, quaternion is in scalar-last format. Normaly, **Vector4** is used to represent it."
   ]
  },
  {
   "cell_type": "code",
   "execution_count": null,
   "metadata": {},
   "outputs": [],
   "source": [
    "import py3d\n",
    "py3d.Vector4(x=0, y=0, z=0, w=1)\n"
   ]
  },
  {
   "cell_type": "code",
   "execution_count": null,
   "metadata": {},
   "outputs": [],
   "source": [
    "import py3d\n",
    "py3d.Transform.from_quaternion([0, 0, 0, 1])\n"
   ]
  },
  {
   "attachments": {},
   "cell_type": "markdown",
   "metadata": {},
   "source": [
    "Get a quaternion from an axis angle pair, and get its rotation matrix"
   ]
  },
  {
   "cell_type": "code",
   "execution_count": null,
   "metadata": {},
   "outputs": [],
   "source": [
    "import py3d\n",
    "angle_axis = py3d.Vector4(x=1, y=1, z=1, w=py3d.pi/2)\n",
    "print(angle_axis)\n",
    "q = angle_axis.from_axis_angle_to_quaternion()\n",
    "print(q)\n",
    "py3d.Transform.from_quaternion(q)\n"
   ]
  },
  {
   "cell_type": "code",
   "execution_count": null,
   "metadata": {},
   "outputs": [],
   "source": [
    "import py3d\n",
    "q = [\n",
    "    [0, 0, 0, 1],\n",
    "    [0, 0, 1, 0],\n",
    "    [0, 1, 0, 0],\n",
    "    [1, 0, 0, 0]\n",
    "]\n",
    "py3d.Transform.from_quaternion(q)\n"
   ]
  },
  {
   "cell_type": "code",
   "execution_count": null,
   "metadata": {},
   "outputs": [],
   "source": [
    "from scipy.spatial.transform import Rotation\n",
    "import numpy\n",
    "assert numpy.allclose(_.as_quaternion(), q)\n",
    "assert numpy.allclose(_[..., 0:3, 0:3], Rotation.from_quat(q).as_matrix())\n"
   ]
  },
  {
   "attachments": {},
   "cell_type": "markdown",
   "metadata": {},
   "source": [
    "Convert quaternion to angle axis"
   ]
  },
  {
   "cell_type": "code",
   "execution_count": null,
   "metadata": {},
   "outputs": [],
   "source": [
    "import py3d\n",
    "quat = py3d.Transform.from_quaternion(\n",
    "    [0.18257419, 0.36514837, 0.54772256, 0.73029674])\n",
    "quat.as_axis_angle()\n"
   ]
  },
  {
   "cell_type": "code",
   "execution_count": null,
   "metadata": {},
   "outputs": [],
   "source": [
    "import numpy\n",
    "import py3d\n",
    "from scipy.spatial.transform import Rotation as R\n",
    "\n",
    "assert numpy.allclose(_, py3d.Vector4(\n",
    "    [0.18257419, 0.36514837, 0.54772256, 0.73029674]).from_quaternion_to_axis_angle())\n",
    "assert numpy.allclose([0.18257419, 0.36514837, 0.54772256, 0.73029674],\n",
    "                      py3d.Transform.from_axis_angle(_).as_quaternion())\n",
    "rv = py3d.Vector3(R.from_quat(\n",
    "    [0.18257419, 0.36514837, 0.54772256, 0.73029674]).as_rotvec())\n",
    "assert numpy.allclose(rv.L, _.w)\n",
    "assert numpy.allclose(rv.U, _.xyz)\n"
   ]
  },
  {
   "attachments": {},
   "cell_type": "markdown",
   "metadata": {},
   "source": [
    "### Convert RPY to quaternion\n",
    "\n",
    "Return quaternion with sequence \"xyzw\" "
   ]
  },
  {
   "cell_type": "code",
   "execution_count": null,
   "metadata": {},
   "outputs": [],
   "source": [
    "import py3d\n",
    "rpy = [\n",
    "    [0, 0, -py3d.pi],\n",
    "    [0, 0, -py3d.pi-0.01],\n",
    "    [0, 0, -py3d.pi/3],\n",
    "    [-1, 0, 0],\n",
    "    [-py3d.pi, 0, 1],\n",
    "    [0, -py3d.pi, 0]]\n",
    "py3d.Transform.from_rpy(rpy).as_quaternion()"
   ]
  },
  {
   "cell_type": "code",
   "execution_count": null,
   "metadata": {},
   "outputs": [],
   "source": [
    "import numpy\n",
    "from scipy.spatial.transform import Rotation\n",
    "q = Rotation.from_euler(\"xyz\", rpy).as_quat()\n",
    "equal = numpy.all(numpy.isclose(q, _), axis=1)\n",
    "opposite = numpy.all(numpy.isclose(-q, _), axis=1)\n",
    "assert numpy.all(equal | opposite)"
   ]
  },
  {
   "cell_type": "code",
   "execution_count": null,
   "metadata": {},
   "outputs": [],
   "source": [
    "import py3d\n",
    "# positions\n",
    "p = [[3.24544068, -1.4610586,  1.21331756],\n",
    "     [3.66378017, -1.32072563,  1.89712674],\n",
    "     [-5.0884622, -2.48626808,  1.68773464],\n",
    "     [-5.47338134, -2.65634697,  2.02463642],\n",
    "     [1.830746, -0.8155359,  1.90245186],\n",
    "     [-0.7094184, -0.84719837,  1.4467056],\n",
    "     [-1.72178753, -0.681502,  1.17706321],\n",
    "     [-3.88463547, -1.20610078,  1.14303617],\n",
    "     [-4.527405, -3.12150274,  0.94426914],\n",
    "     [4.13260871, -1.71061771,  1.49295544],\n",
    "     [3.25896384, -1.46451182,  0.9032174],\n",
    "     [-3.63891521, -1.03317465,  1.11405222]]\n",
    "# quaternions\n",
    "q = [[0.00307048, -0.27852711, -0.24115858,  0.92965357],\n",
    "     [0.00955487, -0.328664, -0.25972646,  0.90798174],\n",
    "     [0.05519327,  0.22308439,  0.22751421,  0.94626864],\n",
    "     [0.05064761,  0.24596963,  0.23314524,  0.93945572],\n",
    "     [-0.01006987, -0.17448035, -0.11591101,  0.97776267],\n",
    "     [0.01230182, -0.03710485,  0.00123949,  0.99923489],\n",
    "     [0.02991609,  0.0383105,  0.0729396,  0.99615117],\n",
    "     [0.05252438,  0.12527874,  0.1242716,  0.98290538],\n",
    "     [-0.09333274,  0.14651227,  0.2808575,  0.94389735],\n",
    "     [0.00967634, -0.29085732, -0.28211318,  0.91417752],\n",
    "     [0.00214324, -0.25691119, -0.23230781,  0.93809655],\n",
    "     [0.04813863,  0.1177435,  0.11584668,  0.98508816]]\n",
    "\n",
    "vertice = py3d.Vector3(\n",
    "    z=[0, 1]) @ py3d.Transform.from_quaternion(q) @ py3d.Transform.from_translation(p)\n",
    "directions = vertice.as_linesegment()\n",
    "directions.start.color = py3d.Color(b=1)\n",
    "directions.end.color = py3d.Color(r=1)\n",
    "py3d.render(directions)\n"
   ]
  },
  {
   "attachments": {},
   "cell_type": "markdown",
   "metadata": {},
   "source": [
    "[↑Top](#Rotation)\n",
    "\n",
    "[←Transform](Transform.html)\n",
    "\n",
    "[←Home](index.html) "
   ]
  },
  {
   "attachments": {},
   "cell_type": "markdown",
   "metadata": {},
   "source": []
  }
 ],
 "metadata": {
  "kernelspec": {
   "display_name": ".venv",
   "language": "python",
   "name": "python3"
  },
  "language_info": {
   "codemirror_mode": {
    "name": "ipython",
    "version": 3
   },
   "file_extension": ".py",
   "mimetype": "text/x-python",
   "name": "python",
   "nbconvert_exporter": "python",
   "pygments_lexer": "ipython3",
   "version": "3.12.3"
  }
 },
 "nbformat": 4,
 "nbformat_minor": 2
}
