{
 "cells": [
  {
   "attachments": {},
   "cell_type": "markdown",
   "metadata": {},
   "source": [
    "<script>\n",
    "var _hmt = _hmt || [];\n",
    "(function() {\n",
    "  var hm = document.createElement(\"script\");\n",
    "  hm.src = \"https://hm.baidu.com/hm.js?0291ba8a5cbc7c797c391588a1a28393\";\n",
    "  var s = document.getElementsByTagName(\"script\")[0]; \n",
    "  s.parentNode.insertBefore(hm, s);\n",
    "})();\n",
    "</script>"
   ]
  },
  {
   "attachments": {},
   "cell_type": "markdown",
   "metadata": {},
   "source": [
    "# PY3D - 3D data analysis toolkit\n",
    "[Code](https://github.com/Tumiz/py3d) | [Docs](https://tumiz.github.io/py3d)\n",
    "\n",
    "## What is it?\n",
    "\n",
    "**py3d** is a pure and lightweight Python library dedicated to 3D data structures and functions. It enables batch processing of 3D points, lines, planes, and 3D meshes. Moreover, it provides interactive visualization capabilities for these elements. It is advisable to use it in Jupyter for visualization purposes.\n",
    "\n",
    "## Main features\n",
    "\n",
    "* Supports the reading, writing, and visualization of multiple 3D data formats such as the popular PLY, NPY, CSV, PCD, and OBJ. [Demos](https://tumiz.github.io/py3d/IO.html)\n",
    "* Perform rotation, translation, and scaling operations on 3D geometries. [Demos](https://tumiz.github.io/py3d/Transform.html)\n",
    "* Conversion among diverse rotation representations, [Demos](https://tumiz.github.io/py3d/Rotation.html) \n",
    "    * Rotation matrix\n",
    "    * Angle - axis\n",
    "    * Quaternion\n",
    "    * Euler angle\n",
    "    * Rotation vector\n",
    "\n",
    "## How to install it?\n",
    "```\n",
    "pip install py3d\n",
    "```"
   ]
  },
  {
   "attachments": {},
   "cell_type": "markdown",
   "metadata": {},
   "source": [
    "## How to use it?"
   ]
  },
  {
   "cell_type": "markdown",
   "metadata": {},
   "source": [
    "Here are some small examples:\n",
    "\n",
    "1. Visualize a pcd file in jupyter"
   ]
  },
  {
   "cell_type": "code",
   "execution_count": null,
   "metadata": {},
   "outputs": [],
   "source": [
    "import py3d\n",
    "pcd = py3d.read_pcd(\"binary.pcd\")\n",
    "print(\"min\", pcd.min())\n",
    "print(\"max\", pcd.max())\n",
    "pcd.xyz.as_point(colormap=pcd.w)"
   ]
  },
  {
   "attachments": {},
   "cell_type": "markdown",
   "metadata": {},
   "source": [
    "2. Visualize an image in jupyter"
   ]
  },
  {
   "cell_type": "code",
   "execution_count": null,
   "metadata": {},
   "outputs": [],
   "source": [
    "import py3d\n",
    "py3d.read_img(\"./20220917214012.jpg\").as_image()"
   ]
  },
  {
   "cell_type": "markdown",
   "metadata": {},
   "source": [
    "3. Convert euler angles to rotation matrix "
   ]
  },
  {
   "cell_type": "code",
   "execution_count": null,
   "metadata": {},
   "outputs": [],
   "source": [
    "import py3d\n",
    "py3d.Transform.from_euler(\"xyz\", [0.4, -0.2, 0])"
   ]
  },
  {
   "attachments": {},
   "cell_type": "markdown",
   "metadata": {},
   "source": [
    "## API reference\n",
    "\n",
    "[Vector](https://tumiz.github.io/py3d/Vector.html)\n",
    "[Vector3](https://tumiz.github.io/py3d/Vector3.html)\n",
    "[Vector4](https://tumiz.github.io/py3d/Vector4.html)\n",
    "[Transform](https://tumiz.github.io/py3d/Transform.html)\n",
    "[Rotation](https://tumiz.github.io/py3d/Rotation.html)\n",
    "[Color](https://tumiz.github.io/py3d/Color.html)\n",
    "[IO](https://tumiz.github.io/py3d/IO.html)"
   ]
  },
  {
   "attachments": {},
   "cell_type": "markdown",
   "metadata": {},
   "source": [
    "[Top](#py3d)"
   ]
  },
  {
   "attachments": {},
   "cell_type": "markdown",
   "metadata": {},
   "source": []
  }
 ],
 "metadata": {
  "kernelspec": {
   "display_name": ".venv",
   "language": "python",
   "name": "python3"
  },
  "language_info": {
   "codemirror_mode": {
    "name": "ipython",
    "version": 3
   },
   "file_extension": ".py",
   "mimetype": "text/x-python",
   "name": "python",
   "nbconvert_exporter": "python",
   "pygments_lexer": "ipython3",
   "version": "3.12.3"
  }
 },
 "nbformat": 4,
 "nbformat_minor": 4
}
