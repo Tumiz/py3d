{
 "cells": [
  {
   "cell_type": "markdown",
   "metadata": {},
   "source": [
    "# Color \n",
    "\n",
    "**Color** is a series of vectors describe colors of vertices"
   ]
  },
  {
   "cell_type": "code",
   "execution_count": null,
   "metadata": {},
   "outputs": [],
   "source": [
    "from py3d import Color\n",
    "Color.Rand()"
   ]
  },
  {
   "cell_type": "code",
   "execution_count": null,
   "metadata": {},
   "outputs": [],
   "source": [
    "assert _.n==()"
   ]
  },
  {
   "cell_type": "code",
   "execution_count": null,
   "metadata": {},
   "outputs": [],
   "source": [
    "import numpy\n",
    "Color.Rand(3,1)"
   ]
  },
  {
   "cell_type": "code",
   "execution_count": null,
   "metadata": {},
   "outputs": [],
   "source": [
    "from py3d import Color\n",
    "assert Color.BASE_SHAPE == (4,)\n",
    "assert Color.Rand().shape == (4,)\n",
    "assert Color.Rand(1).shape == (1, 4)\n",
    "assert Color.Rand(2).shape == (2, 4)\n",
    "assert Color.Rand().n == ()\n",
    "assert Color.Rand(1).n == (1,)\n",
    "assert Color.Rand(2, 3).n == (2, 3)\n",
    "assert (Color(r=1) == [1, 0, 0, 1]).all()\n",
    "assert Color(r=[1, 0.5]).n == (2,)"
   ]
  }
 ],
 "metadata": {
  "kernelspec": {
   "display_name": "Python 3.8.3 ('base')",
   "language": "python",
   "name": "python3"
  },
  "language_info": {
   "codemirror_mode": {
    "name": "ipython",
    "version": 3
   },
   "file_extension": ".py",
   "mimetype": "text/x-python",
   "name": "python",
   "nbconvert_exporter": "python",
   "pygments_lexer": "ipython3",
   "version": "3.10.6"
  },
  "orig_nbformat": 4,
  "vscode": {
   "interpreter": {
    "hash": "6aa3b417f6031089fe78d3bd6c6859fc6570bbd00574f35191098c43dfcf5211"
   }
  }
 },
 "nbformat": 4,
 "nbformat_minor": 2
}
