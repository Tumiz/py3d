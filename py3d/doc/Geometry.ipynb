{
 "cells": [
  {
   "cell_type": "code",
   "execution_count": null,
   "metadata": {},
   "outputs": [],
   "source": [
    "from py3d import Geometry\n",
    "assert type(Geometry.Rand()) == Geometry\n",
    "assert Geometry.Rand().shape == (7,)\n",
    "assert Geometry.Rand(1).shape == (1, 7)\n",
    "assert Geometry.Rand(2, 3).n == (2, 3)\n"
   ]
  }
 ],
 "metadata": {
  "kernelspec": {
   "display_name": "Python 3.8.3 ('base')",
   "language": "python",
   "name": "python3"
  },
  "language_info": {
   "name": "python",
   "version": "3.8.3"
  },
  "orig_nbformat": 4,
  "vscode": {
   "interpreter": {
    "hash": "6aa3b417f6031089fe78d3bd6c6859fc6570bbd00574f35191098c43dfcf5211"
   }
  }
 },
 "nbformat": 4,
 "nbformat_minor": 2
}
