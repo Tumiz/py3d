{
 "cells": [
  {
   "cell_type": "code",
   "execution_count": 3,
   "metadata": {},
   "outputs": [
    {
     "name": "stdout",
     "output_type": "stream",
     "text": [
      "click http://localhost:8000/view/8bd5c944-6402-11ec-8a84-f32e24d851fe to view in browser\n",
      "click http://localhost:8000/view/139828081696720 to view in browser\n"
     ]
    },
    {
     "data": {
      "text/html": [
       "\n",
       "        <iframe\n",
       "            width=\"100%\"\n",
       "            height=\"600px\"\n",
       "            src=\"http://localhost:8000/view/139828081696720\"\n",
       "            frameborder=\"0\"\n",
       "            allowfullscreen\n",
       "            \n",
       "        ></iframe>\n",
       "        "
      ],
      "text/plain": [
       "<IPython.lib.display.IFrame at 0x7f2c3b047e50>"
      ]
     },
     "metadata": {},
     "output_type": "display_data"
    }
   ],
   "source": [
    "from py3d import Plane,Vector3\n",
    "planes=Plane(position=Vector3(x=(1,2,3)),normal=Vector3(x=1,z=1))\n",
    "planes.as_mesh().render()"
   ]
  },
  {
   "cell_type": "code",
   "execution_count": 4,
   "metadata": {},
   "outputs": [
    {
     "data": {
      "text/plain": [
       "Vector3([[0.62916248, 0.88058694, 0.75936034],\n",
       "         [0.31504687, 0.98948658, 0.8836925 ]])"
      ]
     },
     "execution_count": 4,
     "metadata": {},
     "output_type": "execute_result"
    }
   ],
   "source": [
    "from py3d import Vector3\n",
    "Vector3.Rand(10)[[1,2],[2,3]]"
   ]
  },
  {
   "cell_type": "code",
   "execution_count": 1,
   "metadata": {},
   "outputs": [
    {
     "ename": "ValueError",
     "evalue": "operands could not be broadcast together with remapped shapes [original->remapped]: (2,3,3,4)->(2,3,newaxis,newaxis) (2,4,4)->(2,newaxis,newaxis) and requested shape (3,4)",
     "output_type": "error",
     "traceback": [
      "\u001b[0;31m---------------------------------------------------------------------------\u001b[0m",
      "\u001b[0;31mValueError\u001b[0m                                Traceback (most recent call last)",
      "\u001b[0;32m<ipython-input-1-fcbec8452730>\u001b[0m in \u001b[0;36m<module>\u001b[0;34m\u001b[0m\n\u001b[1;32m      1\u001b[0m \u001b[0;32mfrom\u001b[0m \u001b[0mpy3d\u001b[0m \u001b[0;32mimport\u001b[0m \u001b[0mVector3\u001b[0m\u001b[0;34m,\u001b[0m\u001b[0mTransform\u001b[0m\u001b[0;34m\u001b[0m\u001b[0;34m\u001b[0m\u001b[0m\n\u001b[0;32m----> 2\u001b[0;31m \u001b[0mVector3\u001b[0m\u001b[0;34m.\u001b[0m\u001b[0mRand\u001b[0m\u001b[0;34m(\u001b[0m\u001b[0;36m2\u001b[0m\u001b[0;34m,\u001b[0m\u001b[0;36m3\u001b[0m\u001b[0;34m,\u001b[0m\u001b[0;36m3\u001b[0m\u001b[0;34m)\u001b[0m\u001b[0;34m.\u001b[0m\u001b[0mH\u001b[0m\u001b[0;34m@\u001b[0m\u001b[0mTransform\u001b[0m\u001b[0;34m(\u001b[0m\u001b[0;36m2\u001b[0m\u001b[0;34m)\u001b[0m\u001b[0;34m\u001b[0m\u001b[0;34m\u001b[0m\u001b[0m\n\u001b[0m",
      "\u001b[0;31mValueError\u001b[0m: operands could not be broadcast together with remapped shapes [original->remapped]: (2,3,3,4)->(2,3,newaxis,newaxis) (2,4,4)->(2,newaxis,newaxis) and requested shape (3,4)"
     ]
    }
   ],
   "source": [
    "from py3d import Vector3,Transform\n",
    "Vector3.Rand(2,3,3).H@Transform(2)"
   ]
  },
  {
   "cell_type": "code",
   "execution_count": 10,
   "metadata": {},
   "outputs": [
    {
     "data": {
      "text/plain": [
       "Vector3([[[[0.81604565, 0.0600784 , 0.83084805, 1.        ],\n",
       "           [0.82046912, 0.92447622, 0.52148769, 1.        ],\n",
       "           [0.2733405 , 0.98293069, 0.78694605, 1.        ]],\n",
       "\n",
       "          [[0.09391557, 0.95501734, 0.5208866 , 1.        ],\n",
       "           [0.17834463, 0.33810979, 0.13540062, 1.        ],\n",
       "           [0.73698778, 0.4579229 , 0.23495881, 1.        ]],\n",
       "\n",
       "          [[0.4996923 , 0.75899266, 0.85567936, 1.        ],\n",
       "           [0.61225084, 0.14774075, 0.74885988, 1.        ],\n",
       "           [0.19164458, 0.52426107, 0.71393375, 1.        ]]],\n",
       "\n",
       "\n",
       "         [[[0.19143557, 0.78221582, 0.29636422, 1.        ],\n",
       "           [0.56395695, 0.11085027, 0.65258103, 1.        ],\n",
       "           [0.78567308, 0.63033612, 0.58480788, 1.        ]],\n",
       "\n",
       "          [[0.04963674, 0.95109223, 0.62886083, 1.        ],\n",
       "           [0.71663119, 0.72071711, 0.13336484, 1.        ],\n",
       "           [0.98374343, 0.11841087, 0.50571638, 1.        ]],\n",
       "\n",
       "          [[0.13009299, 0.23445919, 0.86406821, 1.        ],\n",
       "           [0.193217  , 0.63269495, 0.8347806 , 1.        ],\n",
       "           [0.69601113, 0.24335474, 0.66465012, 1.        ]]]])"
      ]
     },
     "execution_count": 10,
     "metadata": {},
     "output_type": "execute_result"
    }
   ],
   "source": [
    "Vector3.Rand(2,3,3).H@Transform(2,3)"
   ]
  },
  {
   "cell_type": "code",
   "execution_count": 3,
   "metadata": {},
   "outputs": [
    {
     "ename": "TypeError",
     "evalue": "can only concatenate tuple (not \"int\") to tuple",
     "output_type": "error",
     "traceback": [
      "\u001b[0;31m---------------------------------------------------------------------------\u001b[0m",
      "\u001b[0;31mTypeError\u001b[0m                                 Traceback (most recent call last)",
      "\u001b[0;32m<ipython-input-3-768a328ca02e>\u001b[0m in \u001b[0;36m<module>\u001b[0;34m\u001b[0m\n\u001b[0;32m----> 1\u001b[0;31m \u001b[0;34m(\u001b[0m\u001b[0;36m1\u001b[0m\u001b[0;34m,\u001b[0m\u001b[0;36m2\u001b[0m\u001b[0;34m)\u001b[0m\u001b[0;34m+\u001b[0m\u001b[0;36m5\u001b[0m\u001b[0;34m\u001b[0m\u001b[0;34m\u001b[0m\u001b[0m\n\u001b[0m",
      "\u001b[0;31mTypeError\u001b[0m: can only concatenate tuple (not \"int\") to tuple"
     ]
    }
   ],
   "source": [
    "(1,2)+5"
   ]
  },
  {
   "cell_type": "code",
   "execution_count": 7,
   "metadata": {},
   "outputs": [
    {
     "data": {
      "text/plain": [
       "Vector3([[[0., 0., 0.]],\n",
       "\n",
       "         [[0., 0., 0.]],\n",
       "\n",
       "         [[0., 0., 0.]]])"
      ]
     },
     "execution_count": 7,
     "metadata": {},
     "output_type": "execute_result"
    }
   ],
   "source": [
    "Vector3(n=(3,1))"
   ]
  },
  {
   "cell_type": "code",
   "execution_count": null,
   "metadata": {},
   "outputs": [],
   "source": []
  }
 ],
 "metadata": {
  "kernelspec": {
   "display_name": "Python 3",
   "language": "python",
   "name": "python3"
  },
  "language_info": {
   "codemirror_mode": {
    "name": "ipython",
    "version": 3
   },
   "file_extension": ".py",
   "mimetype": "text/x-python",
   "name": "python",
   "nbconvert_exporter": "python",
   "pygments_lexer": "ipython3",
   "version": "3.8.3"
  }
 },
 "nbformat": 4,
 "nbformat_minor": 4
}
