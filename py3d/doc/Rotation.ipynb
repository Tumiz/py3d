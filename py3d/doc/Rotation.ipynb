{
 "cells": [
  {
   "cell_type": "markdown",
   "metadata": {},
   "source": [
    "<script>\n",
    "var _hmt = _hmt || [];\n",
    "(function() {\n",
    "  var hm = document.createElement(\"script\");\n",
    "  hm.src = \"https://hm.baidu.com/hm.js?444208f50ebba09f31033fb98c3497b3\";\n",
    "  var s = document.getElementsByTagName(\"script\")[0]; \n",
    "  s.parentNode.insertBefore(hm, s);\n",
    "})();\n",
    "</script>"
   ]
  },
  {
   "cell_type": "markdown",
   "metadata": {},
   "source": [
    "# Rotation"
   ]
  },
  {
   "cell_type": "markdown",
   "metadata": {},
   "source": [
    "### Euler angles"
   ]
  },
  {
   "cell_type": "markdown",
   "metadata": {},
   "source": [
    "#### Extrinsic Rotation"
   ]
  },
  {
   "cell_type": "markdown",
   "metadata": {},
   "source": [
    "Right multiply matrix"
   ]
  },
  {
   "cell_type": "code",
   "execution_count": null,
   "metadata": {},
   "outputs": [],
   "source": [
    "import sympy\n",
    "from sympy.vector import AxisOrienter, CoordSys3D\n",
    "x,y,theta = sympy.symbols(\"x y theta\")\n",
    "N = CoordSys3D(\"N\")\n",
    "M = AxisOrienter(theta, N.k).rotation_matrix(N)\n",
    "M"
   ]
  },
  {
   "cell_type": "code",
   "execution_count": null,
   "metadata": {},
   "outputs": [],
   "source": [
    "M.inv()"
   ]
  },
  {
   "cell_type": "code",
   "execution_count": null,
   "metadata": {},
   "outputs": [],
   "source": [
    "v = sympy.Matrix([x,y,0]).T * M.subs(theta, sympy.pi/2)\n",
    "v"
   ]
  },
  {
   "cell_type": "code",
   "execution_count": null,
   "metadata": {},
   "outputs": [],
   "source": [
    "import py3d\n",
    "py3d.Transform.from_euler(\"xyz\", [0.4, -0.2, 0])\n"
   ]
  },
  {
   "cell_type": "markdown",
   "metadata": {},
   "source": [
    "#### Intrinsic Rotation"
   ]
  },
  {
   "cell_type": "code",
   "execution_count": null,
   "metadata": {},
   "outputs": [],
   "source": [
    "import py3d\n",
    "py3d.Transform.from_euler(\"XYZ\", [0.4, -0.2, 0])\n"
   ]
  },
  {
   "cell_type": "code",
   "execution_count": null,
   "metadata": {},
   "outputs": [],
   "source": [
    "import py3d\n",
    "py3d.Transform.from_rpy([1.3,1.0,0]) @ py3d.Transform.from_rpy([0.9,.0,0])"
   ]
  },
  {
   "cell_type": "code",
   "execution_count": null,
   "metadata": {},
   "outputs": [],
   "source": [
    "import numpy\n",
    "assert numpy.allclose(_, py3d.Transform.from_rpy([2.2,1.0,0]))"
   ]
  },
  {
   "cell_type": "markdown",
   "metadata": {},
   "source": [
    "Apply a intrinsic rotation to a point"
   ]
  },
  {
   "cell_type": "code",
   "execution_count": null,
   "metadata": {},
   "outputs": [],
   "source": [
    "import py3d\n",
    "v=py3d.Viewer()\n",
    "p=py3d.Vector3([1,3,4])\n",
    "v.label(\"P\",p.tolist())\n",
    "v.render(p.as_point(py3d.Color(g=1)),py3d.Utils.Grid())\n",
    "t = py3d.Transform.from_euler(\"XYZ\", [0,0,1])\n",
    "p1 = p @ t\n",
    "a = py3d.Utils.Axis()\n",
    "a.vertex @= t\n",
    "v.label(\"P1\",p1.tolist())\n",
    "v.render(p1.as_point(py3d.Color(r=1)), a)\n",
    "v.show()"
   ]
  },
  {
   "cell_type": "markdown",
   "metadata": {},
   "source": [
    "#### Difference between extrinsic rotation and intrinsic rotation"
   ]
  },
  {
   "cell_type": "code",
   "execution_count": null,
   "metadata": {},
   "outputs": [],
   "source": [
    "import py3d\n",
    "v = py3d.Viewer()\n",
    "e_car = py3d.Utils.Car()\n",
    "e_car.color = py3d.Color(g=1)\n",
    "e_car.vertex @= py3d.Transform.from_euler(\"xyz\", [0.4, -0.2, 0])\n",
    "v.label(\"Extrincs\", [4,1,3], color=\"green\")\n",
    "i_car = py3d.Utils.Car()\n",
    "i_car.color = py3d.Color(r=1)\n",
    "i_car.vertex @= py3d.Transform.from_euler(\"XYZ\", [0.4, -0.2, 0])\n",
    "v.label(\"Intrincs\", [4,-1,3], color=\"red\")\n",
    "v.render(e_car, i_car, py3d.Utils.Grid())\n",
    "v.show()\n"
   ]
  },
  {
   "cell_type": "markdown",
   "metadata": {},
   "source": [
    "#### RPY\n",
    "\n",
    "In **py3d**, rpy represents roll, pitch and yaw, it is kind of intrinsic rotation"
   ]
  },
  {
   "cell_type": "code",
   "execution_count": null,
   "metadata": {},
   "outputs": [],
   "source": [
    "from PIL import Image\n",
    "import numpy\n",
    "import py3d\n",
    "img = numpy.array(Image.open(\"py3d/doc/20220917214012.jpg\"))\n",
    "hw = img.shape[0]//2\n",
    "hh = img.shape[1]//2\n",
    "point = py3d.Vector3.grid(range(-hw, hw), range(-hh, hh))[::3, ::3]*0.01\n",
    "point = point.as_point()\n",
    "point.color = py3d.Vector3(img/255).H[::3, ::3]\n",
    "point.vertex @= py3d.Transform.from_rpy([0, 0, -py3d.pi/2])\n",
    "point.render()\n"
   ]
  },
  {
   "cell_type": "markdown",
   "metadata": {},
   "source": [
    "### Axis angle"
   ]
  },
  {
   "cell_type": "markdown",
   "metadata": {},
   "source": [
    "#### Axis angle rotation matrix"
   ]
  },
  {
   "cell_type": "code",
   "execution_count": null,
   "metadata": {},
   "outputs": [],
   "source": [
    "import sympy\n",
    "x,y,z,theta=sympy.symbols(\"x y z theta\")\n",
    "from sympy.vector import AxisOrienter, CoordSys3D\n",
    "N=CoordSys3D('N')\n",
    "expr=AxisOrienter(theta,x*N.i+y*N.j+z*N.k).rotation_matrix(N)\n",
    "expr.subs(x**2+y**2+z**2,1)"
   ]
  },
  {
   "cell_type": "markdown",
   "metadata": {},
   "source": [
    "### Axis angles"
   ]
  },
  {
   "cell_type": "code",
   "execution_count": null,
   "metadata": {},
   "outputs": [],
   "source": [
    "import py3d\n",
    "py3d.Transform.from_angle_axis([2, 1], [0, 1, 0])\n"
   ]
  },
  {
   "cell_type": "markdown",
   "metadata": {},
   "source": [
    "Order of rotation and translation"
   ]
  },
  {
   "cell_type": "code",
   "execution_count": null,
   "metadata": {},
   "outputs": [],
   "source": [
    "import sympy\n",
    "r=sympy.symbols(\"r:9\")\n",
    "dr=sympy.symbols(\"dr:9\")\n",
    "t=sympy.symbols(\"t:3\")\n",
    "R=sympy.Matrix([\n",
    "    [r[0],r[1],r[2],0],\n",
    "    [r[3],r[4],r[5],0],\n",
    "    [r[6],r[7],r[8],0],\n",
    "    [0,0,0,1]\n",
    "])\n",
    "T=sympy.Matrix([\n",
    "    [1,0,0,0],\n",
    "    [0,1,0,0],\n",
    "    [0,0,1,0],\n",
    "    [t[0],t[1],t[2],1]\n",
    "])\n",
    "R*T"
   ]
  },
  {
   "cell_type": "markdown",
   "metadata": {},
   "source": [
    "### Quaternion\n",
    "\n",
    "In **py3d**, quaternion is in scalar-last format"
   ]
  },
  {
   "cell_type": "code",
   "execution_count": null,
   "metadata": {},
   "outputs": [],
   "source": [
    "import py3d\n",
    "q = [\n",
    "    [0, 0, 0, 1],\n",
    "    [0, 0, 1, 0],\n",
    "    [0, 1, 0, 0],\n",
    "    [1, 0, 0, 0]\n",
    "]\n",
    "py3d.Transform.from_quaternion(q)\n"
   ]
  },
  {
   "cell_type": "code",
   "execution_count": null,
   "metadata": {},
   "outputs": [],
   "source": [
    "from scipy.spatial.transform import Rotation\n",
    "import numpy\n",
    "assert numpy.allclose(_.as_quaternion(), q)\n",
    "assert numpy.allclose(_[..., 0:3, 0:3], Rotation.from_quat(q).as_matrix())\n"
   ]
  },
  {
   "cell_type": "code",
   "execution_count": null,
   "metadata": {},
   "outputs": [],
   "source": [
    "import py3d\n",
    "py3d.Vector4(q).as_transform()\n"
   ]
  },
  {
   "cell_type": "code",
   "execution_count": null,
   "metadata": {},
   "outputs": [],
   "source": [
    "from scipy.spatial.transform import Rotation\n",
    "import numpy\n",
    "assert numpy.allclose(_.as_quaternion(), q)\n",
    "assert numpy.allclose(_[..., 0:3, 0:3], Rotation.from_quat(q).as_matrix())\n"
   ]
  },
  {
   "cell_type": "markdown",
   "metadata": {},
   "source": [
    "Convert quaternion to angle axis"
   ]
  },
  {
   "cell_type": "code",
   "execution_count": null,
   "metadata": {},
   "outputs": [],
   "source": [
    "import py3d\n",
    "quat=py3d.Transform.from_quaternion([0.18257419, 0.36514837, 0.54772256, 0.73029674])\n",
    "angle,axis=quat.as_angle_axis()\n",
    "print(angle, axis)"
   ]
  },
  {
   "cell_type": "code",
   "execution_count": null,
   "metadata": {},
   "outputs": [],
   "source": [
    "py3d.Transform.from_angle_axis(angle,axis).as_quaternion()"
   ]
  },
  {
   "cell_type": "code",
   "execution_count": null,
   "metadata": {},
   "outputs": [],
   "source": [
    "from scipy.spatial.transform import Rotation as R\n",
    "import numpy\n",
    "rv=R.from_quat([0.18257419, 0.36514837, 0.54772256, 0.73029674]).as_rotvec()\n",
    "prv = py3d.Vector3(rv)\n",
    "assert numpy.allclose(angle, prv.L)\n",
    "assert numpy.allclose(axis, prv.U)"
   ]
  },
  {
   "cell_type": "markdown",
   "metadata": {},
   "source": [
    "### Convert RPY to quaternion\n",
    "\n",
    "Return quaternion with sequence \"xyzw\" "
   ]
  },
  {
   "cell_type": "code",
   "execution_count": null,
   "metadata": {},
   "outputs": [],
   "source": [
    "import py3d\n",
    "rpy = [\n",
    "    [0, 0, -py3d.pi],\n",
    "    [0, 0, -py3d.pi-0.01],\n",
    "    [0, 0, -py3d.pi/3],\n",
    "    [-1, 0, 0],\n",
    "    [-py3d.pi, 0, 1],\n",
    "    [0, -py3d.pi, 0]]\n",
    "py3d.Transform.from_rpy(rpy).as_quaternion()\n"
   ]
  },
  {
   "cell_type": "code",
   "execution_count": null,
   "metadata": {},
   "outputs": [],
   "source": [
    "import numpy\n",
    "from scipy.spatial.transform import Rotation\n",
    "q = Rotation.from_euler(\"XYZ\", rpy).as_quat()\n",
    "equal = numpy.all(numpy.isclose(q, _), axis=1)\n",
    "opposite = numpy.all(numpy.isclose(-q, _), axis=1)\n",
    "assert numpy.all(equal | opposite)\n"
   ]
  },
  {
   "cell_type": "code",
   "execution_count": null,
   "metadata": {},
   "outputs": [],
   "source": [
    "import py3d\n",
    "# positions\n",
    "p = [[3.24544068, -1.4610586,  1.21331756],\n",
    "     [3.66378017, -1.32072563,  1.89712674],\n",
    "     [-5.0884622, -2.48626808,  1.68773464],\n",
    "     [-5.47338134, -2.65634697,  2.02463642],\n",
    "     [1.830746, -0.8155359,  1.90245186],\n",
    "     [-0.7094184, -0.84719837,  1.4467056],\n",
    "     [-1.72178753, -0.681502,  1.17706321],\n",
    "     [-3.88463547, -1.20610078,  1.14303617],\n",
    "     [-4.527405, -3.12150274,  0.94426914],\n",
    "     [4.13260871, -1.71061771,  1.49295544],\n",
    "     [3.25896384, -1.46451182,  0.9032174],\n",
    "     [-3.63891521, -1.03317465,  1.11405222]]\n",
    "# quaternions\n",
    "q = [[0.00307048, -0.27852711, -0.24115858,  0.92965357],\n",
    "     [0.00955487, -0.328664, -0.25972646,  0.90798174],\n",
    "     [0.05519327,  0.22308439,  0.22751421,  0.94626864],\n",
    "     [0.05064761,  0.24596963,  0.23314524,  0.93945572],\n",
    "     [-0.01006987, -0.17448035, -0.11591101,  0.97776267],\n",
    "     [0.01230182, -0.03710485,  0.00123949,  0.99923489],\n",
    "     [0.02991609,  0.0383105,  0.0729396,  0.99615117],\n",
    "     [0.05252438,  0.12527874,  0.1242716,  0.98290538],\n",
    "     [-0.09333274,  0.14651227,  0.2808575,  0.94389735],\n",
    "     [0.00967634, -0.29085732, -0.28211318,  0.91417752],\n",
    "     [0.00214324, -0.25691119, -0.23230781,  0.93809655],\n",
    "     [0.04813863,  0.1177435,  0.11584668,  0.98508816]]\n",
    "\n",
    "vertice = py3d.Vector3(z=[0, 1]) @ py3d.Transform.from_quaternion(q) @ py3d.Transform.from_translation(p)\n",
    "directions = vertice.as_linesegment()\n",
    "directions.start.color = py3d.Color(b=1)\n",
    "directions.end.color = py3d.Color(r=1)\n",
    "v = py3d.Viewer()\n",
    "v.render(directions, py3d.Utils.Grid())\n",
    "v.show()\n"
   ]
  },
  {
   "cell_type": "markdown",
   "metadata": {},
   "source": [
    "[↑Top](#Rotation)\n",
    "\n",
    "[←Transform](Transform.html)\n",
    "\n",
    "[←Home](index.html) "
   ]
  },
  {
   "cell_type": "markdown",
   "metadata": {},
   "source": []
  }
 ],
 "metadata": {
  "kernelspec": {
   "display_name": "Python 3.10.6 64-bit",
   "language": "python",
   "name": "python3"
  },
  "language_info": {
   "codemirror_mode": {
    "name": "ipython",
    "version": 3
   },
   "file_extension": ".py",
   "mimetype": "text/x-python",
   "name": "python",
   "nbconvert_exporter": "python",
   "pygments_lexer": "ipython3",
   "version": "3.10.6"
  },
  "orig_nbformat": 4,
  "vscode": {
   "interpreter": {
    "hash": "916dbcbb3f70747c44a77c7bcd40155683ae19c65e1c03b4aa3499c5328201f1"
   }
  }
 },
 "nbformat": 4,
 "nbformat_minor": 2
}
