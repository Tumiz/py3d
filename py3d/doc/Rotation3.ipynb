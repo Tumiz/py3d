{
 "cells": [
  {
   "cell_type": "code",
   "execution_count": 1,
   "metadata": {},
   "outputs": [],
   "source": [
    "from py3d import Vector3,Rotation3\n",
    "from numpy import pi\n",
    "a=Vector3(1,0,0)"
   ]
  },
  {
   "cell_type": "code",
   "execution_count": 2,
   "metadata": {},
   "outputs": [
    {
     "data": {
      "text/plain": [
       "Vector3([[6.123234e-17, 1.000000e+00, 0.000000e+00]])"
      ]
     },
     "execution_count": 2,
     "metadata": {},
     "output_type": "execute_result"
    }
   ],
   "source": [
    "a.dot(Rotation3.Rz(pi/2))"
   ]
  },
  {
   "cell_type": "code",
   "execution_count": 3,
   "metadata": {},
   "outputs": [
    {
     "data": {
      "text/plain": [
       "Vector3([[3.74939946e-33, 0.00000000e+00, 1.00000000e+00]])"
      ]
     },
     "execution_count": 3,
     "metadata": {},
     "output_type": "execute_result"
    }
   ],
   "source": [
    "a.dot(Rotation3.EularIntrinsic(pi/2,pi/2,pi/2))"
   ]
  },
  {
   "cell_type": "code",
   "execution_count": 4,
   "metadata": {},
   "outputs": [
    {
     "data": {
      "text/plain": [
       "Vector3([[6.123234e-17, 1.000000e+00, 0.000000e+00]])"
      ]
     },
     "execution_count": 4,
     "metadata": {},
     "output_type": "execute_result"
    }
   ],
   "source": [
    "from py3d import Vector3,Rotation3\n",
    "from numpy import pi\n",
    "b=Vector3(y=1)\n",
    "b.dot(Rotation3.EularIntrinsic(pi/2,pi/2,pi/2))"
   ]
  },
  {
   "cell_type": "code",
   "execution_count": 5,
   "metadata": {},
   "outputs": [
    {
     "data": {
      "text/plain": [
       "Vector3([[-1.00000000e+00,  6.12323400e-17,  3.74939946e-33]])"
      ]
     },
     "execution_count": 5,
     "metadata": {},
     "output_type": "execute_result"
    }
   ],
   "source": [
    "from py3d import Vector3,Rotation3\n",
    "from numpy import pi\n",
    "c=Vector3(z=1)\n",
    "c.dot(Rotation3.EularIntrinsic(pi/2,pi/2,pi/2))"
   ]
  },
  {
   "cell_type": "code",
   "execution_count": 6,
   "metadata": {},
   "outputs": [
    {
     "name": "stdout",
     "output_type": "stream",
     "text": [
      "[[ 3.74939946e-33  6.12323400e-17 -1.00000000e+00]]\n",
      "[[0.000000e+00 1.000000e+00 6.123234e-17]]\n",
      "[[1.00000000e+00 0.00000000e+00 3.74939946e-33]]\n"
     ]
    }
   ],
   "source": [
    "print(a.dot(Rotation3.EularExtrinsic(pi/2,pi/2,pi/2)))\n",
    "print(b.dot(Rotation3.EularExtrinsic(pi/2,pi/2,pi/2)))\n",
    "print(c.dot(Rotation3.EularExtrinsic(pi/2,pi/2,pi/2)))"
   ]
  },
  {
   "cell_type": "code",
   "execution_count": 7,
   "metadata": {},
   "outputs": [
    {
     "name": "stdout",
     "output_type": "stream",
     "text": [
      "click http://localhost:8000/view/a to view in browser\n"
     ]
    },
    {
     "data": {
      "text/html": [
       "\n",
       "        <iframe\n",
       "            width=\"100%\"\n",
       "            height=\"600px\"\n",
       "            src=\"http://localhost:8000/view/a\"\n",
       "            frameborder=\"0\"\n",
       "            allowfullscreen\n",
       "        ></iframe>\n",
       "        "
      ],
      "text/plain": [
       "<IPython.lib.display.IFrame at 0x7f050b1f80d0>"
      ]
     },
     "metadata": {},
     "output_type": "display_data"
    }
   ],
   "source": [
    "from py3d import Vector3,Rotation3\n",
    "points=Vector3.Rand(1000)\n",
    "points.render_as_points(\"a\")\n",
    "new_points=points.dot(Rotation3.EularIntrinsic(1,2,3))\n",
    "new_points.render_as_points(\"a\")"
   ]
  },
  {
   "cell_type": "code",
   "execution_count": 8,
   "metadata": {},
   "outputs": [
    {
     "data": {
      "text/plain": [
       "Rotation3([[-0.2248451 ,  0.90238159, -0.36763046],\n",
       "           [-0.35017549, -0.42691762, -0.83373765],\n",
       "           [-0.90929743, -0.05872664,  0.41198225]])"
      ]
     },
     "execution_count": 8,
     "metadata": {},
     "output_type": "execute_result"
    }
   ],
   "source": [
    "from py3d import Rotation3\n",
    "Rotation3.EularIntrinsic(1,2,3)"
   ]
  },
  {
   "cell_type": "code",
   "execution_count": 9,
   "metadata": {},
   "outputs": [
    {
     "name": "stdout",
     "output_type": "stream",
     "text": [
      "click http://localhost:8000/view/s to view in browser\n"
     ]
    },
    {
     "data": {
      "text/html": [
       "\n",
       "        <iframe\n",
       "            width=\"100%\"\n",
       "            height=\"600px\"\n",
       "            src=\"http://localhost:8000/view/s\"\n",
       "            frameborder=\"0\"\n",
       "            allowfullscreen\n",
       "        ></iframe>\n",
       "        "
      ],
      "text/plain": [
       "<IPython.lib.display.IFrame at 0x7f052ffc9b80>"
      ]
     },
     "metadata": {},
     "output_type": "display_data"
    }
   ],
   "source": [
    "from py3d import Vector3,Rotation3\n",
    "from toweb import Space\n",
    "points=Vector3.Rand(100)\n",
    "space=Space(\"s\")\n",
    "space.render_points(points.tolist(),\"red\")"
   ]
  },
  {
   "cell_type": "code",
   "execution_count": 10,
   "metadata": {},
   "outputs": [
    {
     "name": "stdout",
     "output_type": "stream",
     "text": [
      "click http://localhost:8000/view/b to view in browser\n"
     ]
    },
    {
     "data": {
      "text/html": [
       "\n",
       "        <iframe\n",
       "            width=\"100%\"\n",
       "            height=\"600px\"\n",
       "            src=\"http://localhost:8000/view/b\"\n",
       "            frameborder=\"0\"\n",
       "            allowfullscreen\n",
       "        ></iframe>\n",
       "        "
      ],
      "text/plain": [
       "<IPython.lib.display.IFrame at 0x7f050896c3a0>"
      ]
     },
     "metadata": {},
     "output_type": "display_data"
    }
   ],
   "source": [
    "from py3d import Vector3,Rotation3,Transform3\n",
    "trans=Transform3()\n",
    "trans.scale=Vector3(1,2,3)\n",
    "trans.rotation=Rotation3.Rx(3.14/2)\n",
    "trans.translation=Vector3(6,0,2)\n",
    "points=Vector3.Rand(1000)\n",
    "points.render_as_points(\"b\")\n",
    "new_points=points.dot(trans)\n",
    "new_points.render_as_points(\"b\")"
   ]
  },
  {
   "cell_type": "code",
   "execution_count": null,
   "metadata": {},
   "outputs": [],
   "source": []
  }
 ],
 "metadata": {
  "interpreter": {
   "hash": "f977ab77590a1a82c6ed99bad9ba7e44f59b6349cfa3ab98a372fb69dd4e7d34"
  },
  "kernelspec": {
   "display_name": "Python 3",
   "language": "python",
   "name": "python3"
  },
  "language_info": {
   "codemirror_mode": {
    "name": "ipython",
    "version": 3
   },
   "file_extension": ".py",
   "mimetype": "text/x-python",
   "name": "python",
   "nbconvert_exporter": "python",
   "pygments_lexer": "ipython3",
   "version": "3.8.3"
  }
 },
 "nbformat": 4,
 "nbformat_minor": 2
}
