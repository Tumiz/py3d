{
 "cells": [
  {
   "cell_type": "markdown",
   "metadata": {},
   "source": [
    "# Transform"
   ]
  },
  {
   "cell_type": "markdown",
   "metadata": {},
   "source": [
    "Transfom represent kinds of transform matrixes, including translation, scaling, rotation and projection."
   ]
  },
  {
   "cell_type": "markdown",
   "metadata": {},
   "source": [
    "## Identity"
   ]
  },
  {
   "cell_type": "code",
   "execution_count": null,
   "metadata": {},
   "outputs": [],
   "source": [
    "from py3d import Transform\n",
    "Transform()"
   ]
  },
  {
   "cell_type": "code",
   "execution_count": null,
   "metadata": {},
   "outputs": [],
   "source": [
    "assert _.sum() == 4"
   ]
  },
  {
   "cell_type": "code",
   "execution_count": null,
   "metadata": {},
   "outputs": [],
   "source": [
    "Transform(n=(2,))"
   ]
  },
  {
   "cell_type": "code",
   "execution_count": null,
   "metadata": {},
   "outputs": [],
   "source": [
    "assert _.sum() == 8"
   ]
  },
  {
   "cell_type": "markdown",
   "metadata": {},
   "source": [
    "## Translation"
   ]
  },
  {
   "cell_type": "code",
   "execution_count": null,
   "metadata": {},
   "outputs": [],
   "source": [
    "from py3d import Vector3\n",
    "Vector3([2,3,4]).as_translation()"
   ]
  },
  {
   "cell_type": "code",
   "execution_count": null,
   "metadata": {},
   "outputs": [],
   "source": [
    "import numpy\n",
    "assert numpy.array_equal(_[3,0:3],[2,3,4])"
   ]
  },
  {
   "cell_type": "code",
   "execution_count": null,
   "metadata": {},
   "outputs": [],
   "source": [
    "Transform.from_translation(x=1,n=(2,))"
   ]
  },
  {
   "cell_type": "markdown",
   "metadata": {},
   "source": [
    "Translate a series of points"
   ]
  },
  {
   "cell_type": "code",
   "execution_count": null,
   "metadata": {},
   "outputs": [],
   "source": [
    "points=Vector3.Rand(10)@Transform.from_translation(x=1)"
   ]
  },
  {
   "cell_type": "markdown",
   "metadata": {},
   "source": [
    "## Scaling"
   ]
  },
  {
   "cell_type": "code",
   "execution_count": null,
   "metadata": {},
   "outputs": [],
   "source": [
    "from py3d import Vector3\n",
    "Vector3(x=1,y=2,z=(1,2,3)).as_scaling()"
   ]
  },
  {
   "cell_type": "code",
   "execution_count": null,
   "metadata": {},
   "outputs": [],
   "source": [
    "Transform.from_scaling(x=1,y=-1,z=(1,2,3))"
   ]
  },
  {
   "cell_type": "markdown",
   "metadata": {},
   "source": [
    "## Orthographic projection"
   ]
  },
  {
   "cell_type": "code",
   "execution_count": null,
   "metadata": {},
   "outputs": [],
   "source": [
    "from sympy import Matrix, symbols\n",
    "l,r,t,b,n,f=symbols(\"l r t b n f\")\n",
    "m_scale = Matrix([\n",
    "    [2/(r-l),0,0,0],\n",
    "    [0,2/(t-b),0,0],\n",
    "    [0,0,2/(n-f),0],\n",
    "    [0,0,0,1]\n",
    "])\n",
    "m_translate = Matrix([\n",
    "    [1,0,0,-(l+r)/2],\n",
    "    [0,1,0,-(b+t)/2],\n",
    "    [0,0,1,-(f+n)/2],\n",
    "    [0,0,0,1]\n",
    "])\n",
    "m_scale*m_translate"
   ]
  },
  {
   "cell_type": "markdown",
   "metadata": {},
   "source": [
    "## Perspective projection"
   ]
  },
  {
   "cell_type": "code",
   "execution_count": null,
   "metadata": {},
   "outputs": [],
   "source": [
    "from py3d import Transform, pi, Vector3\n",
    "projection=Transform.from_perspective(pi/2, 1.2, 0, 1000)\n",
    "projection"
   ]
  },
  {
   "cell_type": "code",
   "execution_count": 30,
   "metadata": {},
   "outputs": [
    {
     "data": {
      "text/plain": [
       "<matplotlib.collections.PathCollection at 0x7faf34081a60>"
      ]
     },
     "execution_count": 30,
     "metadata": {},
     "output_type": "execute_result"
    },
    {
     "data": {
      "image/png": "[encoded data removed]",
      "text/plain": [
       "<Figure size 432x288 with 1 Axes>"
      ]
     },
     "metadata": {
      "needs_background": "light"
     },
     "output_type": "display_data"
    }
   ],
   "source": [
    "from py3d import Camera,pi,Vector3,Transform\n",
    "import matplotlib.pyplot as plt\n",
    "camera=Camera()\n",
    "camera.transform.translation = Transform.from_translation([0,0,10])\n",
    "camera.transform.rotation = Transform.from_rpy([0,0,0])\n",
    "camera.projection = Transform.from_perspective(pi/3,1,1,1000)\n",
    "points = Vector3.Rand(100)\n",
    "proj = points @ camera.matrix\n",
    "plt.gca().set_aspect(1)\n",
    "plt.scatter(proj.x, proj.y)"
   ]
  },
  {
   "cell_type": "code",
   "execution_count": null,
   "metadata": {},
   "outputs": [],
   "source": [
    "from py3d import Transform, Vector3\n",
    "assert (Transform([\n",
    "    [1., 0., 0.3, 0.],\n",
    "    [0., 1., 0., 0.],\n",
    "    [0., 0., 0.1, 0.],\n",
    "    [-1., 0., 0., 1.]\n",
    "]) == [\n",
    "    [1., 0., 0.3, 0.],\n",
    "    [0., 1., 0., 0.],\n",
    "    [0., 0., 0.1, 0.],\n",
    "    [-1., 0., 0., 1.]\n",
    "]).all()\n",
    "assert Transform(n=(2, 3)).shape == (2, 3, 4, 4)\n",
    "assert Transform(n=(4, 5)).n == (4, 5)\n",
    "assert ((Vector3(x=1).H @ Transform())[..., 0:3] == Vector3(x=1)).all()\n",
    "assert (Vector3(x=1) @ Transform() == Vector3(x=1)).all()\n",
    "p = Vector3([1, 2, 3])\n",
    "T = Transform.from_translation([1, 2, 3])\n",
    "R = Transform.from_euler(\"xyz\", [0, 0, 1])\n",
    "from numpy import allclose\n",
    "assert allclose(p @ T @ R, p @ (T@R))\n"
   ]
  }
 ],
 "metadata": {
  "kernelspec": {
   "display_name": "Python 3.8.3 ('base')",
   "language": "python",
   "name": "python3"
  },
  "language_info": {
   "codemirror_mode": {
    "name": "ipython",
    "version": 3
   },
   "file_extension": ".py",
   "mimetype": "text/x-python",
   "name": "python",
   "nbconvert_exporter": "python",
   "pygments_lexer": "ipython3",
   "version": "3.8.3"
  },
  "vscode": {
   "interpreter": {
    "hash": "6aa3b417f6031089fe78d3bd6c6859fc6570bbd00574f35191098c43dfcf5211"
   }
  }
 },
 "nbformat": 4,
 "nbformat_minor": 4
}
