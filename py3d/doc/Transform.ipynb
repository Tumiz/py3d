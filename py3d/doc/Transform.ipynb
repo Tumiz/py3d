{
 "cells": [
  {
   "cell_type": "markdown",
   "metadata": {},
   "source": [
    "# Transform"
   ]
  },
  {
   "cell_type": "markdown",
   "metadata": {},
   "source": [
    "Transfom represent kinds of transform matrixes, including translation, scaling, rotation and projection."
   ]
  },
  {
   "cell_type": "markdown",
   "metadata": {},
   "source": [
    "## Identity"
   ]
  },
  {
   "cell_type": "code",
   "execution_count": null,
   "metadata": {},
   "outputs": [],
   "source": [
    "from py3d import Transform\n",
    "Transform()\n"
   ]
  },
  {
   "cell_type": "code",
   "execution_count": null,
   "metadata": {},
   "outputs": [],
   "source": [
    "assert _.sum() == 4\n"
   ]
  },
  {
   "cell_type": "code",
   "execution_count": null,
   "metadata": {},
   "outputs": [],
   "source": [
    "Transform(n=(2,))\n"
   ]
  },
  {
   "cell_type": "code",
   "execution_count": null,
   "metadata": {},
   "outputs": [],
   "source": [
    "assert _.sum() == 8\n"
   ]
  },
  {
   "cell_type": "markdown",
   "metadata": {},
   "source": [
    "## Translation"
   ]
  },
  {
   "cell_type": "markdown",
   "metadata": {},
   "source": [
    "### Translation Matrix\n",
    "\n",
    "In **py3d**, transformations are represented as left-multiplication matrixes, point are represented as row vectors."
   ]
  },
  {
   "cell_type": "markdown",
   "metadata": {},
   "source": [
    "#### Left-multiplication translation matrix"
   ]
  },
  {
   "cell_type": "code",
   "execution_count": null,
   "metadata": {},
   "outputs": [],
   "source": [
    "from sympy import symbols, Matrix\n",
    "x, y, z, dx, dy, dz = symbols(\"x y z dx dy dz\")\n",
    "point = Matrix([x, y, z, 1]).T\n",
    "translation = Matrix([\n",
    "    [1, 0, 0, 0],\n",
    "    [0, 1, 0, 0],\n",
    "    [0, 0, 1, 0],\n",
    "    [dx, dy, dz, 1]\n",
    "])\n",
    "translation\n"
   ]
  },
  {
   "cell_type": "code",
   "execution_count": null,
   "metadata": {},
   "outputs": [],
   "source": [
    "point * translation\n"
   ]
  },
  {
   "cell_type": "markdown",
   "metadata": {},
   "source": [
    "#### Right-multiplication translation matrix"
   ]
  },
  {
   "cell_type": "code",
   "execution_count": null,
   "metadata": {},
   "outputs": [],
   "source": [
    "translation.T\n"
   ]
  },
  {
   "cell_type": "code",
   "execution_count": null,
   "metadata": {},
   "outputs": [],
   "source": [
    "translation.T * point.T\n"
   ]
  },
  {
   "cell_type": "code",
   "execution_count": null,
   "metadata": {},
   "outputs": [],
   "source": [
    "from py3d import Vector3\n",
    "Vector3([2, 3, 4]).as_translation()\n"
   ]
  },
  {
   "cell_type": "code",
   "execution_count": null,
   "metadata": {},
   "outputs": [],
   "source": [
    "import numpy\n",
    "assert numpy.array_equal(_[3, 0:3], [2, 3, 4])\n"
   ]
  },
  {
   "cell_type": "code",
   "execution_count": null,
   "metadata": {},
   "outputs": [],
   "source": [
    "Transform.from_translation(x=1, n=(2,))\n"
   ]
  },
  {
   "cell_type": "markdown",
   "metadata": {},
   "source": [
    "Translate a series of points"
   ]
  },
  {
   "cell_type": "code",
   "execution_count": null,
   "metadata": {},
   "outputs": [],
   "source": [
    "import py3d\n",
    "v = py3d.Viewer()\n",
    "points = py3d.Vector3.Rand(100)\n",
    "v.render(points.as_point())\n",
    "points @= py3d.Transform.from_translation(x=1)\n",
    "v.render(points.as_point())\n",
    "v.show()\n"
   ]
  },
  {
   "cell_type": "markdown",
   "metadata": {},
   "source": [
    "Move a car"
   ]
  },
  {
   "cell_type": "code",
   "execution_count": null,
   "metadata": {},
   "outputs": [],
   "source": [
    "import py3d\n",
    "v = py3d.Viewer()\n",
    "car = py3d.Utils.Car()\n",
    "grid = py3d.Utils.Grid(10)\n",
    "t = 0\n",
    "while t < 4:\n",
    "    car.vertex @= py3d.Transform.from_translation(x=0.2)\n",
    "    v.render(grid, car, t=t)\n",
    "    t += 0.1\n",
    "v.show()\n"
   ]
  },
  {
   "cell_type": "markdown",
   "metadata": {},
   "source": [
    "## Scaling"
   ]
  },
  {
   "cell_type": "code",
   "execution_count": null,
   "metadata": {},
   "outputs": [],
   "source": [
    "from py3d import Vector3\n",
    "Vector3(x=1, y=2, z=(1, 2, 3)).as_scaling()\n"
   ]
  },
  {
   "cell_type": "code",
   "execution_count": null,
   "metadata": {},
   "outputs": [],
   "source": [
    "Transform.from_scaling(x=1, y=-1, z=(1, 2, 3))\n"
   ]
  },
  {
   "cell_type": "code",
   "execution_count": null,
   "metadata": {},
   "outputs": [],
   "source": [
    "from py3d import Vector3, Transform\n",
    "points = (Vector3.Rand(1000)-0.5).U @ Transform.from_scaling(x=2)\n",
    "points.as_point().render()\n"
   ]
  },
  {
   "cell_type": "markdown",
   "metadata": {},
   "source": [
    "## Rotation"
   ]
  },
  {
   "cell_type": "markdown",
   "metadata": {},
   "source": [
    "### Euler angles"
   ]
  },
  {
   "cell_type": "markdown",
   "metadata": {},
   "source": [
    "#### Extrinsic Rotation"
   ]
  },
  {
   "cell_type": "code",
   "execution_count": null,
   "metadata": {},
   "outputs": [],
   "source": [
    "import py3d\n",
    "py3d.Transform.from_euler(\"xyz\", [0.4, -0.2, 0])\n"
   ]
  },
  {
   "cell_type": "markdown",
   "metadata": {},
   "source": [
    "#### Intrinsic Rotation"
   ]
  },
  {
   "cell_type": "code",
   "execution_count": null,
   "metadata": {},
   "outputs": [],
   "source": [
    "import py3d\n",
    "py3d.Transform.from_euler(\"XYZ\", [0.4, -0.2, 0])\n"
   ]
  },
  {
   "cell_type": "markdown",
   "metadata": {},
   "source": [
    "#### Difference between extrinsic rotation and intrinsic rotation"
   ]
  },
  {
   "cell_type": "code",
   "execution_count": null,
   "metadata": {},
   "outputs": [],
   "source": [
    "import py3d\n",
    "v = py3d.Viewer()\n",
    "e_car = py3d.Utils.Car()\n",
    "e_car.color = py3d.Color(g=1)\n",
    "e_car.vertex @= py3d.Transform.from_euler(\"xyz\", [0.4, -0.2, 0])\n",
    "i_car = py3d.Utils.Car()\n",
    "i_car.color = py3d.Color(r=1)\n",
    "i_car.vertex @= py3d.Transform.from_euler(\"XYZ\", [0.4, -0.2, 0])\n",
    "v.render(e_car, i_car, py3d.Utils.Grid())\n",
    "v.show()\n"
   ]
  },
  {
   "cell_type": "markdown",
   "metadata": {},
   "source": [
    "#### RPY\n",
    "\n",
    "In **py3d**, rpy represents roll, pitch and yaw, it is kind of intrinsic rotation"
   ]
  },
  {
   "cell_type": "code",
   "execution_count": null,
   "metadata": {},
   "outputs": [],
   "source": [
    "from PIL import Image\n",
    "import numpy\n",
    "import py3d\n",
    "img = numpy.array(Image.open(\"py3d/doc/20220917214012.jpg\"))\n",
    "hw = img.shape[0]//2\n",
    "hh = img.shape[1]//2\n",
    "point = py3d.Vector3.Grid(range(-hw, hw), range(-hh, hh))[::3, ::3]*0.01\n",
    "point = point.as_point()\n",
    "point.color = py3d.Vector3(img/255).H[::3, ::3]\n",
    "point.vertex @= py3d.Transform.from_rpy([0, 0, -py3d.pi/2])\n",
    "point.render()\n"
   ]
  },
  {
   "cell_type": "markdown",
   "metadata": {},
   "source": [
    "### Quaternion\n",
    "\n",
    "In **py3d**, quaternion is in scalar-last format"
   ]
  },
  {
   "cell_type": "code",
   "execution_count": null,
   "metadata": {},
   "outputs": [],
   "source": [
    "import py3d\n",
    "q = [\n",
    "    [0, 0, 0, 1],\n",
    "    [0, 0, 1, 0],\n",
    "    [0, 1, 0, 0],\n",
    "    [1, 0, 0, 0]\n",
    "]\n",
    "py3d.Transform.from_quaternion(q)\n"
   ]
  },
  {
   "cell_type": "code",
   "execution_count": null,
   "metadata": {},
   "outputs": [],
   "source": [
    "from scipy.spatial.transform import Rotation\n",
    "import numpy\n",
    "assert numpy.allclose(_.as_quaternion(), q)\n",
    "assert numpy.allclose(_[..., 0:3, 0:3], Rotation.from_quat(q).as_matrix())\n"
   ]
  },
  {
   "cell_type": "code",
   "execution_count": null,
   "metadata": {},
   "outputs": [],
   "source": [
    "import py3d\n",
    "py3d.Vector4(q).as_transform()\n"
   ]
  },
  {
   "cell_type": "code",
   "execution_count": null,
   "metadata": {},
   "outputs": [],
   "source": [
    "from scipy.spatial.transform import Rotation\n",
    "import numpy\n",
    "assert numpy.allclose(_.as_quaternion(), q)\n",
    "assert numpy.allclose(_[..., 0:3, 0:3], Rotation.from_quat(q).as_matrix())\n"
   ]
  },
  {
   "cell_type": "markdown",
   "metadata": {},
   "source": [
    "### Convert RPY to quaternion\n",
    "\n",
    "Return quaternion with sequence \"xyzw\" "
   ]
  },
  {
   "cell_type": "code",
   "execution_count": null,
   "metadata": {},
   "outputs": [],
   "source": [
    "import py3d\n",
    "rpy = [\n",
    "    [0, 0, -py3d.pi],\n",
    "    [0, 0, -py3d.pi-0.01],\n",
    "    [0, 0, -py3d.pi/3],\n",
    "    [-1, 0, 0],\n",
    "    [-py3d.pi, 0, 1],\n",
    "    [0, -py3d.pi, 0]]\n",
    "py3d.Transform.from_rpy(rpy).as_quaternion()\n"
   ]
  },
  {
   "cell_type": "code",
   "execution_count": null,
   "metadata": {},
   "outputs": [],
   "source": [
    "import numpy\n",
    "from scipy.spatial.transform import Rotation\n",
    "q = Rotation.from_euler(\"XYZ\", rpy).as_quat()\n",
    "equal = numpy.all(numpy.isclose(q, _), axis=1)\n",
    "opposite = numpy.all(numpy.isclose(-q, _), axis=1)\n",
    "assert numpy.all(equal | opposite)\n"
   ]
  },
  {
   "cell_type": "markdown",
   "metadata": {},
   "source": [
    "### Axis angles"
   ]
  },
  {
   "cell_type": "code",
   "execution_count": null,
   "metadata": {},
   "outputs": [],
   "source": [
    "import py3d\n",
    "py3d.Transform.from_angle_axis([2, 1], [0, 1, 0])\n"
   ]
  },
  {
   "cell_type": "markdown",
   "metadata": {},
   "source": [
    "## Orthographic projection"
   ]
  },
  {
   "cell_type": "code",
   "execution_count": null,
   "metadata": {},
   "outputs": [],
   "source": [
    "from sympy import Matrix, symbols\n",
    "l, r, t, b, n, f = symbols(\"l r t b n f\")\n",
    "m_scale = Matrix([\n",
    "    [2/(r-l), 0, 0, 0],\n",
    "    [0, 2/(t-b), 0, 0],\n",
    "    [0, 0, 2/(n-f), 0],\n",
    "    [0, 0, 0, 1]\n",
    "])\n",
    "m_translate = Matrix([\n",
    "    [1, 0, 0, -(l+r)/2],\n",
    "    [0, 1, 0, -(b+t)/2],\n",
    "    [0, 0, 1, -(f+n)/2],\n",
    "    [0, 0, 0, 1]\n",
    "])\n",
    "m_scale*m_translate\n"
   ]
  },
  {
   "cell_type": "markdown",
   "metadata": {},
   "source": [
    "## Perspective projection"
   ]
  },
  {
   "cell_type": "code",
   "execution_count": null,
   "metadata": {},
   "outputs": [],
   "source": [
    "from py3d import Transform, pi, Vector3\n",
    "projection = Transform.from_perspective(pi/2, 1.2, 0, 1000)\n",
    "projection\n"
   ]
  },
  {
   "cell_type": "code",
   "execution_count": null,
   "metadata": {},
   "outputs": [],
   "source": [
    "from py3d import Camera, pi, Vector3, Transform\n",
    "import matplotlib.pyplot as plt\n",
    "camera = Camera()\n",
    "camera.transform.translation = Transform.from_translation([0, 0, 10])\n",
    "camera.transform.rotation = Transform.from_rpy([0, 0, 0])\n",
    "camera.projection = Transform.from_perspective(pi/3, 1, 1, 1000)\n",
    "points = Vector3.Rand(100)\n",
    "proj = points @ camera.matrix\n",
    "plt.gca().set_aspect(1)\n",
    "plt.scatter(proj.x, proj.y)\n"
   ]
  },
  {
   "cell_type": "code",
   "execution_count": null,
   "metadata": {},
   "outputs": [],
   "source": [
    "from numpy import allclose\n",
    "from py3d import Transform, Vector3\n",
    "assert (Transform([\n",
    "    [1., 0., 0.3, 0.],\n",
    "    [0., 1., 0., 0.],\n",
    "    [0., 0., 0.1, 0.],\n",
    "    [-1., 0., 0., 1.]\n",
    "]) == [\n",
    "    [1., 0., 0.3, 0.],\n",
    "    [0., 1., 0., 0.],\n",
    "    [0., 0., 0.1, 0.],\n",
    "    [-1., 0., 0., 1.]\n",
    "]).all()\n",
    "assert Transform(n=(2, 3)).shape == (2, 3, 4, 4)\n",
    "assert Transform(n=(4, 5)).n == (4, 5)\n",
    "assert ((Vector3(x=1).H @ Transform())[..., 0:3] == Vector3(x=1)).all()\n",
    "assert (Vector3(x=1) @ Transform() == Vector3(x=1)).all()\n",
    "p = Vector3([1, 2, 3])\n",
    "T = Transform.from_translation([1, 2, 3])\n",
    "R = Transform.from_euler(\"xyz\", [0, 0, 1])\n",
    "assert allclose(p @ T @ R, p @ (T@R))\n"
   ]
  }
 ],
 "metadata": {
  "kernelspec": {
   "display_name": "Python 3.10.6 64-bit",
   "language": "python",
   "name": "python3"
  },
  "language_info": {
   "codemirror_mode": {
    "name": "ipython",
    "version": 3
   },
   "file_extension": ".py",
   "mimetype": "text/x-python",
   "name": "python",
   "nbconvert_exporter": "python",
   "pygments_lexer": "ipython3",
   "version": "3.10.6"
  },
  "vscode": {
   "interpreter": {
    "hash": "916dbcbb3f70747c44a77c7bcd40155683ae19c65e1c03b4aa3499c5328201f1"
   }
  }
 },
 "nbformat": 4,
 "nbformat_minor": 4
}
