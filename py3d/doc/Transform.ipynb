{
 "cells": [
  {
   "cell_type": "markdown",
   "metadata": {},
   "source": [
    "# Transform"
   ]
  },
  {
   "cell_type": "markdown",
   "metadata": {},
   "source": [
    "Transfom represent kinds of transform matrixes, including translation, scaling, rotation and projection."
   ]
  },
  {
   "cell_type": "markdown",
   "metadata": {},
   "source": [
    "## Identity"
   ]
  },
  {
   "cell_type": "code",
   "execution_count": null,
   "metadata": {},
   "outputs": [],
   "source": [
    "from py3d import Transform\n",
    "Transform()\n"
   ]
  },
  {
   "cell_type": "code",
   "execution_count": null,
   "metadata": {},
   "outputs": [],
   "source": [
    "assert _.sum() == 4\n"
   ]
  },
  {
   "cell_type": "code",
   "execution_count": null,
   "metadata": {},
   "outputs": [],
   "source": [
    "Transform(n=(2,))\n"
   ]
  },
  {
   "cell_type": "code",
   "execution_count": null,
   "metadata": {},
   "outputs": [],
   "source": [
    "assert _.sum() == 8\n"
   ]
  },
  {
   "cell_type": "markdown",
   "metadata": {},
   "source": [
    "## Translation"
   ]
  },
  {
   "cell_type": "markdown",
   "metadata": {},
   "source": [
    "### Translation Matrix\n",
    "\n",
    "In **py3d**, transformations are represented as left-multiplication matrixes, point are represented as row vectors."
   ]
  },
  {
   "cell_type": "markdown",
   "metadata": {},
   "source": [
    "#### Left-multiplication translation matrix"
   ]
  },
  {
   "cell_type": "code",
   "execution_count": null,
   "metadata": {},
   "outputs": [],
   "source": [
    "from sympy import symbols, Matrix\n",
    "x, y, z, dx, dy, dz = symbols(\"x y z dx dy dz\")\n",
    "point = Matrix([x, y, z, 1]).T\n",
    "translation = Matrix([\n",
    "    [1, 0, 0, 0],\n",
    "    [0, 1, 0, 0],\n",
    "    [0, 0, 1, 0],\n",
    "    [dx, dy, dz, 1]\n",
    "])\n",
    "translation\n"
   ]
  },
  {
   "cell_type": "code",
   "execution_count": null,
   "metadata": {},
   "outputs": [],
   "source": [
    "point * translation\n"
   ]
  },
  {
   "cell_type": "code",
   "execution_count": null,
   "metadata": {},
   "outputs": [],
   "source": [
    "dx_,dy_,dz_ = symbols(\"dx' dy' dz'\")\n",
    "translation_ = Matrix([\n",
    "    [1, 0, 0, 0],\n",
    "    [0, 1, 0, 0],\n",
    "    [0, 0, 1, 0],\n",
    "    [dx_, dy_, dz_, 1]\n",
    "])\n",
    "translation_ * translation"
   ]
  },
  {
   "cell_type": "code",
   "execution_count": null,
   "metadata": {},
   "outputs": [],
   "source": [
    "translation * translation_"
   ]
  },
  {
   "cell_type": "markdown",
   "metadata": {},
   "source": [
    "#### Right-multiplication translation matrix"
   ]
  },
  {
   "cell_type": "code",
   "execution_count": null,
   "metadata": {},
   "outputs": [],
   "source": [
    "translation.T\n"
   ]
  },
  {
   "cell_type": "code",
   "execution_count": null,
   "metadata": {},
   "outputs": [],
   "source": [
    "translation.T * point.T\n"
   ]
  },
  {
   "cell_type": "code",
   "execution_count": null,
   "metadata": {},
   "outputs": [],
   "source": [
    "from py3d import Vector3\n",
    "Vector3([2, 3, 4]).as_translation()\n"
   ]
  },
  {
   "cell_type": "code",
   "execution_count": null,
   "metadata": {},
   "outputs": [],
   "source": [
    "import numpy\n",
    "assert numpy.array_equal(_[3, 0:3], [2, 3, 4])\n"
   ]
  },
  {
   "cell_type": "code",
   "execution_count": null,
   "metadata": {},
   "outputs": [],
   "source": [
    "Transform.from_translation(x=1, n=(2,))\n"
   ]
  },
  {
   "cell_type": "markdown",
   "metadata": {},
   "source": [
    "Translate a series of points"
   ]
  },
  {
   "cell_type": "code",
   "execution_count": null,
   "metadata": {},
   "outputs": [],
   "source": [
    "import py3d\n",
    "v = py3d.Viewer()\n",
    "points = py3d.Vector3.Rand(100)\n",
    "v.render(points.as_point())\n",
    "points @= py3d.Transform.from_translation(x=1)\n",
    "v.render(points.as_point())\n",
    "v.show()\n"
   ]
  },
  {
   "cell_type": "markdown",
   "metadata": {},
   "source": [
    "Move a car"
   ]
  },
  {
   "cell_type": "code",
   "execution_count": null,
   "metadata": {},
   "outputs": [],
   "source": [
    "import py3d\n",
    "v = py3d.Viewer()\n",
    "car = py3d.Utils.Car()\n",
    "grid = py3d.Utils.Grid(10)\n",
    "t = 0\n",
    "while t < 4:\n",
    "    car.vertex @= py3d.Transform.from_translation(x=0.2)\n",
    "    v.render(grid, car, t=t)\n",
    "    t += 0.1\n",
    "v.show()\n"
   ]
  },
  {
   "cell_type": "markdown",
   "metadata": {},
   "source": [
    "## Scaling"
   ]
  },
  {
   "cell_type": "code",
   "execution_count": null,
   "metadata": {},
   "outputs": [],
   "source": [
    "from py3d import Vector3\n",
    "Vector3(x=1, y=2, z=(1, 2, 3)).as_scaling()\n"
   ]
  },
  {
   "cell_type": "code",
   "execution_count": null,
   "metadata": {},
   "outputs": [],
   "source": [
    "Transform.from_scaling(x=1, y=-1, z=(1, 2, 3))\n"
   ]
  },
  {
   "cell_type": "code",
   "execution_count": null,
   "metadata": {},
   "outputs": [],
   "source": [
    "from py3d import Vector3, Transform\n",
    "points = (Vector3.Rand(1000)-0.5).U @ Transform.from_scaling(x=2)\n",
    "points.as_point().render()\n"
   ]
  },
  {
   "cell_type": "markdown",
   "metadata": {},
   "source": [
    "## [Rotation](Rotation.html)"
   ]
  },
  {
   "cell_type": "markdown",
   "metadata": {},
   "source": [
    "## Projection"
   ]
  },
  {
   "cell_type": "markdown",
   "metadata": {},
   "source": [
    "### Camera and scene"
   ]
  },
  {
   "cell_type": "code",
   "execution_count": null,
   "metadata": {},
   "outputs": [],
   "source": [
    "import py3d\n",
    "v=py3d.Viewer()\n",
    "v.render(py3d.Utils.Grid())\n",
    "camera=py3d.Utils.Axis(2)\n",
    "camera.vertex @= py3d.Transform.from_translation([0,0,5]) @ py3d.Transform.from_rpy([py3d.pi/3,py3d.pi/6,0])\n",
    "line=camera.vertex[0,0].as_vector()\n",
    "v.render(camera,line)\n",
    "v.show()"
   ]
  },
  {
   "cell_type": "code",
   "execution_count": null,
   "metadata": {},
   "outputs": [],
   "source": [
    "camera.vertex[0][0]"
   ]
  },
  {
   "cell_type": "markdown",
   "metadata": {},
   "source": [
    "### Project 3d points on xy plane"
   ]
  },
  {
   "cell_type": "code",
   "execution_count": null,
   "metadata": {},
   "outputs": [],
   "source": [
    "import py3d\n",
    "v=py3d.Viewer()\n",
    "p=(py3d.Vector3.Rand(1000)-0.5).U+py3d.Vector3(x=1,y=1,z=2)\n",
    "v.render(p.as_point())\n",
    "p.z=0\n",
    "v.render(p.as_point(), py3d.Utils.Grid())\n",
    "v.show()"
   ]
  },
  {
   "cell_type": "markdown",
   "metadata": {},
   "source": [
    "### Orthographic projection"
   ]
  },
  {
   "cell_type": "code",
   "execution_count": null,
   "metadata": {},
   "outputs": [],
   "source": [
    "import sympy\n",
    "l, r, t, b, n, f = sympy.symbols(\"l r t b n f\")\n",
    "m_scale = sympy.Matrix([\n",
    "    [2/(r-l), 0, 0, 0],\n",
    "    [0, 2/(t-b), 0, 0],\n",
    "    [0, 0, 2/(n-f), 0],\n",
    "    [0, 0, 0, 1]\n",
    "])\n",
    "m_translate = sympy.Matrix([\n",
    "    [1, 0, 0, -(l+r)/2],\n",
    "    [0, 1, 0, -(b+t)/2],\n",
    "    [0, 0, 1, -(f+n)/2],\n",
    "    [0, 0, 0, 1]\n",
    "])\n",
    "o=sympy.simplify(m_scale*m_translate).transpose()\n",
    "o\n"
   ]
  },
  {
   "cell_type": "code",
   "execution_count": null,
   "metadata": {},
   "outputs": [],
   "source": [
    "w, h = sympy.symbols(\"w h\")\n",
    "o=o.subs(l, -w/2).subs(r, w/2).subs(t, h/2).subs(b, -h/2)\n",
    "o"
   ]
  },
  {
   "cell_type": "markdown",
   "metadata": {},
   "source": [
    "Use perspective fov and aspect to define a orthographic projection"
   ]
  },
  {
   "cell_type": "code",
   "execution_count": null,
   "metadata": {},
   "outputs": [],
   "source": [
    "fov, aspect, distance = sympy.symbols(\"fov a d\")\n",
    "o=o.subs(w, aspect * h).subs(h, distance*sympy.tan(fov/2)*2)\n",
    "o"
   ]
  },
  {
   "cell_type": "code",
   "execution_count": null,
   "metadata": {},
   "outputs": [],
   "source": [
    "x, y, z = sympy.symbols(\"x y z\")\n",
    "sympy.Matrix([x, y, z, 1]).T @ o"
   ]
  },
  {
   "cell_type": "markdown",
   "metadata": {},
   "source": [
    "### Perspective projection"
   ]
  },
  {
   "cell_type": "code",
   "execution_count": null,
   "metadata": {},
   "outputs": [],
   "source": [
    "from py3d import Transform, pi, Vector3\n",
    "projection = Transform.from_perspective(pi/2, 1.2, 0, 1000)\n",
    "projection\n"
   ]
  },
  {
   "cell_type": "code",
   "execution_count": null,
   "metadata": {},
   "outputs": [],
   "source": [
    "from py3d import Camera, pi, Vector3, Transform\n",
    "import matplotlib.pyplot as plt\n",
    "camera = Camera()\n",
    "camera.transform.translation = Transform.from_translation([0, 0, 10])\n",
    "camera.transform.rotation = Transform.from_rpy([0, 0, 0])\n",
    "camera.projection = Transform.from_perspective(pi/3, 1, 1, 1000)\n",
    "points = Vector3.Rand(100)\n",
    "proj = points @ camera.matrix\n",
    "plt.gca().set_aspect(1)\n",
    "plt.scatter(proj.x, proj.y)\n"
   ]
  },
  {
   "cell_type": "code",
   "execution_count": null,
   "metadata": {},
   "outputs": [],
   "source": [
    "from numpy import allclose\n",
    "from py3d import Transform, Vector3\n",
    "assert (Transform([\n",
    "    [1., 0., 0.3, 0.],\n",
    "    [0., 1., 0., 0.],\n",
    "    [0., 0., 0.1, 0.],\n",
    "    [-1., 0., 0., 1.]\n",
    "]) == [\n",
    "    [1., 0., 0.3, 0.],\n",
    "    [0., 1., 0., 0.],\n",
    "    [0., 0., 0.1, 0.],\n",
    "    [-1., 0., 0., 1.]\n",
    "]).all()\n",
    "assert Transform(n=(2, 3)).shape == (2, 3, 4, 4)\n",
    "assert Transform(n=(4, 5)).n == (4, 5)\n",
    "assert ((Vector3(x=1).H @ Transform())[..., 0:3] == Vector3(x=1)).all()\n",
    "assert (Vector3(x=1) @ Transform() == Vector3(x=1)).all()\n",
    "p = Vector3([1, 2, 3])\n",
    "T = Transform.from_translation([1, 2, 3])\n",
    "R = Transform.from_euler(\"xyz\", [0, 0, 1])\n",
    "assert allclose(p @ T @ R, p @ (T@R))\n"
   ]
  },
  {
   "cell_type": "markdown",
   "metadata": {},
   "source": [
    "[↑Top](#Transform)\n",
    "\n",
    "[←Home](index.html) "
   ]
  },
  {
   "cell_type": "markdown",
   "metadata": {},
   "source": []
  }
 ],
 "metadata": {
  "kernelspec": {
   "display_name": "Python 3.10.6 64-bit",
   "language": "python",
   "name": "python3"
  },
  "language_info": {
   "codemirror_mode": {
    "name": "ipython",
    "version": 3
   },
   "file_extension": ".py",
   "mimetype": "text/x-python",
   "name": "python",
   "nbconvert_exporter": "python",
   "pygments_lexer": "ipython3",
   "version": "3.10.6"
  },
  "vscode": {
   "interpreter": {
    "hash": "31f2aee4e71d21fbe5cf8b01ff0e069b9275f58929596ceb00d14d90e3e16cd6"
   }
  }
 },
 "nbformat": 4,
 "nbformat_minor": 4
}
