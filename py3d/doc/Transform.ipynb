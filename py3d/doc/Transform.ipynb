{
 "cells": [
  {
   "cell_type": "markdown",
   "metadata": {},
   "source": [
    "# Transform"
   ]
  },
  {
   "cell_type": "markdown",
   "metadata": {},
   "source": [
    "Transfom represent kinds of transform matrixes, including translation, scaling, rotation and projection."
   ]
  },
  {
   "cell_type": "code",
   "execution_count": 1,
   "metadata": {},
   "outputs": [
    {
     "data": {
      "text/plain": [
       "Transform([[[1., 0., 0., 0.],\n",
       "            [0., 1., 0., 0.],\n",
       "            [0., 0., 1., 0.],\n",
       "            [0., 0., 0., 1.]],\n",
       "\n",
       "           [[1., 0., 0., 0.],\n",
       "            [0., 1., 0., 0.],\n",
       "            [0., 0., 1., 0.],\n",
       "            [0., 0., 0., 1.]]])"
      ]
     },
     "execution_count": 1,
     "metadata": {},
     "output_type": "execute_result"
    }
   ],
   "source": [
    "from py3d import Transform\n",
    "Transform(1,2)"
   ]
  },
  {
   "cell_type": "code",
   "execution_count": 5,
   "metadata": {},
   "outputs": [
    {
     "data": {
      "text/plain": [
       "Transform([[[1., 0., 0., 0.],\n",
       "            [0., 2., 0., 0.],\n",
       "            [0., 0., 1., 0.],\n",
       "            [0., 0., 0., 1.]],\n",
       "\n",
       "           [[1., 0., 0., 0.],\n",
       "            [0., 2., 0., 0.],\n",
       "            [0., 0., 2., 0.],\n",
       "            [0., 0., 0., 1.]],\n",
       "\n",
       "           [[1., 0., 0., 0.],\n",
       "            [0., 2., 0., 0.],\n",
       "            [0., 0., 3., 0.],\n",
       "            [0., 0., 0., 1.]],\n",
       "\n",
       "           [[1., 0., 0., 0.],\n",
       "            [0., 2., 0., 0.],\n",
       "            [0., 0., 4., 0.],\n",
       "            [0., 0., 0., 1.]],\n",
       "\n",
       "           [[1., 0., 0., 0.],\n",
       "            [0., 2., 0., 0.],\n",
       "            [0., 0., 5., 0.],\n",
       "            [0., 0., 0., 1.]]])"
      ]
     },
     "execution_count": 5,
     "metadata": {},
     "output_type": "execute_result"
    }
   ],
   "source": [
    "from py3d import Vector3\n",
    "Vector3(1,2,z=(1,2,3,4,5)).as_scaling()"
   ]
  },
  {
   "cell_type": "code",
   "execution_count": 6,
   "metadata": {},
   "outputs": [
    {
     "data": {
      "text/plain": [
       "Transform([[[1., 0., 0., 0.],\n",
       "            [0., 1., 0., 0.],\n",
       "            [0., 0., 1., 0.],\n",
       "            [0., 0., 0., 1.]],\n",
       "\n",
       "           [[1., 0., 0., 0.],\n",
       "            [0., 1., 0., 0.],\n",
       "            [0., 0., 1., 0.],\n",
       "            [1., 0., 0., 1.]],\n",
       "\n",
       "           [[1., 0., 0., 0.],\n",
       "            [0., 1., 0., 0.],\n",
       "            [0., 0., 1., 0.],\n",
       "            [2., 0., 0., 1.]],\n",
       "\n",
       "           [[1., 0., 0., 0.],\n",
       "            [0., 1., 0., 0.],\n",
       "            [0., 0., 1., 0.],\n",
       "            [3., 0., 0., 1.]],\n",
       "\n",
       "           [[1., 0., 0., 0.],\n",
       "            [0., 1., 0., 0.],\n",
       "            [0., 0., 1., 0.],\n",
       "            [4., 0., 0., 1.]]])"
      ]
     },
     "execution_count": 6,
     "metadata": {},
     "output_type": "execute_result"
    }
   ],
   "source": [
    "from py3d import Vector3\n",
    "Vector3(x=range(5)).as_translation()"
   ]
  },
  {
   "cell_type": "code",
   "execution_count": null,
   "metadata": {},
   "outputs": [],
   "source": [
    "from py3d i"
   ]
  }
 ],
 "metadata": {
  "kernelspec": {
   "display_name": "Python 3",
   "language": "python",
   "name": "python3"
  },
  "language_info": {
   "codemirror_mode": {
    "name": "ipython",
    "version": 3
   },
   "file_extension": ".py",
   "mimetype": "text/x-python",
   "name": "python",
   "nbconvert_exporter": "python",
   "pygments_lexer": "ipython3",
   "version": "3.8.3"
  }
 },
 "nbformat": 4,
 "nbformat_minor": 4
}
