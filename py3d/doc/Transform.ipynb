{
 "cells": [
  {
   "cell_type": "markdown",
   "metadata": {},
   "source": [
    "# Transform"
   ]
  },
  {
   "cell_type": "markdown",
   "metadata": {},
   "source": [
    "Transfom represent kinds of transform matrixes, including translation, scaling, rotation and projection."
   ]
  },
  {
   "cell_type": "markdown",
   "metadata": {},
   "source": [
    "## Identity"
   ]
  },
  {
   "cell_type": "code",
   "execution_count": null,
   "metadata": {},
   "outputs": [],
   "source": [
    "from py3d import Transform\n",
    "Transform()\n"
   ]
  },
  {
   "cell_type": "code",
   "execution_count": null,
   "metadata": {},
   "outputs": [],
   "source": [
    "assert _.sum() == 4\n"
   ]
  },
  {
   "cell_type": "code",
   "execution_count": null,
   "metadata": {},
   "outputs": [],
   "source": [
    "Transform(n=(2,))\n"
   ]
  },
  {
   "cell_type": "code",
   "execution_count": null,
   "metadata": {},
   "outputs": [],
   "source": [
    "assert _.sum() == 8\n"
   ]
  },
  {
   "cell_type": "markdown",
   "metadata": {},
   "source": [
    "## Translation"
   ]
  },
  {
   "cell_type": "markdown",
   "metadata": {},
   "source": [
    "### Translation Matrix\n",
    "\n",
    "In **py3d**, transformations are represented as left-multiplication matrixes, point are represented as row vectors."
   ]
  },
  {
   "cell_type": "markdown",
   "metadata": {},
   "source": [
    "#### Left-multiplication translation matrix"
   ]
  },
  {
   "cell_type": "code",
   "execution_count": null,
   "metadata": {},
   "outputs": [],
   "source": [
    "from sympy import symbols, Matrix\n",
    "x, y, z, dx, dy, dz = symbols(\"x y z dx dy dz\")\n",
    "point = Matrix([x, y, z, 1]).T\n",
    "translation = Matrix([\n",
    "    [1, 0, 0, 0],\n",
    "    [0, 1, 0, 0],\n",
    "    [0, 0, 1, 0],\n",
    "    [dx, dy, dz, 1]\n",
    "])\n",
    "translation\n"
   ]
  },
  {
   "cell_type": "code",
   "execution_count": null,
   "metadata": {},
   "outputs": [],
   "source": [
    "point * translation\n"
   ]
  },
  {
   "cell_type": "markdown",
   "metadata": {},
   "source": [
    "#### Right-multiplication translation matrix"
   ]
  },
  {
   "cell_type": "code",
   "execution_count": null,
   "metadata": {},
   "outputs": [],
   "source": [
    "translation.T\n"
   ]
  },
  {
   "cell_type": "code",
   "execution_count": null,
   "metadata": {},
   "outputs": [],
   "source": [
    "translation.T * point.T\n"
   ]
  },
  {
   "cell_type": "code",
   "execution_count": null,
   "metadata": {},
   "outputs": [],
   "source": [
    "from py3d import Vector3\n",
    "Vector3([2, 3, 4]).as_translation()\n"
   ]
  },
  {
   "cell_type": "code",
   "execution_count": null,
   "metadata": {},
   "outputs": [],
   "source": [
    "import numpy\n",
    "assert numpy.array_equal(_[3, 0:3], [2, 3, 4])\n"
   ]
  },
  {
   "cell_type": "code",
   "execution_count": null,
   "metadata": {},
   "outputs": [],
   "source": [
    "Transform.from_translation(x=1, n=(2,))\n"
   ]
  },
  {
   "cell_type": "markdown",
   "metadata": {},
   "source": [
    "Translate a series of points"
   ]
  },
  {
   "cell_type": "code",
   "execution_count": null,
   "metadata": {},
   "outputs": [],
   "source": [
    "import py3d\n",
    "v = py3d.Viewer()\n",
    "points = py3d.Vector3.Rand(100)\n",
    "v.render(points.as_point())\n",
    "points @= py3d.Transform.from_translation(x=1)\n",
    "v.render(points.as_point())\n",
    "v.show()\n"
   ]
  },
  {
   "cell_type": "markdown",
   "metadata": {},
   "source": [
    "Move a car"
   ]
  },
  {
   "cell_type": "code",
   "execution_count": null,
   "metadata": {},
   "outputs": [],
   "source": [
    "import py3d\n",
    "v = py3d.Viewer()\n",
    "car = py3d.Utils.Car()\n",
    "grid = py3d.Utils.Grid(10)\n",
    "t = 0\n",
    "while t < 4:\n",
    "    car.vertex @= py3d.Transform.from_translation(x=0.2)\n",
    "    v.render(grid, car, t=t)\n",
    "    t += 0.1\n",
    "v.show()\n"
   ]
  },
  {
   "cell_type": "markdown",
   "metadata": {},
   "source": [
    "## Scaling"
   ]
  },
  {
   "cell_type": "code",
   "execution_count": null,
   "metadata": {},
   "outputs": [],
   "source": [
    "from py3d import Vector3\n",
    "Vector3(x=1, y=2, z=(1, 2, 3)).as_scaling()\n"
   ]
  },
  {
   "cell_type": "code",
   "execution_count": null,
   "metadata": {},
   "outputs": [],
   "source": [
    "Transform.from_scaling(x=1, y=-1, z=(1, 2, 3))\n"
   ]
  },
  {
   "cell_type": "code",
   "execution_count": null,
   "metadata": {},
   "outputs": [],
   "source": [
    "from py3d import Vector3, Transform\n",
    "points = (Vector3.Rand(1000)-0.5).U @ Transform.from_scaling(x=2)\n",
    "points.as_point().render()\n"
   ]
  },
  {
   "cell_type": "markdown",
   "metadata": {},
   "source": [
    "## Rotation"
   ]
  },
  {
   "cell_type": "markdown",
   "metadata": {},
   "source": [
    "### Euler angles"
   ]
  },
  {
   "cell_type": "markdown",
   "metadata": {},
   "source": [
    "#### Extrinsic Rotation"
   ]
  },
  {
   "cell_type": "code",
   "execution_count": null,
   "metadata": {},
   "outputs": [],
   "source": [
    "import py3d\n",
    "py3d.Transform.from_euler(\"xyz\", [0.4, -0.2, 0])\n"
   ]
  },
  {
   "cell_type": "markdown",
   "metadata": {},
   "source": [
    "#### Intrinsic Rotation"
   ]
  },
  {
   "cell_type": "code",
   "execution_count": null,
   "metadata": {},
   "outputs": [],
   "source": [
    "import py3d\n",
    "py3d.Transform.from_euler(\"XYZ\", [0.4, -0.2, 0])\n"
   ]
  },
  {
   "cell_type": "markdown",
   "metadata": {},
   "source": [
    "#### Difference between extrinsic rotation and intrinsic rotation"
   ]
  },
  {
   "cell_type": "code",
   "execution_count": null,
   "metadata": {},
   "outputs": [],
   "source": [
    "import py3d\n",
    "v = py3d.Viewer()\n",
    "e_car = py3d.Utils.Car()\n",
    "e_car.color = py3d.Color(g=1)\n",
    "e_car.vertex @= py3d.Transform.from_euler(\"xyz\", [0.4, -0.2, 0])\n",
    "i_car = py3d.Utils.Car()\n",
    "i_car.color = py3d.Color(r=1)\n",
    "i_car.vertex @= py3d.Transform.from_euler(\"XYZ\", [0.4, -0.2, 0])\n",
    "v.render(e_car, i_car, py3d.Utils.Grid())\n",
    "v.show()\n"
   ]
  },
  {
   "cell_type": "markdown",
   "metadata": {},
   "source": [
    "#### RPY\n",
    "\n",
    "In **py3d**, rpy represents roll, pitch and yaw, it is kind of intrinsic rotation"
   ]
  },
  {
   "cell_type": "code",
   "execution_count": null,
   "metadata": {},
   "outputs": [],
   "source": [
    "from PIL import Image\n",
    "import numpy\n",
    "import py3d\n",
    "img = numpy.array(Image.open(\"py3d/doc/20220917214012.jpg\"))\n",
    "hw = img.shape[0]//2\n",
    "hh = img.shape[1]//2\n",
    "point = py3d.Vector3.Grid(range(-hw, hw), range(-hh, hh))[::3, ::3]*0.01\n",
    "point = point.as_point()\n",
    "point.color = py3d.Vector3(img/255).H[::3, ::3]\n",
    "point.vertex @= py3d.Transform.from_rpy([0, 0, -py3d.pi/2])\n",
    "point.render()\n"
   ]
  },
  {
   "cell_type": "markdown",
   "metadata": {},
   "source": [
    "### Quaternion\n",
    "\n",
    "In **py3d**, quaternion is in scalar-last format"
   ]
  },
  {
   "cell_type": "code",
   "execution_count": null,
   "metadata": {},
   "outputs": [],
   "source": [
    "import py3d\n",
    "q = [\n",
    "    [0, 0, 0, 1],\n",
    "    [0, 0, 1, 0],\n",
    "    [0, 1, 0, 0],\n",
    "    [1, 0, 0, 0]\n",
    "]\n",
    "py3d.Transform.from_quaternion(q)\n"
   ]
  },
  {
   "cell_type": "code",
   "execution_count": null,
   "metadata": {},
   "outputs": [],
   "source": [
    "from scipy.spatial.transform import Rotation\n",
    "import numpy\n",
    "assert numpy.allclose(_.as_quaternion(), q)\n",
    "assert numpy.allclose(_[..., 0:3, 0:3], Rotation.from_quat(q).as_matrix())\n"
   ]
  },
  {
   "cell_type": "code",
   "execution_count": null,
   "metadata": {},
   "outputs": [],
   "source": [
    "import py3d\n",
    "py3d.Vector4(q).as_transform()\n"
   ]
  },
  {
   "cell_type": "code",
   "execution_count": null,
   "metadata": {},
   "outputs": [],
   "source": [
    "from scipy.spatial.transform import Rotation\n",
    "import numpy\n",
    "assert numpy.allclose(_.as_quaternion(), q)\n",
    "assert numpy.allclose(_[..., 0:3, 0:3], Rotation.from_quat(q).as_matrix())\n"
   ]
  },
  {
   "cell_type": "markdown",
   "metadata": {},
   "source": [
    "### Convert RPY to quaternion\n",
    "\n",
    "Return quaternion with sequence \"xyzw\" "
   ]
  },
  {
   "cell_type": "code",
   "execution_count": null,
   "metadata": {},
   "outputs": [],
   "source": [
    "import py3d\n",
    "rpy = [\n",
    "    [0, 0, -py3d.pi],\n",
    "    [0, 0, -py3d.pi-0.01],\n",
    "    [0, 0, -py3d.pi/3],\n",
    "    [-1, 0, 0],\n",
    "    [-py3d.pi, 0, 1],\n",
    "    [0, -py3d.pi, 0]]\n",
    "py3d.Transform.from_rpy(rpy).as_quaternion()\n"
   ]
  },
  {
   "cell_type": "code",
   "execution_count": null,
   "metadata": {},
   "outputs": [],
   "source": [
    "import numpy\n",
    "from scipy.spatial.transform import Rotation\n",
    "q = Rotation.from_euler(\"XYZ\", rpy).as_quat()\n",
    "equal = numpy.all(numpy.isclose(q, _), axis=1)\n",
    "opposite = numpy.all(numpy.isclose(-q, _), axis=1)\n",
    "assert numpy.all(equal | opposite)\n"
   ]
  },
  {
   "cell_type": "code",
   "execution_count": 1,
   "metadata": {},
   "outputs": [
    {
     "name": "stdout",
     "output_type": "stream",
     "text": [
      "Welcome to py3d world, please visit https://tumiz.github.io/scenario/ for more information\n"
     ]
    },
    {
     "data": {
      "text/html": [
       "<!DOCTYPE html>\n",
       "<html lang=\"en\">\n",
       "<meta name=\"viewport\" content=\"width=device-width, initial-scale=1\">\n",
       "<title>py3d</title>\n",
       "\n",
       "<div id=401601de-4487-11ed-a39c-3168e9d55355>\n",
       "</div>\n",
       "<script>\n",
       "\t{\n",
       "\t\tconst cache = {\"0\": {\"140387722081856\": {\"mode\": \"LINES\", \"vertex\": [3.24544068, -1.4610586, 1.21331756, 2.726092290499998, -1.3324291607090197, 2.0581440022952346, 3.66378017, -1.32072563, 1.89712674, 3.0619750436875597, -1.1673514504772677, 2.6809040991265665, -5.0884622, -2.48626808, 1.68773464, -4.641152168896208, -2.489213663571742, 2.58210875577007, -5.47338134, -2.65634697, 2.02463642, -4.987609689922681, -2.636816046999536, 2.898503941437902, 1.830746, -0.8155359, 1.90245186, 1.4918796718474683, -0.7553956268571872, 2.8413622703641215, -0.7094184, -0.84719837, 1.4467056, -0.7835408254506894, -0.8718751676900526, 2.4436493906623302, -1.72178753, -0.681502, 1.17706321, -1.6410972959271022, -0.7355151910190506, 2.172337876297724, -3.88463547, -1.20610078, 1.14303617, -3.6253065974255416, -1.2782165924347608, 2.106129023619256, -4.527405, -3.12150274, 0.94426914, -4.303246313258131, -2.863011548348472, 1.883915448767079, 4.13260871, -1.71061771, 1.49295544, 3.595358616960785, -1.5642001280647984, 2.323572215693244, 3.25896384, -1.46451182, 0.9032174, 2.775953055227802, -1.349168000272856, 1.7712014939501726, -3.63891521, -1.03317465, 1.11405222, -3.3957863535355832, -1.1007358517700816, 2.0816905010189464], \"color\": [0.0, 0.0, 1.0, 1.0, 1.0, 0.0, 0.0, 1.0, 0.0, 0.0, 1.0, 1.0, 1.0, 0.0, 0.0, 1.0, 0.0, 0.0, 1.0, 1.0, 1.0, 0.0, 0.0, 1.0, 0.0, 0.0, 1.0, 1.0, 1.0, 0.0, 0.0, 1.0, 0.0, 0.0, 1.0, 1.0, 1.0, 0.0, 0.0, 1.0, 0.0, 0.0, 1.0, 1.0, 1.0, 0.0, 0.0, 1.0, 0.0, 0.0, 1.0, 1.0, 1.0, 0.0, 0.0, 1.0, 0.0, 0.0, 1.0, 1.0, 1.0, 0.0, 0.0, 1.0, 0.0, 0.0, 1.0, 1.0, 1.0, 0.0, 0.0, 1.0, 0.0, 0.0, 1.0, 1.0, 1.0, 0.0, 0.0, 1.0, 0.0, 0.0, 1.0, 1.0, 1.0, 0.0, 0.0, 1.0, 0.0, 0.0, 1.0, 1.0, 1.0, 0.0, 0.0, 1.0]}, \"140387718379968\": {\"mode\": \"LINES\", \"vertex\": [-5.0, -5.0, 0.0, 5.0, -5.0, 0.0, -5.0, -4.0, 0.0, 5.0, -4.0, 0.0, -5.0, -3.0, 0.0, 5.0, -3.0, 0.0, -5.0, -2.0, 0.0, 5.0, -2.0, 0.0, -5.0, -1.0, 0.0, 5.0, -1.0, 0.0, -5.0, 0.0, 0.0, 5.0, 0.0, 0.0, -5.0, 1.0, 0.0, 5.0, 1.0, 0.0, -5.0, 2.0, 0.0, 5.0, 2.0, 0.0, -5.0, 3.0, 0.0, 5.0, 3.0, 0.0, -5.0, 4.0, 0.0, 5.0, 4.0, 0.0, -5.0, 5.0, 0.0, 5.0, 5.0, 0.0, 5.0, -5.0, 0.0, 5.0, 5.0, 0.0, 3.9999999999999996, -5.0, 0.0, 4.0, 5.0, 0.0, 2.9999999999999996, -5.0, 0.0, 3.0000000000000004, 5.0, 0.0, 1.9999999999999998, -5.0, 0.0, 2.0000000000000004, 5.0, 0.0, 0.9999999999999997, -5.0, 0.0, 1.0000000000000002, 5.0, 0.0, -3.061616997868383e-16, -5.0, 0.0, 3.061616997868383e-16, 5.0, 0.0, -1.0000000000000002, -5.0, 0.0, -0.9999999999999997, 5.0, 0.0, -2.0000000000000004, -5.0, 0.0, -1.9999999999999998, 5.0, 0.0, -3.0000000000000004, -5.0, 0.0, -2.9999999999999996, 5.0, 0.0, -4.0, -5.0, 0.0, -3.9999999999999996, 5.0, 0.0, -5.0, -5.0, 0.0, -5.0, 5.0, 0.0], \"color\": [0.0, 0.0, 0.0, 1.0, 0.0, 0.0, 0.0, 1.0, 0.0, 0.0, 0.0, 1.0, 0.0, 0.0, 0.0, 1.0, 0.0, 0.0, 0.0, 1.0, 0.0, 0.0, 0.0, 1.0, 0.0, 0.0, 0.0, 1.0, 0.0, 0.0, 0.0, 1.0, 0.0, 0.0, 0.0, 1.0, 0.0, 0.0, 0.0, 1.0, 0.0, 0.0, 0.0, 1.0, 1.0, 0.0, 0.0, 1.0, 0.0, 0.0, 0.0, 1.0, 0.0, 0.0, 0.0, 1.0, 0.0, 0.0, 0.0, 1.0, 0.0, 0.0, 0.0, 1.0, 0.0, 0.0, 0.0, 1.0, 0.0, 0.0, 0.0, 1.0, 0.0, 0.0, 0.0, 1.0, 0.0, 0.0, 0.0, 1.0, 0.0, 0.0, 0.0, 1.0, 0.0, 0.0, 0.0, 1.0, 0.0, 0.0, 0.0, 1.0, 0.0, 0.0, 0.0, 1.0, 0.0, 0.0, 0.0, 1.0, 0.0, 0.0, 0.0, 1.0, 0.0, 0.0, 0.0, 1.0, 0.0, 0.0, 0.0, 1.0, 0.0, 0.0, 0.0, 1.0, 0.0, 0.0, 0.0, 1.0, 0.0, 0.0, 0.0, 1.0, 0.0, 0.0, 0.0, 1.0, 0.0, 0.0, 0.0, 1.0, 0.0, 1.0, 0.0, 1.0, 0.0, 0.0, 0.0, 1.0, 0.0, 0.0, 0.0, 1.0, 0.0, 0.0, 0.0, 1.0, 0.0, 0.0, 0.0, 1.0, 0.0, 0.0, 0.0, 1.0, 0.0, 0.0, 0.0, 1.0, 0.0, 0.0, 0.0, 1.0, 0.0, 0.0, 0.0, 1.0, 0.0, 0.0, 0.0, 1.0, 0.0, 0.0, 0.0, 1.0]}}}\n",
       "\t\tclass TimeBar {\n",
       "\t\t\tconstructor() {\n",
       "\t\t\t\tthis.bar = document.createElement(\"div\")\n",
       "\t\t\t\tthis.ts = Object.keys(cache)\n",
       "\t\t\t\tthis.frames = Object.values(cache)\n",
       "\t\t\t\tthis.current_frame = this.frames[this.frames.length - 1]\n",
       "\t\t\t\tthis.slider = document.createElement(\"input\")\n",
       "\t\t\t\tthis.slider.type = \"range\"\n",
       "\t\t\t\tthis.slider.style.width = \"380px\"\n",
       "\t\t\t\tthis.slider.style.verticalAlign = \"middle\"\n",
       "\t\t\t\tthis.slider.style.height = \"2px\"\n",
       "\t\t\t\tthis.slider.min = 0\n",
       "\t\t\t\tthis.slider.max = this.ts.length - 1\n",
       "\t\t\t\tthis.slider.value = this.slider.min\n",
       "\t\t\t\tthis.slider.style.display = \"inline\"\n",
       "\t\t\t\tthis.time = document.createElement(\"div\")\n",
       "\t\t\t\tthis.time.style.display = \"inline\"\n",
       "\t\t\t\tthis.time.innerHTML = this.ts[this.slider.value]\n",
       "\t\t\t\tthis.bar.append(this.slider, this.time)\n",
       "\t\t\t\tthis.bar.style.display = this.ts.length > 1 ? \"block\" : \"none\"\n",
       "\t\t\t}\n",
       "\t\t}\n",
       "\t\tclass ToolBar {\n",
       "\t\t\tconstructor() {\n",
       "\t\t\t\tthis.bar = document.createElement(\"div\")\n",
       "\t\t\t\tthis.enable = false\n",
       "\t\t\t\tthis.btn_enable = document.createElement(\"button\")\n",
       "\t\t\t\tthis.btn_enable.innerHTML = \"?\"\n",
       "\t\t\t\tthis.btn_enable.style.width = \"20px\"\n",
       "\t\t\t\tthis.btn_enable.style.height = \"20px\"\n",
       "\t\t\t\tthis.btn_enable.style.border = \"0px\"\n",
       "\t\t\t\tthis.btn_enable.style.borderRadius = \"10px\"\n",
       "\t\t\t\tthis.tooltip = document.createElement(\"div\")\n",
       "\t\t\t\tthis.tooltip.innerHTML = `\n",
       "\t\t\t\trotate: press left mouse button and move<br/>\n",
       "\t\t\t\tzoom: mouse wheel\n",
       "\t\t\t\t`\n",
       "\t\t\t\tthis.tooltip.style.display = \"none\"\n",
       "\t\t\t\tthis.btn_enable.onclick = (ev) => {\n",
       "\t\t\t\t\tif (this.enable) {\n",
       "\t\t\t\t\t\tthis.tooltip.style.display = \"none\"\n",
       "\t\t\t\t\t\tthis.enable = false\n",
       "\t\t\t\t\t\tthis.btn_enable.style.backgroundColor = \"\"\n",
       "\t\t\t\t\t} else {\n",
       "\t\t\t\t\t\tthis.tooltip.style.display = \"block\"\n",
       "\t\t\t\t\t\tthis.btn_enable.style.backgroundColor = \"gray\"\n",
       "\t\t\t\t\t\tthis.enable = true\n",
       "\t\t\t\t\t}\n",
       "\t\t\t\t}\n",
       "\t\t\t\tthis.bar.append(this.btn_enable, this.tooltip)\n",
       "\t\t\t}\n",
       "\t\t}\n",
       "\t\tclass mat {\n",
       "\t\t\tstatic identity() {\n",
       "\t\t\t\treturn [\n",
       "\t\t\t\t\t1, 0, 0, 0,\n",
       "\t\t\t\t\t0, 1, 0, 0,\n",
       "\t\t\t\t\t0, 0, 1, 0,\n",
       "\t\t\t\t\t0, 0, 0, 1]\n",
       "\t\t\t}\n",
       "\t\t\tstatic right_to_left() {\n",
       "\t\t\t\treturn [\n",
       "\t\t\t\t\t1, 0, 0, 0,\n",
       "\t\t\t\t\t0, 1, 0, 0,\n",
       "\t\t\t\t\t0, 0, -1, 0,\n",
       "\t\t\t\t\t0, 0, 0, 1]\n",
       "\t\t\t}\n",
       "\t\t\tstatic orthographic(l, r, t, b, n, f) {\n",
       "\t\t\t\treturn [\n",
       "\t\t\t\t\t2 / (r - l), 0, 0, 0,\n",
       "\t\t\t\t\t0, 2 / (t - b), 0, 0,\n",
       "\t\t\t\t\t0, 0, 2 / (n - f), 0,\n",
       "\t\t\t\t\t(l + r) / (l - r), (t + b) / (b - t), (n + f) / (f - n), 1]\n",
       "\t\t\t}\n",
       "\t\t\tstatic perspective(fovy, aspect, near, far) {\n",
       "\t\t\t\tconst f = 1 / Math.tan(fovy / 2)\n",
       "\t\t\t\tconst range_inv = 1.0 / (near - far)\n",
       "\t\t\t\treturn [\n",
       "\t\t\t\t\tf / aspect, 0, 0, 0,\n",
       "\t\t\t\t\t0, f, 0, 0,\n",
       "\t\t\t\t\t0, 0, (near + far) * range_inv, 1,\n",
       "\t\t\t\t\t0, 0, -2 * near * far * range_inv, 0]\n",
       "\t\t\t}\n",
       "\t\t\tstatic translation(x, y, z) {\n",
       "\t\t\t\treturn [\n",
       "\t\t\t\t\t1, 0, 0, 0,\n",
       "\t\t\t\t\t0, 1, 0, 0,\n",
       "\t\t\t\t\t0, 0, 1, 0,\n",
       "\t\t\t\t\tx, y, z, 1]\n",
       "\t\t\t}\n",
       "\t\t\tstatic rz(a) {\n",
       "\t\t\t\tconst cos = Math.cos(a)\n",
       "\t\t\t\tconst sin = Math.sin(a)\n",
       "\t\t\t\treturn [\n",
       "\t\t\t\t\tcos, sin, 0, 0,\n",
       "\t\t\t\t\t-sin, cos, 0, 0,\n",
       "\t\t\t\t\t0, 0, 1, 0,\n",
       "\t\t\t\t\t0, 0, 0, 1]\n",
       "\t\t\t}\n",
       "\t\t\tstatic ry(a) {\n",
       "\t\t\t\tconst cos = Math.cos(a)\n",
       "\t\t\t\tconst sin = Math.sin(a)\n",
       "\t\t\t\treturn [\n",
       "\t\t\t\t\tcos, 0, -sin, 0,\n",
       "\t\t\t\t\t0, 1, 0, 0,\n",
       "\t\t\t\t\tsin, 0, cos, 0,\n",
       "\t\t\t\t\t0, 0, 0, 1]\n",
       "\t\t\t}\n",
       "\t\t\tstatic rx(a) {\n",
       "\t\t\t\tconst cos = Math.cos(a)\n",
       "\t\t\t\tconst sin = Math.sin(a)\n",
       "\t\t\t\treturn [\n",
       "\t\t\t\t\t1, 0, 0, 0,\n",
       "\t\t\t\t\t0, cos, sin, 0,\n",
       "\t\t\t\t\t0, -sin, cos, 0,\n",
       "\t\t\t\t\t0, 0, 0, 1]\n",
       "\t\t\t}\n",
       "\t\t\tstatic matmul(m, v) {\n",
       "\t\t\t\tconsole.assert(m.length == 16 && v.length == 4, m, v)\n",
       "\t\t\t\tlet ret = []\n",
       "\t\t\t\tfor (let j of [0, 1, 2, 3]) {\n",
       "\t\t\t\t\tret.push(m[j] * v[0] + m[j + 4] * v[1] + m[j + 8] * v[2] + m[j + 12] * v[3])\n",
       "\t\t\t\t}\n",
       "\t\t\t\treturn ret\n",
       "\t\t\t}\n",
       "\t\t}\n",
       "\t\tclass Utils {\n",
       "\t\t\tstatic distance(x0, y0, x1, y1) {\n",
       "\t\t\t\tx1 = x1 ? x1 : 0\n",
       "\t\t\t\ty1 = y1 ? y1 : 0\n",
       "\t\t\t\treturn Math.sqrt(Math.pow(x0 - x1, 2) + Math.pow(y0 - y1, 2))\n",
       "\t\t\t}\n",
       "\t\t}\n",
       "\t\tclass Camera {\n",
       "\t\t\tPESPECTIVE = 0\n",
       "\t\t\tORTHOGRAPHIC = 1\n",
       "\t\t\tconstructor(fovy, aspect, near, far) {\n",
       "\t\t\t\tthis.type = this.PESPECTIVE\n",
       "\t\t\t\tthis.projection = mat.perspective(fovy, aspect, near, far)\n",
       "\t\t\t\tthis.height = 10\n",
       "\t\t\t\tthis.rx = 0\n",
       "\t\t\t\tthis.ry = 0\n",
       "\t\t\t\tthis.center = []\n",
       "\t\t\t}\n",
       "\t\t}\n",
       "\t\tclass Viewer {\n",
       "\t\t\tconstructor() {\n",
       "\t\t\t\tthis.canvas_x = 0\n",
       "\t\t\t\tthis.canvas_y = 0\n",
       "\t\t\t\tthis.canvas = document.createElement(\"canvas\")\n",
       "\t\t\t\tthis.canvas.style.width = \"400px\"\n",
       "\t\t\t\tthis.canvas.style.height = \"300px\"\n",
       "\t\t\t\tthis.canvas.width = 400\n",
       "\t\t\t\tthis.canvas.height = 300\n",
       "\t\t\t\tthis.canvas.style.outlineWidth = 0\n",
       "\t\t\t\tthis.camera = new Camera(Math.PI / 3, 4 / 3, 1, 100)\n",
       "\t\t\t\tthis.camera.height = -10\n",
       "\t\t\t\tthis.toolbar = new ToolBar()\n",
       "\t\t\t\tthis.timebar = new TimeBar()\n",
       "\t\t\t\tdocument.getElementById(\"401601de-4487-11ed-a39c-3168e9d55355\").append(this.canvas, this.timebar.bar, this.toolbar.bar)\n",
       "\t\t\t\tthis.canvas.onmouseenter = (ev) => {\n",
       "\t\t\t\t\tthis.canvas_x = ev.clientX\n",
       "\t\t\t\t\tthis.canvas_y = ev.clientY\n",
       "\t\t\t\t\tthis.canvas.tabIndex = 0\n",
       "\t\t\t\t\tthis.canvas.focus()\n",
       "\t\t\t\t}\n",
       "\t\t\t\tthis.canvas.onmousemove = (ev) => {\n",
       "\t\t\t\t\tif (ev.buttons == 1) {\n",
       "\t\t\t\t\t\tthis.camera.rx += (ev.clientY - this.canvas_y) / 100\n",
       "\t\t\t\t\t\tthis.camera.ry += (ev.clientX - this.canvas_x) / 100\n",
       "\t\t\t\t\t\tthis.render()\n",
       "\t\t\t\t\t}\n",
       "\t\t\t\t\tthis.canvas_x = ev.clientX\n",
       "\t\t\t\t\tthis.canvas_y = ev.clientY\n",
       "\t\t\t\t}\n",
       "\t\t\t\tthis.canvas.onwheel = (ev) => {\n",
       "\t\t\t\t\tev.preventDefault()\n",
       "\t\t\t\t\tthis.camera.height -= ev.deltaY / 100\n",
       "\t\t\t\t\tthis.render()\n",
       "\t\t\t\t}\n",
       "\t\t\t\tthis.timebar.slider.oninput = (ev) => {\n",
       "\t\t\t\t\tthis.timebar.current_frame = this.timebar.frames[this.timebar.slider.value]\n",
       "\t\t\t\t\tthis.timebar.time.innerHTML = this.timebar.ts[this.timebar.slider.value]\n",
       "\t\t\t\t\tthis.render()\n",
       "\t\t\t\t}\n",
       "\t\t\t\tthis.gl = this.canvas.getContext(\"webgl\")\n",
       "\t\t\t\tif (!this.gl) {\n",
       "\t\t\t\t\talert(\"webgl not work\")\n",
       "\t\t\t\t}\n",
       "\t\t\t\tthis.program = this.gl.createProgram()\n",
       "\t\t\t\tthis.vertices_size = 0\n",
       "\t\t\t}\n",
       "\t\t\tset_attribute(name, array, item_size) {\n",
       "\t\t\t\tconst buffer = this.gl.createBuffer()\n",
       "\t\t\t\tthis.gl.bindBuffer(this.gl.ARRAY_BUFFER, buffer)\n",
       "\t\t\t\tthis.gl.bufferData(this.gl.ARRAY_BUFFER, new Float32Array(array), this.gl.STATIC_DRAW)\n",
       "\t\t\t\tconst location = this.gl.getAttribLocation(this.program, name)\n",
       "\t\t\t\tthis.gl.enableVertexAttribArray(location)\n",
       "\t\t\t\tthis.gl.vertexAttribPointer(location, item_size, this.gl.FLOAT, false, 0, 0)\n",
       "\t\t\t\tthis.vertices_size = array.length / item_size\n",
       "\t\t\t}\n",
       "\t\t\tset_uniform(name, array) {\n",
       "\t\t\t\tconst location = this.gl.getUniformLocation(this.program, name)\n",
       "\t\t\t\tthis.gl.uniformMatrix4fv(location, false, array)\n",
       "\t\t\t}\n",
       "\t\t\tset_shader(type, code) {\n",
       "\t\t\t\tconst shader = this.gl.createShader(type)\n",
       "\t\t\t\tthis.gl.shaderSource(shader, code)\n",
       "\t\t\t\tthis.gl.compileShader(shader)\n",
       "\t\t\t\tthis.gl.attachShader(this.program, shader)\n",
       "\t\t\t}\n",
       "\t\t\tset_program(vertex_shader_code, fragment_shader_code) {\n",
       "\t\t\t\tthis.set_shader(this.gl.VERTEX_SHADER, vertex_shader_code)\n",
       "\t\t\t\tthis.set_shader(this.gl.FRAGMENT_SHADER, fragment_shader_code)\n",
       "\t\t\t\tthis.gl.linkProgram(this.program)\n",
       "\t\t\t\tif (!this.gl.getProgramParameter(this.program, this.gl.LINK_STATUS)) {\n",
       "\t\t\t\t\talert('Unable to initialize the shader program: ' + this.gl.getProgramInfoLog(this.program))\n",
       "\t\t\t\t}\n",
       "\t\t\t}\n",
       "\t\t\trender() {\n",
       "\t\t\t\tthis.gl.clearColor(0, 0, 0, 0)\n",
       "\t\t\t\t// this.gl.clearDepth(1.0);                 // Clear everything\n",
       "\t\t\t\tthis.gl.enable(this.gl.DEPTH_TEST);\n",
       "\t\t\t\t// this.gl.depthFunc(this.gl.LEQUAL);            // Near things obscure far things\n",
       "\t\t\t\tthis.gl.clear(this.gl.COLOR_BUFFER_BIT | this.gl.DEPTH_BUFFER_BIT);\n",
       "\t\t\t\tthis.gl.useProgram(this.program)\n",
       "\t\t\t\tthis.set_uniform(\"height_view\", mat.translation(0, 0, -this.camera.height))\n",
       "\t\t\t\tthis.set_uniform(\"rx_view\", mat.rx(-this.camera.rx))\n",
       "\t\t\t\tthis.set_uniform(\"ry_view\", mat.ry(-this.camera.ry))\n",
       "\t\t\t\tthis.set_uniform(\"projection\", this.camera.projection)\n",
       "\t\t\t\tthis.set_uniform(\"right_to_left\", mat.right_to_left())\n",
       "\t\t\t\tfor (let obj_id in this.timebar.current_frame) {\n",
       "\t\t\t\t\tlet obj = this.timebar.current_frame[obj_id]\n",
       "\t\t\t\t\tthis.set_attribute(\"position\", obj.vertex, 3)\n",
       "\t\t\t\t\tthis.set_attribute(\"color\", obj.color, 4)\n",
       "\t\t\t\t\tthis.gl.drawArrays(this.gl[obj.mode], 0, this.vertices_size)\n",
       "\t\t\t\t}\n",
       "\t\t\t}\n",
       "\t\t}\n",
       "\t\tconst viewer = new Viewer()\n",
       "\t\tviewer.set_program(`\n",
       "\t\t\tattribute vec4 position;\n",
       "\t\t\tattribute vec4 color;\n",
       "\t\t\tvarying vec4 v_color;\n",
       "\t\t\tuniform mat4 projection;\n",
       "\t\t\tuniform mat4 rx_view;\n",
       "\t\t\tuniform mat4 ry_view;\n",
       "\t\t\tuniform mat4 height_view;\n",
       "\t\t\tuniform mat4 right_to_left;\n",
       "\t\t\tvoid main(void) {\n",
       "\t\t\t\tv_color = color;\n",
       "\t\t\t\tgl_PointSize = 1.0;\n",
       "\t\t\t\tgl_Position = right_to_left * projection * height_view * rx_view * ry_view * right_to_left * position;\n",
       "\t\t\t}\n",
       "\t\t`, `\n",
       "\t\t\tprecision mediump float;\n",
       "\t\t\tvarying vec4 v_color;\n",
       "\t\t\tvoid main(void) {\n",
       "\t\t\t\tgl_FragColor = v_color;\n",
       "\t\t\t} \n",
       "\t\t`)\n",
       "\t\tviewer.render()\n",
       "\t}\n",
       "</script>\n",
       "\n",
       "</html>"
      ],
      "text/plain": [
       "<IPython.core.display.HTML object>"
      ]
     },
     "metadata": {},
     "output_type": "display_data"
    }
   ],
   "source": [
    "import py3d\n",
    "# positions\n",
    "p = [[3.24544068, -1.4610586,  1.21331756],\n",
    "     [3.66378017, -1.32072563,  1.89712674],\n",
    "     [-5.0884622, -2.48626808,  1.68773464],\n",
    "     [-5.47338134, -2.65634697,  2.02463642],\n",
    "     [1.830746, -0.8155359,  1.90245186],\n",
    "     [-0.7094184, -0.84719837,  1.4467056],\n",
    "     [-1.72178753, -0.681502,  1.17706321],\n",
    "     [-3.88463547, -1.20610078,  1.14303617],\n",
    "     [-4.527405, -3.12150274,  0.94426914],\n",
    "     [4.13260871, -1.71061771,  1.49295544],\n",
    "     [3.25896384, -1.46451182,  0.9032174],\n",
    "     [-3.63891521, -1.03317465,  1.11405222]]\n",
    "# quaternions\n",
    "q = [[0.00307048, -0.27852711, -0.24115858,  0.92965357],\n",
    "     [0.00955487, -0.328664, -0.25972646,  0.90798174],\n",
    "     [0.05519327,  0.22308439,  0.22751421,  0.94626864],\n",
    "     [0.05064761,  0.24596963,  0.23314524,  0.93945572],\n",
    "     [-0.01006987, -0.17448035, -0.11591101,  0.97776267],\n",
    "     [0.01230182, -0.03710485,  0.00123949,  0.99923489],\n",
    "     [0.02991609,  0.0383105,  0.0729396,  0.99615117],\n",
    "     [0.05252438,  0.12527874,  0.1242716,  0.98290538],\n",
    "     [-0.09333274,  0.14651227,  0.2808575,  0.94389735],\n",
    "     [0.00967634, -0.29085732, -0.28211318,  0.91417752],\n",
    "     [0.00214324, -0.25691119, -0.23230781,  0.93809655],\n",
    "     [0.04813863,  0.1177435,  0.11584668,  0.98508816]]\n",
    "\n",
    "vertice = py3d.Vector3(z=[0, 1]) @ py3d.Transform.from_quaternion(q) @ py3d.Transform.from_translation(p)\n",
    "directions = vertice.as_linesegment()\n",
    "directions.start.color = py3d.Color(b=1)\n",
    "directions.end.color = py3d.Color(r=1)\n",
    "v = py3d.Viewer()\n",
    "v.render(directions, py3d.Utils.Grid())\n",
    "v.show()\n"
   ]
  },
  {
   "cell_type": "markdown",
   "metadata": {},
   "source": [
    "### Axis angles"
   ]
  },
  {
   "cell_type": "code",
   "execution_count": null,
   "metadata": {},
   "outputs": [],
   "source": [
    "import py3d\n",
    "py3d.Transform.from_angle_axis([2, 1], [0, 1, 0])\n"
   ]
  },
  {
   "cell_type": "markdown",
   "metadata": {},
   "source": [
    "## Orthographic projection"
   ]
  },
  {
   "cell_type": "code",
   "execution_count": null,
   "metadata": {},
   "outputs": [],
   "source": [
    "from sympy import Matrix, symbols\n",
    "l, r, t, b, n, f = symbols(\"l r t b n f\")\n",
    "m_scale = Matrix([\n",
    "    [2/(r-l), 0, 0, 0],\n",
    "    [0, 2/(t-b), 0, 0],\n",
    "    [0, 0, 2/(n-f), 0],\n",
    "    [0, 0, 0, 1]\n",
    "])\n",
    "m_translate = Matrix([\n",
    "    [1, 0, 0, -(l+r)/2],\n",
    "    [0, 1, 0, -(b+t)/2],\n",
    "    [0, 0, 1, -(f+n)/2],\n",
    "    [0, 0, 0, 1]\n",
    "])\n",
    "m_scale*m_translate\n"
   ]
  },
  {
   "cell_type": "markdown",
   "metadata": {},
   "source": [
    "## Perspective projection"
   ]
  },
  {
   "cell_type": "code",
   "execution_count": null,
   "metadata": {},
   "outputs": [],
   "source": [
    "from py3d import Transform, pi, Vector3\n",
    "projection = Transform.from_perspective(pi/2, 1.2, 0, 1000)\n",
    "projection\n"
   ]
  },
  {
   "cell_type": "code",
   "execution_count": null,
   "metadata": {},
   "outputs": [],
   "source": [
    "from py3d import Camera, pi, Vector3, Transform\n",
    "import matplotlib.pyplot as plt\n",
    "camera = Camera()\n",
    "camera.transform.translation = Transform.from_translation([0, 0, 10])\n",
    "camera.transform.rotation = Transform.from_rpy([0, 0, 0])\n",
    "camera.projection = Transform.from_perspective(pi/3, 1, 1, 1000)\n",
    "points = Vector3.Rand(100)\n",
    "proj = points @ camera.matrix\n",
    "plt.gca().set_aspect(1)\n",
    "plt.scatter(proj.x, proj.y)\n"
   ]
  },
  {
   "cell_type": "code",
   "execution_count": null,
   "metadata": {},
   "outputs": [],
   "source": [
    "from numpy import allclose\n",
    "from py3d import Transform, Vector3\n",
    "assert (Transform([\n",
    "    [1., 0., 0.3, 0.],\n",
    "    [0., 1., 0., 0.],\n",
    "    [0., 0., 0.1, 0.],\n",
    "    [-1., 0., 0., 1.]\n",
    "]) == [\n",
    "    [1., 0., 0.3, 0.],\n",
    "    [0., 1., 0., 0.],\n",
    "    [0., 0., 0.1, 0.],\n",
    "    [-1., 0., 0., 1.]\n",
    "]).all()\n",
    "assert Transform(n=(2, 3)).shape == (2, 3, 4, 4)\n",
    "assert Transform(n=(4, 5)).n == (4, 5)\n",
    "assert ((Vector3(x=1).H @ Transform())[..., 0:3] == Vector3(x=1)).all()\n",
    "assert (Vector3(x=1) @ Transform() == Vector3(x=1)).all()\n",
    "p = Vector3([1, 2, 3])\n",
    "T = Transform.from_translation([1, 2, 3])\n",
    "R = Transform.from_euler(\"xyz\", [0, 0, 1])\n",
    "assert allclose(p @ T @ R, p @ (T@R))\n"
   ]
  }
 ],
 "metadata": {
  "kernelspec": {
   "display_name": "Python 3.10.6 64-bit",
   "language": "python",
   "name": "python3"
  },
  "language_info": {
   "codemirror_mode": {
    "name": "ipython",
    "version": 3
   },
   "file_extension": ".py",
   "mimetype": "text/x-python",
   "name": "python",
   "nbconvert_exporter": "python",
   "pygments_lexer": "ipython3",
   "version": "3.10.6"
  },
  "vscode": {
   "interpreter": {
    "hash": "916dbcbb3f70747c44a77c7bcd40155683ae19c65e1c03b4aa3499c5328201f1"
   }
  }
 },
 "nbformat": 4,
 "nbformat_minor": 4
}
