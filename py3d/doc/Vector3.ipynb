{
 "cells": [
  {
   "cell_type": "markdown",
   "metadata": {},
   "source": [
    "# Vector3 #\n",
    " represents point or position, velocity and scale. Note! Angular velocity can not be represented by this\n",
    "      type, it should be represented by **Transform**. It is a class inheriting\n",
    "      numpy.ndarray, so it is also ndarray."
   ]
  },
  {
   "cell_type": "code",
   "execution_count": null,
   "metadata": {},
   "outputs": [],
   "source": [
    "from py3d import Vector3\n",
    "Vector3()"
   ]
  },
  {
   "cell_type": "code",
   "execution_count": null,
   "metadata": {},
   "outputs": [],
   "source": [
    "assert _.tolist() == [0,0,0] and _.n == ()"
   ]
  },
  {
   "cell_type": "code",
   "execution_count": null,
   "metadata": {},
   "outputs": [],
   "source": [
    "Vector3(x=1.2)"
   ]
  },
  {
   "cell_type": "code",
   "execution_count": null,
   "metadata": {},
   "outputs": [],
   "source": [
    "assert _.tolist() == [1.2, 0, 0]"
   ]
  },
  {
   "cell_type": "code",
   "execution_count": null,
   "metadata": {},
   "outputs": [],
   "source": [
    "Vector3(x=1, y=3, z=-2.4)"
   ]
  },
  {
   "cell_type": "code",
   "execution_count": null,
   "metadata": {},
   "outputs": [],
   "source": [
    "assert _.tolist() == [1,3,-2.4]"
   ]
  },
  {
   "cell_type": "code",
   "execution_count": null,
   "metadata": {},
   "outputs": [],
   "source": [
    "import py3d\n",
    "py3d.Vector3(x=1, y=3, z=-2.4, n=(2,))"
   ]
  },
  {
   "cell_type": "code",
   "execution_count": null,
   "metadata": {},
   "outputs": [],
   "source": [
    "assert _.n == (2,)"
   ]
  },
  {
   "cell_type": "code",
   "execution_count": null,
   "metadata": {},
   "outputs": [],
   "source": [
    "import py3d\n",
    "\n",
    "p=py3d.Vector3(n=(2,3))\n",
    "p.x=range(3)\n",
    "p.y"
   ]
  },
  {
   "cell_type": "code",
   "execution_count": null,
   "metadata": {},
   "outputs": [],
   "source": [
    "import py3d\n",
    "\n",
    "py3d.Vector3(y=[[1,2],[2,3]],x=[2,0.1])"
   ]
  },
  {
   "cell_type": "markdown",
   "metadata": {},
   "source": [
    "## Grid"
   ]
  },
  {
   "cell_type": "code",
   "execution_count": null,
   "metadata": {},
   "outputs": [],
   "source": [
    "import py3d\n",
    "py3d.Vector3.Grid(range(-5,5), range(-5,5)).as_point().render()"
   ]
  },
  {
   "cell_type": "code",
   "execution_count": null,
   "metadata": {},
   "outputs": [],
   "source": [
    "import py3d\n",
    "py3d.Vector3.Grid([1,1.3,3.8,2,4], range(30), range(10)).as_point().render()"
   ]
  },
  {
   "cell_type": "markdown",
   "metadata": {},
   "source": [
    "## Unit Vector "
   ]
  },
  {
   "cell_type": "code",
   "execution_count": null,
   "metadata": {},
   "outputs": [],
   "source": [
    "Vector3().U"
   ]
  },
  {
   "cell_type": "code",
   "execution_count": null,
   "metadata": {},
   "outputs": [],
   "source": [
    "assert _.tolist() == [0,0,0]"
   ]
  },
  {
   "cell_type": "markdown",
   "metadata": {},
   "source": [
    "## Get length"
   ]
  },
  {
   "cell_type": "code",
   "execution_count": null,
   "metadata": {},
   "outputs": [],
   "source": [
    "Vector3([1,2,3]).L"
   ]
  },
  {
   "cell_type": "code",
   "execution_count": null,
   "metadata": {},
   "outputs": [],
   "source": [
    "Vector3([\n",
    "    [1,2,3],\n",
    "    [4,5,6]]).L"
   ]
  },
  {
   "cell_type": "code",
   "execution_count": null,
   "metadata": {},
   "outputs": [],
   "source": [
    "import numpy\n",
    "assert numpy.allclose(_[0],numpy.linalg.norm([1,2,3]))\n",
    "assert numpy.allclose(_[1],numpy.linalg.norm([4,5,6]))"
   ]
  },
  {
   "cell_type": "markdown",
   "metadata": {},
   "source": [
    "## Random Vector"
   ]
  },
  {
   "cell_type": "code",
   "execution_count": null,
   "metadata": {},
   "outputs": [],
   "source": [
    "Vector3.Rand()"
   ]
  },
  {
   "cell_type": "code",
   "execution_count": null,
   "metadata": {},
   "outputs": [],
   "source": [
    "assert _.n == ()"
   ]
  },
  {
   "cell_type": "markdown",
   "metadata": {},
   "source": [
    "Get a random vector list"
   ]
  },
  {
   "cell_type": "code",
   "execution_count": null,
   "metadata": {},
   "outputs": [],
   "source": [
    "Vector3.Rand(3)"
   ]
  },
  {
   "cell_type": "code",
   "execution_count": null,
   "metadata": {},
   "outputs": [],
   "source": [
    "assert _.n == (3,)"
   ]
  },
  {
   "cell_type": "markdown",
   "metadata": {},
   "source": [
    "## Cross product"
   ]
  },
  {
   "cell_type": "code",
   "execution_count": null,
   "metadata": {},
   "outputs": [],
   "source": [
    "Vector3(x=3).cross(Vector3(y=2))"
   ]
  },
  {
   "cell_type": "code",
   "execution_count": null,
   "metadata": {},
   "outputs": [],
   "source": [
    "assert _.L == 6"
   ]
  },
  {
   "cell_type": "markdown",
   "metadata": {},
   "source": [
    "## Dot product"
   ]
  },
  {
   "cell_type": "markdown",
   "metadata": {},
   "source": [
    "### Determine if two  2d vectors are perpendicular\n",
    "if two 2d vectors are perpendicular, then their dot product must be zero"
   ]
  },
  {
   "cell_type": "code",
   "execution_count": null,
   "metadata": {},
   "outputs": [],
   "source": [
    "import sympy\n",
    "x,y=sympy.symbols(\"x y\")\n",
    "a=sympy.Matrix([x,y,0])\n",
    "b=sympy.Matrix([-y,x,0])\n",
    "a.dot(b)"
   ]
  },
  {
   "cell_type": "code",
   "execution_count": null,
   "metadata": {},
   "outputs": [],
   "source": [
    "import py3d\n",
    "a=py3d.Vector3([1,2,0])\n",
    "b=py3d.Vector3([-2,1,0])\n",
    "a.dot(b)"
   ]
  },
  {
   "cell_type": "code",
   "execution_count": null,
   "metadata": {},
   "outputs": [],
   "source": [
    "assert _==0"
   ]
  },
  {
   "cell_type": "markdown",
   "metadata": {},
   "source": [
    "## Visualization"
   ]
  },
  {
   "cell_type": "markdown",
   "metadata": {},
   "source": [
    "### Points"
   ]
  },
  {
   "cell_type": "code",
   "execution_count": null,
   "metadata": {},
   "outputs": [],
   "source": [
    "z=numpy.linspace(0,3,300)\n",
    "points = Vector3(x=numpy.sin(10*z),y=numpy.cos(10*z),z=z)\n",
    "points.as_point().render()"
   ]
  },
  {
   "cell_type": "code",
   "execution_count": null,
   "metadata": {},
   "outputs": [],
   "source": [
    "points = (Vector3.Rand(1000)-0.5).U * 2\n",
    "points.as_point().render()"
   ]
  },
  {
   "cell_type": "code",
   "execution_count": null,
   "metadata": {},
   "outputs": [],
   "source": [
    "from numpy import allclose\n",
    "assert Vector3().U.L == 0\n",
    "assert allclose(Vector3.Rand().U.L, 1)\n",
    "assert Vector3(n=(2, 3)).n == (2, 3)\n",
    "assert (Vector3([\n",
    "    [1, 2, 3],\n",
    "    [2, 3, 4]\n",
    "]).H == [\n",
    "    [1, 2, 3, 1],\n",
    "    [2, 3, 4, 1]\n",
    "]).all()\n",
    "from py3d import Vector\n",
    "assert type(Vector3(x=[1, 2]).H) == Vector\n",
    "assert type(Vector3.Rand(2, 3)) == Vector3\n",
    "assert Vector3.Rand(2, 3).shape == (2, 3, 3)\n",
    "assert Vector3.Rand(2, 3).n == (2, 3)\n",
    "assert Vector3(y=[2, 3]).n == (2,)"
   ]
  },
  {
   "cell_type": "markdown",
   "metadata": {},
   "source": [
    "### Line"
   ]
  },
  {
   "cell_type": "code",
   "execution_count": null,
   "metadata": {},
   "outputs": [],
   "source": [
    "from py3d import Vector3\n",
    "import numpy\n",
    "x=numpy.linspace(0,10)\n",
    "Vector3(x=x,y=numpy.sin(x)).as_line().render()"
   ]
  },
  {
   "cell_type": "markdown",
   "metadata": {},
   "source": [
    "### Line segment"
   ]
  },
  {
   "cell_type": "code",
   "execution_count": null,
   "metadata": {},
   "outputs": [],
   "source": [
    "from py3d import Vector3\n",
    "import numpy\n",
    "x=numpy.linspace(0,10)\n",
    "Vector3(x=x,y=numpy.sin(x)).as_linesegment().render()"
   ]
  },
  {
   "cell_type": "markdown",
   "metadata": {},
   "source": [
    "### Vectors"
   ]
  },
  {
   "cell_type": "code",
   "execution_count": null,
   "metadata": {},
   "outputs": [],
   "source": [
    "import py3d\n",
    "v=py3d.Viewer()\n",
    "l=py3d.Vector3([\n",
    "    [1,1,1],\n",
    "    [-2,-3,-1],\n",
    "    [0.4,-3,2.2]\n",
    "]).as_vector()\n",
    "l[0].color=py3d.Color(r=1)\n",
    "l[1].color=py3d.Color(b=1)\n",
    "l[2].color=py3d.Color(g=1)\n",
    "v.render(l,py3d.Utils.Grid())\n",
    "v.show()"
   ]
  },
  {
   "cell_type": "code",
   "execution_count": null,
   "metadata": {},
   "outputs": [],
   "source": []
  }
 ],
 "metadata": {
  "kernelspec": {
   "display_name": "Python 3.10.6 64-bit",
   "language": "python",
   "name": "python3"
  },
  "language_info": {
   "codemirror_mode": {
    "name": "ipython",
    "version": 3
   },
   "file_extension": ".py",
   "mimetype": "text/x-python",
   "name": "python",
   "nbconvert_exporter": "python",
   "pygments_lexer": "ipython3",
   "version": "3.10.6"
  },
  "vscode": {
   "interpreter": {
    "hash": "916dbcbb3f70747c44a77c7bcd40155683ae19c65e1c03b4aa3499c5328201f1"
   }
  }
 },
 "nbformat": 4,
 "nbformat_minor": 4
}
