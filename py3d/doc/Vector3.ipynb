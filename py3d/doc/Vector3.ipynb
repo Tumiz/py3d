{
 "cells": [
  {
   "cell_type": "markdown",
   "source": [
    "*Copyright (c) Tumiz. Distributed under the terms of the GPL-3.0 License.*"
   ],
   "metadata": {}
  },
  {
   "cell_type": "markdown",
   "source": [
    "# Vector3 --Type for position, velocity & scale"
   ],
   "metadata": {}
  },
  {
   "cell_type": "markdown",
   "source": [
    "**Vector3** represents point or position, velocity and scale. Note! Angular velocity cant be represented by this type, it should be represented by Rotation3 which will indroduced in next section. It is a class inheriting numpy.ndarray, so it is also ndarray."
   ],
   "metadata": {}
  },
  {
   "cell_type": "markdown",
   "source": [
    "## Defination\n",
    "\n",
    "```python\n",
    "Vector3(x:int|float|list|tuple|ndarray,y:int|float,z:int|float,n:int):Vector3\n",
    "```   \n",
    "Vector3 can be a vector or a collection of vectors. "
   ],
   "metadata": {}
  },
  {
   "cell_type": "code",
   "execution_count": 1,
   "source": [
    "from py3d import Vector3\n",
    "from numpy import array\n",
    "a=Vector3(1,2,3)\n",
    "b=Vector3([1,2,3])\n",
    "c=Vector3((1,2,3))\n",
    "d=Vector3(array([1,2,3]))\n",
    "e=Vector3(1,2,3,4)\n",
    "a,b,c,d,e"
   ],
   "outputs": [
    {
     "output_type": "execute_result",
     "data": {
      "text/plain": [
       "(Vector3([1., 2., 3.]),\n",
       " Vector3([1., 2., 3.]),\n",
       " Vector3([1., 2., 3.]),\n",
       " Vector3([1., 2., 3.]),\n",
       " Vector3([[1., 2., 3.],\n",
       "          [1., 2., 3.],\n",
       "          [1., 2., 3.],\n",
       "          [1., 2., 3.]]))"
      ]
     },
     "metadata": {},
     "execution_count": 1
    }
   ],
   "metadata": {}
  },
  {
   "cell_type": "markdown",
   "source": [
    "```python\n",
    "Vector3.Rand(n:int):Vector3\n",
    "```\n",
    "Return a random vector or a collection of random vectors.\n",
    "```python\n",
    "Vector3.Zeros(n:int):Vector3\n",
    "```\n",
    "Return a zero vector or a collection of zero vectors.\n",
    "```python\n",
    "Vector3.Ones(n:int):Vector3\n",
    "```\n",
    "Return a vector or a collection of vectors filled with 1"
   ],
   "metadata": {}
  },
  {
   "cell_type": "code",
   "execution_count": 2,
   "source": [
    "from py3d import Vector3\n",
    "Vector3.Rand(4),Vector3.Zeros(4),Vector3.Ones(4)"
   ],
   "outputs": [
    {
     "output_type": "execute_result",
     "data": {
      "text/plain": [
       "(Vector3([[0.00240872, 0.06259652, 0.58789827],\n",
       "          [0.84172269, 0.54447431, 0.02050995],\n",
       "          [0.50090265, 0.00939204, 0.95925715],\n",
       "          [0.72912007, 0.97297814, 0.65798418]]),\n",
       " Vector3([[0., 0., 0.],\n",
       "          [0., 0., 0.],\n",
       "          [0., 0., 0.],\n",
       "          [0., 0., 0.]]),\n",
       " Vector3([[1., 1., 1.],\n",
       "          [1., 1., 1.],\n",
       "          [1., 1., 1.],\n",
       "          [1., 1., 1.]]))"
      ]
     },
     "metadata": {},
     "execution_count": 2
    }
   ],
   "metadata": {}
  },
  {
   "cell_type": "code",
   "execution_count": 3,
   "source": [
    "from py3d import Vector3\n",
    "Vector3([1,2,3,4,5,6,7,8,9]),Vector3([[1,2,3],[4,5,6],[7,8,9]])"
   ],
   "outputs": [
    {
     "output_type": "execute_result",
     "data": {
      "text/plain": [
       "(Vector3([[1., 2., 3.],\n",
       "          [4., 5., 6.],\n",
       "          [7., 8., 9.]]),\n",
       " Vector3([[1., 2., 3.],\n",
       "          [4., 5., 6.],\n",
       "          [7., 8., 9.]]))"
      ]
     },
     "metadata": {},
     "execution_count": 3
    }
   ],
   "metadata": {}
  },
  {
   "cell_type": "code",
   "execution_count": 4,
   "source": [
    "from py3d import Vector3\n",
    "Vector3(1,2,3,5),Vector3(y=1,n=4),Vector3(x=1,n=6)"
   ],
   "outputs": [
    {
     "output_type": "execute_result",
     "data": {
      "text/plain": [
       "(Vector3([[1., 2., 3.],\n",
       "          [1., 2., 3.],\n",
       "          [1., 2., 3.],\n",
       "          [1., 2., 3.],\n",
       "          [1., 2., 3.]]),\n",
       " Vector3([[0., 1., 0.],\n",
       "          [0., 1., 0.],\n",
       "          [0., 1., 0.],\n",
       "          [0., 1., 0.]]),\n",
       " Vector3([[1., 0., 0.],\n",
       "          [1., 0., 0.],\n",
       "          [1., 0., 0.],\n",
       "          [1., 0., 0.],\n",
       "          [1., 0., 0.],\n",
       "          [1., 0., 0.]]))"
      ]
     },
     "metadata": {},
     "execution_count": 4
    }
   ],
   "metadata": {}
  },
  {
   "cell_type": "code",
   "execution_count": 2,
   "source": [
    "from py3d import Vector3\n",
    "from numpy import array, equal\n",
    "a=Vector3(array([1,2,3]))\n",
    "b=Vector3(a)\n",
    "a==b,id(a),id(b)"
   ],
   "outputs": [
    {
     "output_type": "execute_result",
     "data": {
      "text/plain": [
       "(True, 140613749197056, 140613749196832)"
      ]
     },
     "metadata": {},
     "execution_count": 2
    }
   ],
   "metadata": {}
  },
  {
   "cell_type": "markdown",
   "source": [
    "## Deep copy\n",
    "```python\n",
    ".copy()\n",
    "```\n",
    "It will return deep copy of origin vector, and their value are equal."
   ],
   "metadata": {}
  },
  {
   "cell_type": "code",
   "execution_count": 4,
   "source": [
    "from py3d import Vector3\n",
    "a=Vector3(1,2,3)\n",
    "b=a\n",
    "c=a.copy() # deep copy\n",
    "id(a),id(b),id(c), a==c"
   ],
   "outputs": [
    {
     "output_type": "execute_result",
     "data": {
      "text/plain": [
       "(140613746450832, 140613746450832, 140613746451168, True)"
      ]
     },
     "metadata": {},
     "execution_count": 4
    }
   ],
   "metadata": {}
  },
  {
   "cell_type": "code",
   "execution_count": 1,
   "source": [
    "from py3d import Vector3\n",
    "points=Vector3.Rand(5)\n",
    "print(points.norm())\n",
    "points_copy=points.copy()\n",
    "points==points_copy"
   ],
   "outputs": [
    {
     "output_type": "stream",
     "name": "stdout",
     "text": [
      "[[1.08873624]\n",
      " [0.56201636]\n",
      " [0.81603114]\n",
      " [0.69572861]\n",
      " [1.33044297]]\n"
     ]
    },
    {
     "output_type": "execute_result",
     "data": {
      "text/plain": [
       "array([[ True],\n",
       "       [ True],\n",
       "       [ True],\n",
       "       [ True],\n",
       "       [ True]])"
      ]
     },
     "metadata": {},
     "execution_count": 1
    }
   ],
   "metadata": {}
  },
  {
   "cell_type": "markdown",
   "source": [
    "## Modify"
   ],
   "metadata": {}
  },
  {
   "cell_type": "code",
   "execution_count": 2,
   "source": [
    "from py3d import Vector3\n",
    "points=Vector3(1,2,3,4)\n",
    "points"
   ],
   "outputs": [
    {
     "output_type": "execute_result",
     "data": {
      "text/plain": [
       "Vector3([[1., 2., 3.],\n",
       "         [1., 2., 3.],\n",
       "         [1., 2., 3.],\n",
       "         [1., 2., 3.]])"
      ]
     },
     "metadata": {},
     "execution_count": 2
    }
   ],
   "metadata": {}
  },
  {
   "cell_type": "code",
   "execution_count": 3,
   "source": [
    "points[2]=Vector3(-1,-2,-3)\n",
    "points"
   ],
   "outputs": [
    {
     "output_type": "execute_result",
     "data": {
      "text/plain": [
       "Vector3([[ 1.,  2.,  3.],\n",
       "         [ 1.,  2.,  3.],\n",
       "         [-1., -2., -3.],\n",
       "         [ 1.,  2.,  3.]])"
      ]
     },
     "metadata": {},
     "execution_count": 3
    }
   ],
   "metadata": {}
  },
  {
   "cell_type": "code",
   "execution_count": 4,
   "source": [
    "points[0:2]=Vector3.Ones(2)\n",
    "points"
   ],
   "outputs": [
    {
     "output_type": "execute_result",
     "data": {
      "text/plain": [
       "Vector3([[ 1.,  1.,  1.],\n",
       "         [ 1.,  1.,  1.],\n",
       "         [-1., -2., -3.],\n",
       "         [ 1.,  2.,  3.]])"
      ]
     },
     "metadata": {},
     "execution_count": 4
    }
   ],
   "metadata": {}
  },
  {
   "cell_type": "markdown",
   "source": [
    "## Reverse\n",
    "```python\n",
    ".reverse():ndarray\n",
    "```"
   ],
   "metadata": {}
  },
  {
   "cell_type": "code",
   "execution_count": 5,
   "source": [
    "from py3d import *\n",
    "a=Vector3.Rand(3)\n",
    "print(a)\n",
    "a.reverse()\n",
    "print(a)\n",
    "a.reversed()"
   ],
   "outputs": [
    {
     "output_type": "stream",
     "name": "stdout",
     "text": [
      "[[0.37239685 0.85223555 0.27793704]\n",
      " [0.75213452 0.16901494 0.44511578]\n",
      " [0.9494015  0.35997485 0.57413589]]\n",
      "[[0.9494015  0.35997485 0.57413589]\n",
      " [0.75213452 0.16901494 0.44511578]\n",
      " [0.37239685 0.85223555 0.27793704]]\n"
     ]
    },
    {
     "output_type": "execute_result",
     "data": {
      "text/plain": [
       "Vector3([[0.37239685, 0.85223555, 0.27793704],\n",
       "         [0.75213452, 0.16901494, 0.44511578],\n",
       "         [0.9494015 , 0.35997485, 0.57413589]])"
      ]
     },
     "metadata": {},
     "execution_count": 5
    }
   ],
   "metadata": {}
  },
  {
   "cell_type": "markdown",
   "source": [
    "## Append\n",
    "```python\n",
    ".append(Vector3|ndarray):ndarray\n",
    "```"
   ],
   "metadata": {}
  },
  {
   "cell_type": "code",
   "execution_count": 2,
   "source": [
    "from py3d import *\n",
    "a=Vector3.Rand(4)\n",
    "a.append(Vector3(1,2,3,2))\n",
    "a"
   ],
   "outputs": [
    {
     "output_type": "execute_result",
     "data": {
      "text/plain": [
       "Vector3([[0.40683236, 0.22971708, 0.17813071],\n",
       "         [0.07756801, 0.71538976, 0.99494024],\n",
       "         [0.91843695, 0.86627054, 0.91461802],\n",
       "         [0.22287049, 0.95705337, 0.1007916 ],\n",
       "         [1.        , 2.        , 3.        ],\n",
       "         [1.        , 2.        , 3.        ]])"
      ]
     },
     "metadata": {},
     "execution_count": 2
    }
   ],
   "metadata": {}
  },
  {
   "cell_type": "markdown",
   "source": [
    "## Insert"
   ],
   "metadata": {}
  },
  {
   "cell_type": "code",
   "execution_count": 7,
   "source": [
    "from py3d import *\n",
    "a=Vector3.Rand(4)\n",
    "a.insert(2,Vector3(1,2,3,3))\n",
    "a"
   ],
   "outputs": [
    {
     "output_type": "execute_result",
     "data": {
      "text/plain": [
       "Vector3([[0.6605133 , 0.37618622, 0.64276519],\n",
       "         [0.38142681, 0.40017373, 0.13127457],\n",
       "         [1.        , 2.        , 3.        ],\n",
       "         [1.        , 2.        , 3.        ],\n",
       "         [1.        , 2.        , 3.        ],\n",
       "         [0.21344712, 0.00533367, 0.50443668],\n",
       "         [0.21560269, 0.51254746, 0.65253392]])"
      ]
     },
     "metadata": {},
     "execution_count": 7
    }
   ],
   "metadata": {}
  },
  {
   "cell_type": "code",
   "execution_count": 8,
   "source": [
    "from py3d import *\n",
    "a=Vector3.Rand(4)\n",
    "a.insert(slice(0,3),Vector3(1,2,3))\n",
    "a"
   ],
   "outputs": [
    {
     "output_type": "execute_result",
     "data": {
      "text/plain": [
       "Vector3([[1.        , 2.        , 3.        ],\n",
       "         [0.79471519, 0.74496138, 0.68758799],\n",
       "         [1.        , 2.        , 3.        ],\n",
       "         [0.68778039, 0.18272503, 0.15025641],\n",
       "         [1.        , 2.        , 3.        ],\n",
       "         [0.78909031, 0.89734503, 0.50305253],\n",
       "         [0.39830959, 0.40794724, 0.06154772]])"
      ]
     },
     "metadata": {},
     "execution_count": 8
    }
   ],
   "metadata": {}
  },
  {
   "cell_type": "code",
   "execution_count": 9,
   "source": [
    "from py3d import *\n",
    "a=Vector3.Rand(4)\n",
    "a.insert(0,Vector3(1,2,3))\n",
    "a"
   ],
   "outputs": [
    {
     "output_type": "execute_result",
     "data": {
      "text/plain": [
       "Vector3([[1.        , 2.        , 3.        ],\n",
       "         [0.36243349, 0.90058189, 0.91439372],\n",
       "         [0.50756061, 0.16305892, 0.63210915],\n",
       "         [0.07187428, 0.21402741, 0.43172284],\n",
       "         [0.6327147 , 0.83150476, 0.40701695]])"
      ]
     },
     "metadata": {},
     "execution_count": 9
    }
   ],
   "metadata": {}
  },
  {
   "cell_type": "markdown",
   "source": [
    "## Remove"
   ],
   "metadata": {}
  },
  {
   "cell_type": "code",
   "execution_count": 10,
   "source": [
    "from py3d import *\n",
    "a=Vector3.Rand(4)\n",
    "print(a)\n",
    "a.remove(0)\n",
    "a"
   ],
   "outputs": [
    {
     "output_type": "stream",
     "name": "stdout",
     "text": [
      "[[0.53362679 0.9637612  0.79709125]\n",
      " [0.9183582  0.69815294 0.9979033 ]\n",
      " [0.97920985 0.57807659 0.72873601]\n",
      " [0.62200499 0.23591995 0.53537224]]\n"
     ]
    },
    {
     "output_type": "execute_result",
     "data": {
      "text/plain": [
       "Vector3([[0.9183582 , 0.69815294, 0.9979033 ],\n",
       "         [0.97920985, 0.57807659, 0.72873601],\n",
       "         [0.62200499, 0.23591995, 0.53537224]])"
      ]
     },
     "metadata": {},
     "execution_count": 10
    }
   ],
   "metadata": {}
  },
  {
   "cell_type": "code",
   "execution_count": 11,
   "source": [
    "from py3d import *\n",
    "a=Vector3.Rand(5)\n",
    "print(a)\n",
    "a.remove(slice(2,4))\n",
    "a"
   ],
   "outputs": [
    {
     "output_type": "stream",
     "name": "stdout",
     "text": [
      "[[0.61816345 0.21342644 0.06906031]\n",
      " [0.44855753 0.41317524 0.27265141]\n",
      " [0.981912   0.2943863  0.77828021]\n",
      " [0.4782964  0.40162783 0.28036749]\n",
      " [0.16483228 0.9366734  0.23671958]]\n"
     ]
    },
    {
     "output_type": "execute_result",
     "data": {
      "text/plain": [
       "Vector3([[0.61816345, 0.21342644, 0.06906031],\n",
       "         [0.44855753, 0.41317524, 0.27265141],\n",
       "         [0.16483228, 0.9366734 , 0.23671958]])"
      ]
     },
     "metadata": {},
     "execution_count": 11
    }
   ],
   "metadata": {}
  },
  {
   "cell_type": "code",
   "execution_count": 12,
   "source": [
    "from py3d import *\n",
    "a=Vector3.Rand(5)\n",
    "print(a)\n",
    "a.remove(slice(2,4))\n",
    "a"
   ],
   "outputs": [
    {
     "output_type": "stream",
     "name": "stdout",
     "text": [
      "[[0.23022599 0.79078078 0.83306751]\n",
      " [0.76219755 0.62387302 0.94054235]\n",
      " [0.38409679 0.91891268 0.21859557]\n",
      " [0.0472911  0.81482236 0.52050563]\n",
      " [0.55440996 0.23135002 0.03196446]]\n"
     ]
    },
    {
     "output_type": "execute_result",
     "data": {
      "text/plain": [
       "Vector3([[0.23022599, 0.79078078, 0.83306751],\n",
       "         [0.76219755, 0.62387302, 0.94054235],\n",
       "         [0.55440996, 0.23135002, 0.03196446]])"
      ]
     },
     "metadata": {},
     "execution_count": 12
    }
   ],
   "metadata": {}
  },
  {
   "cell_type": "markdown",
   "source": [
    "## Discrete difference\n",
    "```python\n",
    ".diff(n:int):Vector3\n",
    "```\n"
   ],
   "metadata": {}
  },
  {
   "cell_type": "code",
   "execution_count": 13,
   "source": [
    "from py3d import Vector3\n",
    "points=Vector3([\n",
    "    [1,2,1],\n",
    "    [2,3,1],\n",
    "    [4,6,2],\n",
    "    [8,3,0]\n",
    "])\n",
    "points.diff(),points.diff(2)"
   ],
   "outputs": [
    {
     "output_type": "execute_result",
     "data": {
      "text/plain": [
       "(Vector3([[ 1.,  1.,  0.],\n",
       "          [ 2.,  3.,  1.],\n",
       "          [ 4., -3., -2.]]),\n",
       " Vector3([[ 1.,  2.,  1.],\n",
       "          [ 2., -6., -3.]]))"
      ]
     },
     "metadata": {},
     "execution_count": 13
    }
   ],
   "metadata": {}
  },
  {
   "cell_type": "markdown",
   "source": [
    "## Cumulative Sum\n",
    "```python\n",
    ".cumsum():Vector3\n",
    "```\n",
    "Return the cumulative sum of the elements along a given axis."
   ],
   "metadata": {}
  },
  {
   "cell_type": "code",
   "execution_count": 14,
   "source": [
    "from py3d import Vector3\n",
    "points=Vector3([\n",
    "    [1,2,1],\n",
    "    [2,3,1],\n",
    "    [4,6,2],\n",
    "    [8,3,0]\n",
    "])\n",
    "points.cumsum()"
   ],
   "outputs": [
    {
     "output_type": "execute_result",
     "data": {
      "text/plain": [
       "Vector3([[ 1.,  2.,  1.],\n",
       "         [ 3.,  5.,  2.],\n",
       "         [ 7., 11.,  4.],\n",
       "         [15., 14.,  4.]])"
      ]
     },
     "metadata": {},
     "execution_count": 14
    }
   ],
   "metadata": {}
  },
  {
   "cell_type": "markdown",
   "source": [
    "## Add"
   ],
   "metadata": {}
  },
  {
   "cell_type": "code",
   "execution_count": 16,
   "source": [
    "from py3d import Vector3\n",
    "Vector3(1,2,3)+Vector3(2,3,4)"
   ],
   "outputs": [
    {
     "output_type": "execute_result",
     "data": {
      "text/plain": [
       "Vector3([3., 5., 7.])"
      ]
     },
     "metadata": {},
     "execution_count": 16
    }
   ],
   "metadata": {}
  },
  {
   "cell_type": "code",
   "execution_count": 17,
   "source": [
    "from py3d import Vector3\n",
    "Vector3.Zeros(3)+Vector3.Ones(3)"
   ],
   "outputs": [
    {
     "output_type": "execute_result",
     "data": {
      "text/plain": [
       "Vector3([[1., 1., 1.],\n",
       "         [1., 1., 1.],\n",
       "         [1., 1., 1.]])"
      ]
     },
     "metadata": {},
     "execution_count": 17
    }
   ],
   "metadata": {}
  },
  {
   "cell_type": "code",
   "execution_count": 18,
   "source": [
    "from py3d import Vector3\n",
    "a=Vector3([1,2,3,4,5,6,7,8,9,-1,-2,-3])\n",
    "b=Vector3([1,-2,-4,-5,-1,-4,3,5,6,9,10,8])\n",
    "a+b"
   ],
   "outputs": [
    {
     "output_type": "execute_result",
     "data": {
      "text/plain": [
       "Vector3([[ 2.,  0., -1.],\n",
       "         [-1.,  4.,  2.],\n",
       "         [10., 13., 15.],\n",
       "         [ 8.,  8.,  5.]])"
      ]
     },
     "metadata": {},
     "execution_count": 18
    }
   ],
   "metadata": {}
  },
  {
   "cell_type": "markdown",
   "source": [
    "## Subtract"
   ],
   "metadata": {}
  },
  {
   "cell_type": "code",
   "execution_count": 20,
   "source": [
    "from py3d import Vector3\n",
    "Vector3(1,2,3)-Vector3(-1,-2,-3)"
   ],
   "outputs": [
    {
     "output_type": "execute_result",
     "data": {
      "text/plain": [
       "Vector3([2., 4., 6.])"
      ]
     },
     "metadata": {},
     "execution_count": 20
    }
   ],
   "metadata": {}
  },
  {
   "cell_type": "code",
   "execution_count": 19,
   "source": [
    "from py3d import Vector3\n",
    "Vector3([1,2,3,4,5,6,7,8,9,10,11,12,13,14,15])-Vector3(1,-1,3,5)"
   ],
   "outputs": [
    {
     "output_type": "execute_result",
     "data": {
      "text/plain": [
       "Vector3([[ 0.,  3.,  0.],\n",
       "         [ 3.,  6.,  3.],\n",
       "         [ 6.,  9.,  6.],\n",
       "         [ 9., 12.,  9.],\n",
       "         [12., 15., 12.]])"
      ]
     },
     "metadata": {},
     "execution_count": 19
    }
   ],
   "metadata": {}
  },
  {
   "cell_type": "markdown",
   "source": [
    "## Multiply"
   ],
   "metadata": {}
  },
  {
   "cell_type": "markdown",
   "source": [
    "### Multiply a number"
   ],
   "metadata": {}
  },
  {
   "cell_type": "code",
   "execution_count": 21,
   "source": [
    "from py3d import Vector3\n",
    "a=Vector3(1,-2,3)*3\n",
    "b=3*Vector3(1,-2,3)\n",
    "a,b,a==b"
   ],
   "outputs": [
    {
     "output_type": "execute_result",
     "data": {
      "text/plain": [
       "(Vector3([ 3., -6.,  9.]), Vector3([ 3., -6.,  9.]), True)"
      ]
     },
     "metadata": {},
     "execution_count": 21
    }
   ],
   "metadata": {}
  },
  {
   "cell_type": "markdown",
   "source": [
    "### Multiply element by element\n",
    "support multiplication between Vector3,Numpy.ndarray,list and tuple."
   ],
   "metadata": {}
  },
  {
   "cell_type": "code",
   "execution_count": 23,
   "source": [
    "from py3d import Vector3\n",
    "from numpy import array\n",
    "Vector3(1,-2,3)*Vector3(1,-1,3),\\\n",
    "Vector3(1,-2,3)*array([1,-1,3]),\\\n",
    "array([1,-1,3])*Vector3(1,-2,3),\\\n",
    "Vector3(1,-1,3)*[1,-2,3],\\\n",
    "(1,-1,3)*Vector3(1,-2,3)"
   ],
   "outputs": [
    {
     "output_type": "execute_result",
     "data": {
      "text/plain": [
       "(Vector3([1., 2., 9.]),\n",
       " Vector3([1., 2., 9.]),\n",
       " Vector3([1., 2., 9.]),\n",
       " Vector3([1., 2., 9.]),\n",
       " Vector3([1., 2., 9.]))"
      ]
     },
     "metadata": {},
     "execution_count": 23
    }
   ],
   "metadata": {}
  },
  {
   "cell_type": "markdown",
   "source": [
    "### Dot product\n",
    "Two vectors' dot product can be used to calculate angle between them. If angle \n",
    " \n",
    "$\\bf{a}\\cdot\\bf{b}=|\\bf{a}|\\cdot|\\bf{b}|\\cdot cos\\theta$\n",
    "\n",
    "$\\bf{a}\\cdot\\bf{b}=\\bf{b}\\cdot\\bf{a}$\n",
    "\n",
    "*.dot(Vector3):Vector3*\n",
    "\n",
    "dot() will return a new Vector3, the original one wont be changed"
   ],
   "metadata": {}
  },
  {
   "cell_type": "code",
   "execution_count": 1,
   "source": [
    "from py3d import Vector3\n",
    "from numpy import cos\n",
    "a=Vector3(1,-2,3)\n",
    "b=Vector3(0,4,-1)\n",
    "product=a.dot(b) # dot product\n",
    "theta=a.angle_to_vector(b)\n",
    "print(a.norm(),b.norm(),cos(theta))\n",
    "print(a.norm()*b.norm()*cos(theta),product)"
   ],
   "outputs": [
    {
     "output_type": "stream",
     "name": "stdout",
     "text": [
      "3.7416573867739413 4.123105625617661 -0.7130240959073809\n",
      "-11.000000000000002 -11.0\n"
     ]
    }
   ],
   "metadata": {}
  },
  {
   "cell_type": "code",
   "execution_count": 2,
   "source": [
    "a.dot(b),b.dot(a),a.dot(b)==b.dot(a)"
   ],
   "outputs": [
    {
     "output_type": "execute_result",
     "data": {
      "text/plain": [
       "(-11.0, -11.0, True)"
      ]
     },
     "metadata": {},
     "execution_count": 2
    }
   ],
   "metadata": {}
  },
  {
   "cell_type": "code",
   "execution_count": 3,
   "source": [
    "from py3d import Vector3\n",
    "a=Vector3.Rand(4)\n",
    "b=Vector3.Rand(4)\n",
    "a.dot(b)"
   ],
   "outputs": [
    {
     "output_type": "execute_result",
     "data": {
      "text/plain": [
       "Vector3([[0.52828999],\n",
       "         [0.30207483],\n",
       "         [1.10503466],\n",
       "         [0.68242945]])"
      ]
     },
     "metadata": {},
     "execution_count": 3
    }
   ],
   "metadata": {}
  },
  {
   "cell_type": "markdown",
   "source": [
    "### Cross product\n",
    "\n",
    "$ \\bf{a}\\times\\bf{b}=|\\bf{a}|\\cdot|\\bf{b}|\\cdot sin\\theta$\n",
    "\n",
    "$\\bf{a}\\times\\bf{b}=-\\bf{b}\\times\\bf{a}$\n",
    "```python\n",
    ".cross(Vector3):Vector3\n",
    "```\n",
    "cross() will return a new Vector3, the original one wont be changed."
   ],
   "metadata": {}
  },
  {
   "cell_type": "code",
   "execution_count": 4,
   "source": [
    "from py3d import Vector3\n",
    "a=Vector3(1,2,0)\n",
    "b=Vector3(0,-1,3)\n",
    "c=a.cross(b)\n",
    "a.cross(b),b.cross(a) # cross product"
   ],
   "outputs": [
    {
     "output_type": "execute_result",
     "data": {
      "text/plain": [
       "(Vector3([ 6., -3., -1.]), Vector3([-6.,  3.,  1.]))"
      ]
     },
     "metadata": {},
     "execution_count": 4
    }
   ],
   "metadata": {}
  },
  {
   "cell_type": "markdown",
   "source": [
    "array([1,2,0]).cross(Vector3(0,-1,3)) is not allowed since numpy.ndarray has no such a function to do cross product. But you can do it by a global function numpy.cross(array1, array2) like this"
   ],
   "metadata": {}
  },
  {
   "cell_type": "code",
   "execution_count": 5,
   "source": [
    "from numpy import cross,array\n",
    "from py3d import Vector3\n",
    "cross(array([1,2,0]), Vector3(0,-1,3))"
   ],
   "outputs": [
    {
     "output_type": "execute_result",
     "data": {
      "text/plain": [
       "array([ 6., -3., -1.])"
      ]
     },
     "metadata": {},
     "execution_count": 5
    }
   ],
   "metadata": {}
  },
  {
   "cell_type": "markdown",
   "source": [
    "Have a look to see the origin vectors and the product vector"
   ],
   "metadata": {}
  },
  {
   "cell_type": "code",
   "execution_count": 8,
   "source": [
    "from py3d import Vector3\n",
    "v1=Vector3(1,2,0)\n",
    "v2=Vector3(0,-1,3)\n",
    "vp=Vector3(1,2,0).cross(Vector3(0,-1,3))"
   ],
   "outputs": [],
   "metadata": {}
  },
  {
   "cell_type": "code",
   "execution_count": 10,
   "source": [
    "from py3d import Vector3\n",
    "a=Vector3.Rand(4)\n",
    "b=Vector3.Rand(4)\n",
    "c=a.cross(b)"
   ],
   "outputs": [],
   "metadata": {}
  },
  {
   "cell_type": "markdown",
   "source": [
    "## Divide"
   ],
   "metadata": {}
  },
  {
   "cell_type": "markdown",
   "source": [
    "### Divide by scalar"
   ],
   "metadata": {}
  },
  {
   "cell_type": "code",
   "execution_count": 11,
   "source": [
    "from py3d import Vector3\n",
    "Vector3(1,2,3)/3"
   ],
   "outputs": [
    {
     "output_type": "execute_result",
     "data": {
      "text/plain": [
       "Vector3([0.33333333, 0.66666667, 1.        ])"
      ]
     },
     "metadata": {},
     "execution_count": 11
    }
   ],
   "metadata": {}
  },
  {
   "cell_type": "code",
   "execution_count": 13,
   "source": [
    "from py3d import Vector3\n",
    "a=Vector3(3,0,3)\n",
    "b=a/3\n",
    "a/=3\n",
    "a,b"
   ],
   "outputs": [
    {
     "output_type": "execute_result",
     "data": {
      "text/plain": [
       "(Vector3([1., 0., 1.]), Vector3([1., 0., 1.]))"
      ]
     },
     "metadata": {},
     "execution_count": 13
    }
   ],
   "metadata": {}
  },
  {
   "cell_type": "markdown",
   "source": [
    "### Divide by vector"
   ],
   "metadata": {}
  },
  {
   "cell_type": "code",
   "execution_count": 14,
   "source": [
    "from py3d import Vector3\n",
    "Vector3(1,2,3)/Vector3(1,2,3)"
   ],
   "outputs": [
    {
     "output_type": "execute_result",
     "data": {
      "text/plain": [
       "Vector3([1., 1., 1.])"
      ]
     },
     "metadata": {},
     "execution_count": 14
    }
   ],
   "metadata": {}
  },
  {
   "cell_type": "markdown",
   "source": [
    "### Divide by Numpy.ndarray, list and tuple\n",
    "Vector3 is divided element by element"
   ],
   "metadata": {}
  },
  {
   "cell_type": "code",
   "execution_count": 16,
   "source": [
    "from py3d import Vector3\n",
    "from numpy import array\n",
    "Vector3(1,2,3)/array([1,2,3]), Vector3(1,2,3)/[1,2,3], Vector3(1,2,3)/(1,2,3)"
   ],
   "outputs": [
    {
     "output_type": "execute_result",
     "data": {
      "text/plain": [
       "(Vector3([1., 1., 1.]), Vector3([1., 1., 1.]), Vector3([1., 1., 1.]))"
      ]
     },
     "metadata": {},
     "execution_count": 16
    }
   ],
   "metadata": {}
  },
  {
   "cell_type": "markdown",
   "source": [
    "## Compare"
   ],
   "metadata": {}
  },
  {
   "cell_type": "code",
   "execution_count": 17,
   "source": [
    "from py3d import *\n",
    "a=Vector3(1,0,0.7)\n",
    "b=Vector3(1.0,0.,0.7)\n",
    "c=Vector3(1.1,0,0.7)\n",
    "a==b,b==c,a!=c"
   ],
   "outputs": [
    {
     "output_type": "execute_result",
     "data": {
      "text/plain": [
       "(True, False, True)"
      ]
     },
     "metadata": {},
     "execution_count": 17
    }
   ],
   "metadata": {}
  },
  {
   "cell_type": "code",
   "execution_count": 18,
   "source": [
    "from py3d import Vector3\n",
    "a=Vector3([[1,2,3],\n",
    "           [4,5,6],\n",
    "           [7,8,9]])\n",
    "b=Vector3([[1,1,3],\n",
    "           [4,5,6],\n",
    "           [7,1,9]])\n",
    "a==b"
   ],
   "outputs": [
    {
     "output_type": "execute_result",
     "data": {
      "text/plain": [
       "array([[False],\n",
       "       [ True],\n",
       "       [False]])"
      ]
     },
     "metadata": {},
     "execution_count": 18
    }
   ],
   "metadata": {}
  },
  {
   "cell_type": "markdown",
   "source": [
    "## Angle\n",
    "```python\n",
    ".angle_to_vector(v:Vector3):float|ndarray\n",
    "```   \n",
    "It will return the angle (in radian) between two vector. The angle is always positive and smaller than $\\pi$."
   ],
   "metadata": {}
  },
  {
   "cell_type": "code",
   "execution_count": 20,
   "source": [
    "from py3d import Vector3\n",
    "v1=Vector3(1,-0.1,0)\n",
    "v2=Vector3(0,1,0)\n",
    "v1.angle_to_vector(v2),v2.angle_to_vector(v1)"
   ],
   "outputs": [
    {
     "output_type": "execute_result",
     "data": {
      "text/plain": [
       "(1.6704649792860586, 1.6704649792860586)"
      ]
     },
     "metadata": {},
     "execution_count": 20
    }
   ],
   "metadata": {}
  },
  {
   "cell_type": "code",
   "execution_count": 21,
   "source": [
    "from py3d import Vector3\n",
    "a=Vector3([[1,2,3],\n",
    "           [4,5,6],\n",
    "           [7,8,9]])\n",
    "b=Vector3([[1,1,3],\n",
    "           [4,5,6],\n",
    "           [7,1,9]])\n",
    "a.angle_to_vector(b)"
   ],
   "outputs": [
    {
     "output_type": "execute_result",
     "data": {
      "text/plain": [
       "Vector3([[2.57665272e-01],\n",
       "         [2.10734243e-08],\n",
       "         [5.24348139e-01]])"
      ]
     },
     "metadata": {},
     "execution_count": 21
    }
   ],
   "metadata": {}
  },
  {
   "cell_type": "markdown",
   "source": [
    "```python\n",
    ".angle_to_plane(normal:Vector3):float|ndarray\n",
    "```\n",
    "It will return the angle (in radian) between a vector and a plane. Result will be positive when normal and the vector have same direction, 0 when the plane and the vector is parallel, and negtive when normal and the vector have different direction."
   ],
   "metadata": {}
  },
  {
   "cell_type": "code",
   "execution_count": 23,
   "source": [
    "from py3d import Vector3\n",
    "v=Vector3(1,-0.1,0)\n",
    "normal=Vector3(0,1,0)\n",
    "v.angle_to_plane(normal)"
   ],
   "outputs": [
    {
     "output_type": "execute_result",
     "data": {
      "text/plain": [
       "-0.09966865249116208"
      ]
     },
     "metadata": {},
     "execution_count": 23
    }
   ],
   "metadata": {}
  },
  {
   "cell_type": "markdown",
   "source": [
    "## Rotation\n",
    "\n",
    "```python\n",
    ".rotation_to(Vector3):Vector3,float\n",
    "```\n",
    "It will return axis-angle tuple representing the rotation from this vector to another"
   ],
   "metadata": {}
  },
  {
   "cell_type": "code",
   "execution_count": 24,
   "source": [
    "from py3d import Vector3\n",
    "v1=Vector3(1,-0.1,0)\n",
    "v2=Vector3(0,1,0)\n",
    "v1.rotation_to(v2),v2.rotation_to(v1)"
   ],
   "outputs": [
    {
     "output_type": "execute_result",
     "data": {
      "text/plain": [
       "((Vector3([-0.,  0.,  1.]), 1.6704649792860586),\n",
       " (Vector3([ 0.,  0., -1.]), 1.6704649792860586))"
      ]
     },
     "metadata": {},
     "execution_count": 24
    }
   ],
   "metadata": {}
  },
  {
   "cell_type": "code",
   "execution_count": 25,
   "source": [
    "from py3d import Vector3\n",
    "a=Vector3([[1,-0.1,0],\n",
    "        [0,1,0]])\n",
    "b=Vector3([[0,1,0],\n",
    "          [1,-0.1,0]])\n",
    "a.rotation_to(b)"
   ],
   "outputs": [
    {
     "output_type": "execute_result",
     "data": {
      "text/plain": [
       "(Vector3([[-0.,  0.,  1.],\n",
       "          [ 0.,  0., -1.]]),\n",
       " Vector3([[1.67046498],\n",
       "          [1.67046498]]))"
      ]
     },
     "metadata": {},
     "execution_count": 25
    }
   ],
   "metadata": {}
  },
  {
   "cell_type": "markdown",
   "source": [
    "## Perpendicular\n",
    "\n",
    "$\\bf{a}\\perp\\bf{b}\\Leftrightarrow\\bf{a}\\cdot\\bf{b}=0$\n",
    "\n",
    "$\\bf{a}\\perp\\bf{b}\\Leftrightarrow<\\bf{a},\\bf{b}>=\\pi/2$\n",
    "\n",
    "```python\n",
    "    .is_perpendicular_to_vector(v:Vector3): bool\n",
    "    .is_perpendicular_to_plane(normal:Vector3): bool\n",
    "```"
   ],
   "metadata": {}
  },
  {
   "cell_type": "code",
   "execution_count": 26,
   "source": [
    "from py3d import Vector3\n",
    "a=Vector3(0,1,1)\n",
    "b=Vector3(1,0,0)\n",
    "a.is_perpendicular_to_vector(b), a.angle_to_vector(b)"
   ],
   "outputs": [
    {
     "output_type": "execute_result",
     "data": {
      "text/plain": [
       "(True, 1.5707963267948966)"
      ]
     },
     "metadata": {},
     "execution_count": 26
    }
   ],
   "metadata": {}
  },
  {
   "cell_type": "markdown",
   "source": [
    "## Parallel\n",
    "$\\bf{a}//\\bf{b}(\\bf{b}\\ne\\bf{0})\\Leftrightarrow\\bf{a}=\\lambda\\bf{b}$"
   ],
   "metadata": {}
  },
  {
   "cell_type": "code",
   "execution_count": 28,
   "source": [
    "from py3d import Vector3\n",
    "a=Vector3(1,2,3)\n",
    "b=Vector3(2,4,6)\n",
    "plane = Vector3(1,2,)\n",
    "a.is_parallel_to_vector(b),a==b"
   ],
   "outputs": [
    {
     "output_type": "execute_result",
     "data": {
      "text/plain": [
       "(True, False)"
      ]
     },
     "metadata": {},
     "execution_count": 28
    }
   ],
   "metadata": {}
  },
  {
   "cell_type": "markdown",
   "source": [
    "$\\bf{v}\\perp\\bf{0}, \\bf{v}\\cdot\\bf{0}=0$ is always true no matter what $\\bf{v}$ is"
   ],
   "metadata": {}
  },
  {
   "cell_type": "code",
   "execution_count": 29,
   "source": [
    "from py3d import Vector3\n",
    "a=Vector3(1,2,3)\n",
    "b=Vector3(-2,3,9)\n",
    "a.dot(Vector3()),a.is_parallel_to_vector(Vector3()),b.is_parallel_to_vector(b)"
   ],
   "outputs": [
    {
     "output_type": "stream",
     "name": "stderr",
     "text": [
      "/mnt/d/codes/scenario/py3d/py3d/vector3.py:52: RuntimeWarning: invalid value encountered in true_divide\n",
      "  return self/l\n"
     ]
    },
    {
     "output_type": "execute_result",
     "data": {
      "text/plain": [
       "(0.0, False, True)"
      ]
     },
     "metadata": {},
     "execution_count": 29
    }
   ],
   "metadata": {}
  },
  {
   "cell_type": "markdown",
   "source": [
    "## Projection\n",
    "\n",
    "```python\n",
    ".scalar_projection(v:Vector3):float\n",
    "```\n",
    "```python\n",
    ".vector_projection(v:Vector3):Vector3\n",
    "```"
   ],
   "metadata": {}
  },
  {
   "cell_type": "code",
   "execution_count": 30,
   "source": [
    "from py3d import Vector3\n",
    "a=Vector3(2,1,1)\n",
    "b=Vector3(1,0,0)\n",
    "a.scalar_projection(b),a.vector_projection(b)"
   ],
   "outputs": [
    {
     "output_type": "execute_result",
     "data": {
      "text/plain": [
       "(2.0, Vector3([2., 0., 0.]))"
      ]
     },
     "metadata": {},
     "execution_count": 30
    }
   ],
   "metadata": {}
  },
  {
   "cell_type": "code",
   "execution_count": 31,
   "source": [
    "from py3d import Vector3\n",
    "a=Vector3(1,2,3)\n",
    "p0=Vector3()\n",
    "p1=Vector3(1,0,0)\n",
    "a.projection_point_on_line(p0,p1)"
   ],
   "outputs": [
    {
     "output_type": "execute_result",
     "data": {
      "text/plain": [
       "Vector3([1., 0., 0.])"
      ]
     },
     "metadata": {},
     "execution_count": 31
    }
   ],
   "metadata": {}
  },
  {
   "cell_type": "markdown",
   "source": [
    "## Area\n",
    "```python\n",
    ".area(Vector3):float\n",
    "```\n",
    "It will return area of triangle constucted by two vectors.\n",
    "```python\n",
    ".area(Vector3,Vector3):float\n",
    "```\n",
    "It will return area of triangle constructed by three points."
   ],
   "metadata": {}
  },
  {
   "cell_type": "code",
   "execution_count": 33,
   "source": [
    "from py3d import Vector3\n",
    "triangle=Vector3([[1,2,3],\n",
    "                [1,0,0],\n",
    "                [0,1,0]])\n",
    "triangle.area()"
   ],
   "outputs": [
    {
     "output_type": "execute_result",
     "data": {
      "text/plain": [
       "2.345207879911715"
      ]
     },
     "metadata": {},
     "execution_count": 33
    }
   ],
   "metadata": {}
  },
  {
   "cell_type": "markdown",
   "source": [
    "## Distance, Length, Norm\n",
    "```python\n",
    ".norm():float\n",
    "```"
   ],
   "metadata": {}
  },
  {
   "cell_type": "code",
   "execution_count": 34,
   "source": [
    "from py3d import Vector3\n",
    "Vector3(1,2,3).norm()"
   ],
   "outputs": [
    {
     "output_type": "execute_result",
     "data": {
      "text/plain": [
       "3.7416573867739413"
      ]
     },
     "metadata": {},
     "execution_count": 34
    }
   ],
   "metadata": {}
  },
  {
   "cell_type": "markdown",
   "source": [
    "You can use this function to calculate distance between two points."
   ],
   "metadata": {}
  },
  {
   "cell_type": "code",
   "execution_count": 35,
   "source": [
    "point1=Vector3(1,2,3)\n",
    "point2=Vector3(-10,87,11)\n",
    "distance=(point1-point2).norm()\n",
    "print(distance)"
   ],
   "outputs": [
    {
     "output_type": "stream",
     "name": "stdout",
     "text": [
      "86.08135686662938\n"
     ]
    }
   ],
   "metadata": {}
  },
  {
   "cell_type": "code",
   "execution_count": 36,
   "source": [
    "from py3d import Vector3\n",
    "points=Vector3.Rand(5)\n",
    "points.norm()"
   ],
   "outputs": [
    {
     "output_type": "execute_result",
     "data": {
      "text/plain": [
       "array([[1.00952545],\n",
       "       [0.48242001],\n",
       "       [0.89271163],\n",
       "       [0.89204501],\n",
       "       [0.73384055]])"
      ]
     },
     "metadata": {},
     "execution_count": 36
    }
   ],
   "metadata": {}
  },
  {
   "cell_type": "markdown",
   "source": [
    "Calculate distances between a point and a collection of points"
   ],
   "metadata": {}
  },
  {
   "cell_type": "code",
   "execution_count": 37,
   "source": [
    "from py3d import Vector3\n",
    "p=Vector3(1,-1,0)\n",
    "points=Vector3.Rand(7)\n",
    "points,(p-points).norm()"
   ],
   "outputs": [
    {
     "output_type": "execute_result",
     "data": {
      "text/plain": [
       "(Vector3([[0.92626725, 0.11644017, 0.08594409],\n",
       "          [0.16715586, 0.38188221, 0.67990894],\n",
       "          [0.81794796, 0.89077802, 0.00486246],\n",
       "          [0.45000451, 0.48546387, 0.55692739],\n",
       "          [0.68920177, 0.88953077, 0.46585984],\n",
       "          [0.7319839 , 0.25516827, 0.40738851],\n",
       "          [0.93042351, 0.79431006, 0.1907029 ]]),\n",
       " array([[1.12216824],\n",
       "        [1.75085807],\n",
       "        [1.89952839],\n",
       "        [1.67906702],\n",
       "        [1.97077332],\n",
       "        [1.34656801],\n",
       "        [1.80575665]]))"
      ]
     },
     "metadata": {},
     "execution_count": 37
    }
   ],
   "metadata": {}
  },
  {
   "cell_type": "markdown",
   "source": [
    "## Normalize\n",
    "\n",
    "<font color=\"red\">*! Zero vector can not be normalized*</font>"
   ],
   "metadata": {}
  },
  {
   "cell_type": "markdown",
   "source": [
    "**normalized()**, get a new vector, which is the unit vector of the origin"
   ],
   "metadata": {}
  },
  {
   "cell_type": "code",
   "execution_count": 2,
   "source": [
    "from py3d import Vector3\n",
    "v=Vector3(1,2,3)\n",
    "v.normalized()"
   ],
   "outputs": [
    {
     "output_type": "execute_result",
     "data": {
      "text/plain": [
       "Vector3([0.26726124, 0.53452248, 0.80178373])"
      ]
     },
     "metadata": {},
     "execution_count": 2
    }
   ],
   "metadata": {}
  },
  {
   "cell_type": "markdown",
   "source": [
    "## Render"
   ],
   "metadata": {}
  },
  {
   "cell_type": "code",
   "execution_count": 4,
   "source": [
    "from py3d import Vector3\n",
    "a=Vector3.Rand(10)\n",
    "a.render_as_points()\n",
    "a.render_as_connected_vectors()\n",
    "a.render_as_origin_vectors()"
   ],
   "outputs": [
    {
     "output_type": "stream",
     "name": "stdout",
     "text": [
      "click http://localhost:8002/view/default to view in browser\n"
     ]
    },
    {
     "output_type": "display_data",
     "data": {
      "text/plain": [
       "<IPython.lib.display.IFrame at 0x7fd8d0d1b2b0>"
      ],
      "text/html": [
       "\n",
       "        <iframe\n",
       "            width=\"100%\"\n",
       "            height=\"600px\"\n",
       "            src=\"http://localhost:8002/view/default\"\n",
       "            frameborder=\"0\"\n",
       "            allowfullscreen\n",
       "        ></iframe>\n",
       "        "
      ]
     },
     "metadata": {}
    },
    {
     "output_type": "stream",
     "name": "stdout",
     "text": [
      "click http://localhost:8002/view/dd8d99b4-e154-11eb-bb51-93affb1f98b0 to view in browser\n"
     ]
    },
    {
     "output_type": "display_data",
     "data": {
      "text/plain": [
       "<IPython.lib.display.IFrame at 0x7fd8d0d1bb80>"
      ],
      "text/html": [
       "\n",
       "        <iframe\n",
       "            width=\"100%\"\n",
       "            height=\"600px\"\n",
       "            src=\"http://localhost:8002/view/dd8d99b4-e154-11eb-bb51-93affb1f98b0\"\n",
       "            frameborder=\"0\"\n",
       "            allowfullscreen\n",
       "        ></iframe>\n",
       "        "
      ]
     },
     "metadata": {}
    },
    {
     "output_type": "stream",
     "name": "stdout",
     "text": [
      "click http://localhost:8002/view/ddaca35e-e154-11eb-bb51-93affb1f98b0 to view in browser\n"
     ]
    },
    {
     "output_type": "display_data",
     "data": {
      "text/plain": [
       "<IPython.lib.display.IFrame at 0x7fd8d0d12700>"
      ],
      "text/html": [
       "\n",
       "        <iframe\n",
       "            width=\"100%\"\n",
       "            height=\"600px\"\n",
       "            src=\"http://localhost:8002/view/ddaca35e-e154-11eb-bb51-93affb1f98b0\"\n",
       "            frameborder=\"0\"\n",
       "            allowfullscreen\n",
       "        ></iframe>\n",
       "        "
      ]
     },
     "metadata": {}
    }
   ],
   "metadata": {}
  },
  {
   "cell_type": "code",
   "execution_count": null,
   "source": [],
   "outputs": [],
   "metadata": {}
  }
 ],
 "metadata": {
  "interpreter": {
   "hash": "f977ab77590a1a82c6ed99bad9ba7e44f59b6349cfa3ab98a372fb69dd4e7d34"
  },
  "kernelspec": {
   "display_name": "Python 3",
   "language": "python",
   "name": "python3"
  },
  "language_info": {
   "codemirror_mode": {
    "name": "ipython",
    "version": 3
   },
   "file_extension": ".py",
   "mimetype": "text/x-python",
   "name": "python",
   "nbconvert_exporter": "python",
   "pygments_lexer": "ipython3",
   "version": "3.8.3"
  }
 },
 "nbformat": 4,
 "nbformat_minor": 4
}