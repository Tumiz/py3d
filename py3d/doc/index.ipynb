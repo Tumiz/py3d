{
 "cells": [
  {
   "cell_type": "markdown",
   "metadata": {},
   "source": [
    "# Scenario Tool Kit\n",
    "**Scenario** [Github](https://github.com/Tumiz/scenario) is a series of python libraries that helping building simulation environment easily and quickly.\n",
    "\n",
    "## py3d\n",
    "\n",
    "**py3d** is one of the **scenario** libraries. It is a python 3d computational geometry library, which can deal with points, lines, planes and 3d meshes in batches.\n",
    "\n",
    "It is designed to be simple, stable and customizable:\n",
    "\n",
    "* simple means api will be less than usual and progressive\n",
    "* stable means it will have less dependeces and modules, and it will be fully tested\n",
    "* customizable means it will be a libaray rather than an application, it only provide data structures and functions handling basic geometry concepts\n",
    "\n",
    "### Installation\n",
    "```\n",
    "pip install py3d\n",
    "```\n"
   ]
  },
  {
   "cell_type": "markdown",
   "metadata": {},
   "source": [
    "### API reference\n",
    "\n",
    "[Data](Data.html)\n",
    "[Vector](Vector.html)\n",
    "[Vector3](Vector3.html)\n",
    "[Transform](Transform.html)\n",
    "[Color](Color.html)\n",
    "[Geometry](Geometry.html)\n",
    "[Point](Point.html)"
   ]
  }
 ],
 "metadata": {
  "kernelspec": {
   "display_name": "Python 3.8.3 ('base')",
   "language": "python",
   "name": "python3"
  },
  "language_info": {
   "name": "python",
   "version": "3.8.3"
  },
  "orig_nbformat": 4,
  "vscode": {
   "interpreter": {
    "hash": "6aa3b417f6031089fe78d3bd6c6859fc6570bbd00574f35191098c43dfcf5211"
   }
  }
 },
 "nbformat": 4,
 "nbformat_minor": 2
}
