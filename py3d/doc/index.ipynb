{
 "cells": [
  {
   "cell_type": "markdown",
   "metadata": {},
   "source": [
    "<script>\n",
    "var _hmt = _hmt || [];\n",
    "(function() {\n",
    "  var hm = document.createElement(\"script\");\n",
    "  hm.src = \"https://hm.baidu.com/hm.js?444208f50ebba09f31033fb98c3497b3\";\n",
    "  var s = document.getElementsByTagName(\"script\")[0]; \n",
    "  s.parentNode.insertBefore(hm, s);\n",
    "})();\n",
    "</script>"
   ]
  },
  {
   "cell_type": "markdown",
   "metadata": {},
   "source": [
    "# Scenario Tool Kit\n",
    "**Scenario** [Github](https://github.com/Tumiz/scenario) is a series of python libraries that helping building simulation environment easily and quickly.\n",
    "\n",
    "## py3d\n",
    "\n",
    "**py3d** is one of the **scenario** libraries. It is a python 3d computational geometry library, which can deal with points, lines, planes and 3d meshes in batches.\n",
    "\n",
    "It is under development and unstable currently. But it is designed to be simple, stable and customizable:\n",
    "\n",
    "* simple means api will be less than usual and progressive\n",
    "* stable means it will have less dependeces and modules, and it will be fully tested\n",
    "* customizable means it will be a libaray rather than an application, it only provide data structures and functions handling basic geometry concepts\n",
    "\n",
    "### Installation\n",
    "```\n",
    "pip install py3d\n",
    "```"
   ]
  },
  {
   "cell_type": "markdown",
   "metadata": {},
   "source": [
    "### API reference\n",
    "\n",
    "[Data](https://tumiz.github.io/scenario/Data.html)\n",
    "[Vector](https://tumiz.github.io/scenario/Vector.html)\n",
    "[Vector3](https://tumiz.github.io/scenario/Vector3.html)\n",
    "[Transform](https://tumiz.github.io/scenario/Transform.html)\n",
    "[Color](https://tumiz.github.io/scenario/Color.html)\n",
    "[Point](https://tumiz.github.io/scenario/Point.html)\n",
    "[Triangle](https://tumiz.github.io/scenario/Triangle.html)"
   ]
  }
 ],
 "metadata": {
  "kernelspec": {
   "display_name": "Python 3.8.3 ('base')",
   "language": "python",
   "name": "python3"
  },
  "language_info": {
   "name": "python",
   "version": "3.8.3"
  },
  "orig_nbformat": 4,
  "vscode": {
   "interpreter": {
    "hash": "6aa3b417f6031089fe78d3bd6c6859fc6570bbd00574f35191098c43dfcf5211"
   }
  }
 },
 "nbformat": 4,
 "nbformat_minor": 2
}
