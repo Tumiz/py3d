{
 "cells": [
  {
   "cell_type": "markdown",
   "metadata": {},
   "source": [
    "<script>\n",
    "var _hmt = _hmt || [];\n",
    "(function() {\n",
    "  var hm = document.createElement(\"script\");\n",
    "  hm.src = \"https://hm.baidu.com/hm.js?444208f50ebba09f31033fb98c3497b3\";\n",
    "  var s = document.getElementsByTagName(\"script\")[0]; \n",
    "  s.parentNode.insertBefore(hm, s);\n",
    "})();\n",
    "</script>"
   ]
  },
  {
   "cell_type": "markdown",
   "metadata": {},
   "source": [
    "# Scenario Tool Kit\n",
    "**Scenario** [Github](https://github.com/Tumiz/scenario) is a series of python libraries that helping building simulation environment easily and quickly. Click [Here](https://tumiz.github.io/scenario/) to see documents \n",
    "\n",
    "## py3d\n",
    "\n",
    "**py3d** is one of the **scenario** libraries. It is a python 3d computational geometry library, which can deal with points, lines, planes and 3d meshes in batches.\n",
    "\n",
    "It is under development and unstable currently. But it is designed to be simple, stable and customizable:\n",
    "\n",
    "* simple means api will be less than usual and progressive\n",
    "* stable means it will have less dependeces and modules, and it will be fully tested\n",
    "* customizable means it will be a libaray rather than an application, it only provide data structures and functions handling basic geometry concepts\n",
    "\n",
    "### Installation\n",
    "```\n",
    "pip install py3d\n",
    "```"
   ]
  },
  {
   "cell_type": "markdown",
   "metadata": {},
   "source": [
    "### Example"
   ]
  },
  {
   "cell_type": "code",
   "execution_count": null,
   "metadata": {},
   "outputs": [],
   "source": [
    "import py3d\n",
    "import numpy\n",
    "cars = py3d.Vector3.cube(0.5,0.2,0.3) @ py3d.Transform.from_translation(y=range(1,6))\n",
    "for i in range(5):\n",
    "    py3d.render(cars.as_linesegment(), t=i)\n",
    "    cars @= py3d.Transform.from_rpy(py3d.Vector3(z=numpy.linspace(0.1,0.5,5)))\n",
    "py3d.render(cars.as_linesegment(), t=i+1)"
   ]
  },
  {
   "attachments": {},
   "cell_type": "markdown",
   "metadata": {},
   "source": [
    "### API reference\n",
    "\n",
    "[Data](https://tumiz.github.io/scenario/Data.html)\n",
    "[Vector](https://tumiz.github.io/scenario/Vector.html)\n",
    "[Vector3](https://tumiz.github.io/scenario/Vector3.html)\n",
    "[Vector4](https://tumiz.github.io/scenario/Vector4.html)\n",
    "[Transform](https://tumiz.github.io/scenario/Transform.html)\n",
    "[Color](https://tumiz.github.io/scenario/Color.html)"
   ]
  },
  {
   "cell_type": "markdown",
   "metadata": {},
   "source": [
    "[Top](#Scenario-Tool-Kit)"
   ]
  },
  {
   "cell_type": "markdown",
   "metadata": {},
   "source": []
  }
 ],
 "metadata": {
  "kernelspec": {
   "display_name": "Python 3.10.6 64-bit",
   "language": "python",
   "name": "python3"
  },
  "language_info": {
   "codemirror_mode": {
    "name": "ipython",
    "version": 3
   },
   "file_extension": ".py",
   "mimetype": "text/x-python",
   "name": "python",
   "nbconvert_exporter": "python",
   "pygments_lexer": "ipython3",
   "version": "3.10.6"
  },
  "orig_nbformat": 4,
  "vscode": {
   "interpreter": {
    "hash": "916dbcbb3f70747c44a77c7bcd40155683ae19c65e1c03b4aa3499c5328201f1"
   }
  }
 },
 "nbformat": 4,
 "nbformat_minor": 2
}
