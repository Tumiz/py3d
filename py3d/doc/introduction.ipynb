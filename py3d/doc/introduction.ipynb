{
 "cells": [
  {
   "cell_type": "markdown",
   "metadata": {},
   "source": [
    "*Copyright (c) Tumiz. Distributed under the terms of the GPL-3.0 License.*"
   ]
  },
  {
   "cell_type": "markdown",
   "metadata": {},
   "source": [
    "# What is py3d?\n",
    "py3d is a python 3d computational geometry library, which can deal with points, lines, planes and 3d meshes in batches. It is aimed at providing a tool to build a simulation environment as same as possible."
   ]
  },
  {
   "cell_type": "markdown",
   "metadata": {},
   "source": [
    "# Installation\n",
    "`pip install py3d`"
   ]
  },
  {
   "cell_type": "markdown",
   "metadata": {},
   "source": [
    "# Vector3 --Type for position, velocity & scale"
   ]
  },
  {
   "cell_type": "markdown",
   "metadata": {},
   "source": [
    "**Vector3** represents point or position, velocity and scale. Note! Angular velocity cant be represented by this type, it should be represented by Rotation3 which will indroduced in next section. It is a class inheriting numpy.ndarray, so it is also ndarray."
   ]
  },
  {
   "cell_type": "markdown",
   "metadata": {},
   "source": [
    "## Defination\n",
    "\n",
    "```python\n",
    "Vector3(x:int|float|list|tuple|ndarray,y:int|float|list|tuple|ndarray,z:int|float|list|tuple|ndarray):Vector3\n",
    "```   \n",
    "Vector3 can be a vector or a collection of vectors. "
   ]
  },
  {
   "cell_type": "code",
   "execution_count": 1,
   "metadata": {},
   "outputs": [
    {
     "data": {
      "text/plain": [
       "Vector3([[1., 2., 3.]])"
      ]
     },
     "execution_count": 1,
     "metadata": {},
     "output_type": "execute_result"
    }
   ],
   "source": [
    "from py3d import Vector3\n",
    "Vector3(1,2,3)"
   ]
  },
  {
   "cell_type": "code",
   "execution_count": 2,
   "metadata": {},
   "outputs": [
    {
     "data": {
      "text/plain": [
       "Vector3([[1., 2., 3.],\n",
       "         [1., 2., 3.],\n",
       "         [1., 2., 3.],\n",
       "         [1., 2., 3.],\n",
       "         [1., 2., 3.]])"
      ]
     },
     "execution_count": 2,
     "metadata": {},
     "output_type": "execute_result"
    }
   ],
   "source": [
    "from py3d import Vector3\n",
    "Vector3(1,2,3,5)"
   ]
  },
  {
   "cell_type": "markdown",
   "metadata": {},
   "source": [
    "Vector3 has x,y,z properties, each can be set independently"
   ]
  },
  {
   "cell_type": "code",
   "execution_count": 3,
   "metadata": {},
   "outputs": [
    {
     "data": {
      "text/plain": [
       "Vector3([[0., 0., 0.],\n",
       "         [1., 0., 0.],\n",
       "         [2., 0., 0.],\n",
       "         [3., 0., 0.],\n",
       "         [4., 0., 0.]])"
      ]
     },
     "execution_count": 3,
     "metadata": {},
     "output_type": "execute_result"
    }
   ],
   "source": [
    "from py3d import Vector3\n",
    "a=Vector3(0,0,0,5)\n",
    "a.x=list(range(5))\n",
    "a"
   ]
  },
  {
   "cell_type": "code",
   "execution_count": 4,
   "metadata": {},
   "outputs": [
    {
     "data": {
      "text/plain": [
       "Vector3([[ 0.        ,  0.        ,  0.        ],\n",
       "         [ 1.        ,  0.84147098,  0.        ],\n",
       "         [ 2.        ,  0.90929743,  0.        ],\n",
       "         [ 3.        ,  0.14112001,  0.        ],\n",
       "         [ 4.        , -0.7568025 ,  0.        ]])"
      ]
     },
     "execution_count": 4,
     "metadata": {},
     "output_type": "execute_result"
    }
   ],
   "source": [
    "from py3d import Vector3\n",
    "import numpy\n",
    "a=Vector3(0,0,0,5)\n",
    "a.x=[0,1,2,3,4]\n",
    "a.y=numpy.sin(a.x)\n",
    "a"
   ]
  },
  {
   "cell_type": "markdown",
   "metadata": {},
   "source": [
    "Vector3 can be constructed from list, tuple and numpy.array"
   ]
  },
  {
   "cell_type": "code",
   "execution_count": 5,
   "metadata": {},
   "outputs": [
    {
     "data": {
      "text/plain": [
       "Vector3([[1, 2, 3],\n",
       "         [4, 5, 5]])"
      ]
     },
     "execution_count": 5,
     "metadata": {},
     "output_type": "execute_result"
    }
   ],
   "source": [
    "from py3d import Vector3\n",
    "Vector3.from_array([1,2,3,4,5,5])"
   ]
  },
  {
   "cell_type": "code",
   "execution_count": 6,
   "metadata": {},
   "outputs": [
    {
     "data": {
      "text/plain": [
       "Vector3([[1, 2, 3],\n",
       "         [4, 5, 6]])"
      ]
     },
     "execution_count": 6,
     "metadata": {},
     "output_type": "execute_result"
    }
   ],
   "source": [
    "from py3d import Vector3\n",
    "Vector3.from_array([[1,2,3],[4,5,6]])"
   ]
  },
  {
   "cell_type": "code",
   "execution_count": 7,
   "metadata": {},
   "outputs": [
    {
     "data": {
      "text/plain": [
       "Vector3([[1, 2, 3],\n",
       "         [4, 5, 6]])"
      ]
     },
     "execution_count": 7,
     "metadata": {},
     "output_type": "execute_result"
    }
   ],
   "source": [
    "from py3d import Vector3\n",
    "Vector3.from_array((1,2,3,4,5,6))"
   ]
  },
  {
   "cell_type": "code",
   "execution_count": 8,
   "metadata": {},
   "outputs": [
    {
     "data": {
      "text/plain": [
       "Vector3([[ 0. ,  0.5,  1. ],\n",
       "         [ 1.5,  2. ,  2.5],\n",
       "         [ 3. ,  3.5,  4. ],\n",
       "         [ 4.5,  5. ,  5.5],\n",
       "         [ 6. ,  6.5,  7. ],\n",
       "         [ 7.5,  8. ,  8.5],\n",
       "         [ 9. ,  9.5, 10. ]])"
      ]
     },
     "execution_count": 8,
     "metadata": {},
     "output_type": "execute_result"
    }
   ],
   "source": [
    "from py3d import Vector3\n",
    "import numpy\n",
    "Vector3.from_array(numpy.linspace(0,10,21))"
   ]
  },
  {
   "cell_type": "markdown",
   "metadata": {},
   "source": [
    "```python\n",
    "Vector3.Rand(n:int):Vector3\n",
    "```\n",
    "Return a random vector or a collection of random vectors.\n",
    "```python\n",
    "Vector3.Zeros(n:int):Vector3\n",
    "```\n",
    "Return a zero vector or a collection of zero vectors.\n",
    "```python\n",
    "Vector3.Ones(n:int):Vector3\n",
    "```\n",
    "Return a vector or a collection of vectors filled with 1"
   ]
  },
  {
   "cell_type": "code",
   "execution_count": 9,
   "metadata": {},
   "outputs": [
    {
     "data": {
      "text/plain": [
       "(Vector3([[0.96029533, 0.31727346, 0.93344616],\n",
       "          [0.70877926, 0.63228933, 0.4739062 ],\n",
       "          [0.56812327, 0.28016683, 0.33868278],\n",
       "          [0.62358129, 0.71177928, 0.71738367]]),\n",
       " Vector3([[0., 0., 0.],\n",
       "          [0., 0., 0.],\n",
       "          [0., 0., 0.],\n",
       "          [0., 0., 0.]]),\n",
       " Vector3([[1., 1., 1.],\n",
       "          [1., 1., 1.],\n",
       "          [1., 1., 1.],\n",
       "          [1., 1., 1.]]))"
      ]
     },
     "execution_count": 9,
     "metadata": {},
     "output_type": "execute_result"
    }
   ],
   "source": [
    "from py3d import Vector3\n",
    "Vector3.Rand(4),Vector3.Zeros(4),Vector3.Ones(4)"
   ]
  },
  {
   "cell_type": "markdown",
   "metadata": {},
   "source": [
    "## Deep copy\n",
    "```python\n",
    ".copy()\n",
    "```\n",
    "It will return deep copy of origin vector, and their value are equal."
   ]
  },
  {
   "cell_type": "code",
   "execution_count": 10,
   "metadata": {},
   "outputs": [
    {
     "data": {
      "text/plain": [
       "(140163238414256, 140163238414256, 140163238414704, array([[ True]]))"
      ]
     },
     "execution_count": 10,
     "metadata": {},
     "output_type": "execute_result"
    }
   ],
   "source": [
    "from py3d import Vector3\n",
    "a=Vector3(1,2,3)\n",
    "b=a\n",
    "c=a.copy() # deep copy\n",
    "id(a),id(b),id(c), a==c"
   ]
  },
  {
   "cell_type": "code",
   "execution_count": 11,
   "metadata": {},
   "outputs": [
    {
     "name": "stdout",
     "output_type": "stream",
     "text": [
      "[[0.87518404]\n",
      " [0.73203232]\n",
      " [1.17081318]\n",
      " [0.89161943]\n",
      " [0.58824565]]\n"
     ]
    },
    {
     "data": {
      "text/plain": [
       "array([[ True],\n",
       "       [ True],\n",
       "       [ True],\n",
       "       [ True],\n",
       "       [ True]])"
      ]
     },
     "execution_count": 11,
     "metadata": {},
     "output_type": "execute_result"
    }
   ],
   "source": [
    "from py3d import Vector3\n",
    "points=Vector3.Rand(5)\n",
    "print(points.norm())\n",
    "points_copy=points.copy()\n",
    "points==points_copy"
   ]
  },
  {
   "cell_type": "markdown",
   "metadata": {},
   "source": [
    "## Modify"
   ]
  },
  {
   "cell_type": "code",
   "execution_count": 12,
   "metadata": {},
   "outputs": [
    {
     "data": {
      "text/plain": [
       "Vector3([[1., 2., 3.],\n",
       "         [1., 2., 3.],\n",
       "         [1., 2., 3.],\n",
       "         [1., 2., 3.]])"
      ]
     },
     "execution_count": 12,
     "metadata": {},
     "output_type": "execute_result"
    }
   ],
   "source": [
    "from py3d import Vector3\n",
    "points=Vector3(1,2,3,4)\n",
    "points"
   ]
  },
  {
   "cell_type": "code",
   "execution_count": 13,
   "metadata": {},
   "outputs": [
    {
     "data": {
      "text/plain": [
       "Vector3([[ 1.,  2.,  3.],\n",
       "         [ 1.,  2.,  3.],\n",
       "         [-1., -2., -3.],\n",
       "         [ 1.,  2.,  3.]])"
      ]
     },
     "execution_count": 13,
     "metadata": {},
     "output_type": "execute_result"
    }
   ],
   "source": [
    "points[2]=Vector3(-1,-2,-3)\n",
    "points"
   ]
  },
  {
   "cell_type": "code",
   "execution_count": 14,
   "metadata": {},
   "outputs": [
    {
     "data": {
      "text/plain": [
       "Vector3([[ 1.,  1.,  1.],\n",
       "         [ 1.,  1.,  1.],\n",
       "         [-1., -2., -3.],\n",
       "         [ 1.,  2.,  3.]])"
      ]
     },
     "execution_count": 14,
     "metadata": {},
     "output_type": "execute_result"
    }
   ],
   "source": [
    "points[0:2]=Vector3.Ones(2)\n",
    "points"
   ]
  },
  {
   "cell_type": "markdown",
   "metadata": {},
   "source": [
    "## Reverse\n",
    "```python\n",
    ".reverse():ndarray\n",
    "```"
   ]
  },
  {
   "cell_type": "code",
   "execution_count": 15,
   "metadata": {},
   "outputs": [
    {
     "name": "stdout",
     "output_type": "stream",
     "text": [
      "[[1 2 3]\n",
      " [2 0 0]]\n",
      "[[2 0 0]\n",
      " [1 2 3]]\n",
      "[[1 2 3]\n",
      " [2 0 0]]\n",
      "[[2 0 0]\n",
      " [1 2 3]]\n"
     ]
    }
   ],
   "source": [
    "from py3d import *\n",
    "a=Vector3([\n",
    "    [1,2,3],\n",
    "    [2,0,0]\n",
    "])\n",
    "print(a)\n",
    "a.reverse()\n",
    "print(a)\n",
    "print(a.reversed())\n",
    "print(a)"
   ]
  },
  {
   "cell_type": "markdown",
   "metadata": {},
   "source": [
    "## Append\n",
    "```python\n",
    ".append(Vector3|ndarray):ndarray\n",
    "```"
   ]
  },
  {
   "cell_type": "code",
   "execution_count": 16,
   "metadata": {},
   "outputs": [
    {
     "data": {
      "text/plain": [
       "Vector3([[1., 2., 3.],\n",
       "         [1., 2., 3.],\n",
       "         [1., 2., 3.],\n",
       "         [1., 2., 3.],\n",
       "         [1., 1., 1.],\n",
       "         [1., 1., 1.],\n",
       "         [1., 1., 1.],\n",
       "         [1., 1., 1.]])"
      ]
     },
     "execution_count": 16,
     "metadata": {},
     "output_type": "execute_result"
    }
   ],
   "source": [
    "from py3d import Vector3\n",
    "a=Vector3(1,2,3,n=4)\n",
    "b=Vector3.Ones(n=2)\n",
    "a.append(b).append(b)"
   ]
  },
  {
   "cell_type": "markdown",
   "metadata": {},
   "source": [
    "## Insert\n",
    "\n",
    "Note: this operation would not change origin vector, but generate a new one"
   ]
  },
  {
   "cell_type": "code",
   "execution_count": 17,
   "metadata": {},
   "outputs": [
    {
     "data": {
      "text/plain": [
       "Vector3([[0.59241473, 0.50759917, 0.23038677],\n",
       "         [0.16617828, 0.24118212, 0.60393653],\n",
       "         [1.        , 2.        , 3.        ],\n",
       "         [1.        , 2.        , 3.        ],\n",
       "         [1.        , 2.        , 3.        ],\n",
       "         [0.30788808, 0.89200591, 0.7372017 ],\n",
       "         [0.31555379, 0.79141418, 0.90821569]])"
      ]
     },
     "execution_count": 17,
     "metadata": {},
     "output_type": "execute_result"
    }
   ],
   "source": [
    "from py3d import *\n",
    "a=Vector3.Rand(4)\n",
    "a.insert(2,Vector3(1,2,3,3))"
   ]
  },
  {
   "cell_type": "code",
   "execution_count": 18,
   "metadata": {},
   "outputs": [
    {
     "data": {
      "text/plain": [
       "Vector3([[1.        , 2.        , 3.        ],\n",
       "         [0.07238743, 0.52608644, 0.60767863],\n",
       "         [1.        , 2.        , 3.        ],\n",
       "         [0.64393585, 0.84799273, 0.03219875],\n",
       "         [1.        , 2.        , 3.        ],\n",
       "         [0.9044454 , 0.14387218, 0.1711786 ],\n",
       "         [0.80754736, 0.03126761, 0.64497504]])"
      ]
     },
     "execution_count": 18,
     "metadata": {},
     "output_type": "execute_result"
    }
   ],
   "source": [
    "from py3d import *\n",
    "a=Vector3.Rand(4)\n",
    "a.insert(slice(0,3),Vector3(1,2,3))"
   ]
  },
  {
   "cell_type": "code",
   "execution_count": 19,
   "metadata": {},
   "outputs": [
    {
     "data": {
      "text/plain": [
       "Vector3([[ 1.        ,  2.        ,  3.        ],\n",
       "         [ 0.09932589,  0.51341768,  0.8557272 ],\n",
       "         [ 2.        ,  4.        ,  6.        ],\n",
       "         [ 0.48918877,  0.91150332,  0.98645232],\n",
       "         [ 3.        ,  6.        ,  9.        ],\n",
       "         [ 0.07774854,  0.54489196,  0.99585192],\n",
       "         [ 4.        ,  8.        , 12.        ],\n",
       "         [ 0.55514851,  0.99494483,  0.4824332 ]])"
      ]
     },
     "execution_count": 19,
     "metadata": {},
     "output_type": "execute_result"
    }
   ],
   "source": [
    "from py3d import *\n",
    "a=Vector3.Rand(4)\n",
    "a.insert(slice(0,4),Vector3(1,2,3,n=4).cumsum())"
   ]
  },
  {
   "cell_type": "markdown",
   "metadata": {},
   "source": [
    "## Remove\n",
    "Note: this operation would not change origin vector, but generate a new one"
   ]
  },
  {
   "cell_type": "code",
   "execution_count": 20,
   "metadata": {},
   "outputs": [
    {
     "name": "stdout",
     "output_type": "stream",
     "text": [
      "[[0.47725115 0.2274109  0.88666359]\n",
      " [0.1287279  0.52967672 0.07541635]\n",
      " [0.53869625 0.30877252 0.79626836]\n",
      " [0.10568903 0.79984619 0.09240224]]\n"
     ]
    },
    {
     "data": {
      "text/plain": [
       "Vector3([[0.1287279 , 0.52967672, 0.07541635],\n",
       "         [0.53869625, 0.30877252, 0.79626836],\n",
       "         [0.10568903, 0.79984619, 0.09240224]])"
      ]
     },
     "execution_count": 20,
     "metadata": {},
     "output_type": "execute_result"
    }
   ],
   "source": [
    "from py3d import *\n",
    "a=Vector3.Rand(4)\n",
    "print(a)\n",
    "a.remove(0)"
   ]
  },
  {
   "cell_type": "code",
   "execution_count": 21,
   "metadata": {},
   "outputs": [
    {
     "name": "stdout",
     "output_type": "stream",
     "text": [
      "[[0.50219404 0.9979225  0.73630225]\n",
      " [0.53286337 0.37312599 0.69217958]\n",
      " [0.77734824 0.42565746 0.09005771]\n",
      " [0.04926142 0.87878261 0.09706503]\n",
      " [0.82614226 0.87278747 0.04515184]]\n"
     ]
    },
    {
     "data": {
      "text/plain": [
       "Vector3([[0.50219404, 0.9979225 , 0.73630225],\n",
       "         [0.53286337, 0.37312599, 0.69217958],\n",
       "         [0.82614226, 0.87278747, 0.04515184]])"
      ]
     },
     "execution_count": 21,
     "metadata": {},
     "output_type": "execute_result"
    }
   ],
   "source": [
    "from py3d import *\n",
    "a=Vector3.Rand(5)\n",
    "print(a)\n",
    "a.remove(slice(2,4))"
   ]
  },
  {
   "cell_type": "code",
   "execution_count": 22,
   "metadata": {},
   "outputs": [
    {
     "name": "stdout",
     "output_type": "stream",
     "text": [
      "[[0.06876752 0.99375316 0.14996864]\n",
      " [0.99195978 0.24605289 0.98516356]\n",
      " [0.42430983 0.78700934 0.83198605]\n",
      " [0.85286062 0.41565575 0.36864754]\n",
      " [0.96776027 0.63296654 0.88415212]]\n"
     ]
    },
    {
     "data": {
      "text/plain": [
       "Vector3([[0.06876752, 0.99375316, 0.14996864],\n",
       "         [0.99195978, 0.24605289, 0.98516356],\n",
       "         [0.42430983, 0.78700934, 0.83198605],\n",
       "         [0.85286062, 0.41565575, 0.36864754],\n",
       "         [0.96776027, 0.63296654, 0.88415212]])"
      ]
     },
     "execution_count": 22,
     "metadata": {},
     "output_type": "execute_result"
    }
   ],
   "source": [
    "from py3d import *\n",
    "a=Vector3.Rand(5)\n",
    "print(a)\n",
    "a.remove(slice(2,4))\n",
    "a"
   ]
  },
  {
   "cell_type": "markdown",
   "metadata": {},
   "source": [
    "## Discrete difference\n",
    "```python\n",
    ".diff(n:int):Vector3\n",
    "```\n"
   ]
  },
  {
   "cell_type": "code",
   "execution_count": 23,
   "metadata": {},
   "outputs": [
    {
     "data": {
      "text/plain": [
       "(Vector3([[ 1,  1,  0],\n",
       "          [ 2,  3,  1],\n",
       "          [ 4, -3, -2]]),\n",
       " Vector3([[ 1,  2,  1],\n",
       "          [ 2, -6, -3]]))"
      ]
     },
     "execution_count": 23,
     "metadata": {},
     "output_type": "execute_result"
    }
   ],
   "source": [
    "from py3d import Vector3\n",
    "points=Vector3([\n",
    "    [1,2,1],\n",
    "    [2,3,1],\n",
    "    [4,6,2],\n",
    "    [8,3,0]\n",
    "])\n",
    "points.diff(),points.diff(2)"
   ]
  },
  {
   "cell_type": "markdown",
   "metadata": {},
   "source": [
    "## Cumulative Sum\n",
    "```python\n",
    ".cumsum():Vector3\n",
    "```\n",
    "Return the cumulative sum of the elements along a given axis."
   ]
  },
  {
   "cell_type": "code",
   "execution_count": 24,
   "metadata": {},
   "outputs": [
    {
     "data": {
      "text/plain": [
       "Vector3([[ 1,  2,  1],\n",
       "         [ 3,  5,  2],\n",
       "         [ 7, 11,  4],\n",
       "         [15, 14,  4]])"
      ]
     },
     "execution_count": 24,
     "metadata": {},
     "output_type": "execute_result"
    }
   ],
   "source": [
    "from py3d import Vector3\n",
    "points=Vector3([\n",
    "    [1,2,1],\n",
    "    [2,3,1],\n",
    "    [4,6,2],\n",
    "    [8,3,0]\n",
    "])\n",
    "points.cumsum()"
   ]
  },
  {
   "cell_type": "markdown",
   "metadata": {},
   "source": [
    "## Add"
   ]
  },
  {
   "cell_type": "code",
   "execution_count": 25,
   "metadata": {},
   "outputs": [
    {
     "data": {
      "text/plain": [
       "Vector3([[3., 5., 7.]])"
      ]
     },
     "execution_count": 25,
     "metadata": {},
     "output_type": "execute_result"
    }
   ],
   "source": [
    "from py3d import Vector3\n",
    "Vector3(1,2,3)+Vector3(2,3,4)"
   ]
  },
  {
   "cell_type": "code",
   "execution_count": 26,
   "metadata": {},
   "outputs": [
    {
     "data": {
      "text/plain": [
       "Vector3([[1., 1., 1.],\n",
       "         [1., 1., 1.],\n",
       "         [1., 1., 1.]])"
      ]
     },
     "execution_count": 26,
     "metadata": {},
     "output_type": "execute_result"
    }
   ],
   "source": [
    "from py3d import Vector3\n",
    "Vector3.Zeros(3)+Vector3.Ones(3)"
   ]
  },
  {
   "cell_type": "code",
   "execution_count": 27,
   "metadata": {},
   "outputs": [
    {
     "data": {
      "text/plain": [
       "Vector3([[ 2,  0, -1],\n",
       "         [-1,  4,  2],\n",
       "         [10, 13, 15],\n",
       "         [ 8,  8,  5]])"
      ]
     },
     "execution_count": 27,
     "metadata": {},
     "output_type": "execute_result"
    }
   ],
   "source": [
    "from py3d import Vector3\n",
    "a=Vector3.from_array([1,2,3,4,5,6,7,8,9,-1,-2,-3])\n",
    "b=Vector3.from_array([1,-2,-4,-5,-1,-4,3,5,6,9,10,8])\n",
    "a+b"
   ]
  },
  {
   "cell_type": "markdown",
   "metadata": {},
   "source": [
    "## Subtract"
   ]
  },
  {
   "cell_type": "code",
   "execution_count": 28,
   "metadata": {},
   "outputs": [
    {
     "data": {
      "text/plain": [
       "Vector3([[2., 4., 6.],\n",
       "         [2., 4., 6.],\n",
       "         [2., 4., 6.],\n",
       "         [2., 4., 6.]])"
      ]
     },
     "execution_count": 28,
     "metadata": {},
     "output_type": "execute_result"
    }
   ],
   "source": [
    "from py3d import Vector3\n",
    "Vector3(1,2,3,n=4)-Vector3(-1,-2,-3)"
   ]
  },
  {
   "cell_type": "code",
   "execution_count": 29,
   "metadata": {},
   "outputs": [
    {
     "data": {
      "text/plain": [
       "Vector3([[ 0.,  3.,  0.],\n",
       "         [ 3.,  6.,  3.],\n",
       "         [ 6.,  9.,  6.],\n",
       "         [ 9., 12.,  9.],\n",
       "         [12., 15., 12.]])"
      ]
     },
     "execution_count": 29,
     "metadata": {},
     "output_type": "execute_result"
    }
   ],
   "source": [
    "from py3d import Vector3\n",
    "Vector3.from_array([1,2,3,4,5,6,7,8,9,10,11,12,13,14,15])-Vector3(1,-1,3,5)"
   ]
  },
  {
   "cell_type": "markdown",
   "metadata": {},
   "source": [
    "## Multiply"
   ]
  },
  {
   "cell_type": "markdown",
   "metadata": {},
   "source": [
    "### Multiply a number"
   ]
  },
  {
   "cell_type": "code",
   "execution_count": 30,
   "metadata": {},
   "outputs": [
    {
     "data": {
      "text/plain": [
       "(Vector3([[ 3., -6.,  9.]]), Vector3([[ 3., -6.,  9.]]), array([[ True]]))"
      ]
     },
     "execution_count": 30,
     "metadata": {},
     "output_type": "execute_result"
    }
   ],
   "source": [
    "from py3d import Vector3\n",
    "a=Vector3(1,-2,3)*3\n",
    "b=3*Vector3(1,-2,3)\n",
    "a,b,a==b"
   ]
  },
  {
   "cell_type": "markdown",
   "metadata": {},
   "source": [
    "### Multiply element by element\n",
    "support multiplication between Vector3,Numpy.ndarray,list and tuple."
   ]
  },
  {
   "cell_type": "code",
   "execution_count": 31,
   "metadata": {},
   "outputs": [
    {
     "data": {
      "text/plain": [
       "(Vector3([[1., 2., 9.]]),\n",
       " Vector3([[1., 2., 9.]]),\n",
       " Vector3([[1., 2., 9.]]),\n",
       " Vector3([[1., 2., 9.]]),\n",
       " Vector3([[1., 2., 9.]]))"
      ]
     },
     "execution_count": 31,
     "metadata": {},
     "output_type": "execute_result"
    }
   ],
   "source": [
    "from py3d import Vector3\n",
    "from numpy import array\n",
    "Vector3(1,-2,3)*Vector3(1,-1,3),\\\n",
    "Vector3(1,-2,3)*array([1,-1,3]),\\\n",
    "array([1,-1,3])*Vector3(1,-2,3),\\\n",
    "Vector3(1,-1,3)*[1,-2,3],\\\n",
    "(1,-1,3)*Vector3(1,-2,3)"
   ]
  },
  {
   "cell_type": "markdown",
   "metadata": {},
   "source": [
    "### Dot product\n",
    "Two vectors' dot product can be used to calculate angle between them. If angle \n",
    " \n",
    "$\\bf{a}\\cdot\\bf{b}=|\\bf{a}|\\cdot|\\bf{b}|\\cdot cos\\theta$\n",
    "\n",
    "$\\bf{a}\\cdot\\bf{b}=\\bf{b}\\cdot\\bf{a}$\n",
    "\n",
    "*.dot(Vector3):Vector3*\n",
    "\n",
    "dot() will return a new Vector3, the original one wont be changed"
   ]
  },
  {
   "cell_type": "code",
   "execution_count": 32,
   "metadata": {},
   "outputs": [
    {
     "name": "stdout",
     "output_type": "stream",
     "text": [
      "[[3.74165739]] [[4.12310563]] [[-0.7130241]]\n",
      "[[-11.]] [[-11.]]\n"
     ]
    }
   ],
   "source": [
    "from py3d import Vector3\n",
    "from numpy import cos\n",
    "a=Vector3(1,-2,3)\n",
    "b=Vector3(0,4,-1)\n",
    "product=a.dot(b) # dot product\n",
    "theta=a.angle_to_vector(b)\n",
    "print(a.norm(),b.norm(),cos(theta))\n",
    "print(a.norm()*b.norm()*cos(theta),product)"
   ]
  },
  {
   "cell_type": "code",
   "execution_count": 33,
   "metadata": {},
   "outputs": [
    {
     "data": {
      "text/plain": [
       "(array([[-11.]]), array([[-11.]]), array([[ True]]))"
      ]
     },
     "execution_count": 33,
     "metadata": {},
     "output_type": "execute_result"
    }
   ],
   "source": [
    "a.dot(b),b.dot(a),a.dot(b)==b.dot(a)"
   ]
  },
  {
   "cell_type": "code",
   "execution_count": 34,
   "metadata": {},
   "outputs": [
    {
     "data": {
      "text/plain": [
       "array([[0.62088845],\n",
       "       [0.24859416],\n",
       "       [0.44576021],\n",
       "       [0.23757093]])"
      ]
     },
     "execution_count": 34,
     "metadata": {},
     "output_type": "execute_result"
    }
   ],
   "source": [
    "from py3d import Vector3\n",
    "a=Vector3.Rand(4)\n",
    "b=Vector3.Rand(4)\n",
    "a.dot(b)"
   ]
  },
  {
   "cell_type": "code",
   "execution_count": 35,
   "metadata": {},
   "outputs": [
    {
     "data": {
      "text/plain": [
       "array([[0.20466532],\n",
       "       [0.63034572],\n",
       "       [0.83401737],\n",
       "       [0.71778778]])"
      ]
     },
     "execution_count": 35,
     "metadata": {},
     "output_type": "execute_result"
    }
   ],
   "source": [
    "from py3d import Vector3\n",
    "a=Vector3.Rand(4)\n",
    "b=Vector3(x=1)\n",
    "a.dot(b)"
   ]
  },
  {
   "cell_type": "markdown",
   "metadata": {},
   "source": [
    "### Cross product\n",
    "\n",
    "$ \\bf{a}\\times\\bf{b}=|\\bf{a}|\\cdot|\\bf{b}|\\cdot sin\\theta$\n",
    "\n",
    "$\\bf{a}\\times\\bf{b}=-\\bf{b}\\times\\bf{a}$\n",
    "```python\n",
    ".cross(Vector3):Vector3\n",
    "```\n",
    "cross() will return a new Vector3, the original one wont be changed."
   ]
  },
  {
   "cell_type": "code",
   "execution_count": 36,
   "metadata": {},
   "outputs": [
    {
     "data": {
      "text/plain": [
       "(Vector3([[ 6., -3., -1.]]), Vector3([[-6.,  3.,  1.]]))"
      ]
     },
     "execution_count": 36,
     "metadata": {},
     "output_type": "execute_result"
    }
   ],
   "source": [
    "from py3d import Vector3\n",
    "a=Vector3(1,2,0)\n",
    "b=Vector3(0,-1,3)\n",
    "c=a.cross(b)\n",
    "a.cross(b),b.cross(a) # cross product"
   ]
  },
  {
   "cell_type": "markdown",
   "metadata": {},
   "source": [
    "array([1,2,0]).cross(Vector3(0,-1,3)) is not allowed since numpy.ndarray has no such a function to do cross product. But you can do it by a global function numpy.cross(array1, array2) like this"
   ]
  },
  {
   "cell_type": "code",
   "execution_count": 37,
   "metadata": {},
   "outputs": [
    {
     "data": {
      "text/plain": [
       "array([[ 6., -3., -1.]])"
      ]
     },
     "execution_count": 37,
     "metadata": {},
     "output_type": "execute_result"
    }
   ],
   "source": [
    "from numpy import cross,array\n",
    "from py3d import Vector3\n",
    "cross(array([1,2,0]), Vector3(0,-1,3))"
   ]
  },
  {
   "cell_type": "markdown",
   "metadata": {},
   "source": [
    "Have a look to see the origin vectors and the product vector"
   ]
  },
  {
   "cell_type": "code",
   "execution_count": 38,
   "metadata": {},
   "outputs": [],
   "source": [
    "from py3d import Vector3\n",
    "v1=Vector3(1,2,0)\n",
    "v2=Vector3(0,-1,3)\n",
    "vp=Vector3(1,2,0).cross(Vector3(0,-1,3))"
   ]
  },
  {
   "cell_type": "code",
   "execution_count": 39,
   "metadata": {},
   "outputs": [],
   "source": [
    "from py3d import Vector3\n",
    "a=Vector3.Rand(4)\n",
    "b=Vector3.Rand(4)\n",
    "c=a.cross(b)"
   ]
  },
  {
   "cell_type": "markdown",
   "metadata": {},
   "source": [
    "## Divide"
   ]
  },
  {
   "cell_type": "markdown",
   "metadata": {},
   "source": [
    "### Divide by scalar"
   ]
  },
  {
   "cell_type": "code",
   "execution_count": 40,
   "metadata": {},
   "outputs": [
    {
     "data": {
      "text/plain": [
       "Vector3([[0.33333333, 0.66666667, 1.        ]])"
      ]
     },
     "execution_count": 40,
     "metadata": {},
     "output_type": "execute_result"
    }
   ],
   "source": [
    "from py3d import Vector3\n",
    "Vector3(1,2,3)/3"
   ]
  },
  {
   "cell_type": "code",
   "execution_count": 41,
   "metadata": {},
   "outputs": [
    {
     "data": {
      "text/plain": [
       "Vector3([[1., 0., 1.],\n",
       "         [1., 0., 1.],\n",
       "         [1., 0., 1.],\n",
       "         [1., 0., 1.]])"
      ]
     },
     "execution_count": 41,
     "metadata": {},
     "output_type": "execute_result"
    }
   ],
   "source": [
    "from py3d import Vector3\n",
    "a=Vector3(3,0,3,n=4)\n",
    "a/3"
   ]
  },
  {
   "cell_type": "markdown",
   "metadata": {},
   "source": [
    "### Divide by vector"
   ]
  },
  {
   "cell_type": "code",
   "execution_count": 42,
   "metadata": {},
   "outputs": [
    {
     "data": {
      "text/plain": [
       "Vector3([[1., 1., 1.],\n",
       "         [1., 1., 1.],\n",
       "         [1., 1., 1.]])"
      ]
     },
     "execution_count": 42,
     "metadata": {},
     "output_type": "execute_result"
    }
   ],
   "source": [
    "from py3d import Vector3\n",
    "Vector3(1,2,3)/Vector3(1,2,3,n=3)"
   ]
  },
  {
   "cell_type": "markdown",
   "metadata": {},
   "source": [
    "### Divide by Numpy.ndarray, list and tuple\n",
    "Vector3 is divided element by element"
   ]
  },
  {
   "cell_type": "code",
   "execution_count": 43,
   "metadata": {},
   "outputs": [
    {
     "data": {
      "text/plain": [
       "(Vector3([[1., 1., 1.]]), Vector3([[1., 1., 1.]]), Vector3([[1., 1., 1.]]))"
      ]
     },
     "execution_count": 43,
     "metadata": {},
     "output_type": "execute_result"
    }
   ],
   "source": [
    "from py3d import Vector3\n",
    "from numpy import array\n",
    "Vector3(1,2,3)/array([1,2,3]), Vector3(1,2,3)/[1,2,3], Vector3(1,2,3)/(1,2,3)"
   ]
  },
  {
   "cell_type": "markdown",
   "metadata": {},
   "source": [
    "## Compare"
   ]
  },
  {
   "cell_type": "code",
   "execution_count": 44,
   "metadata": {},
   "outputs": [
    {
     "data": {
      "text/plain": [
       "(array([[ True]]), array([[False]]), True)"
      ]
     },
     "execution_count": 44,
     "metadata": {},
     "output_type": "execute_result"
    }
   ],
   "source": [
    "from py3d import *\n",
    "a=Vector3(1,0,0.7)\n",
    "b=Vector3(1.0,0.,0.7)\n",
    "c=Vector3(1.1,0,0.7)\n",
    "a==b,b==c,a!=c"
   ]
  },
  {
   "cell_type": "code",
   "execution_count": 45,
   "metadata": {},
   "outputs": [
    {
     "data": {
      "text/plain": [
       "array([[False],\n",
       "       [ True],\n",
       "       [False]])"
      ]
     },
     "execution_count": 45,
     "metadata": {},
     "output_type": "execute_result"
    }
   ],
   "source": [
    "from py3d import Vector3\n",
    "a=Vector3([[1,2,3],\n",
    "           [4,5,6],\n",
    "           [7,8,9]])\n",
    "b=Vector3([[1,1,3],\n",
    "           [4,5,6],\n",
    "           [7,1,9]])\n",
    "a==b"
   ]
  },
  {
   "cell_type": "markdown",
   "metadata": {},
   "source": [
    "## Angle\n",
    "```python\n",
    ".angle_to_vector(v:Vector3):float|ndarray\n",
    "```   \n",
    "It will return the angle (in radian) between two vector. The angle is always positive and smaller than $\\pi$."
   ]
  },
  {
   "cell_type": "code",
   "execution_count": 46,
   "metadata": {},
   "outputs": [
    {
     "data": {
      "text/plain": [
       "(array([[1.67046498]]), array([[1.67046498]]))"
      ]
     },
     "execution_count": 46,
     "metadata": {},
     "output_type": "execute_result"
    }
   ],
   "source": [
    "from py3d import Vector3\n",
    "v1=Vector3(1,-0.1,0)\n",
    "v2=Vector3(0,1,0)\n",
    "v1.angle_to_vector(v2),v2.angle_to_vector(v1)"
   ]
  },
  {
   "cell_type": "code",
   "execution_count": 47,
   "metadata": {},
   "outputs": [
    {
     "data": {
      "text/plain": [
       "array([[2.57665272e-01],\n",
       "       [2.10734243e-08],\n",
       "       [5.24348139e-01]])"
      ]
     },
     "execution_count": 47,
     "metadata": {},
     "output_type": "execute_result"
    }
   ],
   "source": [
    "from py3d import Vector3\n",
    "a=Vector3([[1,2,3],\n",
    "           [4,5,6],\n",
    "           [7,8,9]])\n",
    "b=Vector3([[1,1,3],\n",
    "           [4,5,6],\n",
    "           [7,1,9]])\n",
    "a.angle_to_vector(b)"
   ]
  },
  {
   "cell_type": "markdown",
   "metadata": {},
   "source": [
    "```python\n",
    ".angle_to_plane(normal:Vector3):float|ndarray\n",
    "```\n",
    "It will return the angle (in radian) between a vector and a plane. Result will be positive when normal and the vector have same direction, 0 when the plane and the vector is parallel, and negtive when normal and the vector have different direction."
   ]
  },
  {
   "cell_type": "code",
   "execution_count": 48,
   "metadata": {},
   "outputs": [
    {
     "data": {
      "text/plain": [
       "array([[-0.09966865]])"
      ]
     },
     "execution_count": 48,
     "metadata": {},
     "output_type": "execute_result"
    }
   ],
   "source": [
    "from py3d import Vector3\n",
    "v=Vector3(1,-0.1,0)\n",
    "normal=Vector3(0,1,0)\n",
    "v.angle_to_plane(normal)"
   ]
  },
  {
   "cell_type": "markdown",
   "metadata": {},
   "source": [
    "## Rotation\n",
    "\n",
    "```python\n",
    ".rotation_to(Vector3):Vector3,float\n",
    "```\n",
    "It will return axis-angle tuple representing the rotation from this vector to another"
   ]
  },
  {
   "cell_type": "code",
   "execution_count": 49,
   "metadata": {},
   "outputs": [
    {
     "data": {
      "text/plain": [
       "((Vector3([[-0.,  0.,  1.]]), array([[1.67046498]])),\n",
       " (Vector3([[ 0.,  0., -1.]]), array([[1.67046498]])))"
      ]
     },
     "execution_count": 49,
     "metadata": {},
     "output_type": "execute_result"
    }
   ],
   "source": [
    "from py3d import Vector3\n",
    "v1=Vector3(1,-0.1,0)\n",
    "v2=Vector3(0,1,0)\n",
    "v1.rotation_to(v2),v2.rotation_to(v1)"
   ]
  },
  {
   "cell_type": "code",
   "execution_count": 50,
   "metadata": {},
   "outputs": [
    {
     "data": {
      "text/plain": [
       "(Vector3([[-0.,  0.,  1.],\n",
       "          [ 0.,  0., -1.]]),\n",
       " array([[1.67046498],\n",
       "        [1.67046498]]))"
      ]
     },
     "execution_count": 50,
     "metadata": {},
     "output_type": "execute_result"
    }
   ],
   "source": [
    "from py3d import Vector3\n",
    "a=Vector3([[1,-0.1,0],\n",
    "        [0,1,0]])\n",
    "b=Vector3([[0,1,0],\n",
    "          [1,-0.1,0]])\n",
    "a.rotation_to(b)"
   ]
  },
  {
   "cell_type": "markdown",
   "metadata": {},
   "source": [
    "## Perpendicular\n",
    "\n",
    "$\\bf{a}\\perp\\bf{b}\\Leftrightarrow\\bf{a}\\cdot\\bf{b}=0$\n",
    "\n",
    "$\\bf{a}\\perp\\bf{b}\\Leftrightarrow<\\bf{a},\\bf{b}>=\\pi/2$\n",
    "\n",
    "```python\n",
    "    .is_perpendicular_to_vector(v:Vector3): bool\n",
    "    .is_perpendicular_to_plane(normal:Vector3): bool\n",
    "```"
   ]
  },
  {
   "cell_type": "code",
   "execution_count": 51,
   "metadata": {},
   "outputs": [
    {
     "data": {
      "text/plain": [
       "(array([[ True]]), array([[1.57079633]]))"
      ]
     },
     "execution_count": 51,
     "metadata": {},
     "output_type": "execute_result"
    }
   ],
   "source": [
    "from py3d import Vector3\n",
    "a=Vector3(0,1,1)\n",
    "b=Vector3(1,0,0)\n",
    "a.is_perpendicular_to_vector(b), a.angle_to_vector(b)"
   ]
  },
  {
   "cell_type": "markdown",
   "metadata": {},
   "source": [
    "## Parallel\n",
    "$\\bf{a}//\\bf{b}(\\bf{b}\\ne\\bf{0})\\Leftrightarrow\\bf{a}=\\lambda\\bf{b}$"
   ]
  },
  {
   "cell_type": "code",
   "execution_count": 52,
   "metadata": {},
   "outputs": [
    {
     "data": {
      "text/plain": [
       "(array([[ True]]), array([[False]]))"
      ]
     },
     "execution_count": 52,
     "metadata": {},
     "output_type": "execute_result"
    }
   ],
   "source": [
    "from py3d import Vector3\n",
    "a=Vector3(1,2,3)\n",
    "b=Vector3(2,4,6)\n",
    "plane = Vector3(1,2,)\n",
    "a.is_parallel_to_vector(b),a==b"
   ]
  },
  {
   "cell_type": "markdown",
   "metadata": {},
   "source": [
    "$\\bf{v}\\perp\\bf{0}, \\bf{v}\\cdot\\bf{0}=0$ is always true no matter what $\\bf{v}$ is"
   ]
  },
  {
   "cell_type": "code",
   "execution_count": 53,
   "metadata": {},
   "outputs": [
    {
     "data": {
      "text/plain": [
       "(array([[0.]]), array([[False]]), array([[ True]]))"
      ]
     },
     "execution_count": 53,
     "metadata": {},
     "output_type": "execute_result"
    }
   ],
   "source": [
    "from py3d import Vector3\n",
    "a=Vector3(1,2,3)\n",
    "b=Vector3(-2,3,9)\n",
    "a.dot(Vector3()),a.is_parallel_to_vector(Vector3()),b.is_parallel_to_vector(b)"
   ]
  },
  {
   "cell_type": "markdown",
   "metadata": {},
   "source": [
    "## Projection\n",
    "\n",
    "```python\n",
    ".scalar_projection(v:Vector3):float\n",
    "```\n",
    "```python\n",
    ".vector_projection(v:Vector3):Vector3\n",
    "```"
   ]
  },
  {
   "cell_type": "code",
   "execution_count": 54,
   "metadata": {},
   "outputs": [
    {
     "data": {
      "text/plain": [
       "(array([[2.]]), Vector3([[2., 0., 0.]]))"
      ]
     },
     "execution_count": 54,
     "metadata": {},
     "output_type": "execute_result"
    }
   ],
   "source": [
    "from py3d import Vector3\n",
    "a=Vector3(2,1,1)\n",
    "b=Vector3(1,0,0)\n",
    "a.scalar_projection(b),a.vector_projection(b)"
   ]
  },
  {
   "cell_type": "code",
   "execution_count": 55,
   "metadata": {},
   "outputs": [
    {
     "data": {
      "text/plain": [
       "array([[2.],\n",
       "       [2.],\n",
       "       [2.],\n",
       "       [2.],\n",
       "       [2.]])"
      ]
     },
     "execution_count": 55,
     "metadata": {},
     "output_type": "execute_result"
    }
   ],
   "source": [
    "from py3d import Vector3\n",
    "a=Vector3(2,1,1,5)\n",
    "b=Vector3(1,0,0)\n",
    "a.scalar_projection(b)"
   ]
  },
  {
   "cell_type": "code",
   "execution_count": 56,
   "metadata": {},
   "outputs": [
    {
     "data": {
      "text/plain": [
       "Vector3([[1., 0., 0.]])"
      ]
     },
     "execution_count": 56,
     "metadata": {},
     "output_type": "execute_result"
    }
   ],
   "source": [
    "from py3d import Vector3\n",
    "a=Vector3(1,2,3)\n",
    "p0=Vector3()\n",
    "p1=Vector3(1,0,0)\n",
    "a.projection_point_on_line(p0,p1)"
   ]
  },
  {
   "cell_type": "markdown",
   "metadata": {},
   "source": [
    "projection on plane"
   ]
  },
  {
   "cell_type": "code",
   "execution_count": 57,
   "metadata": {},
   "outputs": [
    {
     "name": "stdout",
     "output_type": "stream",
     "text": [
      "click http://localhost:8000/view/74d15748-24da-11ec-ad7e-6d90d3ff2e4f to view in browser\n"
     ]
    },
    {
     "data": {
      "text/html": [
       "\n",
       "        <iframe\n",
       "            width=\"100%\"\n",
       "            height=\"600px\"\n",
       "            src=\"http://localhost:8000/view/74d15748-24da-11ec-ad7e-6d90d3ff2e4f\"\n",
       "            frameborder=\"0\"\n",
       "            allowfullscreen\n",
       "        ></iframe>\n",
       "        "
      ],
      "text/plain": [
       "<IPython.lib.display.IFrame at 0x7f7a2b519580>"
      ]
     },
     "metadata": {},
     "output_type": "display_data"
    },
    {
     "data": {
      "text/plain": [
       "<toweb.server.Space at 0x7f7a2b519370>"
      ]
     },
     "execution_count": 57,
     "metadata": {},
     "output_type": "execute_result"
    }
   ],
   "source": [
    "from py3d import Vector3,Plane\n",
    "points=Vector3.Rand(100)\n",
    "space = points.render_as_points(color=\"\")\n",
    "plane=Plane(Vector3(0.1,0.2,1),Vector3(z=-1))\n",
    "points.projection_point_on_plane(plane).render_as_points(space)"
   ]
  },
  {
   "cell_type": "code",
   "execution_count": 58,
   "metadata": {},
   "outputs": [
    {
     "name": "stdout",
     "output_type": "stream",
     "text": [
      "click http://localhost:8000/view/753e4da8-24da-11ec-ad7e-6d90d3ff2e4f to view in browser\n"
     ]
    },
    {
     "data": {
      "text/html": [
       "\n",
       "        <iframe\n",
       "            width=\"100%\"\n",
       "            height=\"600px\"\n",
       "            src=\"http://localhost:8000/view/753e4da8-24da-11ec-ad7e-6d90d3ff2e4f\"\n",
       "            frameborder=\"0\"\n",
       "            allowfullscreen\n",
       "        ></iframe>\n",
       "        "
      ],
      "text/plain": [
       "<IPython.lib.display.IFrame at 0x7f7a4c9902b0>"
      ]
     },
     "metadata": {},
     "output_type": "display_data"
    },
    {
     "data": {
      "text/plain": [
       "<toweb.server.Space at 0x7f7a2b50adc0>"
      ]
     },
     "execution_count": 58,
     "metadata": {},
     "output_type": "execute_result"
    }
   ],
   "source": [
    "from py3d import Plane,Vector3\n",
    "p=Plane.from_points(Vector3(x=1).append(Vector3(y=1).append(Vector3(z=1))))\n",
    "points=Vector3.Rand(100)\n",
    "space=points.render_as_points()\n",
    "prjs=points.projection_point_on_plane(p)\n",
    "prjs.render_as_points(space)"
   ]
  },
  {
   "cell_type": "markdown",
   "metadata": {},
   "source": [
    "## Area\n",
    "```python\n",
    ".area(Vector3):float\n",
    "```\n",
    "It will return area of triangle constucted by two vectors.\n",
    "```python\n",
    ".area(Vector3,Vector3):float\n",
    "```\n",
    "It will return area of triangle constructed by three points."
   ]
  },
  {
   "cell_type": "code",
   "execution_count": 59,
   "metadata": {},
   "outputs": [
    {
     "data": {
      "text/plain": [
       "array([2.34520788])"
      ]
     },
     "execution_count": 59,
     "metadata": {},
     "output_type": "execute_result"
    }
   ],
   "source": [
    "from py3d import Vector3\n",
    "triangle=Vector3([[1,2,3],\n",
    "                [1,0,0],\n",
    "                [0,1,0]])\n",
    "triangle.area()"
   ]
  },
  {
   "cell_type": "markdown",
   "metadata": {},
   "source": [
    "## Distance, Length, Norm\n",
    "```python\n",
    ".norm():float\n",
    "```"
   ]
  },
  {
   "cell_type": "code",
   "execution_count": 60,
   "metadata": {},
   "outputs": [
    {
     "data": {
      "text/plain": [
       "array([[3.74165739]])"
      ]
     },
     "execution_count": 60,
     "metadata": {},
     "output_type": "execute_result"
    }
   ],
   "source": [
    "from py3d import Vector3\n",
    "Vector3(1,2,3).norm()"
   ]
  },
  {
   "cell_type": "markdown",
   "metadata": {},
   "source": [
    "You can use this function to calculate distance between two points."
   ]
  },
  {
   "cell_type": "code",
   "execution_count": 61,
   "metadata": {},
   "outputs": [
    {
     "data": {
      "text/plain": [
       "array([[86.08135687]])"
      ]
     },
     "execution_count": 61,
     "metadata": {},
     "output_type": "execute_result"
    }
   ],
   "source": [
    "from py3d import Vector3\n",
    "point1=Vector3(1,2,3)\n",
    "point2=Vector3(-10,87,11)\n",
    "(point1-point2).norm()"
   ]
  },
  {
   "cell_type": "code",
   "execution_count": 62,
   "metadata": {},
   "outputs": [
    {
     "data": {
      "text/plain": [
       "array([[0.77316945],\n",
       "       [1.1078152 ],\n",
       "       [1.04312657],\n",
       "       [0.45960453],\n",
       "       [0.8774547 ]])"
      ]
     },
     "execution_count": 62,
     "metadata": {},
     "output_type": "execute_result"
    }
   ],
   "source": [
    "from py3d import Vector3\n",
    "points=Vector3.Rand(5)\n",
    "points.norm()"
   ]
  },
  {
   "cell_type": "markdown",
   "metadata": {},
   "source": [
    "Calculate distances between a point and a collection of points"
   ]
  },
  {
   "cell_type": "code",
   "execution_count": 63,
   "metadata": {},
   "outputs": [
    {
     "data": {
      "text/plain": [
       "(Vector3([[0.69368803, 0.69773775, 0.53869465],\n",
       "          [0.10719188, 0.80132743, 0.51795123],\n",
       "          [0.07068159, 0.78805718, 0.59704603],\n",
       "          [0.68352924, 0.86033934, 0.86104898],\n",
       "          [0.91097528, 0.03415967, 0.61288512],\n",
       "          [0.65886658, 0.59903759, 0.89085546],\n",
       "          [0.54688546, 0.91164938, 0.03353714]]),\n",
       " array([[1.80729976],\n",
       "        [2.07609257],\n",
       "        [2.10172433],\n",
       "        [2.07422794],\n",
       "        [1.205421  ],\n",
       "        [1.86196581],\n",
       "        [1.96490225]]))"
      ]
     },
     "execution_count": 63,
     "metadata": {},
     "output_type": "execute_result"
    }
   ],
   "source": [
    "from py3d import Vector3\n",
    "p=Vector3(1,-1,0)\n",
    "points=Vector3.Rand(7)\n",
    "points,(p-points).norm()"
   ]
  },
  {
   "cell_type": "markdown",
   "metadata": {},
   "source": [
    "## Normalize\n",
    "\n",
    "<font color=\"red\">*! Zero vector will return zero vector*</font>"
   ]
  },
  {
   "cell_type": "markdown",
   "metadata": {},
   "source": [
    "**unit()**, get a new vector, which is the unit vector of the origin"
   ]
  },
  {
   "cell_type": "code",
   "execution_count": 64,
   "metadata": {},
   "outputs": [
    {
     "data": {
      "text/plain": [
       "Vector3([[0.26726124, 0.53452248, 0.80178373],\n",
       "         [0.        , 0.        , 0.        ]])"
      ]
     },
     "execution_count": 64,
     "metadata": {},
     "output_type": "execute_result"
    }
   ],
   "source": [
    "from py3d import Vector3\n",
    "v=Vector3([[1,2,3],[0,0,0]])\n",
    "v.unit()"
   ]
  },
  {
   "cell_type": "markdown",
   "metadata": {},
   "source": [
    "# Rotation3 - orientation, rotation and angular velocity"
   ]
  },
  {
   "cell_type": "markdown",
   "metadata": {},
   "source": [
    "Rotation3 is a $n\\times3\\times3$ matrix, called rotation matrix. Rotation3 can represent multiple rotations in 3d space."
   ]
  },
  {
   "cell_type": "code",
   "execution_count": 65,
   "metadata": {
    "scrolled": true
   },
   "outputs": [
    {
     "data": {
      "text/plain": [
       "Rotation3([[[1., 0., 0.],\n",
       "            [0., 1., 0.],\n",
       "            [0., 0., 1.]],\n",
       "\n",
       "           [[1., 0., 0.],\n",
       "            [0., 1., 0.],\n",
       "            [0., 0., 1.]],\n",
       "\n",
       "           [[1., 0., 0.],\n",
       "            [0., 1., 0.],\n",
       "            [0., 0., 1.]]])"
      ]
     },
     "execution_count": 65,
     "metadata": {},
     "output_type": "execute_result"
    }
   ],
   "source": [
    "from py3d import Rotation3\n",
    "Rotation3(n=3)"
   ]
  },
  {
   "cell_type": "markdown",
   "metadata": {},
   "source": [
    "```python\n",
    "Rotation3.Rx(a:list|tuple|numpy.ndarray)\n",
    "```\n",
    "`a` is an angle list.\n",
    "The function will return a 3d rotation matrix with length same as `a` describing rotations around axis x `Vector3(x=1)`.\n",
    "By sympy, let us have a look at what the matrix will looks like "
   ]
  },
  {
   "cell_type": "code",
   "execution_count": 66,
   "metadata": {},
   "outputs": [
    {
     "data": {
      "text/latex": [
       "$\\displaystyle \\left[\\begin{matrix}1 & 0 & 0\\\\0 & \\cos{\\left(x \\right)} & \\sin{\\left(x \\right)}\\\\0 & - \\sin{\\left(x \\right)} & \\cos{\\left(x \\right)}\\end{matrix}\\right]$"
      ],
      "text/plain": [
       "Matrix([\n",
       "[1,       0,      0],\n",
       "[0,  cos(x), sin(x)],\n",
       "[0, -sin(x), cos(x)]])"
      ]
     },
     "execution_count": 66,
     "metadata": {},
     "output_type": "execute_result"
    }
   ],
   "source": [
    "from sympy import symbols,sin,cos\n",
    "x,y,z=symbols(\"x,y,z\")\n",
    "from sympy import Matrix\n",
    "Rx=Matrix([\n",
    "    [1, 0, 0],\n",
    "    [0, cos(x),sin(x)],\n",
    "    [0,-sin(x),cos(x)]\n",
    "])\n",
    "Rx"
   ]
  },
  {
   "cell_type": "code",
   "execution_count": 67,
   "metadata": {},
   "outputs": [
    {
     "data": {
      "text/plain": [
       "Rotation3([[[ 1.        ,  0.        ,  0.        ],\n",
       "            [ 0.        ,  1.        ,  0.        ],\n",
       "            [ 0.        , -0.        ,  1.        ]],\n",
       "\n",
       "           [[ 1.        ,  0.        ,  0.        ],\n",
       "            [ 0.        ,  0.54030231,  0.84147098],\n",
       "            [ 0.        , -0.84147098,  0.54030231]],\n",
       "\n",
       "           [[ 1.        ,  0.        ,  0.        ],\n",
       "            [ 0.        , -0.41614684,  0.90929743],\n",
       "            [ 0.        , -0.90929743, -0.41614684]],\n",
       "\n",
       "           [[ 1.        ,  0.        ,  0.        ],\n",
       "            [ 0.        , -0.9899925 ,  0.14112001],\n",
       "            [ 0.        , -0.14112001, -0.9899925 ]]])"
      ]
     },
     "execution_count": 67,
     "metadata": {},
     "output_type": "execute_result"
    }
   ],
   "source": [
    "from py3d import Rotation3\n",
    "import numpy\n",
    "Rotation3.Rx([0,1,2,3])"
   ]
  },
  {
   "cell_type": "markdown",
   "metadata": {},
   "source": [
    "The same is `Rotation3.Ry(a:list|tuple|numpy.ndarray)` and `Rotation3.Rz(a:list|tuple|numpy.ndarray)`"
   ]
  },
  {
   "cell_type": "code",
   "execution_count": 68,
   "metadata": {},
   "outputs": [
    {
     "data": {
      "text/latex": [
       "$\\displaystyle \\left[\\begin{matrix}\\cos{\\left(y \\right)} & 0 & - \\sin{\\left(y \\right)}\\\\0 & 1 & 0\\\\\\sin{\\left(y \\right)} & 0 & \\cos{\\left(y \\right)}\\end{matrix}\\right]$"
      ],
      "text/plain": [
       "Matrix([\n",
       "[cos(y), 0, -sin(y)],\n",
       "[     0, 1,       0],\n",
       "[sin(y), 0,  cos(y)]])"
      ]
     },
     "execution_count": 68,
     "metadata": {},
     "output_type": "execute_result"
    }
   ],
   "source": [
    "from sympy import symbols,sin,cos\n",
    "x,y,z=symbols(\"x,y,z\")\n",
    "from sympy import Matrix\n",
    "Ry=Matrix([\n",
    "    [cos(y),0,-sin(y)],\n",
    "    [0, 1, 0],\n",
    "    [sin(y),0,cos(y)]\n",
    "])\n",
    "Ry"
   ]
  },
  {
   "cell_type": "code",
   "execution_count": 69,
   "metadata": {},
   "outputs": [
    {
     "data": {
      "text/latex": [
       "$\\displaystyle \\left[\\begin{matrix}\\cos{\\left(z \\right)} & \\sin{\\left(z \\right)} & 0\\\\- \\sin{\\left(z \\right)} & \\cos{\\left(z \\right)} & 0\\\\0 & 0 & 1\\end{matrix}\\right]$"
      ],
      "text/plain": [
       "Matrix([\n",
       "[ cos(z), sin(z), 0],\n",
       "[-sin(z), cos(z), 0],\n",
       "[      0,      0, 1]])"
      ]
     },
     "execution_count": 69,
     "metadata": {},
     "output_type": "execute_result"
    }
   ],
   "source": [
    "from sympy import symbols,sin,cos\n",
    "x,y,z=symbols(\"x,y,z\")\n",
    "from sympy import Matrix\n",
    "Rz=Matrix([\n",
    "    [cos(z),sin(z),0],\n",
    "    [-sin(z),cos(z),0],\n",
    "    [0,0,1]\n",
    "])\n",
    "Rz"
   ]
  },
  {
   "cell_type": "code",
   "execution_count": 70,
   "metadata": {
    "scrolled": true
   },
   "outputs": [
    {
     "name": "stdout",
     "output_type": "stream",
     "text": [
      "click http://localhost:8000/view/75bea44e-24da-11ec-ad7e-6d90d3ff2e4f to view in browser\n"
     ]
    },
    {
     "data": {
      "text/html": [
       "\n",
       "        <iframe\n",
       "            width=\"100%\"\n",
       "            height=\"600px\"\n",
       "            src=\"http://localhost:8000/view/75bea44e-24da-11ec-ad7e-6d90d3ff2e4f\"\n",
       "            frameborder=\"0\"\n",
       "            allowfullscreen\n",
       "        ></iframe>\n",
       "        "
      ],
      "text/plain": [
       "<IPython.lib.display.IFrame at 0x7f7a6440c0a0>"
      ]
     },
     "metadata": {},
     "output_type": "display_data"
    },
    {
     "data": {
      "text/plain": [
       "<toweb.server.Space at 0x7f7a6440c550>"
      ]
     },
     "execution_count": 70,
     "metadata": {},
     "output_type": "execute_result"
    }
   ],
   "source": [
    "from py3d import Vector3,Rotation3\n",
    "from numpy import sin,pi\n",
    "points=Vector3.Rand(1000)\n",
    "rotation=Rotation3.Ry([0,pi/4,pi*2/4,pi*3/4])\n",
    "points_=points@rotation\n",
    "points_[1]+=Vector3(y=1)\n",
    "points_[2]+=Vector3(y=2)\n",
    "points_[3]+=Vector3(y=3)\n",
    "s=points_[0].render_as_points(color=\"white\")\n",
    "points_[1].render_as_points(s,color=\"yellow\")\n",
    "points_[2].render_as_points(s,color=\"orange\")\n",
    "points_[3].render_as_points(s,color=\"red\")"
   ]
  },
  {
   "cell_type": "code",
   "execution_count": 71,
   "metadata": {},
   "outputs": [
    {
     "data": {
      "text/plain": [
       "array([[ 0.        , -0.        ,  0.        ],\n",
       "       [ 0.78539816,  1.        ,  0.        ],\n",
       "       [ 1.57079633,  1.        ,  0.        ],\n",
       "       [ 2.35619449,  1.        ,  0.        ]])"
      ]
     },
     "execution_count": 71,
     "metadata": {},
     "output_type": "execute_result"
    }
   ],
   "source": [
    "from py3d import Rotation3,pi\n",
    "r=Rotation3.from_eular_extrinsic([0,pi/4,pi*2/4,pi*3/4],[0,1,1,1],[0,0,0,0])\n",
    "r.to_eular_extrinsic()"
   ]
  },
  {
   "cell_type": "code",
   "execution_count": 72,
   "metadata": {},
   "outputs": [
    {
     "data": {
      "text/latex": [
       "$\\displaystyle \\left[\\begin{matrix}\\cos{\\left(y \\right)} \\cos{\\left(z \\right)} & \\sin{\\left(z \\right)} \\cos{\\left(y \\right)} & - \\sin{\\left(y \\right)}\\\\\\sin{\\left(x \\right)} \\sin{\\left(y \\right)} \\cos{\\left(z \\right)} - \\sin{\\left(z \\right)} \\cos{\\left(x \\right)} & \\sin{\\left(x \\right)} \\sin{\\left(y \\right)} \\sin{\\left(z \\right)} + \\cos{\\left(x \\right)} \\cos{\\left(z \\right)} & \\sin{\\left(x \\right)} \\cos{\\left(y \\right)}\\\\\\sin{\\left(x \\right)} \\sin{\\left(z \\right)} + \\sin{\\left(y \\right)} \\cos{\\left(x \\right)} \\cos{\\left(z \\right)} & - \\sin{\\left(x \\right)} \\cos{\\left(z \\right)} + \\sin{\\left(y \\right)} \\sin{\\left(z \\right)} \\cos{\\left(x \\right)} & \\cos{\\left(x \\right)} \\cos{\\left(y \\right)}\\end{matrix}\\right]$"
      ],
      "text/plain": [
       "Matrix([\n",
       "[                       cos(y)*cos(z),                         sin(z)*cos(y),       -sin(y)],\n",
       "[sin(x)*sin(y)*cos(z) - sin(z)*cos(x),  sin(x)*sin(y)*sin(z) + cos(x)*cos(z), sin(x)*cos(y)],\n",
       "[sin(x)*sin(z) + sin(y)*cos(x)*cos(z), -sin(x)*cos(z) + sin(y)*sin(z)*cos(x), cos(x)*cos(y)]])"
      ]
     },
     "execution_count": 72,
     "metadata": {},
     "output_type": "execute_result"
    }
   ],
   "source": [
    "from sympy import symbols,sin,cos\n",
    "x,y,z=symbols(\"x,y,z\")\n",
    "from sympy import Matrix\n",
    "Rx=Matrix([\n",
    "    [1, 0, 0],\n",
    "    [0, cos(x),sin(x)],\n",
    "    [0,-sin(x),cos(x)]\n",
    "])\n",
    "Ry=Matrix([\n",
    "    [cos(y),0,-sin(y)],\n",
    "    [0, 1, 0],\n",
    "    [sin(y),0,cos(y)]\n",
    "])\n",
    "Rz=Matrix([\n",
    "    [cos(z),sin(z),0],\n",
    "    [-sin(z),cos(z),0],\n",
    "    [0,0,1]\n",
    "])\n",
    "Rx*Ry*Rz"
   ]
  },
  {
   "cell_type": "code",
   "execution_count": 73,
   "metadata": {},
   "outputs": [
    {
     "data": {
      "text/plain": [
       "array([[ 0.        , -1.        , -0.        ],\n",
       "       [-0.78539816, -1.        , -0.        ],\n",
       "       [-1.57079633, -1.        , -0.        ],\n",
       "       [-2.35619449, -1.        , -0.        ]])"
      ]
     },
     "execution_count": 73,
     "metadata": {},
     "output_type": "execute_result"
    }
   ],
   "source": [
    "from py3d import Rotation3,pi\n",
    "r=Rotation3.from_eular_intrinsic([0,pi/4,pi*2/4,pi*3/4],[1]*4,[0]*4)\n",
    "r.to_eular_intrinsic()"
   ]
  },
  {
   "cell_type": "code",
   "execution_count": 74,
   "metadata": {},
   "outputs": [
    {
     "data": {
      "text/plain": [
       "Vector3([[ 6.123234e-17,  0.000000e+00, -1.000000e+00]])"
      ]
     },
     "execution_count": 74,
     "metadata": {},
     "output_type": "execute_result"
    }
   ],
   "source": [
    "from py3d import Rotation3,pi,Vector3\n",
    "r=Rotation3.from_eular_extrinsic(pi/2,pi/2,0)\n",
    "Vector3(x=1)@r"
   ]
  },
  {
   "cell_type": "code",
   "execution_count": 75,
   "metadata": {},
   "outputs": [
    {
     "data": {
      "text/plain": [
       "Vector3([[ 6.123234e-17,  1.000000e+00, -6.123234e-17]])"
      ]
     },
     "execution_count": 75,
     "metadata": {},
     "output_type": "execute_result"
    }
   ],
   "source": [
    "from py3d import Rotation3,pi,Vector3\n",
    "r=Rotation3.from_eular_intrinsic(pi/2,pi/2,0)\n",
    "Vector3(x=1)@r"
   ]
  },
  {
   "cell_type": "code",
   "execution_count": 76,
   "metadata": {},
   "outputs": [
    {
     "data": {
      "text/plain": [
       "Vector3([[ 3.74939946e-33,  1.00000000e+00, -6.12323400e-17]])"
      ]
     },
     "execution_count": 76,
     "metadata": {},
     "output_type": "execute_result"
    }
   ],
   "source": [
    "from py3d import Rotation3,pi,Vector3\n",
    "r=Rotation3.from_eular_intrinsic(0,pi/2,pi/2)\n",
    "Vector3(x=1)@r"
   ]
  },
  {
   "cell_type": "markdown",
   "metadata": {},
   "source": [
    "## Quaternion\n",
    "Quaternion is a 4-tuple, which is a more concise representation than a rotation matrix. And quaternion is a complex number."
   ]
  },
  {
   "cell_type": "code",
   "execution_count": 77,
   "metadata": {
    "scrolled": true
   },
   "outputs": [
    {
     "data": {
      "text/latex": [
       "$\\displaystyle \\left(\\omega \\omega' - x x' - y y' - z z'\\right) + \\left(\\omega x' + \\omega' x + y z' - y' z\\right) i + \\left(\\omega y' + \\omega' y - x z' + x' z\\right) j + \\left(\\omega z' + \\omega' z + x y' - x' y\\right) k$"
      ],
      "text/plain": [
       "(\\omega*\\omega' - x*x' - y*y' - z*z') + (\\omega*x' + \\omega'*x + y*z' - y'*z)*i + (\\omega*y' + \\omega'*y - x*z' + x'*z)*j + (\\omega*z' + \\omega'*z + x*y' - x'*y)*k"
      ]
     },
     "execution_count": 77,
     "metadata": {},
     "output_type": "execute_result"
    }
   ],
   "source": [
    "from sympy import symbols,Quaternion\n",
    "w,x,y,z,w_,x_,y_,z_=symbols(\"\\omega,x,y,z,\\omega',x',y',z'\")\n",
    "q=Quaternion(w,x,y,z)\n",
    "q_=Quaternion(w_,x_,y_,z_)\n",
    "q*q_"
   ]
  },
  {
   "cell_type": "markdown",
   "metadata": {},
   "source": [
    "Express a point $[x,y,z]$ in quaternion way $(0,x,y,z)$"
   ]
  },
  {
   "cell_type": "code",
   "execution_count": 78,
   "metadata": {},
   "outputs": [
    {
     "data": {
      "text/latex": [
       "$\\displaystyle 0 + p_{x} i + p_{y} j + p_{z} k$"
      ],
      "text/plain": [
       "0 + p_x*i + p_y*j + p_z*k"
      ]
     },
     "execution_count": 78,
     "metadata": {},
     "output_type": "execute_result"
    }
   ],
   "source": [
    "from sympy import symbols,Quaternion\n",
    "px,py,pz=symbols(\"p_x,p_y,p_z\")\n",
    "p=Quaternion(0,px,py,pz)\n",
    "p"
   ]
  },
  {
   "cell_type": "code",
   "execution_count": 79,
   "metadata": {},
   "outputs": [
    {
     "data": {
      "text/latex": [
       "$\\displaystyle \\left(\\omega \\left(- p_{x} x - p_{y} y - p_{z} z\\right) - x \\left(- \\omega p_{x} + p_{y} z - p_{z} y\\right) + y \\left(\\omega p_{y} + p_{x} z - p_{z} x\\right) + z \\left(\\omega p_{z} - p_{x} y + p_{y} x\\right)\\right) + \\left(\\omega \\left(\\omega p_{x} - p_{y} z + p_{z} y\\right) - x \\left(- p_{x} x - p_{y} y - p_{z} z\\right) + y \\left(\\omega p_{z} - p_{x} y + p_{y} x\\right) - z \\left(\\omega p_{y} + p_{x} z - p_{z} x\\right)\\right) i + \\left(\\omega \\left(\\omega p_{y} + p_{x} z - p_{z} x\\right) - x \\left(\\omega p_{z} - p_{x} y + p_{y} x\\right) - y \\left(- p_{x} x - p_{y} y - p_{z} z\\right) - z \\left(- \\omega p_{x} + p_{y} z - p_{z} y\\right)\\right) j + \\left(\\omega \\left(\\omega p_{z} - p_{x} y + p_{y} x\\right) + x \\left(\\omega p_{y} + p_{x} z - p_{z} x\\right) - y \\left(\\omega p_{x} - p_{y} z + p_{z} y\\right) - z \\left(- p_{x} x - p_{y} y - p_{z} z\\right)\\right) k$"
      ],
      "text/plain": [
       "(\\omega*(-p_x*x - p_y*y - p_z*z) - x*(-\\omega*p_x + p_y*z - p_z*y) + y*(\\omega*p_y + p_x*z - p_z*x) + z*(\\omega*p_z - p_x*y + p_y*x)) + (\\omega*(\\omega*p_x - p_y*z + p_z*y) - x*(-p_x*x - p_y*y - p_z*z) + y*(\\omega*p_z - p_x*y + p_y*x) - z*(\\omega*p_y + p_x*z - p_z*x))*i + (\\omega*(\\omega*p_y + p_x*z - p_z*x) - x*(\\omega*p_z - p_x*y + p_y*x) - y*(-p_x*x - p_y*y - p_z*z) - z*(-\\omega*p_x + p_y*z - p_z*y))*j + (\\omega*(\\omega*p_z - p_x*y + p_y*x) + x*(\\omega*p_y + p_x*z - p_z*x) - y*(\\omega*p_x - p_y*z + p_z*y) - z*(-p_x*x - p_y*y - p_z*z))*k"
      ]
     },
     "execution_count": 79,
     "metadata": {},
     "output_type": "execute_result"
    }
   ],
   "source": [
    "p_=q*p*q.inverse().subs(w**2+x**2+y**2+z**2,1)\n",
    "p_"
   ]
  },
  {
   "cell_type": "code",
   "execution_count": 80,
   "metadata": {
    "scrolled": true
   },
   "outputs": [
    {
     "data": {
      "text/latex": [
       "$\\displaystyle p_{x} \\left(\\omega^{2} + x^{2} - y^{2} - z^{2}\\right) + p_{y} \\left(- 2 \\omega z + 2 x y\\right) + p_{z} \\left(2 \\omega y + 2 x z\\right)$"
      ],
      "text/plain": [
       "p_x*(\\omega**2 + x**2 - y**2 - z**2) + p_y*(-2*\\omega*z + 2*x*y) + p_z*(2*\\omega*y + 2*x*z)"
      ]
     },
     "execution_count": 80,
     "metadata": {},
     "output_type": "execute_result"
    }
   ],
   "source": [
    "p_.b.subs(w**2+x**2+y**2+z**2,1).expand().collect(px).collect(py).collect(pz)"
   ]
  },
  {
   "cell_type": "code",
   "execution_count": 81,
   "metadata": {},
   "outputs": [
    {
     "data": {
      "text/latex": [
       "$\\displaystyle p_{x} \\left(2 \\omega z + 2 x y\\right) + p_{y} \\left(\\omega^{2} - x^{2} + y^{2} - z^{2}\\right) + p_{z} \\left(- 2 \\omega x + 2 y z\\right)$"
      ],
      "text/plain": [
       "p_x*(2*\\omega*z + 2*x*y) + p_y*(\\omega**2 - x**2 + y**2 - z**2) + p_z*(-2*\\omega*x + 2*y*z)"
      ]
     },
     "execution_count": 81,
     "metadata": {},
     "output_type": "execute_result"
    }
   ],
   "source": [
    "p_.c.subs(w**2+x**2+y**2+z**2,1).expand().collect(px).collect(py).collect(pz)"
   ]
  },
  {
   "cell_type": "code",
   "execution_count": 82,
   "metadata": {},
   "outputs": [
    {
     "data": {
      "text/latex": [
       "$\\displaystyle p_{x} \\left(- 2 \\omega y + 2 x z\\right) + p_{y} \\left(2 \\omega x + 2 y z\\right) + p_{z} \\left(\\omega^{2} - x^{2} - y^{2} + z^{2}\\right)$"
      ],
      "text/plain": [
       "p_x*(-2*\\omega*y + 2*x*z) + p_y*(2*\\omega*x + 2*y*z) + p_z*(\\omega**2 - x**2 - y**2 + z**2)"
      ]
     },
     "execution_count": 82,
     "metadata": {},
     "output_type": "execute_result"
    }
   ],
   "source": [
    "p_.d.subs(w**2+x**2+y**2+z**2,1).expand().collect(px).collect(py).collect(pz)"
   ]
  },
  {
   "cell_type": "markdown",
   "metadata": {},
   "source": [
    "Convert a quaternion to rotation matrix"
   ]
  },
  {
   "cell_type": "code",
   "execution_count": 83,
   "metadata": {},
   "outputs": [
    {
     "data": {
      "text/latex": [
       "$\\displaystyle \\left[\\begin{matrix}\\omega^{2} + x^{2} - y^{2} - z^{2} & 2 \\omega z + 2 x y & - 2 \\omega y + 2 x z\\\\- 2 \\omega z + 2 x y & \\omega^{2} - x^{2} + y^{2} - z^{2} & 2 \\omega x + 2 y z\\\\2 \\omega y + 2 x z & - 2 \\omega x + 2 y z & \\omega^{2} - x^{2} - y^{2} + z^{2}\\end{matrix}\\right]$"
      ],
      "text/plain": [
       "Matrix([\n",
       "[\\omega**2 + x**2 - y**2 - z**2,             2*\\omega*z + 2*x*y,            -2*\\omega*y + 2*x*z],\n",
       "[           -2*\\omega*z + 2*x*y, \\omega**2 - x**2 + y**2 - z**2,             2*\\omega*x + 2*y*z],\n",
       "[            2*\\omega*y + 2*x*z,            -2*\\omega*x + 2*y*z, \\omega**2 - x**2 - y**2 + z**2]])"
      ]
     },
     "execution_count": 83,
     "metadata": {},
     "output_type": "execute_result"
    }
   ],
   "source": [
    "from sympy import Matrix\n",
    "rotation_matrix=Matrix([\n",
    "    [w**2+x**2-y**2-z**2,w*z+x*y+x*y+w*z,-2*w*y+2*x*z],\n",
    "    [-w*z+x*y+x*y-w*z,w**2-x**2+y**2-z**2,2*w*x+2*y*z],\n",
    "    [w*y+x*z+w*y+x*z,-w*x-w*x+y*z+y*z,w**2-x**2-y**2+z**2]\n",
    "])\n",
    "rotation_matrix"
   ]
  },
  {
   "cell_type": "code",
   "execution_count": 84,
   "metadata": {
    "scrolled": true
   },
   "outputs": [
    {
     "data": {
      "text/latex": [
       "$\\displaystyle \\left[\\begin{matrix}p_{x} \\left(\\omega^{2} + x^{2} - y^{2} - z^{2}\\right) + p_{y} \\left(- 2 \\omega z + 2 x y\\right) + p_{z} \\left(2 \\omega y + 2 x z\\right) & p_{x} \\left(2 \\omega z + 2 x y\\right) + p_{y} \\left(\\omega^{2} - x^{2} + y^{2} - z^{2}\\right) + p_{z} \\left(- 2 \\omega x + 2 y z\\right) & p_{x} \\left(- 2 \\omega y + 2 x z\\right) + p_{y} \\left(2 \\omega x + 2 y z\\right) + p_{z} \\left(\\omega^{2} - x^{2} - y^{2} + z^{2}\\right)\\end{matrix}\\right]$"
      ],
      "text/plain": [
       "Matrix([[p_x*(\\omega**2 + x**2 - y**2 - z**2) + p_y*(-2*\\omega*z + 2*x*y) + p_z*(2*\\omega*y + 2*x*z), p_x*(2*\\omega*z + 2*x*y) + p_y*(\\omega**2 - x**2 + y**2 - z**2) + p_z*(-2*\\omega*x + 2*y*z), p_x*(-2*\\omega*y + 2*x*z) + p_y*(2*\\omega*x + 2*y*z) + p_z*(\\omega**2 - x**2 - y**2 + z**2)]])"
      ]
     },
     "execution_count": 84,
     "metadata": {},
     "output_type": "execute_result"
    }
   ],
   "source": [
    "from sympy import Matrix\n",
    "Matrix([[px,py,pz]])*rotation_matrix"
   ]
  },
  {
   "cell_type": "code",
   "execution_count": 85,
   "metadata": {},
   "outputs": [
    {
     "data": {
      "text/plain": [
       "Quaternion([[0.5, 0.5, 0.5, 0.5]])"
      ]
     },
     "execution_count": 85,
     "metadata": {},
     "output_type": "execute_result"
    }
   ],
   "source": [
    "from py3d import Quaternion\n",
    "q=Quaternion(0.5,0.5,0.5,0.5)\n",
    "q"
   ]
  },
  {
   "cell_type": "code",
   "execution_count": 86,
   "metadata": {},
   "outputs": [
    {
     "data": {
      "text/plain": [
       "Quaternion([[1., 0., 0., 0.],\n",
       "            [1., 0., 0., 0.],\n",
       "            [1., 0., 0., 0.],\n",
       "            [1., 0., 0., 0.],\n",
       "            [1., 0., 0., 0.]])"
      ]
     },
     "execution_count": 86,
     "metadata": {},
     "output_type": "execute_result"
    }
   ],
   "source": [
    "from py3d import Quaternion\n",
    "q=Quaternion(1,0,0,0,n=5)\n",
    "q"
   ]
  },
  {
   "cell_type": "code",
   "execution_count": 87,
   "metadata": {},
   "outputs": [
    {
     "data": {
      "text/plain": [
       "Quaternion([[1. , 0. , 0. , 0. ],\n",
       "            [0.5, 0.5, 0.5, 0.5]])"
      ]
     },
     "execution_count": 87,
     "metadata": {},
     "output_type": "execute_result"
    }
   ],
   "source": [
    "from py3d import Quaternion\n",
    "Quaternion([1,0.5],[0,0.5],[0,0.5],[0,0.5])"
   ]
  },
  {
   "cell_type": "code",
   "execution_count": 88,
   "metadata": {},
   "outputs": [
    {
     "data": {
      "text/plain": [
       "Quaternion([[0.70710678, 0.        , 0.        , 0.70710678],\n",
       "            [0.70710678, 0.        , 0.        , 0.70710678]])"
      ]
     },
     "execution_count": 88,
     "metadata": {},
     "output_type": "execute_result"
    }
   ],
   "source": [
    "from py3d import Quaternion,pi,Vector3\n",
    "Quaternion.from_angle_axis(pi/2,Vector3(z=1,n=2))"
   ]
  },
  {
   "cell_type": "code",
   "execution_count": 89,
   "metadata": {},
   "outputs": [
    {
     "data": {
      "text/plain": [
       "(Quaternion([1.57079633, 1.57079633]),\n",
       " Vector3([[0., 0., 1.],\n",
       "          [0., 0., 1.]]))"
      ]
     },
     "execution_count": 89,
     "metadata": {},
     "output_type": "execute_result"
    }
   ],
   "source": [
    "from py3d import Quaternion,pi,Vector3\n",
    "q=Quaternion.from_angle_axis(pi/2,Vector3(z=1,n=2))\n",
    "q.to_angle_axis()"
   ]
  },
  {
   "cell_type": "code",
   "execution_count": 90,
   "metadata": {},
   "outputs": [
    {
     "data": {
      "text/plain": [
       "Rotation3([[[1.  , 0.  , 0.  ],\n",
       "            [0.  , 1.  , 0.  ],\n",
       "            [0.  , 0.  , 1.  ]],\n",
       "\n",
       "           [[0.  , 1.  , 0.  ],\n",
       "            [0.25, 0.  , 1.  ],\n",
       "            [1.  , 0.  , 0.  ]]])"
      ]
     },
     "execution_count": 90,
     "metadata": {},
     "output_type": "execute_result"
    }
   ],
   "source": [
    "from py3d import Quaternion\n",
    "q=Quaternion([1,0.5],[0,0.5],[0,0.5],[0,0.5])\n",
    "q.to_matrix()"
   ]
  },
  {
   "cell_type": "code",
   "execution_count": 91,
   "metadata": {},
   "outputs": [
    {
     "data": {
      "text/plain": [
       "Quaternion([[ 1. , -0. , -0. , -0. ],\n",
       "            [ 0.5, -0.5, -0.5, -0.5]])"
      ]
     },
     "execution_count": 91,
     "metadata": {},
     "output_type": "execute_result"
    }
   ],
   "source": [
    "from py3d import Quaternion\n",
    "q=Quaternion([1,0.5],[0,0.5],[0,0.5],[0,0.5])\n",
    "q.I"
   ]
  },
  {
   "cell_type": "code",
   "execution_count": 92,
   "metadata": {},
   "outputs": [
    {
     "data": {
      "text/plain": [
       "Vector3([[[ 2.22044605e-16,  0.00000000e+00, -1.00000000e+00],\n",
       "          [ 2.22044605e-16,  0.00000000e+00, -1.00000000e+00],\n",
       "          [ 2.22044605e-16,  0.00000000e+00, -1.00000000e+00],\n",
       "          [ 2.22044605e-16,  0.00000000e+00, -1.00000000e+00],\n",
       "          [ 2.22044605e-16,  0.00000000e+00, -1.00000000e+00]],\n",
       "\n",
       "         [[ 2.22044605e-16,  1.00000000e+00,  0.00000000e+00],\n",
       "          [ 2.22044605e-16,  1.00000000e+00,  0.00000000e+00],\n",
       "          [ 2.22044605e-16,  1.00000000e+00,  0.00000000e+00],\n",
       "          [ 2.22044605e-16,  1.00000000e+00,  0.00000000e+00],\n",
       "          [ 2.22044605e-16,  1.00000000e+00,  0.00000000e+00]]])"
      ]
     },
     "execution_count": 92,
     "metadata": {},
     "output_type": "execute_result"
    }
   ],
   "source": [
    "from py3d import Vector3,Quaternion,pi\n",
    "import numpy\n",
    "p=Quaternion(0,Vector3(x=1,n=5))\n",
    "q=Quaternion.from_angle_axis(pi/2,Vector3([[0,1,0],[0,0,1]]))\n",
    "q.mq(p).mq(q.I).xyz"
   ]
  },
  {
   "cell_type": "code",
   "execution_count": 93,
   "metadata": {},
   "outputs": [
    {
     "data": {
      "text/plain": [
       "Vector3([[[ 2.22044605e-16,  0.00000000e+00, -1.00000000e+00],\n",
       "          [ 2.22044605e-16,  0.00000000e+00, -1.00000000e+00],\n",
       "          [ 2.22044605e-16,  0.00000000e+00, -1.00000000e+00],\n",
       "          [ 2.22044605e-16,  0.00000000e+00, -1.00000000e+00],\n",
       "          [ 2.22044605e-16,  0.00000000e+00, -1.00000000e+00]],\n",
       "\n",
       "         [[ 2.22044605e-16,  1.00000000e+00,  0.00000000e+00],\n",
       "          [ 2.22044605e-16,  1.00000000e+00,  0.00000000e+00],\n",
       "          [ 2.22044605e-16,  1.00000000e+00,  0.00000000e+00],\n",
       "          [ 2.22044605e-16,  1.00000000e+00,  0.00000000e+00],\n",
       "          [ 2.22044605e-16,  1.00000000e+00,  0.00000000e+00]]])"
      ]
     },
     "execution_count": 93,
     "metadata": {},
     "output_type": "execute_result"
    }
   ],
   "source": [
    "from py3d import Vector3,Quaternion,pi\n",
    "q=Quaternion.from_angle_axis(pi/2,Vector3([[0,1,0],[0,0,1]]))\n",
    "Vector3(x=1,n=5).mq(q)"
   ]
  },
  {
   "cell_type": "code",
   "execution_count": 94,
   "metadata": {
    "scrolled": true
   },
   "outputs": [
    {
     "data": {
      "text/plain": [
       "Vector3([[[ 2.22044605e-16,  0.00000000e+00, -1.00000000e+00],\n",
       "          [ 2.22044605e-16,  0.00000000e+00, -1.00000000e+00],\n",
       "          [ 2.22044605e-16,  0.00000000e+00, -1.00000000e+00],\n",
       "          [ 2.22044605e-16,  0.00000000e+00, -1.00000000e+00],\n",
       "          [ 2.22044605e-16,  0.00000000e+00, -1.00000000e+00]],\n",
       "\n",
       "         [[ 2.22044605e-16,  1.00000000e+00,  0.00000000e+00],\n",
       "          [ 2.22044605e-16,  1.00000000e+00,  0.00000000e+00],\n",
       "          [ 2.22044605e-16,  1.00000000e+00,  0.00000000e+00],\n",
       "          [ 2.22044605e-16,  1.00000000e+00,  0.00000000e+00],\n",
       "          [ 2.22044605e-16,  1.00000000e+00,  0.00000000e+00]]])"
      ]
     },
     "execution_count": 94,
     "metadata": {},
     "output_type": "execute_result"
    }
   ],
   "source": [
    "from py3d import Vector3,Quaternion,pi\n",
    "q=Quaternion.from_angle_axis(pi/2,Vector3([[0,1,0],[0,0,1]]))\n",
    "Vector3(x=1,n=5)@q.to_matrix()"
   ]
  },
  {
   "cell_type": "markdown",
   "metadata": {},
   "source": [
    "# Shapes"
   ]
  },
  {
   "cell_type": "markdown",
   "metadata": {},
   "source": [
    "## Triangle"
   ]
  },
  {
   "cell_type": "code",
   "execution_count": 95,
   "metadata": {
    "scrolled": true
   },
   "outputs": [
    {
     "name": "stdout",
     "output_type": "stream",
     "text": [
      "click http://localhost:8000/view/76015ffa-24da-11ec-ad7e-6d90d3ff2e4f to view in browser\n"
     ]
    },
    {
     "data": {
      "text/html": [
       "\n",
       "        <iframe\n",
       "            width=\"100%\"\n",
       "            height=\"600px\"\n",
       "            src=\"http://localhost:8000/view/76015ffa-24da-11ec-ad7e-6d90d3ff2e4f\"\n",
       "            frameborder=\"0\"\n",
       "            allowfullscreen\n",
       "        ></iframe>\n",
       "        "
      ],
      "text/plain": [
       "<IPython.lib.display.IFrame at 0x7f7a42951490>"
      ]
     },
     "metadata": {},
     "output_type": "display_data"
    }
   ],
   "source": [
    "from py3d import Vector3,Triangle\n",
    "tri=Triangle(Vector3([[1,0,0],[0,0,1],[0,1,0]]))\n",
    "tri.render()"
   ]
  },
  {
   "cell_type": "markdown",
   "metadata": {},
   "source": [
    "## Tetrahedron"
   ]
  },
  {
   "cell_type": "code",
   "execution_count": 96,
   "metadata": {},
   "outputs": [
    {
     "name": "stdout",
     "output_type": "stream",
     "text": [
      "click http://localhost:8000/view/7611cf8e-24da-11ec-ad7e-6d90d3ff2e4f to view in browser\n"
     ]
    },
    {
     "data": {
      "text/html": [
       "\n",
       "        <iframe\n",
       "            width=\"100%\"\n",
       "            height=\"600px\"\n",
       "            src=\"http://localhost:8000/view/7611cf8e-24da-11ec-ad7e-6d90d3ff2e4f\"\n",
       "            frameborder=\"0\"\n",
       "            allowfullscreen\n",
       "        ></iframe>\n",
       "        "
      ],
      "text/plain": [
       "<IPython.lib.display.IFrame at 0x7f7a4296fe50>"
      ]
     },
     "metadata": {},
     "output_type": "display_data"
    }
   ],
   "source": [
    "from py3d import Vector3,Tetrahedron,pi\n",
    "import numpy\n",
    "s=Tetrahedron(Vector3([\n",
    "    [1,0,0],\n",
    "    [0.9,0,0.05],\n",
    "    [0.9,-0.05*numpy.cos(pi/6),-0.05*numpy.sin(pi/6)],\n",
    "    [0.9,0.05*numpy.cos(pi/6),-0.05*numpy.sin(pi/6)]\n",
    "]))\n",
    "s.render()"
   ]
  },
  {
   "cell_type": "markdown",
   "metadata": {},
   "source": [
    "## Cube"
   ]
  },
  {
   "cell_type": "code",
   "execution_count": 97,
   "metadata": {},
   "outputs": [
    {
     "name": "stdout",
     "output_type": "stream",
     "text": [
      "click http://localhost:8000/view/7633c5c6-24da-11ec-ad7e-6d90d3ff2e4f to view in browser\n"
     ]
    },
    {
     "data": {
      "text/html": [
       "\n",
       "        <iframe\n",
       "            width=\"100%\"\n",
       "            height=\"600px\"\n",
       "            src=\"http://localhost:8000/view/7633c5c6-24da-11ec-ad7e-6d90d3ff2e4f\"\n",
       "            frameborder=\"0\"\n",
       "            allowfullscreen\n",
       "        ></iframe>\n",
       "        "
      ],
      "text/plain": [
       "<IPython.lib.display.IFrame at 0x7f7a4296f7f0>"
      ]
     },
     "metadata": {},
     "output_type": "display_data"
    }
   ],
   "source": [
    "from py3d import Cube\n",
    "c=Cube()\n",
    "c.render()"
   ]
  },
  {
   "cell_type": "code",
   "execution_count": 98,
   "metadata": {},
   "outputs": [
    {
     "name": "stdout",
     "output_type": "stream",
     "text": [
      "click http://localhost:8000/view/7644b0d4-24da-11ec-ad7e-6d90d3ff2e4f to view in browser\n"
     ]
    },
    {
     "data": {
      "text/html": [
       "\n",
       "        <iframe\n",
       "            width=\"100%\"\n",
       "            height=\"600px\"\n",
       "            src=\"http://localhost:8000/view/7644b0d4-24da-11ec-ad7e-6d90d3ff2e4f\"\n",
       "            frameborder=\"0\"\n",
       "            allowfullscreen\n",
       "        ></iframe>\n",
       "        "
      ],
      "text/plain": [
       "<IPython.lib.display.IFrame at 0x7f7a4294f3d0>"
      ]
     },
     "metadata": {},
     "output_type": "display_data"
    }
   ],
   "source": [
    "c.vertices.x+=1\n",
    "c.render()"
   ]
  },
  {
   "cell_type": "code",
   "execution_count": 99,
   "metadata": {},
   "outputs": [
    {
     "name": "stdout",
     "output_type": "stream",
     "text": [
      "click http://localhost:8000/view/76555240-24da-11ec-ad7e-6d90d3ff2e4f to view in browser\n"
     ]
    },
    {
     "data": {
      "text/html": [
       "\n",
       "        <iframe\n",
       "            width=\"100%\"\n",
       "            height=\"600px\"\n",
       "            src=\"http://localhost:8000/view/76555240-24da-11ec-ad7e-6d90d3ff2e4f\"\n",
       "            frameborder=\"0\"\n",
       "            allowfullscreen\n",
       "        ></iframe>\n",
       "        "
      ],
      "text/plain": [
       "<IPython.lib.display.IFrame at 0x7f7a42951520>"
      ]
     },
     "metadata": {},
     "output_type": "display_data"
    }
   ],
   "source": [
    "from py3d import Vector3\n",
    "c.vertices*=Vector3(1,2,3)\n",
    "c.render()"
   ]
  },
  {
   "cell_type": "code",
   "execution_count": 100,
   "metadata": {},
   "outputs": [
    {
     "name": "stdout",
     "output_type": "stream",
     "text": [
      "click http://localhost:8000/view/76755ee6-24da-11ec-ad7e-6d90d3ff2e4f to view in browser\n"
     ]
    },
    {
     "data": {
      "text/html": [
       "\n",
       "        <iframe\n",
       "            width=\"100%\"\n",
       "            height=\"600px\"\n",
       "            src=\"http://localhost:8000/view/76755ee6-24da-11ec-ad7e-6d90d3ff2e4f\"\n",
       "            frameborder=\"0\"\n",
       "            allowfullscreen\n",
       "        ></iframe>\n",
       "        "
      ],
      "text/plain": [
       "<IPython.lib.display.IFrame at 0x7f7a4296f8b0>"
      ]
     },
     "metadata": {},
     "output_type": "display_data"
    }
   ],
   "source": [
    "from py3d import Rotation3\n",
    "c=Cube()\n",
    "c.vertices=c.vertices.dot(Rotation3.Rx(1))\n",
    "c.render()"
   ]
  },
  {
   "cell_type": "code",
   "execution_count": 101,
   "metadata": {},
   "outputs": [
    {
     "data": {
      "text/plain": [
       "Rotation3([[ 1.        ,  0.        ,  0.        ],\n",
       "           [ 0.        ,  0.54030231,  0.84147098],\n",
       "           [ 0.        , -0.84147098,  0.54030231]])"
      ]
     },
     "execution_count": 101,
     "metadata": {},
     "output_type": "execute_result"
    }
   ],
   "source": [
    "Rotation3.Rx(1)"
   ]
  },
  {
   "cell_type": "markdown",
   "metadata": {},
   "source": [
    "Control multiple boxes at the same time "
   ]
  },
  {
   "cell_type": "code",
   "execution_count": 102,
   "metadata": {},
   "outputs": [
    {
     "name": "stdout",
     "output_type": "stream",
     "text": [
      "click http://localhost:8000/view/76965592-24da-11ec-ad7e-6d90d3ff2e4f to view in browser\n"
     ]
    },
    {
     "data": {
      "text/html": [
       "\n",
       "        <iframe\n",
       "            width=\"100%\"\n",
       "            height=\"600px\"\n",
       "            src=\"http://localhost:8000/view/76965592-24da-11ec-ad7e-6d90d3ff2e4f\"\n",
       "            frameborder=\"0\"\n",
       "            allowfullscreen\n",
       "        ></iframe>\n",
       "        "
      ],
      "text/plain": [
       "<IPython.lib.display.IFrame at 0x7f7a4296f460>"
      ]
     },
     "metadata": {},
     "output_type": "display_data"
    }
   ],
   "source": [
    "from py3d import Cube,Transform3,Vector3,Rotation3\n",
    "cubes=Cube()\n",
    "cubes.transform=Transform3(Vector3.Rand(5),Vector3.Rand(5)*3,Rotation3.Ry(1))\n",
    "cubes.render()"
   ]
  },
  {
   "cell_type": "markdown",
   "metadata": {},
   "source": [
    "## Arrow"
   ]
  },
  {
   "cell_type": "code",
   "execution_count": 103,
   "metadata": {
    "scrolled": false
   },
   "outputs": [
    {
     "name": "stdout",
     "output_type": "stream",
     "text": [
      "click http://localhost:8000/view/76b63902-24da-11ec-ad7e-6d90d3ff2e4f to view in browser\n"
     ]
    },
    {
     "data": {
      "text/html": [
       "\n",
       "        <iframe\n",
       "            width=\"100%\"\n",
       "            height=\"600px\"\n",
       "            src=\"http://localhost:8000/view/76b63902-24da-11ec-ad7e-6d90d3ff2e4f\"\n",
       "            frameborder=\"0\"\n",
       "            allowfullscreen\n",
       "        ></iframe>\n",
       "        "
      ],
      "text/plain": [
       "<IPython.lib.display.IFrame at 0x7f7a42910100>"
      ]
     },
     "metadata": {},
     "output_type": "display_data"
    }
   ],
   "source": [
    "from py3d import Vector3\n",
    "s=Vector3.Rand(50)\n",
    "e=Vector3.Rand(50)+Vector3(1,1,1)\n",
    "e.render_as_vector(s)"
   ]
  }
 ],
 "metadata": {
  "interpreter": {
   "hash": "f977ab77590a1a82c6ed99bad9ba7e44f59b6349cfa3ab98a372fb69dd4e7d34"
  },
  "kernelspec": {
   "display_name": "Python 3.8.3 64-bit ('base': conda)",
   "language": "python",
   "name": "python38364bitbaseconda12a7320e90d14a8ab1ae06e7922a6e0c"
  },
  "language_info": {
   "codemirror_mode": {
    "name": "ipython",
    "version": 3
   },
   "file_extension": ".py",
   "mimetype": "text/x-python",
   "name": "python",
   "nbconvert_exporter": "python",
   "pygments_lexer": "ipython3",
   "version": "3.8.3"
  }
 },
 "nbformat": 4,
 "nbformat_minor": 4
}
