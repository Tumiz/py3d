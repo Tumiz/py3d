{
 "cells": [
  {
   "cell_type": "markdown",
   "metadata": {},
   "source": [
    "*Copyright (c) Tumiz. Distributed under the terms of the GPL-3.0 License.*"
   ]
  },
  {
   "cell_type": "markdown",
   "metadata": {},
   "source": [
    "# What is py3d?\n",
    "py3d is a python 3d computational geometry library, which can deal with points, lines, planes and 3d meshes in batches. It is aimed at providing a tool to build a simulation environment as same as possible.\n",
    "py3d is designed to be a light weight library that it is only based on numpy, maybe it can be changed to cupy someday."
   ]
  },
  {
   "cell_type": "markdown",
   "metadata": {},
   "source": [
    "# Installation\n",
    "`pip install py3d`"
   ]
  },
  {
   "cell_type": "markdown",
   "metadata": {},
   "source": [
    "## Data"
   ]
  },
  {
   "cell_type": "code",
   "execution_count": 1,
   "metadata": {},
   "outputs": [
    {
     "data": {
      "text/plain": [
       "(Data([0.5]),\n",
       " Data([[-5.73021895e-300,  6.94086788e-310]]),\n",
       " Data([[[4.67956555e-310, 0.00000000e+000, 6.94081429e-310],\n",
       "        [6.94081431e-310, 6.94081431e-310, 6.94081429e-310]]]))"
      ]
     },
     "execution_count": 1,
     "metadata": {},
     "output_type": "execute_result"
    }
   ],
   "source": [
    "from py3d import Data\n",
    "Data(1),Data(1,2),Data(1,2,3)"
   ]
  },
  {
   "cell_type": "code",
   "execution_count": 2,
   "metadata": {},
   "outputs": [
    {
     "data": {
      "text/plain": [
       "Data([[[4.67956555e-310, 0.00000000e+000, 0.00000000e+000],\n",
       "       [0.00000000e+000, 0.00000000e+000, 0.00000000e+000]],\n",
       "\n",
       "      [[0.00000000e+000, 0.00000000e+000, 0.00000000e+000],\n",
       "       [0.00000000e+000, 0.00000000e+000, 0.00000000e+000]]])"
      ]
     },
     "execution_count": 2,
     "metadata": {},
     "output_type": "execute_result"
    }
   ],
   "source": [
    "from py3d import Data\n",
    "shape=(2,2,3)\n",
    "Data(*shape)"
   ]
  },
  {
   "cell_type": "code",
   "execution_count": 3,
   "metadata": {},
   "outputs": [
    {
     "data": {
      "text/plain": [
       "(Data([[4.67956554e-310, 0.00000000e+000, 1.58101007e-322],\n",
       "       [4.67956554e-310, 0.00000000e+000, 1.58101007e-322]]),\n",
       " Data([[[0., 0., 0.],\n",
       "        [0., 0., 0.]],\n",
       " \n",
       "       [[0., 0., 0.],\n",
       "        [0., 0., 0.]]]),\n",
       " Data([[0., 0., 0.],\n",
       "       [0., 0., 0.],\n",
       "       [0., 0., 0.],\n",
       "       [0., 0., 0.]]),\n",
       " Data([[[0., 0., 0.],\n",
       "        [0., 0., 0.],\n",
       "        [0., 0., 0.],\n",
       "        [0., 0., 0.]],\n",
       " \n",
       "       [[0., 0., 0.],\n",
       "        [0., 0., 0.],\n",
       "        [0., 0., 0.],\n",
       "        [0., 0., 0.]]]))"
      ]
     },
     "execution_count": 3,
     "metadata": {},
     "output_type": "execute_result"
    }
   ],
   "source": [
    "from py3d import Data\n",
    "Data(3).inflate(2),Data(2,3).inflate(2),Data(2,3).inflate(2,split=False),Data(2,2,3).inflate(2)"
   ]
  },
  {
   "cell_type": "code",
   "execution_count": 4,
   "metadata": {},
   "outputs": [
    {
     "data": {
      "text/plain": [
       "(Data([0., 0., 0., 0., 0., 0.]),\n",
       " Data([4.67956557e-310, 4.67956557e-310, 0.00000000e+000, 0.00000000e+000,\n",
       "       0.00000000e+000, 0.00000000e+000, 0.00000000e+000, 0.00000000e+000,\n",
       "       0.00000000e+000, 0.00000000e+000, 0.00000000e+000, 0.00000000e+000]))"
      ]
     },
     "execution_count": 4,
     "metadata": {},
     "output_type": "execute_result"
    }
   ],
   "source": [
    "from py3d import Data\n",
    "Data(3).repeat(2),Data(2,3).repeat(2)"
   ]
  },
  {
   "cell_type": "markdown",
   "metadata": {},
   "source": [
    "# Vector3 --Type for position, velocity & scale"
   ]
  },
  {
   "cell_type": "markdown",
   "metadata": {},
   "source": [
    "**Vector3** represents point or position, velocity and scale. Note! Angular velocity cant be represented by this type, it should be represented by Rotation3 which will indroduced in next section. It is a class inheriting numpy.ndarray, so it is also ndarray."
   ]
  },
  {
   "cell_type": "markdown",
   "metadata": {},
   "source": [
    "## Defination\n",
    "\n",
    "```python\n",
    "Vector3(x:int|float|list|tuple|ndarray,y:int|float|list|tuple|ndarray,z:int|float|list|tuple|ndarray):Vector3\n",
    "```   \n",
    "Vector3 can be a vector or a collection of vectors. "
   ]
  },
  {
   "cell_type": "code",
   "execution_count": 1,
   "metadata": {},
   "outputs": [
    {
     "data": {
      "text/plain": [
       "Vector3([0., 0., 0.])"
      ]
     },
     "execution_count": 1,
     "metadata": {},
     "output_type": "execute_result"
    }
   ],
   "source": [
    "from py3d import Vector3\n",
    "Vector3()"
   ]
  },
  {
   "cell_type": "code",
   "execution_count": 2,
   "metadata": {},
   "outputs": [
    {
     "data": {
      "text/plain": [
       "Vector3([[0., 0., 0.],\n",
       "         [0., 0., 0.],\n",
       "         [0., 0., 0.],\n",
       "         [0., 0., 0.],\n",
       "         [0., 0., 0.]])"
      ]
     },
     "execution_count": 2,
     "metadata": {},
     "output_type": "execute_result"
    }
   ],
   "source": [
    "from py3d import Vector3\n",
    "Vector3(n=5)"
   ]
  },
  {
   "cell_type": "code",
   "execution_count": 3,
   "metadata": {},
   "outputs": [
    {
     "data": {
      "text/plain": [
       "Vector3([1., 2., 3.])"
      ]
     },
     "execution_count": 3,
     "metadata": {},
     "output_type": "execute_result"
    }
   ],
   "source": [
    "from py3d import Vector3\n",
    "Vector3(1,2,3)"
   ]
  },
  {
   "cell_type": "code",
   "execution_count": 4,
   "metadata": {},
   "outputs": [
    {
     "data": {
      "text/plain": [
       "Vector3([[1., 2., 3.],\n",
       "         [1., 2., 3.],\n",
       "         [1., 2., 3.],\n",
       "         [1., 2., 3.]])"
      ]
     },
     "execution_count": 4,
     "metadata": {},
     "output_type": "execute_result"
    }
   ],
   "source": [
    "from py3d import Vector3\n",
    "Vector3(1,2,3,n=4)"
   ]
  },
  {
   "cell_type": "code",
   "execution_count": 5,
   "metadata": {},
   "outputs": [
    {
     "data": {
      "text/plain": [
       "Vector3([[[1., 2., 3.],\n",
       "          [1., 2., 3.],\n",
       "          [1., 2., 3.],\n",
       "          [1., 2., 3.]],\n",
       "\n",
       "         [[1., 2., 3.],\n",
       "          [1., 2., 3.],\n",
       "          [1., 2., 3.],\n",
       "          [1., 2., 3.]]])"
      ]
     },
     "execution_count": 5,
     "metadata": {},
     "output_type": "execute_result"
    }
   ],
   "source": [
    "from py3d import Vector3\n",
    "Vector3(1,2,3,n=(2,4))"
   ]
  },
  {
   "cell_type": "code",
   "execution_count": 6,
   "metadata": {},
   "outputs": [
    {
     "data": {
      "text/plain": [
       "Vector3([[1., 0., 0.],\n",
       "         [2., 0., 0.],\n",
       "         [3., 0., 0.]])"
      ]
     },
     "execution_count": 6,
     "metadata": {},
     "output_type": "execute_result"
    }
   ],
   "source": [
    "from py3d import Vector3\n",
    "Vector3(x=[1,2,3])"
   ]
  },
  {
   "cell_type": "code",
   "execution_count": 7,
   "metadata": {},
   "outputs": [
    {
     "data": {
      "text/plain": [
       "Vector3([[1., 3., 0.],\n",
       "         [2., 4., 0.],\n",
       "         [3., 5., 0.]])"
      ]
     },
     "execution_count": 7,
     "metadata": {},
     "output_type": "execute_result"
    }
   ],
   "source": [
    "from py3d import Vector3\n",
    "Vector3(x=[1,2,3],y=[3,4,5])"
   ]
  },
  {
   "cell_type": "code",
   "execution_count": 8,
   "metadata": {},
   "outputs": [
    {
     "data": {
      "text/plain": [
       "Vector3([[[1., 0., 0.]],\n",
       "\n",
       "         [[2., 0., 0.]],\n",
       "\n",
       "         [[3., 0., 0.]]])"
      ]
     },
     "execution_count": 8,
     "metadata": {},
     "output_type": "execute_result"
    }
   ],
   "source": [
    "from py3d import Vector3\n",
    "Vector3(x=[[1],[2],[3]])"
   ]
  },
  {
   "cell_type": "code",
   "execution_count": 9,
   "metadata": {},
   "outputs": [
    {
     "data": {
      "text/plain": [
       "Vector3([[[0., 1., 0.],\n",
       "          [0., 2., 0.]],\n",
       "\n",
       "         [[0., 6., 0.],\n",
       "          [0., 3., 0.]]])"
      ]
     },
     "execution_count": 9,
     "metadata": {},
     "output_type": "execute_result"
    }
   ],
   "source": [
    "from py3d import Vector3\n",
    "Vector3(y=[[1,2],[6,3]])"
   ]
  },
  {
   "cell_type": "code",
   "execution_count": 10,
   "metadata": {},
   "outputs": [
    {
     "data": {
      "text/plain": [
       "Vector3([[1., 2., 3.],\n",
       "         [1., 2., 3.],\n",
       "         [1., 2., 3.],\n",
       "         [1., 2., 3.],\n",
       "         [1., 2., 3.]])"
      ]
     },
     "execution_count": 10,
     "metadata": {},
     "output_type": "execute_result"
    }
   ],
   "source": [
    "from py3d import Vector3\n",
    "Vector3(1,2,3,n=5)"
   ]
  },
  {
   "cell_type": "code",
   "execution_count": 11,
   "metadata": {},
   "outputs": [
    {
     "data": {
      "text/plain": [
       "Vector3([[[ 1. , -0.4,  1. ],\n",
       "          [ 1. , -0.4,  2. ],\n",
       "          [ 1. , -0.4,  3. ],\n",
       "          [ 1. , -0.4,  4. ]],\n",
       "\n",
       "         [[ 1. , -0.4,  1. ],\n",
       "          [ 1. , -0.4,  2. ],\n",
       "          [ 1. , -0.4,  3. ],\n",
       "          [ 1. , -0.4,  4. ]]])"
      ]
     },
     "execution_count": 11,
     "metadata": {},
     "output_type": "execute_result"
    }
   ],
   "source": [
    "from py3d import Vector3\n",
    "Vector3(1,-0.4,[1,2,3,4],n=2)"
   ]
  },
  {
   "cell_type": "code",
   "execution_count": 15,
   "metadata": {},
   "outputs": [
    {
     "name": "stdout",
     "output_type": "stream",
     "text": [
      "click http://localhost:8000/view/140229509457168 to view in browser\n"
     ]
    },
    {
     "data": {
      "text/html": [
       "\n",
       "        <iframe\n",
       "            width=\"100%\"\n",
       "            height=\"600px\"\n",
       "            src=\"http://localhost:8000/view/140229509457168\"\n",
       "            frameborder=\"0\"\n",
       "            allowfullscreen\n",
       "            \n",
       "        ></iframe>\n",
       "        "
      ],
      "text/plain": [
       "<IPython.lib.display.IFrame at 0x7f89e6fc7e80>"
      ]
     },
     "metadata": {},
     "output_type": "display_data"
    }
   ],
   "source": [
    "from py3d import Vector3\n",
    "import numpy\n",
    "Vector3(numpy.random.rand(100),numpy.random.rand(100),numpy.arange(0,5,1)).as_point().render()"
   ]
  },
  {
   "cell_type": "code",
   "execution_count": 16,
   "metadata": {},
   "outputs": [
    {
     "name": "stdout",
     "output_type": "stream",
     "text": [
      "click http://localhost:8000/view/140229509340288 to view in browser\n"
     ]
    },
    {
     "data": {
      "text/html": [
       "\n",
       "        <iframe\n",
       "            width=\"100%\"\n",
       "            height=\"600px\"\n",
       "            src=\"http://localhost:8000/view/140229509340288\"\n",
       "            frameborder=\"0\"\n",
       "            allowfullscreen\n",
       "            \n",
       "        ></iframe>\n",
       "        "
      ],
      "text/plain": [
       "<IPython.lib.display.IFrame at 0x7f89e6fcf2b0>"
      ]
     },
     "metadata": {},
     "output_type": "display_data"
    }
   ],
   "source": [
    "from py3d import Vector3,pi\n",
    "import numpy\n",
    "a=numpy.arange(0,2*pi,0.01)\n",
    "z=numpy.arange(0,5,1)\n",
    "v=Vector3(x=numpy.sin(a),y=numpy.cos(a),z=z)\n",
    "v.as_line().render()"
   ]
  },
  {
   "cell_type": "code",
   "execution_count": 2,
   "metadata": {},
   "outputs": [
    {
     "name": "stdout",
     "output_type": "stream",
     "text": [
      "click http://localhost:8000/view/140420000015968 to view in browser\n"
     ]
    },
    {
     "data": {
      "text/html": [
       "\n",
       "        <iframe\n",
       "            width=\"100%\"\n",
       "            height=\"600px\"\n",
       "            src=\"http://localhost:8000/view/140420000015968\"\n",
       "            frameborder=\"0\"\n",
       "            allowfullscreen\n",
       "            \n",
       "        ></iframe>\n",
       "        "
      ],
      "text/plain": [
       "<IPython.lib.display.IFrame at 0x7fb5d8500af0>"
      ]
     },
     "metadata": {},
     "output_type": "display_data"
    }
   ],
   "source": [
    "from py3d import Vector3,pi\n",
    "import numpy\n",
    "a=numpy.arange(0,2*pi,0.1)\n",
    "d=numpy.arange(0,5,1)\n",
    "v=Vector3(x=d,y=numpy.sin(a),z=numpy.cos(a))\n",
    "v.as_line().render()"
   ]
  },
  {
   "cell_type": "code",
   "execution_count": 24,
   "metadata": {},
   "outputs": [
    {
     "data": {
      "text/plain": [
       "Color([[[0.84067695, 0.90210223, 0.73232979, 1.        ],\n",
       "        [0.84067695, 0.90210223, 0.73232979, 1.        ],\n",
       "        [0.84067695, 0.90210223, 0.73232979, 1.        ],\n",
       "        ...,\n",
       "        [0.84067695, 0.90210223, 0.73232979, 1.        ],\n",
       "        [0.84067695, 0.90210223, 0.73232979, 1.        ],\n",
       "        [0.84067695, 0.90210223, 0.73232979, 1.        ]],\n",
       "\n",
       "       [[0.88451521, 0.48630947, 0.71547278, 1.        ],\n",
       "        [0.88451521, 0.48630947, 0.71547278, 1.        ],\n",
       "        [0.88451521, 0.48630947, 0.71547278, 1.        ],\n",
       "        ...,\n",
       "        [0.88451521, 0.48630947, 0.71547278, 1.        ],\n",
       "        [0.88451521, 0.48630947, 0.71547278, 1.        ],\n",
       "        [0.88451521, 0.48630947, 0.71547278, 1.        ]],\n",
       "\n",
       "       [[0.21203983, 0.12276369, 0.38571764, 1.        ],\n",
       "        [0.21203983, 0.12276369, 0.38571764, 1.        ],\n",
       "        [0.21203983, 0.12276369, 0.38571764, 1.        ],\n",
       "        ...,\n",
       "        [0.21203983, 0.12276369, 0.38571764, 1.        ],\n",
       "        [0.21203983, 0.12276369, 0.38571764, 1.        ],\n",
       "        [0.21203983, 0.12276369, 0.38571764, 1.        ]],\n",
       "\n",
       "       [[0.88404278, 0.7213018 , 0.59922803, 1.        ],\n",
       "        [0.88404278, 0.7213018 , 0.59922803, 1.        ],\n",
       "        [0.88404278, 0.7213018 , 0.59922803, 1.        ],\n",
       "        ...,\n",
       "        [0.88404278, 0.7213018 , 0.59922803, 1.        ],\n",
       "        [0.88404278, 0.7213018 , 0.59922803, 1.        ],\n",
       "        [0.88404278, 0.7213018 , 0.59922803, 1.        ]],\n",
       "\n",
       "       [[0.6365779 , 0.30893848, 0.93973853, 1.        ],\n",
       "        [0.6365779 , 0.30893848, 0.93973853, 1.        ],\n",
       "        [0.6365779 , 0.30893848, 0.93973853, 1.        ],\n",
       "        ...,\n",
       "        [0.6365779 , 0.30893848, 0.93973853, 1.        ],\n",
       "        [0.6365779 , 0.30893848, 0.93973853, 1.        ],\n",
       "        [0.6365779 , 0.30893848, 0.93973853, 1.        ]]])"
      ]
     },
     "execution_count": 24,
     "metadata": {},
     "output_type": "execute_result"
    }
   ],
   "source": [
    "v.as_line().color"
   ]
  },
  {
   "cell_type": "markdown",
   "metadata": {},
   "source": [
    "Vector3 has x,y,z properties, each can be set independently"
   ]
  },
  {
   "cell_type": "code",
   "execution_count": 18,
   "metadata": {},
   "outputs": [
    {
     "data": {
      "text/plain": [
       "Vector3([[0., 0., 0.],\n",
       "         [1., 0., 0.],\n",
       "         [2., 0., 0.],\n",
       "         [3., 0., 0.],\n",
       "         [4., 0., 0.]])"
      ]
     },
     "execution_count": 18,
     "metadata": {},
     "output_type": "execute_result"
    }
   ],
   "source": [
    "from py3d import Vector3\n",
    "a=Vector3(0,0,0,5)\n",
    "a.x=list(range(5))\n",
    "a"
   ]
  },
  {
   "cell_type": "code",
   "execution_count": 19,
   "metadata": {},
   "outputs": [
    {
     "data": {
      "text/plain": [
       "Vector3([[ 0.        ,  0.        ,  3.        ],\n",
       "         [ 1.        ,  0.84147098,  3.        ],\n",
       "         [ 2.        ,  0.90929743,  3.        ],\n",
       "         [ 3.        ,  0.14112001,  3.        ],\n",
       "         [ 4.        , -0.7568025 ,  3.        ]])"
      ]
     },
     "execution_count": 19,
     "metadata": {},
     "output_type": "execute_result"
    }
   ],
   "source": [
    "from py3d import Vector3\n",
    "import numpy\n",
    "a=Vector3(0,0,0,5)\n",
    "a.x=[0,1,2,3,4]\n",
    "a.y=numpy.sin(a.x)\n",
    "a.z=3\n",
    "a"
   ]
  },
  {
   "cell_type": "markdown",
   "metadata": {},
   "source": [
    "Vector3 can be constructed from list, tuple and numpy.array"
   ]
  },
  {
   "cell_type": "code",
   "execution_count": 16,
   "metadata": {},
   "outputs": [
    {
     "data": {
      "text/plain": [
       "Vector3([[1, 2, 3],\n",
       "         [4, 5, 5]])"
      ]
     },
     "execution_count": 16,
     "metadata": {},
     "output_type": "execute_result"
    }
   ],
   "source": [
    "from py3d import Vector3\n",
    "Vector3.from_array([1,2,3,4,5,5])"
   ]
  },
  {
   "cell_type": "code",
   "execution_count": 17,
   "metadata": {},
   "outputs": [
    {
     "data": {
      "text/plain": [
       "Vector3([[1, 2, 3],\n",
       "         [4, 5, 6]])"
      ]
     },
     "execution_count": 17,
     "metadata": {},
     "output_type": "execute_result"
    }
   ],
   "source": [
    "from py3d import Vector3\n",
    "Vector3.from_array([[1,2,3],[4,5,6]])"
   ]
  },
  {
   "cell_type": "code",
   "execution_count": 18,
   "metadata": {},
   "outputs": [
    {
     "data": {
      "text/plain": [
       "Vector3([[1, 2, 3],\n",
       "         [4, 5, 6]])"
      ]
     },
     "execution_count": 18,
     "metadata": {},
     "output_type": "execute_result"
    }
   ],
   "source": [
    "from py3d import Vector3\n",
    "Vector3.from_array((1,2,3,4,5,6))"
   ]
  },
  {
   "cell_type": "code",
   "execution_count": 19,
   "metadata": {},
   "outputs": [
    {
     "data": {
      "text/plain": [
       "Vector3([[ 0. ,  0.5,  1. ],\n",
       "         [ 1.5,  2. ,  2.5],\n",
       "         [ 3. ,  3.5,  4. ],\n",
       "         [ 4.5,  5. ,  5.5],\n",
       "         [ 6. ,  6.5,  7. ],\n",
       "         [ 7.5,  8. ,  8.5],\n",
       "         [ 9. ,  9.5, 10. ]])"
      ]
     },
     "execution_count": 19,
     "metadata": {},
     "output_type": "execute_result"
    }
   ],
   "source": [
    "from py3d import Vector3\n",
    "import numpy\n",
    "Vector3.from_array(numpy.linspace(0,10,21))"
   ]
  },
  {
   "cell_type": "markdown",
   "metadata": {},
   "source": [
    "```python\n",
    "Vector3.Rand(n:int):Vector3\n",
    "```\n",
    "Return a random vector or a collection of random vectors."
   ]
  },
  {
   "cell_type": "code",
   "execution_count": 20,
   "metadata": {},
   "outputs": [
    {
     "data": {
      "text/plain": [
       "Vector3([[0.45921552, 0.78348324, 0.43146444],\n",
       "         [0.42044708, 0.72920281, 0.64235596],\n",
       "         [0.73516857, 0.46622286, 0.96301514],\n",
       "         [0.62422765, 0.70903614, 0.35357237]])"
      ]
     },
     "execution_count": 20,
     "metadata": {},
     "output_type": "execute_result"
    }
   ],
   "source": [
    "from py3d import Vector3\n",
    "Vector3.Rand(4)"
   ]
  },
  {
   "cell_type": "code",
   "execution_count": 21,
   "metadata": {},
   "outputs": [
    {
     "data": {
      "text/plain": [
       "Vector3([[[0.77340614, 0.28935024, 0.49080803],\n",
       "          [0.96763023, 0.55166564, 0.89826805],\n",
       "          [0.66690609, 0.88254866, 0.81018903]],\n",
       "\n",
       "         [[0.07104267, 0.5180837 , 0.21326733],\n",
       "          [0.99740781, 0.81130046, 0.33139016],\n",
       "          [0.02997952, 0.56221871, 0.81605035]],\n",
       "\n",
       "         [[0.70071314, 0.09489515, 0.21071064],\n",
       "          [0.61939989, 0.12119487, 0.43031272],\n",
       "          [0.88659964, 0.12047966, 0.40739552]],\n",
       "\n",
       "         [[0.40254257, 0.30152283, 0.6577068 ],\n",
       "          [0.91713954, 0.23861977, 0.83418777],\n",
       "          [0.33154812, 0.1591937 , 0.85859377]]])"
      ]
     },
     "execution_count": 21,
     "metadata": {},
     "output_type": "execute_result"
    }
   ],
   "source": [
    "from py3d import Vector3\n",
    "Vector3.Rand(4,3)"
   ]
  },
  {
   "cell_type": "code",
   "execution_count": 3,
   "metadata": {},
   "outputs": [
    {
     "name": "stdout",
     "output_type": "stream",
     "text": [
      "click http://localhost:8000/view/55331626-47c4-11ec-8ed7-a57d9f3c5899 to view in browser\n"
     ]
    },
    {
     "data": {
      "text/html": [
       "\n",
       "        <iframe\n",
       "            width=\"100%\"\n",
       "            height=\"600px\"\n",
       "            src=\"http://localhost:8000/view/55331626-47c4-11ec-8ed7-a57d9f3c5899\"\n",
       "            frameborder=\"0\"\n",
       "            allowfullscreen\n",
       "            \n",
       "        ></iframe>\n",
       "        "
      ],
      "text/plain": [
       "<IPython.lib.display.IFrame at 0x7fc7d39990d0>"
      ]
     },
     "metadata": {},
     "output_type": "display_data"
    }
   ],
   "source": [
    "from py3d import Vector3\n",
    "(Vector3.Rand(100)+Vector3([1,2,3],[0]*100,[0]*100)).as_point().render()"
   ]
  },
  {
   "cell_type": "markdown",
   "metadata": {},
   "source": [
    "## Homogeneous vector"
   ]
  },
  {
   "cell_type": "code",
   "execution_count": 2,
   "metadata": {},
   "outputs": [
    {
     "data": {
      "text/plain": [
       "Vector3([[0.70139092, 0.26697101, 0.04602631, 1.        ],\n",
       "         [0.61210806, 0.0193583 , 0.88751836, 1.        ],\n",
       "         [0.17547007, 0.41716775, 0.17113976, 1.        ],\n",
       "         [0.63076159, 0.28304031, 0.68962482, 1.        ],\n",
       "         [0.13722848, 0.37981939, 0.60894438, 1.        ],\n",
       "         [0.32061131, 0.81913994, 0.35026874, 1.        ],\n",
       "         [0.16615877, 0.69411187, 0.20122741, 1.        ],\n",
       "         [0.58632555, 0.560968  , 0.64730728, 1.        ],\n",
       "         [0.13821963, 0.82467068, 0.02287063, 1.        ],\n",
       "         [0.87556176, 0.30905587, 0.55760844, 1.        ]])"
      ]
     },
     "execution_count": 2,
     "metadata": {},
     "output_type": "execute_result"
    }
   ],
   "source": [
    "from py3d import Vector3\n",
    "Vector3.Rand(10).H"
   ]
  },
  {
   "cell_type": "markdown",
   "metadata": {},
   "source": [
    "## Mean vector"
   ]
  },
  {
   "cell_type": "code",
   "execution_count": 1,
   "metadata": {},
   "outputs": [
    {
     "data": {
      "text/plain": [
       "Vector3([[0.5506082 , 0.5004904 , 0.36679572],\n",
       "         [0.65936928, 0.59778151, 0.4687842 ]])"
      ]
     },
     "execution_count": 1,
     "metadata": {},
     "output_type": "execute_result"
    }
   ],
   "source": [
    "from py3d import Vector3\n",
    "Vector3.Rand(2,10).M"
   ]
  },
  {
   "cell_type": "markdown",
   "metadata": {},
   "source": [
    "## Deep copy\n",
    "```python\n",
    ".copy()\n",
    "```\n",
    "It will return deep copy of origin vector, and their value are equal."
   ]
  },
  {
   "cell_type": "code",
   "execution_count": 24,
   "metadata": {},
   "outputs": [
    {
     "data": {
      "text/plain": [
       "(140484623861680, 140484623861680, 140484658658432, True)"
      ]
     },
     "execution_count": 24,
     "metadata": {},
     "output_type": "execute_result"
    }
   ],
   "source": [
    "from py3d import Vector3\n",
    "a=Vector3(1,2,3)\n",
    "b=a\n",
    "c=a.copy() # deep copy\n",
    "id(a),id(b),id(c), a==c"
   ]
  },
  {
   "cell_type": "code",
   "execution_count": 25,
   "metadata": {},
   "outputs": [
    {
     "name": "stdout",
     "output_type": "stream",
     "text": [
      "[[0.82964255]\n",
      " [1.29129048]\n",
      " [1.10275651]\n",
      " [1.07071436]\n",
      " [0.9821057 ]]\n"
     ]
    },
    {
     "data": {
      "text/plain": [
       "array([[ True],\n",
       "       [ True],\n",
       "       [ True],\n",
       "       [ True],\n",
       "       [ True]])"
      ]
     },
     "execution_count": 25,
     "metadata": {},
     "output_type": "execute_result"
    }
   ],
   "source": [
    "from py3d import Vector3\n",
    "points=Vector3.Rand(5)\n",
    "print(points.norm())\n",
    "points_copy=points.copy()\n",
    "points==points_copy"
   ]
  },
  {
   "cell_type": "markdown",
   "metadata": {},
   "source": [
    "## Modify"
   ]
  },
  {
   "cell_type": "code",
   "execution_count": 26,
   "metadata": {},
   "outputs": [
    {
     "data": {
      "text/plain": [
       "Vector3([[1., 2., 3.],\n",
       "         [1., 2., 3.],\n",
       "         [1., 2., 3.],\n",
       "         [1., 2., 3.]])"
      ]
     },
     "execution_count": 26,
     "metadata": {},
     "output_type": "execute_result"
    }
   ],
   "source": [
    "from py3d import Vector3\n",
    "points=Vector3(1,2,3,4)\n",
    "points"
   ]
  },
  {
   "cell_type": "code",
   "execution_count": 27,
   "metadata": {},
   "outputs": [
    {
     "data": {
      "text/plain": [
       "Vector3([[ 1.,  2.,  3.],\n",
       "         [ 1.,  2.,  3.],\n",
       "         [-1., -2., -3.],\n",
       "         [ 1.,  2.,  3.]])"
      ]
     },
     "execution_count": 27,
     "metadata": {},
     "output_type": "execute_result"
    }
   ],
   "source": [
    "points[2]=Vector3(-1,-2,-3)\n",
    "points"
   ]
  },
  {
   "cell_type": "markdown",
   "metadata": {},
   "source": [
    "## Reverse\n",
    "```python\n",
    ".reverse():ndarray\n",
    "```"
   ]
  },
  {
   "cell_type": "code",
   "execution_count": 28,
   "metadata": {},
   "outputs": [
    {
     "name": "stdout",
     "output_type": "stream",
     "text": [
      "[[1 2 3]\n",
      " [2 0 0]]\n",
      "[[2 0 0]\n",
      " [1 2 3]]\n",
      "[[1 2 3]\n",
      " [2 0 0]]\n",
      "[[2 0 0]\n",
      " [1 2 3]]\n"
     ]
    }
   ],
   "source": [
    "from py3d import *\n",
    "a=Vector3([\n",
    "    [1,2,3],\n",
    "    [2,0,0]\n",
    "])\n",
    "print(a)\n",
    "a.reverse()\n",
    "print(a)\n",
    "print(a.reversed())\n",
    "print(a)"
   ]
  },
  {
   "cell_type": "markdown",
   "metadata": {},
   "source": [
    "## Append\n",
    "```python\n",
    ".append(Vector3|ndarray):ndarray\n",
    "```"
   ]
  },
  {
   "cell_type": "code",
   "execution_count": 29,
   "metadata": {},
   "outputs": [
    {
     "data": {
      "text/plain": [
       "Vector3([[ 1.,  2.,  3.],\n",
       "         [ 1.,  2.,  3.],\n",
       "         [ 1.,  2.,  3.],\n",
       "         [ 1.,  2.,  3.],\n",
       "         [ 1.,  1.,  1.],\n",
       "         [ 1.,  1.,  1.],\n",
       "         [ 1.,  1.,  1.],\n",
       "         [ 1.,  1.,  1.],\n",
       "         [-1., -9.,  0.],\n",
       "         [-1., -9.,  0.]])"
      ]
     },
     "execution_count": 29,
     "metadata": {},
     "output_type": "execute_result"
    }
   ],
   "source": [
    "from py3d import Vector3\n",
    "a=Vector3(1,2,3,n=4)\n",
    "b=Vector3(1,1,1,n=4)\n",
    "c=Vector3(-1,-9,0,n=2)\n",
    "a.append(b).append(c)"
   ]
  },
  {
   "cell_type": "markdown",
   "metadata": {},
   "source": [
    "## Insert\n",
    "\n",
    "Note: this operation would not change origin vector, but generate a new one"
   ]
  },
  {
   "cell_type": "code",
   "execution_count": 30,
   "metadata": {},
   "outputs": [
    {
     "data": {
      "text/plain": [
       "Vector3([[0.41573086, 0.07835476, 0.37842903],\n",
       "         [0.04169069, 0.3145703 , 0.77506606],\n",
       "         [1.        , 2.        , 3.        ],\n",
       "         [1.        , 2.        , 3.        ],\n",
       "         [1.        , 2.        , 3.        ],\n",
       "         [0.68702867, 0.81657882, 0.01316079],\n",
       "         [0.52882287, 0.12460193, 0.96273547]])"
      ]
     },
     "execution_count": 30,
     "metadata": {},
     "output_type": "execute_result"
    }
   ],
   "source": [
    "from py3d import *\n",
    "a=Vector3.Rand(4)\n",
    "a.insert(2,Vector3(1,2,3,n=3))"
   ]
  },
  {
   "cell_type": "code",
   "execution_count": 31,
   "metadata": {},
   "outputs": [
    {
     "data": {
      "text/plain": [
       "Vector3([[1.00000000e+00, 2.00000000e+00, 3.00000000e+00],\n",
       "         [8.57680603e-03, 7.26333612e-01, 1.84896732e-01],\n",
       "         [2.00000000e+00, 4.00000000e+00, 6.00000000e+00],\n",
       "         [3.07218939e-01, 2.45715801e-01, 2.03546317e-01],\n",
       "         [3.00000000e+00, 6.00000000e+00, 9.00000000e+00],\n",
       "         [7.14028342e-01, 4.86949746e-01, 2.25773206e-01],\n",
       "         [4.00000000e+00, 8.00000000e+00, 1.20000000e+01],\n",
       "         [6.04044760e-02, 5.08989004e-01, 6.65043327e-01]])"
      ]
     },
     "execution_count": 31,
     "metadata": {},
     "output_type": "execute_result"
    }
   ],
   "source": [
    "from py3d import Vector3\n",
    "a=Vector3.Rand(4)\n",
    "a.insert(slice(4),Vector3(1,2,3,n=4).cumsum())"
   ]
  },
  {
   "cell_type": "code",
   "execution_count": 32,
   "metadata": {},
   "outputs": [
    {
     "name": "stdout",
     "output_type": "stream",
     "text": [
      "click http://localhost:8002/view/f33042f4-3ec3-11ec-a75a-a1bb316e6e57 to view in browser\n"
     ]
    },
    {
     "data": {
      "text/html": [
       "\n",
       "        <iframe\n",
       "            width=\"100%\"\n",
       "            height=\"600px\"\n",
       "            src=\"http://localhost:8002/view/f33042f4-3ec3-11ec-a75a-a1bb316e6e57\"\n",
       "            frameborder=\"0\"\n",
       "            allowfullscreen\n",
       "            \n",
       "        ></iframe>\n",
       "        "
      ],
      "text/plain": [
       "<IPython.lib.display.IFrame at 0x7fc522256910>"
      ]
     },
     "metadata": {},
     "output_type": "display_data"
    }
   ],
   "source": [
    "from py3d import Vector3\n",
    "import numpy\n",
    "start_points=Vector3(x=numpy.sin(range(10)),y=numpy.cos(range(10)))\n",
    "end_points=start_points+Vector3(1,1,1)\n",
    "points=start_points.insert(slice(0,10),end_points)\n",
    "points.as_linesegment().render()"
   ]
  },
  {
   "cell_type": "markdown",
   "metadata": {},
   "source": [
    "## Remove\n",
    "Note: this operation would not change origin vector, but generate a new one"
   ]
  },
  {
   "cell_type": "code",
   "execution_count": null,
   "metadata": {},
   "outputs": [],
   "source": [
    "from py3d import *\n",
    "a=Vector3.Rand(4)\n",
    "print(a)\n",
    "a.remove(0)"
   ]
  },
  {
   "cell_type": "code",
   "execution_count": null,
   "metadata": {},
   "outputs": [],
   "source": [
    "from py3d import *\n",
    "a=Vector3.Rand(5)\n",
    "print(a)\n",
    "a.remove(slice(2,4))"
   ]
  },
  {
   "cell_type": "code",
   "execution_count": 3,
   "metadata": {},
   "outputs": [
    {
     "name": "stdout",
     "output_type": "stream",
     "text": [
      "[[0.17325737 0.71715027 0.63123798]\n",
      " [0.01936434 0.73316985 0.68706806]\n",
      " [0.94057137 0.32477355 0.8011322 ]\n",
      " [0.14694045 0.14137252 0.84485835]\n",
      " [0.89972337 0.22013844 0.37882309]]\n"
     ]
    },
    {
     "data": {
      "text/plain": [
       "Vector3([[0.17325737, 0.71715027, 0.63123798],\n",
       "         [0.01936434, 0.73316985, 0.68706806],\n",
       "         [0.94057137, 0.32477355, 0.8011322 ],\n",
       "         [0.14694045, 0.14137252, 0.84485835],\n",
       "         [0.89972337, 0.22013844, 0.37882309]])"
      ]
     },
     "execution_count": 3,
     "metadata": {},
     "output_type": "execute_result"
    }
   ],
   "source": [
    "from py3d import Vector3\n",
    "a=Vector3.Rand(5)\n",
    "print(a)\n",
    "a.remove(slice(2,4))\n",
    "a"
   ]
  },
  {
   "cell_type": "markdown",
   "metadata": {},
   "source": [
    "## Discrete difference\n",
    "```python\n",
    ".diff(n:int):Vector3\n",
    "```\n"
   ]
  },
  {
   "cell_type": "code",
   "execution_count": null,
   "metadata": {},
   "outputs": [],
   "source": [
    "from py3d import Vector3\n",
    "points=Vector3([\n",
    "    [1,2,1],\n",
    "    [2,3,1],\n",
    "    [4,6,2],\n",
    "    [8,3,0]\n",
    "])\n",
    "points.diff(),points.diff(2)"
   ]
  },
  {
   "cell_type": "markdown",
   "metadata": {},
   "source": [
    "## Cumulative Sum\n",
    "```python\n",
    ".cumsum():Vector3\n",
    "```\n",
    "Return the cumulative sum of the elements along a given axis."
   ]
  },
  {
   "cell_type": "code",
   "execution_count": null,
   "metadata": {},
   "outputs": [
    {
     "data": {
      "text/plain": [
       "Vector3([[ 1,  2,  1],\n",
       "         [ 3,  5,  2],\n",
       "         [ 7, 11,  4],\n",
       "         [15, 14,  4]])"
      ]
     },
     "execution_count": 10,
     "metadata": {},
     "output_type": "execute_result"
    }
   ],
   "source": [
    "from py3d import Vector3\n",
    "points=Vector3([\n",
    "    [1,2,1],\n",
    "    [2,3,1],\n",
    "    [4,6,2],\n",
    "    [8,3,0]\n",
    "])\n",
    "points.cumsum()"
   ]
  },
  {
   "cell_type": "code",
   "execution_count": null,
   "metadata": {},
   "outputs": [
    {
     "data": {
      "text/plain": [
       "Vector3([[0.84759213, 0.11500617, 0.01995767],\n",
       "         [1.0255817 , 1.01507353, 0.50038895],\n",
       "         [1.90791678, 1.533651  , 0.81615017],\n",
       "         [2.69434598, 2.23421181, 1.64598027],\n",
       "         [3.36954516, 2.97710196, 1.96835431],\n",
       "         [3.73604493, 3.66421547, 2.094864  ],\n",
       "         [4.21141907, 4.33829328, 2.92564957],\n",
       "         [4.57633252, 4.70899309, 3.15472497],\n",
       "         [4.77008981, 5.69458192, 3.40713134],\n",
       "         [5.51412515, 6.01180532, 3.77888045]])"
      ]
     },
     "execution_count": 11,
     "metadata": {},
     "output_type": "execute_result"
    }
   ],
   "source": [
    "from py3d import Vector3\n",
    "Vector3.Rand(10).cumsum()"
   ]
  },
  {
   "cell_type": "code",
   "execution_count": null,
   "metadata": {},
   "outputs": [
    {
     "data": {
      "text/plain": [
       "Vector3([[[0.3029466 , 0.78145752, 0.91443864],\n",
       "          [0.56685521, 1.07347685, 1.01816978],\n",
       "          [0.97668889, 1.28129739, 1.66359016],\n",
       "          [1.20113023, 1.94662381, 1.80724735],\n",
       "          [1.9257906 , 2.21608682, 2.31413767],\n",
       "          [2.55430431, 2.46329485, 3.31128434],\n",
       "          [2.93939543, 3.44573329, 3.9307817 ],\n",
       "          [2.97431137, 4.21629306, 4.33342172],\n",
       "          [3.26924241, 4.74882074, 5.04147968],\n",
       "          [4.09479825, 5.63124588, 5.426857  ]],\n",
       "\n",
       "         [[0.05040227, 0.18921534, 0.57584997],\n",
       "          [0.10827811, 1.18611646, 0.75479946],\n",
       "          [0.5847671 , 1.9017621 , 1.1812552 ],\n",
       "          [0.85956351, 2.07010735, 1.37144925],\n",
       "          [0.90523451, 2.46950282, 2.18139423],\n",
       "          [1.2867838 , 3.23145473, 2.42135168],\n",
       "          [2.14299695, 3.66600644, 2.72765097],\n",
       "          [2.59408438, 4.58369912, 3.60885377],\n",
       "          [2.96016108, 4.98148688, 4.60462317],\n",
       "          [3.92003196, 5.73375455, 5.56940663]]])"
      ]
     },
     "execution_count": 1,
     "metadata": {},
     "output_type": "execute_result"
    }
   ],
   "source": [
    "from py3d import Vector3\n",
    "Vector3.Rand(2,10).cumsum()"
   ]
  },
  {
   "cell_type": "markdown",
   "metadata": {},
   "source": [
    "## Add"
   ]
  },
  {
   "cell_type": "code",
   "execution_count": null,
   "metadata": {},
   "outputs": [],
   "source": [
    "from py3d import Vector3\n",
    "Vector3(1,2,3)+Vector3(2,3,4)"
   ]
  },
  {
   "cell_type": "code",
   "execution_count": null,
   "metadata": {},
   "outputs": [],
   "source": [
    "from py3d import Vector3\n",
    "Vector3.Zeros(3)+Vector3.Ones(3)"
   ]
  },
  {
   "cell_type": "code",
   "execution_count": null,
   "metadata": {},
   "outputs": [],
   "source": [
    "from py3d import Vector3\n",
    "a=Vector3.from_array([1,2,3,4,5,6,7,8,9,-1,-2,-3])\n",
    "b=Vector3.from_array([1,-2,-4,-5,-1,-4,3,5,6,9,10,8])\n",
    "a+b"
   ]
  },
  {
   "cell_type": "markdown",
   "metadata": {},
   "source": [
    "## Subtract"
   ]
  },
  {
   "cell_type": "code",
   "execution_count": null,
   "metadata": {},
   "outputs": [],
   "source": [
    "from py3d import Vector3\n",
    "Vector3(1,2,3,n=4)-Vector3(-1,-2,-3)"
   ]
  },
  {
   "cell_type": "code",
   "execution_count": null,
   "metadata": {},
   "outputs": [],
   "source": [
    "from py3d import Vector3\n",
    "Vector3.from_array([1,2,3,4,5,6,7,8,9,10,11,12,13,14,15])-Vector3(1,-1,3,5)"
   ]
  },
  {
   "cell_type": "markdown",
   "metadata": {},
   "source": [
    "## Multiply"
   ]
  },
  {
   "cell_type": "markdown",
   "metadata": {},
   "source": [
    "### Multiply a number"
   ]
  },
  {
   "cell_type": "code",
   "execution_count": null,
   "metadata": {},
   "outputs": [],
   "source": [
    "from py3d import Vector3\n",
    "a=Vector3(1,-2,3)*3\n",
    "b=3*Vector3(1,-2,3)\n",
    "a,b,a==b"
   ]
  },
  {
   "cell_type": "markdown",
   "metadata": {},
   "source": [
    "### Multiply element by element\n",
    "support multiplication between Vector3,Numpy.ndarray,list and tuple."
   ]
  },
  {
   "cell_type": "code",
   "execution_count": null,
   "metadata": {},
   "outputs": [],
   "source": [
    "from py3d import Vector3\n",
    "from numpy import array\n",
    "Vector3(1,-2,3)*Vector3(1,-1,3),\\\n",
    "Vector3(1,-2,3)*array([1,-1,3]),\\\n",
    "array([1,-1,3])*Vector3(1,-2,3),\\\n",
    "Vector3(1,-1,3)*[1,-2,3],\\\n",
    "(1,-1,3)*Vector3(1,-2,3)"
   ]
  },
  {
   "cell_type": "markdown",
   "metadata": {},
   "source": [
    "### Dot product\n",
    "Two vectors' dot product can be used to calculate angle between them. If angle \n",
    " \n",
    "$\\bf{a}\\cdot\\bf{b}=|\\bf{a}|\\cdot|\\bf{b}|\\cdot cos\\theta$\n",
    "\n",
    "$\\bf{a}\\cdot\\bf{b}=\\bf{b}\\cdot\\bf{a}$\n",
    "\n",
    "*.dot(Vector3):Vector3*\n",
    "\n",
    "dot() will return a new Vector3, the original one wont be changed"
   ]
  },
  {
   "cell_type": "code",
   "execution_count": null,
   "metadata": {},
   "outputs": [],
   "source": [
    "from py3d import Vector3\n",
    "from numpy import cos\n",
    "a=Vector3(1,-2,3)\n",
    "b=Vector3(0,4,-1)\n",
    "product=a.dot(b) # dot product\n",
    "theta=a.angle_to_vector(b)\n",
    "print(a.norm(),b.norm(),cos(theta))\n",
    "print(a.norm()*b.norm()*cos(theta),product)"
   ]
  },
  {
   "cell_type": "code",
   "execution_count": null,
   "metadata": {},
   "outputs": [],
   "source": [
    "import numpy\n",
    "numpy.array([[[1],[2]],[[3],[4]]])"
   ]
  },
  {
   "cell_type": "code",
   "execution_count": null,
   "metadata": {},
   "outputs": [],
   "source": [
    "a.dot(b),b.dot(a),a.dot(b)==b.dot(a)"
   ]
  },
  {
   "cell_type": "code",
   "execution_count": null,
   "metadata": {},
   "outputs": [],
   "source": [
    "from py3d import Vector3\n",
    "a=Vector3.Rand(4)\n",
    "b=Vector3.Rand(4)\n",
    "a.dot(b)"
   ]
  },
  {
   "cell_type": "code",
   "execution_count": null,
   "metadata": {},
   "outputs": [],
   "source": [
    "from py3d import Vector3\n",
    "a=Vector3.Rand(4)\n",
    "b=Vector3(x=1)\n",
    "a.dot(b),b.dot(a)"
   ]
  },
  {
   "cell_type": "markdown",
   "metadata": {},
   "source": [
    "### Cross product\n",
    "\n",
    "$ \\bf{a}\\times\\bf{b}=|\\bf{a}|\\cdot|\\bf{b}|\\cdot sin\\theta$\n",
    "\n",
    "$\\bf{a}\\times\\bf{b}=-\\bf{b}\\times\\bf{a}$\n",
    "```python\n",
    ".cross(Vector3):Vector3\n",
    "```\n",
    "cross() will return a new Vector3, the original one wont be changed."
   ]
  },
  {
   "cell_type": "code",
   "execution_count": null,
   "metadata": {},
   "outputs": [],
   "source": [
    "from py3d import Vector3\n",
    "a=Vector3(1,2,0)\n",
    "b=Vector3(0,-1,3)\n",
    "c=a.cross(b)\n",
    "a.cross(b),b.cross(a) # cross product"
   ]
  },
  {
   "cell_type": "markdown",
   "metadata": {},
   "source": [
    "array([1,2,0]).cross(Vector3(0,-1,3)) is not allowed since numpy.ndarray has no such a function to do cross product. But you can do it by a global function numpy.cross(array1, array2) like this"
   ]
  },
  {
   "cell_type": "code",
   "execution_count": null,
   "metadata": {},
   "outputs": [],
   "source": [
    "from numpy import cross,array\n",
    "from py3d import Vector3\n",
    "cross(array([1,2,0]), Vector3(0,-1,3))"
   ]
  },
  {
   "cell_type": "markdown",
   "metadata": {},
   "source": [
    "Have a look to see the origin vectors and the product vector"
   ]
  },
  {
   "cell_type": "code",
   "execution_count": null,
   "metadata": {},
   "outputs": [],
   "source": [
    "from py3d import Vector3\n",
    "v1=Vector3(1,2,0)\n",
    "v2=Vector3(0,-1,3)\n",
    "vp=Vector3(1,2,0).cross(Vector3(0,-1,3))"
   ]
  },
  {
   "cell_type": "code",
   "execution_count": null,
   "metadata": {},
   "outputs": [],
   "source": [
    "from py3d import Vector3\n",
    "a=Vector3.Rand(4)\n",
    "b=Vector3.Rand(4)\n",
    "c=a.cross(b)"
   ]
  },
  {
   "cell_type": "markdown",
   "metadata": {},
   "source": [
    "## Divide"
   ]
  },
  {
   "cell_type": "markdown",
   "metadata": {},
   "source": [
    "### Divide by scalar"
   ]
  },
  {
   "cell_type": "code",
   "execution_count": null,
   "metadata": {},
   "outputs": [],
   "source": [
    "from py3d import Vector3\n",
    "Vector3(1,2,3)/3"
   ]
  },
  {
   "cell_type": "code",
   "execution_count": null,
   "metadata": {},
   "outputs": [],
   "source": [
    "from py3d import Vector3\n",
    "a=Vector3(3,0,3,n=4)\n",
    "a/3"
   ]
  },
  {
   "cell_type": "markdown",
   "metadata": {},
   "source": [
    "### Divide by vector"
   ]
  },
  {
   "cell_type": "code",
   "execution_count": null,
   "metadata": {},
   "outputs": [],
   "source": [
    "from py3d import Vector3\n",
    "Vector3(1,2,3)/Vector3(1,2,3,n=3)"
   ]
  },
  {
   "cell_type": "markdown",
   "metadata": {},
   "source": [
    "### Divide by Numpy.ndarray, list and tuple\n",
    "Vector3 is divided element by element"
   ]
  },
  {
   "cell_type": "code",
   "execution_count": null,
   "metadata": {},
   "outputs": [],
   "source": [
    "from py3d import Vector3\n",
    "from numpy import array\n",
    "Vector3(1,2,3)/array([1,2,3]), Vector3(1,2,3)/[1,2,3], Vector3(1,2,3)/(1,2,3)"
   ]
  },
  {
   "cell_type": "markdown",
   "metadata": {},
   "source": [
    "## Angle\n",
    "```python\n",
    ".angle_to_vector(v:Vector3):float|ndarray\n",
    "```   \n",
    "It will return the angle (in radian) between two vector. The angle is always positive and smaller than $\\pi$."
   ]
  },
  {
   "cell_type": "code",
   "execution_count": null,
   "metadata": {},
   "outputs": [],
   "source": [
    "from py3d import Vector3\n",
    "v1=Vector3(1,-0.1,0)\n",
    "v2=Vector3(0,1,0)\n",
    "v1.angle_to_vector(v2),v2.angle_to_vector(v1)"
   ]
  },
  {
   "cell_type": "code",
   "execution_count": null,
   "metadata": {},
   "outputs": [
    {
     "data": {
      "text/plain": [
       "array([[2.57665272e-01],\n",
       "       [2.10734243e-08],\n",
       "       [5.24348139e-01]])"
      ]
     },
     "execution_count": 5,
     "metadata": {},
     "output_type": "execute_result"
    }
   ],
   "source": [
    "from py3d import Vector3\n",
    "a=Vector3([[1,2,3],\n",
    "           [4,5,6],\n",
    "           [7,8,9]])\n",
    "b=Vector3([[1,1,3],\n",
    "           [4,5,6],\n",
    "           [7,1,9]])\n",
    "a.angle_to_vector(b)"
   ]
  },
  {
   "cell_type": "markdown",
   "metadata": {},
   "source": [
    "```python\n",
    ".angle_to_plane(normal:Vector3):float|ndarray\n",
    "```\n",
    "It will return the angle (in radian) between a vector and a plane. Result will be positive when normal and the vector have same direction, 0 when the plane and the vector is parallel, and negtive when normal and the vector have different direction."
   ]
  },
  {
   "cell_type": "code",
   "execution_count": null,
   "metadata": {},
   "outputs": [],
   "source": [
    "from py3d import Vector3\n",
    "v=Vector3(1,-0.1,0)\n",
    "normal=Vector3(0,1,0)\n",
    "v.angle_to_plane(normal)"
   ]
  },
  {
   "cell_type": "markdown",
   "metadata": {},
   "source": [
    "## Rotation\n",
    "\n",
    "```python\n",
    ".rotation_to(Vector3):Vector3,float\n",
    "```\n",
    "It will return axis-angle tuple representing the rotation from this vector to another"
   ]
  },
  {
   "cell_type": "code",
   "execution_count": null,
   "metadata": {},
   "outputs": [],
   "source": [
    "from py3d import Vector3\n",
    "v1=Vector3(1,-0.1,0)\n",
    "v2=Vector3(0,1,0)\n",
    "v1.rotation_to(v2),v2.rotation_to(v1)"
   ]
  },
  {
   "cell_type": "code",
   "execution_count": null,
   "metadata": {},
   "outputs": [],
   "source": [
    "from py3d import Vector3\n",
    "a=Vector3([[1,-0.1,0],\n",
    "        [0,1,0]])\n",
    "b=Vector3([[0,1,0],\n",
    "          [1,-0.1,0]])\n",
    "a.rotation_to(b)"
   ]
  },
  {
   "cell_type": "markdown",
   "metadata": {},
   "source": [
    "## Perpendicular\n",
    "\n",
    "$\\bf{a}\\perp\\bf{b}\\Leftrightarrow\\bf{a}\\cdot\\bf{b}=0$\n",
    "\n",
    "$\\bf{a}\\perp\\bf{b}\\Leftrightarrow<\\bf{a},\\bf{b}>=\\pi/2$\n",
    "\n",
    "```python\n",
    "    .is_perpendicular_to_vector(v:Vector3): bool\n",
    "    .is_perpendicular_to_plane(normal:Vector3): bool\n",
    "```"
   ]
  },
  {
   "cell_type": "code",
   "execution_count": null,
   "metadata": {},
   "outputs": [],
   "source": [
    "from py3d import Vector3\n",
    "a=Vector3(0,1,1)\n",
    "b=Vector3(1,0,0)\n",
    "a.is_perpendicular_to_vector(b), a.angle_to_vector(b)"
   ]
  },
  {
   "cell_type": "markdown",
   "metadata": {},
   "source": [
    "## Parallel\n",
    "$\\bf{a}//\\bf{b}(\\bf{b}\\ne\\bf{0})\\Leftrightarrow\\bf{a}=\\lambda\\bf{b}$"
   ]
  },
  {
   "cell_type": "code",
   "execution_count": null,
   "metadata": {},
   "outputs": [],
   "source": [
    "from py3d import Vector3\n",
    "a=Vector3(1,2,3)\n",
    "b=Vector3(2,4,6)\n",
    "plane = Vector3(1,2,)\n",
    "a.is_parallel_to_vector(b),a==b"
   ]
  },
  {
   "cell_type": "markdown",
   "metadata": {},
   "source": [
    "$\\bf{v}\\perp\\bf{0}, \\bf{v}\\cdot\\bf{0}=0$ is always true no matter what $\\bf{v}$ is"
   ]
  },
  {
   "cell_type": "code",
   "execution_count": null,
   "metadata": {},
   "outputs": [],
   "source": [
    "from py3d import Vector3\n",
    "a=Vector3(1,2,3)\n",
    "b=Vector3(-2,3,9)\n",
    "a.dot(Vector3()),a.is_parallel_to_vector(Vector3()),b.is_parallel_to_vector(b)"
   ]
  },
  {
   "cell_type": "markdown",
   "metadata": {},
   "source": [
    "## Projection\n",
    "\n",
    "```python\n",
    ".scalar_projection(v:Vector3):float\n",
    "```\n",
    "```python\n",
    ".vector_projection(v:Vector3):Vector3\n",
    "```"
   ]
  },
  {
   "cell_type": "code",
   "execution_count": 1,
   "metadata": {},
   "outputs": [
    {
     "data": {
      "text/plain": [
       "(array([[2.],\n",
       "        [1.]]),\n",
       " Vector3([[2., 0., 0.],\n",
       "          [0., 1., 0.]]))"
      ]
     },
     "execution_count": 1,
     "metadata": {},
     "output_type": "execute_result"
    }
   ],
   "source": [
    "from py3d import Vector3\n",
    "a=Vector3(2,1,1,2)\n",
    "b=Vector3([[1,0,0],[0,1,0]])\n",
    "a.scalar_projection(b),a.vector_projection(b)"
   ]
  },
  {
   "cell_type": "code",
   "execution_count": 2,
   "metadata": {},
   "outputs": [
    {
     "data": {
      "text/plain": [
       "array([[2.],\n",
       "       [2.],\n",
       "       [2.],\n",
       "       [2.],\n",
       "       [2.]])"
      ]
     },
     "execution_count": 2,
     "metadata": {},
     "output_type": "execute_result"
    }
   ],
   "source": [
    "from py3d import Vector3\n",
    "a=Vector3(2,1,1,5)\n",
    "b=Vector3(1,0,0)\n",
    "a.scalar_projection(b)"
   ]
  },
  {
   "cell_type": "code",
   "execution_count": 3,
   "metadata": {},
   "outputs": [
    {
     "data": {
      "text/plain": [
       "Vector3([1., 0., 0.])"
      ]
     },
     "execution_count": 3,
     "metadata": {},
     "output_type": "execute_result"
    }
   ],
   "source": [
    "from py3d import Vector3\n",
    "a=Vector3(1,2,3)\n",
    "p0=Vector3()\n",
    "p1=Vector3(1,0,0)\n",
    "a.projection_on_line(p0,p1)"
   ]
  },
  {
   "cell_type": "markdown",
   "metadata": {},
   "source": [
    "projection on plane"
   ]
  },
  {
   "cell_type": "code",
   "execution_count": 1,
   "metadata": {},
   "outputs": [
    {
     "ename": "SyntaxError",
     "evalue": "invalid syntax (core.py, line 504)",
     "output_type": "error",
     "traceback": [
      "Traceback \u001b[0;36m(most recent call last)\u001b[0m:\n",
      "  File \u001b[1;32m\"/home/tumiz/.local/lib/python3.8/site-packages/IPython/core/interactiveshell.py\"\u001b[0m, line \u001b[1;32m3444\u001b[0m, in \u001b[1;35mrun_code\u001b[0m\n    exec(code_obj, self.user_global_ns, self.user_ns)\n",
      "  File \u001b[1;32m\"<ipython-input-1-64c4585f86d0>\"\u001b[0m, line \u001b[1;32m1\u001b[0m, in \u001b[1;35m<module>\u001b[0m\n    from py3d import Vector3,Plane\n",
      "\u001b[0;36m  File \u001b[0;32m\"/mnt/d/codes/scenario/py3d/py3d/__init__.py\"\u001b[0;36m, line \u001b[0;32m1\u001b[0;36m, in \u001b[0;35m<module>\u001b[0;36m\u001b[0m\n\u001b[0;31m    from .core import *\u001b[0m\n",
      "\u001b[0;36m  File \u001b[0;32m\"/mnt/d/codes/scenario/py3d/py3d/core.py\"\u001b[0;36m, line \u001b[0;32m504\u001b[0m\n\u001b[0;31m    @classmethod\u001b[0m\n\u001b[0m    ^\u001b[0m\n\u001b[0;31mSyntaxError\u001b[0m\u001b[0;31m:\u001b[0m invalid syntax\n"
     ]
    }
   ],
   "source": [
    "from py3d import Vector3,Plane\n",
    "points=Vector3.Rand(1000)*3\n",
    "points.as_point().render()\n",
    "plane=Plane(Vector3(0.1,0.2,2),Vector3(z=range(-10,0)))\n",
    "points.projection_on_plane(plane).as_point().render()"
   ]
  },
  {
   "cell_type": "code",
   "execution_count": 2,
   "metadata": {},
   "outputs": [
    {
     "data": {
      "text/plain": [
       "Vector3([0.1, 0.2, 2. ])"
      ]
     },
     "execution_count": 2,
     "metadata": {},
     "output_type": "execute_result"
    }
   ],
   "source": [
    "import numpy\n",
    "plane.normal"
   ]
  },
  {
   "cell_type": "code",
   "execution_count": null,
   "metadata": {},
   "outputs": [],
   "source": [
    "points.projection_point_on_plane(plane)[0]"
   ]
  },
  {
   "cell_type": "code",
   "execution_count": null,
   "metadata": {},
   "outputs": [],
   "source": [
    "from py3d import Plane,Vector3\n",
    "p=Plane.from_points(Vector3(x=1).append(Vector3(y=1).append(Vector3(z=1))))\n",
    "points=Vector3.Rand(1000)*3+Vector3(1,2,3)\n",
    "space=points.render_as_points()\n",
    "prjs=points.projection_point_on_plane(p)\n",
    "prjs.render_as_points(space)"
   ]
  },
  {
   "cell_type": "markdown",
   "metadata": {},
   "source": [
    "## Distance, Length, Norm\n",
    "```python\n",
    ".norm():float\n",
    "```"
   ]
  },
  {
   "cell_type": "code",
   "execution_count": null,
   "metadata": {},
   "outputs": [
    {
     "data": {
      "text/plain": [
       "array([3.74165739])"
      ]
     },
     "execution_count": 7,
     "metadata": {},
     "output_type": "execute_result"
    }
   ],
   "source": [
    "from py3d import Vector3\n",
    "Vector3(1,2,3).norm()"
   ]
  },
  {
   "cell_type": "markdown",
   "metadata": {},
   "source": [
    "You can use this function to calculate distance between two points."
   ]
  },
  {
   "cell_type": "code",
   "execution_count": null,
   "metadata": {},
   "outputs": [
    {
     "data": {
      "text/plain": [
       "array([[0.45377086],\n",
       "       [0.63322717],\n",
       "       [0.75436726],\n",
       "       [0.59219558],\n",
       "       [0.45147847],\n",
       "       [0.24983228],\n",
       "       [0.74351333],\n",
       "       [1.10241726],\n",
       "       [0.91153465],\n",
       "       [0.63283473]])"
      ]
     },
     "execution_count": 18,
     "metadata": {},
     "output_type": "execute_result"
    }
   ],
   "source": [
    "from py3d import Vector3\n",
    "point1=Vector3.Rand(10)\n",
    "point2=Vector3.Rand(10)\n",
    "(point1-point2).norm()"
   ]
  },
  {
   "cell_type": "code",
   "execution_count": null,
   "metadata": {},
   "outputs": [
    {
     "data": {
      "text/plain": [
       "array([[0.89041432],\n",
       "       [1.00569873],\n",
       "       [1.06752422],\n",
       "       [0.86360319],\n",
       "       [1.58105827]])"
      ]
     },
     "execution_count": 11,
     "metadata": {},
     "output_type": "execute_result"
    }
   ],
   "source": [
    "from py3d import Vector3\n",
    "points=Vector3.Rand(5)\n",
    "points.norm()"
   ]
  },
  {
   "cell_type": "markdown",
   "metadata": {},
   "source": [
    "Calculate distances between a point and a collection of points"
   ]
  },
  {
   "cell_type": "code",
   "execution_count": null,
   "metadata": {},
   "outputs": [
    {
     "data": {
      "text/plain": [
       "(Vector3([[0.90179409, 0.66308096, 0.4286608 ],\n",
       "          [0.27127105, 0.21439166, 0.31139617],\n",
       "          [0.31976605, 0.36811823, 0.94761485],\n",
       "          [0.38087246, 0.36596999, 0.32780979],\n",
       "          [0.85684111, 0.65169227, 0.17675312],\n",
       "          [0.31807634, 0.73286218, 0.48103001],\n",
       "          [0.0251112 , 0.48045607, 0.57038746]]),\n",
       " array([[1.72024207],\n",
       "        [1.45008984],\n",
       "        [1.79789867],\n",
       "        [1.53513914],\n",
       "        [1.66728027],\n",
       "        [1.92333592],\n",
       "        [1.8621225 ]]))"
      ]
     },
     "execution_count": 12,
     "metadata": {},
     "output_type": "execute_result"
    }
   ],
   "source": [
    "from py3d import Vector3\n",
    "p=Vector3(1,-1,0)\n",
    "points=Vector3.Rand(7)\n",
    "points,(p-points).norm()"
   ]
  },
  {
   "cell_type": "markdown",
   "metadata": {},
   "source": [
    "## Normalize\n",
    "\n",
    "<font color=\"red\">*! Zero vector will return zero vector*</font>"
   ]
  },
  {
   "cell_type": "markdown",
   "metadata": {},
   "source": [
    "**.U**, get a new vector, which is the unit vector of the origin"
   ]
  },
  {
   "cell_type": "code",
   "execution_count": 2,
   "metadata": {},
   "outputs": [
    {
     "data": {
      "text/plain": [
       "Vector3([0.26726124, 0.53452248, 0.80178373])"
      ]
     },
     "execution_count": 2,
     "metadata": {},
     "output_type": "execute_result"
    }
   ],
   "source": [
    "from py3d import Vector3\n",
    "Vector3(1,2,3).U"
   ]
  },
  {
   "cell_type": "code",
   "execution_count": 3,
   "metadata": {},
   "outputs": [
    {
     "data": {
      "text/plain": [
       "Vector3([[0.26726124, 0.53452248, 0.80178373],\n",
       "         [0.        , 0.        , 0.        ]])"
      ]
     },
     "execution_count": 3,
     "metadata": {},
     "output_type": "execute_result"
    }
   ],
   "source": [
    "from py3d import Vector3\n",
    "Vector3([[1,2,3],[0,0,0]]).U"
   ]
  },
  {
   "cell_type": "markdown",
   "metadata": {},
   "source": [
    "Use unit vector to draw a sphere"
   ]
  },
  {
   "cell_type": "code",
   "execution_count": 4,
   "metadata": {},
   "outputs": [
    {
     "name": "stdout",
     "output_type": "stream",
     "text": [
      "click http://localhost:8000/view/139775458885296 to view in browser\n"
     ]
    },
    {
     "data": {
      "text/html": [
       "\n",
       "        <iframe\n",
       "            width=\"100%\"\n",
       "            height=\"600px\"\n",
       "            src=\"http://localhost:8000/view/139775458885296\"\n",
       "            frameborder=\"0\"\n",
       "            allowfullscreen\n",
       "            \n",
       "        ></iframe>\n",
       "        "
      ],
      "text/plain": [
       "<IPython.lib.display.IFrame at 0x7f20028f9e20>"
      ]
     },
     "metadata": {},
     "output_type": "display_data"
    }
   ],
   "source": [
    "from py3d import Vector3,Color\n",
    "import numpy\n",
    "points=(Vector3.Rand(10000)-Vector3(0.5,0.5,0.5)).U*3\n",
    "point=points.as_point()\n",
    "point.color=Color(g=1,a=0.5)\n",
    "point.color[(point.vertice.z>1) & (point.vertice.x>0)]=Color(r=1)\n",
    "point.point_size=0.02\n",
    "point.render()"
   ]
  },
  {
   "cell_type": "code",
   "execution_count": 6,
   "metadata": {},
   "outputs": [
    {
     "data": {
      "text/plain": [
       "Transform([[[1., 0., 0., 0.],\n",
       "            [0., 2., 0., 0.],\n",
       "            [0., 0., 3., 0.],\n",
       "            [0., 0., 0., 1.]],\n",
       "\n",
       "           [[1., 0., 0., 0.],\n",
       "            [0., 2., 0., 0.],\n",
       "            [0., 0., 3., 0.],\n",
       "            [0., 0., 0., 1.]],\n",
       "\n",
       "           [[1., 0., 0., 0.],\n",
       "            [0., 2., 0., 0.],\n",
       "            [0., 0., 3., 0.],\n",
       "            [0., 0., 0., 1.]]])"
      ]
     },
     "execution_count": 6,
     "metadata": {},
     "output_type": "execute_result"
    }
   ],
   "source": [
    "from py3d import Vector3\n",
    "Vector3(1,2,3,n=3).as_scaling()"
   ]
  },
  {
   "cell_type": "code",
   "execution_count": 7,
   "metadata": {},
   "outputs": [
    {
     "data": {
      "text/plain": [
       "Transform([[[1., 0., 0., 0.],\n",
       "            [0., 1., 0., 0.],\n",
       "            [0., 0., 1., 0.],\n",
       "            [0., 0., 0., 1.]],\n",
       "\n",
       "           [[1., 0., 0., 0.],\n",
       "            [0., 1., 0., 0.],\n",
       "            [0., 0., 1., 0.],\n",
       "            [0., 0., 0., 1.]]])"
      ]
     },
     "execution_count": 7,
     "metadata": {},
     "output_type": "execute_result"
    }
   ],
   "source": [
    "from py3d import Vector3\n",
    "Vector3(n=2).as_translation()"
   ]
  },
  {
   "cell_type": "code",
   "execution_count": 8,
   "metadata": {},
   "outputs": [
    {
     "data": {
      "text/plain": [
       "Vector3([[[0., 0., 0., 1.],\n",
       "          [0., 0., 0., 1.],\n",
       "          [0., 0., 0., 1.],\n",
       "          [0., 0., 0., 1.],\n",
       "          [0., 0., 0., 1.]],\n",
       "\n",
       "         [[0., 0., 0., 1.],\n",
       "          [0., 0., 0., 1.],\n",
       "          [0., 0., 0., 1.],\n",
       "          [0., 0., 0., 1.],\n",
       "          [0., 0., 0., 1.]]])"
      ]
     },
     "execution_count": 8,
     "metadata": {},
     "output_type": "execute_result"
    }
   ],
   "source": [
    "from py3d import Vector3,Rotation3\n",
    "Vector3(n=5).H@Vector3(1,1,1,n=2).as_scaling()@Rotation3(2).to_matrix44()@Vector3(n=2).as_translation()"
   ]
  },
  {
   "cell_type": "markdown",
   "metadata": {},
   "source": [
    "# Rotation3 - orientation, rotation and angular velocity"
   ]
  },
  {
   "cell_type": "markdown",
   "metadata": {},
   "source": [
    "Rotation3 is a $n\\times3\\times3$ matrix, called rotation matrix. Rotation3 can represent multiple rotations in 3d space."
   ]
  },
  {
   "cell_type": "code",
   "execution_count": null,
   "metadata": {
    "scrolled": true
   },
   "outputs": [
    {
     "data": {
      "text/plain": [
       "Rotation3([[[1., 0., 0.],\n",
       "            [0., 1., 0.],\n",
       "            [0., 0., 1.]],\n",
       "\n",
       "           [[1., 0., 0.],\n",
       "            [0., 1., 0.],\n",
       "            [0., 0., 1.]],\n",
       "\n",
       "           [[1., 0., 0.],\n",
       "            [0., 1., 0.],\n",
       "            [0., 0., 1.]]])"
      ]
     },
     "execution_count": 1,
     "metadata": {},
     "output_type": "execute_result"
    }
   ],
   "source": [
    "from py3d import Rotation3\n",
    "Rotation3(3)"
   ]
  },
  {
   "cell_type": "code",
   "execution_count": null,
   "metadata": {},
   "outputs": [
    {
     "data": {
      "text/plain": [
       "Rotation3([[[[1., 0., 0.],\n",
       "             [0., 1., 0.],\n",
       "             [0., 0., 1.]],\n",
       "\n",
       "            [[1., 0., 0.],\n",
       "             [0., 1., 0.],\n",
       "             [0., 0., 1.]],\n",
       "\n",
       "            [[1., 0., 0.],\n",
       "             [0., 1., 0.],\n",
       "             [0., 0., 1.]]],\n",
       "\n",
       "\n",
       "           [[[1., 0., 0.],\n",
       "             [0., 1., 0.],\n",
       "             [0., 0., 1.]],\n",
       "\n",
       "            [[1., 0., 0.],\n",
       "             [0., 1., 0.],\n",
       "             [0., 0., 1.]],\n",
       "\n",
       "            [[1., 0., 0.],\n",
       "             [0., 1., 0.],\n",
       "             [0., 0., 1.]]]])"
      ]
     },
     "execution_count": 2,
     "metadata": {},
     "output_type": "execute_result"
    }
   ],
   "source": [
    "from py3d import Rotation3\n",
    "Rotation3(2,3)"
   ]
  },
  {
   "cell_type": "code",
   "execution_count": null,
   "metadata": {},
   "outputs": [
    {
     "data": {
      "text/plain": [
       "array([[1., 0., 0., 0.],\n",
       "       [0., 1., 0., 0.],\n",
       "       [0., 0., 1., 0.],\n",
       "       [0., 0., 0., 1.]])"
      ]
     },
     "execution_count": 6,
     "metadata": {},
     "output_type": "execute_result"
    }
   ],
   "source": [
    "from py3d import Rotation3\n",
    "Rotation3().to_matrix44()"
   ]
  },
  {
   "cell_type": "code",
   "execution_count": null,
   "metadata": {},
   "outputs": [
    {
     "data": {
      "text/plain": [
       "array([[[ 1.        ,  0.        ,  0.        ,  0.        ],\n",
       "        [ 0.        ,  1.        ,  0.        ,  0.        ],\n",
       "        [ 0.        , -0.        ,  1.        ,  0.        ],\n",
       "        [ 0.        ,  0.        ,  0.        ,  1.        ]],\n",
       "\n",
       "       [[ 1.        ,  0.        ,  0.        ,  0.        ],\n",
       "        [ 0.        ,  0.54030231,  0.84147098,  0.        ],\n",
       "        [ 0.        , -0.84147098,  0.54030231,  0.        ],\n",
       "        [ 0.        ,  0.        ,  0.        ,  1.        ]],\n",
       "\n",
       "       [[ 1.        ,  0.        ,  0.        ,  0.        ],\n",
       "        [ 0.        , -0.41614684,  0.90929743,  0.        ],\n",
       "        [ 0.        , -0.90929743, -0.41614684,  0.        ],\n",
       "        [ 0.        ,  0.        ,  0.        ,  1.        ]],\n",
       "\n",
       "       [[ 1.        ,  0.        ,  0.        ,  0.        ],\n",
       "        [ 0.        , -0.9899925 ,  0.14112001,  0.        ],\n",
       "        [ 0.        , -0.14112001, -0.9899925 ,  0.        ],\n",
       "        [ 0.        ,  0.        ,  0.        ,  1.        ]],\n",
       "\n",
       "       [[ 1.        ,  0.        ,  0.        ,  0.        ],\n",
       "        [ 0.        , -0.65364362, -0.7568025 ,  0.        ],\n",
       "        [ 0.        ,  0.7568025 , -0.65364362,  0.        ],\n",
       "        [ 0.        ,  0.        ,  0.        ,  1.        ]],\n",
       "\n",
       "       [[ 1.        ,  0.        ,  0.        ,  0.        ],\n",
       "        [ 0.        ,  0.28366219, -0.95892427,  0.        ],\n",
       "        [ 0.        ,  0.95892427,  0.28366219,  0.        ],\n",
       "        [ 0.        ,  0.        ,  0.        ,  1.        ]],\n",
       "\n",
       "       [[ 1.        ,  0.        ,  0.        ,  0.        ],\n",
       "        [ 0.        ,  0.96017029, -0.2794155 ,  0.        ],\n",
       "        [ 0.        ,  0.2794155 ,  0.96017029,  0.        ],\n",
       "        [ 0.        ,  0.        ,  0.        ,  1.        ]],\n",
       "\n",
       "       [[ 1.        ,  0.        ,  0.        ,  0.        ],\n",
       "        [ 0.        ,  0.75390225,  0.6569866 ,  0.        ],\n",
       "        [ 0.        , -0.6569866 ,  0.75390225,  0.        ],\n",
       "        [ 0.        ,  0.        ,  0.        ,  1.        ]],\n",
       "\n",
       "       [[ 1.        ,  0.        ,  0.        ,  0.        ],\n",
       "        [ 0.        , -0.14550003,  0.98935825,  0.        ],\n",
       "        [ 0.        , -0.98935825, -0.14550003,  0.        ],\n",
       "        [ 0.        ,  0.        ,  0.        ,  1.        ]],\n",
       "\n",
       "       [[ 1.        ,  0.        ,  0.        ,  0.        ],\n",
       "        [ 0.        , -0.91113026,  0.41211849,  0.        ],\n",
       "        [ 0.        , -0.41211849, -0.91113026,  0.        ],\n",
       "        [ 0.        ,  0.        ,  0.        ,  1.        ]]])"
      ]
     },
     "execution_count": 7,
     "metadata": {},
     "output_type": "execute_result"
    }
   ],
   "source": [
    "from py3d import Rotation3\n",
    "Rotation3.Rx(range(10)).to_matrix44()"
   ]
  },
  {
   "cell_type": "markdown",
   "metadata": {},
   "source": [
    "```python\n",
    "Rotation3.Rx(a:list|tuple|numpy.ndarray)\n",
    "```\n",
    "`a` is an angle list.\n",
    "The function will return a 3d rotation matrix with length same as `a` describing rotations around axis x `Vector3(x=1)`.\n",
    "By sympy, let us have a look at what the matrix will looks like "
   ]
  },
  {
   "cell_type": "code",
   "execution_count": null,
   "metadata": {},
   "outputs": [
    {
     "data": {
      "text/latex": [
       "$\\displaystyle \\left[\\begin{matrix}1 & 0 & 0\\\\0 & \\cos{\\left(x \\right)} & \\sin{\\left(x \\right)}\\\\0 & - \\sin{\\left(x \\right)} & \\cos{\\left(x \\right)}\\end{matrix}\\right]$"
      ],
      "text/plain": [
       "Matrix([\n",
       "[1,       0,      0],\n",
       "[0,  cos(x), sin(x)],\n",
       "[0, -sin(x), cos(x)]])"
      ]
     },
     "execution_count": 4,
     "metadata": {},
     "output_type": "execute_result"
    }
   ],
   "source": [
    "from sympy import symbols,sin,cos\n",
    "x,y,z=symbols(\"x,y,z\")\n",
    "from sympy import Matrix\n",
    "Rx=Matrix([\n",
    "    [1, 0, 0],\n",
    "    [0, cos(x),sin(x)],\n",
    "    [0,-sin(x),cos(x)]\n",
    "])\n",
    "Rx"
   ]
  },
  {
   "cell_type": "code",
   "execution_count": null,
   "metadata": {},
   "outputs": [
    {
     "data": {
      "text/plain": [
       "Rotation3([[[ 1.        ,  0.        ,  0.        ],\n",
       "            [ 0.        ,  1.        ,  0.        ],\n",
       "            [ 0.        , -0.        ,  1.        ]],\n",
       "\n",
       "           [[ 1.        ,  0.        ,  0.        ],\n",
       "            [ 0.        ,  0.54030231,  0.84147098],\n",
       "            [ 0.        , -0.84147098,  0.54030231]],\n",
       "\n",
       "           [[ 1.        ,  0.        ,  0.        ],\n",
       "            [ 0.        , -0.41614684,  0.90929743],\n",
       "            [ 0.        , -0.90929743, -0.41614684]],\n",
       "\n",
       "           [[ 1.        ,  0.        ,  0.        ],\n",
       "            [ 0.        , -0.9899925 ,  0.14112001],\n",
       "            [ 0.        , -0.14112001, -0.9899925 ]]])"
      ]
     },
     "execution_count": 8,
     "metadata": {},
     "output_type": "execute_result"
    }
   ],
   "source": [
    "from py3d import Rotation3\n",
    "import numpy\n",
    "Rotation3.Rx([0,1,2,3])"
   ]
  },
  {
   "cell_type": "markdown",
   "metadata": {},
   "source": [
    "The same is `Rotation3.Ry(a:list|tuple|numpy.ndarray)` and `Rotation3.Rz(a:list|tuple|numpy.ndarray)`"
   ]
  },
  {
   "cell_type": "code",
   "execution_count": null,
   "metadata": {},
   "outputs": [
    {
     "data": {
      "text/latex": [
       "$\\displaystyle \\left[\\begin{matrix}\\cos{\\left(y \\right)} & 0 & - \\sin{\\left(y \\right)}\\\\0 & 1 & 0\\\\\\sin{\\left(y \\right)} & 0 & \\cos{\\left(y \\right)}\\end{matrix}\\right]$"
      ],
      "text/plain": [
       "Matrix([\n",
       "[cos(y), 0, -sin(y)],\n",
       "[     0, 1,       0],\n",
       "[sin(y), 0,  cos(y)]])"
      ]
     },
     "execution_count": 6,
     "metadata": {},
     "output_type": "execute_result"
    }
   ],
   "source": [
    "from sympy import symbols,sin,cos\n",
    "x,y,z=symbols(\"x,y,z\")\n",
    "from sympy import Matrix\n",
    "Ry=Matrix([\n",
    "    [cos(y),0,-sin(y)],\n",
    "    [0, 1, 0],\n",
    "    [sin(y),0,cos(y)]\n",
    "])\n",
    "Ry"
   ]
  },
  {
   "cell_type": "code",
   "execution_count": null,
   "metadata": {},
   "outputs": [
    {
     "data": {
      "text/latex": [
       "$\\displaystyle \\left[\\begin{matrix}\\cos{\\left(z \\right)} & \\sin{\\left(z \\right)} & 0\\\\- \\sin{\\left(z \\right)} & \\cos{\\left(z \\right)} & 0\\\\0 & 0 & 1\\end{matrix}\\right]$"
      ],
      "text/plain": [
       "Matrix([\n",
       "[ cos(z), sin(z), 0],\n",
       "[-sin(z), cos(z), 0],\n",
       "[      0,      0, 1]])"
      ]
     },
     "execution_count": 7,
     "metadata": {},
     "output_type": "execute_result"
    }
   ],
   "source": [
    "from sympy import symbols,sin,cos\n",
    "x,y,z=symbols(\"x,y,z\")\n",
    "from sympy import Matrix\n",
    "Rz=Matrix([\n",
    "    [cos(z),sin(z),0],\n",
    "    [-sin(z),cos(z),0],\n",
    "    [0,0,1]\n",
    "])\n",
    "Rz"
   ]
  },
  {
   "cell_type": "code",
   "execution_count": null,
   "metadata": {},
   "outputs": [
    {
     "data": {
      "text/latex": [
       "$\\displaystyle \\left[\\begin{matrix}\\cos{\\left(y \\right)} \\cos{\\left(z \\right)} & \\sin{\\left(z \\right)} \\cos{\\left(y \\right)} & - \\sin{\\left(y \\right)}\\\\\\sin{\\left(x \\right)} \\sin{\\left(y \\right)} \\cos{\\left(z \\right)} - \\sin{\\left(z \\right)} \\cos{\\left(x \\right)} & \\sin{\\left(x \\right)} \\sin{\\left(y \\right)} \\sin{\\left(z \\right)} + \\cos{\\left(x \\right)} \\cos{\\left(z \\right)} & \\sin{\\left(x \\right)} \\cos{\\left(y \\right)}\\\\\\sin{\\left(x \\right)} \\sin{\\left(z \\right)} + \\sin{\\left(y \\right)} \\cos{\\left(x \\right)} \\cos{\\left(z \\right)} & - \\sin{\\left(x \\right)} \\cos{\\left(z \\right)} + \\sin{\\left(y \\right)} \\sin{\\left(z \\right)} \\cos{\\left(x \\right)} & \\cos{\\left(x \\right)} \\cos{\\left(y \\right)}\\end{matrix}\\right]$"
      ],
      "text/plain": [
       "Matrix([\n",
       "[                       cos(y)*cos(z),                         sin(z)*cos(y),       -sin(y)],\n",
       "[sin(x)*sin(y)*cos(z) - sin(z)*cos(x),  sin(x)*sin(y)*sin(z) + cos(x)*cos(z), sin(x)*cos(y)],\n",
       "[sin(x)*sin(z) + sin(y)*cos(x)*cos(z), -sin(x)*cos(z) + sin(y)*sin(z)*cos(x), cos(x)*cos(y)]])"
      ]
     },
     "execution_count": 8,
     "metadata": {},
     "output_type": "execute_result"
    }
   ],
   "source": [
    "Rx*Ry*Rz"
   ]
  },
  {
   "cell_type": "markdown",
   "metadata": {},
   "source": [
    "rotate points"
   ]
  },
  {
   "cell_type": "code",
   "execution_count": 2,
   "metadata": {},
   "outputs": [
    {
     "name": "stdout",
     "output_type": "stream",
     "text": [
      "(4, 1000, 4)\n",
      "click http://localhost:8000/view/eafa7b80-448c-11ec-89e1-7741d1a912c3 to view in browser\n"
     ]
    },
    {
     "data": {
      "text/html": [
       "\n",
       "        <iframe\n",
       "            width=\"100%\"\n",
       "            height=\"600px\"\n",
       "            src=\"http://localhost:8000/view/eafa7b80-448c-11ec-89e1-7741d1a912c3\"\n",
       "            frameborder=\"0\"\n",
       "            allowfullscreen\n",
       "            \n",
       "        ></iframe>\n",
       "        "
      ],
      "text/plain": [
       "<IPython.lib.display.IFrame at 0x7f952c23b790>"
      ]
     },
     "metadata": {},
     "output_type": "display_data"
    }
   ],
   "source": [
    "from py3d import Vector3,Rotation3\n",
    "from numpy import sin,pi\n",
    "points=Vector3.Rand(1000)\n",
    "rotation=Rotation3.Ry([0,pi/4,pi*2/4,pi*3/4])\n",
    "points_=points@rotation\n",
    "points_[1]+=Vector3(y=1)\n",
    "points_[2]+=Vector3(y=2)\n",
    "points_[3]+=Vector3(y=3)\n",
    "points_.as_point().render()"
   ]
  },
  {
   "cell_type": "markdown",
   "metadata": {},
   "source": [
    "from angle axis"
   ]
  },
  {
   "cell_type": "code",
   "execution_count": 1,
   "metadata": {},
   "outputs": [
    {
     "name": "stdout",
     "output_type": "stream",
     "text": [
      "(5, 1000, 4)\n",
      "click http://localhost:8000/view/ddaf4ef6-448c-11ec-89e1-7741d1a912c3 to view in browser\n"
     ]
    },
    {
     "data": {
      "text/html": [
       "\n",
       "        <iframe\n",
       "            width=\"100%\"\n",
       "            height=\"600px\"\n",
       "            src=\"http://localhost:8000/view/ddaf4ef6-448c-11ec-89e1-7741d1a912c3\"\n",
       "            frameborder=\"0\"\n",
       "            allowfullscreen\n",
       "            \n",
       "        ></iframe>\n",
       "        "
      ],
      "text/plain": [
       "<IPython.lib.display.IFrame at 0x7f951cf65820>"
      ]
     },
     "metadata": {},
     "output_type": "display_data"
    }
   ],
   "source": [
    "from py3d import Rotation3,pi,Vector3\n",
    "r=Rotation3.from_angle_axis([0,pi/2,pi,pi*3/2,2*pi],Vector3(1,1,1))\n",
    "points=Vector3.Rand(1000)+Vector3(1,0,0)\n",
    "(points@r).as_point().render()"
   ]
  },
  {
   "cell_type": "code",
   "execution_count": null,
   "metadata": {},
   "outputs": [
    {
     "data": {
      "text/plain": [
       "array([[ 0.        , -0.        ,  0.        ],\n",
       "       [ 0.78539816,  1.        ,  0.        ],\n",
       "       [ 1.57079633,  1.        ,  0.        ],\n",
       "       [ 2.35619449,  1.        ,  0.        ]])"
      ]
     },
     "execution_count": 7,
     "metadata": {},
     "output_type": "execute_result"
    }
   ],
   "source": [
    "from py3d import Rotation3,pi\n",
    "r=Rotation3.from_eular_extrinsic(x=[0,pi/4,pi*2/4,pi*3/4],y=[0,1,1,1],z=[0,0,0,0])\n",
    "r.to_eular_extrinsic()"
   ]
  },
  {
   "cell_type": "code",
   "execution_count": null,
   "metadata": {},
   "outputs": [
    {
     "data": {
      "text/latex": [
       "$\\displaystyle \\left[\\begin{matrix}\\cos{\\left(y \\right)} \\cos{\\left(z \\right)} & \\sin{\\left(z \\right)} \\cos{\\left(y \\right)} & - \\sin{\\left(y \\right)}\\\\\\sin{\\left(x \\right)} \\sin{\\left(y \\right)} \\cos{\\left(z \\right)} - \\sin{\\left(z \\right)} \\cos{\\left(x \\right)} & \\sin{\\left(x \\right)} \\sin{\\left(y \\right)} \\sin{\\left(z \\right)} + \\cos{\\left(x \\right)} \\cos{\\left(z \\right)} & \\sin{\\left(x \\right)} \\cos{\\left(y \\right)}\\\\\\sin{\\left(x \\right)} \\sin{\\left(z \\right)} + \\sin{\\left(y \\right)} \\cos{\\left(x \\right)} \\cos{\\left(z \\right)} & - \\sin{\\left(x \\right)} \\cos{\\left(z \\right)} + \\sin{\\left(y \\right)} \\sin{\\left(z \\right)} \\cos{\\left(x \\right)} & \\cos{\\left(x \\right)} \\cos{\\left(y \\right)}\\end{matrix}\\right]$"
      ],
      "text/plain": [
       "Matrix([\n",
       "[                       cos(y)*cos(z),                         sin(z)*cos(y),       -sin(y)],\n",
       "[sin(x)*sin(y)*cos(z) - sin(z)*cos(x),  sin(x)*sin(y)*sin(z) + cos(x)*cos(z), sin(x)*cos(y)],\n",
       "[sin(x)*sin(z) + sin(y)*cos(x)*cos(z), -sin(x)*cos(z) + sin(y)*sin(z)*cos(x), cos(x)*cos(y)]])"
      ]
     },
     "execution_count": 12,
     "metadata": {},
     "output_type": "execute_result"
    }
   ],
   "source": [
    "from sympy import symbols,sin,cos\n",
    "x,y,z=symbols(\"x,y,z\")\n",
    "from sympy import Matrix\n",
    "Rx=Matrix([\n",
    "    [1, 0, 0],\n",
    "    [0, cos(x),sin(x)],\n",
    "    [0,-sin(x),cos(x)]\n",
    "])\n",
    "Ry=Matrix([\n",
    "    [cos(y),0,-sin(y)],\n",
    "    [0, 1, 0],\n",
    "    [sin(y),0,cos(y)]\n",
    "])\n",
    "Rz=Matrix([\n",
    "    [cos(z),sin(z),0],\n",
    "    [-sin(z),cos(z),0],\n",
    "    [0,0,1]\n",
    "])\n",
    "Rx*Ry*Rz"
   ]
  },
  {
   "cell_type": "code",
   "execution_count": null,
   "metadata": {},
   "outputs": [
    {
     "data": {
      "text/plain": [
       "array([[ 0.        , -1.        , -0.        ],\n",
       "       [-0.78539816, -1.        , -0.        ],\n",
       "       [-1.57079633, -1.        , -0.        ],\n",
       "       [-2.35619449, -1.        , -0.        ]])"
      ]
     },
     "execution_count": 7,
     "metadata": {},
     "output_type": "execute_result"
    }
   ],
   "source": [
    "from py3d import Rotation3,pi\n",
    "r=Rotation3.from_eular_intrinsic([0,pi/4,pi*2/4,pi*3/4],[1]*4,[0]*4)\n",
    "r.to_eular_intrinsic()"
   ]
  },
  {
   "cell_type": "code",
   "execution_count": null,
   "metadata": {},
   "outputs": [
    {
     "data": {
      "text/plain": [
       "Vector3([ 6.123234e-17,  0.000000e+00, -1.000000e+00])"
      ]
     },
     "execution_count": 8,
     "metadata": {},
     "output_type": "execute_result"
    }
   ],
   "source": [
    "from py3d import Rotation3,pi,Vector3\n",
    "r=Rotation3.from_eular_extrinsic(pi/2,pi/2,0)\n",
    "Vector3(x=1)@r"
   ]
  },
  {
   "cell_type": "code",
   "execution_count": null,
   "metadata": {},
   "outputs": [
    {
     "data": {
      "text/plain": [
       "Vector3([ 6.123234e-17,  1.000000e+00, -6.123234e-17])"
      ]
     },
     "execution_count": 9,
     "metadata": {},
     "output_type": "execute_result"
    }
   ],
   "source": [
    "from py3d import Rotation3,pi,Vector3\n",
    "r=Rotation3.from_eular_intrinsic(pi/2,pi/2,0)\n",
    "Vector3(x=1)@r"
   ]
  },
  {
   "cell_type": "code",
   "execution_count": null,
   "metadata": {},
   "outputs": [
    {
     "data": {
      "text/plain": [
       "Vector3([ 3.74939946e-33,  1.00000000e+00, -6.12323400e-17])"
      ]
     },
     "execution_count": 10,
     "metadata": {},
     "output_type": "execute_result"
    }
   ],
   "source": [
    "from py3d import Rotation3,pi,Vector3\n",
    "r=Rotation3.from_eular_intrinsic(0,pi/2,pi/2)\n",
    "Vector3(x=1)@r"
   ]
  },
  {
   "cell_type": "code",
   "execution_count": null,
   "metadata": {},
   "outputs": [
    {
     "data": {
      "text/plain": [
       "Rotation3([[[ 0.93584986,  0.29993001, -0.18500548],\n",
       "            [-0.18881273,  0.87003836,  0.45539324],\n",
       "            [ 0.29754797, -0.39124831,  0.87085588]],\n",
       "\n",
       "           [[ 0.65709966,  0.74808562, -0.09267111],\n",
       "            [-0.60595419,  0.59733606,  0.52536574],\n",
       "            [ 0.44837435, -0.2890632 ,  0.84581494]],\n",
       "\n",
       "           [[ 0.52726554,  0.54613731, -0.65094169],\n",
       "            [-0.37677378,  0.83692435,  0.39698761],\n",
       "            [ 0.7615987 ,  0.03593987,  0.64705158]],\n",
       "\n",
       "           [[ 0.6224155 ,  0.77987684, -0.06626507],\n",
       "            [-0.4556128 ,  0.42985627,  0.77951303],\n",
       "            [ 0.63640861, -0.45498978,  0.62287108]],\n",
       "\n",
       "           [[ 0.87796432,  0.43342088, -0.2032855 ],\n",
       "            [-0.2290835 ,  0.7532335 ,  0.6165712 ],\n",
       "            [ 0.42035628, -0.49475816,  0.76060171]],\n",
       "\n",
       "           [[ 0.81155309,  0.54316278, -0.21530391],\n",
       "            [-0.49309644,  0.83438009,  0.24630422],\n",
       "            [ 0.31342858, -0.09372336,  0.94497537]],\n",
       "\n",
       "           [[ 0.60671974,  0.78573919, -0.12043708],\n",
       "            [-0.64028869,  0.57284677,  0.51173917],\n",
       "            [ 0.47108551, -0.23336776,  0.85065735]],\n",
       "\n",
       "           [[ 0.58880387,  0.77170528, -0.24037671],\n",
       "            [-0.74477568,  0.63354397,  0.20959775],\n",
       "            [ 0.31403691,  0.05561476,  0.94778047]],\n",
       "\n",
       "           [[ 0.32678531,  0.43192287, -0.84062714],\n",
       "            [-0.33886077,  0.88386866,  0.32241211],\n",
       "            [ 0.88226115,  0.17949602,  0.43519701]],\n",
       "\n",
       "           [[ 0.90377699,  0.23742778, -0.35611121],\n",
       "            [-0.15786139,  0.95828286,  0.23827242],\n",
       "            [ 0.39782776, -0.15912892,  0.90355468]]])"
      ]
     },
     "execution_count": 2,
     "metadata": {},
     "output_type": "execute_result"
    }
   ],
   "source": [
    "from py3d import Rotation3\n",
    "Rotation3.Rand(10)"
   ]
  },
  {
   "cell_type": "markdown",
   "metadata": {},
   "source": [
    "## Quaternion\n",
    "Quaternion is a 4-tuple, which is a more concise representation than a rotation matrix. And quaternion is a complex number."
   ]
  },
  {
   "cell_type": "code",
   "execution_count": null,
   "metadata": {
    "scrolled": true
   },
   "outputs": [
    {
     "data": {
      "text/latex": [
       "$\\displaystyle \\left(\\omega \\omega' - x x' - y y' - z z'\\right) + \\left(\\omega x' + \\omega' x + y z' - y' z\\right) i + \\left(\\omega y' + \\omega' y - x z' + x' z\\right) j + \\left(\\omega z' + \\omega' z + x y' - x' y\\right) k$"
      ],
      "text/plain": [
       "(\\omega*\\omega' - x*x' - y*y' - z*z') + (\\omega*x' + \\omega'*x + y*z' - y'*z)*i + (\\omega*y' + \\omega'*y - x*z' + x'*z)*j + (\\omega*z' + \\omega'*z + x*y' - x'*y)*k"
      ]
     },
     "execution_count": 5,
     "metadata": {},
     "output_type": "execute_result"
    }
   ],
   "source": [
    "from sympy import symbols,Quaternion\n",
    "w,x,y,z,w_,x_,y_,z_=symbols(\"\\omega,x,y,z,\\omega',x',y',z'\")\n",
    "q=Quaternion(w,x,y,z)\n",
    "q_=Quaternion(w_,x_,y_,z_)\n",
    "q*q_"
   ]
  },
  {
   "cell_type": "markdown",
   "metadata": {},
   "source": [
    "Express a point $[x,y,z]$ in quaternion way $(0,x,y,z)$"
   ]
  },
  {
   "cell_type": "code",
   "execution_count": null,
   "metadata": {},
   "outputs": [
    {
     "data": {
      "text/latex": [
       "$\\displaystyle 0 + p_{x} i + p_{y} j + p_{z} k$"
      ],
      "text/plain": [
       "0 + p_x*i + p_y*j + p_z*k"
      ]
     },
     "execution_count": 6,
     "metadata": {},
     "output_type": "execute_result"
    }
   ],
   "source": [
    "from sympy import symbols,Quaternion\n",
    "px,py,pz=symbols(\"p_x,p_y,p_z\")\n",
    "p=Quaternion(0,px,py,pz)\n",
    "p"
   ]
  },
  {
   "cell_type": "code",
   "execution_count": null,
   "metadata": {},
   "outputs": [
    {
     "data": {
      "text/latex": [
       "$\\displaystyle \\left(\\omega \\left(- p_{x} x - p_{y} y - p_{z} z\\right) - x \\left(- \\omega p_{x} + p_{y} z - p_{z} y\\right) + y \\left(\\omega p_{y} + p_{x} z - p_{z} x\\right) + z \\left(\\omega p_{z} - p_{x} y + p_{y} x\\right)\\right) + \\left(\\omega \\left(\\omega p_{x} - p_{y} z + p_{z} y\\right) - x \\left(- p_{x} x - p_{y} y - p_{z} z\\right) + y \\left(\\omega p_{z} - p_{x} y + p_{y} x\\right) - z \\left(\\omega p_{y} + p_{x} z - p_{z} x\\right)\\right) i + \\left(\\omega \\left(\\omega p_{y} + p_{x} z - p_{z} x\\right) - x \\left(\\omega p_{z} - p_{x} y + p_{y} x\\right) - y \\left(- p_{x} x - p_{y} y - p_{z} z\\right) - z \\left(- \\omega p_{x} + p_{y} z - p_{z} y\\right)\\right) j + \\left(\\omega \\left(\\omega p_{z} - p_{x} y + p_{y} x\\right) + x \\left(\\omega p_{y} + p_{x} z - p_{z} x\\right) - y \\left(\\omega p_{x} - p_{y} z + p_{z} y\\right) - z \\left(- p_{x} x - p_{y} y - p_{z} z\\right)\\right) k$"
      ],
      "text/plain": [
       "(\\omega*(-p_x*x - p_y*y - p_z*z) - x*(-\\omega*p_x + p_y*z - p_z*y) + y*(\\omega*p_y + p_x*z - p_z*x) + z*(\\omega*p_z - p_x*y + p_y*x)) + (\\omega*(\\omega*p_x - p_y*z + p_z*y) - x*(-p_x*x - p_y*y - p_z*z) + y*(\\omega*p_z - p_x*y + p_y*x) - z*(\\omega*p_y + p_x*z - p_z*x))*i + (\\omega*(\\omega*p_y + p_x*z - p_z*x) - x*(\\omega*p_z - p_x*y + p_y*x) - y*(-p_x*x - p_y*y - p_z*z) - z*(-\\omega*p_x + p_y*z - p_z*y))*j + (\\omega*(\\omega*p_z - p_x*y + p_y*x) + x*(\\omega*p_y + p_x*z - p_z*x) - y*(\\omega*p_x - p_y*z + p_z*y) - z*(-p_x*x - p_y*y - p_z*z))*k"
      ]
     },
     "execution_count": 7,
     "metadata": {},
     "output_type": "execute_result"
    }
   ],
   "source": [
    "p_=q*p*q.inverse().subs(w**2+x**2+y**2+z**2,1)\n",
    "p_"
   ]
  },
  {
   "cell_type": "code",
   "execution_count": null,
   "metadata": {
    "scrolled": true
   },
   "outputs": [
    {
     "data": {
      "text/latex": [
       "$\\displaystyle p_{x} \\left(\\omega^{2} + x^{2} - y^{2} - z^{2}\\right) + p_{y} \\left(- 2 \\omega z + 2 x y\\right) + p_{z} \\left(2 \\omega y + 2 x z\\right)$"
      ],
      "text/plain": [
       "p_x*(\\omega**2 + x**2 - y**2 - z**2) + p_y*(-2*\\omega*z + 2*x*y) + p_z*(2*\\omega*y + 2*x*z)"
      ]
     },
     "execution_count": 8,
     "metadata": {},
     "output_type": "execute_result"
    }
   ],
   "source": [
    "p_.b.subs(w**2+x**2+y**2+z**2,1).expand().collect(px).collect(py).collect(pz)"
   ]
  },
  {
   "cell_type": "code",
   "execution_count": null,
   "metadata": {},
   "outputs": [
    {
     "data": {
      "text/latex": [
       "$\\displaystyle p_{x} \\left(2 \\omega z + 2 x y\\right) + p_{y} \\left(\\omega^{2} - x^{2} + y^{2} - z^{2}\\right) + p_{z} \\left(- 2 \\omega x + 2 y z\\right)$"
      ],
      "text/plain": [
       "p_x*(2*\\omega*z + 2*x*y) + p_y*(\\omega**2 - x**2 + y**2 - z**2) + p_z*(-2*\\omega*x + 2*y*z)"
      ]
     },
     "execution_count": 9,
     "metadata": {},
     "output_type": "execute_result"
    }
   ],
   "source": [
    "p_.c.subs(w**2+x**2+y**2+z**2,1).expand().collect(px).collect(py).collect(pz)"
   ]
  },
  {
   "cell_type": "code",
   "execution_count": null,
   "metadata": {},
   "outputs": [
    {
     "data": {
      "text/latex": [
       "$\\displaystyle p_{x} \\left(- 2 \\omega y + 2 x z\\right) + p_{y} \\left(2 \\omega x + 2 y z\\right) + p_{z} \\left(\\omega^{2} - x^{2} - y^{2} + z^{2}\\right)$"
      ],
      "text/plain": [
       "p_x*(-2*\\omega*y + 2*x*z) + p_y*(2*\\omega*x + 2*y*z) + p_z*(\\omega**2 - x**2 - y**2 + z**2)"
      ]
     },
     "execution_count": 10,
     "metadata": {},
     "output_type": "execute_result"
    }
   ],
   "source": [
    "p_.d.subs(w**2+x**2+y**2+z**2,1).expand().collect(px).collect(py).collect(pz)"
   ]
  },
  {
   "cell_type": "markdown",
   "metadata": {},
   "source": [
    "Convert a quaternion to rotation matrix"
   ]
  },
  {
   "cell_type": "code",
   "execution_count": null,
   "metadata": {},
   "outputs": [
    {
     "data": {
      "text/latex": [
       "$\\displaystyle \\left[\\begin{matrix}\\omega^{2} + x^{2} - y^{2} - z^{2} & 2 \\omega z + 2 x y & - 2 \\omega y + 2 x z\\\\- 2 \\omega z + 2 x y & \\omega^{2} - x^{2} + y^{2} - z^{2} & 2 \\omega x + 2 y z\\\\2 \\omega y + 2 x z & - 2 \\omega x + 2 y z & \\omega^{2} - x^{2} - y^{2} + z^{2}\\end{matrix}\\right]$"
      ],
      "text/plain": [
       "Matrix([\n",
       "[\\omega**2 + x**2 - y**2 - z**2,             2*\\omega*z + 2*x*y,            -2*\\omega*y + 2*x*z],\n",
       "[           -2*\\omega*z + 2*x*y, \\omega**2 - x**2 + y**2 - z**2,             2*\\omega*x + 2*y*z],\n",
       "[            2*\\omega*y + 2*x*z,            -2*\\omega*x + 2*y*z, \\omega**2 - x**2 - y**2 + z**2]])"
      ]
     },
     "execution_count": 11,
     "metadata": {},
     "output_type": "execute_result"
    }
   ],
   "source": [
    "from sympy import Matrix\n",
    "rotation_matrix=Matrix([\n",
    "    [w**2+x**2-y**2-z**2,w*z+x*y+x*y+w*z,-2*w*y+2*x*z],\n",
    "    [-w*z+x*y+x*y-w*z,w**2-x**2+y**2-z**2,2*w*x+2*y*z],\n",
    "    [w*y+x*z+w*y+x*z,-w*x-w*x+y*z+y*z,w**2-x**2-y**2+z**2]\n",
    "])\n",
    "rotation_matrix"
   ]
  },
  {
   "cell_type": "code",
   "execution_count": null,
   "metadata": {
    "scrolled": true
   },
   "outputs": [
    {
     "data": {
      "text/latex": [
       "$\\displaystyle \\left[\\begin{matrix}p_{x} \\left(\\omega^{2} + x^{2} - y^{2} - z^{2}\\right) + p_{y} \\left(- 2 \\omega z + 2 x y\\right) + p_{z} \\left(2 \\omega y + 2 x z\\right) & p_{x} \\left(2 \\omega z + 2 x y\\right) + p_{y} \\left(\\omega^{2} - x^{2} + y^{2} - z^{2}\\right) + p_{z} \\left(- 2 \\omega x + 2 y z\\right) & p_{x} \\left(- 2 \\omega y + 2 x z\\right) + p_{y} \\left(2 \\omega x + 2 y z\\right) + p_{z} \\left(\\omega^{2} - x^{2} - y^{2} + z^{2}\\right)\\end{matrix}\\right]$"
      ],
      "text/plain": [
       "Matrix([[p_x*(\\omega**2 + x**2 - y**2 - z**2) + p_y*(-2*\\omega*z + 2*x*y) + p_z*(2*\\omega*y + 2*x*z), p_x*(2*\\omega*z + 2*x*y) + p_y*(\\omega**2 - x**2 + y**2 - z**2) + p_z*(-2*\\omega*x + 2*y*z), p_x*(-2*\\omega*y + 2*x*z) + p_y*(2*\\omega*x + 2*y*z) + p_z*(\\omega**2 - x**2 - y**2 + z**2)]])"
      ]
     },
     "execution_count": 12,
     "metadata": {},
     "output_type": "execute_result"
    }
   ],
   "source": [
    "from sympy import Matrix\n",
    "Matrix([[px,py,pz]])*rotation_matrix"
   ]
  },
  {
   "cell_type": "code",
   "execution_count": null,
   "metadata": {},
   "outputs": [
    {
     "data": {
      "text/plain": [
       "Quaternion([0.5, 0.5, 0.5, 0.5])"
      ]
     },
     "execution_count": 1,
     "metadata": {},
     "output_type": "execute_result"
    }
   ],
   "source": [
    "from py3d import Quaternion\n",
    "q=Quaternion(0.5,0.5,0.5,0.5)\n",
    "q"
   ]
  },
  {
   "cell_type": "code",
   "execution_count": null,
   "metadata": {},
   "outputs": [
    {
     "data": {
      "text/plain": [
       "Quaternion([[1., 0., 0., 0.],\n",
       "            [1., 0., 0., 0.],\n",
       "            [1., 0., 0., 0.],\n",
       "            [1., 0., 0., 0.],\n",
       "            [1., 0., 0., 0.]])"
      ]
     },
     "execution_count": 2,
     "metadata": {},
     "output_type": "execute_result"
    }
   ],
   "source": [
    "from py3d import Quaternion\n",
    "q=Quaternion(1,0,0,0,n=5)\n",
    "q"
   ]
  },
  {
   "cell_type": "code",
   "execution_count": null,
   "metadata": {},
   "outputs": [
    {
     "data": {
      "text/plain": [
       "Quaternion([[1. , 0. , 0. , 0. ],\n",
       "            [0.5, 0.5, 0.5, 0.5]])"
      ]
     },
     "execution_count": 3,
     "metadata": {},
     "output_type": "execute_result"
    }
   ],
   "source": [
    "from py3d import Quaternion\n",
    "Quaternion([1,0.5],[0,0.5],[0,0.5],[0,0.5])"
   ]
  },
  {
   "cell_type": "code",
   "execution_count": null,
   "metadata": {},
   "outputs": [],
   "source": [
    "from py3d import Quaternion,pi,Vector3\n",
    "Quaternion.from_angle_axis(pi/2,Vector3(z=1,n=2)) "
   ]
  },
  {
   "cell_type": "code",
   "execution_count": null,
   "metadata": {},
   "outputs": [],
   "source": [
    "from py3d import Quaternion,pi,Vector3\n",
    "q=Quaternion.from_angle_axis(pi/2,Vector3(z=1,n=2))\n",
    "q.to_angle_axis()"
   ]
  },
  {
   "cell_type": "code",
   "execution_count": null,
   "metadata": {},
   "outputs": [],
   "source": [
    "from py3d import Quaternion\n",
    "q=Quaternion([1,0.5],[0,0.5],[0,0.5],[0,0.5])\n",
    "q.to_matrix()"
   ]
  },
  {
   "cell_type": "code",
   "execution_count": null,
   "metadata": {},
   "outputs": [],
   "source": [
    "from py3d import Quaternion\n",
    "d=Vector3.Rand(5)\n",
    "d_=Vector3.Rand(5)\n",
    "q=Quaternion.from_direction_change(d, d_)\n",
    "q"
   ]
  },
  {
   "cell_type": "markdown",
   "metadata": {},
   "source": [
    "## Inverse"
   ]
  },
  {
   "cell_type": "code",
   "execution_count": null,
   "metadata": {},
   "outputs": [],
   "source": [
    "from py3d import Quaternion\n",
    "q=Quaternion([1,0.5],[0,0.5],[0,0.5],[0,0.5])\n",
    "q.I"
   ]
  },
  {
   "cell_type": "markdown",
   "metadata": {},
   "source": [
    "## Rotate points by quaternion multiplication\n",
    "\n",
    "points can be regarded as special quaternions, if we want to rotate points we can do it by quaternion multiplication"
   ]
  },
  {
   "cell_type": "code",
   "execution_count": null,
   "metadata": {},
   "outputs": [],
   "source": [
    "from py3d import Vector3,Quaternion,pi\n",
    "import numpy\n",
    "p=Quaternion(0,Vector3.Rand(500))\n",
    "q=Quaternion.from_angle_axis(pi/2,Vector3([[0,1,0],[0,0,1]]))\n",
    "q.mq(p,byrow=False).mq(q.I).xyz.render_as_points()"
   ]
  },
  {
   "cell_type": "markdown",
   "metadata": {},
   "source": [
    "Vector3 has a method mq to do the same thing"
   ]
  },
  {
   "cell_type": "code",
   "execution_count": null,
   "metadata": {},
   "outputs": [],
   "source": [
    "from py3d import Vector3,Quaternion,pi\n",
    "q=Quaternion.from_angle_axis(pi/2,Vector3([[0,1,0],[0,0,1]]))\n",
    "Vector3.Rand(500).mq(q).render_as_points()"
   ]
  },
  {
   "cell_type": "code",
   "execution_count": null,
   "metadata": {},
   "outputs": [],
   "source": [
    "from py3d import Vector3,Quaternion,pi\n",
    "q=Quaternion.from_angle_axis(pi/2,Vector3([[0,1,0],[0,0,1]]))\n",
    "(Vector3.Rand(500)@q.to_matrix()).render_as_points()"
   ]
  },
  {
   "cell_type": "code",
   "execution_count": null,
   "metadata": {},
   "outputs": [],
   "source": [
    "from py3d import Vector3,Quaternion,pi\n",
    "q=Quaternion.from_direction_change(Vector3(0,1,0),Vector3(0,0,1))\n",
    "q"
   ]
  },
  {
   "cell_type": "markdown",
   "metadata": {},
   "source": [
    "# Transform"
   ]
  },
  {
   "cell_type": "markdown",
   "metadata": {},
   "source": [
    "Scaling matrix in 4x4 form"
   ]
  },
  {
   "cell_type": "code",
   "execution_count": null,
   "metadata": {},
   "outputs": [],
   "source": [
    "from sympy import symbols,Matrix\n",
    "sx,sy,sz,a00,a01,a02,a10,a11,a12,a20,a21,a22=symbols(\"s_x,s_y,s_z,a_00,a_01,a_02,a_10,a_11,a_12,a_20,a_21,a_22\")\n",
    "scaling_matrix=Matrix([\n",
    "    [sx,0,0,0],\n",
    "    [0,sy,0,0],\n",
    "    [0,0,sz,0],\n",
    "    [0,0,0,1]\n",
    "])\n",
    "rotation_matrix=Matrix([\n",
    "    [a00,a01,a02,0],\n",
    "    [a10,a11,a12,0],\n",
    "    [a20,a21,a22,0],\n",
    "    [0,0,0,1]\n",
    "])\n",
    "scaling_matrix*rotation_matrix"
   ]
  },
  {
   "cell_type": "code",
   "execution_count": null,
   "metadata": {},
   "outputs": [],
   "source": [
    "scaling_matrix.inv()"
   ]
  },
  {
   "cell_type": "code",
   "execution_count": null,
   "metadata": {},
   "outputs": [],
   "source": [
    "rotation_matrix*scaling_matrix"
   ]
  },
  {
   "cell_type": "code",
   "execution_count": 1,
   "metadata": {},
   "outputs": [
    {
     "data": {
      "text/plain": [
       "Transform3([[[1., 0., 0., 0.],\n",
       "             [0., 1., 0., 0.],\n",
       "             [0., 0., 1., 0.],\n",
       "             [0., 0., 0., 1.]]])"
      ]
     },
     "execution_count": 1,
     "metadata": {},
     "output_type": "execute_result"
    }
   ],
   "source": [
    "from py3d import Transform3\n",
    "Transform3(1)"
   ]
  },
  {
   "cell_type": "code",
   "execution_count": 2,
   "metadata": {},
   "outputs": [
    {
     "data": {
      "text/plain": [
       "Transform3([[[[1., 0., 0., 0.],\n",
       "              [0., 1., 0., 0.],\n",
       "              [0., 0., 1., 0.],\n",
       "              [0., 0., 0., 1.]],\n",
       "\n",
       "             [[1., 0., 0., 0.],\n",
       "              [0., 1., 0., 0.],\n",
       "              [0., 0., 1., 0.],\n",
       "              [0., 0., 0., 1.]],\n",
       "\n",
       "             [[1., 0., 0., 0.],\n",
       "              [0., 1., 0., 0.],\n",
       "              [0., 0., 1., 0.],\n",
       "              [0., 0., 0., 1.]]],\n",
       "\n",
       "\n",
       "            [[[1., 0., 0., 0.],\n",
       "              [0., 1., 0., 0.],\n",
       "              [0., 0., 1., 0.],\n",
       "              [0., 0., 0., 1.]],\n",
       "\n",
       "             [[1., 0., 0., 0.],\n",
       "              [0., 1., 0., 0.],\n",
       "              [0., 0., 1., 0.],\n",
       "              [0., 0., 0., 1.]],\n",
       "\n",
       "             [[1., 0., 0., 0.],\n",
       "              [0., 1., 0., 0.],\n",
       "              [0., 0., 1., 0.],\n",
       "              [0., 0., 0., 1.]]]])"
      ]
     },
     "execution_count": 2,
     "metadata": {},
     "output_type": "execute_result"
    }
   ],
   "source": [
    "from py3d import Transform3\n",
    "Transform3(2,3)"
   ]
  },
  {
   "cell_type": "code",
   "execution_count": 3,
   "metadata": {},
   "outputs": [
    {
     "data": {
      "text/plain": [
       "Transform3([[[1.        , 0.        , 0.        , 0.        ],\n",
       "             [0.        , 1.        , 0.        , 0.        ],\n",
       "             [0.        , 0.        , 1.        , 0.        ],\n",
       "             [0.94142027, 0.70072167, 0.03730281, 1.        ]],\n",
       "\n",
       "            [[1.        , 0.        , 0.        , 0.        ],\n",
       "             [0.        , 1.        , 0.        , 0.        ],\n",
       "             [0.        , 0.        , 1.        , 0.        ],\n",
       "             [0.5764012 , 0.52398336, 0.83066697, 1.        ]],\n",
       "\n",
       "            [[1.        , 0.        , 0.        , 0.        ],\n",
       "             [0.        , 1.        , 0.        , 0.        ],\n",
       "             [0.        , 0.        , 1.        , 0.        ],\n",
       "             [0.29571729, 0.62484084, 0.67269813, 1.        ]],\n",
       "\n",
       "            [[1.        , 0.        , 0.        , 0.        ],\n",
       "             [0.        , 1.        , 0.        , 0.        ],\n",
       "             [0.        , 0.        , 1.        , 0.        ],\n",
       "             [0.57086061, 0.21193246, 0.37426787, 1.        ]],\n",
       "\n",
       "            [[1.        , 0.        , 0.        , 0.        ],\n",
       "             [0.        , 1.        , 0.        , 0.        ],\n",
       "             [0.        , 0.        , 1.        , 0.        ],\n",
       "             [0.86247823, 0.9065284 , 0.98126575, 1.        ]]])"
      ]
     },
     "execution_count": 3,
     "metadata": {},
     "output_type": "execute_result"
    }
   ],
   "source": [
    "from py3d import Transform3,Vector3\n",
    "T=Transform3(5)\n",
    "T.translation=Vector3.Rand(5)\n",
    "T"
   ]
  },
  {
   "cell_type": "code",
   "execution_count": null,
   "metadata": {},
   "outputs": [
    {
     "data": {
      "text/plain": [
       "Transform3([[[0., 0., 0., 0.],\n",
       "             [0., 1., 0., 0.],\n",
       "             [0., 0., 5., 0.],\n",
       "             [5., 0., 0., 1.]],\n",
       "\n",
       "            [[1., 0., 0., 0.],\n",
       "             [0., 1., 0., 0.],\n",
       "             [0., 0., 4., 0.],\n",
       "             [5., 0., 0., 1.]],\n",
       "\n",
       "            [[2., 0., 0., 0.],\n",
       "             [0., 1., 0., 0.],\n",
       "             [0., 0., 3., 0.],\n",
       "             [5., 0., 0., 1.]],\n",
       "\n",
       "            [[3., 0., 0., 0.],\n",
       "             [0., 1., 0., 0.],\n",
       "             [0., 0., 2., 0.],\n",
       "             [5., 0., 0., 1.]],\n",
       "\n",
       "            [[4., 0., 0., 0.],\n",
       "             [0., 1., 0., 0.],\n",
       "             [0., 0., 1., 0.],\n",
       "             [5., 0., 0., 1.]]])"
      ]
     },
     "execution_count": 15,
     "metadata": {},
     "output_type": "execute_result"
    }
   ],
   "source": [
    "from py3d import Transform3,Vector3\n",
    "T=Transform3(5)\n",
    "T.scaling=Vector3(range(5),1,range(5,0,-1))\n",
    "T"
   ]
  },
  {
   "cell_type": "code",
   "execution_count": null,
   "metadata": {},
   "outputs": [
    {
     "data": {
      "text/plain": [
       "Transform3([[[ 0.41198225,  0.14112001,  0.90019763,  0.        ],\n",
       "             [ 0.05872664, -0.9899925 ,  0.12832006,  0.        ],\n",
       "             [ 0.90929743,  0.        , -0.41614684,  0.        ],\n",
       "             [ 0.        ,  0.        ,  0.        ,  1.        ]],\n",
       "\n",
       "            [[ 0.41198225, -0.68124272,  0.60512725,  0.        ],\n",
       "             [ 0.05872664, -0.64287284, -0.76371834,  0.        ],\n",
       "             [ 0.90929743,  0.35017549, -0.2248451 ,  0.        ],\n",
       "             [ 0.        ,  0.        ,  0.        ,  1.        ]],\n",
       "\n",
       "            [[ 0.41198225, -0.87727403, -0.24629434,  0.        ],\n",
       "             [ 0.05872664,  0.29530115, -0.95359762,  0.        ],\n",
       "             [ 0.90929743,  0.37840125,  0.17317819,  0.        ],\n",
       "             [ 0.        ,  0.        ,  0.        ,  1.        ]],\n",
       "\n",
       "            [[ 0.41198225, -0.26674365, -0.87127404,  0.        ],\n",
       "             [ 0.05872664,  0.96197662, -0.26674365,  0.        ],\n",
       "             [ 0.90929743,  0.05872664,  0.41198225,  0.        ],\n",
       "             [ 0.        ,  0.        ,  0.        ,  1.        ]],\n",
       "\n",
       "            [[ 0.41198225,  0.58902962, -0.69520841,  0.        ],\n",
       "             [ 0.05872664,  0.74421522,  0.6653532 ,  0.        ],\n",
       "             [ 0.90929743, -0.31494096,  0.27201173,  0.        ],\n",
       "             [ 0.        ,  0.        ,  0.        ,  1.        ]]])"
      ]
     },
     "execution_count": 4,
     "metadata": {},
     "output_type": "execute_result"
    }
   ],
   "source": [
    "from py3d import Transform3,Rotation3\n",
    "T=Transform3(5)\n",
    "T.rotation=Rotation3.from_eular_intrinsic(range(0,5),2,3)\n",
    "T"
   ]
  },
  {
   "cell_type": "code",
   "execution_count": null,
   "metadata": {},
   "outputs": [
    {
     "data": {
      "text/plain": [
       "Vector3([[0., 0., 0., 1.],\n",
       "         [0., 0., 0., 1.],\n",
       "         [0., 0., 0., 1.],\n",
       "         [0., 0., 0., 1.],\n",
       "         [0., 0., 0., 1.]])"
      ]
     },
     "execution_count": 1,
     "metadata": {},
     "output_type": "execute_result"
    }
   ],
   "source": [
    "from py3d import Vector3,Transform3\n",
    "Vector3(m=1,n=5).as_vector4()"
   ]
  },
  {
   "cell_type": "code",
   "execution_count": 21,
   "metadata": {},
   "outputs": [
    {
     "data": {
      "text/plain": [
       "Vector3([[[1., 0., 0.],\n",
       "          [1., 0., 0.]],\n",
       "\n",
       "         [[1., 0., 0.],\n",
       "          [1., 0., 0.]]])"
      ]
     },
     "execution_count": 21,
     "metadata": {},
     "output_type": "execute_result"
    }
   ],
   "source": [
    "from py3d import Vector3,Transform3\n",
    "Vector3(1,n=2).mt(Transform3(2))"
   ]
  },
  {
   "cell_type": "code",
   "execution_count": 4,
   "metadata": {},
   "outputs": [
    {
     "data": {
      "text/plain": [
       "Transform3([[[ 0.61958584,  0.53404186, -0.37728226,  0.        ],\n",
       "             [-0.01255312,  0.07162052,  0.08076346,  0.        ],\n",
       "             [ 0.32692694, -0.21112718,  0.23804075,  0.        ],\n",
       "             [ 0.70528396,  0.3149707 ,  0.03427242,  1.        ]],\n",
       "\n",
       "            [[ 0.46844887,  0.51185635, -0.17216046,  0.        ],\n",
       "             [-0.06277885,  0.07442992,  0.05046886,  0.        ],\n",
       "             [ 0.33546008, -0.11140176,  0.58157489,  0.        ],\n",
       "             [ 0.65707837,  0.8227713 ,  0.32603794,  1.        ]],\n",
       "\n",
       "            [[ 0.37603173,  0.55349233, -0.47768478,  0.        ],\n",
       "             [-0.13679867,  0.34274055,  0.28944533,  0.        ],\n",
       "             [ 0.26015346, -0.03493098,  0.16431741,  0.        ],\n",
       "             [ 0.15700549,  0.72395048,  0.41998289,  1.        ]]])"
      ]
     },
     "execution_count": 4,
     "metadata": {},
     "output_type": "execute_result"
    }
   ],
   "source": [
    "from py3d import Transform3\n",
    "Transform3.Rand(3)"
   ]
  },
  {
   "cell_type": "code",
   "execution_count": 51,
   "metadata": {},
   "outputs": [
    {
     "ename": "ValueError",
     "evalue": "could not broadcast input array from shape (3,1) into shape (3)",
     "output_type": "error",
     "traceback": [
      "\u001b[0;31m---------------------------------------------------------------------------\u001b[0m",
      "\u001b[0;31mValueError\u001b[0m                                Traceback (most recent call last)",
      "\u001b[0;32m<ipython-input-51-f647ba166f05>\u001b[0m in \u001b[0;36m<module>\u001b[0;34m\u001b[0m\n\u001b[1;32m      2\u001b[0m \u001b[0mstart\u001b[0m\u001b[0;34m=\u001b[0m\u001b[0mVector3\u001b[0m\u001b[0;34m(\u001b[0m\u001b[0mx\u001b[0m\u001b[0;34m=\u001b[0m\u001b[0;34m[\u001b[0m\u001b[0;36m1\u001b[0m\u001b[0;34m,\u001b[0m\u001b[0;36m2\u001b[0m\u001b[0;34m,\u001b[0m\u001b[0;36m3\u001b[0m\u001b[0;34m]\u001b[0m\u001b[0;34m)\u001b[0m\u001b[0;34m\u001b[0m\u001b[0;34m\u001b[0m\u001b[0m\n\u001b[1;32m      3\u001b[0m \u001b[0mend\u001b[0m\u001b[0;34m=\u001b[0m\u001b[0mstart\u001b[0m\u001b[0;34m+\u001b[0m\u001b[0mVector3\u001b[0m\u001b[0;34m(\u001b[0m\u001b[0;36m1\u001b[0m\u001b[0;34m,\u001b[0m\u001b[0;36m1\u001b[0m\u001b[0;34m,\u001b[0m\u001b[0;36m1\u001b[0m\u001b[0;34m)\u001b[0m\u001b[0;34m\u001b[0m\u001b[0;34m\u001b[0m\u001b[0m\n\u001b[0;32m----> 4\u001b[0;31m \u001b[0mt\u001b[0m\u001b[0;34m=\u001b[0m\u001b[0mTransform3\u001b[0m\u001b[0;34m.\u001b[0m\u001b[0mfrom_vector_change\u001b[0m\u001b[0;34m(\u001b[0m\u001b[0mVector3\u001b[0m\u001b[0;34m(\u001b[0m\u001b[0;34m)\u001b[0m\u001b[0;34m,\u001b[0m\u001b[0mVector3\u001b[0m\u001b[0;34m(\u001b[0m\u001b[0mx\u001b[0m\u001b[0;34m=\u001b[0m\u001b[0;36m1\u001b[0m\u001b[0;34m)\u001b[0m\u001b[0;34m,\u001b[0m\u001b[0mstart\u001b[0m\u001b[0;34m,\u001b[0m\u001b[0mend\u001b[0m\u001b[0;34m)\u001b[0m\u001b[0;34m\u001b[0m\u001b[0;34m\u001b[0m\u001b[0m\n\u001b[0m\u001b[1;32m      5\u001b[0m \u001b[0mt\u001b[0m\u001b[0;34m.\u001b[0m\u001b[0mscaling\u001b[0m\u001b[0;34m\u001b[0m\u001b[0;34m\u001b[0m\u001b[0m\n",
      "\u001b[0;32m/mnt/d/codes/scenario/py3d/py3d/core.py\u001b[0m in \u001b[0;36mfrom_vector_change\u001b[0;34m(cls, p0, p1, p0_, p1_)\u001b[0m\n\u001b[1;32m    490\u001b[0m         \u001b[0ms\u001b[0m \u001b[0;34m=\u001b[0m \u001b[0md_\u001b[0m\u001b[0;34m.\u001b[0m\u001b[0mnorm\u001b[0m\u001b[0;34m(\u001b[0m\u001b[0;34m)\u001b[0m \u001b[0;34m/\u001b[0m \u001b[0md\u001b[0m\u001b[0;34m.\u001b[0m\u001b[0mnorm\u001b[0m\u001b[0;34m(\u001b[0m\u001b[0;34m)\u001b[0m\u001b[0;34m\u001b[0m\u001b[0;34m\u001b[0m\u001b[0m\n\u001b[1;32m    491\u001b[0m         \u001b[0mret\u001b[0m \u001b[0;34m=\u001b[0m \u001b[0mTransform3\u001b[0m\u001b[0;34m(\u001b[0m\u001b[0mlen\u001b[0m\u001b[0;34m(\u001b[0m\u001b[0ms\u001b[0m\u001b[0;34m)\u001b[0m\u001b[0;34m)\u001b[0m\u001b[0;34m\u001b[0m\u001b[0;34m\u001b[0m\u001b[0m\n\u001b[0;32m--> 492\u001b[0;31m         \u001b[0mret\u001b[0m\u001b[0;34m.\u001b[0m\u001b[0mscaling\u001b[0m \u001b[0;34m=\u001b[0m \u001b[0mVector3\u001b[0m\u001b[0;34m(\u001b[0m\u001b[0ms\u001b[0m\u001b[0;34m,\u001b[0m \u001b[0ms\u001b[0m\u001b[0;34m,\u001b[0m \u001b[0ms\u001b[0m\u001b[0;34m)\u001b[0m\u001b[0;34m\u001b[0m\u001b[0;34m\u001b[0m\u001b[0m\n\u001b[0m\u001b[1;32m    493\u001b[0m         \u001b[0mret\u001b[0m\u001b[0;34m.\u001b[0m\u001b[0mtranslation\u001b[0m \u001b[0;34m=\u001b[0m \u001b[0mp0_\u001b[0m \u001b[0;34m-\u001b[0m \u001b[0mp0\u001b[0m\u001b[0;34m\u001b[0m\u001b[0;34m\u001b[0m\u001b[0m\n\u001b[1;32m    494\u001b[0m         \u001b[0mret\u001b[0m\u001b[0;34m.\u001b[0m\u001b[0mrotation\u001b[0m \u001b[0;34m=\u001b[0m \u001b[0mQuaternion\u001b[0m\u001b[0;34m.\u001b[0m\u001b[0mfrom_direction_change\u001b[0m\u001b[0;34m(\u001b[0m\u001b[0md\u001b[0m\u001b[0;34m,\u001b[0m \u001b[0md_\u001b[0m\u001b[0;34m)\u001b[0m\u001b[0;34m.\u001b[0m\u001b[0mto_matrix33\u001b[0m\u001b[0;34m(\u001b[0m\u001b[0;34m)\u001b[0m\u001b[0;34m\u001b[0m\u001b[0;34m\u001b[0m\u001b[0m\n",
      "\u001b[0;32m/mnt/d/codes/scenario/py3d/py3d/core.py\u001b[0m in \u001b[0;36mscaling\u001b[0;34m(self, v)\u001b[0m\n\u001b[1;32m    514\u001b[0m     \u001b[0;32mdef\u001b[0m \u001b[0mscaling\u001b[0m\u001b[0;34m(\u001b[0m\u001b[0mself\u001b[0m\u001b[0;34m,\u001b[0m \u001b[0mv\u001b[0m\u001b[0;34m)\u001b[0m\u001b[0;34m:\u001b[0m\u001b[0;34m\u001b[0m\u001b[0;34m\u001b[0m\u001b[0m\n\u001b[1;32m    515\u001b[0m         self[:] = (\n\u001b[0;32m--> 516\u001b[0;31m             \u001b[0mv\u001b[0m\u001b[0;34m.\u001b[0m\u001b[0mas_scaling_matrix\u001b[0m\u001b[0;34m(\u001b[0m\u001b[0;34m)\u001b[0m\u001b[0;34m\u001b[0m\u001b[0;34m\u001b[0m\u001b[0m\n\u001b[0m\u001b[1;32m    517\u001b[0m             \u001b[0;34m@\u001b[0m \u001b[0mnumpy\u001b[0m\u001b[0;34m.\u001b[0m\u001b[0mlinalg\u001b[0m\u001b[0;34m.\u001b[0m\u001b[0minv\u001b[0m\u001b[0;34m(\u001b[0m\u001b[0mself\u001b[0m\u001b[0;34m.\u001b[0m\u001b[0mscaling\u001b[0m\u001b[0;34m.\u001b[0m\u001b[0mas_scaling_matrix\u001b[0m\u001b[0;34m(\u001b[0m\u001b[0;34m)\u001b[0m\u001b[0;34m)\u001b[0m\u001b[0;34m\u001b[0m\u001b[0;34m\u001b[0m\u001b[0m\n\u001b[1;32m    518\u001b[0m             \u001b[0;34m@\u001b[0m \u001b[0mself\u001b[0m\u001b[0;34m\u001b[0m\u001b[0;34m\u001b[0m\u001b[0m\n",
      "\u001b[0;32m/mnt/d/codes/scenario/py3d/py3d/core.py\u001b[0m in \u001b[0;36mas_scaling_matrix\u001b[0;34m(self)\u001b[0m\n\u001b[1;32m    174\u001b[0m     \u001b[0;32mdef\u001b[0m \u001b[0mas_scaling_matrix\u001b[0m\u001b[0;34m(\u001b[0m\u001b[0mself\u001b[0m\u001b[0;34m)\u001b[0m \u001b[0;34m->\u001b[0m \u001b[0mnumpy\u001b[0m\u001b[0;34m.\u001b[0m\u001b[0mndarray\u001b[0m\u001b[0;34m:\u001b[0m\u001b[0;34m\u001b[0m\u001b[0;34m\u001b[0m\u001b[0m\n\u001b[1;32m    175\u001b[0m         \u001b[0mret\u001b[0m \u001b[0;34m=\u001b[0m \u001b[0mnumpy\u001b[0m\u001b[0;34m.\u001b[0m\u001b[0mfull\u001b[0m\u001b[0;34m(\u001b[0m\u001b[0mself\u001b[0m\u001b[0;34m.\u001b[0m\u001b[0mn\u001b[0m \u001b[0;34m+\u001b[0m \u001b[0;34m(\u001b[0m\u001b[0;36m4\u001b[0m\u001b[0;34m,\u001b[0m \u001b[0;36m4\u001b[0m\u001b[0;34m)\u001b[0m\u001b[0;34m,\u001b[0m \u001b[0mnumpy\u001b[0m\u001b[0;34m.\u001b[0m\u001b[0meye\u001b[0m\u001b[0;34m(\u001b[0m\u001b[0;36m4\u001b[0m\u001b[0;34m)\u001b[0m\u001b[0;34m)\u001b[0m\u001b[0;34m.\u001b[0m\u001b[0msqueeze\u001b[0m\u001b[0;34m(\u001b[0m\u001b[0;34m)\u001b[0m\u001b[0;34m\u001b[0m\u001b[0;34m\u001b[0m\u001b[0m\n\u001b[0;32m--> 176\u001b[0;31m         \u001b[0mret\u001b[0m\u001b[0;34m[\u001b[0m\u001b[0;34m...\u001b[0m\u001b[0;34m,\u001b[0m \u001b[0;36m0\u001b[0m\u001b[0;34m,\u001b[0m \u001b[0;36m0\u001b[0m\u001b[0;34m]\u001b[0m \u001b[0;34m=\u001b[0m \u001b[0mself\u001b[0m\u001b[0;34m[\u001b[0m\u001b[0;34m...\u001b[0m\u001b[0;34m,\u001b[0m \u001b[0;36m0\u001b[0m\u001b[0;34m]\u001b[0m\u001b[0;34m\u001b[0m\u001b[0;34m\u001b[0m\u001b[0m\n\u001b[0m\u001b[1;32m    177\u001b[0m         \u001b[0mret\u001b[0m\u001b[0;34m[\u001b[0m\u001b[0;34m...\u001b[0m\u001b[0;34m,\u001b[0m \u001b[0;36m1\u001b[0m\u001b[0;34m,\u001b[0m \u001b[0;36m1\u001b[0m\u001b[0;34m]\u001b[0m \u001b[0;34m=\u001b[0m \u001b[0mself\u001b[0m\u001b[0;34m[\u001b[0m\u001b[0;34m...\u001b[0m\u001b[0;34m,\u001b[0m \u001b[0;36m1\u001b[0m\u001b[0;34m]\u001b[0m\u001b[0;34m\u001b[0m\u001b[0;34m\u001b[0m\u001b[0m\n\u001b[1;32m    178\u001b[0m         \u001b[0mret\u001b[0m\u001b[0;34m[\u001b[0m\u001b[0;34m...\u001b[0m\u001b[0;34m,\u001b[0m \u001b[0;36m2\u001b[0m\u001b[0;34m,\u001b[0m \u001b[0;36m2\u001b[0m\u001b[0;34m]\u001b[0m \u001b[0;34m=\u001b[0m \u001b[0mself\u001b[0m\u001b[0;34m[\u001b[0m\u001b[0;34m...\u001b[0m\u001b[0;34m,\u001b[0m \u001b[0;36m2\u001b[0m\u001b[0;34m]\u001b[0m\u001b[0;34m\u001b[0m\u001b[0;34m\u001b[0m\u001b[0m\n",
      "\u001b[0;31mValueError\u001b[0m: could not broadcast input array from shape (3,1) into shape (3)"
     ]
    },
    {
     "name": "stderr",
     "output_type": "stream",
     "text": [
      "INFO - 2021-11-13 22:20:17,674 - web - 304 GET /view/ba7b8af6-35a2-11ec-9591-5f1f284564c0 (::1) 8.69ms\n",
      "INFO - 2021-11-13 22:20:17,715 - web - 101 GET /ws/ba7b8af6-35a2-11ec-9591-5f1f284564c0 (::1) 0.69ms\n"
     ]
    }
   ],
   "source": [
    "from py3d import Vector3,Transform3\n",
    "start=Vector3(x=[1,2,3])\n",
    "end=start+Vector3(1,1,1)\n",
    "t=Transform3.from_vector_change(Vector3(),Vector3(x=1),start,end)\n",
    "t.scaling"
   ]
  },
  {
   "cell_type": "markdown",
   "metadata": {},
   "source": [
    "# Geometry"
   ]
  },
  {
   "cell_type": "markdown",
   "metadata": {},
   "source": [
    "## Color"
   ]
  },
  {
   "cell_type": "code",
   "execution_count": null,
   "metadata": {},
   "outputs": [
    {
     "data": {
      "text/plain": [
       "Color([[1., 1., 0., 1.],\n",
       "       [2., 1., 0., 1.],\n",
       "       [3., 1., 0., 1.]])"
      ]
     },
     "execution_count": 1,
     "metadata": {},
     "output_type": "execute_result"
    }
   ],
   "source": [
    "from py3d import Color\n",
    "Color(r=[1,2,3],g=1)"
   ]
  },
  {
   "cell_type": "code",
   "execution_count": null,
   "metadata": {},
   "outputs": [
    {
     "data": {
      "text/plain": [
       "Color([[1., 0., 0., 1.],\n",
       "       [1., 0., 0., 1.]])"
      ]
     },
     "execution_count": 5,
     "metadata": {},
     "output_type": "execute_result"
    }
   ],
   "source": [
    "from py3d import Color\n",
    "Color(r=1,n=2)"
   ]
  },
  {
   "cell_type": "code",
   "execution_count": null,
   "metadata": {},
   "outputs": [
    {
     "data": {
      "text/plain": [
       "Color([[[1., 0., 0., 1.],\n",
       "        [1., 0., 0., 1.],\n",
       "        [1., 0., 0., 1.]],\n",
       "\n",
       "       [[1., 0., 0., 1.],\n",
       "        [1., 0., 0., 1.],\n",
       "        [1., 0., 0., 1.]]])"
      ]
     },
     "execution_count": 6,
     "metadata": {},
     "output_type": "execute_result"
    }
   ],
   "source": [
    "from py3d import Color\n",
    "Color(r=1,n=(2,3))"
   ]
  },
  {
   "cell_type": "code",
   "execution_count": null,
   "metadata": {},
   "outputs": [
    {
     "data": {
      "text/plain": [
       "Color([[[1. , 0. , 0. , 0. ],\n",
       "        [1. , 0. , 0.1, 0. ],\n",
       "        [1. , 0. , 0.2, 0. ]],\n",
       "\n",
       "       [[1. , 0. , 0. , 0.1],\n",
       "        [1. , 0. , 0.1, 0.1],\n",
       "        [1. , 0. , 0.2, 0.1]]])"
      ]
     },
     "execution_count": 8,
     "metadata": {},
     "output_type": "execute_result"
    }
   ],
   "source": [
    "from py3d import Color\n",
    "import numpy\n",
    "c=Color(n=(2,3))\n",
    "c.r=1\n",
    "c.b=numpy.arange(0,0.3,0.1)\n",
    "c.a=numpy.arange(0,0.2,0.1)[:,numpy.newaxis]\n",
    "c"
   ]
  },
  {
   "cell_type": "code",
   "execution_count": null,
   "metadata": {},
   "outputs": [
    {
     "data": {
      "text/plain": [
       "Color([[6.16600762e-01, 8.28416513e-01, 1.01094680e-01, 7.45854926e-01],\n",
       "       [5.40119672e-01, 2.26590763e-01, 4.72287225e-01, 8.70749869e-01],\n",
       "       [5.25127171e-04, 2.02036050e-01, 1.43037209e-01, 7.49664474e-01],\n",
       "       [5.86624948e-01, 3.79958512e-01, 9.69326526e-01, 8.98067607e-01],\n",
       "       [3.92661087e-01, 2.50064623e-01, 3.34785250e-01, 2.30112013e-01]])"
      ]
     },
     "execution_count": 9,
     "metadata": {},
     "output_type": "execute_result"
    }
   ],
   "source": [
    "from py3d import Color\n",
    "Color.Rand(5)"
   ]
  },
  {
   "cell_type": "code",
   "execution_count": null,
   "metadata": {},
   "outputs": [
    {
     "data": {
      "text/plain": [
       "Color([[[0.4879    , 0.64721078, 0.76585819, 0.54737717],\n",
       "        [0.4879    , 0.64721078, 0.76585819, 0.54737717],\n",
       "        [0.4879    , 0.64721078, 0.76585819, 0.54737717],\n",
       "        [0.4879    , 0.64721078, 0.76585819, 0.54737717]],\n",
       "\n",
       "       [[0.01983082, 0.90157318, 0.12396994, 0.6107099 ],\n",
       "        [0.01983082, 0.90157318, 0.12396994, 0.6107099 ],\n",
       "        [0.01983082, 0.90157318, 0.12396994, 0.6107099 ],\n",
       "        [0.01983082, 0.90157318, 0.12396994, 0.6107099 ]]])"
      ]
     },
     "execution_count": 1,
     "metadata": {},
     "output_type": "execute_result"
    }
   ],
   "source": [
    "from py3d import Color\n",
    "Color.Rand(2, 4)"
   ]
  },
  {
   "cell_type": "code",
   "execution_count": null,
   "metadata": {},
   "outputs": [
    {
     "data": {
      "text/plain": [
       "Color([[[0.66231001, 0.80096582, 0.48002233, 0.62865583],\n",
       "        [0.66231001, 0.80096582, 0.48002233, 0.62865583],\n",
       "        [0.66231001, 0.80096582, 0.48002233, 0.62865583],\n",
       "        [0.66231001, 0.80096582, 0.48002233, 0.62865583]],\n",
       "\n",
       "       [[0.15005013, 0.20386719, 0.23552455, 0.93224276],\n",
       "        [0.15005013, 0.20386719, 0.23552455, 0.93224276],\n",
       "        [0.15005013, 0.20386719, 0.23552455, 0.93224276],\n",
       "        [0.15005013, 0.20386719, 0.23552455, 0.93224276]]])"
      ]
     },
     "execution_count": 2,
     "metadata": {},
     "output_type": "execute_result"
    }
   ],
   "source": [
    "from py3d import Color\n",
    "Color.Rand(2).inflate(4)"
   ]
  },
  {
   "cell_type": "code",
   "execution_count": null,
   "metadata": {},
   "outputs": [
    {
     "data": {
      "text/plain": [
       "Color([[[0.07691788, 0.55425543, 0.79858183, 0.71986148],\n",
       "        [0.07691788, 0.55425543, 0.79858183, 0.71986148],\n",
       "        [0.07691788, 0.55425543, 0.79858183, 0.71986148],\n",
       "        [0.07691788, 0.55425543, 0.79858183, 0.71986148],\n",
       "        [0.07691788, 0.55425543, 0.79858183, 0.71986148],\n",
       "        [0.07691788, 0.55425543, 0.79858183, 0.71986148],\n",
       "        [0.07691788, 0.55425543, 0.79858183, 0.71986148],\n",
       "        [0.07691788, 0.55425543, 0.79858183, 0.71986148],\n",
       "        [0.07691788, 0.55425543, 0.79858183, 0.71986148],\n",
       "        [0.07691788, 0.55425543, 0.79858183, 0.71986148],\n",
       "        [0.07691788, 0.55425543, 0.79858183, 0.71986148],\n",
       "        [0.07691788, 0.55425543, 0.79858183, 0.71986148]],\n",
       "\n",
       "       [[0.60064997, 0.23765562, 0.54969373, 0.85812906],\n",
       "        [0.60064997, 0.23765562, 0.54969373, 0.85812906],\n",
       "        [0.60064997, 0.23765562, 0.54969373, 0.85812906],\n",
       "        [0.60064997, 0.23765562, 0.54969373, 0.85812906],\n",
       "        [0.60064997, 0.23765562, 0.54969373, 0.85812906],\n",
       "        [0.60064997, 0.23765562, 0.54969373, 0.85812906],\n",
       "        [0.60064997, 0.23765562, 0.54969373, 0.85812906],\n",
       "        [0.60064997, 0.23765562, 0.54969373, 0.85812906],\n",
       "        [0.60064997, 0.23765562, 0.54969373, 0.85812906],\n",
       "        [0.60064997, 0.23765562, 0.54969373, 0.85812906],\n",
       "        [0.60064997, 0.23765562, 0.54969373, 0.85812906],\n",
       "        [0.60064997, 0.23765562, 0.54969373, 0.85812906]]])"
      ]
     },
     "execution_count": 3,
     "metadata": {},
     "output_type": "execute_result"
    }
   ],
   "source": [
    "from py3d import Color\n",
    "Color.Rand(2,3).inflate(4)"
   ]
  },
  {
   "cell_type": "code",
   "execution_count": null,
   "metadata": {},
   "outputs": [
    {
     "name": "stdout",
     "output_type": "stream",
     "text": [
      "10\n"
     ]
    },
    {
     "data": {
      "text/plain": [
       "Color([0.65790874, 0.25111539, 0.3754612 , 0.17207618])"
      ]
     },
     "execution_count": 8,
     "metadata": {},
     "output_type": "execute_result"
    }
   ],
   "source": [
    "from py3d import Color\n",
    "colors=Color.Rand(10)\n",
    "print(len(colors))\n",
    "colors[3]"
   ]
  },
  {
   "cell_type": "markdown",
   "metadata": {},
   "source": [
    "## Point"
   ]
  },
  {
   "cell_type": "code",
   "execution_count": 1,
   "metadata": {},
   "outputs": [
    {
     "data": {
      "text/html": [
       "\n",
       "        <iframe\n",
       "            width=\"100%\"\n",
       "            height=\"600px\"\n",
       "            src=\"http://localhost:8000/view/139844190715568\"\n",
       "            frameborder=\"0\"\n",
       "            allowfullscreen\n",
       "            \n",
       "        ></iframe>\n",
       "        "
      ],
      "text/plain": [
       "<IPython.lib.display.IFrame at 0x7f30034b13d0>"
      ]
     },
     "metadata": {},
     "output_type": "display_data"
    },
    {
     "name": "stdout",
     "output_type": "stream",
     "text": [
      "click http://localhost:8000/view/139844190715568 to view in browser\n"
     ]
    }
   ],
   "source": [
    "from py3d import Vector3\n",
    "Vector3.Rand(1000).as_point().render()"
   ]
  },
  {
   "cell_type": "code",
   "execution_count": 2,
   "metadata": {},
   "outputs": [
    {
     "name": "stdout",
     "output_type": "stream",
     "text": [
      "Jupyter environment detected. Enabling Open3D WebVisualizer.\n",
      "[Open3D INFO] WebRTC GUI backend enabled.\n",
      "[Open3D INFO] WebRTCWindowSystem: HTTP handshake server disabled.\n"
     ]
    }
   ],
   "source": [
    "import open3d\n",
    "mesh=open3d.io.read_triangle_mesh(\"./airplane.ply\")"
   ]
  },
  {
   "cell_type": "code",
   "execution_count": 3,
   "metadata": {},
   "outputs": [],
   "source": [
    "from py3d import Vector3\n",
    "point=(Vector3(mesh.vertices)*1e-2).as_point()"
   ]
  },
  {
   "cell_type": "code",
   "execution_count": 3,
   "metadata": {},
   "outputs": [
    {
     "name": "stdout",
     "output_type": "stream",
     "text": [
      "click http://localhost:8000/view/caf26bfe-4504-11ec-a44b-75792c0fee64 to view in browser\n"
     ]
    },
    {
     "data": {
      "text/html": [
       "\n",
       "        <iframe\n",
       "            width=\"100%\"\n",
       "            height=\"600px\"\n",
       "            src=\"http://localhost:8000/view/caf26bfe-4504-11ec-a44b-75792c0fee64\"\n",
       "            frameborder=\"0\"\n",
       "            allowfullscreen\n",
       "            \n",
       "        ></iframe>\n",
       "        "
      ],
      "text/plain": [
       "<IPython.lib.display.IFrame at 0x7fcc7c43a490>"
      ]
     },
     "metadata": {},
     "output_type": "display_data"
    },
    {
     "name": "stderr",
     "output_type": "stream",
     "text": [
      "INFO - 2021-11-14 12:39:03,011 - web - 200 GET /view/caf26bfe-4504-11ec-a44b-75792c0fee64 (::1) 4.84ms\n",
      "INFO - 2021-11-14 12:39:03,069 - web - 101 GET /ws/caf26bfe-4504-11ec-a44b-75792c0fee64 (::1) 0.47ms\n"
     ]
    }
   ],
   "source": [
    "from py3d import Vector3\n",
    "pmesh=(Vector3(mesh.vertices)[Vector3(mesh.triangles)]*1e-2).as_mesh().render()"
   ]
  },
  {
   "cell_type": "markdown",
   "metadata": {},
   "source": [
    "## Line"
   ]
  },
  {
   "cell_type": "code",
   "execution_count": 4,
   "metadata": {},
   "outputs": [
    {
     "name": "stdout",
     "output_type": "stream",
     "text": [
      "click http://localhost:8001/view/140264515309344 to view in browser\n"
     ]
    },
    {
     "data": {
      "text/html": [
       "\n",
       "        <iframe\n",
       "            width=\"100%\"\n",
       "            height=\"600px\"\n",
       "            src=\"http://localhost:8001/view/140264515309344\"\n",
       "            frameborder=\"0\"\n",
       "            allowfullscreen\n",
       "            \n",
       "        ></iframe>\n",
       "        "
      ],
      "text/plain": [
       "<IPython.lib.display.IFrame at 0x7f91e09d7b20>"
      ]
     },
     "metadata": {},
     "output_type": "display_data"
    },
    {
     "name": "stderr",
     "output_type": "stream",
     "text": [
      "INFO - 2021-12-03 01:00:09,789 - web - 200 GET /view/140264515309344 (::1) 11.71ms\n",
      "INFO - 2021-12-03 01:00:09,836 - web - 101 GET /ws/140264515309344 (::1) 1.12ms\n"
     ]
    }
   ],
   "source": [
    "from py3d import Vector3\n",
    "import numpy\n",
    "x=numpy.arange(0,10,0.5)\n",
    "y=numpy.sin(x)\n",
    "z=numpy.random.rand(*x.shape)\n",
    "l=Vector3(x,y,z)\n",
    "l.as_line().render()"
   ]
  },
  {
   "cell_type": "code",
   "execution_count": 1,
   "metadata": {},
   "outputs": [
    {
     "name": "stdout",
     "output_type": "stream",
     "text": [
      "click http://localhost:8001/view/140357059944336 to view in browser\n"
     ]
    },
    {
     "data": {
      "text/html": [
       "\n",
       "        <iframe\n",
       "            width=\"100%\"\n",
       "            height=\"600px\"\n",
       "            src=\"http://localhost:8001/view/140357059944336\"\n",
       "            frameborder=\"0\"\n",
       "            allowfullscreen\n",
       "            \n",
       "        ></iframe>\n",
       "        "
      ],
      "text/plain": [
       "<IPython.lib.display.IFrame at 0x7fa76cade9d0>"
      ]
     },
     "metadata": {},
     "output_type": "display_data"
    }
   ],
   "source": [
    "from py3d import Vector3\n",
    "import numpy\n",
    "x=numpy.arange(0,10,0.5)\n",
    "y=numpy.sin(x)\n",
    "z=[1,2]\n",
    "l=Vector3(x,y,z)\n",
    "l.as_line().render()"
   ]
  },
  {
   "cell_type": "code",
   "execution_count": 2,
   "metadata": {},
   "outputs": [
    {
     "name": "stdout",
     "output_type": "stream",
     "text": [
      "click http://localhost:8001/view/140358073476256 to view in browser\n"
     ]
    },
    {
     "data": {
      "text/html": [
       "\n",
       "        <iframe\n",
       "            width=\"100%\"\n",
       "            height=\"600px\"\n",
       "            src=\"http://localhost:8001/view/140358073476256\"\n",
       "            frameborder=\"0\"\n",
       "            allowfullscreen\n",
       "            \n",
       "        ></iframe>\n",
       "        "
      ],
      "text/plain": [
       "<IPython.lib.display.IFrame at 0x7fa7a80f0a90>"
      ]
     },
     "metadata": {},
     "output_type": "display_data"
    }
   ],
   "source": [
    "from py3d import Vector3\n",
    "import numpy\n",
    "x=numpy.arange(0,10,0.5)\n",
    "y=[numpy.sin(x),numpy.cos(x)]\n",
    "z=numpy.random.rand(*x.shape)\n",
    "Vector3(x,y,z).as_line().render()"
   ]
  },
  {
   "cell_type": "code",
   "execution_count": 4,
   "metadata": {},
   "outputs": [
    {
     "name": "stdout",
     "output_type": "stream",
     "text": [
      "click http://localhost:8000/view/85620286-4a0c-11ec-9a78-9d96fbd17801 to view in browser\n"
     ]
    },
    {
     "data": {
      "text/html": [
       "\n",
       "        <iframe\n",
       "            width=\"100%\"\n",
       "            height=\"600px\"\n",
       "            src=\"http://localhost:8000/view/85620286-4a0c-11ec-9a78-9d96fbd17801\"\n",
       "            frameborder=\"0\"\n",
       "            allowfullscreen\n",
       "            \n",
       "        ></iframe>\n",
       "        "
      ],
      "text/plain": [
       "<IPython.lib.display.IFrame at 0x7f777dd65fd0>"
      ]
     },
     "metadata": {},
     "output_type": "display_data"
    }
   ],
   "source": [
    "from py3d import LineSegment\n",
    "import numpy\n",
    "l=LineSegment(15,2)\n",
    "l.start.x=0\n",
    "l.end.x=numpy.sin(range(15))\n",
    "l.start.y=0\n",
    "l.end.y=numpy.cos(range(15))\n",
    "l.start.z=0\n",
    "l.end.z=2\n",
    "l.render()"
   ]
  },
  {
   "cell_type": "code",
   "execution_count": 6,
   "metadata": {},
   "outputs": [
    {
     "name": "stdout",
     "output_type": "stream",
     "text": [
      "click http://localhost:8000/view/8b5360fe-4a0c-11ec-9a78-9d96fbd17801 to view in browser\n"
     ]
    },
    {
     "data": {
      "text/html": [
       "\n",
       "        <iframe\n",
       "            width=\"100%\"\n",
       "            height=\"600px\"\n",
       "            src=\"http://localhost:8000/view/8b5360fe-4a0c-11ec-9a78-9d96fbd17801\"\n",
       "            frameborder=\"0\"\n",
       "            allowfullscreen\n",
       "            \n",
       "        ></iframe>\n",
       "        "
      ],
      "text/plain": [
       "<IPython.lib.display.IFrame at 0x7f777dd65cd0>"
      ]
     },
     "metadata": {},
     "output_type": "display_data"
    }
   ],
   "source": [
    "from py3d import Vector3\n",
    "points=Vector3.Rand(2,10)\n",
    "points=points.cumsum()\n",
    "line=points.as_line()\n",
    "line.render()"
   ]
  },
  {
   "cell_type": "code",
   "execution_count": 7,
   "metadata": {},
   "outputs": [
    {
     "name": "stdout",
     "output_type": "stream",
     "text": [
      "click http://localhost:8000/view/90c74438-4a0c-11ec-9a78-9d96fbd17801 to view in browser\n"
     ]
    },
    {
     "data": {
      "text/html": [
       "\n",
       "        <iframe\n",
       "            width=\"100%\"\n",
       "            height=\"600px\"\n",
       "            src=\"http://localhost:8000/view/90c74438-4a0c-11ec-9a78-9d96fbd17801\"\n",
       "            frameborder=\"0\"\n",
       "            allowfullscreen\n",
       "            \n",
       "        ></iframe>\n",
       "        "
      ],
      "text/plain": [
       "<IPython.lib.display.IFrame at 0x7f7790bc8cd0>"
      ]
     },
     "metadata": {},
     "output_type": "display_data"
    }
   ],
   "source": [
    "line[0].render()"
   ]
  },
  {
   "cell_type": "code",
   "execution_count": 1,
   "metadata": {},
   "outputs": [
    {
     "name": "stdout",
     "output_type": "stream",
     "text": [
      "click http://localhost:8000/view/140407573720304 to view in browser\n"
     ]
    },
    {
     "data": {
      "text/html": [
       "\n",
       "        <iframe\n",
       "            width=\"100%\"\n",
       "            height=\"600px\"\n",
       "            src=\"http://localhost:8000/view/140407573720304\"\n",
       "            frameborder=\"0\"\n",
       "            allowfullscreen\n",
       "            \n",
       "        ></iframe>\n",
       "        "
      ],
      "text/plain": [
       "<IPython.lib.display.IFrame at 0x7fb32f899310>"
      ]
     },
     "metadata": {},
     "output_type": "display_data"
    }
   ],
   "source": [
    "from py3d import Vector3\n",
    "from time import sleep\n",
    "trajectory=Vector3(n=10)\n",
    "position=Vector3()\n",
    "for i in range(10):\n",
    "    sleep(1)\n",
    "    position+=Vector3.Rand()\n",
    "    trajectory[i]=position\n",
    "    trajectory.as_line().render()"
   ]
  },
  {
   "cell_type": "code",
   "execution_count": 4,
   "metadata": {},
   "outputs": [
    {
     "data": {
      "text/plain": [
       "140048159446960"
      ]
     },
     "execution_count": 4,
     "metadata": {},
     "output_type": "execute_result"
    }
   ],
   "source": [
    "from py3d.server import Page\n",
    "Page.connections\n",
    "id(trajectory)"
   ]
  },
  {
   "cell_type": "code",
   "execution_count": 2,
   "metadata": {},
   "outputs": [
    {
     "data": {
      "text/plain": [
       "Vector3([[0., 0., 0.],\n",
       "         [0., 0., 0.]])"
      ]
     },
     "execution_count": 2,
     "metadata": {},
     "output_type": "execute_result"
    }
   ],
   "source": [
    "import numpy\n",
    "a=Vector3()\n",
    "v=Vector3.Rand()\n",
    "n=list(a.n)\n",
    "n[0]+=v.n[0]\n",
    "a.resize(*n,3)\n",
    "a"
   ]
  },
  {
   "cell_type": "markdown",
   "metadata": {},
   "source": [
    "# Mesh"
   ]
  },
  {
   "cell_type": "markdown",
   "metadata": {},
   "source": [
    "## Triangle"
   ]
  },
  {
   "cell_type": "code",
   "execution_count": 1,
   "metadata": {},
   "outputs": [
    {
     "data": {
      "text/html": [
       "\n",
       "        <iframe\n",
       "            width=\"100%\"\n",
       "            height=\"600px\"\n",
       "            src=\"http://localhost:8000/view/2fcc4128-4c79-11ec-88b6-0181f9491836\"\n",
       "            frameborder=\"0\"\n",
       "            allowfullscreen\n",
       "            \n",
       "        ></iframe>\n",
       "        "
      ],
      "text/plain": [
       "<IPython.lib.display.IFrame at 0x7f902d1e4b20>"
      ]
     },
     "metadata": {},
     "output_type": "display_data"
    },
    {
     "name": "stdout",
     "output_type": "stream",
     "text": [
      "click http://localhost:8000/view/2fcc4128-4c79-11ec-88b6-0181f9491836 to view in browser\n"
     ]
    }
   ],
   "source": [
    "from py3d import Color,Triangle,Vector3\n",
    "import numpy\n",
    "tri=Triangle(10)\n",
    "tri.p(0,Vector3(x=0.5,y=range(10)))\n",
    "tri.p(1,Vector3(x=-0.5,y=range(10)))\n",
    "tri.p(2,Vector3(y=range(1,11),z=1))\n",
    "# tri.color=Color(r=0.5,g=1,b=0.5,a=numpy.arange(0,1,0.1))[:,numpy.newaxis]\n",
    "tri.render()"
   ]
  },
  {
   "cell_type": "markdown",
   "metadata": {},
   "source": [
    "## Tetrahedron"
   ]
  },
  {
   "cell_type": "code",
   "execution_count": 1,
   "metadata": {},
   "outputs": [],
   "source": [
    "from py3d import Tetrahedron\n",
    "T=Tetrahedron(10)\n",
    "# T.render()"
   ]
  },
  {
   "cell_type": "code",
   "execution_count": 2,
   "metadata": {},
   "outputs": [
    {
     "data": {
      "text/plain": [
       "(10, 4, 7)"
      ]
     },
     "execution_count": 2,
     "metadata": {},
     "output_type": "execute_result"
    }
   ],
   "source": [
    "T.shape"
   ]
  },
  {
   "cell_type": "code",
   "execution_count": 3,
   "metadata": {},
   "outputs": [
    {
     "name": "stdout",
     "output_type": "stream",
     "text": [
      "click http://localhost:8001/view/395db9de-4c7d-11ec-9fab-a595bfbed8f0 to view in browser\n"
     ]
    },
    {
     "ename": "AttributeError",
     "evalue": "'Tetrahedron' object has no attribute 'index'",
     "output_type": "error",
     "traceback": [
      "\u001b[0;31m---------------------------------------------------------------------------\u001b[0m",
      "\u001b[0;31mAttributeError\u001b[0m                            Traceback (most recent call last)",
      "\u001b[0;32m<ipython-input-3-6ab3a4220b7e>\u001b[0m in \u001b[0;36m<module>\u001b[0;34m\u001b[0m\n\u001b[0;32m----> 1\u001b[0;31m \u001b[0mT\u001b[0m\u001b[0;34m[\u001b[0m\u001b[0;36m4\u001b[0m\u001b[0;34m:\u001b[0m\u001b[0;36m7\u001b[0m\u001b[0;34m]\u001b[0m\u001b[0;34m.\u001b[0m\u001b[0mrender\u001b[0m\u001b[0;34m(\u001b[0m\u001b[0;34m)\u001b[0m\u001b[0;34m\u001b[0m\u001b[0;34m\u001b[0m\u001b[0m\n\u001b[0m",
      "\u001b[0;32m/mnt/d/codes/scenario/py3d/py3d/core.py\u001b[0m in \u001b[0;36mrender\u001b[0;34m(self, page)\u001b[0m\n\u001b[1;32m    652\u001b[0m     \u001b[0;32mdef\u001b[0m \u001b[0mrender\u001b[0m\u001b[0;34m(\u001b[0m\u001b[0mself\u001b[0m\u001b[0;34m,\u001b[0m \u001b[0mpage\u001b[0m\u001b[0;34m=\u001b[0m\u001b[0;32mNone\u001b[0m\u001b[0;34m)\u001b[0m\u001b[0;34m:\u001b[0m\u001b[0;34m\u001b[0m\u001b[0;34m\u001b[0m\u001b[0m\n\u001b[1;32m    653\u001b[0m         \u001b[0mpage\u001b[0m \u001b[0;34m=\u001b[0m \u001b[0mSpace\u001b[0m\u001b[0;34m(\u001b[0m\u001b[0;34m)\u001b[0m \u001b[0;32mif\u001b[0m \u001b[0mpage\u001b[0m \u001b[0;32mis\u001b[0m \u001b[0;32mNone\u001b[0m \u001b[0;32melse\u001b[0m \u001b[0mpage\u001b[0m\u001b[0;34m\u001b[0m\u001b[0;34m\u001b[0m\u001b[0m\n\u001b[0;32m--> 654\u001b[0;31m         page.render_mesh(id(self), self.vertice[..., self.index, :].ravel(\n\u001b[0m\u001b[1;32m    655\u001b[0m         ).tolist(), self.color[..., self.index, :].revel().tolist())\n\u001b[1;32m    656\u001b[0m \u001b[0;34m\u001b[0m\u001b[0m\n",
      "\u001b[0;31mAttributeError\u001b[0m: 'Tetrahedron' object has no attribute 'index'"
     ]
    }
   ],
   "source": [
    "T[4:7].render()"
   ]
  },
  {
   "cell_type": "code",
   "execution_count": null,
   "metadata": {},
   "outputs": [
    {
     "data": {
      "text/plain": [
       "Tetrahedron([[[4.04738577e-320, 1.81816158e-321, 0.00000000e+000,\n",
       "               5.30460530e-001, 4.69994047e-001, 6.41515003e-001,\n",
       "               1.00000000e+000],\n",
       "              [4.65086864e-310, 1.18575755e-322, 6.93086880e-310,\n",
       "               5.30460530e-001, 4.69994047e-001, 6.41515003e-001,\n",
       "               1.00000000e+000],\n",
       "              [1.18575755e-322, 6.93086270e-310, 4.94065646e-324,\n",
       "               5.30460530e-001, 4.69994047e-001, 6.41515003e-001,\n",
       "               1.00000000e+000],\n",
       "              [4.65086864e-310, 9.88131292e-323, 4.65086663e-310,\n",
       "               5.30460530e-001, 4.69994047e-001, 6.41515003e-001,\n",
       "               1.00000000e+000]],\n",
       "\n",
       "             [[0.00000000e+000, 0.00000000e+000, 8.39911598e-323,\n",
       "               3.71732069e-001, 3.47414972e-001, 7.24709820e-001,\n",
       "               1.00000000e+000],\n",
       "              [3.60739284e-313, 2.96439388e-323, 4.65086864e-310,\n",
       "               3.71732069e-001, 3.47414972e-001, 7.24709820e-001,\n",
       "               1.00000000e+000],\n",
       "              [0.00000000e+000, 9.88131292e-324, 3.60739284e-313,\n",
       "               3.71732069e-001, 3.47414972e-001, 7.24709820e-001,\n",
       "               1.00000000e+000],\n",
       "              [4.65086864e-310, 0.00000000e+000, 0.00000000e+000,\n",
       "               3.71732069e-001, 3.47414972e-001, 7.24709820e-001,\n",
       "               1.00000000e+000]],\n",
       "\n",
       "             [[0.00000000e+000, 0.00000000e+000, 0.00000000e+000,\n",
       "               4.85731043e-001, 7.83135849e-001, 9.05254632e-002,\n",
       "               1.00000000e+000],\n",
       "              [0.00000000e+000, 0.00000000e+000, 0.00000000e+000,\n",
       "               4.85731043e-001, 7.83135849e-001, 9.05254632e-002,\n",
       "               1.00000000e+000],\n",
       "              [0.00000000e+000, 0.00000000e+000, 0.00000000e+000,\n",
       "               4.85731043e-001, 7.83135849e-001, 9.05254632e-002,\n",
       "               1.00000000e+000],\n",
       "              [0.00000000e+000, 0.00000000e+000, 0.00000000e+000,\n",
       "               4.85731043e-001, 7.83135849e-001, 9.05254632e-002,\n",
       "               1.00000000e+000]],\n",
       "\n",
       "             [[0.00000000e+000, 0.00000000e+000, 0.00000000e+000,\n",
       "               4.73535814e-001, 5.51657059e-001, 4.32120223e-001,\n",
       "               1.00000000e+000],\n",
       "              [0.00000000e+000, 0.00000000e+000, 0.00000000e+000,\n",
       "               4.73535814e-001, 5.51657059e-001, 4.32120223e-001,\n",
       "               1.00000000e+000],\n",
       "              [0.00000000e+000, 0.00000000e+000, 0.00000000e+000,\n",
       "               4.73535814e-001, 5.51657059e-001, 4.32120223e-001,\n",
       "               1.00000000e+000],\n",
       "              [0.00000000e+000, 0.00000000e+000, 0.00000000e+000,\n",
       "               4.73535814e-001, 5.51657059e-001, 4.32120223e-001,\n",
       "               1.00000000e+000]],\n",
       "\n",
       "             [[0.00000000e+000, 0.00000000e+000, 0.00000000e+000,\n",
       "               6.12953033e-001, 3.73993333e-001, 4.79254737e-001,\n",
       "               1.00000000e+000],\n",
       "              [0.00000000e+000, 0.00000000e+000, 0.00000000e+000,\n",
       "               6.12953033e-001, 3.73993333e-001, 4.79254737e-001,\n",
       "               1.00000000e+000],\n",
       "              [0.00000000e+000, 0.00000000e+000, 0.00000000e+000,\n",
       "               6.12953033e-001, 3.73993333e-001, 4.79254737e-001,\n",
       "               1.00000000e+000],\n",
       "              [0.00000000e+000, 0.00000000e+000, 0.00000000e+000,\n",
       "               6.12953033e-001, 3.73993333e-001, 4.79254737e-001,\n",
       "               1.00000000e+000]],\n",
       "\n",
       "             [[0.00000000e+000, 0.00000000e+000, 0.00000000e+000,\n",
       "               5.61578069e-001, 1.37899606e-001, 9.70746889e-001,\n",
       "               1.00000000e+000],\n",
       "              [0.00000000e+000, 0.00000000e+000, 0.00000000e+000,\n",
       "               5.61578069e-001, 1.37899606e-001, 9.70746889e-001,\n",
       "               1.00000000e+000],\n",
       "              [0.00000000e+000, 0.00000000e+000, 0.00000000e+000,\n",
       "               5.61578069e-001, 1.37899606e-001, 9.70746889e-001,\n",
       "               1.00000000e+000],\n",
       "              [0.00000000e+000, 0.00000000e+000, 0.00000000e+000,\n",
       "               5.61578069e-001, 1.37899606e-001, 9.70746889e-001,\n",
       "               1.00000000e+000]],\n",
       "\n",
       "             [[0.00000000e+000, 0.00000000e+000, 0.00000000e+000,\n",
       "               2.01858424e-001, 8.78805816e-001, 8.03048897e-001,\n",
       "               1.00000000e+000],\n",
       "              [0.00000000e+000, 0.00000000e+000, 0.00000000e+000,\n",
       "               2.01858424e-001, 8.78805816e-001, 8.03048897e-001,\n",
       "               1.00000000e+000],\n",
       "              [0.00000000e+000, 0.00000000e+000, 0.00000000e+000,\n",
       "               2.01858424e-001, 8.78805816e-001, 8.03048897e-001,\n",
       "               1.00000000e+000],\n",
       "              [0.00000000e+000, 0.00000000e+000, 0.00000000e+000,\n",
       "               2.01858424e-001, 8.78805816e-001, 8.03048897e-001,\n",
       "               1.00000000e+000]],\n",
       "\n",
       "             [[0.00000000e+000, 0.00000000e+000, 0.00000000e+000,\n",
       "               8.24816175e-001, 9.11842680e-001, 8.40277515e-001,\n",
       "               1.00000000e+000],\n",
       "              [0.00000000e+000, 0.00000000e+000, 0.00000000e+000,\n",
       "               8.24816175e-001, 9.11842680e-001, 8.40277515e-001,\n",
       "               1.00000000e+000],\n",
       "              [0.00000000e+000, 0.00000000e+000, 0.00000000e+000,\n",
       "               8.24816175e-001, 9.11842680e-001, 8.40277515e-001,\n",
       "               1.00000000e+000],\n",
       "              [0.00000000e+000, 0.00000000e+000, 0.00000000e+000,\n",
       "               8.24816175e-001, 9.11842680e-001, 8.40277515e-001,\n",
       "               1.00000000e+000]],\n",
       "\n",
       "             [[0.00000000e+000, 0.00000000e+000, 0.00000000e+000,\n",
       "               1.55988363e-001, 2.08316799e-001, 5.96069285e-001,\n",
       "               1.00000000e+000],\n",
       "              [0.00000000e+000, 0.00000000e+000, 0.00000000e+000,\n",
       "               1.55988363e-001, 2.08316799e-001, 5.96069285e-001,\n",
       "               1.00000000e+000],\n",
       "              [0.00000000e+000, 0.00000000e+000, 0.00000000e+000,\n",
       "               1.55988363e-001, 2.08316799e-001, 5.96069285e-001,\n",
       "               1.00000000e+000],\n",
       "              [0.00000000e+000, 0.00000000e+000, 0.00000000e+000,\n",
       "               1.55988363e-001, 2.08316799e-001, 5.96069285e-001,\n",
       "               1.00000000e+000]],\n",
       "\n",
       "             [[0.00000000e+000, 0.00000000e+000, 0.00000000e+000,\n",
       "               2.63255399e-001, 8.41792257e-001, 9.82612919e-001,\n",
       "               1.00000000e+000],\n",
       "              [0.00000000e+000, 0.00000000e+000, 0.00000000e+000,\n",
       "               2.63255399e-001, 8.41792257e-001, 9.82612919e-001,\n",
       "               1.00000000e+000],\n",
       "              [0.00000000e+000, 0.00000000e+000, 0.00000000e+000,\n",
       "               2.63255399e-001, 8.41792257e-001, 9.82612919e-001,\n",
       "               1.00000000e+000],\n",
       "              [0.00000000e+000, 0.00000000e+000, 0.00000000e+000,\n",
       "               2.63255399e-001, 8.41792257e-001, 9.82612919e-001,\n",
       "               1.00000000e+000]]])"
      ]
     },
     "execution_count": 4,
     "metadata": {},
     "output_type": "execute_result"
    }
   ],
   "source": [
    "T"
   ]
  },
  {
   "cell_type": "code",
   "execution_count": null,
   "metadata": {},
   "outputs": [],
   "source": []
  },
  {
   "cell_type": "markdown",
   "metadata": {},
   "source": [
    "## Cube"
   ]
  },
  {
   "cell_type": "code",
   "execution_count": 1,
   "metadata": {},
   "outputs": [
    {
     "ename": "AttributeError",
     "evalue": "'Cube' object has no attribute 'transform'",
     "output_type": "error",
     "traceback": [
      "\u001b[0;31m---------------------------------------------------------------------------\u001b[0m",
      "\u001b[0;31mAttributeError\u001b[0m                            Traceback (most recent call last)",
      "\u001b[0;32m<ipython-input-1-87d9e92cedaa>\u001b[0m in \u001b[0;36m<module>\u001b[0;34m\u001b[0m\n\u001b[1;32m      1\u001b[0m \u001b[0;32mfrom\u001b[0m \u001b[0mpy3d\u001b[0m \u001b[0;32mimport\u001b[0m \u001b[0mCube\u001b[0m\u001b[0;34m\u001b[0m\u001b[0;34m\u001b[0m\u001b[0m\n\u001b[0;32m----> 2\u001b[0;31m \u001b[0mc\u001b[0m\u001b[0;34m=\u001b[0m\u001b[0mCube\u001b[0m\u001b[0;34m(\u001b[0m\u001b[0;36m30\u001b[0m\u001b[0;34m)\u001b[0m\u001b[0;34m\u001b[0m\u001b[0;34m\u001b[0m\u001b[0m\n\u001b[0m\u001b[1;32m      3\u001b[0m \u001b[0mc\u001b[0m\u001b[0;34m.\u001b[0m\u001b[0mrender\u001b[0m\u001b[0;34m(\u001b[0m\u001b[0;34m)\u001b[0m\u001b[0;34m\u001b[0m\u001b[0;34m\u001b[0m\u001b[0m\n",
      "\u001b[0;32m/mnt/d/codes/scenario/py3d/py3d/core.py\u001b[0m in \u001b[0;36m__new__\u001b[0;34m(cls, *n)\u001b[0m\n\u001b[1;32m    721\u001b[0m             ]\n\u001b[1;32m    722\u001b[0m         )\n\u001b[0;32m--> 723\u001b[0;31m         \u001b[0mret\u001b[0m\u001b[0;34m.\u001b[0m\u001b[0mvertice\u001b[0m \u001b[0;34m=\u001b[0m \u001b[0mret\u001b[0m\u001b[0;34m.\u001b[0m\u001b[0mvertice_base\u001b[0m\u001b[0;34m.\u001b[0m\u001b[0mmt\u001b[0m\u001b[0;34m(\u001b[0m\u001b[0mret\u001b[0m\u001b[0;34m.\u001b[0m\u001b[0mtransform\u001b[0m\u001b[0;34m)\u001b[0m\u001b[0;34m\u001b[0m\u001b[0;34m\u001b[0m\u001b[0m\n\u001b[0m\u001b[1;32m    724\u001b[0m         \u001b[0;32mreturn\u001b[0m \u001b[0mret\u001b[0m\u001b[0;34m\u001b[0m\u001b[0;34m\u001b[0m\u001b[0m\n\u001b[1;32m    725\u001b[0m \u001b[0;34m\u001b[0m\u001b[0m\n",
      "\u001b[0;31mAttributeError\u001b[0m: 'Cube' object has no attribute 'transform'"
     ]
    }
   ],
   "source": [
    "from py3d import Cube\n",
    "c=Cube(30)\n",
    "c.render()"
   ]
  },
  {
   "cell_type": "code",
   "execution_count": null,
   "metadata": {},
   "outputs": [
    {
     "name": "stdout",
     "output_type": "stream",
     "text": [
      "click http://localhost:8000/view/c59f5be6-3102-11ec-b525-9d7ed9d0e3a4 to view in browser\n"
     ]
    },
    {
     "data": {
      "text/html": [
       "\n",
       "        <iframe\n",
       "            width=\"100%\"\n",
       "            height=\"600px\"\n",
       "            src=\"http://localhost:8000/view/c59f5be6-3102-11ec-b525-9d7ed9d0e3a4\"\n",
       "            frameborder=\"0\"\n",
       "            allowfullscreen\n",
       "        ></iframe>\n",
       "        "
      ],
      "text/plain": [
       "<IPython.lib.display.IFrame at 0x7f12fb516d60>"
      ]
     },
     "metadata": {},
     "output_type": "display_data"
    },
    {
     "data": {
      "text/plain": [
       "<server.Space at 0x7f12fb516dc0>"
      ]
     },
     "execution_count": 13,
     "metadata": {},
     "output_type": "execute_result"
    }
   ],
   "source": [
    "c.vertices.x+=1\n",
    "c.render()"
   ]
  },
  {
   "cell_type": "code",
   "execution_count": null,
   "metadata": {},
   "outputs": [
    {
     "name": "stdout",
     "output_type": "stream",
     "text": [
      "click http://localhost:8000/view/f6975a02-33d0-11ec-b11d-d156ec058649 to view in browser\n"
     ]
    },
    {
     "data": {
      "text/html": [
       "\n",
       "        <iframe\n",
       "            width=\"100%\"\n",
       "            height=\"600px\"\n",
       "            src=\"http://localhost:8000/view/f6975a02-33d0-11ec-b11d-d156ec058649\"\n",
       "            frameborder=\"0\"\n",
       "            allowfullscreen\n",
       "        ></iframe>\n",
       "        "
      ],
      "text/plain": [
       "<IPython.lib.display.IFrame at 0x7fd9d5fcbdc0>"
      ]
     },
     "metadata": {},
     "output_type": "display_data"
    }
   ],
   "source": [
    "from py3d import Vector3\n",
    "c.vertice*=Vector3(1,2,3)\n",
    "c.render()"
   ]
  },
  {
   "cell_type": "code",
   "execution_count": 13,
   "metadata": {},
   "outputs": [
    {
     "ename": "TypeError",
     "evalue": "'tuple' object cannot be interpreted as an integer",
     "output_type": "error",
     "traceback": [
      "\u001b[0;31m---------------------------------------------------------------------------\u001b[0m",
      "\u001b[0;31mTypeError\u001b[0m                                 Traceback (most recent call last)",
      "\u001b[0;32m<ipython-input-13-4f34b8c32982>\u001b[0m in \u001b[0;36m<module>\u001b[0;34m\u001b[0m\n\u001b[1;32m      1\u001b[0m \u001b[0;32mfrom\u001b[0m \u001b[0mpy3d\u001b[0m \u001b[0;32mimport\u001b[0m \u001b[0mRotation3\u001b[0m\u001b[0;34m,\u001b[0m\u001b[0mCube\u001b[0m\u001b[0;34m\u001b[0m\u001b[0;34m\u001b[0m\u001b[0m\n\u001b[0;32m----> 2\u001b[0;31m \u001b[0mc\u001b[0m\u001b[0;34m=\u001b[0m\u001b[0mCube\u001b[0m\u001b[0;34m(\u001b[0m\u001b[0;36m10\u001b[0m\u001b[0;34m)\u001b[0m\u001b[0;34m\u001b[0m\u001b[0;34m\u001b[0m\u001b[0m\n\u001b[0m\u001b[1;32m      3\u001b[0m \u001b[0mc\u001b[0m\u001b[0;34m.\u001b[0m\u001b[0mvertice\u001b[0m\u001b[0;34m=\u001b[0m\u001b[0mc\u001b[0m\u001b[0;34m.\u001b[0m\u001b[0mvertice\u001b[0m\u001b[0;34m.\u001b[0m\u001b[0mdot\u001b[0m\u001b[0;34m(\u001b[0m\u001b[0mRotation3\u001b[0m\u001b[0;34m.\u001b[0m\u001b[0mRx\u001b[0m\u001b[0;34m(\u001b[0m\u001b[0;36m1\u001b[0m\u001b[0;34m)\u001b[0m\u001b[0;34m)\u001b[0m\u001b[0;34m*\u001b[0m\u001b[0;36m3\u001b[0m\u001b[0;34m\u001b[0m\u001b[0;34m\u001b[0m\u001b[0m\n\u001b[1;32m      4\u001b[0m \u001b[0mc\u001b[0m\u001b[0;34m.\u001b[0m\u001b[0mrender\u001b[0m\u001b[0;34m(\u001b[0m\u001b[0;34m)\u001b[0m\u001b[0;34m\u001b[0m\u001b[0;34m\u001b[0m\u001b[0m\n",
      "\u001b[0;32m/mnt/d/codes/scenario/py3d/py3d/core.py\u001b[0m in \u001b[0;36m__new__\u001b[0;34m(cls, *n)\u001b[0m\n\u001b[1;32m    740\u001b[0m             ]\n\u001b[1;32m    741\u001b[0m         )\n\u001b[0;32m--> 742\u001b[0;31m         \u001b[0mret\u001b[0m\u001b[0;34m.\u001b[0m\u001b[0mtransform\u001b[0m \u001b[0;34m=\u001b[0m \u001b[0mTransform3\u001b[0m\u001b[0;34m.\u001b[0m\u001b[0mRand\u001b[0m\u001b[0;34m(\u001b[0m\u001b[0mn\u001b[0m\u001b[0;34m)\u001b[0m\u001b[0;34m\u001b[0m\u001b[0;34m\u001b[0m\u001b[0m\n\u001b[0m\u001b[1;32m    743\u001b[0m         \u001b[0mret\u001b[0m\u001b[0;34m.\u001b[0m\u001b[0mvertice\u001b[0m \u001b[0;34m=\u001b[0m \u001b[0mret\u001b[0m\u001b[0;34m.\u001b[0m\u001b[0mvertice_base\u001b[0m\u001b[0;34m.\u001b[0m\u001b[0mmt\u001b[0m\u001b[0;34m(\u001b[0m\u001b[0mret\u001b[0m\u001b[0;34m.\u001b[0m\u001b[0mtransform\u001b[0m\u001b[0;34m)\u001b[0m\u001b[0;34m\u001b[0m\u001b[0;34m\u001b[0m\u001b[0m\n\u001b[1;32m    744\u001b[0m         \u001b[0;32mreturn\u001b[0m \u001b[0mret\u001b[0m\u001b[0;34m\u001b[0m\u001b[0;34m\u001b[0m\u001b[0m\n",
      "\u001b[0;32m/mnt/d/codes/scenario/py3d/py3d/core.py\u001b[0m in \u001b[0;36mRand\u001b[0;34m(cls, n)\u001b[0m\n\u001b[1;32m    487\u001b[0m     \u001b[0;34m@\u001b[0m\u001b[0mclassmethod\u001b[0m\u001b[0;34m\u001b[0m\u001b[0;34m\u001b[0m\u001b[0m\n\u001b[1;32m    488\u001b[0m     \u001b[0;32mdef\u001b[0m \u001b[0mRand\u001b[0m\u001b[0;34m(\u001b[0m\u001b[0mcls\u001b[0m\u001b[0;34m,\u001b[0m \u001b[0mn\u001b[0m\u001b[0;34m=\u001b[0m\u001b[0;36m1\u001b[0m\u001b[0;34m)\u001b[0m\u001b[0;34m:\u001b[0m\u001b[0;34m\u001b[0m\u001b[0;34m\u001b[0m\u001b[0m\n\u001b[0;32m--> 489\u001b[0;31m         \u001b[0;32mreturn\u001b[0m \u001b[0;34m(\u001b[0m\u001b[0mVector3\u001b[0m\u001b[0;34m.\u001b[0m\u001b[0mRand\u001b[0m\u001b[0;34m(\u001b[0m\u001b[0mn\u001b[0m\u001b[0;34m)\u001b[0m\u001b[0;34m.\u001b[0m\u001b[0mas_scaling_matrix\u001b[0m\u001b[0;34m(\u001b[0m\u001b[0;34m)\u001b[0m\u001b[0;34m@\u001b[0m\u001b[0mRotation3\u001b[0m\u001b[0;34m.\u001b[0m\u001b[0mRand\u001b[0m\u001b[0;34m(\u001b[0m\u001b[0mn\u001b[0m\u001b[0;34m)\u001b[0m\u001b[0;34m.\u001b[0m\u001b[0mto_matrix44\u001b[0m\u001b[0;34m(\u001b[0m\u001b[0;34m)\u001b[0m\u001b[0;34m@\u001b[0m\u001b[0mVector3\u001b[0m\u001b[0;34m.\u001b[0m\u001b[0mRand\u001b[0m\u001b[0;34m(\u001b[0m\u001b[0mn\u001b[0m\u001b[0;34m)\u001b[0m\u001b[0;34m.\u001b[0m\u001b[0mas_translation_matrix\u001b[0m\u001b[0;34m(\u001b[0m\u001b[0;34m)\u001b[0m\u001b[0;34m)\u001b[0m\u001b[0;34m.\u001b[0m\u001b[0mview\u001b[0m\u001b[0;34m(\u001b[0m\u001b[0mcls\u001b[0m\u001b[0;34m)\u001b[0m\u001b[0;34m\u001b[0m\u001b[0;34m\u001b[0m\u001b[0m\n\u001b[0m\u001b[1;32m    490\u001b[0m \u001b[0;34m\u001b[0m\u001b[0m\n\u001b[1;32m    491\u001b[0m     \u001b[0;34m@\u001b[0m\u001b[0mclassmethod\u001b[0m\u001b[0;34m\u001b[0m\u001b[0;34m\u001b[0m\u001b[0m\n",
      "\u001b[0;32m/mnt/d/codes/scenario/py3d/py3d/core.py\u001b[0m in \u001b[0;36mRand\u001b[0;34m(cls, *n)\u001b[0m\n\u001b[1;32m     93\u001b[0m     \u001b[0;34m@\u001b[0m\u001b[0mclassmethod\u001b[0m\u001b[0;34m\u001b[0m\u001b[0;34m\u001b[0m\u001b[0m\n\u001b[1;32m     94\u001b[0m     \u001b[0;32mdef\u001b[0m \u001b[0mRand\u001b[0m\u001b[0;34m(\u001b[0m\u001b[0mcls\u001b[0m\u001b[0;34m,\u001b[0m \u001b[0;34m*\u001b[0m\u001b[0mn\u001b[0m\u001b[0;34m)\u001b[0m\u001b[0;34m:\u001b[0m\u001b[0;34m\u001b[0m\u001b[0;34m\u001b[0m\u001b[0m\n\u001b[0;32m---> 95\u001b[0;31m         \u001b[0;32mreturn\u001b[0m \u001b[0mnumpy\u001b[0m\u001b[0;34m.\u001b[0m\u001b[0mrandom\u001b[0m\u001b[0;34m.\u001b[0m\u001b[0mrand\u001b[0m\u001b[0;34m(\u001b[0m\u001b[0;34m*\u001b[0m\u001b[0mn\u001b[0m\u001b[0;34m,\u001b[0m \u001b[0;36m3\u001b[0m\u001b[0;34m)\u001b[0m\u001b[0;34m.\u001b[0m\u001b[0mview\u001b[0m\u001b[0;34m(\u001b[0m\u001b[0mcls\u001b[0m\u001b[0;34m)\u001b[0m\u001b[0;34m\u001b[0m\u001b[0;34m\u001b[0m\u001b[0m\n\u001b[0m\u001b[1;32m     96\u001b[0m \u001b[0;34m\u001b[0m\u001b[0m\n\u001b[1;32m     97\u001b[0m     \u001b[0;34m@\u001b[0m\u001b[0mproperty\u001b[0m\u001b[0;34m\u001b[0m\u001b[0;34m\u001b[0m\u001b[0m\n",
      "\u001b[0;32mmtrand.pyx\u001b[0m in \u001b[0;36mnumpy.random.mtrand.RandomState.rand\u001b[0;34m()\u001b[0m\n",
      "\u001b[0;32mmtrand.pyx\u001b[0m in \u001b[0;36mnumpy.random.mtrand.RandomState.random_sample\u001b[0;34m()\u001b[0m\n",
      "\u001b[0;32m_common.pyx\u001b[0m in \u001b[0;36mnumpy.random._common.double_fill\u001b[0;34m()\u001b[0m\n",
      "\u001b[0;31mTypeError\u001b[0m: 'tuple' object cannot be interpreted as an integer"
     ]
    }
   ],
   "source": [
    "from py3d import Rotation3,Cube\n",
    "c=Cube(10)\n",
    "c.vertice=c.vertice.dot(Rotation3.Rx(1))*3\n",
    "c.render()"
   ]
  },
  {
   "cell_type": "code",
   "execution_count": null,
   "metadata": {},
   "outputs": [
    {
     "name": "stdout",
     "output_type": "stream",
     "text": [
      "click http://localhost:8000/view/6bc42a42-33e2-11ec-be15-0fd868baee9b to view in browser\n"
     ]
    },
    {
     "data": {
      "text/html": [
       "\n",
       "        <iframe\n",
       "            width=\"100%\"\n",
       "            height=\"600px\"\n",
       "            src=\"http://localhost:8000/view/6bc42a42-33e2-11ec-be15-0fd868baee9b\"\n",
       "            frameborder=\"0\"\n",
       "            allowfullscreen\n",
       "        ></iframe>\n",
       "        "
      ],
      "text/plain": [
       "<IPython.lib.display.IFrame at 0x7fd3bff0f7f0>"
      ]
     },
     "metadata": {},
     "output_type": "display_data"
    }
   ],
   "source": [
    "c[2:5].color.a=1\n",
    "c[2:5].render()"
   ]
  },
  {
   "cell_type": "markdown",
   "metadata": {},
   "source": [
    "Control multiple boxes at the same time "
   ]
  },
  {
   "cell_type": "code",
   "execution_count": null,
   "metadata": {},
   "outputs": [
    {
     "name": "stdout",
     "output_type": "stream",
     "text": [
      "click http://localhost:8000/view/e2817fb4-3102-11ec-b525-9d7ed9d0e3a4 to view in browser\n"
     ]
    },
    {
     "data": {
      "text/html": [
       "\n",
       "        <iframe\n",
       "            width=\"100%\"\n",
       "            height=\"600px\"\n",
       "            src=\"http://localhost:8000/view/e2817fb4-3102-11ec-b525-9d7ed9d0e3a4\"\n",
       "            frameborder=\"0\"\n",
       "            allowfullscreen\n",
       "        ></iframe>\n",
       "        "
      ],
      "text/plain": [
       "<IPython.lib.display.IFrame at 0x7f12fb55cc40>"
      ]
     },
     "metadata": {},
     "output_type": "display_data"
    },
    {
     "data": {
      "text/plain": [
       "<server.Space at 0x7f12fb55c2b0>"
      ]
     },
     "execution_count": 18,
     "metadata": {},
     "output_type": "execute_result"
    }
   ],
   "source": [
    "from py3d import Cube,Transform3,Vector3,Rotation3\n",
    "n=50\n",
    "cubes=Cube(n)\n",
    "cubes.transform.translation=Vector3.Rand(n)*10\n",
    "cubes.transform.scaling=Vector3.Rand(n)*3\n",
    "cubes.transform.rotation=Rotation3.Rand(n)\n",
    "cubes.render()"
   ]
  },
  {
   "cell_type": "markdown",
   "metadata": {},
   "source": [
    "## Arrow"
   ]
  },
  {
   "cell_type": "code",
   "execution_count": 12,
   "metadata": {},
   "outputs": [
    {
     "name": "stdout",
     "output_type": "stream",
     "text": [
      "click http://localhost:8000/view/1518d38c-449a-11ec-b648-e3231982a185 to view in browser\n"
     ]
    },
    {
     "ename": "ValueError",
     "evalue": "could not broadcast input array from shape (3,1) into shape (3)",
     "output_type": "error",
     "traceback": [
      "\u001b[0;31m---------------------------------------------------------------------------\u001b[0m",
      "\u001b[0;31mValueError\u001b[0m                                Traceback (most recent call last)",
      "\u001b[0;32m<ipython-input-12-5f3133356002>\u001b[0m in \u001b[0;36m<module>\u001b[0;34m\u001b[0m\n\u001b[1;32m      5\u001b[0m \u001b[0marrow\u001b[0m\u001b[0;34m.\u001b[0m\u001b[0mstart\u001b[0m\u001b[0;34m=\u001b[0m\u001b[0mstart\u001b[0m\u001b[0;34m\u001b[0m\u001b[0;34m\u001b[0m\u001b[0m\n\u001b[1;32m      6\u001b[0m \u001b[0marrow\u001b[0m\u001b[0;34m.\u001b[0m\u001b[0mend\u001b[0m\u001b[0;34m=\u001b[0m\u001b[0mend\u001b[0m\u001b[0;34m\u001b[0m\u001b[0;34m\u001b[0m\u001b[0m\n\u001b[0;32m----> 7\u001b[0;31m \u001b[0marrow\u001b[0m\u001b[0;34m.\u001b[0m\u001b[0mrender\u001b[0m\u001b[0;34m(\u001b[0m\u001b[0;34m)\u001b[0m\u001b[0;34m\u001b[0m\u001b[0;34m\u001b[0m\u001b[0m\n\u001b[0m",
      "\u001b[0;32m/mnt/d/codes/scenario/py3d/py3d/core.py\u001b[0m in \u001b[0;36mrender\u001b[0;34m(self, page)\u001b[0m\n\u001b[1;32m    763\u001b[0m     \u001b[0;32mdef\u001b[0m \u001b[0mrender\u001b[0m\u001b[0;34m(\u001b[0m\u001b[0mself\u001b[0m\u001b[0;34m,\u001b[0m \u001b[0mpage\u001b[0m\u001b[0;34m=\u001b[0m\u001b[0;32mNone\u001b[0m\u001b[0;34m)\u001b[0m\u001b[0;34m:\u001b[0m\u001b[0;34m\u001b[0m\u001b[0;34m\u001b[0m\u001b[0m\n\u001b[1;32m    764\u001b[0m         \u001b[0mpage\u001b[0m \u001b[0;34m=\u001b[0m \u001b[0mpage\u001b[0m \u001b[0;32mif\u001b[0m \u001b[0mpage\u001b[0m \u001b[0;32melse\u001b[0m \u001b[0mSpace\u001b[0m\u001b[0;34m(\u001b[0m\u001b[0;34m)\u001b[0m\u001b[0;34m\u001b[0m\u001b[0;34m\u001b[0m\u001b[0m\n\u001b[0;32m--> 765\u001b[0;31m         \u001b[0mself\u001b[0m\u001b[0;34m.\u001b[0m\u001b[0mhead\u001b[0m\u001b[0;34m.\u001b[0m\u001b[0mvertice\u001b[0m \u001b[0;34m=\u001b[0m \u001b[0mself\u001b[0m\u001b[0;34m.\u001b[0m\u001b[0mhead_base\u001b[0m\u001b[0;34m.\u001b[0m\u001b[0mmt\u001b[0m\u001b[0;34m(\u001b[0m\u001b[0mTransform3\u001b[0m\u001b[0;34m.\u001b[0m\u001b[0mfrom_vector_change\u001b[0m\u001b[0;34m(\u001b[0m\u001b[0mVector3\u001b[0m\u001b[0;34m(\u001b[0m\u001b[0;34m)\u001b[0m\u001b[0;34m,\u001b[0m \u001b[0mVector3\u001b[0m\u001b[0;34m(\u001b[0m\u001b[0mx\u001b[0m\u001b[0;34m=\u001b[0m\u001b[0;36m1\u001b[0m\u001b[0;34m)\u001b[0m\u001b[0;34m,\u001b[0m \u001b[0mself\u001b[0m\u001b[0;34m.\u001b[0m\u001b[0mstart\u001b[0m\u001b[0;34m,\u001b[0m \u001b[0mself\u001b[0m\u001b[0;34m.\u001b[0m\u001b[0mend\u001b[0m\u001b[0;34m)\u001b[0m\u001b[0;34m)\u001b[0m\u001b[0;34m\u001b[0m\u001b[0;34m\u001b[0m\u001b[0m\n\u001b[0m\u001b[1;32m    766\u001b[0m         \u001b[0mself\u001b[0m\u001b[0;34m.\u001b[0m\u001b[0mhead\u001b[0m\u001b[0;34m.\u001b[0m\u001b[0mrender\u001b[0m\u001b[0;34m(\u001b[0m\u001b[0mpage\u001b[0m\u001b[0;34m)\u001b[0m\u001b[0;34m\u001b[0m\u001b[0;34m\u001b[0m\u001b[0m\n\u001b[1;32m    767\u001b[0m         \u001b[0msuper\u001b[0m\u001b[0;34m(\u001b[0m\u001b[0;34m)\u001b[0m\u001b[0;34m.\u001b[0m\u001b[0mrender\u001b[0m\u001b[0;34m(\u001b[0m\u001b[0mpage\u001b[0m\u001b[0;34m)\u001b[0m\u001b[0;34m\u001b[0m\u001b[0;34m\u001b[0m\u001b[0m\n",
      "\u001b[0;32m/mnt/d/codes/scenario/py3d/py3d/core.py\u001b[0m in \u001b[0;36mfrom_vector_change\u001b[0;34m(cls, p0, p1, p0_, p1_)\u001b[0m\n\u001b[1;32m    495\u001b[0m         \u001b[0ms\u001b[0m \u001b[0;34m=\u001b[0m \u001b[0md_\u001b[0m\u001b[0;34m.\u001b[0m\u001b[0mnorm\u001b[0m\u001b[0;34m(\u001b[0m\u001b[0;34m)\u001b[0m \u001b[0;34m/\u001b[0m \u001b[0md\u001b[0m\u001b[0;34m.\u001b[0m\u001b[0mnorm\u001b[0m\u001b[0;34m(\u001b[0m\u001b[0;34m)\u001b[0m\u001b[0;34m\u001b[0m\u001b[0;34m\u001b[0m\u001b[0m\n\u001b[1;32m    496\u001b[0m         \u001b[0mret\u001b[0m \u001b[0;34m=\u001b[0m \u001b[0mTransform3\u001b[0m\u001b[0;34m(\u001b[0m\u001b[0mlen\u001b[0m\u001b[0;34m(\u001b[0m\u001b[0ms\u001b[0m\u001b[0;34m)\u001b[0m\u001b[0;34m)\u001b[0m\u001b[0;34m\u001b[0m\u001b[0;34m\u001b[0m\u001b[0m\n\u001b[0;32m--> 497\u001b[0;31m         \u001b[0mret\u001b[0m\u001b[0;34m.\u001b[0m\u001b[0mscaling\u001b[0m \u001b[0;34m=\u001b[0m \u001b[0mVector3\u001b[0m\u001b[0;34m(\u001b[0m\u001b[0ms\u001b[0m\u001b[0;34m,\u001b[0m \u001b[0ms\u001b[0m\u001b[0;34m,\u001b[0m \u001b[0ms\u001b[0m\u001b[0;34m)\u001b[0m\u001b[0;34m\u001b[0m\u001b[0;34m\u001b[0m\u001b[0m\n\u001b[0m\u001b[1;32m    498\u001b[0m         \u001b[0mret\u001b[0m\u001b[0;34m.\u001b[0m\u001b[0mtranslation\u001b[0m \u001b[0;34m=\u001b[0m \u001b[0mp0_\u001b[0m \u001b[0;34m-\u001b[0m \u001b[0mp0\u001b[0m\u001b[0;34m\u001b[0m\u001b[0;34m\u001b[0m\u001b[0m\n\u001b[1;32m    499\u001b[0m         \u001b[0mret\u001b[0m\u001b[0;34m.\u001b[0m\u001b[0mrotation\u001b[0m \u001b[0;34m=\u001b[0m \u001b[0mQuaternion\u001b[0m\u001b[0;34m.\u001b[0m\u001b[0mfrom_direction_change\u001b[0m\u001b[0;34m(\u001b[0m\u001b[0md\u001b[0m\u001b[0;34m,\u001b[0m \u001b[0md_\u001b[0m\u001b[0;34m)\u001b[0m\u001b[0;34m.\u001b[0m\u001b[0mto_matrix33\u001b[0m\u001b[0;34m(\u001b[0m\u001b[0;34m)\u001b[0m\u001b[0;34m\u001b[0m\u001b[0;34m\u001b[0m\u001b[0m\n",
      "\u001b[0;32m/mnt/d/codes/scenario/py3d/py3d/core.py\u001b[0m in \u001b[0;36mscaling\u001b[0;34m(self, v)\u001b[0m\n\u001b[1;32m    519\u001b[0m     \u001b[0;32mdef\u001b[0m \u001b[0mscaling\u001b[0m\u001b[0;34m(\u001b[0m\u001b[0mself\u001b[0m\u001b[0;34m,\u001b[0m \u001b[0mv\u001b[0m\u001b[0;34m)\u001b[0m\u001b[0;34m:\u001b[0m\u001b[0;34m\u001b[0m\u001b[0;34m\u001b[0m\u001b[0m\n\u001b[1;32m    520\u001b[0m         self[:] = (\n\u001b[0;32m--> 521\u001b[0;31m             \u001b[0mv\u001b[0m\u001b[0;34m.\u001b[0m\u001b[0mas_scaling_matrix\u001b[0m\u001b[0;34m(\u001b[0m\u001b[0;34m)\u001b[0m\u001b[0;34m\u001b[0m\u001b[0;34m\u001b[0m\u001b[0m\n\u001b[0m\u001b[1;32m    522\u001b[0m             \u001b[0;34m@\u001b[0m \u001b[0mnumpy\u001b[0m\u001b[0;34m.\u001b[0m\u001b[0mlinalg\u001b[0m\u001b[0;34m.\u001b[0m\u001b[0minv\u001b[0m\u001b[0;34m(\u001b[0m\u001b[0mself\u001b[0m\u001b[0;34m.\u001b[0m\u001b[0mscaling\u001b[0m\u001b[0;34m.\u001b[0m\u001b[0mas_scaling_matrix\u001b[0m\u001b[0;34m(\u001b[0m\u001b[0;34m)\u001b[0m\u001b[0;34m)\u001b[0m\u001b[0;34m\u001b[0m\u001b[0;34m\u001b[0m\u001b[0m\n\u001b[1;32m    523\u001b[0m             \u001b[0;34m@\u001b[0m \u001b[0mself\u001b[0m\u001b[0;34m\u001b[0m\u001b[0;34m\u001b[0m\u001b[0m\n",
      "\u001b[0;32m/mnt/d/codes/scenario/py3d/py3d/core.py\u001b[0m in \u001b[0;36mas_scaling_matrix\u001b[0;34m(self)\u001b[0m\n\u001b[1;32m    174\u001b[0m     \u001b[0;32mdef\u001b[0m \u001b[0mas_scaling_matrix\u001b[0m\u001b[0;34m(\u001b[0m\u001b[0mself\u001b[0m\u001b[0;34m)\u001b[0m \u001b[0;34m->\u001b[0m \u001b[0mnumpy\u001b[0m\u001b[0;34m.\u001b[0m\u001b[0mndarray\u001b[0m\u001b[0;34m:\u001b[0m\u001b[0;34m\u001b[0m\u001b[0;34m\u001b[0m\u001b[0m\n\u001b[1;32m    175\u001b[0m         \u001b[0mret\u001b[0m \u001b[0;34m=\u001b[0m \u001b[0mnumpy\u001b[0m\u001b[0;34m.\u001b[0m\u001b[0mfull\u001b[0m\u001b[0;34m(\u001b[0m\u001b[0mself\u001b[0m\u001b[0;34m.\u001b[0m\u001b[0mn\u001b[0m \u001b[0;34m+\u001b[0m \u001b[0;34m(\u001b[0m\u001b[0;36m4\u001b[0m\u001b[0;34m,\u001b[0m \u001b[0;36m4\u001b[0m\u001b[0;34m)\u001b[0m\u001b[0;34m,\u001b[0m \u001b[0mnumpy\u001b[0m\u001b[0;34m.\u001b[0m\u001b[0meye\u001b[0m\u001b[0;34m(\u001b[0m\u001b[0;36m4\u001b[0m\u001b[0;34m)\u001b[0m\u001b[0;34m)\u001b[0m\u001b[0;34m.\u001b[0m\u001b[0msqueeze\u001b[0m\u001b[0;34m(\u001b[0m\u001b[0;34m)\u001b[0m\u001b[0;34m\u001b[0m\u001b[0;34m\u001b[0m\u001b[0m\n\u001b[0;32m--> 176\u001b[0;31m         \u001b[0mret\u001b[0m\u001b[0;34m[\u001b[0m\u001b[0;34m...\u001b[0m\u001b[0;34m,\u001b[0m \u001b[0;36m0\u001b[0m\u001b[0;34m,\u001b[0m \u001b[0;36m0\u001b[0m\u001b[0;34m]\u001b[0m \u001b[0;34m=\u001b[0m \u001b[0mself\u001b[0m\u001b[0;34m[\u001b[0m\u001b[0;34m...\u001b[0m\u001b[0;34m,\u001b[0m \u001b[0;36m0\u001b[0m\u001b[0;34m]\u001b[0m\u001b[0;34m\u001b[0m\u001b[0;34m\u001b[0m\u001b[0m\n\u001b[0m\u001b[1;32m    177\u001b[0m         \u001b[0mret\u001b[0m\u001b[0;34m[\u001b[0m\u001b[0;34m...\u001b[0m\u001b[0;34m,\u001b[0m \u001b[0;36m1\u001b[0m\u001b[0;34m,\u001b[0m \u001b[0;36m1\u001b[0m\u001b[0;34m]\u001b[0m \u001b[0;34m=\u001b[0m \u001b[0mself\u001b[0m\u001b[0;34m[\u001b[0m\u001b[0;34m...\u001b[0m\u001b[0;34m,\u001b[0m \u001b[0;36m1\u001b[0m\u001b[0;34m]\u001b[0m\u001b[0;34m\u001b[0m\u001b[0;34m\u001b[0m\u001b[0m\n\u001b[1;32m    178\u001b[0m         \u001b[0mret\u001b[0m\u001b[0;34m[\u001b[0m\u001b[0;34m...\u001b[0m\u001b[0;34m,\u001b[0m \u001b[0;36m2\u001b[0m\u001b[0;34m,\u001b[0m \u001b[0;36m2\u001b[0m\u001b[0;34m]\u001b[0m \u001b[0;34m=\u001b[0m \u001b[0mself\u001b[0m\u001b[0;34m[\u001b[0m\u001b[0;34m...\u001b[0m\u001b[0;34m,\u001b[0m \u001b[0;36m2\u001b[0m\u001b[0;34m]\u001b[0m\u001b[0;34m\u001b[0m\u001b[0;34m\u001b[0m\u001b[0m\n",
      "\u001b[0;31mValueError\u001b[0m: could not broadcast input array from shape (3,1) into shape (3)"
     ]
    }
   ],
   "source": [
    "from py3d import Vector3,Arrow\n",
    "start=Vector3(x=[1,2,3])\n",
    "end=start+Vector3(1,1,1)\n",
    "arrow=Arrow(3)\n",
    "arrow.start=start\n",
    "arrow.end=end\n",
    "arrow.render()"
   ]
  },
  {
   "cell_type": "markdown",
   "metadata": {},
   "source": [
    "# Move a 3d object"
   ]
  },
  {
   "cell_type": "code",
   "execution_count": null,
   "metadata": {},
   "outputs": [],
   "source": [
    "from py3d import Cube,Vector3,Rotation3\n",
    "import time\n",
    "n=100\n",
    "cube=Cube(n)\n",
    "cube.transform.translation=Vector3(x=range(-n,n,2))\n",
    "cube.transform.scaling=Vector3(0.5,1,0.2)\n",
    "cube.transform.rotation=Rotation3.Rz(1)\n",
    "s=cube.render()\n",
    "t=0\n",
    "while t<20:\n",
    "    cube.transform=cube.transform@Vector3(y=0.2).as_translation_matrix()\n",
    "    cube.render(s)\n",
    "    t+=1\n",
    "    time.sleep(0.2)"
   ]
  },
  {
   "cell_type": "code",
   "execution_count": null,
   "metadata": {},
   "outputs": [],
   "source": []
  }
 ],
 "metadata": {
  "interpreter": {
   "hash": "6aa3b417f6031089fe78d3bd6c6859fc6570bbd00574f35191098c43dfcf5211"
  },
  "kernelspec": {
   "display_name": "Python 3",
   "language": "python",
   "name": "python3"
  },
  "language_info": {
   "codemirror_mode": {
    "name": "ipython",
    "version": 3
   },
   "file_extension": ".py",
   "mimetype": "text/x-python",
   "name": "python",
   "nbconvert_exporter": "python",
   "pygments_lexer": "ipython3",
   "version": "3.8.3"
  }
 },
 "nbformat": 4,
 "nbformat_minor": 4
}
