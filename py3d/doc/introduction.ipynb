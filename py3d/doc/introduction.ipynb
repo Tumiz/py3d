{
 "cells": [
  {
   "cell_type": "markdown",
   "metadata": {},
   "source": [
    "*Copyright (c) Tumiz. Distributed under the terms of the GPL-3.0 License.*"
   ]
  },
  {
   "cell_type": "markdown",
   "metadata": {},
   "source": [
    "# What is py3d?\n",
    "py3d is a python 3d computational geometry library, which can deal with points, lines, planes and 3d meshes in batches. It is aimed at providing a tool to build a simulation environment as same as possible.\n",
    "py3d is designed to be a light weight library that it is only based on numpy, maybe it can be changed to cupy someday."
   ]
  },
  {
   "cell_type": "markdown",
   "metadata": {},
   "source": [
    "# Installation\n",
    "`pip install py3d`"
   ]
  },
  {
   "cell_type": "markdown",
   "metadata": {},
   "source": [
    "## Data"
   ]
  },
  {
   "cell_type": "code",
   "execution_count": 1,
   "metadata": {},
   "outputs": [
    {
     "data": {
      "text/plain": [
       "(Data([0.5]),\n",
       " Data([[-5.73021895e-300,  6.90278977e-310]]),\n",
       " Data([[[4.67413860e-310, 0.00000000e+000, 6.90273618e-310],\n",
       "        [6.90273620e-310, 6.90273620e-310, 6.90273618e-310]]]))"
      ]
     },
     "execution_count": 1,
     "metadata": {},
     "output_type": "execute_result"
    }
   ],
   "source": [
    "from py3d import Data\n",
    "Data(1),Data(1,2),Data(1,2,3)"
   ]
  },
  {
   "cell_type": "code",
   "execution_count": 2,
   "metadata": {},
   "outputs": [
    {
     "data": {
      "text/plain": [
       "Data([[[4.6741386e-310, 0.0000000e+000, 0.0000000e+000],\n",
       "       [0.0000000e+000, 0.0000000e+000, 0.0000000e+000]],\n",
       "\n",
       "      [[0.0000000e+000, 0.0000000e+000, 0.0000000e+000],\n",
       "       [0.0000000e+000, 0.0000000e+000, 0.0000000e+000]]])"
      ]
     },
     "execution_count": 2,
     "metadata": {},
     "output_type": "execute_result"
    }
   ],
   "source": [
    "from py3d import Data\n",
    "shape=(2,2,3)\n",
    "Data(*shape)"
   ]
  },
  {
   "cell_type": "code",
   "execution_count": 3,
   "metadata": {},
   "outputs": [
    {
     "data": {
      "text/plain": [
       "(Data([[4.6741386e-310, 0.0000000e+000, 1.5810101e-322],\n",
       "       [4.6741386e-310, 0.0000000e+000, 1.5810101e-322]]),\n",
       " Data([[[0., 0., 0.],\n",
       "        [0., 0., 0.]],\n",
       " \n",
       "       [[0., 0., 0.],\n",
       "        [0., 0., 0.]]]),\n",
       " Data([[0., 0., 0.],\n",
       "       [0., 0., 0.],\n",
       "       [0., 0., 0.],\n",
       "       [0., 0., 0.]]),\n",
       " Data([[[0., 0., 0.],\n",
       "        [0., 0., 0.],\n",
       "        [0., 0., 0.],\n",
       "        [0., 0., 0.]],\n",
       " \n",
       "       [[0., 0., 0.],\n",
       "        [0., 0., 0.],\n",
       "        [0., 0., 0.],\n",
       "        [0., 0., 0.]]]))"
      ]
     },
     "execution_count": 3,
     "metadata": {},
     "output_type": "execute_result"
    }
   ],
   "source": [
    "from py3d import Data\n",
    "Data(3).inflate(2),Data(2,3).inflate(2),Data(2,3).inflate(2,split=False),Data(2,2,3).inflate(2)"
   ]
  },
  {
   "cell_type": "code",
   "execution_count": 4,
   "metadata": {},
   "outputs": [
    {
     "data": {
      "text/plain": [
       "(Data([0., 0., 0., 0., 0., 0.]),\n",
       " Data([0., 0., 0., 0., 0., 0., 0., 0., 0., 0., 0., 0.]))"
      ]
     },
     "execution_count": 4,
     "metadata": {},
     "output_type": "execute_result"
    }
   ],
   "source": [
    "from py3d import Data\n",
    "Data(3).repeat(2),Data(2,3).repeat(2)"
   ]
  },
  {
   "cell_type": "markdown",
   "metadata": {},
   "source": [
    "# Vector3 --Type for position, velocity & scale"
   ]
  },
  {
   "cell_type": "markdown",
   "metadata": {},
   "source": [
    "**Vector3** represents point or position, velocity and scale. Note! Angular velocity cant be represented by this type, it should be represented by Rotation3 which will indroduced in next section. It is a class inheriting numpy.ndarray, so it is also ndarray."
   ]
  },
  {
   "cell_type": "markdown",
   "metadata": {},
   "source": [
    "## Defination\n",
    "\n",
    "```python\n",
    "Vector3(x:int|float|list|tuple|ndarray,y:int|float|list|tuple|ndarray,z:int|float|list|tuple|ndarray):Vector3\n",
    "```   \n",
    "Vector3 can be a vector or a collection of vectors. "
   ]
  },
  {
   "cell_type": "code",
   "execution_count": 5,
   "metadata": {},
   "outputs": [
    {
     "data": {
      "text/plain": [
       "Vector3([0., 0., 0.])"
      ]
     },
     "execution_count": 5,
     "metadata": {},
     "output_type": "execute_result"
    }
   ],
   "source": [
    "from py3d import Vector3\n",
    "Vector3()"
   ]
  },
  {
   "cell_type": "code",
   "execution_count": 6,
   "metadata": {},
   "outputs": [
    {
     "data": {
      "text/plain": [
       "Vector3([[0., 0., 0.],\n",
       "         [0., 0., 0.],\n",
       "         [0., 0., 0.],\n",
       "         [0., 0., 0.],\n",
       "         [0., 0., 0.]])"
      ]
     },
     "execution_count": 6,
     "metadata": {},
     "output_type": "execute_result"
    }
   ],
   "source": [
    "from py3d import Vector3\n",
    "Vector3(n=5)"
   ]
  },
  {
   "cell_type": "code",
   "execution_count": 7,
   "metadata": {},
   "outputs": [
    {
     "data": {
      "text/plain": [
       "Vector3([1., 2., 3.])"
      ]
     },
     "execution_count": 7,
     "metadata": {},
     "output_type": "execute_result"
    }
   ],
   "source": [
    "from py3d import Vector3\n",
    "Vector3(1,2,3)"
   ]
  },
  {
   "cell_type": "code",
   "execution_count": 8,
   "metadata": {},
   "outputs": [
    {
     "data": {
      "text/plain": [
       "Vector3([[1., 2., 3.],\n",
       "         [1., 2., 3.],\n",
       "         [1., 2., 3.],\n",
       "         [1., 2., 3.]])"
      ]
     },
     "execution_count": 8,
     "metadata": {},
     "output_type": "execute_result"
    }
   ],
   "source": [
    "from py3d import Vector3\n",
    "Vector3(1,2,3,n=4)"
   ]
  },
  {
   "cell_type": "code",
   "execution_count": 9,
   "metadata": {},
   "outputs": [
    {
     "data": {
      "text/plain": [
       "Vector3([[[1., 2., 3.],\n",
       "          [1., 2., 3.],\n",
       "          [1., 2., 3.],\n",
       "          [1., 2., 3.]],\n",
       "\n",
       "         [[1., 2., 3.],\n",
       "          [1., 2., 3.],\n",
       "          [1., 2., 3.],\n",
       "          [1., 2., 3.]]])"
      ]
     },
     "execution_count": 9,
     "metadata": {},
     "output_type": "execute_result"
    }
   ],
   "source": [
    "from py3d import Vector3\n",
    "Vector3(1,2,3,n=(2,4))"
   ]
  },
  {
   "cell_type": "code",
   "execution_count": 10,
   "metadata": {},
   "outputs": [
    {
     "data": {
      "text/plain": [
       "Vector3([[1., 0., 0.],\n",
       "         [2., 0., 0.],\n",
       "         [3., 0., 0.]])"
      ]
     },
     "execution_count": 10,
     "metadata": {},
     "output_type": "execute_result"
    }
   ],
   "source": [
    "from py3d import Vector3\n",
    "Vector3(x=[1,2,3])"
   ]
  },
  {
   "cell_type": "code",
   "execution_count": 11,
   "metadata": {},
   "outputs": [
    {
     "data": {
      "text/plain": [
       "Vector3([[1., 3., 0.],\n",
       "         [2., 4., 0.],\n",
       "         [3., 5., 0.]])"
      ]
     },
     "execution_count": 11,
     "metadata": {},
     "output_type": "execute_result"
    }
   ],
   "source": [
    "from py3d import Vector3\n",
    "Vector3(x=[1,2,3],y=[3,4,5])"
   ]
  },
  {
   "cell_type": "code",
   "execution_count": 12,
   "metadata": {},
   "outputs": [
    {
     "data": {
      "text/plain": [
       "Vector3([[1., 2., 3.],\n",
       "         [1., 2., 3.],\n",
       "         [1., 2., 3.],\n",
       "         [1., 2., 3.],\n",
       "         [1., 2., 3.]])"
      ]
     },
     "execution_count": 12,
     "metadata": {},
     "output_type": "execute_result"
    }
   ],
   "source": [
    "from py3d import Vector3\n",
    "Vector3(1,2,3,n=5)"
   ]
  },
  {
   "cell_type": "code",
   "execution_count": 13,
   "metadata": {},
   "outputs": [
    {
     "data": {
      "text/plain": [
       "Vector3([[[ 1. , -0.4,  1. ],\n",
       "          [ 1. , -0.4,  2. ],\n",
       "          [ 1. , -0.4,  3. ],\n",
       "          [ 1. , -0.4,  4. ]],\n",
       "\n",
       "         [[ 1. , -0.4,  1. ],\n",
       "          [ 1. , -0.4,  2. ],\n",
       "          [ 1. , -0.4,  3. ],\n",
       "          [ 1. , -0.4,  4. ]]])"
      ]
     },
     "execution_count": 13,
     "metadata": {},
     "output_type": "execute_result"
    }
   ],
   "source": [
    "from py3d import Vector3\n",
    "Vector3(1,-0.4,[1,2,3,4],n=2)"
   ]
  },
  {
   "cell_type": "markdown",
   "metadata": {},
   "source": [
    "Vector3 has x,y,z properties, each can be set independently"
   ]
  },
  {
   "cell_type": "code",
   "execution_count": 14,
   "metadata": {},
   "outputs": [
    {
     "data": {
      "text/plain": [
       "Vector3([[0., 0., 0.],\n",
       "         [1., 0., 0.],\n",
       "         [2., 0., 0.],\n",
       "         [3., 0., 0.],\n",
       "         [4., 0., 0.]])"
      ]
     },
     "execution_count": 14,
     "metadata": {},
     "output_type": "execute_result"
    }
   ],
   "source": [
    "from py3d import Vector3\n",
    "a=Vector3(0,0,0,5)\n",
    "a.x=list(range(5))\n",
    "a"
   ]
  },
  {
   "cell_type": "code",
   "execution_count": 15,
   "metadata": {},
   "outputs": [
    {
     "data": {
      "text/plain": [
       "Vector3([[ 0.        ,  0.        ,  3.        ],\n",
       "         [ 1.        ,  0.84147098,  3.        ],\n",
       "         [ 2.        ,  0.90929743,  3.        ],\n",
       "         [ 3.        ,  0.14112001,  3.        ],\n",
       "         [ 4.        , -0.7568025 ,  3.        ]])"
      ]
     },
     "execution_count": 15,
     "metadata": {},
     "output_type": "execute_result"
    }
   ],
   "source": [
    "from py3d import Vector3\n",
    "import numpy\n",
    "a=Vector3(0,0,0,5)\n",
    "a.x=[0,1,2,3,4]\n",
    "a.y=numpy.sin(a.x)\n",
    "a.z=3\n",
    "a"
   ]
  },
  {
   "cell_type": "markdown",
   "metadata": {},
   "source": [
    "Vector3 can be constructed from list, tuple and numpy.array"
   ]
  },
  {
   "cell_type": "code",
   "execution_count": 16,
   "metadata": {},
   "outputs": [
    {
     "data": {
      "text/plain": [
       "Vector3([[1, 2, 3],\n",
       "         [4, 5, 5]])"
      ]
     },
     "execution_count": 16,
     "metadata": {},
     "output_type": "execute_result"
    }
   ],
   "source": [
    "from py3d import Vector3\n",
    "Vector3.from_array([1,2,3,4,5,5])"
   ]
  },
  {
   "cell_type": "code",
   "execution_count": 17,
   "metadata": {},
   "outputs": [
    {
     "data": {
      "text/plain": [
       "Vector3([[1, 2, 3],\n",
       "         [4, 5, 6]])"
      ]
     },
     "execution_count": 17,
     "metadata": {},
     "output_type": "execute_result"
    }
   ],
   "source": [
    "from py3d import Vector3\n",
    "Vector3.from_array([[1,2,3],[4,5,6]])"
   ]
  },
  {
   "cell_type": "code",
   "execution_count": 18,
   "metadata": {},
   "outputs": [
    {
     "data": {
      "text/plain": [
       "Vector3([[1, 2, 3],\n",
       "         [4, 5, 6]])"
      ]
     },
     "execution_count": 18,
     "metadata": {},
     "output_type": "execute_result"
    }
   ],
   "source": [
    "from py3d import Vector3\n",
    "Vector3.from_array((1,2,3,4,5,6))"
   ]
  },
  {
   "cell_type": "code",
   "execution_count": 19,
   "metadata": {},
   "outputs": [
    {
     "data": {
      "text/plain": [
       "Vector3([[ 0. ,  0.5,  1. ],\n",
       "         [ 1.5,  2. ,  2.5],\n",
       "         [ 3. ,  3.5,  4. ],\n",
       "         [ 4.5,  5. ,  5.5],\n",
       "         [ 6. ,  6.5,  7. ],\n",
       "         [ 7.5,  8. ,  8.5],\n",
       "         [ 9. ,  9.5, 10. ]])"
      ]
     },
     "execution_count": 19,
     "metadata": {},
     "output_type": "execute_result"
    }
   ],
   "source": [
    "from py3d import Vector3\n",
    "import numpy\n",
    "Vector3.from_array(numpy.linspace(0,10,21))"
   ]
  },
  {
   "cell_type": "markdown",
   "metadata": {},
   "source": [
    "```python\n",
    "Vector3.Rand(n:int):Vector3\n",
    "```\n",
    "Return a random vector or a collection of random vectors."
   ]
  },
  {
   "cell_type": "code",
   "execution_count": 20,
   "metadata": {},
   "outputs": [
    {
     "data": {
      "text/plain": [
       "Vector3([[0.75076179, 0.90962062, 0.3414419 ],\n",
       "         [0.85821847, 0.12858441, 0.68788548],\n",
       "         [0.87387413, 0.12167892, 0.38831594],\n",
       "         [0.31052125, 0.13666012, 0.90869554]])"
      ]
     },
     "execution_count": 20,
     "metadata": {},
     "output_type": "execute_result"
    }
   ],
   "source": [
    "from py3d import Vector3\n",
    "Vector3.Rand(4)"
   ]
  },
  {
   "cell_type": "code",
   "execution_count": 21,
   "metadata": {},
   "outputs": [
    {
     "data": {
      "text/plain": [
       "Vector3([[[0.89685631, 0.73044128, 0.08660526],\n",
       "          [0.63075221, 0.69931511, 0.55126057],\n",
       "          [0.10295715, 0.31875235, 0.87877221]],\n",
       "\n",
       "         [[0.16838328, 0.30670531, 0.90477223],\n",
       "          [0.37151725, 0.51735938, 0.62716703],\n",
       "          [0.96801662, 0.59339793, 0.55542295]],\n",
       "\n",
       "         [[0.07210463, 0.18300688, 0.10391275],\n",
       "          [0.87334562, 0.80059468, 0.4471611 ],\n",
       "          [0.19813542, 0.94743737, 0.39047104]],\n",
       "\n",
       "         [[0.9356249 , 0.70309003, 0.75398401],\n",
       "          [0.05182471, 0.83654187, 0.37520484],\n",
       "          [0.76618968, 0.57522516, 0.9784486 ]]])"
      ]
     },
     "execution_count": 21,
     "metadata": {},
     "output_type": "execute_result"
    }
   ],
   "source": [
    "from py3d import Vector3\n",
    "Vector3.Rand(4,3)"
   ]
  },
  {
   "cell_type": "code",
   "execution_count": 22,
   "metadata": {},
   "outputs": [
    {
     "name": "stdout",
     "output_type": "stream",
     "text": [
      "click http://localhost:8000/view/b382af56-373f-11ec-ad8e-678345c047c4 to view in browser\n"
     ]
    },
    {
     "data": {
      "text/html": [
       "\n",
       "        <iframe\n",
       "            width=\"100%\"\n",
       "            height=\"600px\"\n",
       "            src=\"http://localhost:8000/view/b382af56-373f-11ec-ad8e-678345c047c4\"\n",
       "            frameborder=\"0\"\n",
       "            allowfullscreen\n",
       "        ></iframe>\n",
       "        "
      ],
      "text/plain": [
       "<IPython.lib.display.IFrame at 0x7f1173d224f0>"
      ]
     },
     "metadata": {},
     "output_type": "display_data"
    }
   ],
   "source": [
    "from py3d import Vector3\n",
    "Vector3.Rand(10).as_vector().render()"
   ]
  },
  {
   "cell_type": "code",
   "execution_count": 4,
   "metadata": {},
   "outputs": [
    {
     "ename": "TypeError",
     "evalue": "'tuple' object cannot be interpreted as an integer",
     "output_type": "error",
     "traceback": [
      "\u001b[0;31m---------------------------------------------------------------------------\u001b[0m",
      "\u001b[0;31mTypeError\u001b[0m                                 Traceback (most recent call last)",
      "\u001b[0;32m<ipython-input-4-9cae0117400b>\u001b[0m in \u001b[0;36m<module>\u001b[0;34m\u001b[0m\n\u001b[1;32m      1\u001b[0m \u001b[0;32mfrom\u001b[0m \u001b[0mpy3d\u001b[0m \u001b[0;32mimport\u001b[0m \u001b[0mVector3\u001b[0m\u001b[0;34m,\u001b[0m\u001b[0mArrow\u001b[0m\u001b[0;34m\u001b[0m\u001b[0;34m\u001b[0m\u001b[0m\n\u001b[1;32m      2\u001b[0m \u001b[0mv\u001b[0m\u001b[0;34m=\u001b[0m\u001b[0mVector3\u001b[0m\u001b[0;34m.\u001b[0m\u001b[0mRand\u001b[0m\u001b[0;34m(\u001b[0m\u001b[0;36m2\u001b[0m\u001b[0;34m,\u001b[0m\u001b[0;36m3\u001b[0m\u001b[0;34m)\u001b[0m\u001b[0;34m\u001b[0m\u001b[0;34m\u001b[0m\u001b[0m\n\u001b[0;32m----> 3\u001b[0;31m \u001b[0ma\u001b[0m\u001b[0;34m=\u001b[0m\u001b[0mArrow\u001b[0m\u001b[0;34m(\u001b[0m\u001b[0mv\u001b[0m\u001b[0;34m.\u001b[0m\u001b[0mn\u001b[0m\u001b[0;34m)\u001b[0m\u001b[0;34m\u001b[0m\u001b[0;34m\u001b[0m\u001b[0m\n\u001b[0m",
      "\u001b[0;32m/mnt/d/codes/scenario/py3d/py3d.py\u001b[0m in \u001b[0;36m__new__\u001b[0;34m(cls, *n)\u001b[0m\n\u001b[1;32m    732\u001b[0m \u001b[0;34m\u001b[0m\u001b[0m\n\u001b[1;32m    733\u001b[0m     \u001b[0;32mdef\u001b[0m \u001b[0m__new__\u001b[0m\u001b[0;34m(\u001b[0m\u001b[0mcls\u001b[0m\u001b[0;34m,\u001b[0m \u001b[0;34m*\u001b[0m\u001b[0mn\u001b[0m\u001b[0;34m)\u001b[0m\u001b[0;34m:\u001b[0m\u001b[0;34m\u001b[0m\u001b[0;34m\u001b[0m\u001b[0m\n\u001b[0;32m--> 734\u001b[0;31m         \u001b[0mret\u001b[0m \u001b[0;34m=\u001b[0m \u001b[0msuper\u001b[0m\u001b[0;34m(\u001b[0m\u001b[0;34m)\u001b[0m\u001b[0;34m.\u001b[0m\u001b[0m__new__\u001b[0m\u001b[0;34m(\u001b[0m\u001b[0mcls\u001b[0m\u001b[0;34m,\u001b[0m \u001b[0;34m*\u001b[0m\u001b[0mn\u001b[0m\u001b[0;34m,\u001b[0m \u001b[0;36m2\u001b[0m\u001b[0;34m)\u001b[0m\u001b[0;34m.\u001b[0m\u001b[0mview\u001b[0m\u001b[0;34m(\u001b[0m\u001b[0mcls\u001b[0m\u001b[0;34m)\u001b[0m\u001b[0;34m\u001b[0m\u001b[0;34m\u001b[0m\u001b[0m\n\u001b[0m\u001b[1;32m    735\u001b[0m         \u001b[0mret\u001b[0m\u001b[0;34m.\u001b[0m\u001b[0mhead\u001b[0m \u001b[0;34m=\u001b[0m \u001b[0mTetrahedron\u001b[0m\u001b[0;34m(\u001b[0m\u001b[0;34m*\u001b[0m\u001b[0mn\u001b[0m\u001b[0;34m)\u001b[0m\u001b[0;34m\u001b[0m\u001b[0;34m\u001b[0m\u001b[0m\n\u001b[1;32m    736\u001b[0m         \u001b[0mret\u001b[0m\u001b[0;34m.\u001b[0m\u001b[0mhead\u001b[0m\u001b[0;34m.\u001b[0m\u001b[0mcolor\u001b[0m \u001b[0;34m=\u001b[0m \u001b[0mret\u001b[0m\u001b[0;34m.\u001b[0m\u001b[0mcolor\u001b[0m\u001b[0;34m[\u001b[0m\u001b[0;34m...\u001b[0m\u001b[0;34m,\u001b[0m \u001b[0;36m0\u001b[0m\u001b[0;34m,\u001b[0m \u001b[0mnumpy\u001b[0m\u001b[0;34m.\u001b[0m\u001b[0mnewaxis\u001b[0m\u001b[0;34m,\u001b[0m \u001b[0;34m:\u001b[0m\u001b[0;34m]\u001b[0m\u001b[0;34m\u001b[0m\u001b[0;34m\u001b[0m\u001b[0m\n",
      "\u001b[0;32m/mnt/d/codes/scenario/py3d/py3d.py\u001b[0m in \u001b[0;36m__new__\u001b[0;34m(cls, *n)\u001b[0m\n\u001b[1;32m    624\u001b[0m \u001b[0;32mclass\u001b[0m \u001b[0mLineSegment\u001b[0m\u001b[0;34m(\u001b[0m\u001b[0mEntity\u001b[0m\u001b[0;34m)\u001b[0m\u001b[0;34m:\u001b[0m\u001b[0;34m\u001b[0m\u001b[0;34m\u001b[0m\u001b[0m\n\u001b[1;32m    625\u001b[0m     \u001b[0;32mdef\u001b[0m \u001b[0m__new__\u001b[0m\u001b[0;34m(\u001b[0m\u001b[0mcls\u001b[0m\u001b[0;34m,\u001b[0m \u001b[0;34m*\u001b[0m\u001b[0mn\u001b[0m\u001b[0;34m)\u001b[0m\u001b[0;34m:\u001b[0m\u001b[0;34m\u001b[0m\u001b[0;34m\u001b[0m\u001b[0m\n\u001b[0;32m--> 626\u001b[0;31m         \u001b[0mret\u001b[0m \u001b[0;34m=\u001b[0m \u001b[0msuper\u001b[0m\u001b[0;34m(\u001b[0m\u001b[0;34m)\u001b[0m\u001b[0;34m.\u001b[0m\u001b[0m__new__\u001b[0m\u001b[0;34m(\u001b[0m\u001b[0mcls\u001b[0m\u001b[0;34m,\u001b[0m \u001b[0;34m*\u001b[0m\u001b[0mn\u001b[0m\u001b[0;34m)\u001b[0m\u001b[0;34m\u001b[0m\u001b[0;34m\u001b[0m\u001b[0m\n\u001b[0m\u001b[1;32m    627\u001b[0m         \u001b[0mret\u001b[0m\u001b[0;34m.\u001b[0m\u001b[0mcolor\u001b[0m \u001b[0;34m=\u001b[0m \u001b[0mColor\u001b[0m\u001b[0;34m.\u001b[0m\u001b[0mRand\u001b[0m\u001b[0;34m(\u001b[0m\u001b[0;34m*\u001b[0m\u001b[0mn\u001b[0m\u001b[0;34m)\u001b[0m\u001b[0;34m\u001b[0m\u001b[0;34m\u001b[0m\u001b[0m\n\u001b[1;32m    628\u001b[0m         \u001b[0;32mreturn\u001b[0m \u001b[0mret\u001b[0m\u001b[0;34m\u001b[0m\u001b[0;34m\u001b[0m\u001b[0m\n",
      "\u001b[0;32m/mnt/d/codes/scenario/py3d/py3d.py\u001b[0m in \u001b[0;36m__new__\u001b[0;34m(cls, *n)\u001b[0m\n\u001b[1;32m    590\u001b[0m \u001b[0;32mclass\u001b[0m \u001b[0mEntity\u001b[0m\u001b[0;34m(\u001b[0m\u001b[0mData\u001b[0m\u001b[0;34m)\u001b[0m\u001b[0;34m:\u001b[0m\u001b[0;34m\u001b[0m\u001b[0;34m\u001b[0m\u001b[0m\n\u001b[1;32m    591\u001b[0m     \u001b[0;32mdef\u001b[0m \u001b[0m__new__\u001b[0m\u001b[0;34m(\u001b[0m\u001b[0mcls\u001b[0m\u001b[0;34m,\u001b[0m \u001b[0;34m*\u001b[0m\u001b[0mn\u001b[0m\u001b[0;34m)\u001b[0m\u001b[0;34m:\u001b[0m\u001b[0;34m\u001b[0m\u001b[0;34m\u001b[0m\u001b[0m\n\u001b[0;32m--> 592\u001b[0;31m         \u001b[0;32mreturn\u001b[0m \u001b[0msuper\u001b[0m\u001b[0;34m(\u001b[0m\u001b[0;34m)\u001b[0m\u001b[0;34m.\u001b[0m\u001b[0m__new__\u001b[0m\u001b[0;34m(\u001b[0m\u001b[0mcls\u001b[0m\u001b[0;34m,\u001b[0m \u001b[0;34m*\u001b[0m\u001b[0mn\u001b[0m\u001b[0;34m,\u001b[0m \u001b[0;36m7\u001b[0m\u001b[0;34m)\u001b[0m\u001b[0;34m\u001b[0m\u001b[0;34m\u001b[0m\u001b[0m\n\u001b[0m\u001b[1;32m    593\u001b[0m \u001b[0;34m\u001b[0m\u001b[0m\n\u001b[1;32m    594\u001b[0m     \u001b[0;34m@\u001b[0m\u001b[0mproperty\u001b[0m\u001b[0;34m\u001b[0m\u001b[0;34m\u001b[0m\u001b[0m\n",
      "\u001b[0;32m/mnt/d/codes/scenario/py3d/py3d.py\u001b[0m in \u001b[0;36m__new__\u001b[0;34m(cls, *shape)\u001b[0m\n\u001b[1;32m      8\u001b[0m     \u001b[0;31m# usually, d1 is the number of entities, and d3 is the size of one element.\u001b[0m\u001b[0;34m\u001b[0m\u001b[0;34m\u001b[0m\u001b[0;34m\u001b[0m\u001b[0m\n\u001b[1;32m      9\u001b[0m     \u001b[0;32mdef\u001b[0m \u001b[0m__new__\u001b[0m\u001b[0;34m(\u001b[0m\u001b[0mcls\u001b[0m\u001b[0;34m,\u001b[0m \u001b[0;34m*\u001b[0m\u001b[0mshape\u001b[0m\u001b[0;34m)\u001b[0m\u001b[0;34m:\u001b[0m\u001b[0;34m\u001b[0m\u001b[0;34m\u001b[0m\u001b[0m\n\u001b[0;32m---> 10\u001b[0;31m         \u001b[0;32mreturn\u001b[0m \u001b[0mnumpy\u001b[0m\u001b[0;34m.\u001b[0m\u001b[0mempty\u001b[0m\u001b[0;34m(\u001b[0m\u001b[0mshape\u001b[0m\u001b[0;34m)\u001b[0m\u001b[0;34m.\u001b[0m\u001b[0mview\u001b[0m\u001b[0;34m(\u001b[0m\u001b[0mcls\u001b[0m\u001b[0;34m)\u001b[0m\u001b[0;34m\u001b[0m\u001b[0;34m\u001b[0m\u001b[0m\n\u001b[0m\u001b[1;32m     11\u001b[0m \u001b[0;34m\u001b[0m\u001b[0m\n\u001b[1;32m     12\u001b[0m     \u001b[0;34m@\u001b[0m\u001b[0mproperty\u001b[0m\u001b[0;34m\u001b[0m\u001b[0;34m\u001b[0m\u001b[0m\n",
      "\u001b[0;31mTypeError\u001b[0m: 'tuple' object cannot be interpreted as an integer"
     ]
    }
   ],
   "source": [
    "from py3d import Vector3,Arrow\n",
    "v=Vector3.Rand(2,3)\n",
    "a=Arrow(v.n)"
   ]
  },
  {
   "cell_type": "markdown",
   "metadata": {},
   "source": [
    "## Deep copy\n",
    "```python\n",
    ".copy()\n",
    "```\n",
    "It will return deep copy of origin vector, and their value are equal."
   ]
  },
  {
   "cell_type": "code",
   "execution_count": 23,
   "metadata": {},
   "outputs": [
    {
     "data": {
      "text/plain": [
       "(139713897458032, 139713897458032, 139713897457920, True)"
      ]
     },
     "execution_count": 23,
     "metadata": {},
     "output_type": "execute_result"
    }
   ],
   "source": [
    "from py3d import Vector3\n",
    "a=Vector3(1,2,3)\n",
    "b=a\n",
    "c=a.copy() # deep copy\n",
    "id(a),id(b),id(c), a==c"
   ]
  },
  {
   "cell_type": "code",
   "execution_count": 24,
   "metadata": {},
   "outputs": [
    {
     "name": "stdout",
     "output_type": "stream",
     "text": [
      "[[0.67212076]\n",
      " [1.15973196]\n",
      " [0.95294854]\n",
      " [1.06578124]\n",
      " [0.46646413]]\n"
     ]
    },
    {
     "data": {
      "text/plain": [
       "array([[ True],\n",
       "       [ True],\n",
       "       [ True],\n",
       "       [ True],\n",
       "       [ True]])"
      ]
     },
     "execution_count": 24,
     "metadata": {},
     "output_type": "execute_result"
    }
   ],
   "source": [
    "from py3d import Vector3\n",
    "points=Vector3.Rand(5)\n",
    "print(points.norm())\n",
    "points_copy=points.copy()\n",
    "points==points_copy"
   ]
  },
  {
   "cell_type": "markdown",
   "metadata": {},
   "source": [
    "## Modify"
   ]
  },
  {
   "cell_type": "code",
   "execution_count": 25,
   "metadata": {},
   "outputs": [
    {
     "data": {
      "text/plain": [
       "Vector3([[1., 2., 3.],\n",
       "         [1., 2., 3.],\n",
       "         [1., 2., 3.],\n",
       "         [1., 2., 3.]])"
      ]
     },
     "execution_count": 25,
     "metadata": {},
     "output_type": "execute_result"
    }
   ],
   "source": [
    "from py3d import Vector3\n",
    "points=Vector3(1,2,3,4)\n",
    "points"
   ]
  },
  {
   "cell_type": "code",
   "execution_count": 26,
   "metadata": {},
   "outputs": [
    {
     "data": {
      "text/plain": [
       "Vector3([[ 1.,  2.,  3.],\n",
       "         [ 1.,  2.,  3.],\n",
       "         [-1., -2., -3.],\n",
       "         [ 1.,  2.,  3.]])"
      ]
     },
     "execution_count": 26,
     "metadata": {},
     "output_type": "execute_result"
    }
   ],
   "source": [
    "points[2]=Vector3(-1,-2,-3)\n",
    "points"
   ]
  },
  {
   "cell_type": "markdown",
   "metadata": {},
   "source": [
    "## Reverse\n",
    "```python\n",
    ".reverse():ndarray\n",
    "```"
   ]
  },
  {
   "cell_type": "code",
   "execution_count": 27,
   "metadata": {},
   "outputs": [
    {
     "name": "stdout",
     "output_type": "stream",
     "text": [
      "[[1 2 3]\n",
      " [2 0 0]]\n",
      "[[2 0 0]\n",
      " [1 2 3]]\n",
      "[[1 2 3]\n",
      " [2 0 0]]\n",
      "[[2 0 0]\n",
      " [1 2 3]]\n"
     ]
    }
   ],
   "source": [
    "from py3d import *\n",
    "a=Vector3([\n",
    "    [1,2,3],\n",
    "    [2,0,0]\n",
    "])\n",
    "print(a)\n",
    "a.reverse()\n",
    "print(a)\n",
    "print(a.reversed())\n",
    "print(a)"
   ]
  },
  {
   "cell_type": "markdown",
   "metadata": {},
   "source": [
    "## Append\n",
    "```python\n",
    ".append(Vector3|ndarray):ndarray\n",
    "```"
   ]
  },
  {
   "cell_type": "code",
   "execution_count": 5,
   "metadata": {},
   "outputs": [
    {
     "name": "stdout",
     "output_type": "stream",
     "text": [
      "(4, 3)\n",
      "(4, 3)\n",
      "(2, 3)\n"
     ]
    },
    {
     "data": {
      "text/plain": [
       "Vector3([[ 1.,  2.,  3.],\n",
       "         [ 1.,  2.,  3.],\n",
       "         [ 1.,  2.,  3.],\n",
       "         [ 1.,  2.,  3.],\n",
       "         [ 1.,  1.,  1.],\n",
       "         [ 1.,  1.,  1.],\n",
       "         [ 1.,  1.,  1.],\n",
       "         [ 1.,  1.,  1.],\n",
       "         [-1., -9.,  0.],\n",
       "         [-1., -9.,  0.]])"
      ]
     },
     "execution_count": 5,
     "metadata": {},
     "output_type": "execute_result"
    }
   ],
   "source": [
    "from py3d import Vector3\n",
    "a=Vector3(1,2,3,n=4)\n",
    "b=Vector3(1,1,1,n=4)\n",
    "c=Vector3(-1,-9,0,n=2)\n",
    "a.append(b).append(c)"
   ]
  },
  {
   "cell_type": "markdown",
   "metadata": {},
   "source": [
    "## Insert\n",
    "\n",
    "Note: this operation would not change origin vector, but generate a new one"
   ]
  },
  {
   "cell_type": "code",
   "execution_count": null,
   "metadata": {},
   "outputs": [
    {
     "data": {
      "text/plain": [
       "Vector3([[0.90345823, 0.10766015, 0.83817121],\n",
       "         [0.40341989, 0.05368214, 0.69168111],\n",
       "         [1.        , 2.        , 3.        ],\n",
       "         [1.        , 2.        , 3.        ],\n",
       "         [1.        , 2.        , 3.        ],\n",
       "         [0.43867388, 0.34765305, 0.43947203],\n",
       "         [0.35051926, 0.44575949, 0.86007196]])"
      ]
     },
     "execution_count": 4,
     "metadata": {},
     "output_type": "execute_result"
    }
   ],
   "source": [
    "from py3d import *\n",
    "a=Vector3.Rand(4)\n",
    "a.insert(2,Vector3(1,2,3,n=3))"
   ]
  },
  {
   "cell_type": "code",
   "execution_count": null,
   "metadata": {},
   "outputs": [
    {
     "data": {
      "text/plain": [
       "Vector3([[ 1.        ,  2.        ,  3.        ],\n",
       "         [ 0.6030388 ,  0.03606599,  0.53730951],\n",
       "         [ 2.        ,  4.        ,  6.        ],\n",
       "         [ 0.80067152,  0.56608461,  0.27163182],\n",
       "         [ 3.        ,  6.        ,  9.        ],\n",
       "         [ 0.52776397,  0.76055806,  0.72591657],\n",
       "         [ 4.        ,  8.        , 12.        ],\n",
       "         [ 0.46306519,  0.22895214,  0.89994004]])"
      ]
     },
     "execution_count": 9,
     "metadata": {},
     "output_type": "execute_result"
    }
   ],
   "source": [
    "from py3d import Vector3\n",
    "a=Vector3.Rand(4)\n",
    "a.insert(slice(4),Vector3(1,2,3,n=4).cumsum())"
   ]
  },
  {
   "cell_type": "code",
   "execution_count": null,
   "metadata": {},
   "outputs": [
    {
     "name": "stdout",
     "output_type": "stream",
     "text": [
      "click http://localhost:8000/view/21653bfc-3681-11ec-94da-fd83adcaad1b to view in browser\n"
     ]
    },
    {
     "data": {
      "text/html": [
       "\n",
       "        <iframe\n",
       "            width=\"100%\"\n",
       "            height=\"600px\"\n",
       "            src=\"http://localhost:8000/view/21653bfc-3681-11ec-94da-fd83adcaad1b\"\n",
       "            frameborder=\"0\"\n",
       "            allowfullscreen\n",
       "        ></iframe>\n",
       "        "
      ],
      "text/plain": [
       "<IPython.lib.display.IFrame at 0x7f7ff4760310>"
      ]
     },
     "metadata": {},
     "output_type": "display_data"
    }
   ],
   "source": [
    "from py3d import Vector3\n",
    "import numpy\n",
    "start_points=Vector3(x=numpy.sin(range(10)),y=numpy.cos(range(10)))\n",
    "end_points=start_points+Vector3(1,1,1)\n",
    "points=start_points.insert(slice(0,10),end_points)\n",
    "points.as_linesegment().render()"
   ]
  },
  {
   "cell_type": "markdown",
   "metadata": {},
   "source": [
    "## Remove\n",
    "Note: this operation would not change origin vector, but generate a new one"
   ]
  },
  {
   "cell_type": "code",
   "execution_count": null,
   "metadata": {},
   "outputs": [],
   "source": [
    "from py3d import *\n",
    "a=Vector3.Rand(4)\n",
    "print(a)\n",
    "a.remove(0)"
   ]
  },
  {
   "cell_type": "code",
   "execution_count": null,
   "metadata": {},
   "outputs": [],
   "source": [
    "from py3d import *\n",
    "a=Vector3.Rand(5)\n",
    "print(a)\n",
    "a.remove(slice(2,4))"
   ]
  },
  {
   "cell_type": "code",
   "execution_count": null,
   "metadata": {},
   "outputs": [],
   "source": [
    "from py3d import *\n",
    "a=Vector3.Rand(5)\n",
    "print(a)\n",
    "a.remove(slice(2,4))\n",
    "a"
   ]
  },
  {
   "cell_type": "markdown",
   "metadata": {},
   "source": [
    "## Discrete difference\n",
    "```python\n",
    ".diff(n:int):Vector3\n",
    "```\n"
   ]
  },
  {
   "cell_type": "code",
   "execution_count": null,
   "metadata": {},
   "outputs": [],
   "source": [
    "from py3d import Vector3\n",
    "points=Vector3([\n",
    "    [1,2,1],\n",
    "    [2,3,1],\n",
    "    [4,6,2],\n",
    "    [8,3,0]\n",
    "])\n",
    "points.diff(),points.diff(2)"
   ]
  },
  {
   "cell_type": "markdown",
   "metadata": {},
   "source": [
    "## Cumulative Sum\n",
    "```python\n",
    ".cumsum():Vector3\n",
    "```\n",
    "Return the cumulative sum of the elements along a given axis."
   ]
  },
  {
   "cell_type": "code",
   "execution_count": null,
   "metadata": {},
   "outputs": [
    {
     "data": {
      "text/plain": [
       "Vector3([[ 1,  2,  1],\n",
       "         [ 3,  5,  2],\n",
       "         [ 7, 11,  4],\n",
       "         [15, 14,  4]])"
      ]
     },
     "execution_count": 10,
     "metadata": {},
     "output_type": "execute_result"
    }
   ],
   "source": [
    "from py3d import Vector3\n",
    "points=Vector3([\n",
    "    [1,2,1],\n",
    "    [2,3,1],\n",
    "    [4,6,2],\n",
    "    [8,3,0]\n",
    "])\n",
    "points.cumsum()"
   ]
  },
  {
   "cell_type": "code",
   "execution_count": null,
   "metadata": {},
   "outputs": [
    {
     "data": {
      "text/plain": [
       "Vector3([[0.84759213, 0.11500617, 0.01995767],\n",
       "         [1.0255817 , 1.01507353, 0.50038895],\n",
       "         [1.90791678, 1.533651  , 0.81615017],\n",
       "         [2.69434598, 2.23421181, 1.64598027],\n",
       "         [3.36954516, 2.97710196, 1.96835431],\n",
       "         [3.73604493, 3.66421547, 2.094864  ],\n",
       "         [4.21141907, 4.33829328, 2.92564957],\n",
       "         [4.57633252, 4.70899309, 3.15472497],\n",
       "         [4.77008981, 5.69458192, 3.40713134],\n",
       "         [5.51412515, 6.01180532, 3.77888045]])"
      ]
     },
     "execution_count": 11,
     "metadata": {},
     "output_type": "execute_result"
    }
   ],
   "source": [
    "from py3d import Vector3\n",
    "Vector3.Rand(10).cumsum()"
   ]
  },
  {
   "cell_type": "code",
   "execution_count": null,
   "metadata": {},
   "outputs": [
    {
     "data": {
      "text/plain": [
       "Vector3([[[0.3029466 , 0.78145752, 0.91443864],\n",
       "          [0.56685521, 1.07347685, 1.01816978],\n",
       "          [0.97668889, 1.28129739, 1.66359016],\n",
       "          [1.20113023, 1.94662381, 1.80724735],\n",
       "          [1.9257906 , 2.21608682, 2.31413767],\n",
       "          [2.55430431, 2.46329485, 3.31128434],\n",
       "          [2.93939543, 3.44573329, 3.9307817 ],\n",
       "          [2.97431137, 4.21629306, 4.33342172],\n",
       "          [3.26924241, 4.74882074, 5.04147968],\n",
       "          [4.09479825, 5.63124588, 5.426857  ]],\n",
       "\n",
       "         [[0.05040227, 0.18921534, 0.57584997],\n",
       "          [0.10827811, 1.18611646, 0.75479946],\n",
       "          [0.5847671 , 1.9017621 , 1.1812552 ],\n",
       "          [0.85956351, 2.07010735, 1.37144925],\n",
       "          [0.90523451, 2.46950282, 2.18139423],\n",
       "          [1.2867838 , 3.23145473, 2.42135168],\n",
       "          [2.14299695, 3.66600644, 2.72765097],\n",
       "          [2.59408438, 4.58369912, 3.60885377],\n",
       "          [2.96016108, 4.98148688, 4.60462317],\n",
       "          [3.92003196, 5.73375455, 5.56940663]]])"
      ]
     },
     "execution_count": 1,
     "metadata": {},
     "output_type": "execute_result"
    }
   ],
   "source": [
    "from py3d import Vector3\n",
    "Vector3.Rand(2,10).cumsum()"
   ]
  },
  {
   "cell_type": "markdown",
   "metadata": {},
   "source": [
    "## Add"
   ]
  },
  {
   "cell_type": "code",
   "execution_count": null,
   "metadata": {},
   "outputs": [],
   "source": [
    "from py3d import Vector3\n",
    "Vector3(1,2,3)+Vector3(2,3,4)"
   ]
  },
  {
   "cell_type": "code",
   "execution_count": null,
   "metadata": {},
   "outputs": [],
   "source": [
    "from py3d import Vector3\n",
    "Vector3.Zeros(3)+Vector3.Ones(3)"
   ]
  },
  {
   "cell_type": "code",
   "execution_count": null,
   "metadata": {},
   "outputs": [],
   "source": [
    "from py3d import Vector3\n",
    "a=Vector3.from_array([1,2,3,4,5,6,7,8,9,-1,-2,-3])\n",
    "b=Vector3.from_array([1,-2,-4,-5,-1,-4,3,5,6,9,10,8])\n",
    "a+b"
   ]
  },
  {
   "cell_type": "markdown",
   "metadata": {},
   "source": [
    "## Subtract"
   ]
  },
  {
   "cell_type": "code",
   "execution_count": null,
   "metadata": {},
   "outputs": [],
   "source": [
    "from py3d import Vector3\n",
    "Vector3(1,2,3,n=4)-Vector3(-1,-2,-3)"
   ]
  },
  {
   "cell_type": "code",
   "execution_count": null,
   "metadata": {},
   "outputs": [],
   "source": [
    "from py3d import Vector3\n",
    "Vector3.from_array([1,2,3,4,5,6,7,8,9,10,11,12,13,14,15])-Vector3(1,-1,3,5)"
   ]
  },
  {
   "cell_type": "markdown",
   "metadata": {},
   "source": [
    "## Multiply"
   ]
  },
  {
   "cell_type": "markdown",
   "metadata": {},
   "source": [
    "### Multiply a number"
   ]
  },
  {
   "cell_type": "code",
   "execution_count": null,
   "metadata": {},
   "outputs": [],
   "source": [
    "from py3d import Vector3\n",
    "a=Vector3(1,-2,3)*3\n",
    "b=3*Vector3(1,-2,3)\n",
    "a,b,a==b"
   ]
  },
  {
   "cell_type": "markdown",
   "metadata": {},
   "source": [
    "### Multiply element by element\n",
    "support multiplication between Vector3,Numpy.ndarray,list and tuple."
   ]
  },
  {
   "cell_type": "code",
   "execution_count": null,
   "metadata": {},
   "outputs": [],
   "source": [
    "from py3d import Vector3\n",
    "from numpy import array\n",
    "Vector3(1,-2,3)*Vector3(1,-1,3),\\\n",
    "Vector3(1,-2,3)*array([1,-1,3]),\\\n",
    "array([1,-1,3])*Vector3(1,-2,3),\\\n",
    "Vector3(1,-1,3)*[1,-2,3],\\\n",
    "(1,-1,3)*Vector3(1,-2,3)"
   ]
  },
  {
   "cell_type": "markdown",
   "metadata": {},
   "source": [
    "### Dot product\n",
    "Two vectors' dot product can be used to calculate angle between them. If angle \n",
    " \n",
    "$\\bf{a}\\cdot\\bf{b}=|\\bf{a}|\\cdot|\\bf{b}|\\cdot cos\\theta$\n",
    "\n",
    "$\\bf{a}\\cdot\\bf{b}=\\bf{b}\\cdot\\bf{a}$\n",
    "\n",
    "*.dot(Vector3):Vector3*\n",
    "\n",
    "dot() will return a new Vector3, the original one wont be changed"
   ]
  },
  {
   "cell_type": "code",
   "execution_count": null,
   "metadata": {},
   "outputs": [],
   "source": [
    "from py3d import Vector3\n",
    "from numpy import cos\n",
    "a=Vector3(1,-2,3)\n",
    "b=Vector3(0,4,-1)\n",
    "product=a.dot(b) # dot product\n",
    "theta=a.angle_to_vector(b)\n",
    "print(a.norm(),b.norm(),cos(theta))\n",
    "print(a.norm()*b.norm()*cos(theta),product)"
   ]
  },
  {
   "cell_type": "code",
   "execution_count": null,
   "metadata": {},
   "outputs": [],
   "source": [
    "import numpy\n",
    "numpy.array([[[1],[2]],[[3],[4]]])"
   ]
  },
  {
   "cell_type": "code",
   "execution_count": null,
   "metadata": {},
   "outputs": [],
   "source": [
    "a.dot(b),b.dot(a),a.dot(b)==b.dot(a)"
   ]
  },
  {
   "cell_type": "code",
   "execution_count": null,
   "metadata": {},
   "outputs": [],
   "source": [
    "from py3d import Vector3\n",
    "a=Vector3.Rand(4)\n",
    "b=Vector3.Rand(4)\n",
    "a.dot(b)"
   ]
  },
  {
   "cell_type": "code",
   "execution_count": null,
   "metadata": {},
   "outputs": [],
   "source": [
    "from py3d import Vector3\n",
    "a=Vector3.Rand(4)\n",
    "b=Vector3(x=1)\n",
    "a.dot(b),b.dot(a)"
   ]
  },
  {
   "cell_type": "markdown",
   "metadata": {},
   "source": [
    "### Cross product\n",
    "\n",
    "$ \\bf{a}\\times\\bf{b}=|\\bf{a}|\\cdot|\\bf{b}|\\cdot sin\\theta$\n",
    "\n",
    "$\\bf{a}\\times\\bf{b}=-\\bf{b}\\times\\bf{a}$\n",
    "```python\n",
    ".cross(Vector3):Vector3\n",
    "```\n",
    "cross() will return a new Vector3, the original one wont be changed."
   ]
  },
  {
   "cell_type": "code",
   "execution_count": null,
   "metadata": {},
   "outputs": [],
   "source": [
    "from py3d import Vector3\n",
    "a=Vector3(1,2,0)\n",
    "b=Vector3(0,-1,3)\n",
    "c=a.cross(b)\n",
    "a.cross(b),b.cross(a) # cross product"
   ]
  },
  {
   "cell_type": "markdown",
   "metadata": {},
   "source": [
    "array([1,2,0]).cross(Vector3(0,-1,3)) is not allowed since numpy.ndarray has no such a function to do cross product. But you can do it by a global function numpy.cross(array1, array2) like this"
   ]
  },
  {
   "cell_type": "code",
   "execution_count": null,
   "metadata": {},
   "outputs": [],
   "source": [
    "from numpy import cross,array\n",
    "from py3d import Vector3\n",
    "cross(array([1,2,0]), Vector3(0,-1,3))"
   ]
  },
  {
   "cell_type": "markdown",
   "metadata": {},
   "source": [
    "Have a look to see the origin vectors and the product vector"
   ]
  },
  {
   "cell_type": "code",
   "execution_count": null,
   "metadata": {},
   "outputs": [],
   "source": [
    "from py3d import Vector3\n",
    "v1=Vector3(1,2,0)\n",
    "v2=Vector3(0,-1,3)\n",
    "vp=Vector3(1,2,0).cross(Vector3(0,-1,3))"
   ]
  },
  {
   "cell_type": "code",
   "execution_count": null,
   "metadata": {},
   "outputs": [],
   "source": [
    "from py3d import Vector3\n",
    "a=Vector3.Rand(4)\n",
    "b=Vector3.Rand(4)\n",
    "c=a.cross(b)"
   ]
  },
  {
   "cell_type": "markdown",
   "metadata": {},
   "source": [
    "## Divide"
   ]
  },
  {
   "cell_type": "markdown",
   "metadata": {},
   "source": [
    "### Divide by scalar"
   ]
  },
  {
   "cell_type": "code",
   "execution_count": null,
   "metadata": {},
   "outputs": [],
   "source": [
    "from py3d import Vector3\n",
    "Vector3(1,2,3)/3"
   ]
  },
  {
   "cell_type": "code",
   "execution_count": null,
   "metadata": {},
   "outputs": [],
   "source": [
    "from py3d import Vector3\n",
    "a=Vector3(3,0,3,n=4)\n",
    "a/3"
   ]
  },
  {
   "cell_type": "markdown",
   "metadata": {},
   "source": [
    "### Divide by vector"
   ]
  },
  {
   "cell_type": "code",
   "execution_count": null,
   "metadata": {},
   "outputs": [],
   "source": [
    "from py3d import Vector3\n",
    "Vector3(1,2,3)/Vector3(1,2,3,n=3)"
   ]
  },
  {
   "cell_type": "markdown",
   "metadata": {},
   "source": [
    "### Divide by Numpy.ndarray, list and tuple\n",
    "Vector3 is divided element by element"
   ]
  },
  {
   "cell_type": "code",
   "execution_count": null,
   "metadata": {},
   "outputs": [],
   "source": [
    "from py3d import Vector3\n",
    "from numpy import array\n",
    "Vector3(1,2,3)/array([1,2,3]), Vector3(1,2,3)/[1,2,3], Vector3(1,2,3)/(1,2,3)"
   ]
  },
  {
   "cell_type": "markdown",
   "metadata": {},
   "source": [
    "## Compare"
   ]
  },
  {
   "cell_type": "code",
   "execution_count": null,
   "metadata": {},
   "outputs": [],
   "source": [
    "from py3d import *\n",
    "a=Vector3(1,0,0.7)\n",
    "b=Vector3(1.0,0.,0.7)\n",
    "c=Vector3(1.1,0,0.7)\n",
    "a==b,b==c,a!=c"
   ]
  },
  {
   "cell_type": "code",
   "execution_count": null,
   "metadata": {},
   "outputs": [],
   "source": [
    "from py3d import Vector3\n",
    "a=Vector3([[1,2,3],\n",
    "           [4,5,6],\n",
    "           [7,8,9]])\n",
    "b=Vector3([[1,1,3],\n",
    "           [4,5,6],\n",
    "           [7,1,9]])\n",
    "a==b"
   ]
  },
  {
   "cell_type": "markdown",
   "metadata": {},
   "source": [
    "## Angle\n",
    "```python\n",
    ".angle_to_vector(v:Vector3):float|ndarray\n",
    "```   \n",
    "It will return the angle (in radian) between two vector. The angle is always positive and smaller than $\\pi$."
   ]
  },
  {
   "cell_type": "code",
   "execution_count": null,
   "metadata": {},
   "outputs": [],
   "source": [
    "from py3d import Vector3\n",
    "v1=Vector3(1,-0.1,0)\n",
    "v2=Vector3(0,1,0)\n",
    "v1.angle_to_vector(v2),v2.angle_to_vector(v1)"
   ]
  },
  {
   "cell_type": "code",
   "execution_count": null,
   "metadata": {},
   "outputs": [
    {
     "data": {
      "text/plain": [
       "array([[2.57665272e-01],\n",
       "       [2.10734243e-08],\n",
       "       [5.24348139e-01]])"
      ]
     },
     "execution_count": 5,
     "metadata": {},
     "output_type": "execute_result"
    }
   ],
   "source": [
    "from py3d import Vector3\n",
    "a=Vector3([[1,2,3],\n",
    "           [4,5,6],\n",
    "           [7,8,9]])\n",
    "b=Vector3([[1,1,3],\n",
    "           [4,5,6],\n",
    "           [7,1,9]])\n",
    "a.angle_to_vector(b)"
   ]
  },
  {
   "cell_type": "markdown",
   "metadata": {},
   "source": [
    "```python\n",
    ".angle_to_plane(normal:Vector3):float|ndarray\n",
    "```\n",
    "It will return the angle (in radian) between a vector and a plane. Result will be positive when normal and the vector have same direction, 0 when the plane and the vector is parallel, and negtive when normal and the vector have different direction."
   ]
  },
  {
   "cell_type": "code",
   "execution_count": null,
   "metadata": {},
   "outputs": [],
   "source": [
    "from py3d import Vector3\n",
    "v=Vector3(1,-0.1,0)\n",
    "normal=Vector3(0,1,0)\n",
    "v.angle_to_plane(normal)"
   ]
  },
  {
   "cell_type": "markdown",
   "metadata": {},
   "source": [
    "## Rotation\n",
    "\n",
    "```python\n",
    ".rotation_to(Vector3):Vector3,float\n",
    "```\n",
    "It will return axis-angle tuple representing the rotation from this vector to another"
   ]
  },
  {
   "cell_type": "code",
   "execution_count": null,
   "metadata": {},
   "outputs": [],
   "source": [
    "from py3d import Vector3\n",
    "v1=Vector3(1,-0.1,0)\n",
    "v2=Vector3(0,1,0)\n",
    "v1.rotation_to(v2),v2.rotation_to(v1)"
   ]
  },
  {
   "cell_type": "code",
   "execution_count": null,
   "metadata": {},
   "outputs": [],
   "source": [
    "from py3d import Vector3\n",
    "a=Vector3([[1,-0.1,0],\n",
    "        [0,1,0]])\n",
    "b=Vector3([[0,1,0],\n",
    "          [1,-0.1,0]])\n",
    "a.rotation_to(b)"
   ]
  },
  {
   "cell_type": "markdown",
   "metadata": {},
   "source": [
    "## Perpendicular\n",
    "\n",
    "$\\bf{a}\\perp\\bf{b}\\Leftrightarrow\\bf{a}\\cdot\\bf{b}=0$\n",
    "\n",
    "$\\bf{a}\\perp\\bf{b}\\Leftrightarrow<\\bf{a},\\bf{b}>=\\pi/2$\n",
    "\n",
    "```python\n",
    "    .is_perpendicular_to_vector(v:Vector3): bool\n",
    "    .is_perpendicular_to_plane(normal:Vector3): bool\n",
    "```"
   ]
  },
  {
   "cell_type": "code",
   "execution_count": null,
   "metadata": {},
   "outputs": [],
   "source": [
    "from py3d import Vector3\n",
    "a=Vector3(0,1,1)\n",
    "b=Vector3(1,0,0)\n",
    "a.is_perpendicular_to_vector(b), a.angle_to_vector(b)"
   ]
  },
  {
   "cell_type": "markdown",
   "metadata": {},
   "source": [
    "## Parallel\n",
    "$\\bf{a}//\\bf{b}(\\bf{b}\\ne\\bf{0})\\Leftrightarrow\\bf{a}=\\lambda\\bf{b}$"
   ]
  },
  {
   "cell_type": "code",
   "execution_count": null,
   "metadata": {},
   "outputs": [],
   "source": [
    "from py3d import Vector3\n",
    "a=Vector3(1,2,3)\n",
    "b=Vector3(2,4,6)\n",
    "plane = Vector3(1,2,)\n",
    "a.is_parallel_to_vector(b),a==b"
   ]
  },
  {
   "cell_type": "markdown",
   "metadata": {},
   "source": [
    "$\\bf{v}\\perp\\bf{0}, \\bf{v}\\cdot\\bf{0}=0$ is always true no matter what $\\bf{v}$ is"
   ]
  },
  {
   "cell_type": "code",
   "execution_count": null,
   "metadata": {},
   "outputs": [],
   "source": [
    "from py3d import Vector3\n",
    "a=Vector3(1,2,3)\n",
    "b=Vector3(-2,3,9)\n",
    "a.dot(Vector3()),a.is_parallel_to_vector(Vector3()),b.is_parallel_to_vector(b)"
   ]
  },
  {
   "cell_type": "markdown",
   "metadata": {},
   "source": [
    "## Projection\n",
    "\n",
    "```python\n",
    ".scalar_projection(v:Vector3):float\n",
    "```\n",
    "```python\n",
    ".vector_projection(v:Vector3):Vector3\n",
    "```"
   ]
  },
  {
   "cell_type": "code",
   "execution_count": null,
   "metadata": {},
   "outputs": [],
   "source": [
    "from py3d import Vector3\n",
    "a=Vector3(2,1,1,2)\n",
    "b=Vector3([[1,0,0],[0,1,0]])\n",
    "a.scalar_projection(b),a.vector_projection(b)"
   ]
  },
  {
   "cell_type": "code",
   "execution_count": null,
   "metadata": {},
   "outputs": [],
   "source": [
    "from py3d import Vector3\n",
    "a=Vector3(2,1,1,5)\n",
    "b=Vector3(1,0,0)\n",
    "a.scalar_projection(b)"
   ]
  },
  {
   "cell_type": "code",
   "execution_count": null,
   "metadata": {},
   "outputs": [],
   "source": [
    "from py3d import Vector3\n",
    "a=Vector3(1,2,3)\n",
    "p0=Vector3()\n",
    "p1=Vector3(1,0,0)\n",
    "a.projection_point_on_line(p0,p1)"
   ]
  },
  {
   "cell_type": "markdown",
   "metadata": {},
   "source": [
    "projection on plane"
   ]
  },
  {
   "cell_type": "code",
   "execution_count": null,
   "metadata": {},
   "outputs": [],
   "source": [
    "from py3d import Vector3,Plane\n",
    "points=Vector3.Rand(1000)*3\n",
    "space = points.render_as_points()\n",
    "plane=Plane(Vector3(0.1,0.2,2),Vector3(z=range(-10,0)))\n",
    "points.projection_point_on_plane(plane).render_as_points(space)"
   ]
  },
  {
   "cell_type": "code",
   "execution_count": null,
   "metadata": {},
   "outputs": [],
   "source": [
    "points.projection_point_on_plane(plane)[0]"
   ]
  },
  {
   "cell_type": "code",
   "execution_count": null,
   "metadata": {},
   "outputs": [],
   "source": [
    "from py3d import Plane,Vector3\n",
    "p=Plane.from_points(Vector3(x=1).append(Vector3(y=1).append(Vector3(z=1))))\n",
    "points=Vector3.Rand(1000)*3+Vector3(1,2,3)\n",
    "space=points.render_as_points()\n",
    "prjs=points.projection_point_on_plane(p)\n",
    "prjs.render_as_points(space)"
   ]
  },
  {
   "cell_type": "markdown",
   "metadata": {},
   "source": [
    "## Area\n",
    "```python\n",
    ".area(Vector3):float\n",
    "```\n",
    "It will return area of triangle constucted by two vectors.\n",
    "```python\n",
    ".area(Vector3,Vector3):float\n",
    "```\n",
    "It will return area of triangle constructed by three points."
   ]
  },
  {
   "cell_type": "code",
   "execution_count": null,
   "metadata": {},
   "outputs": [],
   "source": [
    "from py3d import Vector3\n",
    "triangle=Vector3([[1,2,3],\n",
    "                [1,0,0],\n",
    "                [0,1,0]])\n",
    "triangle.area()"
   ]
  },
  {
   "cell_type": "markdown",
   "metadata": {},
   "source": [
    "## Distance, Length, Norm\n",
    "```python\n",
    ".norm():float\n",
    "```"
   ]
  },
  {
   "cell_type": "code",
   "execution_count": null,
   "metadata": {},
   "outputs": [
    {
     "data": {
      "text/plain": [
       "array([3.74165739])"
      ]
     },
     "execution_count": 7,
     "metadata": {},
     "output_type": "execute_result"
    }
   ],
   "source": [
    "from py3d import Vector3\n",
    "Vector3(1,2,3).norm()"
   ]
  },
  {
   "cell_type": "markdown",
   "metadata": {},
   "source": [
    "You can use this function to calculate distance between two points."
   ]
  },
  {
   "cell_type": "code",
   "execution_count": null,
   "metadata": {},
   "outputs": [
    {
     "data": {
      "text/plain": [
       "array([[0.45377086],\n",
       "       [0.63322717],\n",
       "       [0.75436726],\n",
       "       [0.59219558],\n",
       "       [0.45147847],\n",
       "       [0.24983228],\n",
       "       [0.74351333],\n",
       "       [1.10241726],\n",
       "       [0.91153465],\n",
       "       [0.63283473]])"
      ]
     },
     "execution_count": 18,
     "metadata": {},
     "output_type": "execute_result"
    }
   ],
   "source": [
    "from py3d import Vector3\n",
    "point1=Vector3.Rand(10)\n",
    "point2=Vector3.Rand(10)\n",
    "(point1-point2).norm()"
   ]
  },
  {
   "cell_type": "code",
   "execution_count": null,
   "metadata": {},
   "outputs": [
    {
     "data": {
      "text/plain": [
       "array([[0.89041432],\n",
       "       [1.00569873],\n",
       "       [1.06752422],\n",
       "       [0.86360319],\n",
       "       [1.58105827]])"
      ]
     },
     "execution_count": 11,
     "metadata": {},
     "output_type": "execute_result"
    }
   ],
   "source": [
    "from py3d import Vector3\n",
    "points=Vector3.Rand(5)\n",
    "points.norm()"
   ]
  },
  {
   "cell_type": "markdown",
   "metadata": {},
   "source": [
    "Calculate distances between a point and a collection of points"
   ]
  },
  {
   "cell_type": "code",
   "execution_count": null,
   "metadata": {},
   "outputs": [
    {
     "data": {
      "text/plain": [
       "(Vector3([[0.90179409, 0.66308096, 0.4286608 ],\n",
       "          [0.27127105, 0.21439166, 0.31139617],\n",
       "          [0.31976605, 0.36811823, 0.94761485],\n",
       "          [0.38087246, 0.36596999, 0.32780979],\n",
       "          [0.85684111, 0.65169227, 0.17675312],\n",
       "          [0.31807634, 0.73286218, 0.48103001],\n",
       "          [0.0251112 , 0.48045607, 0.57038746]]),\n",
       " array([[1.72024207],\n",
       "        [1.45008984],\n",
       "        [1.79789867],\n",
       "        [1.53513914],\n",
       "        [1.66728027],\n",
       "        [1.92333592],\n",
       "        [1.8621225 ]]))"
      ]
     },
     "execution_count": 12,
     "metadata": {},
     "output_type": "execute_result"
    }
   ],
   "source": [
    "from py3d import Vector3\n",
    "p=Vector3(1,-1,0)\n",
    "points=Vector3.Rand(7)\n",
    "points,(p-points).norm()"
   ]
  },
  {
   "cell_type": "markdown",
   "metadata": {},
   "source": [
    "## Normalize\n",
    "\n",
    "<font color=\"red\">*! Zero vector will return zero vector*</font>"
   ]
  },
  {
   "cell_type": "markdown",
   "metadata": {},
   "source": [
    "**unit()**, get a new vector, which is the unit vector of the origin"
   ]
  },
  {
   "cell_type": "code",
   "execution_count": null,
   "metadata": {},
   "outputs": [
    {
     "data": {
      "text/plain": [
       "Vector3([0.26726124, 0.53452248, 0.80178373])"
      ]
     },
     "execution_count": 20,
     "metadata": {},
     "output_type": "execute_result"
    }
   ],
   "source": [
    "from py3d import Vector3\n",
    "v=Vector3(1,2,3)\n",
    "v.unit()"
   ]
  },
  {
   "cell_type": "code",
   "execution_count": null,
   "metadata": {},
   "outputs": [
    {
     "data": {
      "text/plain": [
       "Vector3([[0.26726124, 0.53452248, 0.80178373],\n",
       "         [0.        , 0.        , 0.        ]])"
      ]
     },
     "execution_count": 19,
     "metadata": {},
     "output_type": "execute_result"
    }
   ],
   "source": [
    "from py3d import Vector3\n",
    "v=Vector3([[1,2,3],[0,0,0]])\n",
    "v.unit()"
   ]
  },
  {
   "cell_type": "markdown",
   "metadata": {},
   "source": [
    "Use unit() to draw a sphere"
   ]
  },
  {
   "cell_type": "code",
   "execution_count": null,
   "metadata": {},
   "outputs": [
    {
     "name": "stdout",
     "output_type": "stream",
     "text": [
      "click http://localhost:8000/view/9d93acfe-3415-11ec-98f7-4d86c14fd1fa to view in browser\n"
     ]
    },
    {
     "data": {
      "text/html": [
       "\n",
       "        <iframe\n",
       "            width=\"100%\"\n",
       "            height=\"600px\"\n",
       "            src=\"http://localhost:8000/view/9d93acfe-3415-11ec-98f7-4d86c14fd1fa\"\n",
       "            frameborder=\"0\"\n",
       "            allowfullscreen\n",
       "        ></iframe>\n",
       "        "
      ],
      "text/plain": [
       "<IPython.lib.display.IFrame at 0x7f4362137af0>"
      ]
     },
     "metadata": {},
     "output_type": "display_data"
    }
   ],
   "source": [
    "from py3d import Vector3,Color\n",
    "import numpy\n",
    "points=(Vector3.Rand(1000)-Vector3(0.5,0.5,0.5)).unit()*3\n",
    "point=points.as_point()\n",
    "point.color[point.vertice.z>1]=Color(r=1,g=1)\n",
    "point.render()"
   ]
  },
  {
   "cell_type": "code",
   "execution_count": null,
   "metadata": {},
   "outputs": [
    {
     "data": {
      "text/plain": [
       "array([[[1., 0., 0., 0.],\n",
       "        [0., 2., 0., 0.],\n",
       "        [0., 0., 3., 0.],\n",
       "        [0., 0., 0., 1.]],\n",
       "\n",
       "       [[1., 0., 0., 0.],\n",
       "        [0., 2., 0., 0.],\n",
       "        [0., 0., 3., 0.],\n",
       "        [0., 0., 0., 1.]],\n",
       "\n",
       "       [[1., 0., 0., 0.],\n",
       "        [0., 2., 0., 0.],\n",
       "        [0., 0., 3., 0.],\n",
       "        [0., 0., 0., 1.]]])"
      ]
     },
     "execution_count": 7,
     "metadata": {},
     "output_type": "execute_result"
    }
   ],
   "source": [
    "from py3d import Vector3\n",
    "Vector3(1,2,3,n=3).as_scaling_matrix()"
   ]
  },
  {
   "cell_type": "code",
   "execution_count": null,
   "metadata": {},
   "outputs": [
    {
     "data": {
      "text/plain": [
       "Vector3([[0., 0., 0., 1.],\n",
       "         [0., 0., 0., 1.]])"
      ]
     },
     "execution_count": 21,
     "metadata": {},
     "output_type": "execute_result"
    }
   ],
   "source": [
    "from py3d import Vector3\n",
    "Vector3(n=2).as_vector4()"
   ]
  },
  {
   "cell_type": "code",
   "execution_count": null,
   "metadata": {},
   "outputs": [
    {
     "data": {
      "text/plain": [
       "array([[[1., 0., 0., 0.],\n",
       "        [0., 1., 0., 0.],\n",
       "        [0., 0., 1., 0.],\n",
       "        [0., 0., 0., 1.]],\n",
       "\n",
       "       [[1., 0., 0., 0.],\n",
       "        [0., 1., 0., 0.],\n",
       "        [0., 0., 1., 0.],\n",
       "        [0., 0., 0., 1.]]])"
      ]
     },
     "execution_count": 19,
     "metadata": {},
     "output_type": "execute_result"
    }
   ],
   "source": [
    "from py3d import Vector3\n",
    "Vector3(n=2).as_translation_matrix()"
   ]
  },
  {
   "cell_type": "code",
   "execution_count": null,
   "metadata": {},
   "outputs": [
    {
     "data": {
      "text/plain": [
       "Vector3([[[0., 0., 0., 1.],\n",
       "          [0., 0., 0., 1.],\n",
       "          [0., 0., 0., 1.],\n",
       "          [0., 0., 0., 1.],\n",
       "          [0., 0., 0., 1.]],\n",
       "\n",
       "         [[0., 0., 0., 1.],\n",
       "          [0., 0., 0., 1.],\n",
       "          [0., 0., 0., 1.],\n",
       "          [0., 0., 0., 1.],\n",
       "          [0., 0., 0., 1.]]])"
      ]
     },
     "execution_count": 25,
     "metadata": {},
     "output_type": "execute_result"
    }
   ],
   "source": [
    "from py3d import Vector3,Rotation3\n",
    "Vector3(n=5).as_vector4()@Vector3(1,1,1,n=2).as_scaling_matrix()@Rotation3(2).to_matrix44()@Vector3(n=2).as_translation_matrix()"
   ]
  },
  {
   "cell_type": "markdown",
   "metadata": {},
   "source": [
    "# Rotation3 - orientation, rotation and angular velocity"
   ]
  },
  {
   "cell_type": "markdown",
   "metadata": {},
   "source": [
    "Rotation3 is a $n\\times3\\times3$ matrix, called rotation matrix. Rotation3 can represent multiple rotations in 3d space."
   ]
  },
  {
   "cell_type": "code",
   "execution_count": null,
   "metadata": {
    "scrolled": true
   },
   "outputs": [
    {
     "data": {
      "text/plain": [
       "Rotation3([[[1., 0., 0.],\n",
       "            [0., 1., 0.],\n",
       "            [0., 0., 1.]],\n",
       "\n",
       "           [[1., 0., 0.],\n",
       "            [0., 1., 0.],\n",
       "            [0., 0., 1.]],\n",
       "\n",
       "           [[1., 0., 0.],\n",
       "            [0., 1., 0.],\n",
       "            [0., 0., 1.]]])"
      ]
     },
     "execution_count": 1,
     "metadata": {},
     "output_type": "execute_result"
    }
   ],
   "source": [
    "from py3d import Rotation3\n",
    "Rotation3(3)"
   ]
  },
  {
   "cell_type": "code",
   "execution_count": null,
   "metadata": {},
   "outputs": [
    {
     "data": {
      "text/plain": [
       "Rotation3([[[[1., 0., 0.],\n",
       "             [0., 1., 0.],\n",
       "             [0., 0., 1.]],\n",
       "\n",
       "            [[1., 0., 0.],\n",
       "             [0., 1., 0.],\n",
       "             [0., 0., 1.]],\n",
       "\n",
       "            [[1., 0., 0.],\n",
       "             [0., 1., 0.],\n",
       "             [0., 0., 1.]]],\n",
       "\n",
       "\n",
       "           [[[1., 0., 0.],\n",
       "             [0., 1., 0.],\n",
       "             [0., 0., 1.]],\n",
       "\n",
       "            [[1., 0., 0.],\n",
       "             [0., 1., 0.],\n",
       "             [0., 0., 1.]],\n",
       "\n",
       "            [[1., 0., 0.],\n",
       "             [0., 1., 0.],\n",
       "             [0., 0., 1.]]]])"
      ]
     },
     "execution_count": 2,
     "metadata": {},
     "output_type": "execute_result"
    }
   ],
   "source": [
    "from py3d import Rotation3\n",
    "Rotation3(2,3)"
   ]
  },
  {
   "cell_type": "code",
   "execution_count": null,
   "metadata": {},
   "outputs": [
    {
     "data": {
      "text/plain": [
       "array([[1., 0., 0., 0.],\n",
       "       [0., 1., 0., 0.],\n",
       "       [0., 0., 1., 0.],\n",
       "       [0., 0., 0., 1.]])"
      ]
     },
     "execution_count": 6,
     "metadata": {},
     "output_type": "execute_result"
    }
   ],
   "source": [
    "from py3d import Rotation3\n",
    "Rotation3().to_matrix44()"
   ]
  },
  {
   "cell_type": "code",
   "execution_count": null,
   "metadata": {},
   "outputs": [
    {
     "data": {
      "text/plain": [
       "array([[[ 1.        ,  0.        ,  0.        ,  0.        ],\n",
       "        [ 0.        ,  1.        ,  0.        ,  0.        ],\n",
       "        [ 0.        , -0.        ,  1.        ,  0.        ],\n",
       "        [ 0.        ,  0.        ,  0.        ,  1.        ]],\n",
       "\n",
       "       [[ 1.        ,  0.        ,  0.        ,  0.        ],\n",
       "        [ 0.        ,  0.54030231,  0.84147098,  0.        ],\n",
       "        [ 0.        , -0.84147098,  0.54030231,  0.        ],\n",
       "        [ 0.        ,  0.        ,  0.        ,  1.        ]],\n",
       "\n",
       "       [[ 1.        ,  0.        ,  0.        ,  0.        ],\n",
       "        [ 0.        , -0.41614684,  0.90929743,  0.        ],\n",
       "        [ 0.        , -0.90929743, -0.41614684,  0.        ],\n",
       "        [ 0.        ,  0.        ,  0.        ,  1.        ]],\n",
       "\n",
       "       [[ 1.        ,  0.        ,  0.        ,  0.        ],\n",
       "        [ 0.        , -0.9899925 ,  0.14112001,  0.        ],\n",
       "        [ 0.        , -0.14112001, -0.9899925 ,  0.        ],\n",
       "        [ 0.        ,  0.        ,  0.        ,  1.        ]],\n",
       "\n",
       "       [[ 1.        ,  0.        ,  0.        ,  0.        ],\n",
       "        [ 0.        , -0.65364362, -0.7568025 ,  0.        ],\n",
       "        [ 0.        ,  0.7568025 , -0.65364362,  0.        ],\n",
       "        [ 0.        ,  0.        ,  0.        ,  1.        ]],\n",
       "\n",
       "       [[ 1.        ,  0.        ,  0.        ,  0.        ],\n",
       "        [ 0.        ,  0.28366219, -0.95892427,  0.        ],\n",
       "        [ 0.        ,  0.95892427,  0.28366219,  0.        ],\n",
       "        [ 0.        ,  0.        ,  0.        ,  1.        ]],\n",
       "\n",
       "       [[ 1.        ,  0.        ,  0.        ,  0.        ],\n",
       "        [ 0.        ,  0.96017029, -0.2794155 ,  0.        ],\n",
       "        [ 0.        ,  0.2794155 ,  0.96017029,  0.        ],\n",
       "        [ 0.        ,  0.        ,  0.        ,  1.        ]],\n",
       "\n",
       "       [[ 1.        ,  0.        ,  0.        ,  0.        ],\n",
       "        [ 0.        ,  0.75390225,  0.6569866 ,  0.        ],\n",
       "        [ 0.        , -0.6569866 ,  0.75390225,  0.        ],\n",
       "        [ 0.        ,  0.        ,  0.        ,  1.        ]],\n",
       "\n",
       "       [[ 1.        ,  0.        ,  0.        ,  0.        ],\n",
       "        [ 0.        , -0.14550003,  0.98935825,  0.        ],\n",
       "        [ 0.        , -0.98935825, -0.14550003,  0.        ],\n",
       "        [ 0.        ,  0.        ,  0.        ,  1.        ]],\n",
       "\n",
       "       [[ 1.        ,  0.        ,  0.        ,  0.        ],\n",
       "        [ 0.        , -0.91113026,  0.41211849,  0.        ],\n",
       "        [ 0.        , -0.41211849, -0.91113026,  0.        ],\n",
       "        [ 0.        ,  0.        ,  0.        ,  1.        ]]])"
      ]
     },
     "execution_count": 7,
     "metadata": {},
     "output_type": "execute_result"
    }
   ],
   "source": [
    "from py3d import Rotation3\n",
    "Rotation3.Rx(range(10)).to_matrix44()"
   ]
  },
  {
   "cell_type": "markdown",
   "metadata": {},
   "source": [
    "```python\n",
    "Rotation3.Rx(a:list|tuple|numpy.ndarray)\n",
    "```\n",
    "`a` is an angle list.\n",
    "The function will return a 3d rotation matrix with length same as `a` describing rotations around axis x `Vector3(x=1)`.\n",
    "By sympy, let us have a look at what the matrix will looks like "
   ]
  },
  {
   "cell_type": "code",
   "execution_count": null,
   "metadata": {},
   "outputs": [
    {
     "data": {
      "text/latex": [
       "$\\displaystyle \\left[\\begin{matrix}1 & 0 & 0\\\\0 & \\cos{\\left(x \\right)} & \\sin{\\left(x \\right)}\\\\0 & - \\sin{\\left(x \\right)} & \\cos{\\left(x \\right)}\\end{matrix}\\right]$"
      ],
      "text/plain": [
       "Matrix([\n",
       "[1,       0,      0],\n",
       "[0,  cos(x), sin(x)],\n",
       "[0, -sin(x), cos(x)]])"
      ]
     },
     "execution_count": 4,
     "metadata": {},
     "output_type": "execute_result"
    }
   ],
   "source": [
    "from sympy import symbols,sin,cos\n",
    "x,y,z=symbols(\"x,y,z\")\n",
    "from sympy import Matrix\n",
    "Rx=Matrix([\n",
    "    [1, 0, 0],\n",
    "    [0, cos(x),sin(x)],\n",
    "    [0,-sin(x),cos(x)]\n",
    "])\n",
    "Rx"
   ]
  },
  {
   "cell_type": "code",
   "execution_count": null,
   "metadata": {},
   "outputs": [
    {
     "data": {
      "text/plain": [
       "Rotation3([[[ 1.        ,  0.        ,  0.        ],\n",
       "            [ 0.        ,  1.        ,  0.        ],\n",
       "            [ 0.        , -0.        ,  1.        ]],\n",
       "\n",
       "           [[ 1.        ,  0.        ,  0.        ],\n",
       "            [ 0.        ,  0.54030231,  0.84147098],\n",
       "            [ 0.        , -0.84147098,  0.54030231]],\n",
       "\n",
       "           [[ 1.        ,  0.        ,  0.        ],\n",
       "            [ 0.        , -0.41614684,  0.90929743],\n",
       "            [ 0.        , -0.90929743, -0.41614684]],\n",
       "\n",
       "           [[ 1.        ,  0.        ,  0.        ],\n",
       "            [ 0.        , -0.9899925 ,  0.14112001],\n",
       "            [ 0.        , -0.14112001, -0.9899925 ]]])"
      ]
     },
     "execution_count": 8,
     "metadata": {},
     "output_type": "execute_result"
    }
   ],
   "source": [
    "from py3d import Rotation3\n",
    "import numpy\n",
    "Rotation3.Rx([0,1,2,3])"
   ]
  },
  {
   "cell_type": "markdown",
   "metadata": {},
   "source": [
    "The same is `Rotation3.Ry(a:list|tuple|numpy.ndarray)` and `Rotation3.Rz(a:list|tuple|numpy.ndarray)`"
   ]
  },
  {
   "cell_type": "code",
   "execution_count": null,
   "metadata": {},
   "outputs": [
    {
     "data": {
      "text/latex": [
       "$\\displaystyle \\left[\\begin{matrix}\\cos{\\left(y \\right)} & 0 & - \\sin{\\left(y \\right)}\\\\0 & 1 & 0\\\\\\sin{\\left(y \\right)} & 0 & \\cos{\\left(y \\right)}\\end{matrix}\\right]$"
      ],
      "text/plain": [
       "Matrix([\n",
       "[cos(y), 0, -sin(y)],\n",
       "[     0, 1,       0],\n",
       "[sin(y), 0,  cos(y)]])"
      ]
     },
     "execution_count": 6,
     "metadata": {},
     "output_type": "execute_result"
    }
   ],
   "source": [
    "from sympy import symbols,sin,cos\n",
    "x,y,z=symbols(\"x,y,z\")\n",
    "from sympy import Matrix\n",
    "Ry=Matrix([\n",
    "    [cos(y),0,-sin(y)],\n",
    "    [0, 1, 0],\n",
    "    [sin(y),0,cos(y)]\n",
    "])\n",
    "Ry"
   ]
  },
  {
   "cell_type": "code",
   "execution_count": null,
   "metadata": {},
   "outputs": [
    {
     "data": {
      "text/latex": [
       "$\\displaystyle \\left[\\begin{matrix}\\cos{\\left(z \\right)} & \\sin{\\left(z \\right)} & 0\\\\- \\sin{\\left(z \\right)} & \\cos{\\left(z \\right)} & 0\\\\0 & 0 & 1\\end{matrix}\\right]$"
      ],
      "text/plain": [
       "Matrix([\n",
       "[ cos(z), sin(z), 0],\n",
       "[-sin(z), cos(z), 0],\n",
       "[      0,      0, 1]])"
      ]
     },
     "execution_count": 7,
     "metadata": {},
     "output_type": "execute_result"
    }
   ],
   "source": [
    "from sympy import symbols,sin,cos\n",
    "x,y,z=symbols(\"x,y,z\")\n",
    "from sympy import Matrix\n",
    "Rz=Matrix([\n",
    "    [cos(z),sin(z),0],\n",
    "    [-sin(z),cos(z),0],\n",
    "    [0,0,1]\n",
    "])\n",
    "Rz"
   ]
  },
  {
   "cell_type": "code",
   "execution_count": null,
   "metadata": {},
   "outputs": [
    {
     "data": {
      "text/latex": [
       "$\\displaystyle \\left[\\begin{matrix}\\cos{\\left(y \\right)} \\cos{\\left(z \\right)} & \\sin{\\left(z \\right)} \\cos{\\left(y \\right)} & - \\sin{\\left(y \\right)}\\\\\\sin{\\left(x \\right)} \\sin{\\left(y \\right)} \\cos{\\left(z \\right)} - \\sin{\\left(z \\right)} \\cos{\\left(x \\right)} & \\sin{\\left(x \\right)} \\sin{\\left(y \\right)} \\sin{\\left(z \\right)} + \\cos{\\left(x \\right)} \\cos{\\left(z \\right)} & \\sin{\\left(x \\right)} \\cos{\\left(y \\right)}\\\\\\sin{\\left(x \\right)} \\sin{\\left(z \\right)} + \\sin{\\left(y \\right)} \\cos{\\left(x \\right)} \\cos{\\left(z \\right)} & - \\sin{\\left(x \\right)} \\cos{\\left(z \\right)} + \\sin{\\left(y \\right)} \\sin{\\left(z \\right)} \\cos{\\left(x \\right)} & \\cos{\\left(x \\right)} \\cos{\\left(y \\right)}\\end{matrix}\\right]$"
      ],
      "text/plain": [
       "Matrix([\n",
       "[                       cos(y)*cos(z),                         sin(z)*cos(y),       -sin(y)],\n",
       "[sin(x)*sin(y)*cos(z) - sin(z)*cos(x),  sin(x)*sin(y)*sin(z) + cos(x)*cos(z), sin(x)*cos(y)],\n",
       "[sin(x)*sin(z) + sin(y)*cos(x)*cos(z), -sin(x)*cos(z) + sin(y)*sin(z)*cos(x), cos(x)*cos(y)]])"
      ]
     },
     "execution_count": 8,
     "metadata": {},
     "output_type": "execute_result"
    }
   ],
   "source": [
    "Rx*Ry*Rz"
   ]
  },
  {
   "cell_type": "markdown",
   "metadata": {},
   "source": [
    "rotate points"
   ]
  },
  {
   "cell_type": "code",
   "execution_count": null,
   "metadata": {
    "scrolled": false
   },
   "outputs": [
    {
     "name": "stdout",
     "output_type": "stream",
     "text": [
      "click http://localhost:8000/view/4de1baf0-35a2-11ec-9591-5f1f284564c0 to view in browser\n"
     ]
    },
    {
     "data": {
      "text/html": [
       "\n",
       "        <iframe\n",
       "            width=\"100%\"\n",
       "            height=\"600px\"\n",
       "            src=\"http://localhost:8000/view/4de1baf0-35a2-11ec-9591-5f1f284564c0\"\n",
       "            frameborder=\"0\"\n",
       "            allowfullscreen\n",
       "        ></iframe>\n",
       "        "
      ],
      "text/plain": [
       "<IPython.lib.display.IFrame at 0x7f23a04fa580>"
      ]
     },
     "metadata": {},
     "output_type": "display_data"
    }
   ],
   "source": [
    "from py3d import Vector3,Rotation3\n",
    "from numpy import sin,pi\n",
    "points=Vector3.Rand(1000)\n",
    "rotation=Rotation3.Ry([0,pi/4,pi*2/4,pi*3/4])\n",
    "points_=points@rotation\n",
    "points_[1]+=Vector3(y=1)\n",
    "points_[2]+=Vector3(y=2)\n",
    "points_[3]+=Vector3(y=3)\n",
    "points_.as_point().render()"
   ]
  },
  {
   "cell_type": "markdown",
   "metadata": {},
   "source": [
    "from angle axis"
   ]
  },
  {
   "cell_type": "code",
   "execution_count": null,
   "metadata": {},
   "outputs": [
    {
     "name": "stdout",
     "output_type": "stream",
     "text": [
      "click http://localhost:8000/view/ba7b8af6-35a2-11ec-9591-5f1f284564c0 to view in browser\n"
     ]
    },
    {
     "data": {
      "text/html": [
       "\n",
       "        <iframe\n",
       "            width=\"100%\"\n",
       "            height=\"600px\"\n",
       "            src=\"http://localhost:8000/view/ba7b8af6-35a2-11ec-9591-5f1f284564c0\"\n",
       "            frameborder=\"0\"\n",
       "            allowfullscreen\n",
       "        ></iframe>\n",
       "        "
      ],
      "text/plain": [
       "<IPython.lib.display.IFrame at 0x7f23b0225550>"
      ]
     },
     "metadata": {},
     "output_type": "display_data"
    }
   ],
   "source": [
    "from py3d import Rotation3,pi,Vector3\n",
    "r=Rotation3.from_angle_axis([0,pi/2,pi,pi*3/2,2*pi],Vector3(1,1,1))\n",
    "points=Vector3.Rand(1000)+Vector3(1,0,0)\n",
    "(points@r).as_point().render()"
   ]
  },
  {
   "cell_type": "code",
   "execution_count": null,
   "metadata": {},
   "outputs": [
    {
     "data": {
      "text/plain": [
       "array([[ 0.        , -0.        ,  0.        ],\n",
       "       [ 0.78539816,  1.        ,  0.        ],\n",
       "       [ 1.57079633,  1.        ,  0.        ],\n",
       "       [ 2.35619449,  1.        ,  0.        ]])"
      ]
     },
     "execution_count": 7,
     "metadata": {},
     "output_type": "execute_result"
    }
   ],
   "source": [
    "from py3d import Rotation3,pi\n",
    "r=Rotation3.from_eular_extrinsic(x=[0,pi/4,pi*2/4,pi*3/4],y=[0,1,1,1],z=[0,0,0,0])\n",
    "r.to_eular_extrinsic()"
   ]
  },
  {
   "cell_type": "code",
   "execution_count": null,
   "metadata": {},
   "outputs": [
    {
     "data": {
      "text/latex": [
       "$\\displaystyle \\left[\\begin{matrix}\\cos{\\left(y \\right)} \\cos{\\left(z \\right)} & \\sin{\\left(z \\right)} \\cos{\\left(y \\right)} & - \\sin{\\left(y \\right)}\\\\\\sin{\\left(x \\right)} \\sin{\\left(y \\right)} \\cos{\\left(z \\right)} - \\sin{\\left(z \\right)} \\cos{\\left(x \\right)} & \\sin{\\left(x \\right)} \\sin{\\left(y \\right)} \\sin{\\left(z \\right)} + \\cos{\\left(x \\right)} \\cos{\\left(z \\right)} & \\sin{\\left(x \\right)} \\cos{\\left(y \\right)}\\\\\\sin{\\left(x \\right)} \\sin{\\left(z \\right)} + \\sin{\\left(y \\right)} \\cos{\\left(x \\right)} \\cos{\\left(z \\right)} & - \\sin{\\left(x \\right)} \\cos{\\left(z \\right)} + \\sin{\\left(y \\right)} \\sin{\\left(z \\right)} \\cos{\\left(x \\right)} & \\cos{\\left(x \\right)} \\cos{\\left(y \\right)}\\end{matrix}\\right]$"
      ],
      "text/plain": [
       "Matrix([\n",
       "[                       cos(y)*cos(z),                         sin(z)*cos(y),       -sin(y)],\n",
       "[sin(x)*sin(y)*cos(z) - sin(z)*cos(x),  sin(x)*sin(y)*sin(z) + cos(x)*cos(z), sin(x)*cos(y)],\n",
       "[sin(x)*sin(z) + sin(y)*cos(x)*cos(z), -sin(x)*cos(z) + sin(y)*sin(z)*cos(x), cos(x)*cos(y)]])"
      ]
     },
     "execution_count": 12,
     "metadata": {},
     "output_type": "execute_result"
    }
   ],
   "source": [
    "from sympy import symbols,sin,cos\n",
    "x,y,z=symbols(\"x,y,z\")\n",
    "from sympy import Matrix\n",
    "Rx=Matrix([\n",
    "    [1, 0, 0],\n",
    "    [0, cos(x),sin(x)],\n",
    "    [0,-sin(x),cos(x)]\n",
    "])\n",
    "Ry=Matrix([\n",
    "    [cos(y),0,-sin(y)],\n",
    "    [0, 1, 0],\n",
    "    [sin(y),0,cos(y)]\n",
    "])\n",
    "Rz=Matrix([\n",
    "    [cos(z),sin(z),0],\n",
    "    [-sin(z),cos(z),0],\n",
    "    [0,0,1]\n",
    "])\n",
    "Rx*Ry*Rz"
   ]
  },
  {
   "cell_type": "code",
   "execution_count": null,
   "metadata": {},
   "outputs": [
    {
     "data": {
      "text/plain": [
       "array([[ 0.        , -1.        , -0.        ],\n",
       "       [-0.78539816, -1.        , -0.        ],\n",
       "       [-1.57079633, -1.        , -0.        ],\n",
       "       [-2.35619449, -1.        , -0.        ]])"
      ]
     },
     "execution_count": 7,
     "metadata": {},
     "output_type": "execute_result"
    }
   ],
   "source": [
    "from py3d import Rotation3,pi\n",
    "r=Rotation3.from_eular_intrinsic([0,pi/4,pi*2/4,pi*3/4],[1]*4,[0]*4)\n",
    "r.to_eular_intrinsic()"
   ]
  },
  {
   "cell_type": "code",
   "execution_count": null,
   "metadata": {},
   "outputs": [
    {
     "data": {
      "text/plain": [
       "Vector3([ 6.123234e-17,  0.000000e+00, -1.000000e+00])"
      ]
     },
     "execution_count": 8,
     "metadata": {},
     "output_type": "execute_result"
    }
   ],
   "source": [
    "from py3d import Rotation3,pi,Vector3\n",
    "r=Rotation3.from_eular_extrinsic(pi/2,pi/2,0)\n",
    "Vector3(x=1)@r"
   ]
  },
  {
   "cell_type": "code",
   "execution_count": null,
   "metadata": {},
   "outputs": [
    {
     "data": {
      "text/plain": [
       "Vector3([ 6.123234e-17,  1.000000e+00, -6.123234e-17])"
      ]
     },
     "execution_count": 9,
     "metadata": {},
     "output_type": "execute_result"
    }
   ],
   "source": [
    "from py3d import Rotation3,pi,Vector3\n",
    "r=Rotation3.from_eular_intrinsic(pi/2,pi/2,0)\n",
    "Vector3(x=1)@r"
   ]
  },
  {
   "cell_type": "code",
   "execution_count": null,
   "metadata": {},
   "outputs": [
    {
     "data": {
      "text/plain": [
       "Vector3([ 3.74939946e-33,  1.00000000e+00, -6.12323400e-17])"
      ]
     },
     "execution_count": 10,
     "metadata": {},
     "output_type": "execute_result"
    }
   ],
   "source": [
    "from py3d import Rotation3,pi,Vector3\n",
    "r=Rotation3.from_eular_intrinsic(0,pi/2,pi/2)\n",
    "Vector3(x=1)@r"
   ]
  },
  {
   "cell_type": "code",
   "execution_count": null,
   "metadata": {},
   "outputs": [
    {
     "data": {
      "text/plain": [
       "Rotation3([[[ 0.93584986,  0.29993001, -0.18500548],\n",
       "            [-0.18881273,  0.87003836,  0.45539324],\n",
       "            [ 0.29754797, -0.39124831,  0.87085588]],\n",
       "\n",
       "           [[ 0.65709966,  0.74808562, -0.09267111],\n",
       "            [-0.60595419,  0.59733606,  0.52536574],\n",
       "            [ 0.44837435, -0.2890632 ,  0.84581494]],\n",
       "\n",
       "           [[ 0.52726554,  0.54613731, -0.65094169],\n",
       "            [-0.37677378,  0.83692435,  0.39698761],\n",
       "            [ 0.7615987 ,  0.03593987,  0.64705158]],\n",
       "\n",
       "           [[ 0.6224155 ,  0.77987684, -0.06626507],\n",
       "            [-0.4556128 ,  0.42985627,  0.77951303],\n",
       "            [ 0.63640861, -0.45498978,  0.62287108]],\n",
       "\n",
       "           [[ 0.87796432,  0.43342088, -0.2032855 ],\n",
       "            [-0.2290835 ,  0.7532335 ,  0.6165712 ],\n",
       "            [ 0.42035628, -0.49475816,  0.76060171]],\n",
       "\n",
       "           [[ 0.81155309,  0.54316278, -0.21530391],\n",
       "            [-0.49309644,  0.83438009,  0.24630422],\n",
       "            [ 0.31342858, -0.09372336,  0.94497537]],\n",
       "\n",
       "           [[ 0.60671974,  0.78573919, -0.12043708],\n",
       "            [-0.64028869,  0.57284677,  0.51173917],\n",
       "            [ 0.47108551, -0.23336776,  0.85065735]],\n",
       "\n",
       "           [[ 0.58880387,  0.77170528, -0.24037671],\n",
       "            [-0.74477568,  0.63354397,  0.20959775],\n",
       "            [ 0.31403691,  0.05561476,  0.94778047]],\n",
       "\n",
       "           [[ 0.32678531,  0.43192287, -0.84062714],\n",
       "            [-0.33886077,  0.88386866,  0.32241211],\n",
       "            [ 0.88226115,  0.17949602,  0.43519701]],\n",
       "\n",
       "           [[ 0.90377699,  0.23742778, -0.35611121],\n",
       "            [-0.15786139,  0.95828286,  0.23827242],\n",
       "            [ 0.39782776, -0.15912892,  0.90355468]]])"
      ]
     },
     "execution_count": 2,
     "metadata": {},
     "output_type": "execute_result"
    }
   ],
   "source": [
    "from py3d import Rotation3\n",
    "Rotation3.Rand(10)"
   ]
  },
  {
   "cell_type": "markdown",
   "metadata": {},
   "source": [
    "## Quaternion\n",
    "Quaternion is a 4-tuple, which is a more concise representation than a rotation matrix. And quaternion is a complex number."
   ]
  },
  {
   "cell_type": "code",
   "execution_count": null,
   "metadata": {
    "scrolled": true
   },
   "outputs": [
    {
     "data": {
      "text/latex": [
       "$\\displaystyle \\left(\\omega \\omega' - x x' - y y' - z z'\\right) + \\left(\\omega x' + \\omega' x + y z' - y' z\\right) i + \\left(\\omega y' + \\omega' y - x z' + x' z\\right) j + \\left(\\omega z' + \\omega' z + x y' - x' y\\right) k$"
      ],
      "text/plain": [
       "(\\omega*\\omega' - x*x' - y*y' - z*z') + (\\omega*x' + \\omega'*x + y*z' - y'*z)*i + (\\omega*y' + \\omega'*y - x*z' + x'*z)*j + (\\omega*z' + \\omega'*z + x*y' - x'*y)*k"
      ]
     },
     "execution_count": 5,
     "metadata": {},
     "output_type": "execute_result"
    }
   ],
   "source": [
    "from sympy import symbols,Quaternion\n",
    "w,x,y,z,w_,x_,y_,z_=symbols(\"\\omega,x,y,z,\\omega',x',y',z'\")\n",
    "q=Quaternion(w,x,y,z)\n",
    "q_=Quaternion(w_,x_,y_,z_)\n",
    "q*q_"
   ]
  },
  {
   "cell_type": "markdown",
   "metadata": {},
   "source": [
    "Express a point $[x,y,z]$ in quaternion way $(0,x,y,z)$"
   ]
  },
  {
   "cell_type": "code",
   "execution_count": null,
   "metadata": {},
   "outputs": [
    {
     "data": {
      "text/latex": [
       "$\\displaystyle 0 + p_{x} i + p_{y} j + p_{z} k$"
      ],
      "text/plain": [
       "0 + p_x*i + p_y*j + p_z*k"
      ]
     },
     "execution_count": 6,
     "metadata": {},
     "output_type": "execute_result"
    }
   ],
   "source": [
    "from sympy import symbols,Quaternion\n",
    "px,py,pz=symbols(\"p_x,p_y,p_z\")\n",
    "p=Quaternion(0,px,py,pz)\n",
    "p"
   ]
  },
  {
   "cell_type": "code",
   "execution_count": null,
   "metadata": {},
   "outputs": [
    {
     "data": {
      "text/latex": [
       "$\\displaystyle \\left(\\omega \\left(- p_{x} x - p_{y} y - p_{z} z\\right) - x \\left(- \\omega p_{x} + p_{y} z - p_{z} y\\right) + y \\left(\\omega p_{y} + p_{x} z - p_{z} x\\right) + z \\left(\\omega p_{z} - p_{x} y + p_{y} x\\right)\\right) + \\left(\\omega \\left(\\omega p_{x} - p_{y} z + p_{z} y\\right) - x \\left(- p_{x} x - p_{y} y - p_{z} z\\right) + y \\left(\\omega p_{z} - p_{x} y + p_{y} x\\right) - z \\left(\\omega p_{y} + p_{x} z - p_{z} x\\right)\\right) i + \\left(\\omega \\left(\\omega p_{y} + p_{x} z - p_{z} x\\right) - x \\left(\\omega p_{z} - p_{x} y + p_{y} x\\right) - y \\left(- p_{x} x - p_{y} y - p_{z} z\\right) - z \\left(- \\omega p_{x} + p_{y} z - p_{z} y\\right)\\right) j + \\left(\\omega \\left(\\omega p_{z} - p_{x} y + p_{y} x\\right) + x \\left(\\omega p_{y} + p_{x} z - p_{z} x\\right) - y \\left(\\omega p_{x} - p_{y} z + p_{z} y\\right) - z \\left(- p_{x} x - p_{y} y - p_{z} z\\right)\\right) k$"
      ],
      "text/plain": [
       "(\\omega*(-p_x*x - p_y*y - p_z*z) - x*(-\\omega*p_x + p_y*z - p_z*y) + y*(\\omega*p_y + p_x*z - p_z*x) + z*(\\omega*p_z - p_x*y + p_y*x)) + (\\omega*(\\omega*p_x - p_y*z + p_z*y) - x*(-p_x*x - p_y*y - p_z*z) + y*(\\omega*p_z - p_x*y + p_y*x) - z*(\\omega*p_y + p_x*z - p_z*x))*i + (\\omega*(\\omega*p_y + p_x*z - p_z*x) - x*(\\omega*p_z - p_x*y + p_y*x) - y*(-p_x*x - p_y*y - p_z*z) - z*(-\\omega*p_x + p_y*z - p_z*y))*j + (\\omega*(\\omega*p_z - p_x*y + p_y*x) + x*(\\omega*p_y + p_x*z - p_z*x) - y*(\\omega*p_x - p_y*z + p_z*y) - z*(-p_x*x - p_y*y - p_z*z))*k"
      ]
     },
     "execution_count": 7,
     "metadata": {},
     "output_type": "execute_result"
    }
   ],
   "source": [
    "p_=q*p*q.inverse().subs(w**2+x**2+y**2+z**2,1)\n",
    "p_"
   ]
  },
  {
   "cell_type": "code",
   "execution_count": null,
   "metadata": {
    "scrolled": true
   },
   "outputs": [
    {
     "data": {
      "text/latex": [
       "$\\displaystyle p_{x} \\left(\\omega^{2} + x^{2} - y^{2} - z^{2}\\right) + p_{y} \\left(- 2 \\omega z + 2 x y\\right) + p_{z} \\left(2 \\omega y + 2 x z\\right)$"
      ],
      "text/plain": [
       "p_x*(\\omega**2 + x**2 - y**2 - z**2) + p_y*(-2*\\omega*z + 2*x*y) + p_z*(2*\\omega*y + 2*x*z)"
      ]
     },
     "execution_count": 8,
     "metadata": {},
     "output_type": "execute_result"
    }
   ],
   "source": [
    "p_.b.subs(w**2+x**2+y**2+z**2,1).expand().collect(px).collect(py).collect(pz)"
   ]
  },
  {
   "cell_type": "code",
   "execution_count": null,
   "metadata": {},
   "outputs": [
    {
     "data": {
      "text/latex": [
       "$\\displaystyle p_{x} \\left(2 \\omega z + 2 x y\\right) + p_{y} \\left(\\omega^{2} - x^{2} + y^{2} - z^{2}\\right) + p_{z} \\left(- 2 \\omega x + 2 y z\\right)$"
      ],
      "text/plain": [
       "p_x*(2*\\omega*z + 2*x*y) + p_y*(\\omega**2 - x**2 + y**2 - z**2) + p_z*(-2*\\omega*x + 2*y*z)"
      ]
     },
     "execution_count": 9,
     "metadata": {},
     "output_type": "execute_result"
    }
   ],
   "source": [
    "p_.c.subs(w**2+x**2+y**2+z**2,1).expand().collect(px).collect(py).collect(pz)"
   ]
  },
  {
   "cell_type": "code",
   "execution_count": null,
   "metadata": {},
   "outputs": [
    {
     "data": {
      "text/latex": [
       "$\\displaystyle p_{x} \\left(- 2 \\omega y + 2 x z\\right) + p_{y} \\left(2 \\omega x + 2 y z\\right) + p_{z} \\left(\\omega^{2} - x^{2} - y^{2} + z^{2}\\right)$"
      ],
      "text/plain": [
       "p_x*(-2*\\omega*y + 2*x*z) + p_y*(2*\\omega*x + 2*y*z) + p_z*(\\omega**2 - x**2 - y**2 + z**2)"
      ]
     },
     "execution_count": 10,
     "metadata": {},
     "output_type": "execute_result"
    }
   ],
   "source": [
    "p_.d.subs(w**2+x**2+y**2+z**2,1).expand().collect(px).collect(py).collect(pz)"
   ]
  },
  {
   "cell_type": "markdown",
   "metadata": {},
   "source": [
    "Convert a quaternion to rotation matrix"
   ]
  },
  {
   "cell_type": "code",
   "execution_count": null,
   "metadata": {},
   "outputs": [
    {
     "data": {
      "text/latex": [
       "$\\displaystyle \\left[\\begin{matrix}\\omega^{2} + x^{2} - y^{2} - z^{2} & 2 \\omega z + 2 x y & - 2 \\omega y + 2 x z\\\\- 2 \\omega z + 2 x y & \\omega^{2} - x^{2} + y^{2} - z^{2} & 2 \\omega x + 2 y z\\\\2 \\omega y + 2 x z & - 2 \\omega x + 2 y z & \\omega^{2} - x^{2} - y^{2} + z^{2}\\end{matrix}\\right]$"
      ],
      "text/plain": [
       "Matrix([\n",
       "[\\omega**2 + x**2 - y**2 - z**2,             2*\\omega*z + 2*x*y,            -2*\\omega*y + 2*x*z],\n",
       "[           -2*\\omega*z + 2*x*y, \\omega**2 - x**2 + y**2 - z**2,             2*\\omega*x + 2*y*z],\n",
       "[            2*\\omega*y + 2*x*z,            -2*\\omega*x + 2*y*z, \\omega**2 - x**2 - y**2 + z**2]])"
      ]
     },
     "execution_count": 11,
     "metadata": {},
     "output_type": "execute_result"
    }
   ],
   "source": [
    "from sympy import Matrix\n",
    "rotation_matrix=Matrix([\n",
    "    [w**2+x**2-y**2-z**2,w*z+x*y+x*y+w*z,-2*w*y+2*x*z],\n",
    "    [-w*z+x*y+x*y-w*z,w**2-x**2+y**2-z**2,2*w*x+2*y*z],\n",
    "    [w*y+x*z+w*y+x*z,-w*x-w*x+y*z+y*z,w**2-x**2-y**2+z**2]\n",
    "])\n",
    "rotation_matrix"
   ]
  },
  {
   "cell_type": "code",
   "execution_count": null,
   "metadata": {
    "scrolled": true
   },
   "outputs": [
    {
     "data": {
      "text/latex": [
       "$\\displaystyle \\left[\\begin{matrix}p_{x} \\left(\\omega^{2} + x^{2} - y^{2} - z^{2}\\right) + p_{y} \\left(- 2 \\omega z + 2 x y\\right) + p_{z} \\left(2 \\omega y + 2 x z\\right) & p_{x} \\left(2 \\omega z + 2 x y\\right) + p_{y} \\left(\\omega^{2} - x^{2} + y^{2} - z^{2}\\right) + p_{z} \\left(- 2 \\omega x + 2 y z\\right) & p_{x} \\left(- 2 \\omega y + 2 x z\\right) + p_{y} \\left(2 \\omega x + 2 y z\\right) + p_{z} \\left(\\omega^{2} - x^{2} - y^{2} + z^{2}\\right)\\end{matrix}\\right]$"
      ],
      "text/plain": [
       "Matrix([[p_x*(\\omega**2 + x**2 - y**2 - z**2) + p_y*(-2*\\omega*z + 2*x*y) + p_z*(2*\\omega*y + 2*x*z), p_x*(2*\\omega*z + 2*x*y) + p_y*(\\omega**2 - x**2 + y**2 - z**2) + p_z*(-2*\\omega*x + 2*y*z), p_x*(-2*\\omega*y + 2*x*z) + p_y*(2*\\omega*x + 2*y*z) + p_z*(\\omega**2 - x**2 - y**2 + z**2)]])"
      ]
     },
     "execution_count": 12,
     "metadata": {},
     "output_type": "execute_result"
    }
   ],
   "source": [
    "from sympy import Matrix\n",
    "Matrix([[px,py,pz]])*rotation_matrix"
   ]
  },
  {
   "cell_type": "code",
   "execution_count": null,
   "metadata": {},
   "outputs": [
    {
     "data": {
      "text/plain": [
       "Quaternion([0.5, 0.5, 0.5, 0.5])"
      ]
     },
     "execution_count": 1,
     "metadata": {},
     "output_type": "execute_result"
    }
   ],
   "source": [
    "from py3d import Quaternion\n",
    "q=Quaternion(0.5,0.5,0.5,0.5)\n",
    "q"
   ]
  },
  {
   "cell_type": "code",
   "execution_count": null,
   "metadata": {},
   "outputs": [
    {
     "data": {
      "text/plain": [
       "Quaternion([[1., 0., 0., 0.],\n",
       "            [1., 0., 0., 0.],\n",
       "            [1., 0., 0., 0.],\n",
       "            [1., 0., 0., 0.],\n",
       "            [1., 0., 0., 0.]])"
      ]
     },
     "execution_count": 2,
     "metadata": {},
     "output_type": "execute_result"
    }
   ],
   "source": [
    "from py3d import Quaternion\n",
    "q=Quaternion(1,0,0,0,n=5)\n",
    "q"
   ]
  },
  {
   "cell_type": "code",
   "execution_count": null,
   "metadata": {},
   "outputs": [
    {
     "data": {
      "text/plain": [
       "Quaternion([[1. , 0. , 0. , 0. ],\n",
       "            [0.5, 0.5, 0.5, 0.5]])"
      ]
     },
     "execution_count": 3,
     "metadata": {},
     "output_type": "execute_result"
    }
   ],
   "source": [
    "from py3d import Quaternion\n",
    "Quaternion([1,0.5],[0,0.5],[0,0.5],[0,0.5])"
   ]
  },
  {
   "cell_type": "code",
   "execution_count": null,
   "metadata": {},
   "outputs": [],
   "source": [
    "from py3d import Quaternion,pi,Vector3\n",
    "Quaternion.from_angle_axis(pi/2,Vector3(z=1,n=2)) "
   ]
  },
  {
   "cell_type": "code",
   "execution_count": null,
   "metadata": {},
   "outputs": [],
   "source": [
    "from py3d import Quaternion,pi,Vector3\n",
    "q=Quaternion.from_angle_axis(pi/2,Vector3(z=1,n=2))\n",
    "q.to_angle_axis()"
   ]
  },
  {
   "cell_type": "code",
   "execution_count": null,
   "metadata": {},
   "outputs": [],
   "source": [
    "from py3d import Quaternion\n",
    "q=Quaternion([1,0.5],[0,0.5],[0,0.5],[0,0.5])\n",
    "q.to_matrix()"
   ]
  },
  {
   "cell_type": "code",
   "execution_count": null,
   "metadata": {},
   "outputs": [],
   "source": [
    "from py3d import Quaternion\n",
    "d=Vector3.Rand(5)\n",
    "d_=Vector3.Rand(5)\n",
    "q=Quaternion.from_direction_change(d, d_)\n",
    "q"
   ]
  },
  {
   "cell_type": "markdown",
   "metadata": {},
   "source": [
    "## Inverse"
   ]
  },
  {
   "cell_type": "code",
   "execution_count": null,
   "metadata": {},
   "outputs": [],
   "source": [
    "from py3d import Quaternion\n",
    "q=Quaternion([1,0.5],[0,0.5],[0,0.5],[0,0.5])\n",
    "q.I"
   ]
  },
  {
   "cell_type": "markdown",
   "metadata": {},
   "source": [
    "## Rotate points by quaternion multiplication\n",
    "\n",
    "points can be regarded as special quaternions, if we want to rotate points we can do it by quaternion multiplication"
   ]
  },
  {
   "cell_type": "code",
   "execution_count": null,
   "metadata": {},
   "outputs": [],
   "source": [
    "from py3d import Vector3,Quaternion,pi\n",
    "import numpy\n",
    "p=Quaternion(0,Vector3.Rand(500))\n",
    "q=Quaternion.from_angle_axis(pi/2,Vector3([[0,1,0],[0,0,1]]))\n",
    "q.mq(p,byrow=False).mq(q.I).xyz.render_as_points()"
   ]
  },
  {
   "cell_type": "markdown",
   "metadata": {},
   "source": [
    "Vector3 has a method mq to do the same thing"
   ]
  },
  {
   "cell_type": "code",
   "execution_count": null,
   "metadata": {},
   "outputs": [],
   "source": [
    "from py3d import Vector3,Quaternion,pi\n",
    "q=Quaternion.from_angle_axis(pi/2,Vector3([[0,1,0],[0,0,1]]))\n",
    "Vector3.Rand(500).mq(q).render_as_points()"
   ]
  },
  {
   "cell_type": "code",
   "execution_count": null,
   "metadata": {
    "scrolled": false
   },
   "outputs": [],
   "source": [
    "from py3d import Vector3,Quaternion,pi\n",
    "q=Quaternion.from_angle_axis(pi/2,Vector3([[0,1,0],[0,0,1]]))\n",
    "(Vector3.Rand(500)@q.to_matrix()).render_as_points()"
   ]
  },
  {
   "cell_type": "code",
   "execution_count": null,
   "metadata": {},
   "outputs": [],
   "source": [
    "from py3d import Vector3,Quaternion,pi\n",
    "q=Quaternion.from_direction_change(Vector3(0,1,0),Vector3(0,0,1))\n",
    "q"
   ]
  },
  {
   "cell_type": "markdown",
   "metadata": {},
   "source": [
    "# Transform"
   ]
  },
  {
   "cell_type": "markdown",
   "metadata": {},
   "source": [
    "Scaling matrix in 4x4 form"
   ]
  },
  {
   "cell_type": "code",
   "execution_count": null,
   "metadata": {},
   "outputs": [],
   "source": [
    "from sympy import symbols,Matrix\n",
    "sx,sy,sz,a00,a01,a02,a10,a11,a12,a20,a21,a22=symbols(\"s_x,s_y,s_z,a_00,a_01,a_02,a_10,a_11,a_12,a_20,a_21,a_22\")\n",
    "scaling_matrix=Matrix([\n",
    "    [sx,0,0,0],\n",
    "    [0,sy,0,0],\n",
    "    [0,0,sz,0],\n",
    "    [0,0,0,1]\n",
    "])\n",
    "rotation_matrix=Matrix([\n",
    "    [a00,a01,a02,0],\n",
    "    [a10,a11,a12,0],\n",
    "    [a20,a21,a22,0],\n",
    "    [0,0,0,1]\n",
    "])\n",
    "scaling_matrix*rotation_matrix"
   ]
  },
  {
   "cell_type": "code",
   "execution_count": null,
   "metadata": {},
   "outputs": [],
   "source": [
    "scaling_matrix.inv()"
   ]
  },
  {
   "cell_type": "code",
   "execution_count": null,
   "metadata": {},
   "outputs": [],
   "source": [
    "rotation_matrix*scaling_matrix"
   ]
  },
  {
   "cell_type": "code",
   "execution_count": null,
   "metadata": {},
   "outputs": [
    {
     "data": {
      "text/plain": [
       "Transform3([[1., 0., 0., 0.],\n",
       "            [0., 1., 0., 0.],\n",
       "            [0., 0., 1., 0.],\n",
       "            [0., 0., 0., 1.]])"
      ]
     },
     "execution_count": 2,
     "metadata": {},
     "output_type": "execute_result"
    }
   ],
   "source": [
    "from py3d import Transform3\n",
    "Transform3(1)"
   ]
  },
  {
   "cell_type": "code",
   "execution_count": null,
   "metadata": {},
   "outputs": [
    {
     "data": {
      "text/plain": [
       "Transform3([[[1.        , 0.        , 0.        , 0.        ],\n",
       "             [0.        , 1.        , 0.        , 0.        ],\n",
       "             [0.        , 0.        , 1.        , 0.        ],\n",
       "             [0.17249528, 0.28194238, 0.60980589, 1.        ]],\n",
       "\n",
       "            [[1.        , 0.        , 0.        , 0.        ],\n",
       "             [0.        , 1.        , 0.        , 0.        ],\n",
       "             [0.        , 0.        , 1.        , 0.        ],\n",
       "             [0.24419589, 0.65237938, 0.70505919, 1.        ]],\n",
       "\n",
       "            [[1.        , 0.        , 0.        , 0.        ],\n",
       "             [0.        , 1.        , 0.        , 0.        ],\n",
       "             [0.        , 0.        , 1.        , 0.        ],\n",
       "             [0.53824476, 0.16351621, 0.39957765, 1.        ]],\n",
       "\n",
       "            [[1.        , 0.        , 0.        , 0.        ],\n",
       "             [0.        , 1.        , 0.        , 0.        ],\n",
       "             [0.        , 0.        , 1.        , 0.        ],\n",
       "             [0.73178489, 0.71336985, 0.24262368, 1.        ]],\n",
       "\n",
       "            [[1.        , 0.        , 0.        , 0.        ],\n",
       "             [0.        , 1.        , 0.        , 0.        ],\n",
       "             [0.        , 0.        , 1.        , 0.        ],\n",
       "             [0.6868308 , 0.48559915, 0.69591087, 1.        ]]])"
      ]
     },
     "execution_count": 3,
     "metadata": {},
     "output_type": "execute_result"
    }
   ],
   "source": [
    "from py3d import Transform3,Vector3\n",
    "T=Transform3(5)\n",
    "T.translation=Vector3.Rand(5)\n",
    "T"
   ]
  },
  {
   "cell_type": "code",
   "execution_count": null,
   "metadata": {},
   "outputs": [
    {
     "data": {
      "text/plain": [
       "Transform3([[[0., 0., 0., 0.],\n",
       "             [0., 1., 0., 0.],\n",
       "             [0., 0., 5., 0.],\n",
       "             [5., 0., 0., 1.]],\n",
       "\n",
       "            [[1., 0., 0., 0.],\n",
       "             [0., 1., 0., 0.],\n",
       "             [0., 0., 4., 0.],\n",
       "             [5., 0., 0., 1.]],\n",
       "\n",
       "            [[2., 0., 0., 0.],\n",
       "             [0., 1., 0., 0.],\n",
       "             [0., 0., 3., 0.],\n",
       "             [5., 0., 0., 1.]],\n",
       "\n",
       "            [[3., 0., 0., 0.],\n",
       "             [0., 1., 0., 0.],\n",
       "             [0., 0., 2., 0.],\n",
       "             [5., 0., 0., 1.]],\n",
       "\n",
       "            [[4., 0., 0., 0.],\n",
       "             [0., 1., 0., 0.],\n",
       "             [0., 0., 1., 0.],\n",
       "             [5., 0., 0., 1.]]])"
      ]
     },
     "execution_count": 15,
     "metadata": {},
     "output_type": "execute_result"
    }
   ],
   "source": [
    "from py3d import Transform3,Vector3\n",
    "T=Transform3(5)\n",
    "T.scaling=Vector3(range(5),1,range(5,0,-1))\n",
    "T"
   ]
  },
  {
   "cell_type": "code",
   "execution_count": null,
   "metadata": {},
   "outputs": [
    {
     "data": {
      "text/plain": [
       "Transform3([[[ 0.41198225,  0.14112001,  0.90019763,  0.        ],\n",
       "             [ 0.05872664, -0.9899925 ,  0.12832006,  0.        ],\n",
       "             [ 0.90929743,  0.        , -0.41614684,  0.        ],\n",
       "             [ 0.        ,  0.        ,  0.        ,  1.        ]],\n",
       "\n",
       "            [[ 0.41198225, -0.68124272,  0.60512725,  0.        ],\n",
       "             [ 0.05872664, -0.64287284, -0.76371834,  0.        ],\n",
       "             [ 0.90929743,  0.35017549, -0.2248451 ,  0.        ],\n",
       "             [ 0.        ,  0.        ,  0.        ,  1.        ]],\n",
       "\n",
       "            [[ 0.41198225, -0.87727403, -0.24629434,  0.        ],\n",
       "             [ 0.05872664,  0.29530115, -0.95359762,  0.        ],\n",
       "             [ 0.90929743,  0.37840125,  0.17317819,  0.        ],\n",
       "             [ 0.        ,  0.        ,  0.        ,  1.        ]],\n",
       "\n",
       "            [[ 0.41198225, -0.26674365, -0.87127404,  0.        ],\n",
       "             [ 0.05872664,  0.96197662, -0.26674365,  0.        ],\n",
       "             [ 0.90929743,  0.05872664,  0.41198225,  0.        ],\n",
       "             [ 0.        ,  0.        ,  0.        ,  1.        ]],\n",
       "\n",
       "            [[ 0.41198225,  0.58902962, -0.69520841,  0.        ],\n",
       "             [ 0.05872664,  0.74421522,  0.6653532 ,  0.        ],\n",
       "             [ 0.90929743, -0.31494096,  0.27201173,  0.        ],\n",
       "             [ 0.        ,  0.        ,  0.        ,  1.        ]]])"
      ]
     },
     "execution_count": 4,
     "metadata": {},
     "output_type": "execute_result"
    }
   ],
   "source": [
    "from py3d import Transform3,Rotation3\n",
    "T=Transform3(5)\n",
    "T.rotation=Rotation3.from_eular_intrinsic(range(0,5),2,3)\n",
    "T"
   ]
  },
  {
   "cell_type": "code",
   "execution_count": null,
   "metadata": {},
   "outputs": [
    {
     "data": {
      "text/plain": [
       "Vector3([[0., 0., 0., 1.],\n",
       "         [0., 0., 0., 1.],\n",
       "         [0., 0., 0., 1.],\n",
       "         [0., 0., 0., 1.],\n",
       "         [0., 0., 0., 1.]])"
      ]
     },
     "execution_count": 1,
     "metadata": {},
     "output_type": "execute_result"
    }
   ],
   "source": [
    "from py3d import Vector3,Transform3\n",
    "Vector3(m=1,n=5).as_vector4()"
   ]
  },
  {
   "cell_type": "code",
   "execution_count": null,
   "metadata": {},
   "outputs": [
    {
     "data": {
      "text/plain": [
       "Vector3([[[1., 0., 0.],\n",
       "          [1., 0., 0.]],\n",
       "\n",
       "         [[1., 0., 0.],\n",
       "          [1., 0., 0.]]])"
      ]
     },
     "execution_count": 8,
     "metadata": {},
     "output_type": "execute_result"
    }
   ],
   "source": [
    "from py3d import Vector3,Transform3\n",
    "Vector3(1,n=2).mt(Transform3(2))"
   ]
  },
  {
   "cell_type": "code",
   "execution_count": null,
   "metadata": {},
   "outputs": [
    {
     "name": "stdout",
     "output_type": "stream",
     "text": [
      "[[1.73205081]\n",
      " [1.73205081]\n",
      " [1.73205081]]\n"
     ]
    },
    {
     "data": {
      "text/plain": [
       "Vector3([[1.73205081, 1.73205081, 1.73205081],\n",
       "         [1.73205081, 1.73205081, 1.73205081],\n",
       "         [1.73205081, 1.73205081, 1.73205081]])"
      ]
     },
     "execution_count": 1,
     "metadata": {},
     "output_type": "execute_result"
    }
   ],
   "source": [
    "from py3d import Vector3,Transform3\n",
    "start=Vector3(x=[1,2,3])\n",
    "end=start+Vector3(1,1,1)\n",
    "t=Transform3.from_vector_change(Vector3(),Vector3(x=1),start,end)\n",
    "t.scaling"
   ]
  },
  {
   "cell_type": "markdown",
   "metadata": {},
   "source": [
    "# Shapes"
   ]
  },
  {
   "cell_type": "markdown",
   "metadata": {},
   "source": [
    "## Color"
   ]
  },
  {
   "cell_type": "code",
   "execution_count": null,
   "metadata": {},
   "outputs": [
    {
     "data": {
      "text/plain": [
       "Color([[1., 1., 0., 1.],\n",
       "       [2., 1., 0., 1.],\n",
       "       [3., 1., 0., 1.]])"
      ]
     },
     "execution_count": 1,
     "metadata": {},
     "output_type": "execute_result"
    }
   ],
   "source": [
    "from py3d import Color\n",
    "Color(r=[1,2,3],g=1)"
   ]
  },
  {
   "cell_type": "code",
   "execution_count": null,
   "metadata": {},
   "outputs": [
    {
     "data": {
      "text/plain": [
       "Color([[1., 0., 0., 1.],\n",
       "       [1., 0., 0., 1.]])"
      ]
     },
     "execution_count": 5,
     "metadata": {},
     "output_type": "execute_result"
    }
   ],
   "source": [
    "from py3d import Color\n",
    "Color(r=1,n=2)"
   ]
  },
  {
   "cell_type": "code",
   "execution_count": null,
   "metadata": {},
   "outputs": [
    {
     "data": {
      "text/plain": [
       "Color([[[1., 0., 0., 1.],\n",
       "        [1., 0., 0., 1.],\n",
       "        [1., 0., 0., 1.]],\n",
       "\n",
       "       [[1., 0., 0., 1.],\n",
       "        [1., 0., 0., 1.],\n",
       "        [1., 0., 0., 1.]]])"
      ]
     },
     "execution_count": 6,
     "metadata": {},
     "output_type": "execute_result"
    }
   ],
   "source": [
    "from py3d import Color\n",
    "Color(r=1,n=(2,3))"
   ]
  },
  {
   "cell_type": "code",
   "execution_count": null,
   "metadata": {},
   "outputs": [
    {
     "data": {
      "text/plain": [
       "Color([[[1. , 0. , 0. , 0. ],\n",
       "        [1. , 0. , 0.1, 0. ],\n",
       "        [1. , 0. , 0.2, 0. ]],\n",
       "\n",
       "       [[1. , 0. , 0. , 0.1],\n",
       "        [1. , 0. , 0.1, 0.1],\n",
       "        [1. , 0. , 0.2, 0.1]]])"
      ]
     },
     "execution_count": 8,
     "metadata": {},
     "output_type": "execute_result"
    }
   ],
   "source": [
    "from py3d import Color\n",
    "import numpy\n",
    "c=Color(n=(2,3))\n",
    "c.r=1\n",
    "c.b=numpy.arange(0,0.3,0.1)\n",
    "c.a=numpy.arange(0,0.2,0.1)[:,numpy.newaxis]\n",
    "c"
   ]
  },
  {
   "cell_type": "code",
   "execution_count": null,
   "metadata": {},
   "outputs": [
    {
     "data": {
      "text/plain": [
       "Color([[6.16600762e-01, 8.28416513e-01, 1.01094680e-01, 7.45854926e-01],\n",
       "       [5.40119672e-01, 2.26590763e-01, 4.72287225e-01, 8.70749869e-01],\n",
       "       [5.25127171e-04, 2.02036050e-01, 1.43037209e-01, 7.49664474e-01],\n",
       "       [5.86624948e-01, 3.79958512e-01, 9.69326526e-01, 8.98067607e-01],\n",
       "       [3.92661087e-01, 2.50064623e-01, 3.34785250e-01, 2.30112013e-01]])"
      ]
     },
     "execution_count": 9,
     "metadata": {},
     "output_type": "execute_result"
    }
   ],
   "source": [
    "from py3d import Color\n",
    "Color.Rand(5)"
   ]
  },
  {
   "cell_type": "code",
   "execution_count": null,
   "metadata": {},
   "outputs": [
    {
     "data": {
      "text/plain": [
       "Color([[[0.4879    , 0.64721078, 0.76585819, 0.54737717],\n",
       "        [0.4879    , 0.64721078, 0.76585819, 0.54737717],\n",
       "        [0.4879    , 0.64721078, 0.76585819, 0.54737717],\n",
       "        [0.4879    , 0.64721078, 0.76585819, 0.54737717]],\n",
       "\n",
       "       [[0.01983082, 0.90157318, 0.12396994, 0.6107099 ],\n",
       "        [0.01983082, 0.90157318, 0.12396994, 0.6107099 ],\n",
       "        [0.01983082, 0.90157318, 0.12396994, 0.6107099 ],\n",
       "        [0.01983082, 0.90157318, 0.12396994, 0.6107099 ]]])"
      ]
     },
     "execution_count": 1,
     "metadata": {},
     "output_type": "execute_result"
    }
   ],
   "source": [
    "from py3d import Color\n",
    "Color.Rand(2, 4)"
   ]
  },
  {
   "cell_type": "code",
   "execution_count": null,
   "metadata": {},
   "outputs": [
    {
     "data": {
      "text/plain": [
       "Color([[[0.66231001, 0.80096582, 0.48002233, 0.62865583],\n",
       "        [0.66231001, 0.80096582, 0.48002233, 0.62865583],\n",
       "        [0.66231001, 0.80096582, 0.48002233, 0.62865583],\n",
       "        [0.66231001, 0.80096582, 0.48002233, 0.62865583]],\n",
       "\n",
       "       [[0.15005013, 0.20386719, 0.23552455, 0.93224276],\n",
       "        [0.15005013, 0.20386719, 0.23552455, 0.93224276],\n",
       "        [0.15005013, 0.20386719, 0.23552455, 0.93224276],\n",
       "        [0.15005013, 0.20386719, 0.23552455, 0.93224276]]])"
      ]
     },
     "execution_count": 2,
     "metadata": {},
     "output_type": "execute_result"
    }
   ],
   "source": [
    "from py3d import Color\n",
    "Color.Rand(2).inflate(4)"
   ]
  },
  {
   "cell_type": "code",
   "execution_count": null,
   "metadata": {},
   "outputs": [
    {
     "data": {
      "text/plain": [
       "Color([[[0.07691788, 0.55425543, 0.79858183, 0.71986148],\n",
       "        [0.07691788, 0.55425543, 0.79858183, 0.71986148],\n",
       "        [0.07691788, 0.55425543, 0.79858183, 0.71986148],\n",
       "        [0.07691788, 0.55425543, 0.79858183, 0.71986148],\n",
       "        [0.07691788, 0.55425543, 0.79858183, 0.71986148],\n",
       "        [0.07691788, 0.55425543, 0.79858183, 0.71986148],\n",
       "        [0.07691788, 0.55425543, 0.79858183, 0.71986148],\n",
       "        [0.07691788, 0.55425543, 0.79858183, 0.71986148],\n",
       "        [0.07691788, 0.55425543, 0.79858183, 0.71986148],\n",
       "        [0.07691788, 0.55425543, 0.79858183, 0.71986148],\n",
       "        [0.07691788, 0.55425543, 0.79858183, 0.71986148],\n",
       "        [0.07691788, 0.55425543, 0.79858183, 0.71986148]],\n",
       "\n",
       "       [[0.60064997, 0.23765562, 0.54969373, 0.85812906],\n",
       "        [0.60064997, 0.23765562, 0.54969373, 0.85812906],\n",
       "        [0.60064997, 0.23765562, 0.54969373, 0.85812906],\n",
       "        [0.60064997, 0.23765562, 0.54969373, 0.85812906],\n",
       "        [0.60064997, 0.23765562, 0.54969373, 0.85812906],\n",
       "        [0.60064997, 0.23765562, 0.54969373, 0.85812906],\n",
       "        [0.60064997, 0.23765562, 0.54969373, 0.85812906],\n",
       "        [0.60064997, 0.23765562, 0.54969373, 0.85812906],\n",
       "        [0.60064997, 0.23765562, 0.54969373, 0.85812906],\n",
       "        [0.60064997, 0.23765562, 0.54969373, 0.85812906],\n",
       "        [0.60064997, 0.23765562, 0.54969373, 0.85812906],\n",
       "        [0.60064997, 0.23765562, 0.54969373, 0.85812906]]])"
      ]
     },
     "execution_count": 3,
     "metadata": {},
     "output_type": "execute_result"
    }
   ],
   "source": [
    "from py3d import Color\n",
    "Color.Rand(2,3).inflate(4)"
   ]
  },
  {
   "cell_type": "code",
   "execution_count": null,
   "metadata": {},
   "outputs": [],
   "source": []
  },
  {
   "cell_type": "code",
   "execution_count": null,
   "metadata": {},
   "outputs": [
    {
     "name": "stdout",
     "output_type": "stream",
     "text": [
      "10\n"
     ]
    },
    {
     "data": {
      "text/plain": [
       "Color([0.65790874, 0.25111539, 0.3754612 , 0.17207618])"
      ]
     },
     "execution_count": 8,
     "metadata": {},
     "output_type": "execute_result"
    }
   ],
   "source": [
    "from py3d import Color\n",
    "colors=Color.Rand(10)\n",
    "print(len(colors))\n",
    "colors[3]"
   ]
  },
  {
   "cell_type": "markdown",
   "metadata": {},
   "source": [
    "## Line"
   ]
  },
  {
   "cell_type": "code",
   "execution_count": null,
   "metadata": {},
   "outputs": [
    {
     "name": "stdout",
     "output_type": "stream",
     "text": [
      "click http://localhost:8000/view/835c18c4-35a7-11ec-9e6d-f11291b621c1 to view in browser\n"
     ]
    },
    {
     "data": {
      "text/html": [
       "\n",
       "        <iframe\n",
       "            width=\"100%\"\n",
       "            height=\"600px\"\n",
       "            src=\"http://localhost:8000/view/835c18c4-35a7-11ec-9e6d-f11291b621c1\"\n",
       "            frameborder=\"0\"\n",
       "            allowfullscreen\n",
       "        ></iframe>\n",
       "        "
      ],
      "text/plain": [
       "<IPython.lib.display.IFrame at 0x7f19b4481bb0>"
      ]
     },
     "metadata": {},
     "output_type": "display_data"
    }
   ],
   "source": [
    "from py3d import LineSegment,Vector3\n",
    "l=LineSegment(3,2)\n",
    "l.start=Vector3.Rand(3)*10\n",
    "l.render()"
   ]
  },
  {
   "cell_type": "code",
   "execution_count": null,
   "metadata": {},
   "outputs": [
    {
     "name": "stdout",
     "output_type": "stream",
     "text": [
      "click http://localhost:8000/view/e98a349a-35a3-11ec-88e8-49092f68f909 to view in browser\n"
     ]
    },
    {
     "data": {
      "text/html": [
       "\n",
       "        <iframe\n",
       "            width=\"100%\"\n",
       "            height=\"600px\"\n",
       "            src=\"http://localhost:8000/view/e98a349a-35a3-11ec-88e8-49092f68f909\"\n",
       "            frameborder=\"0\"\n",
       "            allowfullscreen\n",
       "        ></iframe>\n",
       "        "
      ],
      "text/plain": [
       "<IPython.lib.display.IFrame at 0x7fb4a0101a60>"
      ]
     },
     "metadata": {},
     "output_type": "display_data"
    }
   ],
   "source": [
    "from py3d import LineSegment\n",
    "import numpy\n",
    "l=LineSegment(2,50)\n",
    "l.vertice.x=numpy.arange(0,5,0.1)\n",
    "l.vertice.y[0]=numpy.sin(l.vertice.x[0])\n",
    "l.vertice.y[1]=numpy.sin(l.vertice.x[1]**2)\n",
    "l.vertice.z=numpy.cos(l.vertice.x)\n",
    "l.render()"
   ]
  },
  {
   "cell_type": "code",
   "execution_count": null,
   "metadata": {},
   "outputs": [
    {
     "name": "stdout",
     "output_type": "stream",
     "text": [
      "click http://localhost:8000/view/62961364-34e5-11ec-8be5-716468857bbd to view in browser\n"
     ]
    },
    {
     "data": {
      "text/html": [
       "\n",
       "        <iframe\n",
       "            width=\"100%\"\n",
       "            height=\"600px\"\n",
       "            src=\"http://localhost:8000/view/62961364-34e5-11ec-8be5-716468857bbd\"\n",
       "            frameborder=\"0\"\n",
       "            allowfullscreen\n",
       "        ></iframe>\n",
       "        "
      ],
      "text/plain": [
       "<IPython.lib.display.IFrame at 0x7f5937fdd0a0>"
      ]
     },
     "metadata": {},
     "output_type": "display_data"
    }
   ],
   "source": [
    "l[0].render()"
   ]
  },
  {
   "cell_type": "code",
   "execution_count": null,
   "metadata": {},
   "outputs": [
    {
     "name": "stdout",
     "output_type": "stream",
     "text": [
      "click http://localhost:8000/view/f84fec32-35a7-11ec-aaa7-8d5b2cea2b0e to view in browser\n"
     ]
    },
    {
     "data": {
      "text/html": [
       "\n",
       "        <iframe\n",
       "            width=\"100%\"\n",
       "            height=\"600px\"\n",
       "            src=\"http://localhost:8000/view/f84fec32-35a7-11ec-aaa7-8d5b2cea2b0e\"\n",
       "            frameborder=\"0\"\n",
       "            allowfullscreen\n",
       "        ></iframe>\n",
       "        "
      ],
      "text/plain": [
       "<IPython.lib.display.IFrame at 0x7f59ec10f160>"
      ]
     },
     "metadata": {},
     "output_type": "display_data"
    }
   ],
   "source": [
    "from py3d import LineSegment\n",
    "import numpy\n",
    "l=LineSegment(15,2)\n",
    "l.start.x=0\n",
    "l.end.x=numpy.sin(range(15))\n",
    "l.start.y=0\n",
    "l.end.y=numpy.cos(range(15))\n",
    "l.start.z=0\n",
    "l.end.z=2\n",
    "l.render()"
   ]
  },
  {
   "cell_type": "code",
   "execution_count": null,
   "metadata": {},
   "outputs": [
    {
     "data": {
      "text/plain": [
       "Vector3([[0.00000000e+000, 6.90454078e-310, 4.68238496e-310]])"
      ]
     },
     "execution_count": 9,
     "metadata": {},
     "output_type": "execute_result"
    }
   ],
   "source": [
    "l.start[0]"
   ]
  },
  {
   "cell_type": "code",
   "execution_count": null,
   "metadata": {},
   "outputs": [
    {
     "name": "stdout",
     "output_type": "stream",
     "text": [
      "click http://localhost:8000/view/94ca6b06-35a7-11ec-9e6d-f11291b621c1 to view in browser\n"
     ]
    },
    {
     "data": {
      "text/html": [
       "\n",
       "        <iframe\n",
       "            width=\"100%\"\n",
       "            height=\"600px\"\n",
       "            src=\"http://localhost:8000/view/94ca6b06-35a7-11ec-9e6d-f11291b621c1\"\n",
       "            frameborder=\"0\"\n",
       "            allowfullscreen\n",
       "        ></iframe>\n",
       "        "
      ],
      "text/plain": [
       "<IPython.lib.display.IFrame at 0x7f19d5b94a00>"
      ]
     },
     "metadata": {},
     "output_type": "display_data"
    }
   ],
   "source": [
    "from py3d import Vector3\n",
    "points=Vector3.Rand(2,10)\n",
    "points=points.cumsum()\n",
    "line=points.as_line()\n",
    "line.render()"
   ]
  },
  {
   "cell_type": "code",
   "execution_count": null,
   "metadata": {},
   "outputs": [
    {
     "name": "stdout",
     "output_type": "stream",
     "text": [
      "click http://localhost:8000/view/335e3a2a-34ec-11ec-b53b-8b39670e0164 to view in browser\n"
     ]
    },
    {
     "data": {
      "text/html": [
       "\n",
       "        <iframe\n",
       "            width=\"100%\"\n",
       "            height=\"600px\"\n",
       "            src=\"http://localhost:8000/view/335e3a2a-34ec-11ec-b53b-8b39670e0164\"\n",
       "            frameborder=\"0\"\n",
       "            allowfullscreen\n",
       "        ></iframe>\n",
       "        "
      ],
      "text/plain": [
       "<IPython.lib.display.IFrame at 0x7f9669ba3040>"
      ]
     },
     "metadata": {},
     "output_type": "display_data"
    }
   ],
   "source": [
    "line[0].render()"
   ]
  },
  {
   "cell_type": "markdown",
   "metadata": {},
   "source": [
    "# Mesh"
   ]
  },
  {
   "cell_type": "markdown",
   "metadata": {},
   "source": [
    "## Triangle"
   ]
  },
  {
   "cell_type": "code",
   "execution_count": null,
   "metadata": {
    "scrolled": false
   },
   "outputs": [
    {
     "name": "stdout",
     "output_type": "stream",
     "text": [
      "click http://localhost:8000/view/c4c002fe-359c-11ec-bb23-d7d46ed859bd to view in browser\n"
     ]
    },
    {
     "data": {
      "text/html": [
       "\n",
       "        <iframe\n",
       "            width=\"100%\"\n",
       "            height=\"600px\"\n",
       "            src=\"http://localhost:8000/view/c4c002fe-359c-11ec-bb23-d7d46ed859bd\"\n",
       "            frameborder=\"0\"\n",
       "            allowfullscreen\n",
       "        ></iframe>\n",
       "        "
      ],
      "text/plain": [
       "<IPython.lib.display.IFrame at 0x7f20c28c4340>"
      ]
     },
     "metadata": {},
     "output_type": "display_data"
    }
   ],
   "source": [
    "from py3d import Color,Triangle,Vector3\n",
    "import numpy\n",
    "tri=Triangle(10)\n",
    "tri.p0=Vector3(x=0.5,y=range(10))\n",
    "tri.p1=Vector3(x=-0.5,y=range(10))\n",
    "tri.p2=Vector3(y=range(1,11),z=1)\n",
    "# tri.color=Color(r=0.5,g=1,b=0.5,a=numpy.arange(0,1,0.1))[:,numpy.newaxis]\n",
    "tri.render()"
   ]
  },
  {
   "cell_type": "markdown",
   "metadata": {},
   "source": [
    "## Tetrahedron"
   ]
  },
  {
   "cell_type": "code",
   "execution_count": null,
   "metadata": {},
   "outputs": [
    {
     "name": "stdout",
     "output_type": "stream",
     "text": [
      "click http://localhost:8000/view/15f35282-35a9-11ec-aaa7-8d5b2cea2b0e to view in browser\n"
     ]
    },
    {
     "data": {
      "text/html": [
       "\n",
       "        <iframe\n",
       "            width=\"100%\"\n",
       "            height=\"600px\"\n",
       "            src=\"http://localhost:8000/view/15f35282-35a9-11ec-aaa7-8d5b2cea2b0e\"\n",
       "            frameborder=\"0\"\n",
       "            allowfullscreen\n",
       "        ></iframe>\n",
       "        "
      ],
      "text/plain": [
       "<IPython.lib.display.IFrame at 0x7f59fc63f7f0>"
      ]
     },
     "metadata": {},
     "output_type": "display_data"
    }
   ],
   "source": [
    "from py3d import Tetrahedron\n",
    "T=Tetrahedron(10)\n",
    "T.render()"
   ]
  },
  {
   "cell_type": "code",
   "execution_count": null,
   "metadata": {},
   "outputs": [
    {
     "name": "stdout",
     "output_type": "stream",
     "text": [
      "click http://localhost:8000/view/64a608a6-31c2-11ec-9b80-cfa7158473d0 to view in browser\n"
     ]
    },
    {
     "data": {
      "text/html": [
       "\n",
       "        <iframe\n",
       "            width=\"100%\"\n",
       "            height=\"600px\"\n",
       "            src=\"http://localhost:8000/view/64a608a6-31c2-11ec-9b80-cfa7158473d0\"\n",
       "            frameborder=\"0\"\n",
       "            allowfullscreen\n",
       "        ></iframe>\n",
       "        "
      ],
      "text/plain": [
       "<IPython.lib.display.IFrame at 0x7f54c200a3a0>"
      ]
     },
     "metadata": {},
     "output_type": "display_data"
    }
   ],
   "source": [
    "T[4:7].render()"
   ]
  },
  {
   "cell_type": "markdown",
   "metadata": {},
   "source": [
    "## Cube"
   ]
  },
  {
   "cell_type": "code",
   "execution_count": null,
   "metadata": {},
   "outputs": [
    {
     "ename": "TypeError",
     "evalue": "'tuple' object cannot be interpreted as an integer",
     "output_type": "error",
     "traceback": [
      "\u001b[0;31m---------------------------------------------------------------------------\u001b[0m",
      "\u001b[0;31mTypeError\u001b[0m                                 Traceback (most recent call last)",
      "\u001b[0;32m<ipython-input-3-87d9e92cedaa>\u001b[0m in \u001b[0;36m<module>\u001b[0;34m\u001b[0m\n\u001b[1;32m      1\u001b[0m \u001b[0;32mfrom\u001b[0m \u001b[0mpy3d\u001b[0m \u001b[0;32mimport\u001b[0m \u001b[0mCube\u001b[0m\u001b[0;34m\u001b[0m\u001b[0;34m\u001b[0m\u001b[0m\n\u001b[0;32m----> 2\u001b[0;31m \u001b[0mc\u001b[0m\u001b[0;34m=\u001b[0m\u001b[0mCube\u001b[0m\u001b[0;34m(\u001b[0m\u001b[0;36m30\u001b[0m\u001b[0;34m)\u001b[0m\u001b[0;34m\u001b[0m\u001b[0;34m\u001b[0m\u001b[0m\n\u001b[0m\u001b[1;32m      3\u001b[0m \u001b[0mc\u001b[0m\u001b[0;34m.\u001b[0m\u001b[0mrender\u001b[0m\u001b[0;34m(\u001b[0m\u001b[0;34m)\u001b[0m\u001b[0;34m\u001b[0m\u001b[0;34m\u001b[0m\u001b[0m\n",
      "\u001b[0;32m/mnt/d/codes/scenario/py3d/py3d.py\u001b[0m in \u001b[0;36m__new__\u001b[0;34m(cls, *n)\u001b[0m\n\u001b[1;32m    721\u001b[0m             ]\n\u001b[1;32m    722\u001b[0m         )\n\u001b[0;32m--> 723\u001b[0;31m         \u001b[0mret\u001b[0m\u001b[0;34m.\u001b[0m\u001b[0mtransform\u001b[0m \u001b[0;34m=\u001b[0m \u001b[0mTransform3\u001b[0m\u001b[0;34m.\u001b[0m\u001b[0mRand\u001b[0m\u001b[0;34m(\u001b[0m\u001b[0mn\u001b[0m\u001b[0;34m)\u001b[0m\u001b[0;34m\u001b[0m\u001b[0;34m\u001b[0m\u001b[0m\n\u001b[0m\u001b[1;32m    724\u001b[0m         \u001b[0mret\u001b[0m\u001b[0;34m.\u001b[0m\u001b[0mvertice\u001b[0m \u001b[0;34m=\u001b[0m \u001b[0mret\u001b[0m\u001b[0;34m.\u001b[0m\u001b[0mvertice_base\u001b[0m\u001b[0;34m.\u001b[0m\u001b[0mmt\u001b[0m\u001b[0;34m(\u001b[0m\u001b[0mret\u001b[0m\u001b[0;34m.\u001b[0m\u001b[0mtransform\u001b[0m\u001b[0;34m)\u001b[0m\u001b[0;34m\u001b[0m\u001b[0;34m\u001b[0m\u001b[0m\n\u001b[1;32m    725\u001b[0m         \u001b[0;32mreturn\u001b[0m \u001b[0mret\u001b[0m\u001b[0;34m\u001b[0m\u001b[0;34m\u001b[0m\u001b[0m\n",
      "\u001b[0;32m/mnt/d/codes/scenario/py3d/py3d.py\u001b[0m in \u001b[0;36mRand\u001b[0;34m(cls, n)\u001b[0m\n\u001b[1;32m    480\u001b[0m     \u001b[0;34m@\u001b[0m\u001b[0mclassmethod\u001b[0m\u001b[0;34m\u001b[0m\u001b[0;34m\u001b[0m\u001b[0m\n\u001b[1;32m    481\u001b[0m     \u001b[0;32mdef\u001b[0m \u001b[0mRand\u001b[0m\u001b[0;34m(\u001b[0m\u001b[0mcls\u001b[0m\u001b[0;34m,\u001b[0m \u001b[0mn\u001b[0m\u001b[0;34m=\u001b[0m\u001b[0;36m1\u001b[0m\u001b[0;34m)\u001b[0m\u001b[0;34m:\u001b[0m\u001b[0;34m\u001b[0m\u001b[0;34m\u001b[0m\u001b[0m\n\u001b[0;32m--> 482\u001b[0;31m         \u001b[0;32mreturn\u001b[0m \u001b[0;34m(\u001b[0m\u001b[0mVector3\u001b[0m\u001b[0;34m.\u001b[0m\u001b[0mRand\u001b[0m\u001b[0;34m(\u001b[0m\u001b[0mn\u001b[0m\u001b[0;34m)\u001b[0m\u001b[0;34m.\u001b[0m\u001b[0mas_scaling_matrix\u001b[0m\u001b[0;34m(\u001b[0m\u001b[0;34m)\u001b[0m\u001b[0;34m@\u001b[0m\u001b[0mRotation3\u001b[0m\u001b[0;34m.\u001b[0m\u001b[0mRand\u001b[0m\u001b[0;34m(\u001b[0m\u001b[0mn\u001b[0m\u001b[0;34m)\u001b[0m\u001b[0;34m.\u001b[0m\u001b[0mto_matrix44\u001b[0m\u001b[0;34m(\u001b[0m\u001b[0;34m)\u001b[0m\u001b[0;34m@\u001b[0m\u001b[0mVector3\u001b[0m\u001b[0;34m.\u001b[0m\u001b[0mRand\u001b[0m\u001b[0;34m(\u001b[0m\u001b[0mn\u001b[0m\u001b[0;34m)\u001b[0m\u001b[0;34m.\u001b[0m\u001b[0mas_translation_matrix\u001b[0m\u001b[0;34m(\u001b[0m\u001b[0;34m)\u001b[0m\u001b[0;34m)\u001b[0m\u001b[0;34m.\u001b[0m\u001b[0mview\u001b[0m\u001b[0;34m(\u001b[0m\u001b[0mcls\u001b[0m\u001b[0;34m)\u001b[0m\u001b[0;34m\u001b[0m\u001b[0;34m\u001b[0m\u001b[0m\n\u001b[0m\u001b[1;32m    483\u001b[0m \u001b[0;34m\u001b[0m\u001b[0m\n\u001b[1;32m    484\u001b[0m     \u001b[0;34m@\u001b[0m\u001b[0mclassmethod\u001b[0m\u001b[0;34m\u001b[0m\u001b[0;34m\u001b[0m\u001b[0m\n",
      "\u001b[0;32m/mnt/d/codes/scenario/py3d/py3d.py\u001b[0m in \u001b[0;36mRand\u001b[0;34m(cls, *n)\u001b[0m\n\u001b[1;32m     88\u001b[0m     \u001b[0;34m@\u001b[0m\u001b[0mclassmethod\u001b[0m\u001b[0;34m\u001b[0m\u001b[0;34m\u001b[0m\u001b[0m\n\u001b[1;32m     89\u001b[0m     \u001b[0;32mdef\u001b[0m \u001b[0mRand\u001b[0m\u001b[0;34m(\u001b[0m\u001b[0mcls\u001b[0m\u001b[0;34m,\u001b[0m \u001b[0;34m*\u001b[0m\u001b[0mn\u001b[0m\u001b[0;34m)\u001b[0m\u001b[0;34m:\u001b[0m\u001b[0;34m\u001b[0m\u001b[0;34m\u001b[0m\u001b[0m\n\u001b[0;32m---> 90\u001b[0;31m         \u001b[0;32mreturn\u001b[0m \u001b[0mnumpy\u001b[0m\u001b[0;34m.\u001b[0m\u001b[0mrandom\u001b[0m\u001b[0;34m.\u001b[0m\u001b[0mrand\u001b[0m\u001b[0;34m(\u001b[0m\u001b[0;34m*\u001b[0m\u001b[0mn\u001b[0m\u001b[0;34m,\u001b[0m \u001b[0;36m3\u001b[0m\u001b[0;34m)\u001b[0m\u001b[0;34m.\u001b[0m\u001b[0mview\u001b[0m\u001b[0;34m(\u001b[0m\u001b[0mcls\u001b[0m\u001b[0;34m)\u001b[0m\u001b[0;34m\u001b[0m\u001b[0;34m\u001b[0m\u001b[0m\n\u001b[0m\u001b[1;32m     91\u001b[0m \u001b[0;34m\u001b[0m\u001b[0m\n\u001b[1;32m     92\u001b[0m     \u001b[0;34m@\u001b[0m\u001b[0mproperty\u001b[0m\u001b[0;34m\u001b[0m\u001b[0;34m\u001b[0m\u001b[0m\n",
      "\u001b[0;32mmtrand.pyx\u001b[0m in \u001b[0;36mnumpy.random.mtrand.RandomState.rand\u001b[0;34m()\u001b[0m\n",
      "\u001b[0;32mmtrand.pyx\u001b[0m in \u001b[0;36mnumpy.random.mtrand.RandomState.random_sample\u001b[0;34m()\u001b[0m\n",
      "\u001b[0;32m_common.pyx\u001b[0m in \u001b[0;36mnumpy.random._common.double_fill\u001b[0;34m()\u001b[0m\n",
      "\u001b[0;31mTypeError\u001b[0m: 'tuple' object cannot be interpreted as an integer"
     ]
    }
   ],
   "source": [
    "from py3d import Cube\n",
    "c=Cube(30)\n",
    "c.render()"
   ]
  },
  {
   "cell_type": "code",
   "execution_count": null,
   "metadata": {},
   "outputs": [
    {
     "data": {
      "text/plain": [
       "Color([[[0.84022085, 0.78227405, 0.47199109, 0.59236042],\n",
       "        [0.84022085, 0.78227405, 0.47199109, 0.59236042],\n",
       "        [0.84022085, 0.78227405, 0.47199109, 0.59236042],\n",
       "        [0.84022085, 0.78227405, 0.47199109, 0.59236042],\n",
       "        [0.84022085, 0.78227405, 0.47199109, 0.59236042],\n",
       "        [0.84022085, 0.78227405, 0.47199109, 0.59236042],\n",
       "        [0.84022085, 0.78227405, 0.47199109, 0.59236042],\n",
       "        [0.84022085, 0.78227405, 0.47199109, 0.59236042]],\n",
       "\n",
       "       [[0.63224006, 0.33839906, 0.22798328, 0.36963778],\n",
       "        [0.63224006, 0.33839906, 0.22798328, 0.36963778],\n",
       "        [0.63224006, 0.33839906, 0.22798328, 0.36963778],\n",
       "        [0.63224006, 0.33839906, 0.22798328, 0.36963778],\n",
       "        [0.63224006, 0.33839906, 0.22798328, 0.36963778],\n",
       "        [0.63224006, 0.33839906, 0.22798328, 0.36963778],\n",
       "        [0.63224006, 0.33839906, 0.22798328, 0.36963778],\n",
       "        [0.63224006, 0.33839906, 0.22798328, 0.36963778]],\n",
       "\n",
       "       [[0.02293248, 0.1678529 , 0.98298877, 0.15692294],\n",
       "        [0.02293248, 0.1678529 , 0.98298877, 0.15692294],\n",
       "        [0.02293248, 0.1678529 , 0.98298877, 0.15692294],\n",
       "        [0.02293248, 0.1678529 , 0.98298877, 0.15692294],\n",
       "        [0.02293248, 0.1678529 , 0.98298877, 0.15692294],\n",
       "        [0.02293248, 0.1678529 , 0.98298877, 0.15692294],\n",
       "        [0.02293248, 0.1678529 , 0.98298877, 0.15692294],\n",
       "        [0.02293248, 0.1678529 , 0.98298877, 0.15692294]]])"
      ]
     },
     "execution_count": 4,
     "metadata": {},
     "output_type": "execute_result"
    }
   ],
   "source": [
    "c.color"
   ]
  },
  {
   "cell_type": "code",
   "execution_count": null,
   "metadata": {},
   "outputs": [
    {
     "name": "stdout",
     "output_type": "stream",
     "text": [
      "click http://localhost:8000/view/c59f5be6-3102-11ec-b525-9d7ed9d0e3a4 to view in browser\n"
     ]
    },
    {
     "data": {
      "text/html": [
       "\n",
       "        <iframe\n",
       "            width=\"100%\"\n",
       "            height=\"600px\"\n",
       "            src=\"http://localhost:8000/view/c59f5be6-3102-11ec-b525-9d7ed9d0e3a4\"\n",
       "            frameborder=\"0\"\n",
       "            allowfullscreen\n",
       "        ></iframe>\n",
       "        "
      ],
      "text/plain": [
       "<IPython.lib.display.IFrame at 0x7f12fb516d60>"
      ]
     },
     "metadata": {},
     "output_type": "display_data"
    },
    {
     "data": {
      "text/plain": [
       "<server.Space at 0x7f12fb516dc0>"
      ]
     },
     "execution_count": 13,
     "metadata": {},
     "output_type": "execute_result"
    }
   ],
   "source": [
    "c.vertices.x+=1\n",
    "c.render()"
   ]
  },
  {
   "cell_type": "code",
   "execution_count": null,
   "metadata": {},
   "outputs": [
    {
     "name": "stdout",
     "output_type": "stream",
     "text": [
      "click http://localhost:8000/view/f6975a02-33d0-11ec-b11d-d156ec058649 to view in browser\n"
     ]
    },
    {
     "data": {
      "text/html": [
       "\n",
       "        <iframe\n",
       "            width=\"100%\"\n",
       "            height=\"600px\"\n",
       "            src=\"http://localhost:8000/view/f6975a02-33d0-11ec-b11d-d156ec058649\"\n",
       "            frameborder=\"0\"\n",
       "            allowfullscreen\n",
       "        ></iframe>\n",
       "        "
      ],
      "text/plain": [
       "<IPython.lib.display.IFrame at 0x7fd9d5fcbdc0>"
      ]
     },
     "metadata": {},
     "output_type": "display_data"
    }
   ],
   "source": [
    "from py3d import Vector3\n",
    "c.vertice*=Vector3(1,2,3)\n",
    "c.render()"
   ]
  },
  {
   "cell_type": "code",
   "execution_count": null,
   "metadata": {},
   "outputs": [
    {
     "name": "stdout",
     "output_type": "stream",
     "text": [
      "click http://localhost:8000/view/2e569fd2-33e2-11ec-be15-0fd868baee9b to view in browser\n"
     ]
    },
    {
     "data": {
      "text/html": [
       "\n",
       "        <iframe\n",
       "            width=\"100%\"\n",
       "            height=\"600px\"\n",
       "            src=\"http://localhost:8000/view/2e569fd2-33e2-11ec-be15-0fd868baee9b\"\n",
       "            frameborder=\"0\"\n",
       "            allowfullscreen\n",
       "        ></iframe>\n",
       "        "
      ],
      "text/plain": [
       "<IPython.lib.display.IFrame at 0x7fd3afcb5940>"
      ]
     },
     "metadata": {},
     "output_type": "display_data"
    }
   ],
   "source": [
    "from py3d import Rotation3,Cube\n",
    "c=Cube(10)\n",
    "c.vertice=c.vertice.dot(Rotation3.Rx(1))*3\n",
    "c.render()"
   ]
  },
  {
   "cell_type": "code",
   "execution_count": null,
   "metadata": {},
   "outputs": [
    {
     "name": "stdout",
     "output_type": "stream",
     "text": [
      "click http://localhost:8000/view/6bc42a42-33e2-11ec-be15-0fd868baee9b to view in browser\n"
     ]
    },
    {
     "data": {
      "text/html": [
       "\n",
       "        <iframe\n",
       "            width=\"100%\"\n",
       "            height=\"600px\"\n",
       "            src=\"http://localhost:8000/view/6bc42a42-33e2-11ec-be15-0fd868baee9b\"\n",
       "            frameborder=\"0\"\n",
       "            allowfullscreen\n",
       "        ></iframe>\n",
       "        "
      ],
      "text/plain": [
       "<IPython.lib.display.IFrame at 0x7fd3bff0f7f0>"
      ]
     },
     "metadata": {},
     "output_type": "display_data"
    }
   ],
   "source": [
    "c[2:5].color.a=1\n",
    "c[2:5].render()"
   ]
  },
  {
   "cell_type": "markdown",
   "metadata": {},
   "source": [
    "Control multiple boxes at the same time "
   ]
  },
  {
   "cell_type": "code",
   "execution_count": null,
   "metadata": {},
   "outputs": [
    {
     "name": "stdout",
     "output_type": "stream",
     "text": [
      "click http://localhost:8000/view/e2817fb4-3102-11ec-b525-9d7ed9d0e3a4 to view in browser\n"
     ]
    },
    {
     "data": {
      "text/html": [
       "\n",
       "        <iframe\n",
       "            width=\"100%\"\n",
       "            height=\"600px\"\n",
       "            src=\"http://localhost:8000/view/e2817fb4-3102-11ec-b525-9d7ed9d0e3a4\"\n",
       "            frameborder=\"0\"\n",
       "            allowfullscreen\n",
       "        ></iframe>\n",
       "        "
      ],
      "text/plain": [
       "<IPython.lib.display.IFrame at 0x7f12fb55cc40>"
      ]
     },
     "metadata": {},
     "output_type": "display_data"
    },
    {
     "data": {
      "text/plain": [
       "<server.Space at 0x7f12fb55c2b0>"
      ]
     },
     "execution_count": 18,
     "metadata": {},
     "output_type": "execute_result"
    }
   ],
   "source": [
    "from py3d import Cube,Transform3,Vector3,Rotation3\n",
    "n=50\n",
    "cubes=Cube(n)\n",
    "cubes.transform.translation=Vector3.Rand(n)*10\n",
    "cubes.transform.scaling=Vector3.Rand(n)*3\n",
    "cubes.transform.rotation=Rotation3.Rand(n)\n",
    "cubes.render()"
   ]
  },
  {
   "cell_type": "markdown",
   "metadata": {},
   "source": [
    "## Arrow"
   ]
  },
  {
   "cell_type": "code",
   "execution_count": null,
   "metadata": {
    "scrolled": false
   },
   "outputs": [
    {
     "name": "stdout",
     "output_type": "stream",
     "text": [
      "click http://localhost:8000/view/461d23e0-35ac-11ec-9338-ebf17864157e to view in browser\n"
     ]
    },
    {
     "data": {
      "text/html": [
       "\n",
       "        <iframe\n",
       "            width=\"100%\"\n",
       "            height=\"600px\"\n",
       "            src=\"http://localhost:8000/view/461d23e0-35ac-11ec-9338-ebf17864157e\"\n",
       "            frameborder=\"0\"\n",
       "            allowfullscreen\n",
       "        ></iframe>\n",
       "        "
      ],
      "text/plain": [
       "<IPython.lib.display.IFrame at 0x7f4629f1a0a0>"
      ]
     },
     "metadata": {},
     "output_type": "display_data"
    }
   ],
   "source": [
    "from py3d import Vector3,Arrow\n",
    "start=Vector3(x=[1,2,3])\n",
    "end=start+Vector3(1,1,1)\n",
    "arrow=Arrow(3)\n",
    "arrow.start=start\n",
    "arrow.end=end\n",
    "arrow.render()"
   ]
  },
  {
   "cell_type": "markdown",
   "metadata": {},
   "source": [
    "# Move a 3d object"
   ]
  },
  {
   "cell_type": "code",
   "execution_count": null,
   "metadata": {},
   "outputs": [],
   "source": [
    "from py3d import Cube,Vector3,Rotation3\n",
    "import time\n",
    "n=100\n",
    "cube=Cube(n)\n",
    "cube.transform.translation=Vector3(x=range(-n,n,2))\n",
    "cube.transform.scaling=Vector3(0.5,1,0.2)\n",
    "cube.transform.rotation=Rotation3.Rz(1)\n",
    "s=cube.render()\n",
    "t=0\n",
    "while t<20:\n",
    "    cube.transform=cube.transform@Vector3(y=0.2).as_translation_matrix()\n",
    "    cube.render(s)\n",
    "    t+=1\n",
    "    time.sleep(0.2)"
   ]
  },
  {
   "cell_type": "code",
   "execution_count": null,
   "metadata": {},
   "outputs": [],
   "source": []
  }
 ],
 "metadata": {
  "interpreter": {
   "hash": "6aa3b417f6031089fe78d3bd6c6859fc6570bbd00574f35191098c43dfcf5211"
  },
  "kernelspec": {
   "display_name": "Python 3.8.3 64-bit ('base': conda)",
   "name": "python3"
  },
  "language_info": {
   "codemirror_mode": {
    "name": "ipython",
    "version": 3
   },
   "file_extension": ".py",
   "mimetype": "text/x-python",
   "name": "python",
   "nbconvert_exporter": "python",
   "pygments_lexer": "ipython3",
   "version": "3.8.3"
  }
 },
 "nbformat": 4,
 "nbformat_minor": 4
}
