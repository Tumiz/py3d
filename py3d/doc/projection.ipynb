{
 "cells": [
  {
   "cell_type": "code",
   "execution_count": 1,
   "metadata": {},
   "outputs": [
    {
     "name": "stdout",
     "output_type": "stream",
     "text": [
      "Jupyter environment detected. Enabling Open3D WebVisualizer.\n",
      "[Open3D INFO] WebRTC GUI backend enabled.\n",
      "[Open3D INFO] WebRTCWindowSystem: HTTP handshake server disabled.\n"
     ]
    }
   ],
   "source": [
    "import open3d\n",
    "mesh=open3d.io.read_triangle_mesh(\"./airplane.ply\")"
   ]
  },
  {
   "cell_type": "code",
   "execution_count": 1,
   "metadata": {},
   "outputs": [
    {
     "name": "stdout",
     "output_type": "stream",
     "text": [
      "click http://172.22.240.54:8000/view/bd25e9f4-6a36-11ec-9f68-bfde76e5aa65 to view in browser\n"
     ]
    },
    {
     "ename": "NameError",
     "evalue": "name 'mesh' is not defined",
     "output_type": "error",
     "traceback": [
      "\u001b[0;31m---------------------------------------------------------------------------\u001b[0m",
      "\u001b[0;31mNameError\u001b[0m                                 Traceback (most recent call last)",
      "\u001b[0;32m<ipython-input-1-1c2fbb6cf7b0>\u001b[0m in \u001b[0;36m<module>\u001b[0;34m\u001b[0m\n\u001b[1;32m      1\u001b[0m \u001b[0;32mfrom\u001b[0m \u001b[0mpy3d\u001b[0m \u001b[0;32mimport\u001b[0m \u001b[0mVector3\u001b[0m\u001b[0;34m,\u001b[0m\u001b[0mSpace\u001b[0m\u001b[0;34m\u001b[0m\u001b[0;34m\u001b[0m\u001b[0m\n\u001b[1;32m      2\u001b[0m \u001b[0ms\u001b[0m\u001b[0;34m=\u001b[0m\u001b[0mSpace\u001b[0m\u001b[0;34m(\u001b[0m\u001b[0;34m)\u001b[0m\u001b[0;34m\u001b[0m\u001b[0;34m\u001b[0m\u001b[0m\n\u001b[0;32m----> 3\u001b[0;31m \u001b[0mvertices\u001b[0m\u001b[0;34m=\u001b[0m\u001b[0mVector3\u001b[0m\u001b[0;34m(\u001b[0m\u001b[0mmesh\u001b[0m\u001b[0;34m.\u001b[0m\u001b[0mvertices\u001b[0m\u001b[0;34m)\u001b[0m\u001b[0;34m*\u001b[0m\u001b[0;36m1e-2\u001b[0m\u001b[0;34m\u001b[0m\u001b[0;34m\u001b[0m\u001b[0m\n\u001b[0m\u001b[1;32m      4\u001b[0m \u001b[0mvertices\u001b[0m\u001b[0;34m.\u001b[0m\u001b[0mas_point\u001b[0m\u001b[0;34m(\u001b[0m\u001b[0;34m)\u001b[0m\u001b[0;34m.\u001b[0m\u001b[0mrender\u001b[0m\u001b[0;34m(\u001b[0m\u001b[0ms\u001b[0m\u001b[0;34m)\u001b[0m\u001b[0;34m\u001b[0m\u001b[0;34m\u001b[0m\u001b[0m\n",
      "\u001b[0;31mNameError\u001b[0m: name 'mesh' is not defined"
     ]
    }
   ],
   "source": [
    "from py3d import Vector3,Space\n",
    "s=Space()\n",
    "vertices=Vector3(mesh.vertices)*1e-2\n",
    "vertices.as_point().render(s)"
   ]
  },
  {
   "cell_type": "code",
   "execution_count": 3,
   "metadata": {},
   "outputs": [
    {
     "name": "stderr",
     "output_type": "stream",
     "text": [
      "/mnt/d/codes/scenario/py3d/py3d/core.py:182: RuntimeWarning: overflow encountered in multiply\n",
      "  product = self * v\n",
      "/home/tumiz/.local/lib/python3.8/site-packages/numpy/linalg/linalg.py:2560: RuntimeWarning: overflow encountered in multiply\n",
      "  s = (x.conj() * x).real\n",
      "/mnt/d/codes/scenario/py3d/py3d/core.py:230: RuntimeWarning: invalid value encountered in true_divide\n",
      "  return self.dot(v) / v.norm()\n"
     ]
    }
   ],
   "source": [
    "from py3d import Plane,Vector3\n",
    "plane=Plane(position=Vector3(x=[1,2,3,4]),normal=Vector3(x=2,y=1,z=1))\n",
    "projection=vertices.projection_on_plane(plane)\n",
    "projection.as_point().render(s)"
   ]
  },
  {
   "cell_type": "code",
   "execution_count": 4,
   "metadata": {},
   "outputs": [
    {
     "data": {
      "text/plain": [
       "Plane([[[4.67509035e-310, 0.00000000e+000, 1.34879921e-321,\n",
       "                     nan, 6.94715900e-310, 0.00000000e+000,\n",
       "         2.30169887e+161, 8.19690678e+247, 6.03135052e-154,\n",
       "         3.53367504e+246]],\n",
       "\n",
       "       [[1.58986037e-028, 4.91347426e+252, 1.05016303e-153,\n",
       "         1.36722761e+161, 1.33629944e-152, 1.10350949e+161,\n",
       "         7.90322507e-114, 6.78586041e+212, 1.15487322e+171,\n",
       "         3.53367837e+246]],\n",
       "\n",
       "       [[3.94655078e+180, 5.37625007e+241, 4.96040490e+180,\n",
       "         7.07898685e+170, 1.56946007e+248, 3.53384573e+246,\n",
       "         9.14984980e+199, 2.85791225e-109, 1.93298205e+233,\n",
       "         2.04734643e+190]],\n",
       "\n",
       "       [[7.89994781e-114, 6.78586041e+212, 1.15487322e+171,\n",
       "         4.46012915e+217, 1.14051686e-119, 5.98157061e-154,\n",
       "         1.06758000e+224, 9.48694626e+170, 8.02377942e-095,\n",
       "         1.42853560e+248]]])"
      ]
     },
     "execution_count": 4,
     "metadata": {},
     "output_type": "execute_result"
    }
   ],
   "source": [
    "plane"
   ]
  },
  {
   "cell_type": "code",
   "execution_count": 19,
   "metadata": {},
   "outputs": [
    {
     "data": {
      "text/plain": [
       "array([0.44419983, 0.54038262])"
      ]
     },
     "execution_count": 19,
     "metadata": {},
     "output_type": "execute_result"
    },
    {
     "name": "stderr",
     "output_type": "stream",
     "text": [
      "INFO - 2021-11-28 01:26:35,541 - autoreload - /mnt/d/codes/scenario/py3d/py3d/core.py modified; restarting server\n"
     ]
    }
   ],
   "source": [
    "a"
   ]
  },
  {
   "cell_type": "code",
   "execution_count": 5,
   "metadata": {},
   "outputs": [
    {
     "name": "stdout",
     "output_type": "stream",
     "text": [
      "(3, (1, 2)) None\n"
     ]
    }
   ],
   "source": []
  },
  {
   "cell_type": "code",
   "execution_count": null,
   "metadata": {},
   "outputs": [],
   "source": []
  }
 ],
 "metadata": {
  "kernelspec": {
   "display_name": "Python 3",
   "language": "python",
   "name": "python3"
  },
  "language_info": {
   "codemirror_mode": {
    "name": "ipython",
    "version": 3
   },
   "file_extension": ".py",
   "mimetype": "text/x-python",
   "name": "python",
   "nbconvert_exporter": "python",
   "pygments_lexer": "ipython3",
   "version": "3.8.3"
  }
 },
 "nbformat": 4,
 "nbformat_minor": 4
}
