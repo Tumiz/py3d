{
 "cells": [
  {
   "cell_type": "code",
   "execution_count": 3,
   "metadata": {},
   "outputs": [
    {
     "name": "stdout",
     "output_type": "stream",
     "text": [
      "click http://127.0.0.1:8000/view/c or http://172.28.153.240:8000/view/c to view in browser\n"
     ]
    },
    {
     "data": {
      "text/html": [
       "\n",
       "        <iframe\n",
       "            width=\"100%\"\n",
       "            height=\"600px\"\n",
       "            src=\"http://127.0.0.1:8000/view/c\"\n",
       "            frameborder=\"0\"\n",
       "            allowfullscreen\n",
       "            \n",
       "        ></iframe>\n",
       "        "
      ],
      "text/plain": [
       "<IPython.lib.display.IFrame at 0x7fdbff206610>"
      ]
     },
     "metadata": {},
     "output_type": "display_data"
    }
   ],
   "source": [
    "from py3d import Cube,Vector3,Color,Space\n",
    "c=Cube(2)\n",
    "s=Space(\"c\", online=True)\n",
    "c[0].color=Color(b=0.5,g=0.3)\n",
    "c[1].color=Color(r=1)\n",
    "c[0].transform.translation=Vector3(0,0,0.53)\n",
    "c[1].transform.translation=Vector3(20,-3,0.85)\n",
    "c.transform.scaling=Vector3([[2.075,0.78,1.06],[0.8,0.3,1.7]])\n",
    "from time import sleep\n",
    "t=0\n",
    "dt=0.1\n",
    "while t<2:\n",
    "    c.transform[0].translation+=Vector3(x=6)*dt\n",
    "    c.transform[1].translation+=Vector3(y=1)*dt\n",
    "    c.render(s)\n",
    "    sleep(dt)\n",
    "    t+=dt\n",
    "s.save(\"eg1.html\")"
   ]
  },
  {
   "cell_type": "code",
   "execution_count": 2,
   "metadata": {},
   "outputs": [],
   "source": []
  },
  {
   "cell_type": "code",
   "execution_count": 2,
   "metadata": {},
   "outputs": [
    {
     "name": "stdout",
     "output_type": "stream",
     "text": [
      "click http://127.0.0.1:8000/view/15cf7914-7868-11ec-87cb-ed4aab379a75 or http://172.28.153.240:8000/view/15cf7914-7868-11ec-87cb-ed4aab379a75 to view in browser\n"
     ]
    },
    {
     "data": {
      "text/html": [
       "\n",
       "        <iframe\n",
       "            width=\"100%\"\n",
       "            height=\"600px\"\n",
       "            src=\"http://127.0.0.1:8000/view/15cf7914-7868-11ec-87cb-ed4aab379a75\"\n",
       "            frameborder=\"0\"\n",
       "            allowfullscreen\n",
       "            \n",
       "        ></iframe>\n",
       "        "
      ],
      "text/plain": [
       "<IPython.lib.display.IFrame at 0x7fdc3c078820>"
      ]
     },
     "metadata": {},
     "output_type": "display_data"
    }
   ],
   "source": [
    "from py3d import Projection, Space, Color\n",
    "s=Space()\n",
    "origin=c[1].geometry.vertice.mt(c[1].transform).mt(Projection.Orthogonal(1,-1,-1,1,4,1)).as_point()\n",
    "origin.point_size=0.2\n",
    "origin.color=Color(r=1)\n",
    "origin.render(s)\n",
    "projection=c[1].geometry.vertice.mt(c[1].transform).as_point()\n",
    "projection.point_size=0.3\n",
    "projection.color=Color(g=1)\n",
    "projection.render(s)"
   ]
  },
  {
   "cell_type": "code",
   "execution_count": 12,
   "metadata": {},
   "outputs": [],
   "source": []
  },
  {
   "cell_type": "code",
   "execution_count": 3,
   "metadata": {},
   "outputs": [
    {
     "name": "stdout",
     "output_type": "stream",
     "text": [
      "click http://localhost:8000/view/139680603028608 to view in browser\n"
     ]
    },
    {
     "data": {
      "text/html": [
       "\n",
       "        <iframe\n",
       "            width=\"100%\"\n",
       "            height=\"600px\"\n",
       "            src=\"http://localhost:8000/view/139680603028608\"\n",
       "            frameborder=\"0\"\n",
       "            allowfullscreen\n",
       "            \n",
       "        ></iframe>\n",
       "        "
      ],
      "text/plain": [
       "<IPython.lib.display.IFrame at 0x7f09e92d6310>"
      ]
     },
     "metadata": {},
     "output_type": "display_data"
    }
   ],
   "source": [
    "c.geometry.vertice.mt(c.transform).as_point().render()"
   ]
  },
  {
   "cell_type": "code",
   "execution_count": 15,
   "metadata": {},
   "outputs": [
    {
     "data": {
      "text/plain": [
       "Vector3([[ 1.0375,  0.39  ,  1.06  ],\n",
       "         [-1.0375,  0.39  ,  1.06  ],\n",
       "         [ 1.0375, -0.39  ,  1.06  ],\n",
       "         [-1.0375, -0.39  ,  1.06  ],\n",
       "         [ 1.0375,  0.39  ,  0.    ],\n",
       "         [-1.0375,  0.39  ,  0.    ],\n",
       "         [ 1.0375, -0.39  ,  0.    ],\n",
       "         [-1.0375, -0.39  ,  0.    ]])"
      ]
     },
     "execution_count": 15,
     "metadata": {},
     "output_type": "execute_result"
    }
   ],
   "source": [
    "c.geometry.vertice[0].mt(c.transform[0])"
   ]
  },
  {
   "cell_type": "code",
   "execution_count": 11,
   "metadata": {},
   "outputs": [
    {
     "data": {
      "text/plain": [
       "[]"
      ]
     },
     "execution_count": 11,
     "metadata": {},
     "output_type": "execute_result"
    }
   ],
   "source": [
    "p.clients"
   ]
  },
  {
   "cell_type": "code",
   "execution_count": 6,
   "metadata": {},
   "outputs": [],
   "source": [
    "force_assgin(c[...,3:7],Color.Rand(2))"
   ]
  },
  {
   "cell_type": "code",
   "execution_count": 7,
   "metadata": {},
   "outputs": [
    {
     "data": {
      "text/plain": [
       "Color([[[4.64159155e-310, 4.94065646e-324, 4.64159155e-310,\n",
       "         4.94065646e-324],\n",
       "        [9.88131292e-324, 0.00000000e+000, 9.88131292e-324,\n",
       "         2.12199579e-314],\n",
       "        [0.00000000e+000, 4.24399158e-314, 1.27319747e-313,\n",
       "         4.94065646e-324],\n",
       "        [0.00000000e+000, 0.00000000e+000, 1.48539705e-313,\n",
       "         1.69759663e-313],\n",
       "        [4.64159155e-310, 4.64159155e-310, 4.64159155e-310,\n",
       "         4.24399158e-314],\n",
       "        [4.64159155e-310, 0.00000000e+000, 0.00000000e+000,\n",
       "         0.00000000e+000],\n",
       "        [0.00000000e+000, 0.00000000e+000, 4.94065646e-324,\n",
       "         4.64159155e-310],\n",
       "        [0.00000000e+000, 0.00000000e+000, 0.00000000e+000,\n",
       "         0.00000000e+000]],\n",
       "\n",
       "       [[0.00000000e+000, 0.00000000e+000, 0.00000000e+000,\n",
       "         0.00000000e+000],\n",
       "        [0.00000000e+000, 0.00000000e+000, 0.00000000e+000,\n",
       "         0.00000000e+000],\n",
       "        [0.00000000e+000, 0.00000000e+000, 0.00000000e+000,\n",
       "         0.00000000e+000],\n",
       "        [0.00000000e+000, 0.00000000e+000, 0.00000000e+000,\n",
       "         0.00000000e+000],\n",
       "        [0.00000000e+000, 0.00000000e+000, 0.00000000e+000,\n",
       "         0.00000000e+000],\n",
       "        [0.00000000e+000, 0.00000000e+000, 0.00000000e+000,\n",
       "         0.00000000e+000],\n",
       "        [0.00000000e+000, 0.00000000e+000, 0.00000000e+000,\n",
       "         0.00000000e+000],\n",
       "        [0.00000000e+000, 0.00000000e+000, 0.00000000e+000,\n",
       "         0.00000000e+000]]])"
      ]
     },
     "execution_count": 7,
     "metadata": {},
     "output_type": "execute_result"
    }
   ],
   "source": [
    "c.color"
   ]
  },
  {
   "cell_type": "code",
   "execution_count": 27,
   "metadata": {},
   "outputs": [
    {
     "ename": "ValueError",
     "evalue": "could not broadcast input array from shape (2,4) into shape (2,8,4)",
     "output_type": "error",
     "traceback": [
      "\u001b[0;31m---------------------------------------------------------------------------\u001b[0m",
      "\u001b[0;31mValueError\u001b[0m                                Traceback (most recent call last)",
      "\u001b[0;32m<ipython-input-27-2d3cc0ee06d2>\u001b[0m in \u001b[0;36m<module>\u001b[0;34m\u001b[0m\n\u001b[0;32m----> 1\u001b[0;31m \u001b[0mc\u001b[0m\u001b[0;34m.\u001b[0m\u001b[0mcolor\u001b[0m\u001b[0;34m[\u001b[0m\u001b[0;34m:\u001b[0m\u001b[0;34m]\u001b[0m\u001b[0;34m=\u001b[0m\u001b[0mColor\u001b[0m\u001b[0;34m.\u001b[0m\u001b[0mRand\u001b[0m\u001b[0;34m(\u001b[0m\u001b[0;36m2\u001b[0m\u001b[0;34m)\u001b[0m\u001b[0;34m\u001b[0m\u001b[0;34m\u001b[0m\u001b[0m\n\u001b[0m",
      "\u001b[0;31mValueError\u001b[0m: could not broadcast input array from shape (2,4) into shape (2,8,4)"
     ]
    }
   ],
   "source": [
    "c.colorColor.Rand(2)"
   ]
  },
  {
   "cell_type": "code",
   "execution_count": 28,
   "metadata": {},
   "outputs": [],
   "source": [
    "from py3d import force_assgin\n",
    "force_assgin(c.color, Color.Rand())"
   ]
  },
  {
   "cell_type": "code",
   "execution_count": 29,
   "metadata": {},
   "outputs": [
    {
     "data": {
      "text/plain": [
       "Color([[[0.05254738, 0.6761382 , 0.52156022, 1.        ],\n",
       "        [0.05254738, 0.6761382 , 0.52156022, 1.        ],\n",
       "        [0.05254738, 0.6761382 , 0.52156022, 1.        ],\n",
       "        [0.05254738, 0.6761382 , 0.52156022, 1.        ],\n",
       "        [0.05254738, 0.6761382 , 0.52156022, 1.        ],\n",
       "        [0.05254738, 0.6761382 , 0.52156022, 1.        ],\n",
       "        [0.05254738, 0.6761382 , 0.52156022, 1.        ],\n",
       "        [0.05254738, 0.6761382 , 0.52156022, 1.        ]],\n",
       "\n",
       "       [[0.05254738, 0.6761382 , 0.52156022, 1.        ],\n",
       "        [0.05254738, 0.6761382 , 0.52156022, 1.        ],\n",
       "        [0.05254738, 0.6761382 , 0.52156022, 1.        ],\n",
       "        [0.05254738, 0.6761382 , 0.52156022, 1.        ],\n",
       "        [0.05254738, 0.6761382 , 0.52156022, 1.        ],\n",
       "        [0.05254738, 0.6761382 , 0.52156022, 1.        ],\n",
       "        [0.05254738, 0.6761382 , 0.52156022, 1.        ],\n",
       "        [0.05254738, 0.6761382 , 0.52156022, 1.        ]]])"
      ]
     },
     "execution_count": 29,
     "metadata": {},
     "output_type": "execute_result"
    }
   ],
   "source": [
    "c.color"
   ]
  },
  {
   "cell_type": "code",
   "execution_count": null,
   "metadata": {},
   "outputs": [],
   "source": []
  }
 ],
 "metadata": {
  "kernelspec": {
   "display_name": "Python 3",
   "language": "python",
   "name": "python3"
  },
  "language_info": {
   "codemirror_mode": {
    "name": "ipython",
    "version": 3
   },
   "file_extension": ".py",
   "mimetype": "text/x-python",
   "name": "python",
   "nbconvert_exporter": "python",
   "pygments_lexer": "ipython3",
   "version": "3.8.3"
  }
 },
 "nbformat": 4,
 "nbformat_minor": 4
}
