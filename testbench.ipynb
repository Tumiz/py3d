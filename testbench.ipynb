{
 "cells": [
  {
   "cell_type": "code",
   "execution_count": 2,
   "metadata": {},
   "outputs": [],
   "source": [
    "from scenario import *\n",
    "from math import *\n",
    "cube=Cube()\n",
    "for i in range(100):\n",
    "    time.sleep(0.1)\n",
    "    cube.position=sin(i),2,cos(i)"
   ]
  },
  {
   "cell_type": "markdown",
   "metadata": {},
   "source": [
    "## transform matrix\n",
    "\n",
    "$space_{model} \\rightarrow space_{world} \\rightarrow space_{camera}$\n"
   ]
  },
  {
   "cell_type": "markdown",
   "metadata": {},
   "source": [
    "Assume there is an object in a 3d world. Its position is $(x,y,z)$ and its rotation is $(\\theta,\\beta,\\gamma)$. One corner point of the object is known, with local position $(x',y',z')$. What is the world position of this point?"
   ]
  },
  {
   "cell_type": "markdown",
   "metadata": {},
   "source": [
    "$R(\\theta)=\\left[\\begin{array}{}1&0&0\\\\0&cos\\theta&-sin\\theta\\\\0&sin\\theta&cos\\theta\\end{array}\\right]$"
   ]
  },
  {
   "cell_type": "markdown",
   "metadata": {},
   "source": [
    "$R(\\beta)=\\left[\\begin{array}{}cos\\beta&0&sin\\beta\\\\0&1&0\\\\-sin\\beta&0&cos\\beta\\end{array}\\right]$"
   ]
  },
  {
   "cell_type": "markdown",
   "metadata": {},
   "source": [
    "$R(\\gamma)=\\left[\\begin{array}{}cos\\gamma&-sin\\gamma&0\\\\sin\\gamma&cos\\gamma&0\\\\0&0&1\\end{array}\\right]$"
   ]
  },
  {
   "cell_type": "markdown",
   "metadata": {},
   "source": [
    "$R(\\theta,\\beta,\\gamma)=R(\\theta)R(\\beta)R(\\gamma)$"
   ]
  },
  {
   "cell_type": "markdown",
   "metadata": {},
   "source": []
  },
  {
   "cell_type": "markdown",
   "metadata": {},
   "source": [
    "__new__是工厂，决定__init__是否使用，可以返回任意类型的数据，不一定是本类的，lambda可以帮助对象增加方法"
   ]
  },
  {
   "cell_type": "code",
   "execution_count": 12,
   "metadata": {},
   "outputs": [
    {
     "name": "stdout",
     "output_type": "stream",
     "text": [
      "tensor([[ 1.0000,  0.0000,  0.0000],\n",
      "        [ 0.0000,  0.9950, -0.0998],\n",
      "        [ 0.0000,  0.0998,  0.9950]])\n",
      "tensor([[ 0.9363, -0.2896,  0.1987],\n",
      "        [ 0.3130,  0.9447, -0.0978],\n",
      "        [-0.1593,  0.1538,  0.9752]])\n",
      "tensor([[ 0.9992],\n",
      "        [-0.9992],\n",
      "        [ 1.0016]])\n"
     ]
    },
    {
     "data": {
      "application/vnd.jupyter.widget-view+json": {
       "model_id": "c524f4ff439b49449d67c23fa4ba13d5",
       "version_major": 2,
       "version_minor": 0
      },
      "text/plain": [
       "Canvas(toolbar=Toolbar(toolitems=[('Home', 'Reset original view', 'home', 'home'), ('Back', 'Back to previous …"
      ]
     },
     "metadata": {},
     "output_type": "display_data"
    }
   ],
   "source": [
    "import torch\n",
    "import time\n",
    "%matplotlib widget\n",
    "import matplotlib.pyplot as plt\n",
    "from mpl_toolkits.mplot3d import Axes3D\n",
    "from scenario import *\n",
    "\n",
    "trx=t_rx(0.1)\n",
    "print(trx)\n",
    "tr1=t_ry(0.2)\n",
    "trz=t_rz(0.3)\n",
    "print(t_r(Vector3(0.1,0.2,0.3)))\n",
    "p=torch.tensor([[1.],[1.],[1.]])\n",
    "p_=t_r(Vector3(1.57,1.57,1.57)).mm(p)\n",
    "print(p_)\n",
    "fig=plt.figure()\n",
    "ax = fig.add_subplot(111, projection='3d')\n",
    "ax.set_xlabel(\"x\")\n",
    "ax.set_ylabel(\"y\")\n",
    "ax.set_zlabel(\"z\")\n",
    "ax.plot([0,1],[0,1],[0,1])\n",
    "ax.plot([0,p_[0]],[0,p_[1]],[0,p_[2]])\n",
    "plt.show()"
   ]
  },
  {
   "cell_type": "code",
   "execution_count": 25,
   "metadata": {},
   "outputs": [
    {
     "data": {
      "text/plain": [
       "tensor(3.7417)"
      ]
     },
     "execution_count": 25,
     "metadata": {},
     "output_type": "execute_result"
    }
   ],
   "source": [
    "class V: \n",
    "    def __new__(cls,x=0,y=0,z=0):\n",
    "        cls.norm=pow(x,2)+pow(y,2)+pow(z,2)\n",
    "        return torch.Tensor([float(x),float(y),float(z)])\n",
    "V(1,2,3).norm()"
   ]
  },
  {
   "cell_type": "code",
   "execution_count": 96,
   "metadata": {},
   "outputs": [
    {
     "data": {
      "text/plain": [
       "[1.0, 4.0, 3.0]"
      ]
     },
     "execution_count": 96,
     "metadata": {},
     "output_type": "execute_result"
    }
   ],
   "source": [
    "import torch\n",
    "class V: \n",
    "    def __new__(cls,x,y,z):\n",
    "        obj=torch.Tensor([[x],[y],[z]])\n",
    "        obj.info=lambda :obj.view(3).tolist()\n",
    "        return obj\n",
    "\n",
    "V(1,4,3).info()"
   ]
  },
  {
   "cell_type": "code",
   "execution_count": 94,
   "metadata": {},
   "outputs": [
    {
     "data": {
      "text/plain": [
       "[1, 2, 3]"
      ]
     },
     "execution_count": 94,
     "metadata": {},
     "output_type": "execute_result"
    }
   ],
   "source": [
    "f=lambda :torch.tensor([[1],[2],[3]]).view(3).tolist()\n",
    "f()"
   ]
  },
  {
   "cell_type": "code",
   "execution_count": 95,
   "metadata": {},
   "outputs": [],
   "source": [
    "a=torch.tensor.__init__([1,2,3])"
   ]
  },
  {
   "cell_type": "code",
   "execution_count": 58,
   "metadata": {},
   "outputs": [
    {
     "name": "stdout",
     "output_type": "stream",
     "text": [
      "None\n"
     ]
    }
   ],
   "source": [
    "print(a)"
   ]
  },
  {
   "cell_type": "code",
   "execution_count": 56,
   "metadata": {},
   "outputs": [
    {
     "name": "stdout",
     "output_type": "stream",
     "text": [
      "(1.2618370655997593e-21, 1.0619299914168979e-24, 0.9998263888888889) (4.801806680334471e-22, 6.571396703901434e-21, 1.992821649693796e-22, 1.0)\n"
     ]
    },
    {
     "ename": "error",
     "evalue": "Not connected to physics server.",
     "output_type": "error",
     "traceback": [
      "\u001b[0;31m---------------------------------------------------------------------------\u001b[0m",
      "\u001b[0;31merror\u001b[0m                                     Traceback (most recent call last)",
      "\u001b[0;32m<ipython-input-56-16255511e79b>\u001b[0m in \u001b[0;36m<module>\u001b[0;34m\u001b[0m\n\u001b[1;32m     10\u001b[0m \u001b[0mboxId\u001b[0m \u001b[0;34m=\u001b[0m \u001b[0mp\u001b[0m\u001b[0;34m.\u001b[0m\u001b[0mloadURDF\u001b[0m\u001b[0;34m(\u001b[0m\u001b[0;34m\"r2d2.urdf\"\u001b[0m\u001b[0;34m,\u001b[0m\u001b[0mcubeStartPos\u001b[0m\u001b[0;34m,\u001b[0m \u001b[0mcubeStartOrientation\u001b[0m\u001b[0;34m)\u001b[0m\u001b[0;34m\u001b[0m\u001b[0;34m\u001b[0m\u001b[0m\n\u001b[1;32m     11\u001b[0m \u001b[0;32mfor\u001b[0m \u001b[0mi\u001b[0m \u001b[0;32min\u001b[0m \u001b[0mrange\u001b[0m \u001b[0;34m(\u001b[0m\u001b[0;36m10000\u001b[0m\u001b[0;34m)\u001b[0m\u001b[0;34m:\u001b[0m\u001b[0;34m\u001b[0m\u001b[0;34m\u001b[0m\u001b[0m\n\u001b[0;32m---> 12\u001b[0;31m     \u001b[0mp\u001b[0m\u001b[0;34m.\u001b[0m\u001b[0mstepSimulation\u001b[0m\u001b[0;34m(\u001b[0m\u001b[0;34m)\u001b[0m\u001b[0;34m\u001b[0m\u001b[0;34m\u001b[0m\u001b[0m\n\u001b[0m\u001b[1;32m     13\u001b[0m     \u001b[0mtime\u001b[0m\u001b[0;34m.\u001b[0m\u001b[0msleep\u001b[0m\u001b[0;34m(\u001b[0m\u001b[0;36m1.\u001b[0m\u001b[0;34m/\u001b[0m\u001b[0;36m240.\u001b[0m\u001b[0;34m)\u001b[0m\u001b[0;34m\u001b[0m\u001b[0;34m\u001b[0m\u001b[0m\n\u001b[1;32m     14\u001b[0m     \u001b[0mcubePos\u001b[0m\u001b[0;34m,\u001b[0m \u001b[0mcubeOrn\u001b[0m \u001b[0;34m=\u001b[0m \u001b[0mp\u001b[0m\u001b[0;34m.\u001b[0m\u001b[0mgetBasePositionAndOrientation\u001b[0m\u001b[0;34m(\u001b[0m\u001b[0mboxId\u001b[0m\u001b[0;34m)\u001b[0m\u001b[0;34m\u001b[0m\u001b[0;34m\u001b[0m\u001b[0m\n",
      "\u001b[0;31merror\u001b[0m: Not connected to physics server."
     ]
    }
   ],
   "source": [
    "import pybullet as p\n",
    "import time\n",
    "import pybullet_data\n",
    "physicsClient = p.connect(p.GUI)#or p.DIRECT for non-graphical version\n",
    "p.setAdditionalSearchPath(pybullet_data.getDataPath()) #optionally\n",
    "p.setGravity(0,0,-10)\n",
    "planeId = p.loadURDF(\"plane.urdf\")\n",
    "cubeStartPos = [0,0,1]\n",
    "cubeStartOrientation = p.getQuaternionFromEuler([0,0,0])\n",
    "boxId = p.loadURDF(\"r2d2.urdf\",cubeStartPos, cubeStartOrientation)\n",
    "for i in range (10000):\n",
    "    p.stepSimulation()\n",
    "    time.sleep(1./240.)\n",
    "    cubePos, cubeOrn = p.getBasePositionAndOrientation(boxId)\n",
    "    print(cubePos,cubeOrn)\n",
    "    p.disconnect()"
   ]
  },
  {
   "cell_type": "code",
   "execution_count": 49,
   "metadata": {},
   "outputs": [],
   "source": [
    "d=a.__dict__"
   ]
  },
  {
   "cell_type": "code",
   "execution_count": 50,
   "metadata": {},
   "outputs": [],
   "source": [
    "sd=str(d)"
   ]
  },
  {
   "cell_type": "code",
   "execution_count": 52,
   "metadata": {},
   "outputs": [
    {
     "data": {
      "text/plain": [
       "b\"{'a': 1, 'b': 2}\""
      ]
     },
     "execution_count": 52,
     "metadata": {},
     "output_type": "execute_result"
    }
   ],
   "source": [
    "sd.encode()"
   ]
  },
  {
   "cell_type": "code",
   "execution_count": 53,
   "metadata": {},
   "outputs": [
    {
     "ename": "AttributeError",
     "evalue": "'dict' object has no attribute 'encode'",
     "output_type": "error",
     "traceback": [
      "\u001b[0;31m---------------------------------------------------------------------------\u001b[0m",
      "\u001b[0;31mAttributeError\u001b[0m                            Traceback (most recent call last)",
      "\u001b[0;32m<ipython-input-53-fa2c801521c6>\u001b[0m in \u001b[0;36m<module>\u001b[0;34m\u001b[0m\n\u001b[0;32m----> 1\u001b[0;31m \u001b[0md\u001b[0m\u001b[0;34m.\u001b[0m\u001b[0mencode\u001b[0m\u001b[0;34m(\u001b[0m\u001b[0;34m)\u001b[0m\u001b[0;34m\u001b[0m\u001b[0;34m\u001b[0m\u001b[0m\n\u001b[0m",
      "\u001b[0;31mAttributeError\u001b[0m: 'dict' object has no attribute 'encode'"
     ]
    }
   ],
   "source": [
    "d.encode()"
   ]
  },
  {
   "cell_type": "markdown",
   "metadata": {},
   "source": [
    "'GET / HTTP/1.1\\r\\nHost: localhost:52330\\r\\nConnection: Upgrade\\r\\nPragma: no-cache\\r\\nCache-Control: no-cache\\r\\nUser-Agent: Mozilla/5.0 (X11; Linux x86_64) AppleWebKit/537.36 (KHTML, like Gecko) Chrome/80.0.3987.149 Safari/537.36\\r\\nUpgrade: websocket\\r\\nOrigin: http://localhost:52331\\r\\nSec-WebSocket-Version: 13\\r\\nAccept-Encoding: gzip, deflate, br\\r\\nAccept-Language: en-US,en;q=0.9,ar;q=0.8,ko;q=0.7,zh-CN;q=0.6,zh;q=0.5\\r\\nCookie: _xsrf=2|7c2e282e|7ec57a1026b7d75e0b743d333b24f510|1583126418; _ga=GA1.1.391188927.1583550186; username-localhost-8890=\"2|1:0|10:1583946890|23:username-localhost-8890|44:ZGU4Nzc4MWQ5NWYwNDk0ZmEzZGNlMGI1YmE0ZDQzODY=|748b3b0113f82a2e91369c45fa9d3bc24a54981d09ad3cdca2b3812b1564ae1c\"; mjx.menu=explorer%3Afalse%26%3Bcollapsible%3Afalse%26%3BassistiveMML%3Afalse%26%3Bautocollapse%3Afalse%26%3Bzoom%3ANone%26%3Bzscale%3A250%25%26%3BinTabOrder%3Afalse%26%3BtexHints%3Afalse; username-localhost-8889=\"2|1:0|10:1584965296|23:username-localhost-8889|44:YzlhZGM3MzFkYTJlNDFiNGJhMWYwZjMzNGI5NjdlYzQ=|2334c2347878b4a8df"
   ]
  },
  {
   "cell_type": "code",
   "execution_count": null,
   "metadata": {},
   "outputs": [],
   "source": []
  }
 ],
 "metadata": {
  "kernelspec": {
   "display_name": "Python 3",
   "language": "python",
   "name": "python3"
  },
  "language_info": {
   "codemirror_mode": {
    "name": "ipython",
    "version": 3
   },
   "file_extension": ".py",
   "mimetype": "text/x-python",
   "name": "python",
   "nbconvert_exporter": "python",
   "pygments_lexer": "ipython3",
   "version": "3.7.4"
  }
 },
 "nbformat": 4,
 "nbformat_minor": 4
}
