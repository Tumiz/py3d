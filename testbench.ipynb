{
 "cells": [
  {
   "cell_type": "code",
   "execution_count": 1,
   "metadata": {},
   "outputs": [
    {
     "data": {
      "text/latex": [
       "$\\displaystyle \\left[\\begin{matrix}s_{x} & 0 & 0\\\\0 & s_{y} & 0\\\\0 & 0 & s_{z}\\end{matrix}\\right]$"
      ],
      "text/plain": [
       "⎡sₓ   0    0 ⎤\n",
       "⎢            ⎥\n",
       "⎢0   s_y   0 ⎥\n",
       "⎢            ⎥\n",
       "⎣0    0   s_z⎦"
      ]
     },
     "execution_count": 1,
     "metadata": {},
     "output_type": "execute_result"
    }
   ],
   "source": [
    "from sympy import *\n",
    "init_printing(use_unicode=True)\n",
    "sx = symbols('s_x')\n",
    "sy = symbols('s_y')\n",
    "sz = symbols('s_z')\n",
    "s=Matrix([\n",
    "    [sx,0,0],\n",
    "    [0,sy,0],\n",
    "    [0,0,sz]\n",
    "         ])\n",
    "s"
   ]
  },
  {
   "cell_type": "code",
   "execution_count": 13,
   "metadata": {},
   "outputs": [
    {
     "data": {
      "text/latex": [
       "$\\displaystyle \\left[\\begin{matrix}- \\sin{\\left(y \\right)} \\sin{\\left(y' \\right)} \\cos{\\left(x \\right)} + \\cos{\\left(y \\right)} \\cos{\\left(y' \\right)} & \\sin{\\left(x \\right)} \\sin{\\left(y' \\right)} & \\sin{\\left(y \\right)} \\cos{\\left(y' \\right)} + \\sin{\\left(y' \\right)} \\cos{\\left(x \\right)} \\cos{\\left(y \\right)}\\\\- \\left(- \\sin{\\left(x \\right)} \\cos{\\left(x' \\right)} - \\sin{\\left(x' \\right)} \\cos{\\left(x \\right)} \\cos{\\left(y' \\right)}\\right) \\sin{\\left(y \\right)} + \\sin{\\left(x' \\right)} \\sin{\\left(y' \\right)} \\cos{\\left(y \\right)} & - \\sin{\\left(x \\right)} \\sin{\\left(x' \\right)} \\cos{\\left(y' \\right)} + \\cos{\\left(x \\right)} \\cos{\\left(x' \\right)} & \\left(- \\sin{\\left(x \\right)} \\cos{\\left(x' \\right)} - \\sin{\\left(x' \\right)} \\cos{\\left(x \\right)} \\cos{\\left(y' \\right)}\\right) \\cos{\\left(y \\right)} + \\sin{\\left(x' \\right)} \\sin{\\left(y \\right)} \\sin{\\left(y' \\right)}\\\\- \\left(- \\sin{\\left(x \\right)} \\sin{\\left(x' \\right)} + \\cos{\\left(x \\right)} \\cos{\\left(x' \\right)} \\cos{\\left(y' \\right)}\\right) \\sin{\\left(y \\right)} - \\sin{\\left(y' \\right)} \\cos{\\left(x' \\right)} \\cos{\\left(y \\right)} & \\sin{\\left(x \\right)} \\cos{\\left(x' \\right)} \\cos{\\left(y' \\right)} + \\sin{\\left(x' \\right)} \\cos{\\left(x \\right)} & \\left(- \\sin{\\left(x \\right)} \\sin{\\left(x' \\right)} + \\cos{\\left(x \\right)} \\cos{\\left(x' \\right)} \\cos{\\left(y' \\right)}\\right) \\cos{\\left(y \\right)} - \\sin{\\left(y \\right)} \\sin{\\left(y' \\right)} \\cos{\\left(x' \\right)}\\end{matrix}\\right]$"
      ],
      "text/plain": [
       "⎡                  -sin(y)⋅sin(y')⋅cos(x) + cos(y)⋅cos(y')                    \n",
       "⎢                                                                             \n",
       "⎢-(-sin(x)⋅cos(x') - sin(x')⋅cos(x)⋅cos(y'))⋅sin(y) + sin(x')⋅sin(y')⋅cos(y)  \n",
       "⎢                                                                             \n",
       "⎣-(-sin(x)⋅sin(x') + cos(x)⋅cos(x')⋅cos(y'))⋅sin(y) - sin(y')⋅cos(x')⋅cos(y)  \n",
       "\n",
       "             sin(x)⋅sin(y')                                 sin(y)⋅cos(y') + s\n",
       "                                                                              \n",
       "-sin(x)⋅sin(x')⋅cos(y') + cos(x)⋅cos(x')  (-sin(x)⋅cos(x') - sin(x')⋅cos(x)⋅co\n",
       "                                                                              \n",
       "sin(x)⋅cos(x')⋅cos(y') + sin(x')⋅cos(x)   (-sin(x)⋅sin(x') + cos(x)⋅cos(x')⋅co\n",
       "\n",
       "in(y')⋅cos(x)⋅cos(y)                  ⎤\n",
       "                                      ⎥\n",
       "s(y'))⋅cos(y) + sin(x')⋅sin(y)⋅sin(y')⎥\n",
       "                                      ⎥\n",
       "s(y'))⋅cos(y) - sin(y)⋅sin(y')⋅cos(x')⎦"
      ]
     },
     "execution_count": 13,
     "metadata": {},
     "output_type": "execute_result"
    }
   ],
   "source": [
    "from sympy import *\n",
    "def rx(s):\n",
    "    x = symbols(s)\n",
    "    m = Matrix([[1,0,0],[0,cos(x),-sin(x)],[0,sin(x),cos(x)]])\n",
    "    return m\n",
    "def ry(s):\n",
    "    y=symbols(s)\n",
    "    m = Matrix([[cos(y),0,sin(y)],[0,1,0],[-sin(y),0,cos(y)]])\n",
    "    return m\n",
    "def rz(z):\n",
    "    z=symbols('z')\n",
    "    m = Matrix([[cos(z),-sin(z),0],[sin(z),cos(z),0],[0,0,1]])\n",
    "    return m\n",
    "rx(\"x'\")*ry(\"y'\")*rx('x')*ry('y')"
   ]
  },
  {
   "cell_type": "code",
   "execution_count": 35,
   "metadata": {},
   "outputs": [
    {
     "data": {
      "text/latex": [
       "$\\displaystyle \\left[\\begin{matrix}\\sin{\\left(y \\right)} - \\sin{\\left(z \\right)} \\cos{\\left(y \\right)} + \\cos{\\left(y \\right)} \\cos{\\left(z \\right)}\\\\- \\sin{\\left(x \\right)} \\sin{\\left(y \\right)} \\sin{\\left(z \\right)} + \\sin{\\left(x \\right)} \\sin{\\left(y \\right)} \\cos{\\left(z \\right)} - \\sin{\\left(x \\right)} \\cos{\\left(y \\right)} + \\sin{\\left(z \\right)} \\cos{\\left(x \\right)} + \\cos{\\left(x \\right)} \\cos{\\left(z \\right)}\\\\\\sin{\\left(x \\right)} \\sin{\\left(z \\right)} + \\sin{\\left(x \\right)} \\cos{\\left(z \\right)} + \\sin{\\left(y \\right)} \\sin{\\left(z \\right)} \\cos{\\left(x \\right)} - \\sin{\\left(y \\right)} \\cos{\\left(x \\right)} \\cos{\\left(z \\right)} + \\cos{\\left(x \\right)} \\cos{\\left(y \\right)}\\end{matrix}\\right]$"
      ],
      "text/plain": [
       "⎡                           sin(y) - sin(z)⋅cos(y) + cos(y)⋅cos(z)            \n",
       "⎢                                                                             \n",
       "⎢-sin(x)⋅sin(y)⋅sin(z) + sin(x)⋅sin(y)⋅cos(z) - sin(x)⋅cos(y) + sin(z)⋅cos(x) \n",
       "⎢                                                                             \n",
       "⎣sin(x)⋅sin(z) + sin(x)⋅cos(z) + sin(y)⋅sin(z)⋅cos(x) - sin(y)⋅cos(x)⋅cos(z) +\n",
       "\n",
       "               ⎤\n",
       "               ⎥\n",
       "+ cos(x)⋅cos(z)⎥\n",
       "               ⎥\n",
       " cos(x)⋅cos(y) ⎦"
      ]
     },
     "execution_count": 35,
     "metadata": {},
     "output_type": "execute_result"
    }
   ],
   "source": [
    "m=rx('x')*ry('y')*rz('z')\n",
    "m*Matrix([[1],[1],[1]])"
   ]
  },
  {
   "cell_type": "code",
   "execution_count": 34,
   "metadata": {},
   "outputs": [
    {
     "data": {
      "text/latex": [
       "$\\displaystyle \\left[\\begin{matrix}1 & 0 & 0\\\\0 & \\cos{\\left(\\Delta/x \\right)} & - \\sin{\\left(\\Delta/x \\right)}\\\\0 & \\sin{\\left(\\Delta/x \\right)} & \\cos{\\left(\\Delta/x \\right)}\\end{matrix}\\right]$"
      ],
      "text/plain": [
       "⎡1        0              0       ⎤\n",
       "⎢                                ⎥\n",
       "⎢0  cos(\\Delta/x)  -sin(\\Delta/x)⎥\n",
       "⎢                                ⎥\n",
       "⎣0  sin(\\Delta/x)  cos(\\Delta/x) ⎦"
      ]
     },
     "execution_count": 34,
     "metadata": {},
     "output_type": "execute_result"
    }
   ],
   "source": [
    "rx('\\Delta/x')"
   ]
  },
  {
   "cell_type": "code",
   "execution_count": 31,
   "metadata": {},
   "outputs": [
    {
     "data": {
      "image/png": "[encoded data removed]",
      "text/latex": [
       "$\\displaystyle - \\sin{\\left(x + x' \\right)}$"
      ],
      "text/plain": [
       "-sin(x + x')"
      ]
     },
     "execution_count": 31,
     "metadata": {},
     "output_type": "execute_result"
    }
   ],
   "source": [
    "trigsimp(-sin(x)*cos(y)-sin(y)*cos(x))"
   ]
  },
  {
   "cell_type": "code",
   "execution_count": 32,
   "metadata": {},
   "outputs": [
    {
     "data": {
      "image/png": "[encoded data removed]",
      "text/latex": [
       "$\\displaystyle \\sin{\\left(x + x' \\right)}$"
      ],
      "text/plain": [
       "sin(x + x')"
      ]
     },
     "execution_count": 32,
     "metadata": {},
     "output_type": "execute_result"
    }
   ],
   "source": [
    "trigsimp(sin(x)*cos(y)+sin(y)*cos(x))"
   ]
  },
  {
   "cell_type": "code",
   "execution_count": 19,
   "metadata": {},
   "outputs": [
    {
     "data": {
      "text/latex": [
       "$\\displaystyle \\sin{\\left(x + x' \\right)}$"
      ],
      "text/plain": [
       "sin(x + x')"
      ]
     },
     "execution_count": 19,
     "metadata": {},
     "output_type": "execute_result"
    }
   ],
   "source": [
    "apart(sin(x+y))"
   ]
  },
  {
   "cell_type": "code",
   "execution_count": 18,
   "metadata": {},
   "outputs": [
    {
     "data": {
      "text/latex": [
       "$\\displaystyle \\cos{\\left(x + x' \\right)}$"
      ],
      "text/plain": [
       "cos(x + x')"
      ]
     },
     "execution_count": 18,
     "metadata": {},
     "output_type": "execute_result"
    }
   ],
   "source": [
    "trigsimp(-sin(x)*sin(y)+cos(x)*cos(y))"
   ]
  },
  {
   "cell_type": "code",
   "execution_count": 3,
   "metadata": {},
   "outputs": [
    {
     "data": {
      "text/latex": [
       "$\\displaystyle \\left[\\begin{matrix}\\cos{\\left(y \\right)} & 0 & \\sin{\\left(y \\right)}\\\\0 & 1 & 0\\\\- \\sin{\\left(y \\right)} & 0 & \\cos{\\left(y \\right)}\\end{matrix}\\right]$"
      ],
      "text/plain": [
       "⎡cos(y)   0  sin(y)⎤\n",
       "⎢                  ⎥\n",
       "⎢   0     1    0   ⎥\n",
       "⎢                  ⎥\n",
       "⎣-sin(y)  0  cos(y)⎦"
      ]
     },
     "execution_count": 3,
     "metadata": {},
     "output_type": "execute_result"
    }
   ],
   "source": [
    "y=symbols('y')\n",
    "ry = Matrix([[cos(y),0,sin(y)],[0,1,0],[-sin(y),0,cos(y)]])\n",
    "ry"
   ]
  },
  {
   "cell_type": "code",
   "execution_count": 37,
   "metadata": {},
   "outputs": [
    {
     "data": {
      "text/plain": [
       "tornado.web.RequestHandler"
      ]
     },
     "execution_count": 37,
     "metadata": {},
     "output_type": "execute_result"
    }
   ],
   "source": [
    "import tornado.web\n",
    "\n",
    "tornado.web.RequestHandler"
   ]
  },
  {
   "cell_type": "code",
   "execution_count": 38,
   "metadata": {},
   "outputs": [
    {
     "data": {
      "text/latex": [
       "$\\displaystyle \\left[\\begin{matrix}\\cos{\\left(z \\right)} & - \\sin{\\left(z \\right)} & 0\\\\\\sin{\\left(z \\right)} & \\cos{\\left(z \\right)} & 0\\\\0 & 0 & 1\\end{matrix}\\right]$"
      ],
      "text/plain": [
       "⎡cos(z)  -sin(z)  0⎤\n",
       "⎢                  ⎥\n",
       "⎢sin(z)  cos(z)   0⎥\n",
       "⎢                  ⎥\n",
       "⎣  0        0     1⎦"
      ]
     },
     "execution_count": 38,
     "metadata": {},
     "output_type": "execute_result"
    }
   ],
   "source": [
    "z=symbols('z')\n",
    "rz = Matrix([[cos(z),-sin(z),0],[sin(z),cos(z),0],[0,0,1]])\n",
    "rz"
   ]
  },
  {
   "cell_type": "code",
   "execution_count": 6,
   "metadata": {},
   "outputs": [
    {
     "data": {
      "text/plain": [
       "<function __main__.rx(s)>"
      ]
     },
     "execution_count": 6,
     "metadata": {},
     "output_type": "execute_result"
    }
   ],
   "source": [
    "rx"
   ]
  },
  {
   "cell_type": "code",
   "execution_count": 9,
   "metadata": {},
   "outputs": [
    {
     "data": {
      "text/latex": [
       "$\\displaystyle \\left[\\begin{matrix}\\cos{\\left(y \\right)} \\cos{\\left(z \\right)} & - \\sin{\\left(z \\right)} \\cos{\\left(y \\right)} & \\sin{\\left(y \\right)}\\\\\\sin{\\left(x \\right)} \\sin{\\left(y \\right)} \\cos{\\left(z \\right)} + \\sin{\\left(z \\right)} \\cos{\\left(x \\right)} & - \\sin{\\left(x \\right)} \\sin{\\left(y \\right)} \\sin{\\left(z \\right)} + \\cos{\\left(x \\right)} \\cos{\\left(z \\right)} & - \\sin{\\left(x \\right)} \\cos{\\left(y \\right)}\\\\\\sin{\\left(x \\right)} \\sin{\\left(z \\right)} - \\sin{\\left(y \\right)} \\cos{\\left(x \\right)} \\cos{\\left(z \\right)} & \\sin{\\left(x \\right)} \\cos{\\left(z \\right)} + \\sin{\\left(y \\right)} \\sin{\\left(z \\right)} \\cos{\\left(x \\right)} & \\cos{\\left(x \\right)} \\cos{\\left(y \\right)}\\end{matrix}\\right]$"
      ],
      "text/plain": [
       "⎡           cos(y)⋅cos(z)                         -sin(z)⋅cos(y)              \n",
       "⎢                                                                             \n",
       "⎢sin(x)⋅sin(y)⋅cos(z) + sin(z)⋅cos(x)  -sin(x)⋅sin(y)⋅sin(z) + cos(x)⋅cos(z)  \n",
       "⎢                                                                             \n",
       "⎣sin(x)⋅sin(z) - sin(y)⋅cos(x)⋅cos(z)  sin(x)⋅cos(z) + sin(y)⋅sin(z)⋅cos(x)   \n",
       "\n",
       "    sin(y)    ⎤\n",
       "              ⎥\n",
       "-sin(x)⋅cos(y)⎥\n",
       "              ⎥\n",
       "cos(x)⋅cos(y) ⎦"
      ]
     },
     "execution_count": 9,
     "metadata": {},
     "output_type": "execute_result"
    }
   ],
   "source": [
    "rx('x')*ry*rz"
   ]
  },
  {
   "cell_type": "code",
   "execution_count": 8,
   "metadata": {},
   "outputs": [
    {
     "data": {
      "text/latex": [
       "$\\displaystyle \\left[\\begin{matrix}\\frac{a e \\left(\\left(a e - b d\\right) \\left(a j - c g\\right) - \\left(a f - c d\\right) \\left(a i - b g\\right)\\right) - \\left(- b \\left(a f - c d\\right) + c \\left(a e - b d\\right)\\right) \\left(d \\left(a i - b g\\right) - g \\left(a e - b d\\right)\\right)}{a \\left(a e - b d\\right) \\left(\\left(a e - b d\\right) \\left(a j - c g\\right) - \\left(a f - c d\\right) \\left(a i - b g\\right)\\right)} & \\frac{- a b \\left(\\left(a e - b d\\right) \\left(a j - c g\\right) - \\left(a f - c d\\right) \\left(a i - b g\\right)\\right) + a \\left(a i - b g\\right) \\left(- b \\left(a f - c d\\right) + c \\left(a e - b d\\right)\\right)}{a \\left(a e - b d\\right) \\left(\\left(a e - b d\\right) \\left(a j - c g\\right) - \\left(a f - c d\\right) \\left(a i - b g\\right)\\right)} & - \\frac{- b \\left(a f - c d\\right) + c \\left(a e - b d\\right)}{\\left(a e - b d\\right) \\left(a j - c g\\right) - \\left(a f - c d\\right) \\left(a i - b g\\right)}\\\\\\frac{- d \\left(\\left(a e - b d\\right) \\left(a j - c g\\right) - \\left(a f - c d\\right) \\left(a i - b g\\right)\\right) - \\left(a f - c d\\right) \\left(d \\left(a i - b g\\right) - g \\left(a e - b d\\right)\\right)}{\\left(a e - b d\\right) \\left(\\left(a e - b d\\right) \\left(a j - c g\\right) - \\left(a f - c d\\right) \\left(a i - b g\\right)\\right)} & \\frac{a \\left(a f - c d\\right) \\left(a i - b g\\right) + a \\left(\\left(a e - b d\\right) \\left(a j - c g\\right) - \\left(a f - c d\\right) \\left(a i - b g\\right)\\right)}{\\left(a e - b d\\right) \\left(\\left(a e - b d\\right) \\left(a j - c g\\right) - \\left(a f - c d\\right) \\left(a i - b g\\right)\\right)} & - \\frac{a \\left(a f - c d\\right)}{\\left(a e - b d\\right) \\left(a j - c g\\right) - \\left(a f - c d\\right) \\left(a i - b g\\right)}\\\\\\frac{d \\left(a i - b g\\right) - g \\left(a e - b d\\right)}{\\left(a e - b d\\right) \\left(a j - c g\\right) - \\left(a f - c d\\right) \\left(a i - b g\\right)} & - \\frac{a \\left(a i - b g\\right)}{\\left(a e - b d\\right) \\left(a j - c g\\right) - \\left(a f - c d\\right) \\left(a i - b g\\right)} & \\frac{a \\left(a e - b d\\right)}{\\left(a e - b d\\right) \\left(a j - c g\\right) - \\left(a f - c d\\right) \\left(a i - b g\\right)}\\end{matrix}\\right]$"
      ],
      "text/plain": [
       "⎡a⋅e⋅((a⋅e - b⋅d)⋅(a⋅j - c⋅g) - (a⋅f - c⋅d)⋅(a⋅i - b⋅g)) - (-b⋅(a⋅f - c⋅d) + c\n",
       "⎢─────────────────────────────────────────────────────────────────────────────\n",
       "⎢                            a⋅(a⋅e - b⋅d)⋅((a⋅e - b⋅d)⋅(a⋅j - c⋅g) - (a⋅f - c\n",
       "⎢                                                                             \n",
       "⎢           -d⋅((a⋅e - b⋅d)⋅(a⋅j - c⋅g) - (a⋅f - c⋅d)⋅(a⋅i - b⋅g)) - (a⋅f - c⋅\n",
       "⎢           ──────────────────────────────────────────────────────────────────\n",
       "⎢                             (a⋅e - b⋅d)⋅((a⋅e - b⋅d)⋅(a⋅j - c⋅g) - (a⋅f - c⋅\n",
       "⎢                                                                             \n",
       "⎢                                              d⋅(a⋅i - b⋅g) - g⋅(a⋅e - b⋅d)  \n",
       "⎢                                    ─────────────────────────────────────────\n",
       "⎣                                    (a⋅e - b⋅d)⋅(a⋅j - c⋅g) - (a⋅f - c⋅d)⋅(a⋅\n",
       "\n",
       "⋅(a⋅e - b⋅d))⋅(d⋅(a⋅i - b⋅g) - g⋅(a⋅e - b⋅d))  -a⋅b⋅((a⋅e - b⋅d)⋅(a⋅j - c⋅g) -\n",
       "─────────────────────────────────────────────  ───────────────────────────────\n",
       "⋅d)⋅(a⋅i - b⋅g))                                                   a⋅(a⋅e - b⋅\n",
       "                                                                              \n",
       "d)⋅(d⋅(a⋅i - b⋅g) - g⋅(a⋅e - b⋅d))                         a⋅(a⋅f - c⋅d)⋅(a⋅i \n",
       "──────────────────────────────────                         ───────────────────\n",
       "d)⋅(a⋅i - b⋅g))                                                     (a⋅e - b⋅d\n",
       "                                                                              \n",
       "                                                                              \n",
       "────────                                                                   ───\n",
       "i - b⋅g)                                                                   (a⋅\n",
       "\n",
       " (a⋅f - c⋅d)⋅(a⋅i - b⋅g)) + a⋅(a⋅i - b⋅g)⋅(-b⋅(a⋅f - c⋅d) + c⋅(a⋅e - b⋅d))    \n",
       "──────────────────────────────────────────────────────────────────────────  ──\n",
       "d)⋅((a⋅e - b⋅d)⋅(a⋅j - c⋅g) - (a⋅f - c⋅d)⋅(a⋅i - b⋅g))                      (a\n",
       "                                                                              \n",
       "- b⋅g) + a⋅((a⋅e - b⋅d)⋅(a⋅j - c⋅g) - (a⋅f - c⋅d)⋅(a⋅i - b⋅g))                \n",
       "──────────────────────────────────────────────────────────────              ──\n",
       ")⋅((a⋅e - b⋅d)⋅(a⋅j - c⋅g) - (a⋅f - c⋅d)⋅(a⋅i - b⋅g))                       (a\n",
       "                                                                              \n",
       "              -a⋅(a⋅i - b⋅g)                                                  \n",
       "──────────────────────────────────────────────                              ──\n",
       "e - b⋅d)⋅(a⋅j - c⋅g) - (a⋅f - c⋅d)⋅(a⋅i - b⋅g)                              (a\n",
       "\n",
       "      -(-b⋅(a⋅f - c⋅d) + c⋅(a⋅e - b⋅d))        ⎤\n",
       "───────────────────────────────────────────────⎥\n",
       "⋅e - b⋅d)⋅(a⋅j - c⋅g) - (a⋅f - c⋅d)⋅(a⋅i - b⋅g)⎥\n",
       "                                               ⎥\n",
       "               -a⋅(a⋅f - c⋅d)                  ⎥\n",
       "───────────────────────────────────────────────⎥\n",
       "⋅e - b⋅d)⋅(a⋅j - c⋅g) - (a⋅f - c⋅d)⋅(a⋅i - b⋅g)⎥\n",
       "                                               ⎥\n",
       "                a⋅(a⋅e - b⋅d)                  ⎥\n",
       "───────────────────────────────────────────────⎥\n",
       "⋅e - b⋅d)⋅(a⋅j - c⋅g) - (a⋅f - c⋅d)⋅(a⋅i - b⋅g)⎦"
      ]
     },
     "execution_count": 8,
     "metadata": {},
     "output_type": "execute_result"
    }
   ],
   "source": [
    "a=symbols('a')\n",
    "b=symbols('b')\n",
    "c=symbols('c')\n",
    "d=symbols('d')\n",
    "e=symbols('e')\n",
    "f=symbols('f')\n",
    "g=symbols('g')\n",
    "h=symbols('h')\n",
    "i=symbols('i')\n",
    "j=symbols('j')\n",
    "t=Matrix([\n",
    "    [a,b,c],\n",
    "    [d,e,f],\n",
    "    [g,i,j]\n",
    "])\n",
    "t**-1"
   ]
  },
  {
   "cell_type": "code",
   "execution_count": null,
   "metadata": {},
   "outputs": [],
   "source": [
    "v=Matrix([x,y,z])\n",
    "v**-1"
   ]
  },
  {
   "cell_type": "code",
   "execution_count": null,
   "metadata": {},
   "outputs": [],
   "source": [
    "right=rx*ry*rz*v\n",
    "left=v.T*rz*ry*rx\n",
    "right,left"
   ]
  },
  {
   "cell_type": "markdown",
   "metadata": {},
   "source": [
    "## transform matrix\n",
    "\n",
    "$space_{model} \\rightarrow space_{world} \\rightarrow space_{camera}$\n"
   ]
  },
  {
   "cell_type": "markdown",
   "metadata": {},
   "source": [
    "Assume there is an object in a 3d world. Its position is $(x,y,z)$ and its rotation is $(\\theta,\\beta,\\gamma)$. One corner point of the object is known, with local position $(x',y',z')$. What is the world position of this point?"
   ]
  },
  {
   "cell_type": "markdown",
   "metadata": {},
   "source": [
    "$R(\\theta)=\\left[\\begin{array}{}1&0&0\\\\0&cos\\theta&-sin\\theta\\\\0&sin\\theta&cos\\theta\\end{array}\\right]$"
   ]
  },
  {
   "cell_type": "markdown",
   "metadata": {},
   "source": [
    "$R(\\beta)=\\left[\\begin{array}{}cos\\beta&0&sin\\beta\\\\0&1&0\\\\-sin\\beta&0&cos\\beta\\end{array}\\right]$"
   ]
  },
  {
   "cell_type": "markdown",
   "metadata": {},
   "source": [
    "$R(\\gamma)=\\left[\\begin{array}{}cos\\gamma&-sin\\gamma&0\\\\sin\\gamma&cos\\gamma&0\\\\0&0&1\\end{array}\\right]$"
   ]
  },
  {
   "cell_type": "markdown",
   "metadata": {},
   "source": [
    "$R(\\theta,\\beta,\\gamma)=R(\\theta)R(\\beta)R(\\gamma)$"
   ]
  },
  {
   "cell_type": "markdown",
   "metadata": {},
   "source": [
    "Local angular velocity $(w_x,w_y,w_z)$ is angular gradient around 3 axies of body frame. "
   ]
  },
  {
   "cell_type": "markdown",
   "metadata": {},
   "source": [
    "__new__是工厂，决定__init__是否使用，可以返回任意类型的数据，不一定是本类的，lambda可以帮助对象增加方法"
   ]
  },
  {
   "cell_type": "code",
   "execution_count": 141,
   "metadata": {},
   "outputs": [
    {
     "ename": "RuntimeError",
     "evalue": "bool value of Tensor with more than one value is ambiguous",
     "output_type": "error",
     "traceback": [
      "\u001b[0;31m---------------------------------------------------------------------------\u001b[0m",
      "\u001b[0;31mRuntimeError\u001b[0m                              Traceback (most recent call last)",
      "\u001b[0;32m<ipython-input-141-4f99f87775bd>\u001b[0m in \u001b[0;36m<module>\u001b[0;34m\u001b[0m\n\u001b[1;32m      1\u001b[0m \u001b[0;32mimport\u001b[0m \u001b[0mtorch\u001b[0m\u001b[0;34m\u001b[0m\u001b[0;34m\u001b[0m\u001b[0m\n\u001b[0;32m----> 2\u001b[0;31m \u001b[0;32mif\u001b[0m \u001b[0mtorch\u001b[0m\u001b[0;34m.\u001b[0m\u001b[0mtensor\u001b[0m\u001b[0;34m(\u001b[0m\u001b[0;34m[\u001b[0m\u001b[0;32mTrue\u001b[0m\u001b[0;34m,\u001b[0m\u001b[0;32mTrue\u001b[0m\u001b[0;34m]\u001b[0m\u001b[0;34m)\u001b[0m\u001b[0;34m:\u001b[0m\u001b[0;34m\u001b[0m\u001b[0;34m\u001b[0m\u001b[0m\n\u001b[0m\u001b[1;32m      3\u001b[0m     \u001b[0mprint\u001b[0m\u001b[0;34m(\u001b[0m\u001b[0;32mTrue\u001b[0m\u001b[0;34m)\u001b[0m\u001b[0;34m\u001b[0m\u001b[0;34m\u001b[0m\u001b[0m\n",
      "\u001b[0;31mRuntimeError\u001b[0m: bool value of Tensor with more than one value is ambiguous"
     ]
    }
   ],
   "source": [
    "import torch\n",
    "if torch.tensor([True,True]):\n",
    "    print(True)"
   ]
  },
  {
   "cell_type": "code",
   "execution_count": null,
   "metadata": {},
   "outputs": [],
   "source": [
    "a=torch.tensor([\n",
    "    [1,2,3,4],\n",
    "    [2,3,4,5],\n",
    "    [1,1,1,1],\n",
    "    [4,1,0,-1]])\n",
    "b=torch.tensor([\n",
    "    [0,0,1,4],\n",
    "    [9,3,-3,2],\n",
    "    [0,1,1,8],\n",
    "    [6,7,0,3]\n",
    "])\n",
    "print(a*b)\n",
    "print(a.mm(b))\n",
    "print(b.mm(a))"
   ]
  },
  {
   "cell_type": "markdown",
   "metadata": {},
   "source": [
    "$scale\\rightarrow translate$"
   ]
  },
  {
   "cell_type": "code",
   "execution_count": null,
   "metadata": {},
   "outputs": [],
   "source": [
    "from torch import tensor\n",
    "p=tensor([[1,2,3,1]])\n",
    "translate=tensor([\n",
    "    [1,0,0,0],\n",
    "    [0,1,0,0],\n",
    "    [0,0,1,0],\n",
    "    [1,1,1,1]\n",
    "])\n",
    "matrix=tensor([\n",
    "    [2,0,0,0],\n",
    "    [0,2,0,0],\n",
    "    [0,0,3,0],\n",
    "    [1,2,3,1]\n",
    "])\n",
    "def translate(x,y,z):\n",
    "    return tensor([\n",
    "    [1,0,0,0],\n",
    "    [0,1,0,0],\n",
    "    [0,0,1,0],\n",
    "    [x,y,z,1]\n",
    "])\n",
    "\n",
    "def scale(x,y,z):\n",
    "    return tensor([\n",
    "        [x,0,0,0],\n",
    "        [0,y,0,0],\n",
    "        [0,0,z,0],\n",
    "        [0,0,0,1]\n",
    "    ])\n",
    "\n",
    "print(p.mm(scale(2,2,3)).mm(translate(1,2,3)))\n",
    "print(p.mm(translate(1,2,3).mm(scale(2,2,3))))\n",
    "print(p.mm(matrix))"
   ]
  },
  {
   "cell_type": "code",
   "execution_count": null,
   "metadata": {},
   "outputs": [],
   "source": [
    "matrix=tensor([\n",
    "    [2,0,0,0],\n",
    "    [0,2,0,0],\n",
    "    [0,0,3,0],\n",
    "    [0,0,0,1]\n",
    "])\n",
    "t=tensor([\n",
    "    [0,0,2,0],\n",
    "    [0,1,0,0],\n",
    "    [0,0,9,0],\n",
    "    [0,0,0,1]\n",
    "])\n",
    "matrix.mm(t)"
   ]
  },
  {
   "cell_type": "code",
   "execution_count": null,
   "metadata": {},
   "outputs": [],
   "source": [
    "p[:,0:3]"
   ]
  },
  {
   "cell_type": "code",
   "execution_count": null,
   "metadata": {},
   "outputs": [],
   "source": [
    "print(a)"
   ]
  },
  {
   "cell_type": "code",
   "execution_count": null,
   "metadata": {},
   "outputs": [],
   "source": [
    "import pybullet as p\n",
    "import time\n",
    "import pybullet_data\n",
    "physicsClient = p.connect(p.GUI)#or p.DIRECT for non-graphical version\n",
    "p.setAdditionalSearchPath(pybullet_data.getDataPath()) #optionally\n",
    "p.setGravity(0,0,-10)\n",
    "planeId = p.loadURDF(\"plane.urdf\")\n",
    "cubeStartPos = [0,0,1]\n",
    "cubeStartOrientation = p.getQuaternionFromEuler([0,0,0])\n",
    "boxId = p.loadURDF(\"r2d2.urdf\",cubeStartPos, cubeStartOrientation)\n",
    "for i in range (10000):\n",
    "    p.stepSimulation()\n",
    "    time.sleep(1./240.)\n",
    "    cubePos, cubeOrn = p.getBasePositionAndOrientation(boxId)\n",
    "    print(cubePos,cubeOrn)\n",
    "    p.disconnect()"
   ]
  },
  {
   "cell_type": "code",
   "execution_count": null,
   "metadata": {},
   "outputs": [],
   "source": [
    "a=\"abcd\"\n",
    "for i in a:\n",
    "    print(i)\n"
   ]
  },
  {
   "cell_type": "code",
   "execution_count": null,
   "metadata": {},
   "outputs": [],
   "source": [
    "def proc(s):\n",
    "    tmp=[]\n",
    "    ret=\"\"\n",
    "    for c in s:\n",
    "        if c not in tmp:\n",
    "            tmp.append(c)\n",
    "        else:\n",
    "            index=tmp.index(c)\n",
    "            tmp=tmp[index+1:]\n",
    "            tmp.append(c)\n",
    "        if len(ret)<len(tmp):\n",
    "            ret=\"\".join(tmp)\n",
    "    return ret"
   ]
  },
  {
   "cell_type": "code",
   "execution_count": null,
   "metadata": {},
   "outputs": [],
   "source": [
    "proc(\"213abbacddf\")"
   ]
  },
  {
   "cell_type": "code",
   "execution_count": 72,
   "metadata": {},
   "outputs": [],
   "source": [
    "def proc(s):\n",
    "    tmp=[]\n",
    "    l=len(s)\n",
    "    for i in range(1,l-1):\n",
    "        p,n=i-1,i+1\n",
    "        print('i:',i)\n",
    "        while True:\n",
    "            print(p,n)\n",
    "            if s[p] is s[n]:\n",
    "                p=p-1\n",
    "                n=n+1\n",
    "            elif s[p] is s[i]:\n",
    "                p=p-1\n",
    "                n=n\n",
    "            elif s[n] is s[i]:\n",
    "                p=p\n",
    "                n=n+1\n",
    "            else:\n",
    "                break\n",
    "            if p<0 or n>l-1:\n",
    "                break\n",
    "        if len(tmp)<n-p:\n",
    "            tmp=s[p+1:n]\n",
    "    return tmp"
   ]
  },
  {
   "cell_type": "code",
   "execution_count": 74,
   "metadata": {},
   "outputs": [
    {
     "name": "stdout",
     "output_type": "stream",
     "text": [
      "i: 1\n",
      "0 2\n",
      "i: 2\n",
      "1 3\n",
      "i: 3\n",
      "2 4\n",
      "2 5\n",
      "1 6\n",
      "0 7\n",
      "i: 4\n",
      "3 5\n",
      "2 5\n",
      "1 6\n",
      "0 7\n",
      "i: 5\n",
      "4 6\n",
      "i: 6\n",
      "5 7\n"
     ]
    },
    {
     "data": {
      "text/plain": [
       "'bcddcb'"
      ]
     },
     "execution_count": 74,
     "metadata": {},
     "output_type": "execute_result"
    }
   ],
   "source": [
    "proc('abcddcbf')"
   ]
  },
  {
   "cell_type": "code",
   "execution_count": 133,
   "metadata": {},
   "outputs": [
    {
     "name": "stdout",
     "output_type": "stream",
     "text": [
      "0123456789\n",
      "9876543210\n"
     ]
    }
   ],
   "source": [
    "class List:\n",
    "    def __init__(self):\n",
    "        self.value=None\n",
    "        self.next=None\n",
    "        \n",
    "    def add(self,data):\n",
    "        n=self\n",
    "        while n.next:\n",
    "            n=n.next\n",
    "        n.next=List()\n",
    "        n.next.value=data\n",
    "    \n",
    "    def reverse(self):\n",
    "        if self.next:\n",
    "            p=self.next\n",
    "            c=self.next.next\n",
    "            p.next=None\n",
    "            while c:\n",
    "                n=c.next\n",
    "                c.next=p\n",
    "                p=c\n",
    "                c=n\n",
    "            self.next=p\n",
    "    \n",
    "    def insert(self,data):\n",
    "        pass\n",
    "                \n",
    "    def __str__(self):\n",
    "        ret=\"\"\n",
    "        n=self\n",
    "        while n.next:\n",
    "            ret += str(n.next.value)\n",
    "            n=n.next\n",
    "        return ret\n",
    "node=List()\n",
    "for i in range(10):\n",
    "    node.add(i)\n",
    "print(node)\n",
    "node.reverse()\n",
    "print(node)\n",
    "            "
   ]
  },
  {
   "cell_type": "code",
   "execution_count": 129,
   "metadata": {},
   "outputs": [
    {
     "data": {
      "text/plain": [
       "<__main__.List at 0x7fa18f61a1d0>"
      ]
     },
     "execution_count": 129,
     "metadata": {},
     "output_type": "execute_result"
    }
   ],
   "source": [
    "node.next"
   ]
  },
  {
   "cell_type": "code",
   "execution_count": null,
   "metadata": {},
   "outputs": [],
   "source": []
  },
  {
   "cell_type": "code",
   "execution_count": null,
   "metadata": {},
   "outputs": [],
   "source": []
  }
 ],
 "metadata": {
  "kernelspec": {
   "display_name": "Python 3",
   "language": "python",
   "name": "python3"
  },
  "language_info": {
   "codemirror_mode": {
    "name": "ipython",
    "version": 3
   },
   "file_extension": ".py",
   "mimetype": "text/x-python",
   "name": "python",
   "nbconvert_exporter": "python",
   "pygments_lexer": "ipython3",
   "version": "3.7.4"
  }
 },
 "nbformat": 4,
 "nbformat_minor": 4
}
