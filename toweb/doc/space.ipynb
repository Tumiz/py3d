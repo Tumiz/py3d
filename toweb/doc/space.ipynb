{
 "cells": [
  {
   "cell_type": "code",
   "execution_count": 1,
   "metadata": {},
   "outputs": [
    {
     "name": "stdout",
     "output_type": "stream",
     "text": [
      "click http://localhost:8001/view/1f4e9852-24db-11ec-9517-ef08a8134dc5 to view in browser\n"
     ]
    },
    {
     "data": {
      "text/html": [
       "\n",
       "        <iframe\n",
       "            width=\"100%\"\n",
       "            height=\"600px\"\n",
       "            src=\"http://localhost:8001/view/1f4e9852-24db-11ec-9517-ef08a8134dc5\"\n",
       "            frameborder=\"0\"\n",
       "            allowfullscreen\n",
       "        ></iframe>\n",
       "        "
      ],
      "text/plain": [
       "<IPython.lib.display.IFrame at 0x7f93254ef4f0>"
      ]
     },
     "metadata": {},
     "output_type": "display_data"
    }
   ],
   "source": [
    "from toweb import Space,Color\n",
    "from scipy.spatial import Delaunay\n",
    "from numpy import array,vstack\n",
    "s=Space()\n",
    "vertices=array([[0.5,0.5,0.5],\n",
    "            [-0.5,0.5,0.5],\n",
    "            [0.5,-0.5,0.5],\n",
    "            [-0.5,-0.5,0.5],\n",
    "            [0.5,0.5,-0.5],\n",
    "            [-0.5,0.5,-0.5],\n",
    "            [0.5,-0.5,-0.5],\n",
    "            [-0.5,-0.5,-0.5]])\n",
    "tri_z=Delaunay(vertices[:,[0,1]])\n",
    "tri_y=Delaunay(vertices[:,[0,2]])\n",
    "tri_x=Delaunay(vertices[:,[1,2]])\n",
    "tri_vertices=vertices[vstack((tri_x.simplices,tri_y.simplices,tri_z.simplices))].flatten().tolist()\n",
    "s.render_mesh(tri_vertices,Color.Rand())"
   ]
  },
  {
   "cell_type": "code",
   "execution_count": 2,
   "metadata": {},
   "outputs": [
    {
     "name": "stdout",
     "output_type": "stream",
     "text": [
      "click http://localhost:8001/view/s to view in browser\n"
     ]
    },
    {
     "data": {
      "text/html": [
       "\n",
       "        <iframe\n",
       "            width=\"100%\"\n",
       "            height=\"600px\"\n",
       "            src=\"http://localhost:8001/view/s\"\n",
       "            frameborder=\"0\"\n",
       "            allowfullscreen\n",
       "        ></iframe>\n",
       "        "
      ],
      "text/plain": [
       "<IPython.lib.display.IFrame at 0x7f93254dda00>"
      ]
     },
     "metadata": {},
     "output_type": "display_data"
    }
   ],
   "source": [
    "from py3d import Vector3\n",
    "from toweb import Space,Color\n",
    "s=Space(\"s\")\n",
    "s.render_mesh([1,0,0,0,0,1,0,1,0],Color.Rand())"
   ]
  },
  {
   "cell_type": "code",
   "execution_count": 2,
   "metadata": {},
   "outputs": [
    {
     "name": "stdout",
     "output_type": "stream",
     "text": [
      "click http://localhost:8001/view/a8dfc842-2513-11ec-81c1-c1b29fc70d26 to view in browser\n"
     ]
    },
    {
     "data": {
      "text/html": [
       "\n",
       "        <iframe\n",
       "            width=\"100%\"\n",
       "            height=\"600px\"\n",
       "            src=\"http://localhost:8001/view/a8dfc842-2513-11ec-81c1-c1b29fc70d26\"\n",
       "            frameborder=\"0\"\n",
       "            allowfullscreen\n",
       "        ></iframe>\n",
       "        "
      ],
      "text/plain": [
       "<IPython.lib.display.IFrame at 0x7fd3c41359d0>"
      ]
     },
     "metadata": {},
     "output_type": "display_data"
    }
   ],
   "source": [
    "from toweb import Space\n",
    "s=Space()\n",
    "s.render_text(\"abc\",100,100,100,\"white\")"
   ]
  },
  {
   "cell_type": "code",
   "execution_count": null,
   "metadata": {},
   "outputs": [],
   "source": []
  }
 ],
 "metadata": {
  "interpreter": {
   "hash": "f977ab77590a1a82c6ed99bad9ba7e44f59b6349cfa3ab98a372fb69dd4e7d34"
  },
  "kernelspec": {
   "display_name": "Python 3.8.3 64-bit ('base': conda)",
   "language": "python",
   "name": "python38364bitbaseconda12a7320e90d14a8ab1ae06e7922a6e0c"
  },
  "language_info": {
   "codemirror_mode": {
    "name": "ipython",
    "version": 3
   },
   "file_extension": ".py",
   "mimetype": "text/x-python",
   "name": "python",
   "nbconvert_exporter": "python",
   "pygments_lexer": "ipython3",
   "version": "3.8.3"
  }
 },
 "nbformat": 4,
 "nbformat_minor": 2
}
