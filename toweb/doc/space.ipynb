{
 "cells": [
  {
   "cell_type": "code",
   "execution_count": 1,
   "metadata": {},
   "outputs": [
    {
     "name": "stdout",
     "output_type": "stream",
     "text": [
      "click http://localhost:8001/view/1f4e9852-24db-11ec-9517-ef08a8134dc5 to view in browser\n"
     ]
    },
    {
     "data": {
      "text/html": [
       "\n",
       "        <iframe\n",
       "            width=\"100%\"\n",
       "            height=\"600px\"\n",
       "            src=\"http://localhost:8001/view/1f4e9852-24db-11ec-9517-ef08a8134dc5\"\n",
       "            frameborder=\"0\"\n",
       "            allowfullscreen\n",
       "        ></iframe>\n",
       "        "
      ],
      "text/plain": [
       "<IPython.lib.display.IFrame at 0x7f93254ef4f0>"
      ]
     },
     "metadata": {},
     "output_type": "display_data"
    }
   ],
   "source": [
    "from toweb import Space,Color\n",
    "from scipy.spatial import Delaunay\n",
    "from numpy import array,vstack\n",
    "s=Space()\n",
    "vertices=array([[0.5,0.5,0.5],\n",
    "            [-0.5,0.5,0.5],\n",
    "            [0.5,-0.5,0.5],\n",
    "            [-0.5,-0.5,0.5],\n",
    "            [0.5,0.5,-0.5],\n",
    "            [-0.5,0.5,-0.5],\n",
    "            [0.5,-0.5,-0.5],\n",
    "            [-0.5,-0.5,-0.5]])\n",
    "tri_z=Delaunay(vertices[:,[0,1]])\n",
    "tri_y=Delaunay(vertices[:,[0,2]])\n",
    "tri_x=Delaunay(vertices[:,[1,2]])\n",
    "tri_vertices=vertices[vstack((tri_x.simplices,tri_y.simplices,tri_z.simplices))].flatten().tolist()\n",
    "s.render_mesh(tri_vertices,Color.Rand())"
   ]
  },
  {
   "cell_type": "code",
   "execution_count": 2,
   "metadata": {},
   "outputs": [
    {
     "name": "stdout",
     "output_type": "stream",
     "text": [
      "click http://localhost:8001/view/s to view in browser\n"
     ]
    },
    {
     "data": {
      "text/html": [
       "\n",
       "        <iframe\n",
       "            width=\"100%\"\n",
       "            height=\"600px\"\n",
       "            src=\"http://localhost:8001/view/s\"\n",
       "            frameborder=\"0\"\n",
       "            allowfullscreen\n",
       "        ></iframe>\n",
       "        "
      ],
      "text/plain": [
       "<IPython.lib.display.IFrame at 0x7f93254dda00>"
      ]
     },
     "metadata": {},
     "output_type": "display_data"
    }
   ],
   "source": [
    "from py3d import Vector3\n",
    "from toweb import Space,Color\n",
    "s=Space(\"s\")\n",
    "s.render_mesh([1,0,0,0,0,1,0,1,0],Color.Rand())"
   ]
  },
  {
   "cell_type": "code",
   "execution_count": 3,
   "metadata": {},
   "outputs": [
    {
     "data": {
      "text/plain": [
       "array([[0. , 0. , 0.5, 1. , 1. ],\n",
       "       [0. , 1. , 0.5, 0. , 1. ]])"
      ]
     },
     "execution_count": 3,
     "metadata": {},
     "output_type": "execute_result"
    }
   ],
   "source": [
    "import numpy as np\n",
    "u = np.array([0,0,0.5,1,1]) \n",
    "v = np.array([0,1,0.5,0,1]) \n",
    "np.array([u,v])"
   ]
  },
  {
   "cell_type": "code",
   "execution_count": 4,
   "metadata": {},
   "outputs": [
    {
     "name": "stdout",
     "output_type": "stream",
     "text": [
      "area:  34.64101615137756\n",
      "volume:  17.453559924999308\n"
     ]
    },
    {
     "name": "stderr",
     "output_type": "stream",
     "text": [
      "<ipython-input-4-4c06322c5873>:49: DeprecationWarning: scipy.rand is deprecated and will be removed in SciPy 2.0.0, use numpy.random.rand instead\n",
      "  face.set_color(mpl.colors.rgb2hex(sp.rand(3)))\n"
     ]
    },
    {
     "data": {
      "image/png": "[encoded data removed]",
      "text/plain": [
       "<Figure size 432x288 with 1 Axes>"
      ]
     },
     "metadata": {
      "needs_background": "light"
     },
     "output_type": "display_data"
    }
   ],
   "source": [
    "import matplotlib as mpl\n",
    "import matplotlib.pyplot as plt\n",
    "import mpl_toolkits.mplot3d as a3\n",
    "import numpy as np\n",
    "import scipy as sp\n",
    "from scipy import spatial as sp_spatial\n",
    "\n",
    "\n",
    "def icosahedron():\n",
    "    h = 0.5*(1+np.sqrt(5))\n",
    "    p1 = np.array([[0, 1, h], [0, 1, -h], [0, -1, h], [0, -1, -h]])\n",
    "    p2 = p1[:, [1, 2, 0]]\n",
    "    p3 = p1[:, [2, 0, 1]]\n",
    "    return np.vstack((p1, p2, p3))\n",
    "\n",
    "\n",
    "def cube():\n",
    "    points = np.array([\n",
    "        [0, 0, 0], [0, 0, 1], [0, 1, 0], [0, 1, 1],\n",
    "        [1, 0, 0], [1, 0, 1], [1, 1, 0], [1, 1, 1],\n",
    "    ])\n",
    "    return points\n",
    "\n",
    "\n",
    "points = icosahedron()\n",
    "# points = cube()\n",
    "\n",
    "hull = sp_spatial.ConvexHull(points)\n",
    "indices = hull.simplices\n",
    "faces = points[indices]\n",
    "\n",
    "print('area: ', hull.area)\n",
    "print('volume: ', hull.volume)\n",
    "\n",
    "\n",
    "fig = plt.figure()\n",
    "ax = fig.add_subplot(111, projection='3d')\n",
    "ax.dist = 30\n",
    "ax.azim = -140\n",
    "ax.set_xlim([0, 2])\n",
    "ax.set_ylim([0, 2])\n",
    "ax.set_zlim([0, 2])\n",
    "ax.set_xlabel('x')\n",
    "ax.set_ylabel('y')\n",
    "ax.set_zlabel('z')\n",
    "\n",
    "for f in faces:\n",
    "    face = a3.art3d.Poly3DCollection([f])\n",
    "    face.set_color(mpl.colors.rgb2hex(sp.rand(3)))\n",
    "    face.set_edgecolor('k')\n",
    "    face.set_alpha(0.5)\n",
    "    ax.add_collection3d(face)\n",
    "\n",
    "plt.show()"
   ]
  },
  {
   "cell_type": "code",
   "execution_count": null,
   "metadata": {},
   "outputs": [],
   "source": []
  }
 ],
 "metadata": {
  "interpreter": {
   "hash": "f977ab77590a1a82c6ed99bad9ba7e44f59b6349cfa3ab98a372fb69dd4e7d34"
  },
  "kernelspec": {
   "display_name": "Python 3.8.3 64-bit ('base': conda)",
   "language": "python",
   "name": "python38364bitbaseconda12a7320e90d14a8ab1ae06e7922a6e0c"
  },
  "language_info": {
   "codemirror_mode": {
    "name": "ipython",
    "version": 3
   },
   "file_extension": ".py",
   "mimetype": "text/x-python",
   "name": "python",
   "nbconvert_exporter": "python",
   "pygments_lexer": "ipython3",
   "version": "3.8.3"
  }
 },
 "nbformat": 4,
 "nbformat_minor": 2
}
