{
 "cells": [
  {
   "cell_type": "code",
   "execution_count": 2,
   "metadata": {},
   "outputs": [
    {
     "name": "stdout",
     "output_type": "stream",
     "text": [
      "click http://localhost:8001/view/c3416668-e12b-11eb-add7-e7f0236c235d to view in browser\n"
     ]
    },
    {
     "data": {
      "text/html": [
       "\n",
       "        <iframe\n",
       "            width=\"100%\"\n",
       "            height=\"600px\"\n",
       "            src=\"http://localhost:8001/view/c3416668-e12b-11eb-add7-e7f0236c235d\"\n",
       "            frameborder=\"0\"\n",
       "            allowfullscreen\n",
       "        ></iframe>\n",
       "        "
      ],
      "text/plain": [
       "<IPython.lib.display.IFrame at 0x7f771dff98e0>"
      ]
     },
     "metadata": {},
     "output_type": "display_data"
    },
    {
     "name": "stdout",
     "output_type": "stream",
     "text": [
      "click http://localhost:8001/view/c341f768-e12b-11eb-add7-e7f0236c235d to view in browser\n"
     ]
    },
    {
     "data": {
      "text/html": [
       "\n",
       "        <iframe\n",
       "            width=\"100%\"\n",
       "            height=\"600px\"\n",
       "            src=\"http://localhost:8001/view/c341f768-e12b-11eb-add7-e7f0236c235d\"\n",
       "            frameborder=\"0\"\n",
       "            allowfullscreen\n",
       "        ></iframe>\n",
       "        "
      ],
      "text/plain": [
       "<IPython.lib.display.IFrame at 0x7f771ce25d90>"
      ]
     },
     "metadata": {},
     "output_type": "display_data"
    }
   ],
   "source": [
    "import toweb\n",
    "log=toweb.Log()\n",
    "chart=toweb.Chart()\n",
    "for i in range(10):\n",
    "    chart.plot(i,i*i/100)\n",
    "    if i%2==0:\n",
    "        log.err(2, \"times\")\n",
    "    elif i%3==0:\n",
    "        log.warn(3, \"times\")\n",
    "    else:\n",
    "        log.info(\"normal\")"
   ]
  },
  {
   "cell_type": "code",
   "execution_count": 1,
   "metadata": {},
   "outputs": [
    {
     "name": "stdout",
     "output_type": "stream",
     "text": [
      "click http://localhost:8001/view/f500c788-e127-11eb-add7-e7f0236c235d to view in browser\n"
     ]
    },
    {
     "data": {
      "text/html": [
       "\n",
       "        <iframe\n",
       "            width=\"100%\"\n",
       "            height=\"600px\"\n",
       "            src=\"http://localhost:8001/view/f500c788-e127-11eb-add7-e7f0236c235d\"\n",
       "            frameborder=\"0\"\n",
       "            allowfullscreen\n",
       "        ></iframe>\n",
       "        "
      ],
      "text/plain": [
       "<IPython.lib.display.IFrame at 0x7f771ce25df0>"
      ]
     },
     "metadata": {},
     "output_type": "display_data"
    }
   ],
   "source": [
    "from toweb import Log\n",
    "log=Log()\n",
    "log.info(\"jskd\") \n",
    "log.info(\"Jlkjw\")"
   ]
  },
  {
   "cell_type": "code",
   "execution_count": null,
   "metadata": {},
   "outputs": [
    {
     "ename": "Error",
     "evalue": "Session cannot generate requests",
     "output_type": "error",
     "traceback": [
      "Error: Session cannot generate requests",
      "at w.executeCodeCell (/home/tumiz/.vscode-server/extensions/ms-toolsai.jupyter-2021.6.999662501/out/client/extension.js:90:328422)",
      "at w.execute (/home/tumiz/.vscode-server/extensions/ms-toolsai.jupyter-2021.6.999662501/out/client/extension.js:90:327811)",
      "at w.start (/home/tumiz/.vscode-server/extensions/ms-toolsai.jupyter-2021.6.999662501/out/client/extension.js:90:323627)",
      "at async t.CellExecutionQueue.executeQueuedCells (/home/tumiz/.vscode-server/extensions/ms-toolsai.jupyter-2021.6.999662501/out/client/extension.js:90:338053)",
      "at async t.CellExecutionQueue.start (/home/tumiz/.vscode-server/extensions/ms-toolsai.jupyter-2021.6.999662501/out/client/extension.js:90:337593)"
     ]
    }
   ],
   "source": [
    "from toweb import Page\n",
    "from py3d import Vector3\n",
    "p=Page(\"\")\n",
    "points=Vector3.Rand(2000)\n",
    "# p.render_points(points.tolist())\n",
    "p.render_arrows(Vector3.Zeros(2000).tolist(),points.tolist())"
   ]
  },
  {
   "cell_type": "code",
   "execution_count": null,
   "metadata": {},
   "outputs": [],
   "source": []
  }
 ],
 "metadata": {
  "interpreter": {
   "hash": "f977ab77590a1a82c6ed99bad9ba7e44f59b6349cfa3ab98a372fb69dd4e7d34"
  },
  "kernelspec": {
   "display_name": "Python 3",
   "language": "python",
   "name": "python3"
  },
  "language_info": {
   "codemirror_mode": {
    "name": "ipython",
    "version": 3
   },
   "file_extension": ".py",
   "mimetype": "text/x-python",
   "name": "python",
   "nbconvert_exporter": "python",
   "pygments_lexer": "ipython3",
   "version": "3.8.3"
  }
 },
 "nbformat": 4,
 "nbformat_minor": 4
}
