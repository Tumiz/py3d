{
 "cells": [
  {
   "cell_type": "code",
   "execution_count": null,
   "metadata": {},
   "outputs": [],
   "source": [
    "import toweb\n",
    "s=toweb.Server(\"test\")"
   ]
  },
  {
   "cell_type": "code",
   "execution_count": null,
   "metadata": {},
   "outputs": [],
   "source": [
    "s.clear()\n",
    "for i in range(100):\n",
    "    s.plot(i,i*i/100)\n",
    "    if i%2==0:\n",
    "        s.err(2, \"times\")\n",
    "    elif i%3==0:\n",
    "        s.warn(3, \"times\")\n",
    "    else:\n",
    "        s.info(\"normal\")"
   ]
  }
 ],
 "metadata": {
  "interpreter": {
   "hash": "f977ab77590a1a82c6ed99bad9ba7e44f59b6349cfa3ab98a372fb69dd4e7d34"
  },
  "kernelspec": {
   "display_name": "Python 3.8.3 64-bit ('base': conda)",
   "name": "python3"
  },
  "language_info": {
   "name": "python",
   "version": ""
  }
 },
 "nbformat": 4,
 "nbformat_minor": 4
}