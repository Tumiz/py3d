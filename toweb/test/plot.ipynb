{
 "cells": [
  {
   "cell_type": "code",
   "execution_count": 1,
   "metadata": {},
   "outputs": [],
   "source": [
    "import toweb\n",
    "s=toweb.Server(\"test\")"
   ]
  },
  {
   "cell_type": "code",
   "execution_count": 8,
   "metadata": {},
   "outputs": [
    {
     "name": "stdout",
     "output_type": "stream",
     "text": [
      "Please open http://localhost:8001/view/test\n"
     ]
    },
    {
     "data": {
      "text/html": [
       "\n",
       "        <iframe\n",
       "            width=\"100%\"\n",
       "            height=\"600px\"\n",
       "            src=\"http://localhost:8001/view/test\"\n",
       "            frameborder=\"0\"\n",
       "            allowfullscreen\n",
       "        ></iframe>\n",
       "        "
      ],
      "text/plain": [
       "<IPython.lib.display.IFrame at 0x7f69301fc130>"
      ]
     },
     "metadata": {},
     "output_type": "display_data"
    }
   ],
   "source": [
    "s.clear()\n",
    "for i in range(100):\n",
    "    s.plot(i,i*i/100)\n",
    "    if i%2==0:\n",
    "        s.err(\"2 times\")\n",
    "    elif i%3==0:\n",
    "        s.warn(\"3 times\")\n",
    "    else:\n",
    "        s.info(\"normal\")"
   ]
  }
 ],
 "metadata": {
  "interpreter": {
   "hash": "f977ab77590a1a82c6ed99bad9ba7e44f59b6349cfa3ab98a372fb69dd4e7d34"
  },
  "kernelspec": {
   "display_name": "Python 3.8.3 64-bit ('base': conda)",
   "name": "python3"
  },
  "language_info": {
   "codemirror_mode": {
    "name": "ipython",
    "version": 3
   },
   "file_extension": ".py",
   "mimetype": "text/x-python",
   "name": "python",
   "nbconvert_exporter": "python",
   "pygments_lexer": "ipython3",
   "version": "3.8.3"
  }
 },
 "nbformat": 4,
 "nbformat_minor": 4
}